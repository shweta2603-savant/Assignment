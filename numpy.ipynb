{
  "nbformat": 4,
  "nbformat_minor": 0,
  "metadata": {
    "colab": {
      "provenance": []
    },
    "kernelspec": {
      "name": "python3",
      "display_name": "Python 3"
    },
    "language_info": {
      "name": "python"
    }
  },
  "cells": [
    {
      "cell_type": "markdown",
      "source": [
        "                                                          **Theoretical Quetions**"
      ],
      "metadata": {
        "id": "FONl599coo2y"
      }
    },
    {
      "cell_type": "markdown",
      "source": [
        "Q 1.Explain the purpose and disadvantages of NumPy in scientific computing and data analysis.How does it enhance Python's capabilities for numerical operations?\n",
        "\n",
        "Ans:-\n",
        "\n",
        "NumPy is a core library in Python for scientific computing and data analysis, offering high-performance tools for handling large arrays and matrices. It provides efficient, low-level functions for mathematical operations, enabling researchers and data scientists to perform complex numerical tasks that would be slow or cumbersome with pure Python.\n",
        "\n",
        "### Purpose of NumPy in Scientific Computing and Data Analysis\n",
        "\n",
        "1. **Efficient Data Storage**: NumPy arrays (ndarrays) use contiguous memory blocks, allowing for efficient storage and retrieval of large datasets.\n",
        "2. **Vectorized Operations**: With built-in support for vectorized operations, NumPy allows for element-wise computations without explicit Python loops, significantly speeding up calculations.\n",
        "3. **Mathematical and Statistical Functions**: NumPy includes a vast array of mathematical, statistical, and algebraic functions, making it easy to perform common operations on data.\n",
        "4. **Integration with Other Libraries**: NumPy is the foundational library that underpins other scientific libraries like Pandas, SciPy, and TensorFlow, making it essential for data manipulation, statistical analysis, and machine learning.\n",
        "\n",
        "### Disadvantages of NumPy\n",
        "\n",
        "1. **Memory Usage**: NumPy’s memory management, while efficient, can still lead to high memory consumption for very large datasets, especially in multi-dimensional arrays.\n",
        "2. **Lack of Native Support for Multi-core Processing**: While some operations are fast, NumPy doesn’t natively support parallelism or multi-core processing, which can be a limitation when dealing with exceptionally large datasets.\n",
        "3. **Type Restrictions**: NumPy arrays are homogeneous (all elements must be of the same data type). While this promotes efficiency, it limits flexibility, as you can’t store mixed data types like strings and numbers in the same array.\n",
        "4. **Limited GPU Support**: NumPy operations typically run on CPU. For machine learning or tasks requiring faster computation, users may need to switch to libraries like CuPy or TensorFlow that leverage GPU acceleration.\n",
        "\n",
        "\n",
        "- **Performance Boost**: NumPy’s low-level implementation in C makes it much faster than native Python, especially for mathematical operations over large data.\n",
        "- **Linear Algebra and Random Sampling**: The library includes powerful linear algebra, Fourier transform, and random number generation tools, essential for simulations, statistical models, and more.\n",
        "- **Broadcasting**: NumPy’s broadcasting mechanism lets arrays of different shapes operate together, simplifying code and avoiding loops.\n",
        "- **Efficient Aggregations**: Operations like mean, sum, and standard deviation are optimized for performance, which is crucial in data analysis workflows.\n",
        "\n",
        "In summary, NumPy is a cornerstone for scientific computing in Python, optimizing numerical operations and expanding Python's capabilities. Despite its limitations, its integration with the broader Python data ecosystem makes it invaluable."
      ],
      "metadata": {
        "id": "qZBHEO5gpwsc"
      }
    },
    {
      "cell_type": "markdown",
      "source": [
        "Q 2.Compare and contract np.mean() and np.average() function in NumPy.When would you use one over the other?\n",
        "\n",
        "Ans:-\n",
        "\n",
        "The `np.mean()` and `np.average()` functions in NumPy both calculate the average of array elements, but they have some differences in functionality and use cases. Here’s a comparison of the two functions:\n",
        "\n",
        "### `np.mean()`\n",
        "\n",
        "- **Purpose**: Computes the arithmetic mean along the specified axis or for the entire array if no axis is specified.\n",
        "- **Parameters**:\n",
        "  - `axis`: Specifies the axis along which to compute the mean. By default, it computes the mean of all elements.\n",
        "- **Weighting**: `np.mean()` does **not** support weights; it calculates a simple mean.\n",
        "- **Return**: Returns a float (if axis is `None`) or an array with the mean values along the specified axis.\n",
        "\n",
        "### `np.average()`\n",
        "\n",
        "- **Purpose**: Computes the weighted average of the array, allowing you to specify weights for each element.\n",
        "- **Parameters**:\n",
        "  - `axis`: Similar to `np.mean()`, it specifies the axis along which to compute the average.\n",
        "  - `weights`: An array of the same shape as the input (or broadcastable to the shape) that represents the weight of each element.\n",
        "- **Weighting**: Unlike `np.mean()`, `np.average()` supports weighting. If no weights are specified, it calculates a simple mean, behaving similarly to `np.mean()`.\n",
        "- **Return**: Returns a float (if axis is `None`) or an array with the weighted average along the specified axis.\n",
        "\n",
        "### Key Differences\n",
        "\n",
        "| Feature                  | `np.mean()`                       | `np.average()`                      |\n",
        "|--------------------------|-----------------------------------|-------------------------------------|\n",
        "| **Weighting Support**    | No                               | Yes (via `weights` parameter)       |\n",
        "| **Default Behavior**     | Arithmetic mean                  | Weighted average (defaults to mean if no weights) |\n",
        "| **Functionality Focus**  | General purpose mean calculation | Weighted mean, more flexible for specific cases |\n",
        "| **Return Type**          | Float or array                   | Float or array                      |\n",
        "\n",
        "### When to Use Each\n",
        "\n",
        "- **Use `np.mean()`**: When you need a simple average without any weighting. It’s straightforward and generally faster than `np.average()` for basic cases.\n",
        "  \n",
        "- **Use `np.average()`**: When the average calculation requires weighting. For example, in scenarios like computing weighted grades or dealing with data where certain elements are more significant, `np.average()` allows you to specify the weight for each element, giving a more representative result.\n",
        "\n",
        "In short:\n",
        "- **`np.mean()`**: Use for unweighted arithmetic mean calculations.\n",
        "- **`np.average()`**: Use when weighting is necessary.\n"
      ],
      "metadata": {
        "id": "20iXzSWSqPN-"
      }
    },
    {
      "cell_type": "markdown",
      "source": [
        "Q 3.Describe the methods for reversing a NumPy array along axex.Provide examples for 1D and 2D arrays.\n",
        "\n",
        "Ans:-\n",
        "\n",
        "In NumPy, you can reverse an array along different axes using various methods. Here are the main approaches, along with examples for both 1D and 2D arrays:\n",
        "\n",
        "1. Using Array Slicing\n",
        "Slicing with [::-1] reverses an array along a specified axis.\n",
        "\n",
        "Example for 1D Array"
      ],
      "metadata": {
        "id": "XSbrsf6VGDzq"
      }
    },
    {
      "cell_type": "code",
      "source": [
        "import numpy as np\n",
        "\n",
        "# 1D array\n",
        "arr_1d = np.array([1, 2, 3, 4, 5])\n",
        "reversed_arr_1d = arr_1d[::-1]\n",
        "print(reversed_arr_1d)\n"
      ],
      "metadata": {
        "colab": {
          "base_uri": "https://localhost:8080/"
        },
        "id": "Sd5BvL5rGjUN",
        "outputId": "2857acbf-55e5-461b-ead1-ae233653e3e3"
      },
      "execution_count": null,
      "outputs": [
        {
          "output_type": "stream",
          "name": "stdout",
          "text": [
            "[5 4 3 2 1]\n"
          ]
        }
      ]
    },
    {
      "cell_type": "markdown",
      "source": [
        "Example for 2D Array\n",
        "For a 2D array, [::-1] on rows will reverse the rows, while specifying [:, ::-1] will reverse the columns."
      ],
      "metadata": {
        "id": "MXRCLKYhG2yt"
      }
    },
    {
      "cell_type": "code",
      "source": [
        "# 2D array\n",
        "arr_2d = np.array([[1, 2, 3],\n",
        "                   [4, 5, 6],\n",
        "                   [7, 8, 9]])\n",
        "\n",
        "# Reverse rows\n",
        "reversed_rows = arr_2d[::-1]\n",
        "print(reversed_rows)\n",
        "\n",
        "\n",
        "\n",
        "\n",
        "# Reverse columns\n",
        "reversed_cols = arr_2d[:, ::-1]\n",
        "print(reversed_cols)\n",
        "\n"
      ],
      "metadata": {
        "colab": {
          "base_uri": "https://localhost:8080/"
        },
        "id": "OIvs6aMeG7hl",
        "outputId": "1b85e7b5-f98a-4505-8fb0-1bd726098bff"
      },
      "execution_count": null,
      "outputs": [
        {
          "output_type": "stream",
          "name": "stdout",
          "text": [
            "[[7 8 9]\n",
            " [4 5 6]\n",
            " [1 2 3]]\n",
            "[[3 2 1]\n",
            " [6 5 4]\n",
            " [9 8 7]]\n"
          ]
        }
      ]
    },
    {
      "cell_type": "markdown",
      "source": [
        "2. Using np.flip()\n",
        "np.flip() provides a convenient way to reverse an array along any specified axis.\n",
        "\n",
        "Example for 1D Array"
      ],
      "metadata": {
        "id": "ejDX-mV7HJv7"
      }
    },
    {
      "cell_type": "code",
      "source": [
        "# Flip the 1D array\n",
        "flipped_arr_1d = np.flip(arr_1d)\n",
        "print(flipped_arr_1d)\n"
      ],
      "metadata": {
        "colab": {
          "base_uri": "https://localhost:8080/"
        },
        "id": "p-Gql1O8HQAO",
        "outputId": "be6efa9c-aba7-49cc-e493-5b4403166720"
      },
      "execution_count": null,
      "outputs": [
        {
          "output_type": "stream",
          "name": "stdout",
          "text": [
            "[5 4 3 2 1]\n"
          ]
        }
      ]
    },
    {
      "cell_type": "markdown",
      "source": [
        "Example for 2D Array\n",
        "\n",
        "Specify axis=0 for reversing rows and axis=1 for reversing columns."
      ],
      "metadata": {
        "id": "SEWTEErJHWUp"
      }
    },
    {
      "cell_type": "code",
      "source": [
        "# Reverse rows\n",
        "flipped_rows = np.flip(arr_2d, axis=0)\n",
        "print(flipped_rows)\n",
        "# Output:\n",
        "# [[7 8 9]\n",
        "#  [4 5 6]\n",
        "#  [1 2 3]]\n",
        "\n",
        "# Reverse columns\n",
        "flipped_cols = np.flip(arr_2d, axis=1)\n",
        "print(flipped_cols)\n",
        "# Output:\n",
        "# [[3 2 1]\n",
        "#  [6 5 4]\n",
        "#  [9 8 7]]\n"
      ],
      "metadata": {
        "colab": {
          "base_uri": "https://localhost:8080/"
        },
        "id": "WpSpCjnOHf5N",
        "outputId": "04d2043b-3696-42d5-f1fa-a126cbb087bf"
      },
      "execution_count": null,
      "outputs": [
        {
          "output_type": "stream",
          "name": "stdout",
          "text": [
            "[[7 8 9]\n",
            " [4 5 6]\n",
            " [1 2 3]]\n",
            "[[3 2 1]\n",
            " [6 5 4]\n",
            " [9 8 7]]\n"
          ]
        }
      ]
    },
    {
      "cell_type": "markdown",
      "source": [
        "3. Using np.flipud() and np.fliplr()\n",
        "\n",
        "np.flipud(): Flips an array vertically (up to down) for any 2D array.\n",
        "\n",
        "np.fliplr(): Flips an array horizontally (left to right) for any 2D array.\n",
        "\n",
        "Example for 2D Array"
      ],
      "metadata": {
        "id": "G-gch6H9Hp01"
      }
    },
    {
      "cell_type": "code",
      "source": [
        "# Flip vertically\n",
        "flipped_ud = np.flipud(arr_2d)\n",
        "print(flipped_ud)\n",
        "# Output:\n",
        "# [[7 8 9]\n",
        "#  [4 5 6]\n",
        "#  [1 2 3]]\n",
        "\n",
        "# Flip horizontally\n",
        "flipped_lr = np.fliplr(arr_2d)\n",
        "print(flipped_lr)\n",
        "# Output:\n",
        "# [[3 2 1]\n",
        "#  [6 5 4]\n",
        "#  [9 8 7]]\n"
      ],
      "metadata": {
        "colab": {
          "base_uri": "https://localhost:8080/"
        },
        "id": "ILLe4PnNHyXb",
        "outputId": "e99046e1-9315-4e10-861e-00dd1b1c7cfa"
      },
      "execution_count": null,
      "outputs": [
        {
          "output_type": "stream",
          "name": "stdout",
          "text": [
            "[[7 8 9]\n",
            " [4 5 6]\n",
            " [1 2 3]]\n",
            "[[3 2 1]\n",
            " [6 5 4]\n",
            " [9 8 7]]\n"
          ]
        }
      ]
    },
    {
      "cell_type": "markdown",
      "source": [
        "Q 4.How can you determine the data type of elements in a NumPy array?Discuss the importance of Data types in memory mangemaent and performance.\n",
        "\n",
        "Ans:-\n",
        "\n",
        "You can determine the data type of elements in a NumPy array using the .dtype attribute. Here’s how it works and why data types are crucial in NumPy for memory management and performance:\n",
        "\n",
        "Checking Data Type in a NumPy Array"
      ],
      "metadata": {
        "id": "LZzL1E2Eq2gi"
      }
    },
    {
      "cell_type": "code",
      "source": [
        "import numpy as np\n",
        "\n",
        "# Creating an array\n",
        "arr = np.array([1, 2, 3, 4.5])\n",
        "\n",
        "# Checking data type of elements\n",
        "print(arr.dtype)  # Output: float64 (or another type based on input elements)\n"
      ],
      "metadata": {
        "colab": {
          "base_uri": "https://localhost:8080/"
        },
        "id": "2mUFsNbWIJrK",
        "outputId": "c758dccd-8e58-4a0a-ee03-30f9ccc47730"
      },
      "execution_count": null,
      "outputs": [
        {
          "output_type": "stream",
          "name": "stdout",
          "text": [
            "float64\n"
          ]
        }
      ]
    },
    {
      "cell_type": "markdown",
      "source": [
        "Importance of Data Types in Memory Management and Performance\n",
        "\n",
        "1.Memory Management:\n",
        "\n",
        "\n",
        "Fixed Memory Allocation: NumPy arrays store elements with a fixed data type, meaning each element takes up a predictable amount of memory. This predictability reduces the need for memory reallocation and enables efficient storage of large datasets.\n",
        "\n",
        "\n",
        "Customizable Precision: You can specify data types like int32, float64, or complex128 based on the precision required, allowing you to optimize memory usage. For example, using int8 for small integer data reduces memory requirements compared to int64.\n"
      ],
      "metadata": {
        "id": "54fKFi1JINyQ"
      }
    },
    {
      "cell_type": "code",
      "source": [
        "arr_int8 = np.array([1, 2, 3], dtype=np.int8)\n",
        "print(arr_int8.nbytes)  # Uses less memory than int32 or int64\n"
      ],
      "metadata": {
        "colab": {
          "base_uri": "https://localhost:8080/"
        },
        "id": "Su_inW0GIT5c",
        "outputId": "eb9e3e8f-1f7f-4965-fa7b-d654c5492efd"
      },
      "execution_count": null,
      "outputs": [
        {
          "output_type": "stream",
          "name": "stdout",
          "text": [
            "3\n"
          ]
        }
      ]
    },
    {
      "cell_type": "markdown",
      "source": [
        "2.Performance:\n",
        "\n",
        "Faster Operations: Fixed-type arrays are stored as contiguous memory blocks, allowing for faster access and element-wise operations. For example, operations on float32 are faster than float64 due to lower precision.\n",
        "Vectorization: NumPy's vectorized operations leverage low-level optimizations, but these depend on data types. Operations on single-precision (float32) arrays, for example, can be faster than double-precision (float64) because of the reduced data size.\n",
        "\n",
        "3.Interoperability with External Libraries:\n",
        "\n",
        "Many libraries for scientific computing, like TensorFlow and Pandas, integrate smoothly with NumPy and expect specific data types for optimal performance and compatibility.\n",
        "In summary, data types in NumPy enable efficient memory usage and boost computational performance, especially in scientific computing and data analysis, where large datasets and fast processing are crucial. Choosing the correct data type based on your needs can help maximize both performance and memory efficiency."
      ],
      "metadata": {
        "id": "pDB1p2EBIZN3"
      }
    },
    {
      "cell_type": "markdown",
      "source": [
        "Q 5.Define ndarrays in NumPy and explain their key features.How do they differ from standard Python lists?\n",
        "\n",
        "Ans:-\n",
        "\n",
        "In NumPy, an `ndarray` (n-dimensional array) is the core data structure that represents a grid of values, all of the same data type, and indexed by a tuple of non-negative integers. Unlike standard Python lists, which can hold elements of different data types and have more flexible structures, `ndarrays` are optimized for numerical and scientific computing.\n",
        "\n",
        "### Key Features of `ndarrays`\n",
        "\n",
        "1. **Homogeneous Data Types**: All elements in an `ndarray` must have the same data type (e.g., `int32`, `float64`), which allows for memory efficiency and faster computations.\n",
        "\n",
        "2. **N-Dimensional Structure**: An `ndarray` can represent arrays of any dimension, from 1D vectors to 2D matrices to higher-dimensional tensors (e.g., 3D, 4D arrays). This makes it versatile for handling complex datasets in scientific applications.\n",
        "\n",
        "3. **Contiguous Memory Layout**: Unlike Python lists, `ndarrays` store elements in contiguous memory blocks, which optimizes memory usage and enables fast access.\n",
        "\n",
        "4. **Broadcasting**: NumPy's broadcasting rules allow for arithmetic operations between arrays of different shapes without explicitly resizing or reshaping them, making mathematical operations on arrays efficient and flexible.\n",
        "\n",
        "5. **Vectorized Operations**: NumPy supports vectorized operations on `ndarrays`, allowing element-wise operations without explicit loops. This leads to faster code execution, especially for large arrays, as operations are implemented at the low level in C.\n",
        "\n",
        "6. **Efficient Built-In Functions**: NumPy includes a wide range of optimized functions for mathematical, statistical, and linear algebra operations on `ndarrays`. Functions like `np.sum()`, `np.mean()`, and `np.dot()` operate directly on arrays and are optimized for speed.\n",
        "\n",
        "### Differences Between `ndarrays` and Python Lists\n",
        "\n",
        "| Feature                    | `ndarray`                          | Python List                    |\n",
        "|----------------------------|------------------------------------|--------------------------------|\n",
        "| **Data Type**              | Homogeneous (single data type)    | Heterogeneous (mixed data types) |\n",
        "| **Memory Layout**          | Contiguous memory                 | Pointers to individual objects |\n",
        "| **Dimensions**             | N-dimensional                     | 1-dimensional (can nest lists to mimic) |\n",
        "| **Element-wise Operations**| Vectorized, fast                  | Requires explicit loops       |\n",
        "| **Built-In Mathematical Functions** | Extensive support, optimized | Limited or requires importing math libraries |\n",
        "| **Broadcasting**           | Supported                         | Not supported                 |\n",
        "\n",
        "### Example Comparison\n",
        "\n",
        "\n",
        "\n",
        "\n",
        "\n",
        "\n"
      ],
      "metadata": {
        "id": "GYYTnumsrMA7"
      }
    },
    {
      "cell_type": "code",
      "source": [
        "import numpy as np\n",
        "\n",
        "# NumPy ndarray\n",
        "arr = np.array([1, 2, 3, 4])\n",
        "print(arr * 2)  # Output: [2 4 6 8] - element-wise multiplication\n",
        "\n",
        "# Python list\n",
        "lst = [1, 2, 3, 4]\n",
        "print(lst * 2)  # Output: [1, 2, 3, 4, 1, 2, 3, 4] - replicates list instead of element-wise operation\n"
      ],
      "metadata": {
        "colab": {
          "base_uri": "https://localhost:8080/"
        },
        "id": "KhQ9tsfgJY9e",
        "outputId": "b1ee06d3-73a2-43ad-d24e-79fcfe97d38c"
      },
      "execution_count": null,
      "outputs": [
        {
          "output_type": "stream",
          "name": "stdout",
          "text": [
            "[2 4 6 8]\n",
            "[1, 2, 3, 4, 1, 2, 3, 4]\n"
          ]
        }
      ]
    },
    {
      "cell_type": "markdown",
      "source": [
        "Q 6.Analyze the performance banefits of NumPy aarays over Python lists for large-scale numerical opeations.\n",
        "\n",
        "Ans:-\n",
        "\n",
        "NumPy arrays (ndarrays) offer significant performance benefits over Python lists for large-scale numerical operations. These benefits stem from efficient memory handling, fast data processing, and vectorized operations that avoid the need for slow Python loops. Here’s a detailed analysis of these performance advantages:\n",
        "\n",
        "1. Memory Efficiency\n",
        "Fixed Data Types: NumPy arrays store elements with a fixed data type, while Python lists can hold objects of different types. This uniformity allows NumPy to allocate a continuous block of memory for the entire array, saving space and speeding up data access.\n",
        "\n",
        "Compact Storage: NumPy stores data more compactly than lists. For example, a float64 NumPy array requires 8 bytes per element, whereas a Python list holding floats also includes metadata for each element, resulting in higher memory usage.\n",
        "\n",
        "Example"
      ],
      "metadata": {
        "id": "UMEi71BXrfac"
      }
    },
    {
      "cell_type": "code",
      "source": [
        "import numpy as np\n",
        "import sys\n",
        "\n",
        "# Python list\n",
        "py_list = [i for i in range(1000000)]\n",
        "print(f\"Memory used by Python list: {sys.getsizeof(py_list)} bytes\")\n",
        "\n",
        "# NumPy array\n",
        "np_array = np.array(py_list, dtype=np.int32)\n",
        "print(f\"Memory used by NumPy array: {np_array.nbytes} bytes\")\n"
      ],
      "metadata": {
        "colab": {
          "base_uri": "https://localhost:8080/"
        },
        "id": "q4GtZVogJvDo",
        "outputId": "ff22bc56-73bc-483b-ab7f-1fa35e5a7603"
      },
      "execution_count": null,
      "outputs": [
        {
          "output_type": "stream",
          "name": "stdout",
          "text": [
            "Memory used by Python list: 8448728 bytes\n",
            "Memory used by NumPy array: 4000000 bytes\n"
          ]
        }
      ]
    },
    {
      "cell_type": "markdown",
      "source": [
        "2. Vectorized Operations:-\n",
        "\n",
        "Element-wise Computation: NumPy performs operations on entire arrays at once (vectorization) rather than looping through elements one by one. This eliminates Python’s overhead for loops, leading to significantly faster computation.\n",
        "\n",
        "Low-Level Implementation: Many operations in NumPy are implemented in C and optimized for performance, leveraging fast low-level libraries like BLAS and LAPACK.\n",
        "Example"
      ],
      "metadata": {
        "id": "kgyzSJm9J4T1"
      }
    },
    {
      "cell_type": "code",
      "source": [
        "# Multiplying each element by 2 using NumPy array\n",
        "arr = np.array([1, 2, 3, 4])\n",
        "result = arr * 2  # Vectorized operation, runs faster than a loop\n"
      ],
      "metadata": {
        "id": "kNVuQ6znKAfP"
      },
      "execution_count": null,
      "outputs": []
    },
    {
      "cell_type": "markdown",
      "source": [
        "3. Efficient Mathematical Functions:-\n",
        "\n",
        "NumPy includes optimized built-in functions (like np.sum, np.mean, etc.) that can perform complex computations faster than Python’s built-in functions. These functions are optimized for ndarrays, taking advantage of low-level optimizations and parallelism where possible.\n",
        "\n",
        "Example"
      ],
      "metadata": {
        "id": "cpGO7-DVKGI7"
      }
    },
    {
      "cell_type": "code",
      "source": [
        "# Summing a million-element array\n",
        "large_arr = np.random.rand(1000000)\n",
        "%timeit np.sum(large_arr)  # Uses optimized C-implementation under the hood\n"
      ],
      "metadata": {
        "colab": {
          "base_uri": "https://localhost:8080/"
        },
        "id": "bsQGk4bhKOVz",
        "outputId": "6d7b07fb-325b-4d06-f5d0-6c8b49670e0c"
      },
      "execution_count": null,
      "outputs": [
        {
          "output_type": "stream",
          "name": "stdout",
          "text": [
            "341 µs ± 10.2 µs per loop (mean ± std. dev. of 7 runs, 1000 loops each)\n"
          ]
        }
      ]
    },
    {
      "cell_type": "markdown",
      "source": [
        "4. Broadcasting Capabilities:-\n",
        "\n",
        "Broadcasting allows NumPy to perform arithmetic operations on arrays of different shapes without explicit loops. It can replicate smaller arrays across larger ones, simplifying code and increasing efficiency.\n",
        "\n",
        "Example"
      ],
      "metadata": {
        "id": "HHjoHaozKU2B"
      }
    },
    {
      "cell_type": "code",
      "source": [
        "# Adding a scalar to each element in an array\n",
        "large_arr = np.arange(1000000)\n",
        "result = large_arr + 5  # Broadcasting enables fast element-wise addition\n"
      ],
      "metadata": {
        "id": "5f9APDNBKbs7"
      },
      "execution_count": null,
      "outputs": []
    },
    {
      "cell_type": "markdown",
      "source": [
        "5. Parallel Processing:-\n",
        "\n",
        "Although not inherently parallel, NumPy leverages optimized, multithreaded libraries for many operations, especially on large arrays, which can take advantage of multiple CPU cores.\n",
        "\n",
        "Performance Comparison: NumPy Array vs. Python List\n",
        "Here’s a quick example comparing the execution speed of an operation on a large NumPy array vs. a Python list:"
      ],
      "metadata": {
        "id": "cWrOb2V_Kfcg"
      }
    },
    {
      "cell_type": "code",
      "source": [
        "import time\n",
        "\n",
        "# Python list multiplication\n",
        "py_list = [i for i in range(1000000)]\n",
        "start = time.time()\n",
        "py_list_result = [x * 2 for x in py_list]\n",
        "print(\"Python list time:\", time.time() - start)\n",
        "\n",
        "# NumPy array multiplication\n",
        "np_array = np.array(py_list)\n",
        "start = time.time()\n",
        "np_array_result = np_array * 2  # Vectorized operation\n",
        "print(\"NumPy array time:\", time.time() - start)\n"
      ],
      "metadata": {
        "colab": {
          "base_uri": "https://localhost:8080/"
        },
        "id": "fMl0gU6xKtxN",
        "outputId": "0cd74ec8-fed3-4e39-9a39-926a2fe7fbab"
      },
      "execution_count": null,
      "outputs": [
        {
          "output_type": "stream",
          "name": "stdout",
          "text": [
            "Python list time: 0.09237241744995117\n",
            "NumPy array time: 0.003398895263671875\n"
          ]
        }
      ]
    },
    {
      "cell_type": "markdown",
      "source": [
        "Summary of Performance Benefits:-\n",
        "\n",
        "1.Lower Memory Usage: NumPy arrays require less memory than Python lists, which is critical for large datasets.\n",
        "\n",
        "2.Faster Computations: Vectorized operations in NumPy reduce the need for Python loops, offering significant speed improvements.\n",
        "\n",
        "3.Efficient Built-in Functions: NumPy’s math functions are highly optimized, outperforming standard Python functions.\n",
        "\n",
        "4.Broadcasting: Supports complex operations on differently shaped arrays without additional memory allocation or loops.\n",
        "\n",
        "In large-scale numerical operations, these benefits make NumPy arrays vastly superior to Python lists in terms of both memory efficiency and computation speed."
      ],
      "metadata": {
        "id": "kRaV1IheK0Gc"
      }
    },
    {
      "cell_type": "markdown",
      "source": [
        "Q 7.Compare vsatack() and hstack() functions in NumPy.Provide examples demonstrating their usage and output.\n",
        "\n",
        "Ans:-\n",
        "\n",
        "In NumPy, the vstack() and hstack() functions are used to stack arrays along different axes. Here’s a comparison of these two functions, including usage examples to demonstrate how they work:\n",
        "\n",
        "1. np.vstack()\n",
        "Purpose: Stacks arrays vertically (row-wise). The arrays are stacked along the first axis (axis=0), which means they are added as new rows.\n",
        "Requirements: The arrays being stacked must have the same number of columns (second dimension) but can have different numbers of rows.\n",
        "Example\n"
      ],
      "metadata": {
        "id": "CjRKpBOYr_Cl"
      }
    },
    {
      "cell_type": "code",
      "source": [
        "import numpy as np\n",
        "\n",
        "# Define two 2D arrays\n",
        "arr1 = np.array([[1, 2], [3, 4]])\n",
        "arr2 = np.array([[5, 6], [7, 8]])\n",
        "\n",
        "# Stack them vertically\n",
        "vstacked = np.vstack((arr1, arr2))\n",
        "print(vstacked)\n"
      ],
      "metadata": {
        "colab": {
          "base_uri": "https://localhost:8080/"
        },
        "id": "G4QwXI2TL4Xl",
        "outputId": "400b4fce-fcdf-42d1-e162-c096ccacd650"
      },
      "execution_count": null,
      "outputs": [
        {
          "output_type": "stream",
          "name": "stdout",
          "text": [
            "[[1 2]\n",
            " [3 4]\n",
            " [5 6]\n",
            " [7 8]]\n"
          ]
        }
      ]
    },
    {
      "cell_type": "markdown",
      "source": [
        "n this example, np.vstack() stacks arr1 and arr2 one on top of the other, creating a 4x2 array.\n",
        "\n",
        "2.np.hstack()\n",
        "\n",
        "Purpose: Stacks arrays horizontally (column-wise). The arrays are stacked along the second axis (axis=1), which means they are added as new columns.\n",
        "\n",
        "Requirements: The arrays being stacked must have the same number of rows (first dimension) but can have different numbers of columns.\n",
        "Example"
      ],
      "metadata": {
        "id": "7eaZI5koL8tz"
      }
    },
    {
      "cell_type": "code",
      "source": [
        "# Define two 2D arrays\n",
        "arr3 = np.array([[1, 2], [3, 4]])\n",
        "arr4 = np.array([[5, 6], [7, 8]])\n",
        "\n",
        "# Stack them horizontally\n",
        "hstacked = np.hstack((arr3, arr4))\n",
        "print(hstacked)\n"
      ],
      "metadata": {
        "colab": {
          "base_uri": "https://localhost:8080/"
        },
        "id": "-lTBebe4MK71",
        "outputId": "2550f7da-1318-4fbb-cff5-e239c5078c5e"
      },
      "execution_count": null,
      "outputs": [
        {
          "output_type": "stream",
          "name": "stdout",
          "text": [
            "[[1 2 5 6]\n",
            " [3 4 7 8]]\n"
          ]
        }
      ]
    },
    {
      "cell_type": "markdown",
      "source": [
        "In this example, np.hstack() stacks arr3 and arr4 side by side, creating a 2x4 array.\n",
        "\n",
        "Key Differences Between vstack() and hstack()\n",
        "Feature\tnp.vstack()\tnp.hstack()\n",
        "Direction\tVertical stacking (row-wise)\tHorizontal stacking (column-wise)\n",
        "Axis\tStacks along axis 0 (first dimension)\tStacks along axis 1 (second dimension)\n",
        "Requirements\tSame number of columns\tSame number of rows\n",
        "Additional Examples with 1D Arrays"
      ],
      "metadata": {
        "id": "akL-MWiqMUab"
      }
    },
    {
      "cell_type": "markdown",
      "source": [
        "In NumPy, the `vstack()` and `hstack()` functions are used to stack arrays along different axes. Here’s a comparison of these two functions, including usage examples to demonstrate how they work:\n",
        "\n",
        "### 1. `np.vstack()`\n",
        "\n",
        "- **Purpose**: Stacks arrays vertically (row-wise). The arrays are stacked along the first axis (axis=0), which means they are added as new rows.\n",
        "- **Requirements**: The arrays being stacked must have the same number of columns (second dimension) but can have different numbers of rows.\n",
        "\n",
        "#### Example\n",
        "```python\n",
        "import numpy as np\n",
        "\n",
        "# Define two 2D arrays\n",
        "arr1 = np.array([[1, 2], [3, 4]])\n",
        "arr2 = np.array([[5, 6], [7, 8]])\n",
        "\n",
        "# Stack them vertically\n",
        "vstacked = np.vstack((arr1, arr2))\n",
        "print(vstacked)\n",
        "```\n",
        "\n",
        "**Output**:\n",
        "```\n",
        "[[1 2]\n",
        " [3 4]\n",
        " [5 6]\n",
        " [7 8]]\n",
        "```\n",
        "\n",
        "In this example, `np.vstack()` stacks `arr1` and `arr2` one on top of the other, creating a 4x2 array.\n",
        "\n",
        "### 2. `np.hstack()`\n",
        "\n",
        "- **Purpose**: Stacks arrays horizontally (column-wise). The arrays are stacked along the second axis (axis=1), which means they are added as new columns.\n",
        "- **Requirements**: The arrays being stacked must have the same number of rows (first dimension) but can have different numbers of columns.\n",
        "\n",
        "#### Example\n",
        "```python\n",
        "# Define two 2D arrays\n",
        "arr3 = np.array([[1, 2], [3, 4]])\n",
        "arr4 = np.array([[5, 6], [7, 8]])\n",
        "\n",
        "# Stack them horizontally\n",
        "hstacked = np.hstack((arr3, arr4))\n",
        "print(hstacked)\n",
        "```\n",
        "\n",
        "**Output**:\n",
        "```\n",
        "[[1 2 5 6]\n",
        " [3 4 7 8]]\n",
        "```\n",
        "\n",
        "In this example, `np.hstack()` stacks `arr3` and `arr4` side by side, creating a 2x4 array.\n",
        "\n",
        "### Key Differences Between `vstack()` and `hstack()`\n",
        "\n",
        "| Feature            | `np.vstack()`                             | `np.hstack()`                            |\n",
        "|--------------------|-------------------------------------------|------------------------------------------|\n",
        "| **Direction**      | Vertical stacking (row-wise)              | Horizontal stacking (column-wise)        |\n",
        "| **Axis**           | Stacks along axis 0 (first dimension)     | Stacks along axis 1 (second dimension)   |\n",
        "| **Requirements**   | Same number of columns                    | Same number of rows                      |\n",
        "\n",
        "### Additional Examples with 1D Arrays\n",
        "\n",
        "Both `vstack()` and `hstack()` work with 1D arrays, though the results differ:\n",
        "\n",
        "```python\n",
        "# Define two 1D arrays\n",
        "arr1d_1 = np.array([1, 2, 3])\n",
        "arr1d_2 = np.array([4, 5, 6])\n",
        "\n",
        "# Vertical stacking creates a 2D array\n",
        "vstacked_1d = np.vstack((arr1d_1, arr1d_2))\n",
        "print(vstacked_1d)\n",
        "```\n",
        "\n",
        "**Output**:\n",
        "```\n",
        "[[1 2 3]\n",
        " [4 5 6]]\n",
        "```\n",
        "\n",
        "```python\n",
        "# Horizontal stacking creates a single 1D array\n",
        "hstacked_1d = np.hstack((arr1d_1, arr1d_2))\n",
        "print(hstacked_1d)\n",
        "```\n",
        "\n",
        "**Output**:\n",
        "```\n",
        "[1 2 3 4 5 6]\n",
        "```\n",
        "\n",
        "### Summary\n",
        "\n",
        "- **`np.vstack()`**: Stacks arrays vertically, creating new rows.\n",
        "- **`np.hstack()`**: Stacks arrays horizontally, creating new columns.\n",
        "\n",
        "Choose `vstack()` for row-wise stacking and `hstack()` for column-wise stacking, depending on how you need to combine your arrays."
      ],
      "metadata": {
        "id": "wFCneLt1Mnd1"
      }
    },
    {
      "cell_type": "markdown",
      "source": [
        "Q 8.Explain the difference between fliplr() and flipud() methods in NumPy,including their effects on various array dimenstions.\n",
        "\n",
        "Ans:-\n",
        "\n",
        "In NumPy, `fliplr()` and `flipud()` are methods used to flip arrays, but they operate along different dimensions. Here’s a breakdown of how they work and the effects on arrays of various dimensions:\n",
        "\n",
        "### 1. `np.fliplr()`\n",
        "\n",
        "- **Purpose**: `fliplr()` flips an array **left to right** (horizontally), reversing the order of the columns.\n",
        "- **Usage**: It’s intended for 2D arrays or higher dimensions. For 1D arrays, it has no effect, as it only flips along the second axis (`axis=1`).\n",
        "\n",
        "#### Effect on Arrays:\n",
        "- **2D Array**: Reverses the order of columns.\n",
        "- **3D Array**: Reverses columns across each 2D slice along the first dimension.\n",
        "\n",
        "#### Example:\n",
        "```python\n",
        "import numpy as np\n",
        "\n",
        "# 2D Array\n",
        "arr_2d = np.array([[1, 2, 3],\n",
        "                   [4, 5, 6],\n",
        "                   [7, 8, 9]])\n",
        "\n",
        "flipped_lr = np.fliplr(arr_2d)\n",
        "print(flipped_lr)\n",
        "```\n",
        "\n",
        "**Output**:\n",
        "```\n",
        "[[3 2 1]\n",
        " [6 5 4]\n",
        " [9 8 7]]\n",
        "```\n",
        "\n",
        "### 2. `np.flipud()`\n",
        "\n",
        "- **Purpose**: `flipud()` flips an array **up to down** (vertically), reversing the order of the rows.\n",
        "- **Usage**: It flips along the first axis (`axis=0`), so it’s applicable to 2D arrays or higher. It has no effect on 1D arrays.\n",
        "\n",
        "#### Effect on Arrays:\n",
        "- **2D Array**: Reverses the order of rows.\n",
        "- **3D Array**: Reverses rows within each 2D slice along the second dimension.\n",
        "\n",
        "#### Example:\n",
        "```python\n",
        "# 2D Array\n",
        "arr_2d = np.array([[1, 2, 3],\n",
        "                   [4, 5, 6],\n",
        "                   [7, 8, 9]])\n",
        "\n",
        "flipped_ud = np.flipud(arr_2d)\n",
        "print(flipped_ud)\n",
        "```\n",
        "\n",
        "**Output**:\n",
        "```\n",
        "[[7 8 9]\n",
        " [4 5 6]\n",
        " [1 2 3]]\n",
        "```\n",
        "\n",
        "### Differences Between `fliplr()` and `flipud()`\n",
        "\n",
        "| Feature                | `np.fliplr()`                                | `np.flipud()`                                |\n",
        "|------------------------|----------------------------------------------|----------------------------------------------|\n",
        "| **Direction of Flip**  | Left to right (horizontal)                   | Up to down (vertical)                        |\n",
        "| **Axis of Operation**  | Flips along axis 1                           | Flips along axis 0                           |\n",
        "| **2D Array Effect**    | Reverses column order                        | Reverses row order                           |\n",
        "| **3D Array Effect**    | Reverses columns within each 2D slice        | Reverses rows within each 2D slice           |\n",
        "\n",
        "### Example with a 3D Array\n",
        "\n",
        "```python\n",
        "# 3D Array\n",
        "arr_3d = np.array([[[1, 2], [3, 4]],\n",
        "                   [[5, 6], [7, 8]],\n",
        "                   [[9, 10], [11, 12]]])\n",
        "\n",
        "# Flip left to right\n",
        "flipped_3d_lr = np.fliplr(arr_3d)\n",
        "print(\"fliplr() on 3D array:\\n\", flipped_3d_lr)\n",
        "\n",
        "# Flip up to down\n",
        "flipped_3d_ud = np.flipud(arr_3d)\n",
        "print(\"flipud() on 3D array:\\n\", flipped_3d_ud)\n",
        "```\n",
        "\n",
        "In summary:\n",
        "- **`np.fliplr()`** flips arrays horizontally by reversing column order.\n",
        "- **`np.flipud()`** flips arrays vertically by reversing row order.\n",
        "\n",
        "Choose `fliplr()` for horizontal flips and `flipud()` for vertical flips based on how you need to manipulate the array's orientation.\n",
        "\n",
        "\n",
        "\n"
      ],
      "metadata": {
        "id": "HN_9crtar_Gp"
      }
    },
    {
      "cell_type": "markdown",
      "source": [
        "Q 9.Discuss the functionality of the array_spilt() method in NumPy.How does it handle uneven spilts?\n",
        "\n",
        "Ans:-\n",
        "\n",
        "The `numpy.array_split()` method in NumPy is used to split an array into multiple sub-arrays along a specified axis. It is particularly useful for dividing large datasets into smaller chunks for analysis or processing. Here's an overview of its functionality, including how it handles uneven splits.\n",
        "\n",
        "### Functionality of `numpy.array_split()`\n",
        "\n",
        "1. **Basic Syntax**:\n",
        "   ```python\n",
        "   numpy.array_split(ary, indices_or_sections, axis=0)\n",
        "   ```\n",
        "\n",
        "   - **`ary`**: The input array to be split.\n",
        "   - **`indices_or_sections`**: This can be either an integer (number of sections to split the array into) or a 1D array of indices at which to split.\n",
        "   - **`axis`**: The axis along which to split the array (default is 0 for row-wise splitting).\n",
        "\n",
        "2. **Return Value**:\n",
        "   - The method returns a list of sub-arrays.\n",
        "\n",
        "### Handling Uneven Splits\n",
        "\n",
        "When the input array cannot be evenly divided into the specified number of sections, `numpy.array_split()` will handle the remainder by distributing the extra elements among the resulting sub-arrays.\n",
        "\n",
        "- **Example with Uneven Splits**: If you have an array with 7 elements and you want to split it into 3 sections, the first two sections will have 3 elements each, and the last section will have 1 element.\n",
        "\n",
        "### Example Usage\n",
        "\n",
        "#### Example 1: Basic Splitting\n",
        "\n",
        "```python\n",
        "import numpy as np\n",
        "\n",
        "# Create an array\n",
        "arr = np.array([1, 2, 3, 4, 5, 6, 7])\n",
        "\n",
        "# Split the array into 3 parts\n",
        "split_arr = np.array_split(arr, 3)\n",
        "print(split_arr)\n",
        "```\n",
        "\n",
        "**Output**:\n",
        "```\n",
        "[array([1, 2, 3]), array([4, 5]), array([6, 7])]\n",
        "```\n",
        "\n",
        "In this example, the original array is split into 3 sub-arrays. The first sub-array contains 3 elements, and the second sub-array contains 2 elements, while the last one contains the remaining 2 elements.\n",
        "\n",
        "#### Example 2: Splitting Along a Specific Axis\n",
        "\n",
        "```python\n",
        "# Create a 2D array\n",
        "arr_2d = np.array([[1, 2, 3],\n",
        "                   [4, 5, 6],\n",
        "                   [7, 8, 9],\n",
        "                   [10, 11, 12]])\n",
        "\n",
        "# Split the 2D array into 2 parts along the first axis (row-wise)\n",
        "split_2d = np.array_split(arr_2d, 2, axis=0)\n",
        "print(split_2d)\n",
        "```\n",
        "\n",
        "**Output**:\n",
        "```\n",
        "[array([[1, 2, 3],\n",
        "       [4, 5, 6]]), array([[ 7,  8,  9],\n",
        "       [10, 11, 12]])]\n",
        "```\n",
        "\n",
        "In this case, the 2D array is split into 2 parts along the rows, each containing 2 rows.\n",
        "\n",
        "### Summary of Key Points\n",
        "\n",
        "- **Flexible Splitting**: `numpy.array_split()` allows you to split arrays into any number of sections, even if the array size is not perfectly divisible by that number.\n",
        "- **Returns Lists**: It returns a list of sub-arrays rather than a single array.\n",
        "- **Handles Uneven Splits**: When the array size cannot be evenly divided, it distributes the remaining elements among the sub-arrays as evenly as possible.\n",
        "\n",
        "In summary, `numpy.array_split()` is a versatile method for dividing arrays into smaller sub-arrays, providing a robust solution for managing data in different formats and sizes."
      ],
      "metadata": {
        "id": "9fQwRfHosvxD"
      }
    },
    {
      "cell_type": "markdown",
      "source": [
        "Q 10.Explain the concepts of vectorization and broadcasting in NumPy.How do they contribute to efficient array operations?\n",
        "\n",
        "Ans:-\n",
        "\n",
        "Vectorization and broadcasting are two fundamental concepts in NumPy that greatly enhance the efficiency and performance of array operations. Here’s a detailed explanation of each concept and how they contribute to efficient computations.\n",
        "\n",
        "### Vectorization\n",
        "\n",
        "**Definition**:\n",
        "Vectorization is the process of applying operations to entire arrays (or large chunks of data) rather than iterating over individual elements. In NumPy, this means that mathematical operations are applied to entire arrays without the need for explicit loops in Python.\n",
        "\n",
        "**Benefits**:\n",
        "1. **Performance**: Vectorized operations are typically implemented in C and optimized for performance, which makes them significantly faster than Python loops.\n",
        "2. **Simplicity**: Vectorized code is often more concise and easier to read than equivalent code using loops.\n",
        "3. **Automatic Parallelism**: Many NumPy functions are optimized to take advantage of multiple CPU cores, allowing for more efficient processing.\n",
        "\n",
        "**Example**:\n",
        "```python\n",
        "import numpy as np\n",
        "\n",
        "# Create two large arrays\n",
        "a = np.array([1, 2, 3, 4, 5])\n",
        "b = np.array([10, 20, 30, 40, 50])\n",
        "\n",
        "# Vectorized addition\n",
        "result = a + b\n",
        "print(result)\n",
        "```\n",
        "\n",
        "**Output**:\n",
        "```\n",
        "[11 22 33 44 55]\n",
        "```\n",
        "\n",
        "In this example, the addition operation is applied to the entire arrays `a` and `b` at once, resulting in a new array `result`. This is done without explicit loops.\n",
        "\n",
        "### Broadcasting\n",
        "\n",
        "**Definition**:\n",
        "Broadcasting is a powerful mechanism that allows NumPy to perform arithmetic operations on arrays of different shapes and sizes. It automatically expands the smaller array across the larger array to make their shapes compatible for element-wise operations.\n",
        "\n",
        "**How it Works**:\n",
        "1. **Dimension Alignment**: When performing operations on two arrays, NumPy aligns the dimensions from the last dimension backwards. If the dimensions of the two arrays do not match, NumPy will try to \"broadcast\" the smaller array to match the larger array's shape.\n",
        "2. **Expansion Rules**: Broadcasting follows a set of rules:\n",
        "   - If the arrays have different numbers of dimensions, the shape of the smaller array is padded with ones on the left.\n",
        "   - If the sizes of the dimensions are different, the array with size 1 is stretched to match the size of the other array.\n",
        "   - If the sizes are not compatible (and neither is 1), an error is raised.\n",
        "\n",
        "**Example**:\n",
        "```python\n",
        "# Create a 2D array\n",
        "a = np.array([[1, 2, 3],\n",
        "              [4, 5, 6]])\n",
        "\n",
        "# Create a 1D array\n",
        "b = np.array([10, 20, 30])\n",
        "\n",
        "# Broadcasting\n",
        "result = a + b  # The 1D array is broadcast across the rows of the 2D array\n",
        "print(result)\n",
        "```\n",
        "\n",
        "**Output**:\n",
        "```\n",
        "[[11 22 33]\n",
        " [14 25 36]]\n",
        "```\n",
        "\n",
        "In this example, the 1D array `b` is broadcast to match the shape of the 2D array `a`, allowing for element-wise addition.\n",
        "\n",
        "### Contribution to Efficient Array Operations\n",
        "\n",
        "1. **Reduced Need for Loops**: Both vectorization and broadcasting eliminate the need for explicit loops in many cases, which can be slow in Python. This leads to cleaner and more efficient code.\n",
        "   \n",
        "2. **Optimized Performance**: Operations in NumPy are often implemented in optimized low-level libraries (like BLAS), making them much faster than native Python loops. Vectorized operations utilize these optimizations directly.\n",
        "   \n",
        "3. **Memory Efficiency**: Broadcasting allows operations on arrays of different shapes without creating large temporary arrays, conserving memory and reducing overhead.\n",
        "   \n",
        "4. **Conciseness and Clarity**: Code written with vectorization and broadcasting is usually more concise and easier to understand, making it easier for developers to read and maintain.\n",
        "\n",
        "### Summary\n",
        "\n",
        "- **Vectorization** allows for efficient array operations by applying functions to entire arrays without loops.\n",
        "- **Broadcasting** enables operations between arrays of different shapes by automatically expanding the smaller array to match the size of the larger one.\n",
        "\n",
        "Together, these features make NumPy a powerful library for numerical computing and data analysis, allowing for high-performance and concise array manipulations.\n"
      ],
      "metadata": {
        "id": "sb5sdpjo0TiN"
      }
    },
    {
      "cell_type": "markdown",
      "source": [
        "                                                             **Practical Questions**"
      ],
      "metadata": {
        "id": "s5PRREusswGK"
      }
    },
    {
      "cell_type": "markdown",
      "source": [
        "Q 1.Create a 3*3 NumPy array with random integers between 1 and 100.Then,interchange its rows and columns."
      ],
      "metadata": {
        "id": "ttvIwYWW0ua5"
      }
    },
    {
      "cell_type": "code",
      "source": [
        "import numpy as np\n",
        "N=8\n",
        "rand_vals = np.random.randint(1,101, size=(N,N))\n",
        "print(rand_vals)"
      ],
      "metadata": {
        "colab": {
          "base_uri": "https://localhost:8080/"
        },
        "id": "9nTck6ARA4qp",
        "outputId": "65304bd4-5c82-4ce5-a6b9-cfeea0462ceb"
      },
      "execution_count": null,
      "outputs": [
        {
          "output_type": "stream",
          "name": "stdout",
          "text": [
            "[[ 3  6 92 35 72 70 26 36]\n",
            " [57 69 25 77 70 85 44 71]\n",
            " [87 29 93 36 59 33 48 96]\n",
            " [ 8 79 76 23 43 73  5 18]\n",
            " [27 10 25 42 26 28 14 29]\n",
            " [ 9  6 71  5 68  7 83 90]\n",
            " [38 42 89 93 33 37  9  7]\n",
            " [45 17  3 90 98 77 46 52]]\n"
          ]
        }
      ]
    },
    {
      "cell_type": "markdown",
      "source": [
        "Q 2.Generate a 1D NumPy array with 10 elements.Reshape it into a 2 * 5 array,then into a 5 * 2 array."
      ],
      "metadata": {
        "id": "UdypMBMX1UN_"
      }
    },
    {
      "cell_type": "code",
      "source": [
        "import numpy as np\n",
        "\n",
        "# Create a 1D NumPy array with 10 elements\n",
        "array_1d = np.arange(10)\n",
        "\n",
        "# Reshape into a 2x5 array\n",
        "array_2x5 = array_1d.reshape(2, 5)\n",
        "\n",
        "# Reshape into a 5x2 array\n",
        "array_5x2 = array_1d.reshape(5, 2)\n",
        "\n",
        "print(\"1D Array:\")\n",
        "print(array_1d)\n",
        "print(\"\\n2x5 Array:\")\n",
        "print(array_2x5)\n",
        "print(\"\\n5x2 Array:\")\n",
        "print(array_5x2)\n"
      ],
      "metadata": {
        "id": "p91dL3j1B2V2",
        "colab": {
          "base_uri": "https://localhost:8080/"
        },
        "outputId": "54173e60-1c17-47fa-8f38-f1db1c3bff28"
      },
      "execution_count": 2,
      "outputs": [
        {
          "output_type": "stream",
          "name": "stdout",
          "text": [
            "1D Array:\n",
            "[0 1 2 3 4 5 6 7 8 9]\n",
            "\n",
            "2x5 Array:\n",
            "[[0 1 2 3 4]\n",
            " [5 6 7 8 9]]\n",
            "\n",
            "5x2 Array:\n",
            "[[0 1]\n",
            " [2 3]\n",
            " [4 5]\n",
            " [6 7]\n",
            " [8 9]]\n"
          ]
        }
      ]
    },
    {
      "cell_type": "markdown",
      "source": [
        "Q 3.Create a 4 * 4 NumPy array with random float values.Add a border of zeros around it,resulting in a 6*6 array."
      ],
      "metadata": {
        "id": "CK3J2YMS1qVH"
      }
    },
    {
      "cell_type": "code",
      "source": [
        "import numpy as np\n",
        "\n",
        "# Create a 4x4 array with random float values\n",
        "array_4x4 = np.random.rand(4, 4)\n",
        "\n",
        "# Add a border of zeros around the 4x4 array to create a 6x6 array\n",
        "array_6x6 = np.pad(array_4x4, pad_width=1, mode='constant', constant_values=0)\n",
        "\n",
        "print(\"4x4 Array with Random Float Values:\")\n",
        "print(array_4x4)\n",
        "print(\"\\n6x6 Array with Zero Border:\")\n",
        "print(array_6x6)\n"
      ],
      "metadata": {
        "colab": {
          "base_uri": "https://localhost:8080/"
        },
        "id": "yNTJ8qH2LvKK",
        "outputId": "b8c8bf6e-8004-4f49-ec7a-6a9d97e10d95"
      },
      "execution_count": 3,
      "outputs": [
        {
          "output_type": "stream",
          "name": "stdout",
          "text": [
            "4x4 Array with Random Float Values:\n",
            "[[0.93695376 0.43963266 0.35172912 0.55567749]\n",
            " [0.79431684 0.8469596  0.15365318 0.29359722]\n",
            " [0.13465158 0.54109896 0.79524988 0.99068396]\n",
            " [0.04486357 0.33168489 0.76109362 0.21552673]]\n",
            "\n",
            "6x6 Array with Zero Border:\n",
            "[[0.         0.         0.         0.         0.         0.        ]\n",
            " [0.         0.93695376 0.43963266 0.35172912 0.55567749 0.        ]\n",
            " [0.         0.79431684 0.8469596  0.15365318 0.29359722 0.        ]\n",
            " [0.         0.13465158 0.54109896 0.79524988 0.99068396 0.        ]\n",
            " [0.         0.04486357 0.33168489 0.76109362 0.21552673 0.        ]\n",
            " [0.         0.         0.         0.         0.         0.        ]]\n"
          ]
        }
      ]
    },
    {
      "cell_type": "markdown",
      "source": [
        "Q 4.Using NumPy,create an array of integers from 10 to 60 with a step of 5."
      ],
      "metadata": {
        "id": "hrNLsGR82PSZ"
      }
    },
    {
      "cell_type": "code",
      "source": [
        "import numpy as np\n",
        "\n",
        "# Create an array of integers from 10 to 60 with a step of 5\n",
        "array = np.arange(10, 65, 5)\n",
        "\n",
        "print(\"Array of integers from 10 to 60 with a step of 5:\")\n",
        "print(array)\n"
      ],
      "metadata": {
        "colab": {
          "base_uri": "https://localhost:8080/"
        },
        "id": "pxTe4l-PL8d4",
        "outputId": "31e3f917-6be4-41dd-d211-9c3dcd3b4e1e"
      },
      "execution_count": 4,
      "outputs": [
        {
          "output_type": "stream",
          "name": "stdout",
          "text": [
            "Array of integers from 10 to 60 with a step of 5:\n",
            "[10 15 20 25 30 35 40 45 50 55 60]\n"
          ]
        }
      ]
    },
    {
      "cell_type": "markdown",
      "source": [
        "Q 5.Create a NumPy array of strings ['python','numpy','pandas'].Apply different case transformations(uppercase,lowercase,title case,etc.) to each element."
      ],
      "metadata": {
        "id": "148EwCfj2iM5"
      }
    },
    {
      "cell_type": "code",
      "source": [
        "import numpy as np\n",
        "\n",
        "# Create a NumPy array of strings\n",
        "array = np.array(['python', 'numpy', 'pandas'])\n",
        "\n",
        "# Convert each element to uppercase\n",
        "uppercase_array = np.char.upper(array)\n",
        "\n",
        "# Convert each element to lowercase\n",
        "lowercase_array = np.char.lower(array)\n",
        "\n",
        "# Convert each element to title case\n",
        "titlecase_array = np.char.title(array)\n",
        "\n",
        "print(\"Original Array:\")\n",
        "print(array)\n",
        "print(\"\\nUppercase Array:\")\n",
        "print(uppercase_array)\n",
        "print(\"\\nLowercase Array:\")\n",
        "print(lowercase_array)\n",
        "print(\"\\nTitle Case Array:\")\n",
        "print(titlecase_array)\n"
      ],
      "metadata": {
        "colab": {
          "base_uri": "https://localhost:8080/"
        },
        "id": "XNQ3Kng2MHem",
        "outputId": "6309d3f4-ffa7-49b3-f29b-47d2c8dbede3"
      },
      "execution_count": 5,
      "outputs": [
        {
          "output_type": "stream",
          "name": "stdout",
          "text": [
            "Original Array:\n",
            "['python' 'numpy' 'pandas']\n",
            "\n",
            "Uppercase Array:\n",
            "['PYTHON' 'NUMPY' 'PANDAS']\n",
            "\n",
            "Lowercase Array:\n",
            "['python' 'numpy' 'pandas']\n",
            "\n",
            "Title Case Array:\n",
            "['Python' 'Numpy' 'Pandas']\n"
          ]
        }
      ]
    },
    {
      "cell_type": "markdown",
      "source": [
        "Q 6.Generate a NumPy array of words.Insert a space between each character of every word in the array."
      ],
      "metadata": {
        "id": "5YplsVH63BlD"
      }
    },
    {
      "cell_type": "code",
      "source": [
        "import numpy as np\n",
        "\n",
        "# Create a NumPy array of words\n",
        "words_array = np.array(['hello', 'world', 'numpy'])\n",
        "\n",
        "# Insert a space between each character of every word\n",
        "spaced_array = np.char.join(' ', words_array)\n",
        "\n",
        "print(\"Original Array:\")\n",
        "print(words_array)\n",
        "print(\"\\nArray with Spaces Between Characters:\")\n",
        "print(spaced_array)\n"
      ],
      "metadata": {
        "colab": {
          "base_uri": "https://localhost:8080/"
        },
        "id": "THJQQBz0NclL",
        "outputId": "632a2e4f-d99a-4f1e-d03c-601c8bdd9ef4"
      },
      "execution_count": 6,
      "outputs": [
        {
          "output_type": "stream",
          "name": "stdout",
          "text": [
            "Original Array:\n",
            "['hello' 'world' 'numpy']\n",
            "\n",
            "Array with Spaces Between Characters:\n",
            "['h e l l o' 'w o r l d' 'n u m p y']\n"
          ]
        }
      ]
    },
    {
      "cell_type": "markdown",
      "source": [
        "Q 7.Create two 2D NumPy arrays and perform element-wise addition,subtraction,multipication,and division."
      ],
      "metadata": {
        "id": "d6DnOaGR3DyE"
      }
    },
    {
      "cell_type": "code",
      "source": [
        "import numpy as np\n",
        "\n",
        "# Create two 2D NumPy arrays\n",
        "array1 = np.array([[1, 2, 3], [4, 5, 6]])\n",
        "array2 = np.array([[7, 8, 9], [10, 11, 12]])\n",
        "\n",
        "# Perform element-wise addition\n",
        "addition = np.add(array1, array2)\n",
        "\n",
        "# Perform element-wise subtraction\n",
        "subtraction = np.subtract(array1, array2)\n",
        "\n",
        "# Perform element-wise multiplication\n",
        "multiplication = np.multiply(array1, array2)\n",
        "\n",
        "# Perform element-wise division\n",
        "division = np.divide(array1, array2)\n",
        "\n",
        "print(\"Array 1:\")\n",
        "print(array1)\n",
        "print(\"\\nArray 2:\")\n",
        "print(array2)\n",
        "print(\"\\nElement-wise Addition:\")\n",
        "print(addition)\n",
        "print(\"\\nElement-wise Subtraction:\")\n",
        "print(subtraction)\n",
        "print(\"\\nElement-wise Multiplication:\")\n",
        "print(multiplication)\n",
        "print(\"\\nElement-wise Division:\")\n",
        "print(division)\n"
      ],
      "metadata": {
        "colab": {
          "base_uri": "https://localhost:8080/"
        },
        "id": "v_vt4vhGNuIF",
        "outputId": "eb53bd0c-ebe9-47c3-d9a9-2042dc143291"
      },
      "execution_count": 7,
      "outputs": [
        {
          "output_type": "stream",
          "name": "stdout",
          "text": [
            "Array 1:\n",
            "[[1 2 3]\n",
            " [4 5 6]]\n",
            "\n",
            "Array 2:\n",
            "[[ 7  8  9]\n",
            " [10 11 12]]\n",
            "\n",
            "Element-wise Addition:\n",
            "[[ 8 10 12]\n",
            " [14 16 18]]\n",
            "\n",
            "Element-wise Subtraction:\n",
            "[[-6 -6 -6]\n",
            " [-6 -6 -6]]\n",
            "\n",
            "Element-wise Multiplication:\n",
            "[[ 7 16 27]\n",
            " [40 55 72]]\n",
            "\n",
            "Element-wise Division:\n",
            "[[0.14285714 0.25       0.33333333]\n",
            " [0.4        0.45454545 0.5       ]]\n"
          ]
        }
      ]
    },
    {
      "cell_type": "markdown",
      "source": [
        "Q 8.Use NumPy to crreate a 5*5 identity matrix,then extract its diagonal elements."
      ],
      "metadata": {
        "id": "zP6PLCiHCIxn"
      }
    },
    {
      "cell_type": "code",
      "source": [
        "import numpy as np\n",
        "\n",
        "# Create a 5x5 identity matrix\n",
        "identity_matrix = np.eye(5)\n",
        "\n",
        "# Extract the diagonal elements\n",
        "diagonal_elements = np.diag(identity_matrix)\n",
        "\n",
        "print(\"5x5 Identity Matrix:\")\n",
        "print(identity_matrix)\n",
        "print(\"\\nDiagonal Elements:\")\n",
        "print(diagonal_elements)\n"
      ],
      "metadata": {
        "colab": {
          "base_uri": "https://localhost:8080/"
        },
        "id": "W7ufY4ptN32P",
        "outputId": "a31f0ba4-a4c7-4a31-8a16-6dc6cf4e1de7"
      },
      "execution_count": 8,
      "outputs": [
        {
          "output_type": "stream",
          "name": "stdout",
          "text": [
            "5x5 Identity Matrix:\n",
            "[[1. 0. 0. 0. 0.]\n",
            " [0. 1. 0. 0. 0.]\n",
            " [0. 0. 1. 0. 0.]\n",
            " [0. 0. 0. 1. 0.]\n",
            " [0. 0. 0. 0. 1.]]\n",
            "\n",
            "Diagonal Elements:\n",
            "[1. 1. 1. 1. 1.]\n"
          ]
        }
      ]
    },
    {
      "cell_type": "markdown",
      "source": [
        "Q 9.Generate a NumPy array of 100 random integers between 0 and 1000.Find and display all prime numbers in this array."
      ],
      "metadata": {
        "id": "T1TZvvbxCbnT"
      }
    },
    {
      "cell_type": "code",
      "source": [
        "import numpy as np\n",
        "\n",
        "# Function to check if a number is prime\n",
        "def is_prime(n):\n",
        "    if n < 2:\n",
        "        return False\n",
        "    for i in range(2, int(n**0.5) + 1):\n",
        "        if n % i == 0:\n",
        "            return False\n",
        "    return True\n",
        "\n",
        "# Generate a NumPy array of 100 random integers between 0 and 1000\n",
        "random_integers = np.random.randint(0, 1001, 100)\n",
        "\n",
        "# Find all prime numbers in the array\n",
        "prime_numbers = [num for num in random_integers if is_prime(num)]\n",
        "\n",
        "print(\"Random Integers Array:\")\n",
        "print(random_integers)\n",
        "print(\"\\nPrime Numbers in the Array:\")\n",
        "print(prime_numbers)\n"
      ],
      "metadata": {
        "colab": {
          "base_uri": "https://localhost:8080/"
        },
        "id": "WkKZ8yP-RaG1",
        "outputId": "e93f39af-22a1-4aaf-9fd2-027875fe685b"
      },
      "execution_count": 9,
      "outputs": [
        {
          "output_type": "stream",
          "name": "stdout",
          "text": [
            "Random Integers Array:\n",
            "[845 259 775 579 390 469 724 121 802  24  92 484 596 100 847 696 409 772\n",
            " 933 513 491 967 800 342 258 810 202 469 620 825 574 987 568 510  16 456\n",
            " 767 765 305 668 889  45 541 911 811 206 435   2 575 658 155 873  76 572\n",
            " 196 190  27 870 772 867 481 380  71 211 920 491 471 295 387  65 386 532\n",
            " 858 649 933 465 220  51 218 967 864 835 512 432 167 123 681 882 358 359\n",
            "  91 908 915 648 671 823 683 419 290 719]\n",
            "\n",
            "Prime Numbers in the Array:\n",
            "[409, 491, 967, 541, 911, 811, 2, 71, 211, 491, 967, 167, 359, 823, 683, 419, 719]\n"
          ]
        }
      ]
    },
    {
      "cell_type": "markdown",
      "source": [
        "Q 10.Create a NumPy array representing daily temperatures for a month.Calculate and display the weekly averages."
      ],
      "metadata": {
        "id": "-rBDoFfHCyYd"
      }
    },
    {
      "cell_type": "code",
      "source": [
        "import numpy as np\n",
        "\n",
        "# Generate a NumPy array representing daily temperatures for 30 days\n",
        "daily_temperatures = np.random.randint(20, 40, size=30)  # Random temperatures between 20 and 40\n",
        "\n",
        "# Calculate the weekly averages\n",
        "weekly_averages = [np.mean(daily_temperatures[i:i+7]) for i in range(0, 30, 7)]\n",
        "\n",
        "print(\"Daily Temperatures for a Month:\")\n",
        "print(daily_temperatures)\n",
        "print(\"\\nWeekly Averages:\")\n",
        "print(weekly_averages)\n"
      ],
      "metadata": {
        "colab": {
          "base_uri": "https://localhost:8080/"
        },
        "id": "yxYyO99uRegk",
        "outputId": "f5709b51-c0a9-4d31-bb10-cd5edf3cdf73"
      },
      "execution_count": 10,
      "outputs": [
        {
          "output_type": "stream",
          "name": "stdout",
          "text": [
            "Daily Temperatures for a Month:\n",
            "[31 21 32 26 24 22 27 30 20 21 20 39 24 25 21 24 21 26 25 26 38 36 35 33\n",
            " 29 25 28 21 20 31]\n",
            "\n",
            "Weekly Averages:\n",
            "[26.142857142857142, 25.571428571428573, 25.857142857142858, 29.571428571428573, 25.5]\n"
          ]
        }
      ]
    }
  ]
}