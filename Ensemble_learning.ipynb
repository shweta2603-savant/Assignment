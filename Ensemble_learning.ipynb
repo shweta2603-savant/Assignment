{
  "nbformat": 4,
  "nbformat_minor": 0,
  "metadata": {
    "colab": {
      "provenance": []
    },
    "kernelspec": {
      "name": "python3",
      "display_name": "Python 3"
    },
    "language_info": {
      "name": "python"
    }
  },
  "cells": [
    {
      "cell_type": "markdown",
      "source": [
        "1. Can we use Bagging for regression problems?\n"
      ],
      "metadata": {
        "id": "_fMlrRwnVJVW"
      }
    },
    {
      "cell_type": "markdown",
      "source": [
        "Yes, **Bagging (Bootstrap Aggregating)** can definitely be used for **regression problems**, not just classification.\n",
        "\n",
        "### How it works in regression:\n",
        "- Multiple regression models (usually of the same type, like decision trees) are trained on **different bootstrap samples** of the dataset.\n",
        "- For a new input, each model makes a **numeric prediction**.\n",
        "- The final prediction is the **average** of all these predictions.\n",
        "\n",
        "### Why use Bagging in regression?\n",
        "- It helps **reduce variance** without increasing bias significantly.\n",
        "- It's especially useful with **high-variance models** like decision trees.\n",
        "- It can lead to more stable and accurate predictions.\n",
        "\n",
        "### A common example:\n",
        "- **Random Forest Regressor** is a popular ensemble model that uses Bagging with decision trees for regression tasks.\n",
        "\n",
        "Let me know if you want a quick example in Python!"
      ],
      "metadata": {
        "id": "eRBDTEQEVCAF"
      }
    },
    {
      "cell_type": "markdown",
      "source": [
        "2. What is the difference between multiple model training and single model training?\n",
        "\n"
      ],
      "metadata": {
        "id": "iyYPNghKVSKi"
      }
    },
    {
      "cell_type": "markdown",
      "source": [
        "Great question! Here's a simple breakdown of the difference between **single model training** and **multiple model training**:\n",
        "\n",
        "---\n",
        "\n",
        "### 🔹 Single Model Training:\n",
        "- You **train one model** on your dataset.\n",
        "- It learns patterns and makes predictions **on its own**.\n",
        "- Examples: A single decision tree, linear regression, or neural network.\n",
        "\n",
        "**Pros:**\n",
        "- Simpler to implement and understand.\n",
        "- Faster to train and predict.\n",
        "- Easier to interpret (especially with models like linear regression or decision trees).\n",
        "\n",
        "**Cons:**\n",
        "- Might **overfit** or **underfit** depending on the model.\n",
        "- May not capture complex relationships or uncertainties well.\n",
        "\n",
        "---\n",
        "\n",
        "### 🔹 Multiple Model Training (Ensemble Learning):\n",
        "- You train **several models** and combine their predictions.\n",
        "- Used in techniques like:\n",
        "  - **Bagging** (e.g., Random Forest)\n",
        "  - **Boosting** (e.g., XGBoost, AdaBoost)\n",
        "  - **Stacking**\n",
        "  \n",
        "**Pros:**\n",
        "- Usually **more accurate** and **robust** than a single model.\n",
        "- Helps reduce **variance**, **bias**, or both depending on the method.\n",
        "- More stable with noisy data.\n",
        "\n",
        "**Cons:**\n",
        "- More **computationally expensive**.\n",
        "- Harder to interpret.\n",
        "- Requires more **time and resources** for training and tuning.\n",
        "\n",
        "---\n",
        "\n",
        "### 🔁 Summary:\n",
        "\n",
        "| Feature                 | Single Model          | Multiple Models (Ensemble)    |\n",
        "|------------------------|-----------------------|-------------------------------|\n",
        "| Simplicity             | ✔️ Simple              | ❌ More complex                |\n",
        "| Performance            | ❌ Less robust         | ✔️ More accurate & robust      |\n",
        "| Interpretability       | ✔️ Easier              | ❌ Harder                      |\n",
        "| Training Time          | ✔️ Faster              | ❌ Slower                      |\n",
        "\n",
        "---\n",
        "\n",
        "Want an example where multiple model training clearly beats a single model?"
      ],
      "metadata": {
        "id": "OOyKTUvPVSHr"
      }
    },
    {
      "cell_type": "markdown",
      "source": [
        "3. Explain the concept of feature randomness in Random Forest.\n"
      ],
      "metadata": {
        "id": "sD-HcpJ4VSE4"
      }
    },
    {
      "cell_type": "markdown",
      "source": [
        "Absolutely! Let’s break down the concept of **feature randomness** in **Random Forests**:\n",
        "\n",
        "---\n",
        "\n",
        "### 🌲 What is Feature Randomness?\n",
        "\n",
        "In a **Random Forest**, feature randomness refers to the idea that:\n",
        "> **Each decision tree in the forest only considers a random subset of features when splitting at each node**, not all the features.\n",
        "\n",
        "---\n",
        "\n",
        "### 🤔 Why introduce feature randomness?\n",
        "\n",
        "This randomness helps to:\n",
        "- **Reduce correlation** between the individual trees.\n",
        "- Encourage **diversity** in the trees’ structure.\n",
        "- Improve **generalization** and **reduce overfitting**.\n",
        "\n",
        "Without feature randomness, many trees might end up looking similar, especially if some features are much more informative than others.\n",
        "\n",
        "---\n",
        "\n",
        "### ⚙️ How it works:\n",
        "\n",
        "- Suppose you have a dataset with **100 features**.\n",
        "- When a tree is building and needs to decide on a split at a node, instead of considering **all 100 features**, it might consider only a **random subset** (e.g., √100 = 10 features).\n",
        "- It picks the **best split** only among those 10 features.\n",
        "- This happens **at each split** of the tree, not just once.\n",
        "\n",
        "---\n",
        "\n",
        "### 📊 Example:\n",
        "\n",
        "| Tree | Features considered at each split |\n",
        "|------|-----------------------------------|\n",
        "| Tree 1 | Random 10 out of 100             |\n",
        "| Tree 2 | Another random 10 out of 100     |\n",
        "| Tree 3 | Yet another random 10            |\n",
        "\n",
        "Because of this randomness:\n",
        "- Trees are **decorrelated**.\n",
        "- The forest as a whole becomes **more powerful** through averaging.\n",
        "\n",
        "---\n",
        "\n",
        "### ✅ Benefit Recap:\n",
        "- Reduces overfitting\n",
        "- Improves accuracy\n",
        "- Increases robustness\n",
        "\n",
        "Let me know if you want a visual or a small code example to see it in action!"
      ],
      "metadata": {
        "id": "plvTu555VSAp"
      }
    },
    {
      "cell_type": "markdown",
      "source": [
        "4. What is OOB (Out-of-Bag) Score?\n"
      ],
      "metadata": {
        "id": "mXU4e8o5VR7E"
      }
    },
    {
      "cell_type": "markdown",
      "source": [
        "Great question! Let's break down the **OOB (Out-of-Bag) Score** in a way that's easy to grasp:\n",
        "\n",
        "---\n",
        "\n",
        "### 🧺 What is \"Out-of-Bag\" in Random Forest?\n",
        "\n",
        "In **Random Forest**, each tree is trained using a **bootstrap sample** — this means:\n",
        "- It randomly samples the training data **with replacement**.\n",
        "- So, some data points will be repeated, and **some won’t be selected at all**.\n",
        "\n",
        "The ones that **aren’t selected** for training a particular tree are called:\n",
        "> **Out-of-Bag (OOB) samples** for that tree.\n",
        "\n",
        "---\n",
        "\n",
        "### 📊 What is the OOB Score?\n",
        "\n",
        "The **OOB Score** is an internal validation method in Random Forests:\n",
        "> It's the **average accuracy (or error)** of each data point when predicted **only by the trees that did NOT train on it**.\n",
        "\n",
        "Think of it like a **built-in cross-validation**:\n",
        "- No need for a separate validation set.\n",
        "- Each data point is tested on multiple trees that never saw it during training.\n",
        "\n",
        "---\n",
        "\n",
        "### ✅ Why is OOB Score Useful?\n",
        "\n",
        "- **Saves time** — no need to create a separate test set or use cross-validation.\n",
        "- Gives an **unbiased estimate** of the model’s performance on unseen data.\n",
        "- Helps during model training for quick feedback.\n",
        "\n",
        "---\n",
        "\n",
        "### 🧠 Summary:\n",
        "\n",
        "| Feature           | Description                                     |\n",
        "|------------------|-------------------------------------------------|\n",
        "| OOB Samples       | Data not used in training a specific tree       |\n",
        "| OOB Prediction    | Prediction made using only OOB trees            |\n",
        "| OOB Score         | Accuracy (or R² score) using only OOB predictions |\n",
        "\n",
        "---\n",
        "\n",
        "### 📌 In Python (sklearn):\n",
        "\n",
        "```python\n",
        "from sklearn.ensemble import RandomForestClassifier\n",
        "\n",
        "model = RandomForestClassifier(oob_score=True)\n",
        "model.fit(X_train, y_train)\n",
        "\n",
        "print(\"OOB Score:\", model.oob_score_)\n",
        "```\n",
        "\n",
        "Let me know if you’d like an example with regression too!"
      ],
      "metadata": {
        "id": "4ULFk_FDVR23"
      }
    },
    {
      "cell_type": "markdown",
      "source": [
        "5. How can you measure the importance of features in a Random Forest model?\n"
      ],
      "metadata": {
        "id": "KhUHUlwDVQ3P"
      }
    },
    {
      "cell_type": "markdown",
      "source": [
        "Awesome question! In a **Random Forest model**, you can measure **feature importance** to understand **which features are most influential** in making predictions.\n",
        "\n",
        "There are two common ways to measure feature importance:\n",
        "\n",
        "---\n",
        "\n",
        "### 🔹 1. **Mean Decrease in Impurity (MDI)** (a.k.a. Gini Importance)\n",
        "This is the **default method** in most implementations like scikit-learn.\n",
        "\n",
        "**How it works:**\n",
        "- Every time a feature is used to split a node, the **impurity** (like Gini or MSE) goes down.\n",
        "- The total decrease in impurity is **accumulated** for each feature over all trees.\n",
        "- Features that cause **bigger drops in impurity** are considered more important.\n",
        "\n",
        "**Pros:**\n",
        "- Fast and built-in.\n",
        "- Easy to interpret.\n",
        "\n",
        "**Cons:**\n",
        "- Can be biased toward numerical or high-cardinality features.\n",
        "\n",
        "---\n",
        "\n",
        "### 🔹 2. **Permutation Importance**\n",
        "This is a **model-agnostic** and **more reliable** method.\n",
        "\n",
        "**How it works:**\n",
        "- First, calculate the model's **baseline accuracy** (or R²).\n",
        "- Then, **shuffle one feature's values**, and measure the drop in performance.\n",
        "- A bigger drop = the feature was more important.\n",
        "- Repeat for all features.\n",
        "\n",
        "**Pros:**\n",
        "- Works with any model, not just Random Forest.\n",
        "- Less biased.\n",
        "\n",
        "**Cons:**\n",
        "- Slower (you have to re-evaluate the model multiple times).\n",
        "\n",
        "---\n",
        "\n",
        "### 📊 In Python (scikit-learn):\n",
        "\n",
        "#### 🔸 MDI Feature Importances:\n",
        "```python\n",
        "importances = model.feature_importances_\n",
        "```\n",
        "\n",
        "#### 🔸 Permutation Importances:\n",
        "```python\n",
        "from sklearn.inspection import permutation_importance\n",
        "\n",
        "result = permutation_importance(model, X_val, y_val, n_repeats=10, random_state=42)\n",
        "importances = result.importances_mean\n",
        "```\n",
        "\n",
        "---\n",
        "\n",
        "### 🧠 Summary:\n",
        "\n",
        "| Method               | Description                          | Pros                  | Cons              |\n",
        "|----------------------|--------------------------------------|------------------------|-------------------|\n",
        "| Mean Decrease in Impurity | Based on splits in trees              | Fast, easy             | Can be biased      |\n",
        "| Permutation Importance     | Based on performance drop after shuffling | More reliable          | Slower to compute  |\n",
        "\n",
        "Let me know if you want a plot of feature importances or a full working code snippet!"
      ],
      "metadata": {
        "id": "PvMTpa9rVQ0E"
      }
    },
    {
      "cell_type": "markdown",
      "source": [
        "6. Explain the working principle of a Bagging Classifier.\n"
      ],
      "metadata": {
        "id": "VGEO-RdxVQqJ"
      }
    },
    {
      "cell_type": "markdown",
      "source": [
        "Sure! Here's a clear and simple explanation of how a **Bagging Classifier** works:\n",
        "\n",
        "---\n",
        "\n",
        "### 🧠 What is a Bagging Classifier?\n",
        "\n",
        "**Bagging (Bootstrap Aggregating)** is an ensemble learning method that combines **multiple base classifiers** to improve stability and accuracy.\n",
        "\n",
        "> A **Bagging Classifier** is a model that uses **bagging** with a **classification algorithm** (like decision trees) to make better predictions.\n",
        "\n",
        "---\n",
        "\n",
        "### ⚙️ Working Principle – Step by Step:\n",
        "\n",
        "1. **Bootstrap Sampling**:\n",
        "   - From your original dataset, generate **multiple random samples** (with replacement).\n",
        "   - Each sample may contain repeated records and will be used to train a separate model.\n",
        "\n",
        "2. **Train Multiple Models**:\n",
        "   - Train **the same type of model** (e.g., Decision Tree Classifier) on each bootstrap sample.\n",
        "   - Each model will learn slightly different things due to different training data.\n",
        "\n",
        "3. **Voting for Final Prediction**:\n",
        "   - When making predictions:\n",
        "     - Each model gives its prediction (class label).\n",
        "     - The **final output** is decided by **majority vote** (the class predicted by most models).\n",
        "\n",
        "---\n",
        "\n",
        "### 🧩 Example: Binary Classification\n",
        "\n",
        "- You build 10 decision tree classifiers using different bootstrapped subsets.\n",
        "- For a new data point:\n",
        "  - 6 models predict class **A**, 4 models predict class **B**.\n",
        "  - The Bagging Classifier outputs class **A** (majority wins).\n",
        "\n",
        "---\n",
        "\n",
        "### ✅ Why Use a Bagging Classifier?\n",
        "\n",
        "- **Reduces variance**: Especially useful for high-variance models like decision trees.\n",
        "- **Improves generalization**: Less likely to overfit.\n",
        "- **Robust to noise**: Since multiple models vote, it smooths out outliers and random noise.\n",
        "\n",
        "---\n",
        "\n",
        "### 🛠 In Python (with scikit-learn):\n",
        "\n",
        "```python\n",
        "from sklearn.ensemble import BaggingClassifier\n",
        "from sklearn.tree import DecisionTreeClassifier\n",
        "\n",
        "model = BaggingClassifier(\n",
        "    base_estimator=DecisionTreeClassifier(),\n",
        "    n_estimators=100,\n",
        "    random_state=42\n",
        ")\n",
        "\n",
        "model.fit(X_train, y_train)\n",
        "```\n",
        "\n",
        "---\n",
        "\n",
        "### 📌 Summary:\n",
        "\n",
        "| Step                   | Description                             |\n",
        "|------------------------|-----------------------------------------|\n",
        "| Sampling               | Random bootstrapped subsets             |\n",
        "| Model Training         | Train a base classifier on each subset |\n",
        "| Prediction             | Majority voting among all classifiers  |\n",
        "\n",
        "---\n",
        "\n",
        "Let me know if you want to compare it to Boosting next!"
      ],
      "metadata": {
        "id": "_5g0HUOQVQmm"
      }
    },
    {
      "cell_type": "markdown",
      "source": [
        "7. How do you evaluate a Bagging Classifier's performance?\n"
      ],
      "metadata": {
        "id": "QTsJu3G5VQjh"
      }
    },
    {
      "cell_type": "markdown",
      "source": [
        "Great question! Evaluating a **Bagging Classifier's performance** is very similar to evaluating any classification model — but with a few **extra perks** specific to bagging (like OOB score). Here's how you do it:\n",
        "\n",
        "---\n",
        "\n",
        "### 🔹 1. **Train-Test Split or Cross-Validation**\n",
        "Use a separate **test set** or **cross-validation** to check how well your model generalizes.\n",
        "\n",
        "**Common metrics:**\n",
        "- **Accuracy** – Overall correctness\n",
        "- **Precision, Recall, F1 Score** – Especially useful for imbalanced data\n",
        "- **Confusion Matrix** – Gives a full breakdown of predictions\n",
        "- **ROC-AUC** – Measures performance across all classification thresholds\n",
        "\n",
        "---\n",
        "\n",
        "### 🔹 2. **OOB (Out-of-Bag) Score** (Bonus from Bagging!)\n",
        "Bagging models like `BaggingClassifier` support **OOB evaluation**, which gives you an **unbiased performance estimate** without needing a separate validation set.\n",
        "\n",
        "**How to use it:**\n",
        "```python\n",
        "from sklearn.ensemble import BaggingClassifier\n",
        "from sklearn.tree import DecisionTreeClassifier\n",
        "\n",
        "model = BaggingClassifier(\n",
        "    base_estimator=DecisionTreeClassifier(),\n",
        "    n_estimators=100,\n",
        "    oob_score=True,\n",
        "    random_state=42\n",
        ")\n",
        "\n",
        "model.fit(X_train, y_train)\n",
        "print(\"OOB Score:\", model.oob_score_)\n",
        "```\n",
        "\n",
        "---\n",
        "\n",
        "### 🔹 3. **Evaluate on Test Data**\n",
        "Once trained, evaluate the model like so:\n",
        "\n",
        "```python\n",
        "from sklearn.metrics import accuracy_score, classification_report\n",
        "\n",
        "y_pred = model.predict(X_test)\n",
        "\n",
        "print(\"Accuracy:\", accuracy_score(y_test, y_pred))\n",
        "print(classification_report(y_test, y_pred))\n",
        "```\n",
        "\n",
        "---\n",
        "\n",
        "### 📈 Optional Extras:\n",
        "- **Plot learning curves**\n",
        "- **Check feature importances** if base estimator supports it\n",
        "- **Compare performance with and without bagging**\n",
        "\n",
        "---\n",
        "\n",
        "### 🧠 Summary:\n",
        "\n",
        "| Evaluation Method      | Purpose                                |\n",
        "|------------------------|----------------------------------------|\n",
        "| Accuracy / F1 Score    | Measure overall performance            |\n",
        "| Confusion Matrix       | See detailed prediction breakdown      |\n",
        "| ROC-AUC Curve          | Evaluate classifier threshold behavior |\n",
        "| OOB Score              | Built-in, no need for validation set   |\n",
        "\n",
        "---\n",
        "\n",
        "Let me know if you want help plotting performance or tuning the BaggingClassifier for best results!"
      ],
      "metadata": {
        "id": "E3JhBQh0VQgh"
      }
    },
    {
      "cell_type": "markdown",
      "source": [
        "8. How does a Bagging Regressor work?\n"
      ],
      "metadata": {
        "id": "UDQpJ55hVQLT"
      }
    },
    {
      "cell_type": "markdown",
      "source": [
        "Great follow-up! A **Bagging Regressor** works very similarly to a Bagging Classifier, but it's used for **regression tasks** — meaning it predicts **continuous numeric values** rather than class labels.\n",
        "\n",
        "Let’s break it down step by step:\n",
        "\n",
        "---\n",
        "\n",
        "### 🔧 **How a Bagging Regressor Works**\n",
        "\n",
        "1. **Bootstrap Sampling**:\n",
        "   - Generate multiple **random subsets** of your training data using **sampling with replacement**.\n",
        "   - Each subset will train a different **base regressor** (often a Decision Tree Regressor).\n",
        "\n",
        "2. **Train Multiple Regressors**:\n",
        "   - A base regressor is trained on each bootstrapped sample.\n",
        "   - Because the data varies, each model learns **slightly different patterns**.\n",
        "\n",
        "3. **Aggregate Predictions by Averaging**:\n",
        "   - For a new data point, each model makes a prediction (e.g., house price).\n",
        "   - The final output is the **average** of all those predictions.\n",
        "\n",
        "   > Prediction = (pred₁ + pred₂ + ... + predₙ) / n\n",
        "\n",
        "---\n",
        "\n",
        "### 🧠 Example:\n",
        "\n",
        "You train 5 decision tree regressors, and they predict the following for a new sample:\n",
        "\n",
        "- Tree 1: $220,000  \n",
        "- Tree 2: $210,000  \n",
        "- Tree 3: $225,000  \n",
        "- Tree 4: $230,000  \n",
        "- Tree 5: $215,000\n",
        "\n",
        "**Final Bagging Regressor Output** =  \n",
        "(220,000 + 210,000 + 225,000 + 230,000 + 215,000) / 5 = **$220,000**\n",
        "\n",
        "---\n",
        "\n",
        "### ✅ Why Use a Bagging Regressor?\n",
        "\n",
        "- **Reduces variance** in high-variance models (like decision trees).\n",
        "- Improves **stability and accuracy**.\n",
        "- Helps avoid **overfitting**.\n",
        "- More **robust** to noise in the training data.\n",
        "\n",
        "---\n",
        "\n",
        "### 📘 In Python (scikit-learn):\n",
        "\n",
        "```python\n",
        "from sklearn.ensemble import BaggingRegressor\n",
        "from sklearn.tree import DecisionTreeRegressor\n",
        "\n",
        "model = BaggingRegressor(\n",
        "    base_estimator=DecisionTreeRegressor(),\n",
        "    n_estimators=100,\n",
        "    random_state=42\n",
        ")\n",
        "\n",
        "model.fit(X_train, y_train)\n",
        "y_pred = model.predict(X_test)\n",
        "```\n",
        "\n",
        "---\n",
        "\n",
        "### 🧪 Evaluate with regression metrics:\n",
        "- **Mean Squared Error (MSE)**\n",
        "- **Mean Absolute Error (MAE)**\n",
        "- **R² Score**\n",
        "\n",
        "```python\n",
        "from sklearn.metrics import mean_squared_error, r2_score\n",
        "\n",
        "print(\"MSE:\", mean_squared_error(y_test, y_pred))\n",
        "print(\"R²:\", r2_score(y_test, y_pred))\n",
        "```\n",
        "\n",
        "---\n",
        "\n",
        "### 🧾 Summary:\n",
        "\n",
        "| Step              | Description                             |\n",
        "|-------------------|------------------------------------------|\n",
        "| Bootstrap Samples | Random subsets (with replacement)        |\n",
        "| Train Models      | Same regressor (e.g., Decision Tree)     |\n",
        "| Combine Output    | **Average predictions** for final result |\n",
        "\n",
        "Let me know if you want a comparison between Bagging and Boosting for regression!"
      ],
      "metadata": {
        "id": "l1CDBxnCVQIc"
      }
    },
    {
      "cell_type": "markdown",
      "source": [
        "9. What is the main advantage of ensemble techniques?\n"
      ],
      "metadata": {
        "id": "6UGXc2odVQDw"
      }
    },
    {
      "cell_type": "markdown",
      "source": [
        "Great wrap-up question! The **main advantage of ensemble techniques** is:\n",
        "\n",
        "> 🧠 **They combine multiple models to create a stronger, more accurate, and more robust overall model than any single one could achieve on its own.**\n",
        "\n",
        "Let’s break that down a bit more:\n",
        "\n",
        "---\n",
        "\n",
        "### 🔑 **Key Advantages of Ensemble Techniques**\n",
        "\n",
        "1. ### ✅ **Higher Accuracy**\n",
        "   - By combining predictions from multiple models, ensembles **correct individual model mistakes**.\n",
        "   - Reduces the risk of picking a “bad” model.\n",
        "\n",
        "2. ### 🔁 **Reduced Overfitting**\n",
        "   - Techniques like **Bagging** (e.g., Random Forest) help reduce overfitting by averaging models trained on different samples.\n",
        "   - Boosting methods (like Gradient Boosting) **focus on hard-to-predict examples** without overfitting quickly.\n",
        "\n",
        "3. ### 📉 **Reduced Variance and/or Bias**\n",
        "   - Bagging: Reduces **variance** (good for high-variance models like decision trees).\n",
        "   - Boosting: Reduces **bias** (good for underfitting models).\n",
        "\n",
        "4. ### 💪 **More Robust and Stable Predictions**\n",
        "   - Ensembles are **less sensitive to noise** or outliers in the data.\n",
        "   - They smooth out anomalies across multiple models.\n",
        "\n",
        "5. ### 📊 **Better Generalization**\n",
        "   - Ensembles usually perform better on **unseen data** because they combine different perspectives on the data.\n",
        "\n",
        "---\n",
        "\n",
        "### 🔁 Analogy:\n",
        "Think of it like a **committee of experts**:\n",
        "- One expert might be wrong.\n",
        "- But a group decision (averaging or voting) tends to be **more reliable** and **less extreme**.\n",
        "\n",
        "---\n",
        "\n",
        "### 🧾 Summary Table:\n",
        "\n",
        "| Advantage              | Benefit                                |\n",
        "|------------------------|----------------------------------------|\n",
        "| Improved Accuracy      | Combines strengths of multiple models  |\n",
        "| Reduced Overfitting    | More stable predictions                |\n",
        "| Lower Variance/Bias    | Depending on method (bagging/boosting) |\n",
        "| Better Generalization  | Performs well on new data              |\n",
        "\n",
        "---\n",
        "\n",
        "If you're curious, I can also break down which ensemble technique to use in which scenario — just let me know!"
      ],
      "metadata": {
        "id": "E9jEb_5eVQA2"
      }
    },
    {
      "cell_type": "markdown",
      "source": [
        "10. What is the main challenge of ensemble methods?\n"
      ],
      "metadata": {
        "id": "JtfKU0lbVP91"
      }
    },
    {
      "cell_type": "markdown",
      "source": [
        "Great question! While **ensemble methods** offer powerful advantages, they do come with some **challenges**. The **main challenge** is:\n",
        "\n",
        "> ⚠️ **Increased complexity and reduced interpretability.**\n",
        "\n",
        "Let’s dig into this and a few other key challenges:\n",
        "\n",
        "---\n",
        "\n",
        "### 🔹 1. **Reduced Interpretability**\n",
        "- Unlike simple models (e.g., linear regression or a single decision tree), ensembles are **harder to understand and explain**.\n",
        "- For example, it’s tough to say exactly *why* a Random Forest or Gradient Boosting model made a particular decision.\n",
        "\n",
        "---\n",
        "\n",
        "### 🔹 2. **Higher Computational Cost**\n",
        "- Training **multiple models** (especially if using complex base learners or lots of estimators) takes more **time and memory**.\n",
        "- This can be an issue for large datasets or real-time applications.\n",
        "\n",
        "---\n",
        "\n",
        "### 🔹 3. **Difficult to Tune**\n",
        "- Ensemble methods often come with **many hyperparameters**.\n",
        "- Choosing the right number of models, depth of trees, learning rate, etc., can require extensive tuning and cross-validation.\n",
        "\n",
        "---\n",
        "\n",
        "### 🔹 4. **Risk of Overfitting (in some cases)**\n",
        "- While methods like Bagging reduce overfitting, **Boosting techniques** (like XGBoost or AdaBoost) can overfit if not properly tuned.\n",
        "\n",
        "---\n",
        "\n",
        "### 🔹 5. **Harder Deployment**\n",
        "- Larger and more complex models are **more difficult to deploy** in low-latency or resource-constrained environments.\n",
        "\n",
        "---\n",
        "\n",
        "### 🧾 Summary Table:\n",
        "\n",
        "| Challenge               | Description                                             |\n",
        "|-------------------------|---------------------------------------------------------|\n",
        "| ❗ Interpretability      | Hard to explain predictions                             |\n",
        "| 🖥️ Computational Cost     | Requires more time and resources                       |\n",
        "| ⚙️ Hyperparameter Tuning  | Often needs careful tuning for best performance        |\n",
        "| ⚠️ Overfitting Risk        | Especially in Boosting if not tuned well               |\n",
        "| 📦 Deployment Complexity | Harder to integrate into production pipelines           |\n",
        "\n",
        "---\n",
        "\n",
        "### ✅ Pro Tip:\n",
        "If interpretability is critical (e.g., in healthcare or finance), you might want to:\n",
        "- Use simpler models.\n",
        "- Or combine ensembles with **explainability tools** like SHAP or LIME.\n",
        "\n",
        "Want help comparing different ensemble methods based on use cases?"
      ],
      "metadata": {
        "id": "4sDR9GwUVP5G"
      }
    },
    {
      "cell_type": "markdown",
      "source": [
        "11. Explain the key idea behind ensemble techniques.\n"
      ],
      "metadata": {
        "id": "emYcu57XVP16"
      }
    },
    {
      "cell_type": "markdown",
      "source": [
        "The key idea behind **ensemble techniques** is to **combine multiple models** (often called **learners** or **base models**) to create a stronger, more accurate, and more robust model.\n",
        "\n",
        "In simpler terms:\n",
        "> **Ensemble learning takes a group of weaker models and combines them to make a stronger model that performs better than any individual model could on its own.**\n",
        "\n",
        "---\n",
        "\n",
        "### 🔑 **Key Concepts Behind Ensemble Techniques**:\n",
        "\n",
        "1. **Diversity of Models**:\n",
        "   - The ensemble works best when the models are **diverse**, meaning they make different types of errors.\n",
        "   - By combining diverse models, the ensemble can **average out** or **correct mistakes**, leading to better overall performance.\n",
        "\n",
        "2. **Combining Predictions**:\n",
        "   - For **classification tasks**, the ensemble typically combines predictions through:\n",
        "     - **Majority voting** (for Bagging).\n",
        "     - **Weighted voting or boosting** (for Boosting).\n",
        "   - For **regression tasks**, the ensemble averages the predictions from multiple models.\n",
        "\n",
        "3. **Reduction of Overfitting**:\n",
        "   - Some ensemble methods, like **Bagging**, reduce **variance** (overfitting to the training data), while others, like **Boosting**, reduce **bias** (underfitting).\n",
        "   - The goal is to **generalize better** to unseen data by leveraging multiple models instead of relying on a single model that might overfit or underfit.\n",
        "\n",
        "---\n",
        "\n",
        "### 🔍 **Why It Works**:\n",
        "\n",
        "- **Independence of errors**: By combining multiple models, the chances that all models make the same mistake on a given input is **lower**, which improves the ensemble's accuracy.\n",
        "  \n",
        "- **Boosting and Bagging**:\n",
        "  - **Bagging (Bootstrap Aggregating)**: Builds multiple models independently on random subsets of data and averages their predictions. It helps reduce **variance**.\n",
        "  - **Boosting**: Trains models sequentially, with each new model focusing on correcting the mistakes of the previous one. It helps reduce **bias**.\n",
        "\n",
        "---\n",
        "\n",
        "### 🎯 **Key Benefits of Ensemble Techniques**:\n",
        "- **Improved performance**: Often, ensembles outperform single models by a significant margin.\n",
        "- **More robust**: Less likely to be influenced by noise or overfitting.\n",
        "- **Versatility**: Ensemble methods can be used for both **classification** and **regression** tasks.\n",
        "\n",
        "---\n",
        "\n",
        "### 🧾 Summary:\n",
        "The core idea is to take multiple weak models, each making different mistakes, and combine them to make a stronger overall model that performs better on **generalization** (unseen data).\n",
        "\n",
        "---\n",
        "\n",
        "Would you like to explore specific types of ensemble methods like **Bagging** and **Boosting**?"
      ],
      "metadata": {
        "id": "YcSfxtbTVPyc"
      }
    },
    {
      "cell_type": "markdown",
      "source": [
        "12. What is a Random Forest Classifier?\n"
      ],
      "metadata": {
        "id": "pTwyAatSVPtx"
      }
    },
    {
      "cell_type": "markdown",
      "source": [
        "A **Random Forest Classifier** is an ensemble learning algorithm primarily used for **classification tasks**. It builds a **forest** of **decision trees** and makes predictions by combining the results of these individual trees.\n",
        "\n",
        "Here's how it works, broken down step by step:\n",
        "\n",
        "---\n",
        "\n",
        "### 🌲 **What is Random Forest?**\n",
        "\n",
        "**Random Forest** is an ensemble method that combines **multiple decision trees** to improve performance and robustness.\n",
        "\n",
        "- Each tree is trained on a **random subset** of the data (using **bootstrap sampling**).\n",
        "- At each split in a tree, **a random subset of features** is considered, which makes each tree **less correlated** with the others.\n",
        "\n",
        "The final **classification** prediction is made by **majority voting** from all the trees in the forest. The more trees in the forest, the better the model's performance tends to be, although after a certain point, the performance plateaus.\n",
        "\n",
        "---\n",
        "\n",
        "### ⚙️ **How Does a Random Forest Classifier Work?**\n",
        "\n",
        "1. **Bootstrap Sampling**:\n",
        "   - From your training data, create multiple **random subsets** by sampling **with replacement**. Each subset will be used to train a separate decision tree.\n",
        "   \n",
        "2. **Training Multiple Decision Trees**:\n",
        "   - Each decision tree is trained on a different bootstrap sample, and at each split, only a **random subset of features** is considered for making a decision.\n",
        "   \n",
        "3. **Majority Voting**:\n",
        "   - When making predictions, each tree in the forest **votes** for a class.\n",
        "   - The **final prediction** is based on the class that received the majority of votes from all trees in the forest.\n",
        "\n",
        "---\n",
        "\n",
        "### ✅ **Why Use Random Forest Classifier?**\n",
        "\n",
        "- **Reduces Overfitting**: By using multiple trees and averaging their results, random forests reduce the risk of overfitting that individual decision trees may experience.\n",
        "- **Improved Accuracy**: Combining predictions from many trees often leads to better generalization and higher accuracy.\n",
        "- **Handles Missing Data Well**: Random forests can handle missing data and still make reliable predictions.\n",
        "- **Handles High-Dimensional Data**: Random forests can work well with data that has many features and handle categorical and continuous variables efficiently.\n",
        "- **Robust to Noise**: Since multiple trees vote, the model is less sensitive to noisy data points.\n",
        "\n",
        "---\n",
        "\n",
        "### 🧑‍💻 **In Python (scikit-learn)**:\n",
        "\n",
        "Here's how to train a Random Forest Classifier using scikit-learn:\n",
        "\n",
        "```python\n",
        "from sklearn.ensemble import RandomForestClassifier\n",
        "\n",
        "# Initialize model\n",
        "model = RandomForestClassifier(n_estimators=100, random_state=42)\n",
        "\n",
        "# Train model on data\n",
        "model.fit(X_train, y_train)\n",
        "\n",
        "# Make predictions\n",
        "y_pred = model.predict(X_test)\n",
        "\n",
        "# Evaluate model\n",
        "from sklearn.metrics import accuracy_score\n",
        "print(\"Accuracy:\", accuracy_score(y_test, y_pred))\n",
        "```\n",
        "\n",
        "---\n",
        "\n",
        "### 🔑 **Key Hyperparameters**:\n",
        "\n",
        "- **n_estimators**: The number of trees in the forest.\n",
        "- **max_depth**: The maximum depth of each tree (limits the complexity).\n",
        "- **min_samples_split**: The minimum number of samples required to split an internal node.\n",
        "- **max_features**: The number of features to consider when looking for the best split.\n",
        "- **random_state**: For reproducibility.\n",
        "\n",
        "---\n",
        "\n",
        "### 🧾 **Summary**:\n",
        "\n",
        "A **Random Forest Classifier** combines many decision trees to improve classification accuracy and robustness. It reduces overfitting, handles high-dimensional data well, and provides reliable predictions by averaging the results of individual decision trees.\n",
        "\n",
        "---\n",
        "\n",
        "Let me know if you'd like to dive deeper into how the decision trees in Random Forest work or explore its advantages over other classifiers!"
      ],
      "metadata": {
        "id": "lKjJmTm1VPqE"
      }
    },
    {
      "cell_type": "markdown",
      "source": [
        "13. What are the main types of ensemble techniques?"
      ],
      "metadata": {
        "id": "ZQA6iyAuVPRR"
      }
    },
    {
      "cell_type": "markdown",
      "source": [
        "Ensemble techniques combine multiple models to improve performance, and there are **three main types** of ensemble methods:\n",
        "\n",
        "### 1. **Bagging (Bootstrap Aggregating)**\n",
        "   - **Key Idea**: Build multiple models (usually the same type of model) independently using **bootstrapped subsets** of the data, and combine their predictions to reduce variance and prevent overfitting.\n",
        "   - **How it works**: Each model is trained on a **random subset of the training data** (with replacement). For prediction, each model \"votes\" and the majority vote (classification) or average (regression) is used as the final prediction.\n",
        "   - **Main Goal**: Reduce **variance** (especially in high-variance models like decision trees).\n",
        "   - **Examples**:\n",
        "     - **Random Forest**: A type of Bagging with decision trees as the base model.\n",
        "     - **Bagging Regressor**: Similar to Random Forest, but for regression tasks.\n",
        "\n",
        "---\n",
        "\n",
        "### 2. **Boosting**\n",
        "   - **Key Idea**: Train multiple models **sequentially**, where each new model tries to correct the mistakes of the previous ones. The predictions are combined, often with weighted voting or averaging.\n",
        "   - **How it works**: In each iteration, a model is trained on the **entire training set**, but the weights of the misclassified instances are increased so the next model focuses on these harder cases. Boosting aims to **reduce bias** by sequentially improving predictions.\n",
        "   - **Main Goal**: Reduce **bias** and improve predictive performance.\n",
        "   - **Examples**:\n",
        "     - **AdaBoost**: Adapts the weights of misclassified instances and focuses more on hard-to-classify data points.\n",
        "     - **Gradient Boosting** (e.g., **XGBoost**, **LightGBM**, **CatBoost**): Builds trees sequentially, where each new tree fits the residuals (errors) of the previous tree.\n",
        "\n",
        "---\n",
        "\n",
        "### 3. **Stacking (Stacked Generalization)**\n",
        "   - **Key Idea**: Combine predictions from multiple models (called **base learners**) by training a **meta-model** on the outputs of the base models to make a final prediction.\n",
        "   - **How it works**:\n",
        "     1. Train several base models (can be different types of models, such as decision trees, logistic regression, etc.).\n",
        "     2. Use the predictions of these base models as inputs to a **meta-model** (often a simple model like logistic regression or another classifier).\n",
        "     3. The meta-model learns how to best combine these predictions to improve the overall performance.\n",
        "   - **Main Goal**: Leverage the strengths of different types of models by using a meta-model to combine them in an optimal way.\n",
        "   - **Examples**:\n",
        "     - **Stacked Generalization**: Combining base models like Random Forest, SVM, and Logistic Regression, then training a meta-model to combine their outputs.\n",
        "\n",
        "---\n",
        "\n",
        "### 🧩 **Summary of Main Ensemble Methods**:\n",
        "\n",
        "| **Ensemble Technique** | **Key Idea**                                                                                   | **Main Goal**    | **Examples**                                                   |\n",
        "|------------------------|-----------------------------------------------------------------------------------------------|------------------|---------------------------------------------------------------|\n",
        "| **Bagging**             | Build models independently on bootstrapped data, combine predictions                          | Reduce variance  | **Random Forest**, **Bagging Regressor**                      |\n",
        "| **Boosting**            | Train models sequentially, each correcting the errors of the previous model                   | Reduce bias      | **AdaBoost**, **Gradient Boosting** (XGBoost, LightGBM, CatBoost) |\n",
        "| **Stacking**            | Train base models, then use their predictions to train a meta-model                           | Improve accuracy | **Stacked Generalization**                                    |\n",
        "\n",
        "---\n",
        "\n",
        "### 🧠 **Quick Recap:**\n",
        "- **Bagging**: Builds many **independent** models and combines their results to reduce variance.\n",
        "- **Boosting**: Builds models **sequentially**, focusing on correcting errors, to reduce bias.\n",
        "- **Stacking**: Uses a meta-model to combine predictions from multiple different models.\n",
        "\n",
        "---\n",
        "\n",
        "Would you like to dive deeper into one of these methods, or see code examples?"
      ],
      "metadata": {
        "id": "EP4wTGzRYelv"
      }
    },
    {
      "cell_type": "markdown",
      "source": [
        "14. What is ensemble learning in machine learning?"
      ],
      "metadata": {
        "id": "QQl7cR96YegR"
      }
    },
    {
      "cell_type": "markdown",
      "source": [
        "**Ensemble learning** in machine learning is a technique that combines the predictions of multiple models (often called **learners** or **base models**) to produce a **stronger, more accurate model** than any single model could achieve on its own. The idea is to leverage the **wisdom of the crowd**—multiple models working together can reduce errors, improve performance, and make more reliable predictions.\n",
        "\n",
        "### 🌟 **Key Idea of Ensemble Learning**:\n",
        "- Instead of relying on a **single model**, ensemble learning combines several models to **enhance overall performance**, whether by reducing errors, increasing accuracy, or providing robustness against noise in the data.\n",
        "\n",
        "---\n",
        "\n",
        "### 🔑 **Why Use Ensemble Learning?**\n",
        "\n",
        "1. **Better Accuracy**: By combining predictions, ensembles can outperform individual models. This is especially helpful when individual models are prone to high variance (like decision trees) or high bias (like linear models).\n",
        "  \n",
        "2. **Reduces Overfitting**: Many ensemble methods, such as **Bagging**, reduce the likelihood of overfitting by averaging out the mistakes of individual models.\n",
        "\n",
        "3. **Robustness to Noise**: Ensembles tend to be more **robust** to outliers and noisy data, as different models may \"smooth out\" extreme values in the dataset.\n",
        "\n",
        "4. **Improved Generalization**: Ensemble methods often generalize better to unseen data, because they combine the strengths of different base models.\n",
        "\n",
        "---\n",
        "\n",
        "### ⚙️ **How Does Ensemble Learning Work?**\n",
        "\n",
        "Ensemble methods combine predictions using one of the following strategies:\n",
        "\n",
        "1. **Voting** (for Classification):\n",
        "   - Each model in the ensemble makes a prediction (often called a \"vote\").\n",
        "   - The **final prediction** is made by **majority voting** (for classification) or **averaging** (for regression).\n",
        "   \n",
        "2. **Weighted Voting** (for Classification):\n",
        "   - Instead of all models having equal weight, **more accurate models may have more influence** on the final prediction.\n",
        "   \n",
        "3. **Boosting and Bagging**:\n",
        "   - **Bagging**: Build multiple models **independently**, often with random subsets of data (e.g., Random Forest).\n",
        "   - **Boosting**: Build models **sequentially**, where each new model attempts to correct the mistakes of the previous one (e.g., AdaBoost, XGBoost).\n",
        "\n",
        "---\n",
        "\n",
        "### 📚 **Common Ensemble Methods**:\n",
        "\n",
        "1. **Bagging (Bootstrap Aggregating)**:\n",
        "   - Involves creating multiple models independently using random subsets of the training data.\n",
        "   - **Random Forest** is a popular example of bagging.\n",
        "   \n",
        "2. **Boosting**:\n",
        "   - Builds models sequentially where each model is trained to correct the errors made by the previous one.\n",
        "   - **AdaBoost**, **Gradient Boosting**, and **XGBoost** are popular boosting algorithms.\n",
        "\n",
        "3. **Stacking (Stacked Generalization)**:\n",
        "   - Combines predictions from multiple models (which can be different types of models) and uses a **meta-model** to make the final prediction.\n",
        "\n",
        "---\n",
        "\n",
        "### 🌱 **Benefits of Ensemble Learning**:\n",
        "\n",
        "- **Increased Model Robustness**: The final model is less likely to be biased by any individual base model.\n",
        "- **Better Performance on Complex Datasets**: Combining diverse models can handle complex relationships better than a single model.\n",
        "- **Flexibility**: You can combine models that are quite different, like decision trees, logistic regression, and neural networks.\n",
        "\n",
        "---\n",
        "\n",
        "### 🧑‍💻 **In Python (scikit-learn)**:\n",
        "\n",
        "Here’s an example of how you can implement a **Random Forest** classifier (a Bagging technique) in scikit-learn:\n",
        "\n",
        "```python\n",
        "from sklearn.ensemble import RandomForestClassifier\n",
        "\n",
        "# Initialize the model\n",
        "model = RandomForestClassifier(n_estimators=100, random_state=42)\n",
        "\n",
        "# Train the model\n",
        "model.fit(X_train, y_train)\n",
        "\n",
        "# Make predictions\n",
        "y_pred = model.predict(X_test)\n",
        "\n",
        "# Evaluate the model\n",
        "from sklearn.metrics import accuracy_score\n",
        "print(\"Accuracy:\", accuracy_score(y_test, y_pred))\n",
        "```\n",
        "\n",
        "---\n",
        "\n",
        "### 🧾 **Summary**:\n",
        "Ensemble learning is the process of combining multiple models to create a **stronger, more accurate model**. The three main types are **Bagging**, **Boosting**, and **Stacking**. The goal is to improve model performance by reducing bias, variance, or both.\n",
        "\n",
        "---\n",
        "\n",
        "Let me know if you’d like to dive deeper into any specific ensemble method or want examples of how they can be used!"
      ],
      "metadata": {
        "id": "IVaOTT8fYeZi"
      }
    },
    {
      "cell_type": "markdown",
      "source": [
        "15. When should we avoid using ensemble methods?\n"
      ],
      "metadata": {
        "id": "IZbMmDSGYeMh"
      }
    },
    {
      "cell_type": "markdown",
      "source": [
        "While ensemble methods can significantly improve performance in many cases, there are situations where they may not be the best choice. Here are some key scenarios when you **should avoid using ensemble methods**:\n",
        "\n",
        "---\n",
        "\n",
        "### 🚫 **1. When Model Interpretability is Crucial**\n",
        "- **Ensemble methods**, especially complex ones like **Random Forests** and **Gradient Boosting**, tend to be **less interpretable** than simple models like linear regression or decision trees.\n",
        "- If your model needs to be easily **explained** (e.g., in regulated industries like healthcare or finance, where decisions need to be transparent), an ensemble model might be more difficult to explain.\n",
        "- **Alternative**: In such cases, simpler models like **logistic regression** or **decision trees** might be preferable.\n",
        "\n",
        "---\n",
        "\n",
        "### 🚫 **2. When You Have Limited Data**\n",
        "- Ensemble methods like **Random Forests** or **Boosting** often require a substantial amount of data to be effective.\n",
        "- If you have a **small dataset**, ensembles might lead to **overfitting** because multiple models can pick up noise from the limited data.\n",
        "- **Alternative**: If the dataset is small, you might be better off using simpler models like **logistic regression**, **K-Nearest Neighbors**, or even a single **decision tree**.\n",
        "\n",
        "---\n",
        "\n",
        "### 🚫 **3. When Computational Resources Are Limited**\n",
        "- Ensemble models, especially those with a large number of base models (e.g., a forest with thousands of trees or many boosting iterations), can be **computationally expensive**.\n",
        "- They require more memory and processing time during both training and prediction, which might not be feasible in **resource-constrained environments**.\n",
        "- **Alternative**: In such cases, you might opt for **single models** that are more efficient in terms of time and memory, such as **linear regression** or **SVMs**.\n",
        "\n",
        "---\n",
        "\n",
        "### 🚫 **4. When Prediction Time Needs to Be Very Fast**\n",
        "- Ensemble methods, particularly those involving **many base models**, can be slower during **prediction** due to the need to make predictions from multiple models and aggregate them.\n",
        "- If **real-time** predictions are required or low-latency predictions are critical, the time it takes for an ensemble method to make predictions might be an issue.\n",
        "- **Alternative**: In these cases, a single **decision tree** or a **logistic regression** model would likely provide faster predictions.\n",
        "\n",
        "---\n",
        "\n",
        "### 🚫 **5. When You’re Dealing with a High-dimensional Dataset (Without Sufficient Data)**\n",
        "- In high-dimensional spaces (with many features), some ensemble methods, like **Random Forests**, may become **inefficient** without sufficient data.\n",
        "- The number of features being randomly selected at each split can increase the model complexity, and without enough data, it might not generalize well.\n",
        "- **Alternative**: You might want to consider **feature selection** methods or dimensionality reduction techniques (e.g., **PCA**) before applying a simpler model.\n",
        "\n",
        "---\n",
        "\n",
        "### 🚫 **6. When the Model Complexity Needs to Be Low**\n",
        "- Ensemble methods are inherently more **complex** than single models. If the **simplicity** of your model is a priority, such as in embedded systems, mobile apps, or when explaining the model to non-technical stakeholders, using an ensemble might introduce unnecessary complexity.\n",
        "- **Alternative**: In these cases, simpler models like **logistic regression**, **SVMs**, or **Naive Bayes** can be more appropriate.\n",
        "\n",
        "---\n",
        "\n",
        "### 🧾 **Summary: When to Avoid Ensemble Methods**\n",
        "\n",
        "| **Scenario**                          | **Reason to Avoid**                                                  | **Alternative**                   |\n",
        "|---------------------------------------|----------------------------------------------------------------------|-----------------------------------|\n",
        "| **Model Interpretability**            | Hard to explain and interpret, especially for regulatory reasons      | Logistic regression, decision trees|\n",
        "| **Limited Data**                      | Prone to overfitting with small datasets                             | Single models (e.g., decision trees)|\n",
        "| **Limited Computational Resources**   | Ensemble models are resource-intensive in terms of time and memory    | Simpler models (e.g., linear models)|\n",
        "| **Fast Prediction Required**          | Slower prediction times due to multiple models being aggregated       | Decision trees, logistic regression|\n",
        "| **High-dimensional Data**             | Inefficient in high-dimensional spaces without sufficient data       | Feature selection, simpler models |\n",
        "| **Low Model Complexity Needed**       | Ensembles introduce unnecessary complexity                           | Simple models (e.g., SVM, Naive Bayes)|\n",
        "\n",
        "---\n",
        "\n",
        "### 🚀 **Takeaway**:\n",
        "Ensemble methods are powerful, but they come with trade-offs in terms of complexity, interpretability, and computational cost. If any of these factors are a priority in your project, you may want to reconsider using ensemble methods or choose simpler alternatives.\n",
        "\n",
        "Let me know if you'd like to dive into examples or other alternatives!"
      ],
      "metadata": {
        "id": "92x5WpOoYeGK"
      }
    },
    {
      "cell_type": "markdown",
      "source": [
        "16. How does Bagging help in reducing overfitting?\n"
      ],
      "metadata": {
        "id": "qBLA1PTgYddo"
      }
    },
    {
      "cell_type": "markdown",
      "source": [
        "**Bagging** (Bootstrap Aggregating) is a powerful ensemble method that helps in **reducing overfitting** by using multiple models (typically the same type of model) trained on random subsets of the training data. Here's how Bagging helps in reducing overfitting:\n",
        "\n",
        "### 🔑 **How Bagging Works**:\n",
        "\n",
        "1. **Bootstrap Sampling**:\n",
        "   - Bagging creates **multiple subsets** of the original training data by **sampling with replacement** (i.e., randomly selecting data points, allowing duplicates).\n",
        "   - Each model in the ensemble is trained on a **different bootstrap sample**.\n",
        "   \n",
        "2. **Model Training**:\n",
        "   - Multiple base models (often decision trees) are trained independently on these bootstrapped samples.\n",
        "\n",
        "3. **Prediction Aggregation**:\n",
        "   - For **classification tasks**, the final prediction is made by **majority voting** (the class that most models predict).\n",
        "   - For **regression tasks**, the final prediction is the **average** of all the model predictions.\n",
        "\n",
        "---\n",
        "\n",
        "### 📉 **How Bagging Reduces Overfitting**:\n",
        "\n",
        "1. **Reduces Variance**:\n",
        "   - **Overfitting** typically occurs when a model becomes too complex and fits the noise or peculiarities of the training data.\n",
        "   - Since Bagging involves training multiple models on different subsets of the data, **each model overfits on different parts** of the training set.\n",
        "   - By averaging the predictions or taking a majority vote, Bagging smooths out the errors from individual models, **reducing the overall variance**.\n",
        "   - The result is a model that generalizes better to new, unseen data.\n",
        "\n",
        "2. **Decouples Models**:\n",
        "   - Each model in the ensemble is trained on a **different subset of the data**, meaning each tree or model is likely to make different errors.\n",
        "   - When predictions are aggregated, the errors from individual models **cancel out**, which reduces the overall risk of overfitting to noise.\n",
        "\n",
        "3. **Less Sensitivity to Noise**:\n",
        "   - If one model overfits due to noise in the data, the other models in the ensemble are less likely to do so, especially if the noise is specific to a few data points.\n",
        "   - Bagging reduces the impact of **outliers and noise**, as they will likely affect only a subset of the models, not the entire ensemble.\n",
        "\n",
        "4. **Improves Stability**:\n",
        "   - Individual models like decision trees are often unstable and prone to high variance (they can dramatically change with small variations in the data).\n",
        "   - By aggregating the predictions of multiple such models, Bagging helps to create a **more stable model** that doesn't react to small fluctuations in the data, thus reducing overfitting.\n",
        "\n",
        "---\n",
        "\n",
        "### 🧑‍💻 **Example with Random Forest (a form of Bagging)**:\n",
        "\n",
        "Random Forest is a well-known example of Bagging, where multiple decision trees are trained on bootstrapped subsets of the data and predictions are averaged (or voted on).\n",
        "\n",
        "```python\n",
        "from sklearn.ensemble import RandomForestClassifier\n",
        "from sklearn.metrics import accuracy_score\n",
        "\n",
        "# Initialize model\n",
        "rf_model = RandomForestClassifier(n_estimators=100, random_state=42)\n",
        "\n",
        "# Train model on data\n",
        "rf_model.fit(X_train, y_train)\n",
        "\n",
        "# Make predictions\n",
        "y_pred = rf_model.predict(X_test)\n",
        "\n",
        "# Evaluate model\n",
        "print(\"Accuracy:\", accuracy_score(y_test, y_pred))\n",
        "```\n",
        "\n",
        "### 🎯 **Key Points**:\n",
        "- **Bagging** reduces overfitting by **averaging the predictions** or **majority voting** from multiple models, making it less sensitive to the noise and variance of the data.\n",
        "- By using multiple **bootstrapped samples**, it helps to create an **ensemble of less complex models** that collectively generalize better.\n",
        "- **Random Forest**, which is based on Bagging, is a widely used technique to reduce overfitting in decision trees.\n",
        "\n",
        "---\n",
        "\n",
        "### 🧾 **Summary**:\n",
        "- Bagging helps in **reducing overfitting** by training multiple models on different subsets of data and aggregating their predictions, which reduces variance and makes the model less prone to fitting noise in the data.\n",
        "- It’s particularly useful when base models (like decision trees) tend to overfit the training data.\n",
        "\n",
        "Let me know if you'd like further examples or clarifications!"
      ],
      "metadata": {
        "id": "nrvw_ySWZFSa"
      }
    },
    {
      "cell_type": "markdown",
      "source": [
        "17. Why is Random Forest better than a single Decision Tree?\n"
      ],
      "metadata": {
        "id": "H3GfRohaZLzl"
      }
    },
    {
      "cell_type": "markdown",
      "source": [
        "**Random Forest** is generally considered **better than a single decision tree** due to several key advantages that it provides. Here's a detailed explanation of why **Random Forest** outperforms a single decision tree:\n",
        "\n",
        "---\n",
        "\n",
        "### 1. **Reduces Overfitting**\n",
        "   - **Single Decision Tree**: A decision tree, especially when it is deep, is highly prone to overfitting. It learns very specific patterns in the training data, which may not generalize well to unseen data. This can lead to poor performance on the test set.\n",
        "   - **Random Forest**: Random Forest mitigates overfitting by averaging the predictions of multiple decision trees. Since each tree is trained on a different subset of the data (through bootstrapping) and uses a random subset of features for each split, it’s less likely to overfit compared to a single decision tree. This **reduces variance** and leads to better generalization on unseen data.\n",
        "\n",
        "---\n",
        "\n",
        "### 2. **Improved Accuracy**\n",
        "   - **Single Decision Tree**: A single decision tree is often not very accurate, especially when dealing with complex or noisy data. While it may capture some patterns in the data, it can also learn irrelevant or spurious relationships.\n",
        "   - **Random Forest**: By combining the results of many decision trees, Random Forest aggregates the predictions, often leading to a more **accurate** and **robust** model. The **majority vote** (for classification) or **average** (for regression) from multiple trees improves overall accuracy.\n",
        "\n",
        "---\n",
        "\n",
        "### 3. **Reduced Variance**\n",
        "   - **Single Decision Tree**: Decision trees are sensitive to fluctuations in the training data, meaning small changes in the data can lead to completely different tree structures. This high variance can make the model unreliable.\n",
        "   - **Random Forest**: By creating multiple decision trees on different subsets of the data and aggregating their predictions, Random Forest reduces the variance. It’s less sensitive to outliers and noise because the **errors from individual trees tend to cancel each other out**.\n",
        "\n",
        "---\n",
        "\n",
        "### 4. **More Robust to Noise and Outliers**\n",
        "   - **Single Decision Tree**: A decision tree can easily be influenced by **outliers** or **noisy data**, especially if it is deep or unpruned. It may fit these noisy points too closely, leading to overfitting.\n",
        "   - **Random Forest**: Since Random Forest uses multiple trees trained on random subsets of data, the effect of any single noisy data point is minimized. The **ensemble approach** averages out the noise, making it more robust and less likely to be swayed by outliers.\n",
        "\n",
        "---\n",
        "\n",
        "### 5. **Better Generalization**\n",
        "   - **Single Decision Tree**: A single decision tree might perform well on the training data but fail to generalize effectively to unseen data due to overfitting.\n",
        "   - **Random Forest**: By combining the predictions of many trees, each trained on different data, Random Forest tends to **generalize better** to new, unseen data. The ensemble of trees helps capture a wider variety of patterns and reduces the risk of overfitting.\n",
        "\n",
        "---\n",
        "\n",
        "### 6. **Handles Missing Values Well**\n",
        "   - **Single Decision Tree**: A decision tree might struggle when there are missing values in the dataset. The tree may either fail to split properly or lose information when a feature is missing.\n",
        "   - **Random Forest**: Random Forest can handle missing values more gracefully, as it can still make predictions by aggregating the results from trees that have access to the missing data in different subsets.\n",
        "\n",
        "---\n",
        "\n",
        "### 7. **Feature Importance**\n",
        "   - **Single Decision Tree**: While decision trees can provide some insights into feature importance, it’s often based on just one model's perspective, which might not always be reliable.\n",
        "   - **Random Forest**: Random Forest offers a more **robust measure of feature importance** because it calculates feature importance based on multiple decision trees. This provides a more comprehensive view of which features are truly important for making predictions.\n",
        "\n",
        "---\n",
        "\n",
        "### 8. **Parallelization**\n",
        "   - **Single Decision Tree**: Training a single decision tree is sequential, meaning you can only process the data step by step.\n",
        "   - **Random Forest**: The decision trees in a Random Forest can be trained **in parallel**, since each tree is trained on a different random subset of the data. This makes Random Forest more suitable for distributed computing environments and speeds up training, especially with a large number of trees.\n",
        "\n",
        "---\n",
        "\n",
        "### 🧑‍💻 **In Python (scikit-learn)**:\n",
        "\n",
        "Here’s an example to compare a **Decision Tree** and a **Random Forest** in terms of accuracy:\n",
        "\n",
        "```python\n",
        "from sklearn.tree import DecisionTreeClassifier\n",
        "from sklearn.ensemble import RandomForestClassifier\n",
        "from sklearn.metrics import accuracy_score\n",
        "\n",
        "# Initialize models\n",
        "tree_model = DecisionTreeClassifier(random_state=42)\n",
        "forest_model = RandomForestClassifier(n_estimators=100, random_state=42)\n",
        "\n",
        "# Train models\n",
        "tree_model.fit(X_train, y_train)\n",
        "forest_model.fit(X_train, y_train)\n",
        "\n",
        "# Make predictions\n",
        "tree_pred = tree_model.predict(X_test)\n",
        "forest_pred = forest_model.predict(X_test)\n",
        "\n",
        "# Evaluate models\n",
        "tree_accuracy = accuracy_score(y_test, tree_pred)\n",
        "forest_accuracy = accuracy_score(y_test, forest_pred)\n",
        "\n",
        "print(f\"Decision Tree Accuracy: {tree_accuracy}\")\n",
        "print(f\"Random Forest Accuracy: {forest_accuracy}\")\n",
        "```\n",
        "\n",
        "In most cases, you will notice that **Random Forest** performs better than a **single Decision Tree**, especially on more complex datasets.\n",
        "\n",
        "---\n",
        "\n",
        "### 🧾 **Summary of Why Random Forest is Better than a Single Decision Tree**:\n",
        "\n",
        "| **Aspect**                       | **Single Decision Tree**                         | **Random Forest**                           |\n",
        "|-----------------------------------|--------------------------------------------------|---------------------------------------------|\n",
        "| **Overfitting**                   | High risk of overfitting, especially with deep trees | Reduced overfitting through averaging models|\n",
        "| **Accuracy**                      | Often lower accuracy, especially on complex data | Generally higher accuracy due to model aggregation |\n",
        "| **Variance**                      | High variance, sensitive to data changes         | Reduced variance due to model diversity    |\n",
        "| **Robustness to Noise**           | Sensitive to noisy data and outliers             | More robust, noise is averaged out         |\n",
        "| **Generalization**                | May perform poorly on unseen data                | Better generalization, less overfitting    |\n",
        "| **Feature Importance**            | Single perspective of feature importance         | More reliable measure of feature importance|\n",
        "| **Training Time**                 | Faster training time, only one tree              | Slower due to multiple trees, but parallelizable |\n",
        "\n",
        "---\n",
        "\n",
        "### 🚀 **Conclusion**:\n",
        "**Random Forest** outperforms a **single decision tree** due to its ability to reduce overfitting, increase accuracy, handle noise better, and generalize well to unseen data. It leverages the power of multiple trees, making it more robust, stable, and reliable compared to a single model.\n",
        "\n",
        "Let me know if you need more details or examples on Random Forest!"
      ],
      "metadata": {
        "id": "Akvk7ulJZPSV"
      }
    },
    {
      "cell_type": "markdown",
      "source": [
        "18. What is the role of bootstrap sampling in Bogging?\n"
      ],
      "metadata": {
        "id": "HMAZguHgZPoJ"
      }
    },
    {
      "cell_type": "markdown",
      "source": [
        "**Bootstrap sampling** plays a crucial role in **Bagging (Bootstrap Aggregating)**, a popular ensemble learning method. It helps to create multiple datasets from the original training data, which are then used to train multiple base models (often decision trees). Here’s how bootstrap sampling works and why it’s so important for the success of Bagging:\n",
        "\n",
        "---\n",
        "\n",
        "### 🚀 **What is Bootstrap Sampling?**\n",
        "- **Bootstrap sampling** is a technique where you generate multiple **random samples** from the original dataset **with replacement**. This means that some data points can appear more than once in the same sample, while others may not appear at all.\n",
        "- For example, if you have a dataset with 1000 data points, you would create a new sample (called a \"bootstrap sample\") of 1000 points by randomly selecting from the original data, allowing duplicates.\n",
        "\n",
        "---\n",
        "\n",
        "### 🔑 **Role of Bootstrap Sampling in Bagging**:\n",
        "\n",
        "1. **Creates Diversity in the Base Models**:\n",
        "   - Each model in the Bagging ensemble is trained on a **different subset** of the data. Bootstrap sampling ensures that each model is exposed to slightly different data, which helps to **diversify the models**.\n",
        "   - This diversity is critical because **diverse models** (that make different errors) tend to perform better when their predictions are aggregated.\n",
        "\n",
        "2. **Reduces Overfitting**:\n",
        "   - In a single model, especially complex ones like decision trees, the model can **overfit** to the data, meaning it fits the noise in the training data rather than just the underlying patterns.\n",
        "   - By training each model on a different bootstrap sample, **each model learns slightly different patterns**, reducing the likelihood that any one model will overfit the data. When predictions are averaged or voted upon, **overfitting is reduced**.\n",
        "\n",
        "3. **Estimates Model Performance (Out-of-Bag, OOB, Error)**:\n",
        "   - Bootstrap sampling helps in calculating the **Out-of-Bag (OOB) error**, which is an internal validation method for Bagging models.\n",
        "   - Since some data points are not included in each bootstrap sample (because sampling is with replacement), these points are called **Out-of-Bag** samples.\n",
        "   - Each tree is tested on its OOB data, and the OOB error is the average error for each model on these OOB samples. This provides an **estimate of the model's generalization error** without the need for a separate validation set.\n",
        "\n",
        "4. **Improves Generalization**:\n",
        "   - Since each model sees different data, it is less likely to memorize the exact details of any one subset. This allows the ensemble to generalize better to unseen data by aggregating predictions from models that each learned different aspects of the data.\n",
        "\n",
        "5. **Balances the Impact of Noisy Data**:\n",
        "   - Some models might overfit to noisy or outlier data points in their bootstrap samples. However, since the final prediction is made by averaging or voting from multiple models, the **impact of noise is reduced**.\n",
        "   - The errors from individual models that overfit to noisy points will be **canceled out** when combined with the predictions of other models, which improves the robustness of the ensemble.\n",
        "\n",
        "---\n",
        "\n",
        "### 📊 **How Bootstrap Sampling Works in Bagging**:\n",
        "\n",
        "Let's go through the steps of **Bagging with bootstrap sampling**:\n",
        "\n",
        "1. **Original Dataset**: You start with your original dataset of \\(N\\) samples.\n",
        "\n",
        "2. **Generate Bootstrap Samples**:\n",
        "   - Create multiple subsets (bootstrap samples) by randomly sampling **with replacement** from the original dataset. Each subset has the same size \\(N\\), but each sample may appear multiple times in a subset, or not at all.\n",
        "\n",
        "3. **Train Multiple Models**:\n",
        "   - Train a model (e.g., decision tree) on each bootstrap sample independently. Since the data is different for each model, they will capture different patterns.\n",
        "\n",
        "4. **Aggregate Predictions**:\n",
        "   - After training, the predictions of the models are aggregated. For classification, this is usually done by **majority voting**, and for regression, by **averaging** the predictions.\n",
        "\n",
        "5. **Out-of-Bag (OOB) Error Estimation**:\n",
        "   - For each bootstrap sample, the points that were **not sampled** (called the OOB samples) can be used to estimate the error of the ensemble, allowing for internal model validation.\n",
        "\n",
        "---\n",
        "\n",
        "### 🧑‍💻 **Example in Python (Scikit-Learn)**:\n",
        "\n",
        "In scikit-learn, Bagging is implemented with the `BaggingClassifier` or `BaggingRegressor` class, and bootstrap sampling is done automatically.\n",
        "\n",
        "```python\n",
        "from sklearn.ensemble import BaggingClassifier\n",
        "from sklearn.tree import DecisionTreeClassifier\n",
        "from sklearn.metrics import accuracy_score\n",
        "\n",
        "# Initialize base model (Decision Tree)\n",
        "base_model = DecisionTreeClassifier()\n",
        "\n",
        "# Initialize Bagging model (using bootstrap sampling)\n",
        "bagging_model = BaggingClassifier(base_model, n_estimators=100, bootstrap=True, random_state=42)\n",
        "\n",
        "# Train model\n",
        "bagging_model.fit(X_train, y_train)\n",
        "\n",
        "# Make predictions\n",
        "y_pred = bagging_model.predict(X_test)\n",
        "\n",
        "# Evaluate the model\n",
        "print(\"Accuracy:\", accuracy_score(y_test, y_pred))\n",
        "```\n",
        "\n",
        "In this code, the **`bootstrap=True`** argument ensures that each model is trained on a bootstrap sample.\n",
        "\n",
        "---\n",
        "\n",
        "### 🧾 **Summary of Bootstrap Sampling in Bagging**:\n",
        "\n",
        "| **Aspect**                        | **How Bootstrap Sampling Helps in Bagging**                                      |\n",
        "|------------------------------------|----------------------------------------------------------------------------------|\n",
        "| **Diversity in Models**            | Ensures that each model is trained on different data, helping to reduce overfitting. |\n",
        "| **Reduces Overfitting**            | By training on different subsets, the models are less likely to overfit the data.  |\n",
        "| **OOB Error Estimation**           | OOB samples help to estimate the model’s generalization error without needing a separate validation set. |\n",
        "| **Generalization**                 | Aggregating predictions from diverse models improves generalization to new data.  |\n",
        "| **Robustness to Noise**            | Outliers and noise in the data have less impact, as errors from individual models cancel out. |\n",
        "\n",
        "---\n",
        "\n",
        "### 🚀 **Conclusion**:\n",
        "**Bootstrap sampling** in Bagging is key to ensuring diversity among models, reducing overfitting, and improving the overall robustness and accuracy of the ensemble. It allows for more stable predictions and internal error estimation through OOB samples, making Bagging a very effective ensemble method.\n",
        "\n",
        "Let me know if you'd like to dive deeper into any specific aspect of Bagging or bootstrap sampling!"
      ],
      "metadata": {
        "id": "hhG80rYgZPjO"
      }
    },
    {
      "cell_type": "markdown",
      "source": [
        "19. What are some real-world applications of ensemble techniques?\n"
      ],
      "metadata": {
        "id": "-eNPEdLeZPex"
      }
    },
    {
      "cell_type": "markdown",
      "source": [
        "Ensemble techniques are widely used in **real-world applications** across various domains due to their ability to enhance predictive performance, robustness, and generalization. Below are some key areas where ensemble methods like **Random Forests**, **Boosting (e.g., AdaBoost, Gradient Boosting)**, and **Bagging (e.g., Bagging Classifier, Random Forest)** are applied:\n",
        "\n",
        "---\n",
        "\n",
        "### 1. **Finance and Banking**\n",
        "   - **Credit Scoring**: Ensemble methods, particularly **Random Forests** and **Gradient Boosting Machines (GBMs)**, are commonly used for credit scoring. By aggregating predictions from multiple models, they can better assess the likelihood that an individual or organization will default on a loan or credit.\n",
        "   - **Fraud Detection**: In financial transactions, ensemble methods can detect fraud by considering multiple signals (e.g., transaction history, behavior patterns, and geographic data). **Random Forests** and **XGBoost** are particularly effective at flagging fraudulent activities due to their high accuracy and ability to handle imbalanced datasets.\n",
        "   - **Stock Market Prediction**: Predicting stock prices or market trends is complex, and ensemble methods can provide better predictions by considering multiple models trained on historical data, technical indicators, and economic variables.\n",
        "\n",
        "---\n",
        "\n",
        "### 2. **Healthcare and Medicine**\n",
        "   - **Disease Prediction and Diagnosis**: Ensemble methods are often used to predict diseases (e.g., cancer, diabetes, heart disease) by analyzing medical data. **Random Forests** are particularly useful for handling medical data with many features, helping predict the likelihood of a patient developing a disease based on factors like medical history, test results, and lifestyle.\n",
        "   - **Medical Image Analysis**: In medical imaging (e.g., identifying tumors in CT scans or MRIs), ensemble models combine predictions from multiple image analysis models to improve accuracy. Techniques like **Random Forest** and **Boosting** are commonly applied for image segmentation and classification tasks.\n",
        "   - **Drug Discovery**: Predicting the effectiveness of new drugs or compounds often involves combining multiple models to better understand complex biological and chemical properties. **Ensemble methods** help to improve the robustness and accuracy of predictions in this domain.\n",
        "\n",
        "---\n",
        "\n",
        "### 3. **E-commerce and Marketing**\n",
        "   - **Recommendation Systems**: E-commerce platforms like Amazon or Netflix use ensemble techniques to combine different recommendation algorithms. For example, **Random Forests** and **Gradient Boosting** may combine collaborative filtering, content-based filtering, and demographic data to provide better product recommendations to users.\n",
        "   - **Customer Segmentation**: Ensemble models are used in marketing to segment customers based on behavior, demographics, and past purchases. By aggregating models that classify customers into different segments, businesses can optimize marketing strategies for each segment.\n",
        "   - **Click-Through Rate (CTR) Prediction**: Predicting whether a user will click on an ad or not is crucial in online advertising. Ensemble techniques like **Random Forests** or **XGBoost** are often used to predict CTR by considering multiple factors such as user behavior, ad content, and time of day.\n",
        "\n",
        "---\n",
        "\n",
        "### 4. **Natural Language Processing (NLP)**\n",
        "   - **Text Classification**: Ensemble methods are frequently used for classifying text into categories (e.g., spam detection, sentiment analysis, topic categorization). **Random Forests**, **Gradient Boosting**, and **Stacking** are used to combine the output of multiple models that analyze the text from different angles, improving classification accuracy.\n",
        "   - **Named Entity Recognition (NER)**: Identifying specific entities (e.g., names, dates, locations) in text can benefit from ensemble techniques by combining models that focus on different aspects of the text, improving the robustness of the entity recognition process.\n",
        "   - **Machine Translation**: Ensemble methods can be used in machine translation to combine predictions from multiple translation models, leading to more accurate translations by aggregating results from different linguistic models.\n",
        "\n",
        "---\n",
        "\n",
        "### 5. **Retail and Supply Chain Management**\n",
        "   - **Demand Forecasting**: Retailers use ensemble models to predict future demand for products, considering factors such as historical sales data, seasonality, promotions, and external factors like weather. **Random Forests** and **Gradient Boosting** are popular choices due to their ability to handle large amounts of data and capture complex relationships between features.\n",
        "   - **Inventory Management**: Predicting stock levels to avoid overstocking or stockouts involves combining multiple forecasting models. Ensemble techniques can aggregate forecasts from different models, improving inventory decisions and reducing waste.\n",
        "   - **Price Optimization**: Retailers also use ensemble methods to optimize pricing strategies, combining models that consider competitor pricing, demand elasticity, and consumer preferences to set the most competitive price.\n",
        "\n",
        "---\n",
        "\n",
        "### 6. **Autonomous Systems and Robotics**\n",
        "   - **Autonomous Vehicles**: In self-driving cars, ensemble techniques are used to combine predictions from various sensors (e.g., LIDAR, cameras, GPS) and decision-making models. This ensures a more accurate interpretation of the environment and helps the vehicle navigate safely.\n",
        "   - **Robotic Control Systems**: Ensemble methods help in controlling and guiding robots by combining models that predict optimal movement strategies or actions in complex environments (e.g., navigating through obstacles or optimizing energy use).\n",
        "\n",
        "---\n",
        "\n",
        "### 7. **Agriculture**\n",
        "   - **Crop Yield Prediction**: Ensemble models like **Random Forests** are used to predict crop yields based on factors such as weather patterns, soil health, and irrigation methods. These predictions help farmers make more informed decisions about when and how to plant or harvest crops.\n",
        "   - **Precision Agriculture**: Enabling more efficient farming practices through the use of remote sensing, ensemble methods help in classifying land areas (e.g., fertile vs. infertile land) or identifying pests and diseases that affect crops.\n",
        "\n",
        "---\n",
        "\n",
        "### 8. **Sports Analytics**\n",
        "   - **Player Performance Prediction**: Ensemble methods are used to predict the performance of athletes based on factors like past performance, injuries, and game conditions. **Gradient Boosting** or **Random Forests** combine different models that evaluate individual player stats to generate more accurate performance forecasts.\n",
        "   - **Match Outcome Prediction**: Ensemble methods are used to predict the outcome of matches or tournaments by aggregating results from models that consider team performance, player form, weather conditions, and other factors.\n",
        "\n",
        "---\n",
        "\n",
        "### 9. **Energy and Environmental Sciences**\n",
        "   - **Energy Consumption Forecasting**: Ensemble methods can predict energy consumption patterns based on factors like weather conditions, economic activity, and historical usage. Accurate forecasts help in optimizing energy distribution and reducing costs.\n",
        "   - **Climate Change Modeling**: In environmental science, ensemble methods combine different models to predict climate patterns, helping to better understand the effects of climate change on temperature, precipitation, and ecosystems.\n",
        "\n",
        "---\n",
        "\n",
        "### 10. **Cybersecurity**\n",
        "   - **Intrusion Detection Systems**: Ensemble methods are used to detect abnormal behavior or potential security threats in computer networks. By aggregating predictions from multiple models (e.g., anomaly detection, pattern recognition), they help in identifying cyber threats more accurately.\n",
        "   - **Phishing Detection**: Ensemble methods can combine multiple classifiers trained to detect phishing emails or fraudulent websites, improving the accuracy of identifying phishing attempts in email filters or web browsing.\n",
        "\n",
        "---\n",
        "\n",
        "### 🧾 **Summary of Real-World Applications of Ensemble Techniques**:\n",
        "\n",
        "| **Domain**                 | **Application**                                                                 |\n",
        "|----------------------------|---------------------------------------------------------------------------------|\n",
        "| **Finance**                | Credit scoring, fraud detection, stock market prediction                        |\n",
        "| **Healthcare**             | Disease prediction, medical image analysis, drug discovery                      |\n",
        "| **E-commerce**             | Recommendation systems, customer segmentation, click-through rate prediction    |\n",
        "| **NLP**                    | Text classification, named entity recognition, machine translation              |\n",
        "| **Retail**                 | Demand forecasting, inventory management, price optimization                    |\n",
        "| **Autonomous Systems**     | Self-driving cars, robotic control systems                                      |\n",
        "| **Agriculture**            | Crop yield prediction, precision agriculture                                   |\n",
        "| **Sports Analytics**       | Player performance prediction, match outcome prediction                        |\n",
        "| **Energy**                 | Energy consumption forecasting, climate change modeling                         |\n",
        "| **Cybersecurity**          | Intrusion detection, phishing detection                                         |\n",
        "\n",
        "---\n",
        "\n",
        "### 🚀 **Conclusion**:\n",
        "Ensemble techniques, due to their power to improve accuracy, robustness, and generalization, are widely applied in various real-world scenarios across industries. They are especially useful in areas with large, complex datasets, where multiple models working together can deliver better performance than individual models.\n",
        "\n",
        "Let me know if you'd like more details on any specific application!"
      ],
      "metadata": {
        "id": "BIpsMFjkZPaF"
      }
    },
    {
      "cell_type": "markdown",
      "source": [
        "20. What is the difference between Bagging and Boosting?\n"
      ],
      "metadata": {
        "id": "OgammEkyZ2HU"
      }
    },
    {
      "cell_type": "markdown",
      "source": [
        "**Bagging** and **Boosting** are both **ensemble learning techniques** that combine the predictions of multiple models to improve the performance of machine learning algorithms, but they have distinct differences in their approach to training and combining models. Here's a breakdown of the **key differences** between Bagging and Boosting:\n",
        "\n",
        "---\n",
        "\n",
        "### 1. **Basic Concept**:\n",
        "   - **Bagging** (Bootstrap Aggregating):\n",
        "     - In **Bagging**, multiple **independent models** are trained in parallel on **different random subsets** of the training data (created via **bootstrap sampling** with replacement).\n",
        "     - The final prediction is made by **aggregating** the predictions from all the models. For classification, it’s typically **majority voting**, and for regression, it’s the **average** of predictions.\n",
        "   \n",
        "   - **Boosting**:\n",
        "     - In **Boosting**, models are trained **sequentially** in a series of steps. Each new model focuses on correcting the errors made by the previous models. The subsequent models are trained on the **misclassified points** of the previous model.\n",
        "     - The final prediction is made by **weighted averaging** (for regression) or **weighted voting** (for classification) of the predictions from all the models, where more weight is given to models that performed better.\n",
        "\n",
        "---\n",
        "\n",
        "### 2. **Model Training**:\n",
        "   - **Bagging**:\n",
        "     - **Parallel** training of models. Each model is trained independently using a different subset of data.\n",
        "     - Each model has equal importance in making the final prediction.\n",
        "   \n",
        "   - **Boosting**:\n",
        "     - **Sequential** training of models, where each model tries to correct the mistakes of the previous one.\n",
        "     - Models are trained in a way that later models focus on harder-to-classify samples, increasing their weight in the final prediction.\n",
        "\n",
        "---\n",
        "\n",
        "### 3. **Data Sampling**:\n",
        "   - **Bagging**:\n",
        "     - Data is sampled **with replacement** (bootstrap sampling), so some data points may appear multiple times in a single model's training set, while others may not appear at all.\n",
        "   \n",
        "   - **Boosting**:\n",
        "     - There is no random sampling of data. Each model is trained on the entire dataset, but subsequent models focus more on the **misclassified instances** from earlier models.\n",
        "\n",
        "---\n",
        "\n",
        "### 4. **Model Weighting**:\n",
        "   - **Bagging**:\n",
        "     - All models contribute equally to the final prediction. Each model is treated as a **vote** or a **prediction** in the ensemble.\n",
        "   \n",
        "   - **Boosting**:\n",
        "     - Models are weighted based on their performance. Models that perform better on the training set get higher weights in the final prediction. The predictions of models that focus on harder-to-classify examples are given more importance.\n",
        "\n",
        "---\n",
        "\n",
        "### 5. **Overfitting**:\n",
        "   - **Bagging**:\n",
        "     - Bagging helps reduce **variance** and is particularly useful when the base model has high variance (e.g., decision trees). It’s less likely to overfit because it averages the predictions from multiple models.\n",
        "     - **Reduces overfitting** for high-variance models (like decision trees) by combining the results of several models trained on different subsets of the data.\n",
        "   \n",
        "   - **Boosting**:\n",
        "     - Boosting generally helps **reduce bias** and increases the accuracy of weak learners. However, it’s more prone to **overfitting**, especially with noisy data, because boosting gives higher weights to hard-to-classify samples, which can lead to models that focus too much on the noise.\n",
        "     - It’s more likely to **overfit** if not properly tuned (e.g., setting the right number of estimators, learning rate, or using early stopping).\n",
        "\n",
        "---\n",
        "\n",
        "### 6. **Parallelism**:\n",
        "   - **Bagging**:\n",
        "     - Since all models are trained independently, **Bagging** can be easily parallelized, making it faster to train when using multiple processors or machines.\n",
        "   \n",
        "   - **Boosting**:\n",
        "     - Boosting is a **sequential** process, where each model depends on the performance of the previous one. This makes boosting **harder to parallelize**.\n",
        "\n",
        "---\n",
        "\n",
        "### 7. **Model Complexity**:\n",
        "   - **Bagging**:\n",
        "     - Bagging is typically used with **complex models** (like deep decision trees), which can have high variance, to help reduce overfitting and increase stability.\n",
        "     - It is robust to noise and outliers because it averages out individual models’ errors.\n",
        "   \n",
        "   - **Boosting**:\n",
        "     - Boosting is often used with **weak learners** (models that perform slightly better than random chance, like shallow decision trees), and it improves their performance by focusing on difficult cases.\n",
        "     - Boosting is sensitive to noisy data and outliers because it iteratively focuses more on these challenging instances, which can cause overfitting.\n",
        "\n",
        "---\n",
        "\n",
        "### 8. **Examples**:\n",
        "   - **Bagging**:\n",
        "     - **Random Forest**: A well-known example of Bagging, where multiple decision trees are trained on different bootstrap samples, and their predictions are aggregated.\n",
        "     - **BaggingClassifier** and **BaggingRegressor** in scikit-learn are examples of bagging implementations.\n",
        "   \n",
        "   - **Boosting**:\n",
        "     - **AdaBoost (Adaptive Boosting)**: An early boosting algorithm where each subsequent model corrects the errors of the previous ones.\n",
        "     - **Gradient Boosting** and its optimized versions like **XGBoost**, **LightGBM**, and **CatBoost** are popular boosting algorithms known for their effectiveness in many machine learning competitions.\n",
        "\n",
        "---\n",
        "\n",
        "### 9. **Key Differences Table**:\n",
        "\n",
        "| **Aspect**               | **Bagging**                           | **Boosting**                            |\n",
        "|--------------------------|---------------------------------------|-----------------------------------------|\n",
        "| **Training Process**      | Parallel (independent models)         | Sequential (models depend on previous)  |\n",
        "| **Data Sampling**         | Bootstrap sampling (with replacement) | Entire dataset, focus on misclassified samples |\n",
        "| **Model Weighting**       | Equal weights for all models          | Models weighted based on performance    |\n",
        "| **Overfitting**           | Reduces overfitting for high-variance models | Prone to overfitting, especially with noisy data |\n",
        "| **Parallelization**       | Easily parallelized                   | Hard to parallelize (sequential)        |\n",
        "| **Variance and Bias**     | Reduces variance                     | Reduces bias, but can increase variance if not tuned |\n",
        "| **Performance**           | Better for high-variance models       | Better for improving weak models        |\n",
        "| **Examples**              | Random Forest, BaggingClassifier      | AdaBoost, Gradient Boosting, XGBoost    |\n",
        "\n",
        "---\n",
        "\n",
        "### 10. **When to Use Bagging vs. Boosting**:\n",
        "   - **Use Bagging** when:\n",
        "     - You have high variance in your base model (like decision trees) and want to reduce overfitting.\n",
        "     - You want to use parallel computing to speed up training.\n",
        "     - The dataset contains noise and outliers, and you want to make the model more robust.\n",
        "   \n",
        "   - **Use Boosting** when:\n",
        "     - You have a weak learner (e.g., shallow decision trees) and want to convert it into a strong model by focusing on the difficult cases.\n",
        "     - You aim to reduce bias and improve accuracy in a model.\n",
        "     - You can manage potential overfitting by tuning hyperparameters or using early stopping.\n",
        "\n",
        "---\n",
        "\n",
        "### 🧑‍💻 **Example of Bagging (Random Forest) and Boosting (Gradient Boosting) in Python**:\n",
        "\n",
        "#### Bagging Example (Random Forest):\n",
        "```python\n",
        "from sklearn.ensemble import RandomForestClassifier\n",
        "from sklearn.metrics import accuracy_score\n",
        "\n",
        "# Initialize model\n",
        "rf_model = RandomForestClassifier(n_estimators=100, random_state=42)\n",
        "\n",
        "# Train model\n",
        "rf_model.fit(X_train, y_train)\n",
        "\n",
        "# Make predictions\n",
        "y_pred = rf_model.predict(X_test)\n",
        "\n",
        "# Evaluate accuracy\n",
        "print(\"Random Forest Accuracy:\", accuracy_score(y_test, y_pred))\n",
        "```\n",
        "\n",
        "#### Boosting Example (Gradient Boosting):\n",
        "```python\n",
        "from sklearn.ensemble import GradientBoostingClassifier\n",
        "from sklearn.metrics import accuracy_score\n",
        "\n",
        "# Initialize model\n",
        "gb_model = GradientBoostingClassifier(n_estimators=100, learning_rate=0.1, random_state=42)\n",
        "\n",
        "# Train model\n",
        "gb_model.fit(X_train, y_train)\n",
        "\n",
        "# Make predictions\n",
        "y_pred = gb_model.predict(X_test)\n",
        "\n",
        "# Evaluate accuracy\n",
        "print(\"Gradient Boosting Accuracy:\", accuracy_score(y_test, y_pred))\n",
        "```\n",
        "\n",
        "---\n",
        "\n",
        "### 🚀 **Conclusion**:\n",
        "- **Bagging** is useful when you want to **reduce variance** and avoid overfitting, especially with high-variance models, while **Boosting** focuses on reducing **bias** and improving weak models by iteratively correcting errors.\n",
        "- Bagging tends to be **more parallelizable**, while Boosting is more **sequential** and can be sensitive to noise.\n",
        "\n",
        "Let me know if you need further clarification or want to dive into a specific technique!"
      ],
      "metadata": {
        "id": "VHPjHN6wZ2CO"
      }
    },
    {
      "cell_type": "markdown",
      "source": [
        "21. Train a Bagging Classifier using Decision Trees on a sample dataset and print model accuracy.\n"
      ],
      "metadata": {
        "id": "ZvkNfqxzZ18e"
      }
    },
    {
      "cell_type": "code",
      "source": [
        "from sklearn.datasets import load_iris\n",
        "from sklearn.ensemble import BaggingClassifier\n",
        "from sklearn.tree import DecisionTreeClassifier\n",
        "from sklearn.model_selection import train_test_split\n",
        "from sklearn.metrics import accuracy_score\n",
        "\n",
        "# Load the Iris dataset\n",
        "data = load_iris()\n",
        "X = data.data\n",
        "y = data.target\n",
        "\n",
        "# Split the data into training and test sets\n",
        "X_train, X_test, y_train, y_test = train_test_split(X, y, test_size=0.3, random_state=42)\n",
        "\n",
        "# Initialize a Decision Tree classifier\n",
        "dt_classifier = DecisionTreeClassifier(random_state=42)\n",
        "\n",
        "# Initialize a Bagging Classifier with Decision Trees as base learners\n",
        "# Replace 'base_estimator' with 'estimator' for older scikit-learn versions\n",
        "bagging_model = BaggingClassifier(estimator=dt_classifier, n_estimators=50, random_state=42)\n",
        "\n",
        "# Train the Bagging Classifier\n",
        "bagging_model.fit(X_train, y_train)\n",
        "\n",
        "# Make predictions\n",
        "y_pred = bagging_model.predict(X_test)\n",
        "\n",
        "# Calculate the accuracy\n",
        "accuracy = accuracy_score(y_test, y_pred)\n",
        "accuracy"
      ],
      "metadata": {
        "colab": {
          "base_uri": "https://localhost:8080/"
        },
        "id": "oiaJZWO0bRjI",
        "outputId": "7e498c08-cdee-4919-b847-b26d8b413ad9"
      },
      "execution_count": null,
      "outputs": [
        {
          "output_type": "execute_result",
          "data": {
            "text/plain": [
              "1.0"
            ]
          },
          "metadata": {},
          "execution_count": 3
        }
      ]
    },
    {
      "cell_type": "markdown",
      "source": [
        "\n",
        "22. Train a Bagging Regressor using Decision Trees and evaluate using Mean Squared Error (MSE)."
      ],
      "metadata": {
        "id": "Vp9QOlmIZ1cy"
      }
    },
    {
      "cell_type": "code",
      "source": [
        "from sklearn.datasets import fetch_california_housing\n",
        "from sklearn.model_selection import train_test_split\n",
        "from sklearn.ensemble import BaggingRegressor\n",
        "from sklearn.tree import DecisionTreeRegressor\n",
        "from sklearn.metrics import mean_squared_error\n",
        "\n",
        "# Load the California housing dataset (regression problem)\n",
        "california_housing = fetch_california_housing()\n",
        "\n",
        "# Split the data into features and target\n",
        "X_reg = california_housing.data\n",
        "y_reg = california_housing.target\n",
        "\n",
        "# Split the data into training and test sets\n",
        "X_train_reg, X_test_reg, y_train_reg, y_test_reg = train_test_split(X_reg, y_reg, test_size=0.3, random_state=42)\n",
        "\n",
        "# Initialize a Decision Tree Regressor\n",
        "dt_regressor = DecisionTreeRegressor(random_state=42)\n",
        "\n",
        "# Initialize a Bagging Regressor with Decision Trees as base learners\n",
        "# Replace 'base_estimator' with 'estimator'\n",
        "bagging_regressor = BaggingRegressor(estimator=dt_regressor, n_estimators=50, random_state=42)\n",
        "\n",
        "# Train the Bagging Regressor\n",
        "bagging_regressor.fit(X_train_reg, y_train_reg)\n",
        "\n",
        "# Make predictions\n",
        "y_pred_reg = bagging_regressor.predict(X_test_reg)\n",
        "\n",
        "# Calculate Mean Squared Error (MSE)\n",
        "mse = mean_squared_error(y_test_reg, y_pred_reg)\n",
        "print(f\"Mean Squared Error (MSE): {mse}\")\n"
      ],
      "metadata": {
        "colab": {
          "base_uri": "https://localhost:8080/"
        },
        "id": "cDMlI0rVa3v4",
        "outputId": "93fec64d-a257-4d5f-c726-55683e24ed51"
      },
      "execution_count": null,
      "outputs": [
        {
          "output_type": "stream",
          "name": "stdout",
          "text": [
            "Mean Squared Error (MSE): 0.25787382250585034\n"
          ]
        }
      ]
    },
    {
      "cell_type": "markdown",
      "source": [
        "23. Train a Random Forest Classifier on the Breast Cancer dataset and print feature importance scores.\n"
      ],
      "metadata": {
        "id": "Ux9tTcuRZ057"
      }
    },
    {
      "cell_type": "code",
      "source": [
        "from sklearn.datasets import load_breast_cancer\n",
        "from sklearn.ensemble import RandomForestClassifier\n",
        "\n",
        "# Load the Breast Cancer dataset\n",
        "cancer_data = load_breast_cancer()\n",
        "X_cancer = cancer_data.data\n",
        "y_cancer = cancer_data.target\n",
        "\n",
        "# Initialize a Random Forest Classifier\n",
        "rf_classifier = RandomForestClassifier(n_estimators=100, random_state=42)\n",
        "\n",
        "# Train the Random Forest Classifier\n",
        "rf_classifier.fit(X_cancer, y_cancer)\n",
        "\n",
        "# Get feature importance scores\n",
        "feature_importance = rf_classifier.feature_importances_\n",
        "\n",
        "# Print feature importance scores\n",
        "feature_importance\n",
        "\n"
      ],
      "metadata": {
        "colab": {
          "base_uri": "https://localhost:8080/"
        },
        "id": "Eyzyrp8XcExV",
        "outputId": "01da1022-82e8-43a5-855a-e6c04d7ee120"
      },
      "execution_count": null,
      "outputs": [
        {
          "output_type": "execute_result",
          "data": {
            "text/plain": [
              "array([0.03484323, 0.01522515, 0.06799034, 0.06046164, 0.00795845,\n",
              "       0.01159704, 0.06691736, 0.10704566, 0.00342279, 0.00261508,\n",
              "       0.0142637 , 0.00374427, 0.01008506, 0.02955283, 0.00472157,\n",
              "       0.00561183, 0.00581969, 0.00375975, 0.00354597, 0.00594233,\n",
              "       0.08284828, 0.01748526, 0.0808497 , 0.13935694, 0.01223202,\n",
              "       0.01986386, 0.03733871, 0.13222509, 0.00817908, 0.00449731])"
            ]
          },
          "metadata": {},
          "execution_count": 6
        }
      ]
    },
    {
      "cell_type": "markdown",
      "source": [
        "24. Train a Random Forest Regressor and compare its performance with a single Decision Tree.\n"
      ],
      "metadata": {
        "id": "pBwR8yOTcFmj"
      }
    },
    {
      "cell_type": "code",
      "source": [
        "from sklearn.tree import DecisionTreeRegressor\n",
        "from sklearn.metrics import mean_squared_error\n",
        "from sklearn.model_selection import train_test_split\n",
        "from sklearn.ensemble import RandomForestRegressor\n",
        "from sklearn.datasets import fetch_california_housing\n",
        "\n",
        "# Load the California housing dataset\n",
        "california_housing = fetch_california_housing()\n",
        "X_reg = california_housing.data\n",
        "y_reg = california_housing.target\n",
        "\n",
        "# Split the data into training and test sets\n",
        "X_train_reg, X_test_reg, y_train_reg, y_test_reg = train_test_split(X_reg, y_reg, test_size=0.3, random_state=42)\n",
        "\n",
        "# Initialize the Decision Tree Regressor\n",
        "dt_regressor = DecisionTreeRegressor(random_state=42)\n",
        "\n",
        "# Train the Decision Tree Regressor\n",
        "dt_regressor.fit(X_train_reg, y_train_reg)\n",
        "\n",
        "# Make predictions using Decision Tree\n",
        "y_pred_dt = dt_regressor.predict(X_test_reg)\n",
        "\n",
        "# Calculate MSE for Decision Tree\n",
        "mse_dt = mean_squared_error(y_test_reg, y_pred_dt)\n",
        "\n",
        "# Initialize the Random Forest Regressor\n",
        "rf_regressor = RandomForestRegressor(n_estimators=100, random_state=42)\n",
        "\n",
        "# Train the Random Forest Regressor\n",
        "rf_regressor.fit(X_train_reg, y_train_reg)\n",
        "\n",
        "# Make predictions using Random Forest\n",
        "y_pred_rf = rf_regressor.predict(X_test_reg)\n",
        "\n",
        "# Calculate MSE for Random Forest\n",
        "mse_rf = mean_squared_error(y_test_reg, y_pred_rf)\n",
        "\n",
        "# Return the MSE for both models\n",
        "mse_dt, mse_rf\n",
        "\n"
      ],
      "metadata": {
        "colab": {
          "base_uri": "https://localhost:8080/"
        },
        "id": "Pd-76W_3cHXM",
        "outputId": "15a49948-71dc-4a22-e3e9-97d00276c3d5"
      },
      "execution_count": null,
      "outputs": [
        {
          "output_type": "execute_result",
          "data": {
            "text/plain": [
              "(0.5280096503174904, 0.25650512920799395)"
            ]
          },
          "metadata": {},
          "execution_count": 7
        }
      ]
    },
    {
      "cell_type": "markdown",
      "source": [
        "25. Compute the Out-of-Bag (OOB) Score for a Random Forest Classifier.\n"
      ],
      "metadata": {
        "id": "lICqFLHrcH24"
      }
    },
    {
      "cell_type": "code",
      "source": [
        "from sklearn.ensemble import RandomForestClassifier\n",
        "from sklearn.datasets import load_breast_cancer\n",
        "\n",
        "# Load the Breast Cancer dataset\n",
        "cancer_data = load_breast_cancer()\n",
        "X = cancer_data.data\n",
        "y = cancer_data.target\n",
        "\n",
        "# Initialize the Random Forest Classifier with OOB score\n",
        "rf_classifier = RandomForestClassifier(n_estimators=100, random_state=42, oob_score=True)\n",
        "\n",
        "# Train the model\n",
        "rf_classifier.fit(X, y)\n",
        "\n",
        "# Get the OOB score\n",
        "oob_score = rf_classifier.oob_score_\n",
        "\n",
        "# Print the OOB score\n",
        "print(f\"Out-of-Bag (OOB) Score: {oob_score}\")\n"
      ],
      "metadata": {
        "colab": {
          "base_uri": "https://localhost:8080/"
        },
        "id": "BRD3ojf4cIeN",
        "outputId": "42f47186-7c93-442b-aa1a-684139d1ca4b"
      },
      "execution_count": null,
      "outputs": [
        {
          "output_type": "stream",
          "name": "stdout",
          "text": [
            "Out-of-Bag (OOB) Score: 0.961335676625659\n"
          ]
        }
      ]
    },
    {
      "cell_type": "markdown",
      "source": [
        "26. Train a Bagging Classifier using SVM as a base estimator and print accuracy\n"
      ],
      "metadata": {
        "id": "SrF30R2YcI7c"
      }
    },
    {
      "cell_type": "code",
      "source": [
        "from sklearn.ensemble import BaggingClassifier\n",
        "from sklearn.svm import SVC\n",
        "from sklearn.datasets import load_iris\n",
        "from sklearn.model_selection import train_test_split\n",
        "from sklearn.metrics import accuracy_score\n",
        "\n",
        "# Load the Iris dataset\n",
        "iris_data = load_iris()\n",
        "X = iris_data.data\n",
        "y = iris_data.target\n",
        "\n",
        "# Split the data into training and test sets\n",
        "X_train, X_test, y_train, y_test = train_test_split(X, y, test_size=0.3, random_state=42)\n",
        "\n",
        "# Initialize a Support Vector Machine (SVM) as the base estimator\n",
        "svm_base_estimator = SVC(random_state=42)\n",
        "\n",
        "# Initialize a Bagging Classifier with SVM as the base estimator\n",
        "# The 'base_estimator' argument has been removed in newer versions of scikit-learn.\n",
        "# Use the 'estimator' argument instead.\n",
        "bagging_svm = BaggingClassifier(estimator=svm_base_estimator, n_estimators=50, random_state=42)\n",
        "\n",
        "# Train the Bagging Classifier\n",
        "bagging_svm.fit(X_train, y_train)\n",
        "\n",
        "# Make predictions\n",
        "y_pred = bagging_svm.predict(X_test)\n",
        "\n",
        "# Calculate the accuracy\n",
        "accuracy = accuracy_score(y_test, y_pred)\n",
        "accuracy"
      ],
      "metadata": {
        "colab": {
          "base_uri": "https://localhost:8080/"
        },
        "id": "N3kBdDBoeeNa",
        "outputId": "27400ae8-ed2b-4fdd-c2a9-0a839970c197"
      },
      "execution_count": null,
      "outputs": [
        {
          "output_type": "execute_result",
          "data": {
            "text/plain": [
              "1.0"
            ]
          },
          "metadata": {},
          "execution_count": 10
        }
      ]
    },
    {
      "cell_type": "markdown",
      "source": [
        "27. Train a Random Forest Classifier with different numbers of trees and compare accuracy.\n"
      ],
      "metadata": {
        "id": "8NhIHnsvegvV"
      }
    },
    {
      "cell_type": "code",
      "source": [
        "from sklearn.ensemble import RandomForestClassifier\n",
        "from sklearn.datasets import load_iris\n",
        "from sklearn.model_selection import train_test_split\n",
        "from sklearn.metrics import accuracy_score\n",
        "import matplotlib.pyplot as plt\n",
        "\n",
        "# Load the Iris dataset\n",
        "iris_data = load_iris()\n",
        "X = iris_data.data\n",
        "y = iris_data.target\n",
        "\n",
        "# Split the data into training and test sets\n",
        "X_train, X_test, y_train, y_test = train_test_split(X, y, test_size=0.3, random_state=42)\n",
        "\n",
        "# List of different numbers of trees\n",
        "n_estimators_values = [10, 50, 100, 200, 300]\n",
        "\n",
        "# Store accuracy for each number of trees\n",
        "accuracies = []\n",
        "\n",
        "# Train Random Forest with different number of trees\n",
        "for n_estimators in n_estimators_values:\n",
        "    rf_classifier = RandomForestClassifier(n_estimators=n_estimators, random_state=42)\n",
        "    rf_classifier.fit(X_train, y_train)\n",
        "    y_pred = rf_classifier.predict(X_test)\n",
        "    accuracy = accuracy_score(y_test, y_pred)\n",
        "    accuracies.append(accuracy)\n",
        "\n",
        "# Plot the accuracy vs number of trees\n",
        "plt.plot(n_estimators_values, accuracies, marker='o', color='b')\n",
        "plt.title('Random Forest Classifier Accuracy vs Number of Trees')\n",
        "plt.xlabel('Number of Trees')\n",
        "plt.ylabel('Accuracy')\n",
        "plt.grid(True)\n",
        "plt.show()\n",
        "\n",
        "# Print the accuracies\n",
        "for n_estimators, accuracy in zip(n_estimators_values, accuracies):\n",
        "    print(f\"Number of Trees: {n_estimators}, Accuracy: {accuracy:.4f}\")\n"
      ],
      "metadata": {
        "colab": {
          "base_uri": "https://localhost:8080/",
          "height": 559
        },
        "id": "CmRVDAVEehM6",
        "outputId": "83445584-f102-48c2-d370-a8e19b0dd1f6"
      },
      "execution_count": null,
      "outputs": [
        {
          "output_type": "display_data",
          "data": {
            "text/plain": [
              "<Figure size 640x480 with 1 Axes>"
            ],
            "image/png": "[encoded data removed]"
          },
          "metadata": {}
        },
        {
          "output_type": "stream",
          "name": "stdout",
          "text": [
            "Number of Trees: 10, Accuracy: 1.0000\n",
            "Number of Trees: 50, Accuracy: 1.0000\n",
            "Number of Trees: 100, Accuracy: 1.0000\n",
            "Number of Trees: 200, Accuracy: 1.0000\n",
            "Number of Trees: 300, Accuracy: 1.0000\n"
          ]
        }
      ]
    },
    {
      "cell_type": "markdown",
      "source": [
        "28. Train a Bagging Classifier using Logistic Regression as a base estimator and print AUC score.\n"
      ],
      "metadata": {
        "id": "ERNPeXTMe6Rr"
      }
    },
    {
      "cell_type": "code",
      "source": [
        "from sklearn.ensemble import BaggingClassifier\n",
        "from sklearn.linear_model import LogisticRegression\n",
        "from sklearn.datasets import load_iris\n",
        "from sklearn.model_selection import train_test_split\n",
        "from sklearn.metrics import roc_auc_score\n",
        "from sklearn.preprocessing import label_binarize\n",
        "\n",
        "# Load the Iris dataset\n",
        "iris_data = load_iris()\n",
        "X = iris_data.data\n",
        "y = iris_data.target\n",
        "\n",
        "# Binarize the target (necessary for multi-class AUC)\n",
        "y_bin = label_binarize(y, classes=[0, 1, 2])\n",
        "\n",
        "# Split the data into training and test sets\n",
        "# Use y (the original target) for training the BaggingClassifier\n",
        "X_train, X_test, y_train, y_test = train_test_split(X, y, test_size=0.3, random_state=42)\n",
        "\n",
        "# Use y_bin (binarized target) for calculating AUC\n",
        "_, _, _, y_test_bin = train_test_split(X, y_bin, test_size=0.3, random_state=42)\n",
        "# Make sure the split is consistent using the same random_state\n",
        "\n",
        "# Initialize Logistic Regression as the base estimator\n",
        "log_reg_base = LogisticRegression(max_iter=1000, random_state=42)\n",
        "\n",
        "# Initialize the Bagging Classifier with Logistic Regression as the base estimator\n",
        "# Use 'estimator' instead of 'base_estimator'\n",
        "bagging_classifier = BaggingClassifier(estimator=log_reg_base, n_estimators=50, random_state=42)\n",
        "\n",
        "# Train the Bagging Classifier\n",
        "bagging_classifier.fit(X_train, y_train) # Use the original target (y_train)\n",
        "\n",
        "# Predict probabilities for the test set\n",
        "y_pred_prob = bagging_classifier.predict_proba(X_test)\n",
        "\n",
        "# Compute AUC score (using the probabilities for each class and binarized y_test)\n",
        "auc_score = roc_auc_score(y_test_bin, y_pred_prob, multi_class='ovr', average='weighted')\n",
        "\n",
        "# Print the AUC score\n",
        "print(f\"AUC Score: {auc_score:.4f}\")"
      ],
      "metadata": {
        "colab": {
          "base_uri": "https://localhost:8080/"
        },
        "id": "Ho8pMnAWf_yc",
        "outputId": "5e33ad04-ba69-47b4-868a-7f04593822b6"
      },
      "execution_count": null,
      "outputs": [
        {
          "output_type": "stream",
          "name": "stdout",
          "text": [
            "AUC Score: 1.0000\n"
          ]
        }
      ]
    },
    {
      "cell_type": "markdown",
      "source": [
        "29. Train a Random Forest Regressor and analyze feature importance scores.\n"
      ],
      "metadata": {
        "id": "1eQvKf9_gGwR"
      }
    },
    {
      "cell_type": "code",
      "source": [
        "from sklearn.ensemble import RandomForestRegressor\n",
        "from sklearn.datasets import fetch_california_housing\n",
        "from sklearn.model_selection import train_test_split\n",
        "import matplotlib.pyplot as plt\n",
        "\n",
        "# Load the California housing dataset\n",
        "california_housing = fetch_california_housing()\n",
        "X = california_housing.data\n",
        "y = california_housing.target\n",
        "\n",
        "# Split the data into training and test sets\n",
        "X_train, X_test, y_train, y_test = train_test_split(X, y, test_size=0.3, random_state=42)\n",
        "\n",
        "# Initialize the Random Forest Regressor\n",
        "rf_regressor = RandomForestRegressor(n_estimators=100, random_state=42)\n",
        "\n",
        "# Train the Random Forest Regressor\n",
        "rf_regressor.fit(X_train, y_train)\n",
        "\n",
        "# Get the feature importance scores\n",
        "feature_importances = rf_regressor.feature_importances_\n",
        "\n",
        "# Print the feature importance scores\n",
        "for feature, importance in zip(california_housing.feature_names, feature_importances):\n",
        "    print(f\"Feature: {feature}, Importance: {importance:.4f}\")\n",
        "\n",
        "# Plot the feature importance scores\n",
        "plt.barh(california_housing.feature_names, feature_importances)\n",
        "plt.title('Feature Importance Scores - Random Forest Regressor')\n",
        "plt.xlabel('Importance')\n",
        "plt.ylabel('Features')\n",
        "plt.show()\n"
      ],
      "metadata": {
        "colab": {
          "base_uri": "https://localhost:8080/",
          "height": 611
        },
        "id": "wfY88BBCgHNq",
        "outputId": "4b9482bc-7b45-4fde-8abd-e79df29270b9"
      },
      "execution_count": null,
      "outputs": [
        {
          "output_type": "stream",
          "name": "stdout",
          "text": [
            "Feature: MedInc, Importance: 0.5260\n",
            "Feature: HouseAge, Importance: 0.0547\n",
            "Feature: AveRooms, Importance: 0.0472\n",
            "Feature: AveBedrms, Importance: 0.0300\n",
            "Feature: Population, Importance: 0.0317\n",
            "Feature: AveOccup, Importance: 0.1382\n",
            "Feature: Latitude, Importance: 0.0861\n",
            "Feature: Longitude, Importance: 0.0861\n"
          ]
        },
        {
          "output_type": "display_data",
          "data": {
            "text/plain": [
              "<Figure size 640x480 with 1 Axes>"
            ],
            "image/png": "[encoded data removed]"
          },
          "metadata": {}
        }
      ]
    },
    {
      "cell_type": "markdown",
      "source": [
        "30. Train an ensemble model using both Bagging and Random Forest and compare accuracy."
      ],
      "metadata": {
        "id": "ZlYz2PBRgHmF"
      }
    },
    {
      "cell_type": "code",
      "source": [
        "from sklearn.ensemble import BaggingClassifier, RandomForestClassifier\n",
        "from sklearn.datasets import load_iris\n",
        "from sklearn.model_selection import train_test_split\n",
        "from sklearn.metrics import accuracy_score\n",
        "\n",
        "# Load the Iris dataset\n",
        "iris_data = load_iris()\n",
        "X = iris_data.data\n",
        "y = iris_data.target\n",
        "\n",
        "# Split the data into training and test sets\n",
        "X_train, X_test, y_train, y_test = train_test_split(X, y, test_size=0.3, random_state=42)\n",
        "\n",
        "# Initialize a Bagging Classifier with a base estimator (e.g., DecisionTreeClassifier)\n",
        "bagging_classifier = BaggingClassifier(n_estimators=50, random_state=42)\n",
        "\n",
        "# Initialize a Random Forest Classifier\n",
        "random_forest_classifier = RandomForestClassifier(n_estimators=50, random_state=42)\n",
        "\n",
        "# Train the Bagging Classifier\n",
        "bagging_classifier.fit(X_train, y_train)\n",
        "\n",
        "# Train the Random Forest Classifier\n",
        "random_forest_classifier.fit(X_train, y_train)\n",
        "\n",
        "# Predict using Bagging Classifier\n",
        "y_pred_bagging = bagging_classifier.predict(X_test)\n",
        "\n",
        "# Predict using Random Forest Classifier\n",
        "y_pred_rf = random_forest_classifier.predict(X_test)\n",
        "\n",
        "# Calculate accuracy for Bagging Classifier\n",
        "accuracy_bagging = accuracy_score(y_test, y_pred_bagging)\n",
        "\n",
        "# Calculate accuracy for Random Forest Classifier\n",
        "accuracy_rf = accuracy_score(y_test, y_pred_rf)\n",
        "\n",
        "# Print the accuracy of both models\n",
        "print(f\"Accuracy of Bagging Classifier: {accuracy_bagging:.4f}\")\n",
        "print(f\"Accuracy of Random Forest Classifier: {accuracy_rf:.4f}\")\n"
      ],
      "metadata": {
        "colab": {
          "base_uri": "https://localhost:8080/"
        },
        "id": "bj9TCSAlgH-u",
        "outputId": "a4822782-539c-4088-8a5d-6fd7082acd6c"
      },
      "execution_count": null,
      "outputs": [
        {
          "output_type": "stream",
          "name": "stdout",
          "text": [
            "Accuracy of Bagging Classifier: 1.0000\n",
            "Accuracy of Random Forest Classifier: 1.0000\n"
          ]
        }
      ]
    },
    {
      "cell_type": "markdown",
      "source": [
        "31. Train a Random Forest Classifier and tune hyperparameters using GridSearchCV.\n"
      ],
      "metadata": {
        "id": "cIOrVYY6gIj7"
      }
    },
    {
      "cell_type": "code",
      "source": [
        "from sklearn.ensemble import RandomForestClassifier\n",
        "from sklearn.datasets import load_iris\n",
        "from sklearn.model_selection import train_test_split, GridSearchCV\n",
        "from sklearn.metrics import accuracy_score\n",
        "\n",
        "# Load the Iris dataset\n",
        "iris_data = load_iris()\n",
        "X = iris_data.data\n",
        "y = iris_data.target\n",
        "\n",
        "# Split the data into training and test sets\n",
        "X_train, X_test, y_train, y_test = train_test_split(X, y, test_size=0.3, random_state=42)\n",
        "\n",
        "# Initialize the Random Forest Classifier\n",
        "rf_classifier = RandomForestClassifier(random_state=42)\n",
        "\n",
        "# Define the hyperparameters grid to search over\n",
        "param_grid = {\n",
        "    'n_estimators': [50, 100, 150],\n",
        "    'max_depth': [None, 10, 20, 30],\n",
        "    'min_samples_split': [2, 5, 10],\n",
        "    'min_samples_leaf': [1, 2, 4],\n",
        "    'max_features': ['auto', 'sqrt', 'log2']\n",
        "}\n",
        "\n",
        "# Initialize GridSearchCV with cross-validation\n",
        "grid_search = GridSearchCV(estimator=rf_classifier, param_grid=param_grid,\n",
        "                           cv=5, scoring='accuracy', n_jobs=-1, verbose=2)\n",
        "\n",
        "# Perform the grid search to find the best hyperparameters\n",
        "grid_search.fit(X_train, y_train)\n",
        "\n",
        "# Get the best hyperparameters\n",
        "best_params = grid_search.best_params_\n",
        "\n",
        "# Train the model with the best hyperparameters\n",
        "best_rf_classifier = grid_search.best_estimator_\n",
        "\n",
        "# Make predictions on the test set\n",
        "y_pred = best_rf_classifier.predict(X_test)\n",
        "\n",
        "# Calculate accuracy\n",
        "accuracy = accuracy_score(y_test, y_pred)\n",
        "\n",
        "# Print the best hyperparameters and accuracy\n",
        "print(f\"Best Hyperparameters: {best_params}\")\n",
        "print(f\"Accuracy of the tuned Random Forest Classifier: {accuracy:.4f}\")\n"
      ],
      "metadata": {
        "colab": {
          "base_uri": "https://localhost:8080/"
        },
        "id": "pfAd13RigI-q",
        "outputId": "c44c0c4f-0028-42a6-c4e2-8632c0fe82db"
      },
      "execution_count": null,
      "outputs": [
        {
          "output_type": "stream",
          "name": "stdout",
          "text": [
            "Fitting 5 folds for each of 324 candidates, totalling 1620 fits\n",
            "Best Hyperparameters: {'max_depth': None, 'max_features': 'sqrt', 'min_samples_leaf': 1, 'min_samples_split': 2, 'n_estimators': 100}\n",
            "Accuracy of the tuned Random Forest Classifier: 1.0000\n"
          ]
        },
        {
          "output_type": "stream",
          "name": "stderr",
          "text": [
            "/usr/local/lib/python3.11/dist-packages/sklearn/model_selection/_validation.py:528: FitFailedWarning: \n",
            "540 fits failed out of a total of 1620.\n",
            "The score on these train-test partitions for these parameters will be set to nan.\n",
            "If these failures are not expected, you can try to debug them by setting error_score='raise'.\n",
            "\n",
            "Below are more details about the failures:\n",
            "--------------------------------------------------------------------------------\n",
            "267 fits failed with the following error:\n",
            "Traceback (most recent call last):\n",
            "  File \"/usr/local/lib/python3.11/dist-packages/sklearn/model_selection/_validation.py\", line 866, in _fit_and_score\n",
            "    estimator.fit(X_train, y_train, **fit_params)\n",
            "  File \"/usr/local/lib/python3.11/dist-packages/sklearn/base.py\", line 1382, in wrapper\n",
            "    estimator._validate_params()\n",
            "  File \"/usr/local/lib/python3.11/dist-packages/sklearn/base.py\", line 436, in _validate_params\n",
            "    validate_parameter_constraints(\n",
            "  File \"/usr/local/lib/python3.11/dist-packages/sklearn/utils/_param_validation.py\", line 98, in validate_parameter_constraints\n",
            "    raise InvalidParameterError(\n",
            "sklearn.utils._param_validation.InvalidParameterError: The 'max_features' parameter of RandomForestClassifier must be an int in the range [1, inf), a float in the range (0.0, 1.0], a str among {'log2', 'sqrt'} or None. Got 'auto' instead.\n",
            "\n",
            "--------------------------------------------------------------------------------\n",
            "273 fits failed with the following error:\n",
            "Traceback (most recent call last):\n",
            "  File \"/usr/local/lib/python3.11/dist-packages/sklearn/model_selection/_validation.py\", line 866, in _fit_and_score\n",
            "    estimator.fit(X_train, y_train, **fit_params)\n",
            "  File \"/usr/local/lib/python3.11/dist-packages/sklearn/base.py\", line 1382, in wrapper\n",
            "    estimator._validate_params()\n",
            "  File \"/usr/local/lib/python3.11/dist-packages/sklearn/base.py\", line 436, in _validate_params\n",
            "    validate_parameter_constraints(\n",
            "  File \"/usr/local/lib/python3.11/dist-packages/sklearn/utils/_param_validation.py\", line 98, in validate_parameter_constraints\n",
            "    raise InvalidParameterError(\n",
            "sklearn.utils._param_validation.InvalidParameterError: The 'max_features' parameter of RandomForestClassifier must be an int in the range [1, inf), a float in the range (0.0, 1.0], a str among {'sqrt', 'log2'} or None. Got 'auto' instead.\n",
            "\n",
            "  warnings.warn(some_fits_failed_message, FitFailedWarning)\n",
            "/usr/local/lib/python3.11/dist-packages/sklearn/model_selection/_search.py:1108: UserWarning: One or more of the test scores are non-finite: [       nan        nan        nan        nan        nan        nan\n",
            "        nan        nan        nan        nan        nan        nan\n",
            "        nan        nan        nan        nan        nan        nan\n",
            "        nan        nan        nan        nan        nan        nan\n",
            "        nan        nan        nan 0.93333333 0.94285714 0.94285714\n",
            " 0.93333333 0.94285714 0.94285714 0.93333333 0.94285714 0.94285714\n",
            " 0.94285714 0.93333333 0.93333333 0.93333333 0.93333333 0.93333333\n",
            " 0.93333333 0.93333333 0.93333333 0.94285714 0.93333333 0.93333333\n",
            " 0.94285714 0.93333333 0.93333333 0.93333333 0.93333333 0.93333333\n",
            " 0.93333333 0.94285714 0.94285714 0.93333333 0.94285714 0.94285714\n",
            " 0.93333333 0.94285714 0.94285714 0.94285714 0.93333333 0.93333333\n",
            " 0.93333333 0.93333333 0.93333333 0.93333333 0.93333333 0.93333333\n",
            " 0.94285714 0.93333333 0.93333333 0.94285714 0.93333333 0.93333333\n",
            " 0.93333333 0.93333333 0.93333333        nan        nan        nan\n",
            "        nan        nan        nan        nan        nan        nan\n",
            "        nan        nan        nan        nan        nan        nan\n",
            "        nan        nan        nan        nan        nan        nan\n",
            "        nan        nan        nan        nan        nan        nan\n",
            " 0.93333333 0.94285714 0.94285714 0.93333333 0.94285714 0.94285714\n",
            " 0.93333333 0.94285714 0.94285714 0.94285714 0.93333333 0.93333333\n",
            " 0.93333333 0.93333333 0.93333333 0.93333333 0.93333333 0.93333333\n",
            " 0.94285714 0.93333333 0.93333333 0.94285714 0.93333333 0.93333333\n",
            " 0.93333333 0.93333333 0.93333333 0.93333333 0.94285714 0.94285714\n",
            " 0.93333333 0.94285714 0.94285714 0.93333333 0.94285714 0.94285714\n",
            " 0.94285714 0.93333333 0.93333333 0.93333333 0.93333333 0.93333333\n",
            " 0.93333333 0.93333333 0.93333333 0.94285714 0.93333333 0.93333333\n",
            " 0.94285714 0.93333333 0.93333333 0.93333333 0.93333333 0.93333333\n",
            "        nan        nan        nan        nan        nan        nan\n",
            "        nan        nan        nan        nan        nan        nan\n",
            "        nan        nan        nan        nan        nan        nan\n",
            "        nan        nan        nan        nan        nan        nan\n",
            "        nan        nan        nan 0.93333333 0.94285714 0.94285714\n",
            " 0.93333333 0.94285714 0.94285714 0.93333333 0.94285714 0.94285714\n",
            " 0.94285714 0.93333333 0.93333333 0.93333333 0.93333333 0.93333333\n",
            " 0.93333333 0.93333333 0.93333333 0.94285714 0.93333333 0.93333333\n",
            " 0.94285714 0.93333333 0.93333333 0.93333333 0.93333333 0.93333333\n",
            " 0.93333333 0.94285714 0.94285714 0.93333333 0.94285714 0.94285714\n",
            " 0.93333333 0.94285714 0.94285714 0.94285714 0.93333333 0.93333333\n",
            " 0.93333333 0.93333333 0.93333333 0.93333333 0.93333333 0.93333333\n",
            " 0.94285714 0.93333333 0.93333333 0.94285714 0.93333333 0.93333333\n",
            " 0.93333333 0.93333333 0.93333333        nan        nan        nan\n",
            "        nan        nan        nan        nan        nan        nan\n",
            "        nan        nan        nan        nan        nan        nan\n",
            "        nan        nan        nan        nan        nan        nan\n",
            "        nan        nan        nan        nan        nan        nan\n",
            " 0.93333333 0.94285714 0.94285714 0.93333333 0.94285714 0.94285714\n",
            " 0.93333333 0.94285714 0.94285714 0.94285714 0.93333333 0.93333333\n",
            " 0.93333333 0.93333333 0.93333333 0.93333333 0.93333333 0.93333333\n",
            " 0.94285714 0.93333333 0.93333333 0.94285714 0.93333333 0.93333333\n",
            " 0.93333333 0.93333333 0.93333333 0.93333333 0.94285714 0.94285714\n",
            " 0.93333333 0.94285714 0.94285714 0.93333333 0.94285714 0.94285714\n",
            " 0.94285714 0.93333333 0.93333333 0.93333333 0.93333333 0.93333333\n",
            " 0.93333333 0.93333333 0.93333333 0.94285714 0.93333333 0.93333333\n",
            " 0.94285714 0.93333333 0.93333333 0.93333333 0.93333333 0.93333333]\n",
            "  warnings.warn(\n"
          ]
        }
      ]
    },
    {
      "cell_type": "markdown",
      "source": [
        "32. Train a Bagging Regressor with different numbers of base estimators and compare performance."
      ],
      "metadata": {
        "id": "_wjK4h89gJl_"
      }
    },
    {
      "cell_type": "code",
      "source": [
        "from sklearn.ensemble import BaggingRegressor\n",
        "from sklearn.tree import DecisionTreeRegressor\n",
        "from sklearn.datasets import fetch_california_housing\n",
        "from sklearn.model_selection import train_test_split\n",
        "from sklearn.metrics import mean_squared_error\n",
        "import matplotlib.pyplot as plt\n",
        "\n",
        "# Load the California Housing dataset\n",
        "data = fetch_california_housing()\n",
        "X = data.data\n",
        "y = data.target\n",
        "\n",
        "# Split into training and testing sets\n",
        "X_train, X_test, y_train, y_test = train_test_split(X, y, test_size=0.3, random_state=42)\n",
        "\n",
        "# Range of base estimators to test\n",
        "n_estimators_list = [10, 50, 100, 200]\n",
        "\n",
        "# Store MSE values\n",
        "mse_scores = []\n",
        "\n",
        "# Train Bagging Regressor with different numbers of base estimators\n",
        "for n in n_estimators_list:\n",
        "    # Indent the code block within the for loop\n",
        "    bagging_regressor = BaggingRegressor(\n",
        "        estimator=DecisionTreeRegressor(), # Changed 'base_estimator' to 'estimator'\n",
        "        n_estimators=n,\n",
        "        random_state=42,\n",
        "        n_jobs=-1\n",
        "    )\n",
        "    bagging_regressor.fit(X_train, y_train)\n",
        "    y_pred = bagging_regressor.predict(X_test)\n",
        "    mse = mean_squared_error(y_test, y_pred)\n",
        "    mse_scores.append(mse)\n",
        "    print(f\"Estimators: {n}, MSE: {mse:.4f}\")\n",
        "\n",
        "# Plotting the results\n",
        "plt.figure(figsize=(8, 5))\n",
        "plt.plot(n_estimators_list, mse_scores, marker='o', color='green')\n",
        "plt.title('Bagging Regressor Performance vs Number of Estimators')\n",
        "plt.xlabel('Number of Estimators')\n",
        "plt.ylabel('Mean Squared Error (MSE)')\n",
        "plt.grid(True)\n",
        "plt.show()"
      ],
      "metadata": {
        "colab": {
          "base_uri": "https://localhost:8080/",
          "height": 556
        },
        "id": "whWQmaxen0RP",
        "outputId": "5906ab7a-aa90-4c32-8f1a-b0fa14cacb9e"
      },
      "execution_count": null,
      "outputs": [
        {
          "output_type": "stream",
          "name": "stdout",
          "text": [
            "Estimators: 10, MSE: 0.2862\n",
            "Estimators: 50, MSE: 0.2579\n",
            "Estimators: 100, MSE: 0.2568\n",
            "Estimators: 200, MSE: 0.2542\n"
          ]
        },
        {
          "output_type": "display_data",
          "data": {
            "text/plain": [
              "<Figure size 800x500 with 1 Axes>"
            ],
            "image/png": "[encoded data removed]"
          },
          "metadata": {}
        }
      ]
    },
    {
      "cell_type": "markdown",
      "source": [
        "33. Train a Random Forest Classifier and analyze misclassified samples.\n"
      ],
      "metadata": {
        "id": "pQNUuDGWiSHJ"
      }
    },
    {
      "cell_type": "code",
      "source": [
        "from sklearn.ensemble import RandomForestClassifier\n",
        "from sklearn.datasets import load_iris\n",
        "from sklearn.model_selection import train_test_split\n",
        "from sklearn.metrics import accuracy_score, confusion_matrix, classification_report\n",
        "import pandas as pd\n",
        "\n",
        "# Load the Iris dataset\n",
        "iris = load_iris()\n",
        "X = iris.data\n",
        "y = iris.target\n",
        "feature_names = iris.feature_names\n",
        "target_names = iris.target_names\n",
        "\n",
        "# Split the dataset\n",
        "X_train, X_test, y_train, y_test = train_test_split(X, y, test_size=0.3, random_state=42)\n",
        "\n",
        "# Train the Random Forest Classifier\n",
        "rf = RandomForestClassifier(n_estimators=100, random_state=42)\n",
        "rf.fit(X_train, y_train)\n",
        "\n",
        "# Make predictions\n",
        "y_pred = rf.predict(X_test)\n",
        "\n",
        "# Calculate accuracy\n",
        "accuracy = accuracy_score(y_test, y_pred)\n",
        "print(f\"Accuracy: {accuracy:.4f}\")\n",
        "\n",
        "# Print classification report\n",
        "print(\"\\nClassification Report:\\n\")\n",
        "print(classification_report(y_test, y_pred, target_names=target_names))\n",
        "\n",
        "# Confusion Matrix\n",
        "print(\"Confusion Matrix:\\n\")\n",
        "print(confusion_matrix(y_test, y_pred))\n",
        "\n",
        "# Identify misclassified samples\n",
        "misclassified_indices = (y_test != y_pred)\n",
        "X_misclassified = X_test[misclassified_indices]\n",
        "y_true_misclassified = y_test[misclassified_indices]\n",
        "y_pred_misclassified = y_pred[misclassified_indices]\n",
        "\n",
        "# Convert to DataFrame for clarity\n",
        "misclassified_df = pd.DataFrame(X_misclassified, columns=feature_names)\n",
        "misclassified_df['True Label'] = [target_names[i] for i in y_true_misclassified]\n",
        "misclassified_df['Predicted Label'] = [target_names[i] for i in y_pred_misclassified]\n",
        "\n",
        "# Display misclassified samples\n",
        "print(\"\\nMisclassified Samples:\\n\")\n",
        "print(misclassified_df)\n"
      ],
      "metadata": {
        "colab": {
          "base_uri": "https://localhost:8080/"
        },
        "id": "3RfLjB1YiSiS",
        "outputId": "f5e5a0f2-4dee-4bb1-a3bb-9cbf82b8c4f7"
      },
      "execution_count": null,
      "outputs": [
        {
          "output_type": "stream",
          "name": "stdout",
          "text": [
            "Accuracy: 1.0000\n",
            "\n",
            "Classification Report:\n",
            "\n",
            "              precision    recall  f1-score   support\n",
            "\n",
            "      setosa       1.00      1.00      1.00        19\n",
            "  versicolor       1.00      1.00      1.00        13\n",
            "   virginica       1.00      1.00      1.00        13\n",
            "\n",
            "    accuracy                           1.00        45\n",
            "   macro avg       1.00      1.00      1.00        45\n",
            "weighted avg       1.00      1.00      1.00        45\n",
            "\n",
            "Confusion Matrix:\n",
            "\n",
            "[[19  0  0]\n",
            " [ 0 13  0]\n",
            " [ 0  0 13]]\n",
            "\n",
            "Misclassified Samples:\n",
            "\n",
            "Empty DataFrame\n",
            "Columns: [sepal length (cm), sepal width (cm), petal length (cm), petal width (cm), True Label, Predicted Label]\n",
            "Index: []\n"
          ]
        }
      ]
    },
    {
      "cell_type": "markdown",
      "source": [
        "34. Train a Bagging Classifier and compare its performance with a single Decision Tree Classifier."
      ],
      "metadata": {
        "id": "-pgU7xOJiTrT"
      }
    },
    {
      "cell_type": "code",
      "source": [
        "from sklearn.ensemble import BaggingClassifier\n",
        "from sklearn.tree import DecisionTreeClassifier\n",
        "from sklearn.datasets import load_iris\n",
        "from sklearn.model_selection import train_test_split\n",
        "from sklearn.metrics import accuracy_score\n",
        "\n",
        "# Load the Iris dataset\n",
        "iris = load_iris()\n",
        "X = iris.data\n",
        "y = iris.target\n",
        "\n",
        "# Split dataset into training and testing\n",
        "X_train, X_test, y_train, y_test = train_test_split(X, y, test_size=0.3, random_state=42)\n",
        "\n",
        "# Single Decision Tree Classifier\n",
        "dt_classifier = DecisionTreeClassifier(random_state=42)\n",
        "dt_classifier.fit(X_train, y_train)\n",
        "y_pred_dt = dt_classifier.predict(X_test)\n",
        "accuracy_dt = accuracy_score(y_test, y_pred_dt)\n",
        "\n",
        "# Bagging Classifier with Decision Tree as base estimator\n",
        "bagging_classifier = BaggingClassifier(\n",
        "    estimator=DecisionTreeClassifier(), # Changed 'base_estimator' to 'estimator'\n",
        "    n_estimators=50,\n",
        "    random_state=42,\n",
        "    n_jobs=-1\n",
        ")\n",
        "\n",
        "bagging_classifier.fit(X_train, y_train)\n",
        "y_pred_bagging = bagging_classifier.predict(X_test)\n",
        "accuracy_bagging = accuracy_score(y_test, y_pred_bagging)\n",
        "\n",
        "# Print the comparison results\n",
        "print(f\"Accuracy of Single Decision Tree: {accuracy_dt:.4f}\")\n",
        "print(f\"Accuracy of Bagging Classifier:  {accuracy_bagging:.4f}\")\n"
      ],
      "metadata": {
        "colab": {
          "base_uri": "https://localhost:8080/"
        },
        "id": "bYuchJNpiUG1",
        "outputId": "2004ea2c-2b1d-49b2-cba8-12ac5dd14ad3"
      },
      "execution_count": null,
      "outputs": [
        {
          "output_type": "stream",
          "name": "stdout",
          "text": [
            "Accuracy of Single Decision Tree: 1.0000\n",
            "Accuracy of Bagging Classifier:  1.0000\n"
          ]
        }
      ]
    },
    {
      "cell_type": "markdown",
      "source": [
        "\n",
        "35. Train a Random Forest Classifier and visualize the confusion matrix\n",
        "\n",
        "\n"
      ],
      "metadata": {
        "id": "MjntOHNqiv9F"
      }
    },
    {
      "cell_type": "code",
      "source": [
        "import matplotlib.pyplot as plt\n",
        "import seaborn as sns\n",
        "from sklearn.ensemble import RandomForestClassifier\n",
        "from sklearn.datasets import load_iris\n",
        "from sklearn.model_selection import train_test_split\n",
        "from sklearn.metrics import confusion_matrix, ConfusionMatrixDisplay, accuracy_score\n",
        "\n",
        "# Load the Iris dataset\n",
        "iris = load_iris()\n",
        "X = iris.data\n",
        "y = iris.target\n",
        "class_names = iris.target_names\n",
        "\n",
        "# Train-test split\n",
        "X_train, X_test, y_train, y_test = train_test_split(X, y, test_size=0.3, random_state=42)\n",
        "\n",
        "# Train Random Forest Classifier\n",
        "rf_classifier = RandomForestClassifier(n_estimators=100, random_state=42)\n",
        "rf_classifier.fit(X_train, y_train)\n",
        "\n",
        "# Predictions\n",
        "y_pred = rf_classifier.predict(X_test)\n",
        "\n",
        "# Accuracy\n",
        "accuracy = accuracy_score(y_test, y_pred)\n",
        "print(f\"Accuracy: {accuracy:.4f}\")\n",
        "\n",
        "# Confusion Matrix\n",
        "cm = confusion_matrix(y_test, y_pred)\n",
        "\n",
        "# Plot confusion matrix using seaborn\n",
        "plt.figure(figsize=(6, 4))\n",
        "sns.heatmap(cm, annot=True, fmt=\"d\", cmap=\"Blues\", xticklabels=class_names, yticklabels=class_names)\n",
        "plt.title(\"Confusion Matrix - Random Forest Classifier\")\n",
        "plt.xlabel(\"Predicted Label\")\n",
        "plt.ylabel(\"True Label\")\n",
        "plt.tight_layout()\n",
        "plt.show()\n"
      ],
      "metadata": {
        "colab": {
          "base_uri": "https://localhost:8080/",
          "height": 424
        },
        "id": "1EoD9Ra_iwY7",
        "outputId": "6ef4516c-6e76-43da-ceb8-f336896e9689"
      },
      "execution_count": null,
      "outputs": [
        {
          "output_type": "stream",
          "name": "stdout",
          "text": [
            "Accuracy: 1.0000\n"
          ]
        },
        {
          "output_type": "display_data",
          "data": {
            "text/plain": [
              "<Figure size 600x400 with 2 Axes>"
            ],
            "image/png": "[encoded data removed]"
          },
          "metadata": {}
        }
      ]
    },
    {
      "cell_type": "markdown",
      "source": [
        "36. Train a Stacking Classifier using Decision Trees, SVM, and Logistic Regression, and compare accuracy"
      ],
      "metadata": {
        "id": "u890XSsdiw8L"
      }
    },
    {
      "cell_type": "code",
      "source": [
        "from sklearn.datasets import load_iris\n",
        "from sklearn.model_selection import train_test_split\n",
        "from sklearn.ensemble import StackingClassifier\n",
        "from sklearn.tree import DecisionTreeClassifier\n",
        "from sklearn.svm import SVC\n",
        "from sklearn.linear_model import LogisticRegression\n",
        "from sklearn.metrics import accuracy_score\n",
        "\n",
        "# Load the Iris dataset\n",
        "iris = load_iris()\n",
        "X = iris.data\n",
        "y = iris.target\n",
        "\n",
        "# Split dataset into train and test sets\n",
        "X_train, X_test, y_train, y_test = train_test_split(X, y, test_size=0.3, random_state=42)\n",
        "\n",
        "# Base learners\n",
        "tree_clf = DecisionTreeClassifier(random_state=42)\n",
        "svm_clf = SVC(probability=True, random_state=42)  # probability=True needed for stacking\n",
        "\n",
        "# Final estimator\n",
        "log_reg = LogisticRegression(max_iter=1000, random_state=42)\n",
        "\n",
        "# Stacking Classifier\n",
        "stacking_clf = StackingClassifier(\n",
        "    estimators=[\n",
        "        ('dt', tree_clf),\n",
        "        ('svm', svm_clf)\n",
        "    ],\n",
        "    final_estimator=log_reg,\n",
        "    cv=5\n",
        ")\n",
        "\n",
        "# Train and evaluate base models\n",
        "tree_clf.fit(X_train, y_train)\n",
        "svm_clf.fit(X_train, y_train)\n",
        "stacking_clf.fit(X_train, y_train)\n",
        "\n",
        "# Predictions\n",
        "y_pred_tree = tree_clf.predict(X_test)\n",
        "y_pred_svm = svm_clf.predict(X_test)\n",
        "y_pred_stack = stacking_clf.predict(X_test)\n",
        "\n",
        "# Accuracy scores\n",
        "acc_tree = accuracy_score(y_test, y_pred_tree)\n",
        "acc_svm = accuracy_score(y_test, y_pred_svm)\n",
        "acc_stack = accuracy_score(y_test, y_pred_stack)\n",
        "\n",
        "# Print results\n",
        "print(f\"Accuracy - Decision Tree:     {acc_tree:.4f}\")\n",
        "print(f\"Accuracy - SVM:               {acc_svm:.4f}\")\n",
        "print(f\"Accuracy - Stacking Classifier: {acc_stack:.4f}\")\n"
      ],
      "metadata": {
        "colab": {
          "base_uri": "https://localhost:8080/"
        },
        "id": "hefwj0AMjUY_",
        "outputId": "63c25a35-25c4-4c59-d740-22e1689c74e9"
      },
      "execution_count": null,
      "outputs": [
        {
          "output_type": "stream",
          "name": "stdout",
          "text": [
            "Accuracy - Decision Tree:     1.0000\n",
            "Accuracy - SVM:               1.0000\n",
            "Accuracy - Stacking Classifier: 1.0000\n"
          ]
        }
      ]
    },
    {
      "cell_type": "markdown",
      "source": [
        "37. Train a Random Forest Classifier and print the top 5 most important features.\n"
      ],
      "metadata": {
        "id": "HZo1JnCDixuu"
      }
    },
    {
      "cell_type": "code",
      "source": [
        "from sklearn.ensemble import RandomForestClassifier\n",
        "from sklearn.datasets import load_iris\n",
        "from sklearn.model_selection import train_test_split\n",
        "import pandas as pd\n",
        "\n",
        "# Load the Iris dataset\n",
        "data = load_iris()\n",
        "X = data.data\n",
        "y = data.target\n",
        "feature_names = data.feature_names\n",
        "\n",
        "# Split into training and test sets\n",
        "X_train, X_test, y_train, y_test = train_test_split(X, y, test_size=0.3, random_state=42)\n",
        "\n",
        "# Train Random Forest Classifier\n",
        "rf_classifier = RandomForestClassifier(n_estimators=100, random_state=42)\n",
        "rf_classifier.fit(X_train, y_train)\n",
        "\n",
        "# Get feature importances\n",
        "importances = rf_classifier.feature_importances_\n",
        "\n",
        "# Create a DataFrame for better visualization\n",
        "feature_importance_df = pd.DataFrame({\n",
        "    'Feature': feature_names,\n",
        "    'Importance': importances\n",
        "})\n",
        "\n",
        "# Sort features by importance\n",
        "feature_importance_df = feature_importance_df.sort_values(by='Importance', ascending=False)\n",
        "\n",
        "# Print top 5 important features\n",
        "print(\"Top 5 Most Important Features:\")\n",
        "print(feature_importance_df.head(5))\n"
      ],
      "metadata": {
        "colab": {
          "base_uri": "https://localhost:8080/"
        },
        "id": "k_M0tTaxiyJe",
        "outputId": "aeaad990-60db-4936-dd56-b990d6ddfbcb"
      },
      "execution_count": null,
      "outputs": [
        {
          "output_type": "stream",
          "name": "stdout",
          "text": [
            "Top 5 Most Important Features:\n",
            "             Feature  Importance\n",
            "3   petal width (cm)    0.433982\n",
            "2  petal length (cm)    0.417308\n",
            "0  sepal length (cm)    0.104105\n",
            "1   sepal width (cm)    0.044605\n"
          ]
        }
      ]
    },
    {
      "cell_type": "markdown",
      "source": [
        "38. Train a Bagging Classifier and evaluate performance using Precision, Recall, and Fl-score.\n"
      ],
      "metadata": {
        "id": "_L3XqTb7jaxe"
      }
    },
    {
      "cell_type": "code",
      "source": [
        "from sklearn.ensemble import BaggingClassifier\n",
        "from sklearn.tree import DecisionTreeClassifier\n",
        "from sklearn.datasets import load_iris\n",
        "from sklearn.model_selection import train_test_split\n",
        "from sklearn.metrics import classification_report\n",
        "\n",
        "# Load the Iris dataset\n",
        "iris = load_iris()\n",
        "X = iris.data\n",
        "y = iris.target\n",
        "\n",
        "# Split into training and test sets\n",
        "X_train, X_test, y_train, y_test = train_test_split(X, y, test_size=0.3, random_state=42)\n",
        "\n",
        "# Create and train Bagging Classifier\n",
        "# The 'base_estimator' argument has been replaced with 'estimator'\n",
        "bagging_clf = BaggingClassifier(\n",
        "    estimator=DecisionTreeClassifier(),  # Changed base_estimator to estimator\n",
        "    n_estimators=50,\n",
        "    random_state=42,\n",
        "    n_jobs=-1\n",
        ")\n",
        "bagging_clf.fit(X_train, y_train)\n",
        "\n",
        "# Predict on test set\n",
        "y_pred = bagging_clf.predict(X_test)\n",
        "\n",
        "# Evaluate performance\n",
        "print(\"Classification Report (Precision, Recall, F1-score):\\n\")\n",
        "print(classification_report(y_test, y_pred, target_names=iris.target_names))"
      ],
      "metadata": {
        "colab": {
          "base_uri": "https://localhost:8080/"
        },
        "id": "Aa5ZgoC3nLKx",
        "outputId": "53606a95-7ea2-4517-97ae-966931e03492"
      },
      "execution_count": null,
      "outputs": [
        {
          "output_type": "stream",
          "name": "stdout",
          "text": [
            "Classification Report (Precision, Recall, F1-score):\n",
            "\n",
            "              precision    recall  f1-score   support\n",
            "\n",
            "      setosa       1.00      1.00      1.00        19\n",
            "  versicolor       1.00      1.00      1.00        13\n",
            "   virginica       1.00      1.00      1.00        13\n",
            "\n",
            "    accuracy                           1.00        45\n",
            "   macro avg       1.00      1.00      1.00        45\n",
            "weighted avg       1.00      1.00      1.00        45\n",
            "\n"
          ]
        }
      ]
    },
    {
      "cell_type": "markdown",
      "source": [
        "39. Train a Random Forest Classifier and analyze the effect of max_depth on accuracy"
      ],
      "metadata": {
        "id": "JUWiyEjNjb2S"
      }
    },
    {
      "cell_type": "code",
      "source": [
        "import matplotlib.pyplot as plt\n",
        "from sklearn.ensemble import RandomForestClassifier\n",
        "from sklearn.datasets import load_iris\n",
        "from sklearn.model_selection import train_test_split\n",
        "from sklearn.metrics import accuracy_score\n",
        "\n",
        "# Load dataset\n",
        "iris = load_iris()\n",
        "X = iris.data\n",
        "y = iris.target\n",
        "\n",
        "# Train-test split\n",
        "X_train, X_test, y_train, y_test = train_test_split(X, y, test_size=0.3, random_state=42)\n",
        "\n",
        "# Different max_depth values to test\n",
        "max_depth_values = [1, 2, 3, 5, 10, None]  # None means unlimited depth\n",
        "accuracies = []\n",
        "\n",
        "# Train and evaluate Random Forest with different max_depth\n",
        "for depth in max_depth_values:\n",
        "    rf = RandomForestClassifier(n_estimators=100, max_depth=depth, random_state=42)\n",
        "    rf.fit(X_train, y_train)\n",
        "    y_pred = rf.predict(X_test)\n",
        "    acc = accuracy_score(y_test, y_pred)\n",
        "    accuracies.append(acc)\n",
        "\n",
        "# Plotting\n",
        "plt.figure(figsize=(8, 5))\n",
        "plt.plot([str(d) for d in max_depth_values], accuracies, marker='o', color='teal')\n",
        "plt.title('Effect of max_depth on Random Forest Accuracy')\n",
        "plt.xlabel('max_depth')\n",
        "plt.ylabel('Accuracy')\n",
        "plt.grid(True)\n",
        "plt.show()\n",
        "\n",
        "# Print accuracies\n",
        "for depth, acc in zip(max_depth_values, accuracies):\n",
        "    print(f\"max_depth = {depth}, Accuracy = {acc:.4f}\")\n"
      ],
      "metadata": {
        "colab": {
          "base_uri": "https://localhost:8080/",
          "height": 591
        },
        "id": "VBHjLKOwjcgT",
        "outputId": "88beba7c-7e20-40e1-ca0d-2fddec22bd88"
      },
      "execution_count": null,
      "outputs": [
        {
          "output_type": "display_data",
          "data": {
            "text/plain": [
              "<Figure size 800x500 with 1 Axes>"
            ],
            "image/png": "[encoded data removed]"
          },
          "metadata": {}
        },
        {
          "output_type": "stream",
          "name": "stdout",
          "text": [
            "max_depth = 1, Accuracy = 1.0000\n",
            "max_depth = 2, Accuracy = 1.0000\n",
            "max_depth = 3, Accuracy = 1.0000\n",
            "max_depth = 5, Accuracy = 1.0000\n",
            "max_depth = 10, Accuracy = 1.0000\n",
            "max_depth = None, Accuracy = 1.0000\n"
          ]
        }
      ]
    },
    {
      "cell_type": "markdown",
      "source": [
        "40. Train a Bagging Regressor using different base estimators (DecisionTree and KNeighbors) and compare performance.\n"
      ],
      "metadata": {
        "id": "ep06V2-hj8wD"
      }
    },
    {
      "cell_type": "code",
      "source": [
        "from sklearn.ensemble import BaggingRegressor\n",
        "from sklearn.tree import DecisionTreeRegressor\n",
        "from sklearn.neighbors import KNeighborsRegressor\n",
        "from sklearn.datasets import load_diabetes\n",
        "from sklearn.model_selection import train_test_split\n",
        "from sklearn.metrics import mean_squared_error\n",
        "\n",
        "# Load dataset\n",
        "data = load_diabetes()\n",
        "X = data.data\n",
        "y = data.target\n",
        "\n",
        "# Train-test split\n",
        "X_train, X_test, y_train, y_test = train_test_split(X, y, test_size=0.3, random_state=42)\n",
        "\n",
        "# Bagging with Decision Tree\n",
        "# Replace 'base_estimator' with 'estimator'\n",
        "bagging_dt = BaggingRegressor(\n",
        "    estimator=DecisionTreeRegressor(),  # Changed to 'estimator'\n",
        "    n_estimators=50,\n",
        "    random_state=42,\n",
        "    n_jobs=-1\n",
        ")\n",
        "bagging_dt.fit(X_train, y_train)\n",
        "y_pred_dt = bagging_dt.predict(X_test)\n",
        "mse_dt = mean_squared_error(y_test, y_pred_dt)\n",
        "\n",
        "# Bagging with K-Neighbors\n",
        "# Replace 'base_estimator' with 'estimator'\n",
        "bagging_knn = BaggingRegressor(\n",
        "    estimator=KNeighborsRegressor(),  # Changed to 'estimator'\n",
        "    n_estimators=50,\n",
        "    random_state=42,\n",
        "    n_jobs=-1\n",
        ")\n",
        "bagging_knn.fit(X_train, y_train)\n",
        "y_pred_knn = bagging_knn.predict(X_test)\n",
        "mse_knn = mean_squared_error(y_test, y_pred_knn)\n",
        "\n",
        "# Print comparison\n",
        "print(f\"Bagging Regressor with Decision Tree MSE: {mse_dt:.2f}\")\n",
        "print(f\"Bagging Regressor with K-Neighbors MSE:   {mse_knn:.2f}\")"
      ],
      "metadata": {
        "colab": {
          "base_uri": "https://localhost:8080/"
        },
        "id": "pjjvBiLgmwcO",
        "outputId": "4d378ffe-3148-4cec-eec5-4d2d451d945f"
      },
      "execution_count": null,
      "outputs": [
        {
          "output_type": "stream",
          "name": "stdout",
          "text": [
            "Bagging Regressor with Decision Tree MSE: 2987.01\n",
            "Bagging Regressor with K-Neighbors MSE:   3140.19\n"
          ]
        }
      ]
    },
    {
      "cell_type": "markdown",
      "source": [
        "41. Train a Random Forest Classifier and evaluate its performance using ROC-AUC Score.\n",
        "\n"
      ],
      "metadata": {
        "id": "85EuAS8Mj9n1"
      }
    },
    {
      "cell_type": "code",
      "source": [
        "from sklearn.datasets import load_breast_cancer\n",
        "from sklearn.ensemble import RandomForestClassifier\n",
        "from sklearn.model_selection import train_test_split\n",
        "from sklearn.metrics import roc_auc_score, roc_curve\n",
        "import matplotlib.pyplot as plt\n",
        "\n",
        "# Load the Breast Cancer dataset\n",
        "data = load_breast_cancer()\n",
        "X = data.data\n",
        "y = data.target\n",
        "\n",
        "# Train-test split\n",
        "X_train, X_test, y_train, y_test = train_test_split(X, y, test_size=0.3, random_state=42)\n",
        "\n",
        "# Train Random Forest Classifier\n",
        "rf = RandomForestClassifier(n_estimators=100, random_state=42)\n",
        "rf.fit(X_train, y_train)\n",
        "\n",
        "# Predict probabilities for ROC curve\n",
        "y_proba = rf.predict_proba(X_test)[:, 1]  # Probability for class \"1\"\n",
        "\n",
        "# Calculate ROC-AUC score\n",
        "roc_auc = roc_auc_score(y_test, y_proba)\n",
        "print(f\"ROC-AUC Score: {roc_auc:.4f}\")\n",
        "\n",
        "# Plot ROC curve\n",
        "fpr, tpr, thresholds = roc_curve(y_test, y_proba)\n",
        "plt.figure(figsize=(6, 4))\n",
        "plt.plot(fpr, tpr, label=f'Random Forest (AUC = {roc_auc:.4f})', color='darkorange')\n",
        "plt.plot([0, 1], [0, 1], linestyle='--', color='gray')\n",
        "plt.xlabel('False Positive Rate')\n",
        "plt.ylabel('True Positive Rate')\n",
        "plt.title('ROC Curve - Random Forest Classifier')\n",
        "plt\n"
      ],
      "metadata": {
        "colab": {
          "base_uri": "https://localhost:8080/",
          "height": 445
        },
        "id": "BaA4HGhnj-GR",
        "outputId": "114c0180-401a-4a18-c1cb-6426d7641169"
      },
      "execution_count": null,
      "outputs": [
        {
          "output_type": "stream",
          "name": "stdout",
          "text": [
            "ROC-AUC Score: 0.9968\n"
          ]
        },
        {
          "output_type": "execute_result",
          "data": {
            "text/plain": [
              "<module 'matplotlib.pyplot' from '/usr/local/lib/python3.11/dist-packages/matplotlib/pyplot.py'>"
            ]
          },
          "metadata": {},
          "execution_count": 32
        },
        {
          "output_type": "display_data",
          "data": {
            "text/plain": [
              "<Figure size 600x400 with 1 Axes>"
            ],
            "image/png": "[encoded data removed]"
          },
          "metadata": {}
        }
      ]
    },
    {
      "cell_type": "markdown",
      "source": [
        "42. Train a Bagging Classifier and evaluate its performance using cross-validation.\n"
      ],
      "metadata": {
        "id": "FATPbKAjj-a-"
      }
    },
    {
      "cell_type": "code",
      "source": [
        "from sklearn.ensemble import BaggingClassifier\n",
        "from sklearn.tree import DecisionTreeClassifier\n",
        "from sklearn.datasets import load_iris\n",
        "from sklearn.model_selection import cross_val_score\n",
        "import numpy as np\n",
        "\n",
        "# Load the Iris dataset\n",
        "iris = load_iris()\n",
        "X = iris.data\n",
        "y = iris.target\n",
        "\n",
        "# Define Bagging Classifier with Decision Tree as the base estimator\n",
        "# Use 'estimator' instead of 'base_estimator'\n",
        "bagging_clf = BaggingClassifier(\n",
        "    estimator=DecisionTreeClassifier(),\n",
        "    n_estimators=50,   # Number of base classifiers\n",
        "    random_state=42\n",
        ")\n",
        "\n",
        "# Evaluate using cross-validation\n",
        "cv_scores = cross_val_score(bagging_clf, X, y, cv=5, scoring='accuracy')\n",
        "\n",
        "# Print the cross-validation results\n",
        "print(f\"Cross-validation accuracy scores: {cv_scores}\")\n",
        "print(f\"Mean accuracy: {np.mean(cv_scores):.4f}\")\n",
        "print(f\"Standard deviation of accuracy: {np.std(cv_scores):.4f}\")"
      ],
      "metadata": {
        "colab": {
          "base_uri": "https://localhost:8080/"
        },
        "id": "ZsKNsXhumlaG",
        "outputId": "d77b667a-3390-44b3-9fba-75bfed928f0d"
      },
      "execution_count": null,
      "outputs": [
        {
          "output_type": "stream",
          "name": "stdout",
          "text": [
            "Cross-validation accuracy scores: [0.96666667 0.96666667 0.93333333 0.96666667 1.        ]\n",
            "Mean accuracy: 0.9667\n",
            "Standard deviation of accuracy: 0.0211\n"
          ]
        }
      ]
    },
    {
      "cell_type": "markdown",
      "source": [
        "43. Train a Random Forest Classifier and plot the Precision-Recall curve\n"
      ],
      "metadata": {
        "id": "VCbiVBK5kjCZ"
      }
    },
    {
      "cell_type": "code",
      "source": [
        "from sklearn.datasets import load_breast_cancer\n",
        "from sklearn.ensemble import RandomForestClassifier\n",
        "from sklearn.model_selection import train_test_split\n",
        "from sklearn.metrics import precision_recall_curve\n",
        "import matplotlib.pyplot as plt\n",
        "\n",
        "# Load the Breast Cancer dataset\n",
        "data = load_breast_cancer()\n",
        "X = data.data\n",
        "y = data.target\n",
        "\n",
        "# Train-test split\n",
        "X_train, X_test, y_train, y_test = train_test_split(X, y, test_size=0.3, random_state=42)\n",
        "\n",
        "# Train Random Forest Classifier\n",
        "rf = RandomForestClassifier(n_estimators=100, random_state=42)\n",
        "rf.fit(X_train, y_train)\n",
        "\n",
        "# Predict probabilities for Precision-Recall curve\n",
        "y_proba = rf.predict_proba(X_test)[:, 1]  # Probability for class \"1\"\n",
        "\n",
        "# Calculate precision and recall values\n",
        "precision, recall, _ = precision_recall_curve(y_test, y_proba)\n",
        "\n",
        "# Plot Precision-Recall curve\n",
        "plt.figure(figsize=(6, 4))\n",
        "plt.plot(recall, precision, color='darkorange', label='Random Forest')\n",
        "plt.xlabel('Recall')\n",
        "plt.ylabel('Precision')\n",
        "plt.title('Precision-Recall Curve - Random Forest Classifier')\n",
        "plt.legend(loc='lower left')\n",
        "plt.grid(True)\n",
        "plt.tight_layout()\n",
        "plt.show()\n"
      ],
      "metadata": {
        "colab": {
          "base_uri": "https://localhost:8080/",
          "height": 407
        },
        "id": "YNWmuP1zkhre",
        "outputId": "3f2c8a06-4466-4f36-fa45-f284a7edd185"
      },
      "execution_count": null,
      "outputs": [
        {
          "output_type": "display_data",
          "data": {
            "text/plain": [
              "<Figure size 600x400 with 1 Axes>"
            ],
            "image/png": "[encoded data removed]"
          },
          "metadata": {}
        }
      ]
    },
    {
      "cell_type": "markdown",
      "source": [
        "44. Train a Stacking Classifier with Random Forest and Logistic Regression and compare accuracy.\n"
      ],
      "metadata": {
        "id": "oyp2keJ3khXW"
      }
    },
    {
      "cell_type": "code",
      "source": [
        "from sklearn.datasets import load_iris\n",
        "from sklearn.ensemble import StackingClassifier, RandomForestClassifier\n",
        "from sklearn.linear_model import LogisticRegression\n",
        "from sklearn.model_selection import train_test_split\n",
        "from sklearn.metrics import accuracy_score\n",
        "\n",
        "# Load the Iris dataset\n",
        "iris = load_iris()\n",
        "X = iris.data\n",
        "y = iris.target\n",
        "\n",
        "# Split into train and test sets\n",
        "X_train, X_test, y_train, y_test = train_test_split(X, y, test_size=0.3, random_state=42)\n",
        "\n",
        "# Define base learners\n",
        "base_learners = [\n",
        "    ('rf', RandomForestClassifier(n_estimators=100, random_state=42)),\n",
        "    ('lr', LogisticRegression(max_iter=200, random_state=42))\n",
        "]\n",
        "\n",
        "# Define the meta-learner\n",
        "meta_learner = LogisticRegression(random_state=42)\n",
        "\n",
        "# Create Stacking Classifier\n",
        "stacking_clf = StackingClassifier(estimators=base_learners, final_estimator=meta_learner)\n",
        "\n",
        "# Train the model\n",
        "stacking_clf.fit(X_train, y_train)\n",
        "\n",
        "# Predict on the test set\n",
        "y_pred = stacking_clf.predict(X_test)\n",
        "\n",
        "# Evaluate accuracy\n",
        "accuracy = accuracy_score(y_test, y_pred)\n",
        "\n",
        "print(f\"Accuracy of Stacking Classifier: {accuracy:.4f}\")\n"
      ],
      "metadata": {
        "colab": {
          "base_uri": "https://localhost:8080/"
        },
        "id": "A3runb_ckjfr",
        "outputId": "6e8fa2f6-b1b2-4477-cdd2-29b06544a2d0"
      },
      "execution_count": null,
      "outputs": [
        {
          "output_type": "stream",
          "name": "stdout",
          "text": [
            "Accuracy of Stacking Classifier: 1.0000\n"
          ]
        }
      ]
    },
    {
      "cell_type": "markdown",
      "source": [
        "45. Train a Bagging Regressor with different levels of bootstrap samples and compare performance."
      ],
      "metadata": {
        "id": "sLRbng34kj9S"
      }
    },
    {
      "cell_type": "code",
      "source": [
        "from sklearn.ensemble import BaggingRegressor\n",
        "from sklearn.tree import DecisionTreeRegressor\n",
        "from sklearn.datasets import load_diabetes\n",
        "from sklearn.model_selection import train_test_split\n",
        "from sklearn.metrics import mean_squared_error\n",
        "import numpy as np\n",
        "\n",
        "# Load the Diabetes dataset\n",
        "data = load_diabetes()\n",
        "X = data.data\n",
        "y = data.target\n",
        "\n",
        "# Train-test split\n",
        "X_train, X_test, y_train, y_test = train_test_split(X, y, test_size=0.3, random_state=42)\n",
        "\n",
        "# Different levels of max_samples to test\n",
        "max_samples_values = [0.5, 0.7, 0.9, 1.0]  # Proportion of samples used for each base model\n",
        "mse_scores = []\n",
        "\n",
        "# Train and evaluate Bagging Regressor with different max_samples\n",
        "for max_samples in max_samples_values:\n",
        "    # The 'base_estimator' argument has been replaced with 'estimator'\n",
        "    bagging_regressor = BaggingRegressor(\n",
        "        estimator=DecisionTreeRegressor(),  # Use 'estimator' instead of 'base_estimator'\n",
        "        n_estimators=50,\n",
        "        max_samples=max_samples,\n",
        "        random_state=42\n",
        "    )\n",
        "    bagging_regressor.fit(X_train, y_train)\n",
        "    y_pred = bagging_regressor.predict(X_test)\n",
        "    mse = mean_squared_error(y_test, y_pred)\n",
        "    mse_scores.append(mse)\n",
        "\n",
        "# Print comparison\n",
        "for max_samples, mse in zip(max_samples_values, mse_scores):\n",
        "    print(f\"max_samples = {max_samples}, MSE = {mse:.2f}\")"
      ],
      "metadata": {
        "colab": {
          "base_uri": "https://localhost:8080/"
        },
        "id": "zFUyFunFmI3g",
        "outputId": "8400c33e-43ec-411d-bdb7-6c315be31733"
      },
      "execution_count": null,
      "outputs": [
        {
          "output_type": "stream",
          "name": "stdout",
          "text": [
            "max_samples = 0.5, MSE = 2826.94\n",
            "max_samples = 0.7, MSE = 2797.22\n",
            "max_samples = 0.9, MSE = 2897.93\n",
            "max_samples = 1.0, MSE = 2987.01\n"
          ]
        }
      ]
    }
  ]
}