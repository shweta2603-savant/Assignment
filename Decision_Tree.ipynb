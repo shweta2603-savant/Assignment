{
  "nbformat": 4,
  "nbformat_minor": 0,
  "metadata": {
    "colab": {
      "provenance": []
    },
    "kernelspec": {
      "name": "python3",
      "display_name": "Python 3"
    },
    "language_info": {
      "name": "python"
    }
  },
  "cells": [
    {
      "cell_type": "markdown",
      "source": [
        "1. What is a Decision Tree, and how does it work?\n"
      ],
      "metadata": {
        "id": "nWF_9PwP80xH"
      }
    },
    {
      "cell_type": "markdown",
      "source": [
        "A **Decision Tree** is a popular **supervised machine learning algorithm** used for both **classification** and **regression** tasks. It models decisions and their possible consequences in a tree-like structure, which makes it easy to understand and interpret.\n",
        "\n",
        "---\n",
        "\n",
        "### 🔍 How It Works:\n",
        "\n",
        "1. **Structure**:\n",
        "   - **Root Node**: Represents the entire dataset and the first decision.\n",
        "   - **Internal Nodes**: Each node represents a test on a feature (e.g., \"Is Age > 30?\").\n",
        "   - **Branches**: Represent the outcome of a test.\n",
        "   - **Leaf Nodes**: Represent the final decision or prediction (e.g., \"Yes\" or \"No\", or a numerical value).\n",
        "\n",
        "2. **Process**:\n",
        "   - The algorithm **splits the dataset** based on a feature that results in the **best separation** of the target classes or values.\n",
        "   - This splitting continues **recursively**, creating branches and nodes, until:\n",
        "     - A stopping criterion is met (like a maximum depth or minimum number of samples per node).\n",
        "     - The node is pure (all samples have the same class).\n",
        "     - Further splitting doesn't improve the model significantly.\n",
        "\n",
        "3. **Splitting Criteria**:\n",
        "   - For **classification**: Criteria like **Gini Impurity**, **Entropy/Information Gain**.\n",
        "   - For **regression**: **Mean Squared Error (MSE)** or **Mean Absolute Error (MAE)**.\n",
        "\n",
        "---\n",
        "\n",
        "### ✅ Example:\n",
        "\n",
        "Imagine you want to predict whether a person will buy a car:\n",
        "\n",
        "- First node (root): Is income > $50K?\n",
        "  - Yes → Is age > 30?\n",
        "    - Yes → Buy = Yes\n",
        "    - No → Buy = No\n",
        "  - No → Buy = No\n",
        "\n",
        "---\n",
        "\n",
        "### 📈 Pros:\n",
        "- Easy to understand and visualize.\n",
        "- Handles both numerical and categorical data.\n",
        "- Requires little data preprocessing.\n",
        "\n",
        "### ⚠️ Cons:\n",
        "- Prone to **overfitting**.\n",
        "- Can be unstable with small changes in data.\n",
        "- Often outperformed by ensemble methods like **Random Forest** or **Gradient Boosting**.\n",
        "\n",
        "---\n",
        "\n"
      ],
      "metadata": {
        "id": "b-lIgt_j861F"
      }
    },
    {
      "cell_type": "markdown",
      "source": [
        "2. What are impurity measures in Decision Trees?\n",
        "\n"
      ],
      "metadata": {
        "id": "Wi2Mpv2Z870P"
      }
    },
    {
      "cell_type": "markdown",
      "source": [
        "Great question!\n",
        "\n",
        "### 🌳 What Are Impurity Measures in Decision Trees?\n",
        "\n",
        "**Impurity measures** are metrics used to decide how to **split** the data at each node in a Decision Tree. They help determine **how mixed** the classes are in a node — the goal is to choose splits that **reduce impurity** as much as possible.\n",
        "\n",
        "---\n",
        "\n",
        "### 🔍 Why Are They Important?\n",
        "\n",
        "When building a decision tree, the algorithm looks for the best feature and threshold to split the data. It does this by **measuring the “impurity”** of the dataset before and after the split. The split that **reduces impurity the most** is chosen.\n",
        "\n",
        "---\n",
        "\n",
        "### ⚖️ Common Impurity Measures\n",
        "\n",
        "#### 1. **Gini Impurity (used in CART)**\n",
        "- Measures the probability of misclassifying a randomly chosen element.\n",
        "- Formula:  \n",
        "  \\[\n",
        "  Gini = 1 - \\sum_{i=1}^{n} p_i^2\n",
        "  \\]  \n",
        "  Where \\( p_i \\) is the proportion of class \\( i \\) in the node.\n",
        "\n",
        "- **Lower Gini = purer node.**\n",
        "- Value ranges from **0 (pure)** to **(1 - 1/n)** for n classes.\n",
        "\n",
        "---\n",
        "\n",
        "#### 2. **Entropy (used in ID3 algorithm)**\n",
        "- From information theory; measures the level of disorder.\n",
        "- Formula:  \n",
        "  \\[\n",
        "  Entropy = -\\sum_{i=1}^{n} p_i \\log_2(p_i)\n",
        "  \\]\n",
        "\n",
        "- Like Gini, **lower entropy = more pure**.\n",
        "- Entropy = 0 when all samples are from one class.\n",
        "\n",
        "---\n",
        "\n",
        "#### 3. **Information Gain**\n",
        "- Used with **entropy** to decide the best split.\n",
        "- It’s the **reduction in entropy** due to a split.\n",
        "- Formula:  \n",
        "  \\[\n",
        "  IG = Entropy(parent) - \\sum \\left(\\frac{n_{child}}{n_{parent}} \\cdot Entropy(child)\\right)\n",
        "  \\]\n",
        "\n",
        "---\n",
        "\n",
        "#### 4. **Mean Squared Error (for regression trees)**\n",
        "- Measures the average of the squares of the errors.\n",
        "- Used when the target is **continuous**.\n",
        "- Lower MSE = better split.\n",
        "\n",
        "---\n",
        "\n",
        "### 📌 Quick Summary:\n",
        "\n",
        "| Impurity Measure | Used For       | Ideal Value | Notes                                |\n",
        "|------------------|----------------|-------------|--------------------------------------|\n",
        "| Gini Impurity     | Classification | 0           | Fast to compute, common in practice  |\n",
        "| Entropy           | Classification | 0           | More info-theoretic, slightly heavier|\n",
        "| Info Gain         | Classification | High        | Looks for maximum reduction          |\n",
        "| MSE/MAE           | Regression     | Low         | Measures error in numerical prediction|\n",
        "\n"
      ],
      "metadata": {
        "id": "nA_cVvJQ87Rt"
      }
    },
    {
      "cell_type": "markdown",
      "source": [
        "3. What is the mathematical formula for Gini Impurity?\n"
      ],
      "metadata": {
        "id": "_DjBnCBD_Hrs"
      }
    },
    {
      "cell_type": "markdown",
      "source": [
        "### 📘 Gini Impurity – Mathematical Formula\n",
        "\n",
        "The **Gini Impurity** measures how often a randomly chosen element from the set would be incorrectly classified **if it was randomly labeled according to the distribution of labels in the node**.\n",
        "\n",
        "---\n",
        "\n",
        "### 🔢 Formula:\n",
        "\n",
        "\\[\n",
        "\\text{Gini} = 1 - \\sum_{i=1}^{C} p_i^2\n",
        "\\]\n",
        "\n",
        "Where:\n",
        "- \\( C \\) = total number of classes\n",
        "- \\( p_i \\) = proportion of samples that belong to class \\( i \\) in the node\n",
        "\n",
        "---\n",
        "\n",
        "### ✅ Example:\n",
        "\n",
        "Say you have a node with 3 classes:\n",
        "- Class A: 4 samples\n",
        "- Class B: 3 samples\n",
        "- Class C: 3 samples  \n",
        "  (Total = 10 samples)\n",
        "\n",
        "Then:\n",
        "- \\( p_A = \\frac{4}{10} = 0.4 \\)\n",
        "- \\( p_B = \\frac{3}{10} = 0.3 \\)\n",
        "- \\( p_C = \\frac{3}{10} = 0.3 \\)\n",
        "\n",
        "\\[\n",
        "\\text{Gini} = 1 - (0.4^2 + 0.3^2 + 0.3^2) \\\\\n",
        "= 1 - (0.16 + 0.09 + 0.09) \\\\\n",
        "= 1 - 0.34 = 0.66\n",
        "\\]\n",
        "\n",
        "So, the Gini Impurity of this node is **0.66** — meaning the node is fairly impure.\n",
        "\n",
        "---"
      ],
      "metadata": {
        "id": "kQ25GX1z_NTG"
      }
    },
    {
      "cell_type": "markdown",
      "source": [
        "4. What is the mathematical formula for Entropy?"
      ],
      "metadata": {
        "id": "-nbaqvFV_QvV"
      }
    },
    {
      "cell_type": "markdown",
      "source": [
        "Sure! Here's a clear answer for you:\n",
        "\n",
        "---\n",
        "\n",
        "### 🔢 **Mathematical Formula for Entropy (in Decision Trees):**\n",
        "\n",
        "\\[\n",
        "\\text{Entropy} = - \\sum_{i=1}^{C} p_i \\log_2(p_i)\n",
        "\\]\n",
        "\n",
        "Where:\n",
        "- \\( C \\) = number of classes\n",
        "- \\( p_i \\) = proportion (probability) of samples belonging to class \\( i \\)\n",
        "- \\( \\log_2 \\) = logarithm base 2 (measuring information in **bits**)\n",
        "\n",
        "---\n",
        "\n",
        "### 🧠 Notes:\n",
        "- If all data belongs to a **single class** (i.e., pure), then \\( \\text{Entropy} = 0 \\).\n",
        "- The **maximum entropy** occurs when the data is **evenly split** across all classes.\n",
        "\n",
        "---\n",
        "\n",
        "### ✅ Quick Example:\n",
        "\n",
        "In a binary classification node:\n",
        "- 50% belong to class 0, and 50% to class 1:\n",
        "  \\[\n",
        "  \\text{Entropy} = - (0.5 \\log_2(0.5) + 0.5 \\log_2(0.5)) \\\\\n",
        "  = - (0.5 \\cdot -1 + 0.5 \\cdot -1) = 1\n",
        "  \\]\n",
        "\n",
        "This is the **maximum entropy**, meaning the node is totally impure (maximum uncertainty).\n",
        "\n"
      ],
      "metadata": {
        "id": "wEM7Bdbr_Tx_"
      }
    },
    {
      "cell_type": "markdown",
      "source": [
        "5. What is Information Gain, and how is it used in Decision Trees?\n"
      ],
      "metadata": {
        "id": "g0FoTZDH_Tu5"
      }
    },
    {
      "cell_type": "markdown",
      "source": [
        "Great question!\n",
        "\n",
        "---\n",
        "\n",
        "### 📘 **What is Information Gain?**\n",
        "\n",
        "**Information Gain (IG)** is a key concept used in building **Decision Trees** — especially in algorithms like **ID3**. It measures how much **\"information\" (or reduction in uncertainty)** a feature gives us about the target variable.\n",
        "\n",
        "---\n",
        "\n",
        "### 🔍 **How It Works:**\n",
        "\n",
        "When a dataset is split using a particular feature, **Information Gain** tells us **how much entropy (impurity) is reduced** due to that split.\n",
        "\n",
        "---\n",
        "\n",
        "### 🔢 **Mathematical Formula:**\n",
        "\n",
        "\\[\n",
        "\\text{Information Gain} = \\text{Entropy(parent)} - \\sum_{k=1}^{K} \\left( \\frac{n_k}{n} \\cdot \\text{Entropy}(k) \\right)\n",
        "\\]\n",
        "\n",
        "Where:\n",
        "- \\( \\text{Entropy(parent)} \\) is the entropy before the split\n",
        "- \\( K \\) = number of child nodes after the split\n",
        "- \\( n_k \\) = number of samples in child node \\( k \\)\n",
        "- \\( n \\) = total number of samples in the parent node\n",
        "- \\( \\text{Entropy}(k) \\) = entropy of child node \\( k \\)\n",
        "\n",
        "---\n",
        "\n",
        "### 🧠 **Interpretation:**\n",
        "- **Higher Information Gain** = **better split**.\n",
        "- The algorithm chooses the feature and threshold that gives the **highest IG** at each step.\n",
        "\n",
        "---\n",
        "\n",
        "### ✅ **Example:**\n",
        "Suppose we have a dataset with an initial entropy of 0.97, and we split it on a feature. After the split:\n",
        "- Left node (40% of data): Entropy = 0.5\n",
        "- Right node (60% of data): Entropy = 0.8\n",
        "\n",
        "Then:\n",
        "\\[\n",
        "IG = 0.97 - (0.4 \\cdot 0.5 + 0.6 \\cdot 0.8) = 0.97 - (0.2 + 0.48) = 0.97 - 0.68 = 0.29\n",
        "\\]\n",
        "\n",
        "So the information gain from this split is **0.29**.\n",
        "\n",
        "---\n",
        "\n",
        "### 📌 **In Decision Trees:**\n",
        "At each node:\n",
        "1. Calculate the entropy of the parent node.\n",
        "2. Try all possible splits for each feature.\n",
        "3. Calculate the information gain for each.\n",
        "4. **Pick the split with the highest Information Gain**.\n",
        "\n"
      ],
      "metadata": {
        "id": "nceX7Gqb_Tr_"
      }
    },
    {
      "cell_type": "markdown",
      "source": [
        "6. What is the difference between Gini Impurity and Entropy?\n"
      ],
      "metadata": {
        "id": "Ipv7vMKe_TnQ"
      }
    },
    {
      "cell_type": "markdown",
      "source": [
        "\n",
        "\n",
        "---\n",
        "\n",
        "### ⚖️ **Gini Impurity vs. Entropy in Decision Trees**\n",
        "\n",
        "| Feature             | **Gini Impurity**                          | **Entropy**                                   |\n",
        "|---------------------|--------------------------------------------|------------------------------------------------|\n",
        "| **Formula**          | \\( 1 - \\sum p_i^2 \\)                       | \\( -\\sum p_i \\log_2(p_i) \\)                    |\n",
        "| **Concept**          | Measures **probability of misclassification** | Measures **uncertainty/disorder** in data      |\n",
        "| **Range**            | 0 (pure) to ~0.5 (binary, max impurity)    | 0 (pure) to 1 (binary, max uncertainty)        |\n",
        "| **Interpretation**   | Lower Gini → purer node                    | Lower Entropy → purer node                     |\n",
        "| **Calculation Speed**| **Faster** (no log calculations)           | **Slightly slower** (uses logarithms)          |\n",
        "| **Used In**          | CART (Classification and Regression Trees) | ID3, C4.5 (classic decision tree algorithms)    |\n",
        "| **Preferred When**   | You want speed and similar performance     | You want more **information-theoretic rigor**  |\n",
        "\n",
        "---\n",
        "\n",
        "### 🧠 TL;DR:\n",
        "\n",
        "- **Both aim to find the best splits** in decision trees.\n",
        "- **Gini** is simpler and faster, often used by default.\n",
        "- **Entropy** gives more weight to less frequent classes, and is grounded in information theory.\n",
        "\n",
        "In most real-world cases, they produce **similar trees and accuracy**, so the choice often comes down to **preference or algorithm** being used.\n",
        "\n"
      ],
      "metadata": {
        "id": "DU13L0OF_Tis"
      }
    },
    {
      "cell_type": "markdown",
      "source": [
        "7. What is the mathematical explanation behind Decision Trees?\n",
        "\n",
        "\n"
      ],
      "metadata": {
        "id": "9OSqkdX0_Tfd"
      }
    },
    {
      "cell_type": "markdown",
      "source": [
        "Absolutely! Let’s dive into the **mathematical explanation behind Decision Trees** — how they decide on splits and how the structure is formed, step by step.\n",
        "\n",
        "---\n",
        "\n",
        "### 🌳 **Overview**\n",
        "\n",
        "A **Decision Tree** is built by **recursively splitting** the dataset based on a feature that best separates the data. The goal is to create **pure nodes**, where each node contains instances mostly from a **single class** (for classification) or has **minimal variance** (for regression).\n",
        "\n",
        "---\n",
        "\n",
        "### 📐 **Mathematical Steps (Classification)**\n",
        "\n",
        "#### **Step 1: Choose the Best Feature to Split**\n",
        "- For each feature \\( X_j \\), and each possible threshold \\( t \\):\n",
        "  - Partition the data into two subsets:\n",
        "    - \\( D_{\\text{left}} = \\{x \\in D \\mid x_j \\leq t\\} \\)\n",
        "    - \\( D_{\\text{right}} = \\{x \\in D \\mid x_j > t\\} \\)\n",
        "  - Calculate an impurity metric:\n",
        "    - **Entropy**:  \n",
        "      \\[\n",
        "      H(D) = - \\sum_{i=1}^{C} p_i \\log_2(p_i)\n",
        "      \\]\n",
        "    - **Gini Impurity**:  \n",
        "      \\[\n",
        "      G(D) = 1 - \\sum_{i=1}^{C} p_i^2\n",
        "      \\]\n",
        "\n",
        "#### **Step 2: Compute Information Gain (or Gini Reduction)**  \n",
        "- For each split:\n",
        "  \\[\n",
        "  \\text{Information Gain} = H(D) - \\left( \\frac{|D_{\\text{left}}|}{|D|} H(D_{\\text{left}}) + \\frac{|D_{\\text{right}}|}{|D|} H(D_{\\text{right}}) \\right)\n",
        "  \\]\n",
        "- Choose the split with the **highest gain**.\n",
        "\n",
        "---\n",
        "\n",
        "### 🔁 **Step 3: Recursive Splitting**\n",
        "- The dataset is recursively split using the same logic.\n",
        "- Stop splitting when:\n",
        "  - All samples belong to one class (impurity = 0)\n",
        "  - Max depth is reached\n",
        "  - Minimum number of samples per node is reached\n",
        "  - Further splitting does not reduce impurity\n",
        "\n",
        "---\n",
        "\n",
        "### 🧮 **Mathematics for Regression Trees**\n",
        "- Use **variance** or **Mean Squared Error (MSE)** as the impurity measure:\n",
        "  \\[\n",
        "  \\text{MSE}(D) = \\frac{1}{|D|} \\sum_{i=1}^{|D|} (y_i - \\bar{y})^2\n",
        "  \\]\n",
        "- The split is chosen to **minimize the weighted average MSE** of child nodes.\n",
        "\n",
        "---\n",
        "\n",
        "### ✨ Final Prediction:\n",
        "- **Classification**: The class with the majority vote in the leaf.\n",
        "- **Regression**: The average of all target values in the leaf.\n",
        "\n"
      ],
      "metadata": {
        "id": "-ZXHK7Pz_TbG"
      }
    },
    {
      "cell_type": "markdown",
      "source": [
        "8. What is Pre-Pruning in Decision Trees?\n"
      ],
      "metadata": {
        "id": "fyFdt0aP_TWl"
      }
    },
    {
      "cell_type": "markdown",
      "source": [
        "Great question!\n",
        "\n",
        "---\n",
        "\n",
        "### ✂️ **What is Pre-Pruning in Decision Trees?**\n",
        "\n",
        "**Pre-pruning** (also called **early stopping**) is a technique used to **prevent a decision tree from growing too large** and **overfitting** the training data. It **stops the tree from splitting** a node if the split doesn’t meet certain criteria.\n",
        "\n",
        "---\n",
        "\n",
        "### 🧠 **Why Use Pre-Pruning?**\n",
        "- A fully grown tree often **overfits** the training data.\n",
        "- Pre-pruning adds **bias** to reduce **variance**, leading to better generalization on unseen data.\n",
        "\n",
        "---\n",
        "\n",
        "### 🔍 **How It Works (Common Criteria for Pre-Pruning):**\n",
        "\n",
        "At each step, the tree decides **whether to split a node** by checking:\n",
        "\n",
        "1. **Maximum Depth**:\n",
        "   - Stop splitting when a certain tree depth is reached.\n",
        "   - E.g., `max_depth = 5`\n",
        "\n",
        "2. **Minimum Samples to Split**:\n",
        "   - Don’t split if a node has fewer than a specified number of samples.\n",
        "   - E.g., `min_samples_split = 10`\n",
        "\n",
        "3. **Minimum Samples per Leaf**:\n",
        "   - Enforce a minimum number of samples in each leaf after a split.\n",
        "   - E.g., `min_samples_leaf = 5`\n",
        "\n",
        "4. **Minimum Impurity Decrease**:\n",
        "   - Only split if the impurity (Gini or entropy) decreases by a minimum amount.\n",
        "\n",
        "5. **Maximum Number of Nodes or Leaves**:\n",
        "   - Limit total size of the tree.\n",
        "\n",
        "6. **Chi-square Test / Statistical Significance** (less common):\n",
        "   - Only allow splits that are statistically significant.\n",
        "\n",
        "---\n",
        "\n",
        "### ✅ Example in Sklearn:\n",
        "```python\n",
        "from sklearn.tree import DecisionTreeClassifier\n",
        "\n",
        "tree = DecisionTreeClassifier(\n",
        "    max_depth=4,\n",
        "    min_samples_split=10,\n",
        "    min_samples_leaf=5\n",
        ")\n",
        "tree.fit(X_train, y_train)\n",
        "```\n",
        "\n",
        "---\n",
        "\n",
        "### 📌 Summary:\n",
        "\n",
        "| Term                     | Description                                              |\n",
        "|--------------------------|----------------------------------------------------------|\n",
        "| **Pre-pruning**          | Stop splitting early **while building** the tree         |\n",
        "| **Goal**                 | Avoid overfitting, improve generalization                |\n",
        "| **Control via**          | Max depth, min samples, impurity threshold, etc.         |\n",
        "\n",
        "---\n",
        "\n"
      ],
      "metadata": {
        "id": "oXy6tDgy_TS4"
      }
    },
    {
      "cell_type": "markdown",
      "source": [
        "9. What is Post-Pruning in Decision Trees?\n"
      ],
      "metadata": {
        "id": "ALlZkrzFIDpP"
      }
    },
    {
      "cell_type": "markdown",
      "source": [
        "\n",
        "\n",
        "\n",
        "### 🌳✂️ **What is Post-Pruning in Decision Trees?**\n",
        "\n",
        "**Post-pruning** (also called **cost-complexity pruning**) is a technique used to **simplify a fully grown decision tree** **after** it has been built. It helps reduce **overfitting** by removing parts of the tree that provide little to no improvement on unseen data.\n",
        "\n",
        "---\n",
        "\n",
        "### 🧠 **Why Use Post-Pruning?**\n",
        "- A fully grown tree may perfectly fit the training data (**overfitting**).\n",
        "- Post-pruning **trims** the tree to keep only the branches that **contribute to better generalization** on validation data.\n",
        "\n",
        "---\n",
        "\n",
        "### 🔁 **How It Works:**\n",
        "\n",
        "1. **Build the full tree** (until all leaves are pure or other stopping criteria are met).\n",
        "2. **Evaluate each internal node**:\n",
        "   - Check if replacing a subtree with a leaf improves or maintains performance (on a **validation set** or using **cross-validation**).\n",
        "3. **Replace the subtree** with a leaf if pruning **reduces complexity** and **doesn't harm accuracy much**.\n",
        "\n",
        "---\n",
        "\n",
        "### 🔢 **Cost-Complexity Pruning (Used in CART)**\n",
        "\n",
        "A common method in `scikit-learn`:\n",
        "- Define a **cost function** that balances **tree size** and **accuracy**:\n",
        "  \\[\n",
        "  R_\\alpha(T) = R(T) + \\alpha \\cdot |T|\n",
        "  \\]\n",
        "  Where:\n",
        "  - \\( R(T) \\): total misclassification rate (or MSE for regression)\n",
        "  - \\( |T| \\): number of terminal nodes (leaves)\n",
        "  - \\( \\alpha \\): complexity parameter (higher = simpler tree)\n",
        "\n",
        "- Trees are **pruned** to minimize this function.\n",
        "\n",
        "---\n",
        "\n",
        "### ✅ Example in `scikit-learn`:\n",
        "```python\n",
        "from sklearn.tree import DecisionTreeClassifier\n",
        "\n",
        "# Step 1: Train with cost-complexity pruning\n",
        "path = DecisionTreeClassifier().cost_complexity_pruning_path(X_train, y_train)\n",
        "ccp_alphas = path.ccp_alphas\n",
        "\n",
        "# Step 2: Train multiple pruned trees\n",
        "trees = [DecisionTreeClassifier(ccp_alpha=alpha).fit(X_train, y_train) for alpha in ccp_alphas]\n",
        "```\n",
        "\n",
        "---\n",
        "\n",
        "### 📌 Summary:\n",
        "\n",
        "| Feature           | **Post-Pruning**                                  |\n",
        "|------------------|----------------------------------------------------|\n",
        "| **When Applied** | **After** the full tree is built                   |\n",
        "| **Purpose**      | Reduce overfitting, improve generalization         |\n",
        "| **How**          | Remove subtrees that add little predictive power   |\n",
        "| **Common Method**| Cost-complexity pruning (e.g., with \\( \\alpha \\))  |\n",
        "\n",
        "---\n",
        "\n"
      ],
      "metadata": {
        "id": "tSV5eqe2_TPm"
      }
    },
    {
      "cell_type": "markdown",
      "source": [
        "10. What is the difference between Pre-Pruning and Post-Pruning?"
      ],
      "metadata": {
        "id": "-5KzkNqA_TKc"
      }
    },
    {
      "cell_type": "markdown",
      "source": [
        "### ✂️🌳 **Pre-Pruning vs. Post-Pruning in Decision Trees**\n",
        "\n",
        "| Feature               | **Pre-Pruning (Early Stopping)**                                 | **Post-Pruning (Reduced Error / Cost-Complexity)**                     |\n",
        "|-----------------------|-------------------------------------------------------------------|------------------------------------------------------------------------|\n",
        "| **When applied**      | **During** the tree-building process                              | **After** the full tree has been built                                 |\n",
        "| **How it works**      | Stops the tree from splitting if certain conditions are met       | Grows the full tree, then **removes unnecessary branches**             |\n",
        "| **Goal**              | Prevent overfitting by limiting tree growth early                 | Improve generalization by trimming overfitted branches                 |\n",
        "| **Common criteria**   | - Max depth<br>- Min samples split<br>- Min impurity decrease     | - Error reduction<br>- Cost-complexity (α tuning)<br>- Validation check |\n",
        "| **Risk**              | Might stop too early and underfit the data                        | May initially overfit before pruning kicks in                          |\n",
        "| **Used in**           | CART, ID3 (with parameters), scikit-learn                         | CART, scikit-learn (`ccp_alpha` pruning)                               |\n",
        "| **Tuning method**     | Set thresholds before training (hyperparameters)                  | Often uses cross-validation to select best tree size                   |\n",
        "\n",
        "---\n",
        "\n",
        "### 🧠 Simple Analogy:\n",
        "\n",
        "- **Pre-Pruning** is like **not growing certain branches** of a tree because you *predict* they won’t be useful.\n",
        "- **Post-Pruning** is like **growing the full tree first**, then cutting off branches that turned out to be **dead weight**.\n",
        "\n",
        "---\n",
        "\n",
        "### 📌 TL;DR:\n",
        "> 🔹 **Pre-Pruning = Stop early to avoid overfitting**  \n",
        "> 🔹 **Post-Pruning = Grow fully, then trim to improve generalization**\n",
        "\n",
        "---\n",
        "\n"
      ],
      "metadata": {
        "id": "7Csu4JxF_THp"
      }
    },
    {
      "cell_type": "markdown",
      "source": [
        "11. What is a Decision Tree Regressor?\n",
        "\n"
      ],
      "metadata": {
        "id": "QaC3G4Ki_TEf"
      }
    },
    {
      "cell_type": "markdown",
      "source": [
        "\n",
        "### 🌳📈 **What is a Decision Tree Regressor?**\n",
        "\n",
        "A **Decision Tree Regressor** is a type of decision tree algorithm used for **regression tasks** — that is, predicting **continuous numeric values** rather than discrete class labels.\n",
        "\n",
        "---\n",
        "\n",
        "### 🧠 **How It Works (High-Level):**\n",
        "\n",
        "1. The algorithm splits the dataset into regions based on input features.\n",
        "2. Instead of predicting a class, each **leaf node** contains a **numeric value** (usually the **mean** of the target values in that region).\n",
        "3. When making predictions, the model finds the right leaf for a given input and **returns the value** stored in that leaf.\n",
        "\n",
        "---\n",
        "\n",
        "### 🔢 **Mathematical Objective:**\n",
        "\n",
        "At each split, the regressor chooses the feature and threshold that **minimizes the Mean Squared Error (MSE)**:\n",
        "\n",
        "\\[\n",
        "\\text{MSE} = \\frac{1}{n} \\sum_{i=1}^{n} (y_i - \\hat{y})^2\n",
        "\\]\n",
        "\n",
        "Where:\n",
        "- \\( y_i \\): actual value\n",
        "- \\( \\hat{y} \\): predicted value (mean in that region)\n",
        "- \\( n \\): number of samples in the node\n",
        "\n",
        "---\n",
        "\n",
        "### ✅ **Example in scikit-learn (Python):**\n",
        "\n",
        "```python\n",
        "from sklearn.tree import DecisionTreeRegressor\n",
        "\n",
        "regressor = DecisionTreeRegressor(max_depth=3)\n",
        "regressor.fit(X_train, y_train)\n",
        "\n",
        "predictions = regressor.predict(X_test)\n",
        "```\n",
        "\n",
        "---\n",
        "\n",
        "### 📌 Summary:\n",
        "\n",
        "| Feature                | Description                                       |\n",
        "|------------------------|---------------------------------------------------|\n",
        "| **Purpose**            | Predict **numeric** outcomes                      |\n",
        "| **Splitting criteria** | Minimizes **variance** (MSE, MAE, etc.)           |\n",
        "| **Leaf node output**   | Mean (or median) of target values in that region  |\n",
        "| **Use case**           | Price prediction, forecasting, any regression task|\n",
        "\n",
        "---\n",
        "\n"
      ],
      "metadata": {
        "id": "jrfs7-ez_S_b"
      }
    },
    {
      "cell_type": "markdown",
      "source": [
        "12. What are the advantages and disadvantages of Decision Trees?\n"
      ],
      "metadata": {
        "id": "98uq83fH_S8k"
      }
    },
    {
      "cell_type": "markdown",
      "source": [
        "\n",
        "\n",
        "---\n",
        "\n",
        "### ✅ **Advantages of Decision Trees:**\n",
        "\n",
        "| Advantage                        | Description                                                                 |\n",
        "|----------------------------------|-----------------------------------------------------------------------------|\n",
        "| **Simple to understand**         | Intuitive and easy to interpret — like asking a series of \"yes/no\" questions. |\n",
        "| **No need for data scaling**     | No feature normalization or standardization required.                      |\n",
        "| **Handles both types of data**   | Can handle **numerical** and **categorical** features.                     |\n",
        "| **Requires little preprocessing**| No need for dummy encoding or scaling.                                     |\n",
        "| **Non-linear relationships**     | Naturally models complex, non-linear patterns.                             |\n",
        "| **Feature importance**           | Can rank features by importance based on how often and how well they split. |\n",
        "| **Works with missing values**    | Some implementations handle missing data gracefully.                       |\n",
        "\n",
        "---\n",
        "\n",
        "### ❌ **Disadvantages of Decision Trees:**\n",
        "\n",
        "| Disadvantage                     | Description                                                                 |\n",
        "|----------------------------------|-----------------------------------------------------------------------------|\n",
        "| **Overfitting**                  | Fully grown trees often overfit the training data (too specific).           |\n",
        "| **Unstable**                     | Small changes in data can lead to very different trees.                     |\n",
        "| **Biased splits**                | Can be biased toward features with more levels or unique values.            |\n",
        "| **Greedy algorithm**             | Makes locally optimal choices — doesn’t guarantee the best global tree.     |\n",
        "| **Poor generalization**          | May perform worse on unseen data if not pruned or regularized.              |\n",
        "| **Hard to model smooth functions**| In regression, predictions are piecewise constant (no smooth curves).       |\n",
        "\n",
        "---\n",
        "\n",
        "### 🧠 TL;DR:\n",
        "\n",
        "> 🔹 **Pros**: Interpretable, flexible, no preprocessing  \n",
        "> 🔹 **Cons**: Prone to overfitting, sensitive to data, less accurate than ensembles\n",
        "\n",
        "---\n",
        "\n"
      ],
      "metadata": {
        "id": "mNDdUc7P_S5z"
      }
    },
    {
      "cell_type": "markdown",
      "source": [
        "13. How does a Decision Tree handle missing values?\n"
      ],
      "metadata": {
        "id": "x9oDaIQY_SzL"
      }
    },
    {
      "cell_type": "markdown",
      "source": [
        "### 🌳❓ **How Do Decision Trees Handle Missing Values?**\n",
        "\n",
        "Decision Trees can **tolerate missing values** better than many other models — and different implementations handle them in **different ways**. Here's how it generally works:\n",
        "\n",
        "---\n",
        "\n",
        "### ✅ **1. Ignoring Missing Values During Splitting (Training Phase)**\n",
        "\n",
        "When choosing a split:\n",
        "- The tree **only considers samples with non-missing values** for that feature.\n",
        "- It finds the best split using the available data.\n",
        "- Then, during training, **samples with missing values** for the split feature are **sent down both branches**, **weighted** by the proportion of non-missing samples that go each way.\n",
        "\n",
        "➡️ **Used in:** CART (as in `rpart` in R), XGBoost, LightGBM\n",
        "\n",
        "---\n",
        "\n",
        "### ✅ **2. Imputing Before Training**\n",
        "\n",
        "You can fill in missing values before fitting the tree using:\n",
        "- **Mean / median / mode** (simple)\n",
        "- **KNN imputation**, **regression-based imputation**, or **learned imputation models**\n",
        "\n",
        "➡️ Often used in practice before training models like `DecisionTreeClassifier` in **scikit-learn**, which does **not natively handle NaNs**.\n",
        "\n",
        "---\n",
        "\n",
        "### ✅ **3. Surrogate Splits (Used in Some Algorithms)**\n",
        "\n",
        "If a sample is missing a value for the chosen split feature:\n",
        "- The tree uses an **alternate (\"surrogate\") split** — a backup feature that gives similar splits.\n",
        "\n",
        "➡️ **Used in:** `rpart` (R), C5.0\n",
        "\n",
        "---\n",
        "\n",
        "### ✅ **4. During Prediction: Soft Routing**\n",
        "\n",
        "For prediction with missing values:\n",
        "- Some models route the sample **down both branches** (soft decision),\n",
        "- Then **combine predictions** from both paths, weighted appropriately.\n",
        "\n",
        "➡️ Used in **XGBoost**, **LightGBM**\n",
        "\n",
        "---\n",
        "\n",
        "### ⚠️ **Note for scikit-learn Users**:\n",
        "\n",
        "- Native `DecisionTreeClassifier` and `DecisionTreeRegressor` in **scikit-learn do NOT support NaNs**.\n",
        "- You must **impute missing values before training** (e.g., with `SimpleImputer`).\n",
        "\n",
        "```python\n",
        "from sklearn.impute import SimpleImputer\n",
        "from sklearn.tree import DecisionTreeClassifier\n",
        "from sklearn.pipeline import make_pipeline\n",
        "\n",
        "pipeline = make_pipeline(\n",
        "    SimpleImputer(strategy='mean'),\n",
        "    DecisionTreeClassifier()\n",
        ")\n",
        "pipeline.fit(X_train, y_train)\n",
        "```\n",
        "\n",
        "---\n",
        "\n",
        "### 📌 TL;DR:\n",
        "\n",
        "| Method             | Description                                                              |\n",
        "|--------------------|---------------------------------------------------------------------------|\n",
        "| **Ignore NaNs**    | Use available data for splits (XGBoost, LightGBM)                        |\n",
        "| **Imputation**     | Fill missing values before training (scikit-learn)                      |\n",
        "| **Surrogate splits** | Use backup features for routing when a value is missing (rpart)         |\n",
        "| **Soft routing**   | Predict using both branches and combine results                         |\n",
        "\n"
      ],
      "metadata": {
        "id": "qgvUdIY1_SwZ"
      }
    },
    {
      "cell_type": "markdown",
      "source": [
        "14. How does a Decision Tree handle categorical features?\n"
      ],
      "metadata": {
        "id": "h9WdU4DM_StH"
      }
    },
    {
      "cell_type": "markdown",
      "source": [
        "### 🌳🔤 **How Does a Decision Tree Handle Categorical Features?**\n",
        "\n",
        "A **categorical feature** is one that takes on a limited set of discrete values (like \"red\", \"blue\", \"green\").\n",
        "\n",
        "---\n",
        "\n",
        "### ✅ **1. Native Support (in Some Implementations)**\n",
        "\n",
        "Some decision tree algorithms handle categorical features **natively**, without needing preprocessing. These include:\n",
        "\n",
        "- **CART (Classification and Regression Trees)** in certain implementations like **LightGBM**, **CatBoost**\n",
        "- They evaluate **all possible groupings (subsets)** of categories to find the best split.\n",
        "\n",
        "#### 🧠 Example:\n",
        "If a feature has categories: `{\"red\", \"blue\", \"green\"}`  \n",
        "A possible split might be:\n",
        "- Left branch: `{\"red\", \"blue\"}`\n",
        "- Right branch: `{\"green\"}`\n",
        "\n",
        "The tree tries different groupings and picks the one that **best reduces impurity**.\n",
        "\n",
        "---\n",
        "\n",
        "### ❌ **2. Manual Encoding (for Libraries like scikit-learn)**\n",
        "\n",
        "In **scikit-learn**, decision trees **do not handle categorical features natively**, so you must first **convert them** to numbers.\n",
        "\n",
        "#### 🔄 Common Methods:\n",
        "\n",
        "| Method              | Description                                        | Use Case                              |\n",
        "|---------------------|----------------------------------------------------|----------------------------------------|\n",
        "| **Label Encoding**  | Assigns an integer to each category                | Ordinal categorical variables          |\n",
        "| **One-Hot Encoding**| Creates binary columns for each category           | Nominal variables (no inherent order)  |\n",
        "\n",
        "```python\n",
        "from sklearn.preprocessing import OneHotEncoder\n",
        "from sklearn.tree import DecisionTreeClassifier\n",
        "from sklearn.compose import ColumnTransformer\n",
        "from sklearn.pipeline import make_pipeline\n",
        "\n",
        "# Example pipeline with One-Hot Encoding\n",
        "preprocessor = ColumnTransformer([\n",
        "    ('cat', OneHotEncoder(), ['color'])\n",
        "])\n",
        "\n",
        "model = make_pipeline(preprocessor, DecisionTreeClassifier())\n",
        "model.fit(X_train, y_train)\n",
        "```\n",
        "\n",
        "---\n",
        "\n",
        "### ⚖️ **Comparison: Native vs Encoded**\n",
        "\n",
        "| Feature                    | Native Handling (e.g., CatBoost, LightGBM) | Encoding (e.g., scikit-learn)        |\n",
        "|----------------------------|--------------------------------------------|--------------------------------------|\n",
        "| **Speed & Simplicity**     | Faster, less preprocessing                 | Slower, more memory usage            |\n",
        "| **Interpretability**       | Cleaner splits                             | Harder to interpret splits           |\n",
        "| **Supports high cardinality**| Yes (e.g., CatBoost handles 1k+ categories) | Can lead to many columns             |\n",
        "\n",
        "---\n",
        "\n",
        "### 📌 TL;DR:\n",
        "\n",
        "> 🔹 Some libraries like **CatBoost, LightGBM** handle categorical features **natively**  \n",
        "> 🔹 In **scikit-learn**, you'll need to **encode** them manually  \n",
        "> 🔹 Trees are great with categorical data — they don’t assume linearity or order\n",
        "\n"
      ],
      "metadata": {
        "id": "zVOIa1GU_Sof"
      }
    },
    {
      "cell_type": "markdown",
      "source": [
        "15. What are some real-world applications of Decision Trees?\n"
      ],
      "metadata": {
        "id": "OXQ1ZZVF_Sjw"
      }
    },
    {
      "cell_type": "markdown",
      "source": [
        "\n",
        "\n",
        "### 🔍 **1. Medical Diagnosis**\n",
        "- **Use case:** Predicting diseases based on symptoms, test results, and patient history.\n",
        "- **Example:** Classify whether a tumor is **benign or malignant**.\n",
        "- ✅ Why it's useful: Interpretable rules can support doctors' decisions.\n",
        "\n",
        "---\n",
        "\n",
        "### 💳 **2. Credit Scoring & Risk Assessment**\n",
        "- **Use case:** Approving loans, credit card applications, or insurance.\n",
        "- **Example:** Predict whether a borrower will **default** based on income, job, credit history.\n",
        "- ✅ Why it's useful: Transparent logic helps with regulatory compliance.\n",
        "\n",
        "---\n",
        "\n",
        "### 🛍️ **3. E-Commerce & Retail**\n",
        "- **Use case:** Customer segmentation, product recommendations, churn prediction.\n",
        "- **Example:** Predict if a customer is likely to **abandon their cart** or **respond to a discount**.\n",
        "- ✅ Why it's useful: Quick decision-making at scale.\n",
        "\n",
        "---\n",
        "\n",
        "### 📊 **4. Marketing & Customer Analytics**\n",
        "- **Use case:** Targeted advertising and campaign effectiveness.\n",
        "- **Example:** Classify which users are most likely to **click an ad** or **buy a product**.\n",
        "- ✅ Why it's useful: Boosts ROI through focused outreach.\n",
        "\n",
        "---\n",
        "\n",
        "### 🧠 **5. Education & Student Performance**\n",
        "- **Use case:** Identifying at-risk students or predicting final grades.\n",
        "- **Example:** Predict if a student will **drop out** based on attendance, grades, engagement.\n",
        "- ✅ Why it's useful: Helps with early intervention.\n",
        "\n",
        "---\n",
        "\n",
        "### 🏢 **6. HR & Talent Management**\n",
        "- **Use case:** Resume screening, employee attrition prediction.\n",
        "- **Example:** Predict if an employee is likely to **leave the company**.\n",
        "- ✅ Why it's useful: Supports retention strategies.\n",
        "\n",
        "---\n",
        "\n",
        "### 🚗 **7. Fraud Detection**\n",
        "- **Use case:** Detecting unusual transactions in banking or insurance.\n",
        "- **Example:** Classify a transaction as **fraudulent or legitimate**.\n",
        "- ✅ Why it's useful: Fast, rule-based filtering of suspicious activity.\n",
        "\n",
        "---\n",
        "\n",
        "### 🤖 **8. IoT & Predictive Maintenance**\n",
        "- **Use case:** Predict equipment failure based on sensor data.\n",
        "- **Example:** Alerting when a machine is likely to **break down**.\n",
        "- ✅ Why it's useful: Reduces downtime and costs.\n",
        "\n",
        "---\n",
        "\n",
        "### 🗣️ **9. Natural Language Processing (with Preprocessing)**\n",
        "- **Use case:** Sentiment analysis, text classification (spam detection, topic tagging).\n",
        "- **Example:** Classify a tweet as **positive/negative**.\n",
        "- ✅ Why it's useful: Simple trees can be combined in ensembles for better performance.\n",
        "\n",
        "---\n",
        "\n",
        "### 📌 TL;DR:\n",
        "\n",
        "| Industry         | Example Application                       |\n",
        "|------------------|--------------------------------------------|\n",
        "| Healthcare        | Disease diagnosis                         |\n",
        "| Finance           | Credit scoring, fraud detection           |\n",
        "| Retail            | Purchase prediction, churn modeling      |\n",
        "| Education         | Dropout prediction                       |\n",
        "| HR                | Employee attrition                       |\n",
        "| Manufacturing     | Predictive maintenance                   |\n",
        "\n"
      ],
      "metadata": {
        "id": "uM66yfuO_SgI"
      }
    },
    {
      "cell_type": "markdown",
      "source": [
        "16. Write a Python program to train a Decision Tree Classifier on the Iris dataset and print the model accuracy.\n"
      ],
      "metadata": {
        "id": "v1x4flz9_Sdb"
      }
    },
    {
      "cell_type": "code",
      "source": [
        "from sklearn.datasets import load_iris\n",
        "from sklearn.tree import DecisionTreeClassifier\n",
        "from sklearn.model_selection import train_test_split\n",
        "from sklearn.metrics import accuracy_score\n",
        "\n",
        "# 1. Load the Iris dataset\n",
        "iris = load_iris()\n",
        "X = iris.data\n",
        "y = iris.target\n",
        "\n",
        "# 2. Split into training and test sets (80% train, 20% test)\n",
        "X_train, X_test, y_train, y_test = train_test_split(X, y, test_size=0.2, random_state=42)\n",
        "\n",
        "# 3. Create and train the Decision Tree Classifier\n",
        "clf = DecisionTreeClassifier(random_state=42)\n",
        "clf.fit(X_train, y_train)\n",
        "\n",
        "# 4. Make predictions on the test set\n",
        "y_pred = clf.predict(X_test)\n",
        "\n",
        "# 5. Calculate and print the accuracy\n",
        "accuracy = accuracy_score(y_test, y_pred)\n",
        "print(\"Model Accuracy:\", round(accuracy * 100, 2), \"%\")\n"
      ],
      "metadata": {
        "colab": {
          "base_uri": "https://localhost:8080/"
        },
        "id": "vBxzI8pxLm4B",
        "outputId": "f2ee42fc-9e6b-46bc-839d-199d3fccc507"
      },
      "execution_count": null,
      "outputs": [
        {
          "output_type": "stream",
          "name": "stdout",
          "text": [
            "Model Accuracy: 100.0 %\n"
          ]
        }
      ]
    },
    {
      "cell_type": "markdown",
      "source": [
        "17. Write a Python program to train a Decision Tree Classifier using Gini Impurity as the criterion and print the feature importances.\n"
      ],
      "metadata": {
        "id": "6NYo63Va_SRl"
      }
    },
    {
      "cell_type": "code",
      "source": [
        "from sklearn.datasets import load_iris\n",
        "from sklearn.tree import DecisionTreeClassifier\n",
        "from sklearn.model_selection import train_test_split\n",
        "\n",
        "# Load the Iris dataset\n",
        "iris = load_iris()\n",
        "X = iris.data\n",
        "y = iris.target\n",
        "feature_names = iris.feature_names\n",
        "\n",
        "# Split into train and test sets (80% train, 20% test)\n",
        "X_train, X_test, y_train, y_test = train_test_split(X, y, test_size=0.2, random_state=42)\n",
        "\n",
        "# Train Decision Tree Classifier using Gini Impurity\n",
        "clf = DecisionTreeClassifier(criterion='gini', random_state=42)\n",
        "clf.fit(X_train, y_train)\n",
        "\n",
        "# Print feature importances\n",
        "print(\"Feature Importances:\")\n",
        "for name, importance in zip(feature_names, clf.feature_importances_):\n",
        "    print(f\"{name}: {importance:.4f}\")\n"
      ],
      "metadata": {
        "colab": {
          "base_uri": "https://localhost:8080/"
        },
        "id": "eH2KGinPOBPW",
        "outputId": "8f380b97-c683-40c9-88ae-00fccb5dd110"
      },
      "execution_count": null,
      "outputs": [
        {
          "output_type": "stream",
          "name": "stdout",
          "text": [
            "Feature Importances:\n",
            "sepal length (cm): 0.0000\n",
            "sepal width (cm): 0.0167\n",
            "petal length (cm): 0.9061\n",
            "petal width (cm): 0.0772\n"
          ]
        }
      ]
    },
    {
      "cell_type": "markdown",
      "source": [
        "18. Write a Python program to train a Decision Tree Classifier using Entropy as the splitting criterion and print the model accuracy.\n"
      ],
      "metadata": {
        "id": "ZqzWvWcT_R_e"
      }
    },
    {
      "cell_type": "code",
      "source": [
        "from sklearn.datasets import load_iris\n",
        "from sklearn.tree import DecisionTreeClassifier\n",
        "from sklearn.model_selection import train_test_split\n",
        "from sklearn.metrics import accuracy_score\n",
        "\n",
        "# Load the Iris dataset\n",
        "iris = load_iris()\n",
        "X = iris.data\n",
        "y = iris.target\n",
        "\n",
        "# Split into training and testing sets (80% train, 20% test)\n",
        "X_train, X_test, y_train, y_test = train_test_split(X, y, test_size=0.2, random_state=42)\n",
        "\n",
        "# Create and train the Decision Tree Classifier using Entropy\n",
        "clf = DecisionTreeClassifier(criterion='entropy', random_state=42)\n",
        "clf.fit(X_train, y_train)\n",
        "\n",
        "# Predict on the test set\n",
        "y_pred = clf.predict(X_test)\n",
        "\n",
        "# Calculate and print accuracy\n",
        "accuracy = accuracy_score(y_test, y_pred)\n",
        "print(\"Model Accuracy:\", round(accuracy * 100, 2), \"%\")\n",
        "\n"
      ],
      "metadata": {
        "colab": {
          "base_uri": "https://localhost:8080/"
        },
        "id": "T0RvuOM_OJAn",
        "outputId": "0175d61e-8483-4ef6-f5f5-addb55dc35c3"
      },
      "execution_count": null,
      "outputs": [
        {
          "output_type": "stream",
          "name": "stdout",
          "text": [
            "Model Accuracy: 100.0 %\n"
          ]
        }
      ]
    },
    {
      "cell_type": "markdown",
      "source": [
        "19. Write a Python program to train a Decision Tree Regressor on a housing dataset and evaluate using Mean Squared Error (MSE).\n"
      ],
      "metadata": {
        "id": "hXcb1HJDOV8Q"
      }
    },
    {
      "cell_type": "code",
      "source": [
        "from sklearn.datasets import fetch_california_housing\n",
        "from sklearn.tree import DecisionTreeRegressor\n",
        "from sklearn.model_selection import train_test_split\n",
        "from sklearn.metrics import mean_squared_error\n",
        "\n",
        "# Load the California Housing dataset\n",
        "data = fetch_california_housing()\n",
        "X = data.data\n",
        "y = data.target\n",
        "\n",
        "# Split into training and testing sets (80% train, 20% test)\n",
        "X_train, X_test, y_train, y_test = train_test_split(X, y, test_size=0.2, random_state=42)\n",
        "\n",
        "# Create and train the Decision Tree Regressor\n",
        "regressor = DecisionTreeRegressor(random_state=42)\n",
        "regressor.fit(X_train, y_train)\n",
        "\n",
        "# Predict on the test set\n",
        "y_pred = regressor.predict(X_test)\n",
        "\n",
        "# Calculate and print the Mean Squared Error (MSE)\n",
        "mse = mean_squared_error(y_test, y_pred)\n",
        "print(f\"Mean Squared Error: {mse:.4f}\")\n"
      ],
      "metadata": {
        "colab": {
          "base_uri": "https://localhost:8080/"
        },
        "id": "QbcsFznCOWaM",
        "outputId": "e59273de-91af-4a43-d227-113e8877a792"
      },
      "execution_count": null,
      "outputs": [
        {
          "output_type": "stream",
          "name": "stdout",
          "text": [
            "Mean Squared Error: 0.4952\n"
          ]
        }
      ]
    },
    {
      "cell_type": "markdown",
      "source": [
        "20. Write a Python program to train a Decision Tree Classifier and visualize the tree using graphviz.\n"
      ],
      "metadata": {
        "id": "up75eWdL_Reb"
      }
    },
    {
      "cell_type": "code",
      "source": [
        "from sklearn.datasets import load_iris\n",
        "from sklearn.tree import DecisionTreeClassifier\n",
        "from sklearn.model_selection import train_test_split\n",
        "from sklearn import tree\n",
        "import graphviz\n",
        "\n",
        "# Load the Iris dataset\n",
        "iris = load_iris()\n",
        "X = iris.data\n",
        "y = iris.target\n",
        "\n",
        "# Split into training and testing sets (80% train, 20% test)\n",
        "X_train, X_test, y_train, y_test = train_test_split(X, y, test_size=0.2, random_state=42)\n",
        "\n",
        "# Train the Decision Tree Classifier\n",
        "clf = DecisionTreeClassifier(random_state=42)\n",
        "clf.fit(X_train, y_train)\n",
        "\n",
        "# Visualize the decision tree using graphviz\n",
        "dot_data = tree.export_graphviz(clf, out_file=None,\n",
        "                                feature_names=iris.feature_names,\n",
        "                                class_names=iris.target_names,\n",
        "                                filled=True, rounded=True,\n",
        "                                special_characters=True)\n",
        "\n",
        "# Create the graph\n",
        "graph = graphviz.Source(dot_data)\n",
        "\n",
        "# Render and view the tree\n",
        "graph.render(\"iris_decision_tree\", view=True)\n"
      ],
      "metadata": {
        "colab": {
          "base_uri": "https://localhost:8080/",
          "height": 35
        },
        "id": "6LHDAr0ZOXUA",
        "outputId": "3722e8f5-9889-4642-ccd5-e7372d5bb052"
      },
      "execution_count": null,
      "outputs": [
        {
          "output_type": "execute_result",
          "data": {
            "text/plain": [
              "'iris_decision_tree.pdf'"
            ],
            "application/vnd.google.colaboratory.intrinsic+json": {
              "type": "string"
            }
          },
          "metadata": {},
          "execution_count": 9
        }
      ]
    },
    {
      "cell_type": "markdown",
      "source": [
        "21. Write a Python program to train a Decision Tree Classifier with a maximum depth of 3 and compare its accuracy with a fully grown tree.\n"
      ],
      "metadata": {
        "id": "F8JkHMlBO_vG"
      }
    },
    {
      "cell_type": "code",
      "source": [
        "from sklearn.datasets import load_iris\n",
        "from sklearn.tree import DecisionTreeClassifier\n",
        "from sklearn.model_selection import train_test_split\n",
        "from sklearn.metrics import accuracy_score\n",
        "\n",
        "# Load the Iris dataset\n",
        "iris = load_iris()\n",
        "X = iris.data\n",
        "y = iris.target\n",
        "\n",
        "# Split into training and testing sets (80% train, 20% test)\n",
        "X_train, X_test, y_train, y_test = train_test_split(X, y, test_size=0.2, random_state=42)\n",
        "\n",
        "# Train the Decision Tree Classifier with a maximum depth of 3\n",
        "clf_depth_3 = DecisionTreeClassifier(max_depth=3, random_state=42)\n",
        "clf_depth_3.fit(X_train, y_train)\n",
        "\n",
        "# Train the fully grown Decision Tree Classifier (no max depth)\n",
        "clf_full_tree = DecisionTreeClassifier(random_state=42)\n",
        "clf_full_tree.fit(X_train, y_train)\n",
        "\n",
        "# Predict and calculate accuracy for both models\n",
        "y_pred_depth_3 = clf_depth_3.predict(X_test)\n",
        "y_pred_full_tree = clf_full_tree.predict(X_test)\n",
        "\n",
        "accuracy_depth_3 = accuracy_score(y_test, y_pred_depth_3)\n",
        "accuracy_full_tree = accuracy_score(y_test, y_pred_full_tree)\n",
        "\n",
        "# Print the accuracy of both models\n",
        "print(f\"Accuracy with max depth 3: {accuracy_depth_3 * 100:.2f}%\")\n",
        "print(f\"Accuracy with fully grown tree: {accuracy_full_tree * 100:.2f}%\")\n"
      ],
      "metadata": {
        "colab": {
          "base_uri": "https://localhost:8080/"
        },
        "id": "XCn5TOzuPAVb",
        "outputId": "565a183a-86d6-46c8-fb6f-7d82ce7b96c0"
      },
      "execution_count": null,
      "outputs": [
        {
          "output_type": "stream",
          "name": "stdout",
          "text": [
            "Accuracy with max depth 3: 100.00%\n",
            "Accuracy with fully grown tree: 100.00%\n"
          ]
        }
      ]
    },
    {
      "cell_type": "markdown",
      "source": [
        "22. Write a Python program to train a Decision Tree Classifier using min_samples_split=5 and compare its accuracy with a default tree.\n"
      ],
      "metadata": {
        "id": "4UaufZL1PCBH"
      }
    },
    {
      "cell_type": "code",
      "source": [
        "from sklearn.datasets import load_iris\n",
        "from sklearn.tree import DecisionTreeClassifier\n",
        "from sklearn.model_selection import train_test_split\n",
        "from sklearn.metrics import accuracy_score\n",
        "\n",
        "# Load the Iris dataset\n",
        "iris = load_iris()\n",
        "X = iris.data\n",
        "y = iris.target\n",
        "\n",
        "# Split into training and testing sets (80% train, 20% test)\n",
        "X_train, X_test, y_train, y_test = train_test_split(X, y, test_size=0.2, random_state=42)\n",
        "\n",
        "# Train the Decision Tree Classifier with min_samples_split=5\n",
        "clf_min_samples_split = DecisionTreeClassifier(min_samples_split=5, random_state=42)\n",
        "clf_min_samples_split.fit(X_train, y_train)\n",
        "\n",
        "# Train the default Decision Tree Classifier (no min_samples_split specified)\n",
        "clf_default = DecisionTreeClassifier(random_state=42)\n",
        "clf_default.fit(X_train, y_train)\n",
        "\n",
        "# Predict and calculate accuracy for both models\n",
        "y_pred_min_samples_split = clf_min_samples_split.predict(X_test)\n",
        "y_pred_default = clf_default.predict(X_test)\n",
        "\n",
        "accuracy_min_samples_split = accuracy_score(y_test, y_pred_min_samples_split)\n",
        "accuracy_default = accuracy_score(y_test, y_pred_default)\n",
        "\n",
        "# Print the accuracy of both models\n",
        "print(f\"Accuracy with min_samples_split=5: {accuracy_min_samples_split * 100:.2f}%\")\n",
        "print(f\"Accuracy with default tree: {accuracy_default * 100:.2f}%\")\n"
      ],
      "metadata": {
        "colab": {
          "base_uri": "https://localhost:8080/"
        },
        "id": "HYSZu-9ZPCca",
        "outputId": "854248e6-3efc-4470-ae3f-eed56c1cb82d"
      },
      "execution_count": null,
      "outputs": [
        {
          "output_type": "stream",
          "name": "stdout",
          "text": [
            "Accuracy with min_samples_split=5: 100.00%\n",
            "Accuracy with default tree: 100.00%\n"
          ]
        }
      ]
    },
    {
      "cell_type": "markdown",
      "source": [
        "23. Write a Python program to apply feature scaling before training a Decision Tree Classifier and compare its accuracy with unscaled data."
      ],
      "metadata": {
        "id": "wd7E9WSBPaB2"
      }
    },
    {
      "cell_type": "code",
      "source": [
        "from sklearn.datasets import load_iris\n",
        "from sklearn.tree import DecisionTreeClassifier\n",
        "from sklearn.model_selection import train_test_split\n",
        "from sklearn.metrics import accuracy_score\n",
        "from sklearn.preprocessing import StandardScaler\n",
        "\n",
        "# Load the Iris dataset\n",
        "iris = load_iris()\n",
        "X = iris.data\n",
        "y = iris.target\n",
        "\n",
        "# Split into training and testing sets (80% train, 20% test)\n",
        "X_train, X_test, y_train, y_test = train_test_split(X, y, test_size=0.2, random_state=42)\n",
        "\n",
        "# ---------------------- Model 1: No Feature Scaling ----------------------\n",
        "# Train the Decision Tree Classifier without scaling\n",
        "clf_no_scaling = DecisionTreeClassifier(random_state=42)\n",
        "clf_no_scaling.fit(X_train, y_train)\n",
        "\n",
        "# Predict and calculate accuracy for the unscaled model\n",
        "y_pred_no_scaling = clf_no_scaling.predict(X_test)\n",
        "accuracy_no_scaling = accuracy_score(y_test, y_pred_no_scaling)\n",
        "\n",
        "# ---------------------- Model 2: With Feature Scaling ----------------------\n",
        "# Apply Standard Scaling to the features\n",
        "scaler = StandardScaler()\n",
        "X_train_scaled = scaler.fit_transform(X_train)\n",
        "X_test_scaled = scaler.transform(X_test)\n",
        "\n",
        "# Train the Decision Tree Classifier with scaled data\n",
        "clf_scaled = DecisionTreeClassifier(random_state=42)\n",
        "clf_scaled.fit(X_train_scaled, y_train)\n",
        "\n",
        "# Predict and calculate accuracy for the scaled model\n",
        "y_pred_scaled = clf_scaled.predict(X_test_scaled)\n",
        "accuracy_scaled = accuracy_score(y_test, y_pred_scaled)\n",
        "\n",
        "# ---------------------- Output the Results ----------------------\n",
        "print(f\"Accuracy without feature scaling: {accuracy_no_scaling * 100:.2f}%\")\n",
        "print(f\"Accuracy with feature scaling: {accuracy_scaled * 100:.2f}%\")\n"
      ],
      "metadata": {
        "colab": {
          "base_uri": "https://localhost:8080/"
        },
        "id": "aEyEgv5nPiZJ",
        "outputId": "10b2cddb-e6a8-49f2-a32a-4ce750b30ea0"
      },
      "execution_count": null,
      "outputs": [
        {
          "output_type": "stream",
          "name": "stdout",
          "text": [
            "Accuracy without feature scaling: 100.00%\n",
            "Accuracy with feature scaling: 100.00%\n"
          ]
        }
      ]
    },
    {
      "cell_type": "markdown",
      "source": [
        "24. Write a Python program to train a Decision Tree Classifier using One-vs-Rest (OvR) strategy for multiclass classification.\n"
      ],
      "metadata": {
        "id": "Oam-ZkSrPp0_"
      }
    },
    {
      "cell_type": "code",
      "source": [
        "from sklearn.datasets import load_iris\n",
        "from sklearn.tree import DecisionTreeClassifier\n",
        "from sklearn.model_selection import train_test_split\n",
        "from sklearn.multiclass import OneVsRestClassifier\n",
        "from sklearn.metrics import accuracy_score\n",
        "\n",
        "# Load the Iris dataset\n",
        "iris = load_iris()\n",
        "X = iris.data\n",
        "y = iris.target\n",
        "\n",
        "# Split into training and testing sets (80% train, 20% test)\n",
        "X_train, X_test, y_train, y_test = train_test_split(X, y, test_size=0.2, random_state=42)\n",
        "\n",
        "# Train the Decision Tree Classifier using One-vs-Rest strategy\n",
        "clf = OneVsRestClassifier(DecisionTreeClassifier(random_state=42))\n",
        "clf.fit(X_train, y_train)\n",
        "\n",
        "# Predict on the test set\n",
        "y_pred = clf.predict(X_test)\n",
        "\n",
        "# Calculate and print the accuracy\n",
        "accuracy = accuracy_score(y_test, y_pred)\n",
        "print(f\"Accuracy using One-vs-Rest strategy: {accuracy * 100:.2f}%\")\n"
      ],
      "metadata": {
        "colab": {
          "base_uri": "https://localhost:8080/"
        },
        "id": "i-OxzbriPqUd",
        "outputId": "c826088b-70d0-4bbb-99a1-915a9a8b80f4"
      },
      "execution_count": null,
      "outputs": [
        {
          "output_type": "stream",
          "name": "stdout",
          "text": [
            "Accuracy using One-vs-Rest strategy: 100.00%\n"
          ]
        }
      ]
    },
    {
      "cell_type": "markdown",
      "source": [
        "25. Write a Python program to train a Decision Tree Classifier and display the feature importance scores"
      ],
      "metadata": {
        "id": "icFtwxQPP4nI"
      }
    },
    {
      "cell_type": "code",
      "source": [
        "from sklearn.datasets import load_iris\n",
        "from sklearn.tree import DecisionTreeClassifier\n",
        "\n",
        "# Load the Iris dataset\n",
        "iris = load_iris()\n",
        "X = iris.data\n",
        "y = iris.target\n",
        "feature_names = iris.feature_names\n",
        "\n",
        "# Train the Decision Tree Classifier\n",
        "clf = DecisionTreeClassifier(random_state=42)\n",
        "clf.fit(X, y)\n",
        "\n",
        "# Get the feature importances\n",
        "importances = clf.feature_importances_\n",
        "\n",
        "# Display the feature importance scores\n",
        "print(\"Feature Importances:\")\n",
        "for feature, importance in zip(feature_names, importances):\n",
        "    print(f\"{feature}: {importance:.4f}\")\n"
      ],
      "metadata": {
        "colab": {
          "base_uri": "https://localhost:8080/"
        },
        "id": "obQozGe7P5DV",
        "outputId": "5da112ad-2f76-4d46-f2f9-92378749897b"
      },
      "execution_count": null,
      "outputs": [
        {
          "output_type": "stream",
          "name": "stdout",
          "text": [
            "Feature Importances:\n",
            "sepal length (cm): 0.0133\n",
            "sepal width (cm): 0.0000\n",
            "petal length (cm): 0.5641\n",
            "petal width (cm): 0.4226\n"
          ]
        }
      ]
    },
    {
      "cell_type": "markdown",
      "source": [
        "26. Write a Python program to train a Decision Tree Regressor with max_depth=5 and compare its performance with an unrestricted tree.\n"
      ],
      "metadata": {
        "id": "UC19gbrJP5Y6"
      }
    },
    {
      "cell_type": "code",
      "source": [
        "from sklearn.datasets import fetch_california_housing\n",
        "from sklearn.tree import DecisionTreeRegressor\n",
        "from sklearn.model_selection import train_test_split\n",
        "from sklearn.metrics import mean_squared_error\n",
        "\n",
        "# Load the California Housing dataset\n",
        "data = fetch_california_housing()\n",
        "X = data.data\n",
        "y = data.target\n",
        "\n",
        "# Split into training and testing sets (80% train, 20% test)\n",
        "X_train, X_test, y_train, y_test = train_test_split(X, y, test_size=0.2, random_state=42)\n",
        "\n",
        "# ---------------------- Model 1: max_depth=5 ----------------------\n",
        "# Train the Decision Tree Regressor with max_depth=5\n",
        "regressor_depth_5 = DecisionTreeRegressor(max_depth=5, random_state=42)\n",
        "regressor_depth_5.fit(X_train, y_train)\n",
        "\n",
        "# Predict on the test set and calculate MSE for max_depth=5\n",
        "y_pred_depth_5 = regressor_depth_5.predict(X_test)\n",
        "mse_depth_5 = mean_squared_error(y_test, y_pred_depth_5)\n",
        "\n",
        "# ---------------------- Model 2: Unrestricted Tree ----------------------\n",
        "# Train the fully grown Decision Tree Regressor (no max depth specified)\n",
        "regressor_full_tree = DecisionTreeRegressor(random_state=42)\n",
        "regressor_full_tree.fit(X_train, y_train)\n",
        "\n",
        "# Predict on the test set and calculate MSE for the unrestricted tree\n",
        "y_pred_full_tree = regressor_full_tree.predict(X_test)\n",
        "mse_full_tree = mean_squared_error(y_test, y_pred_full_tree)\n",
        "\n",
        "# ---------------------- Output the Results ----------------------\n",
        "print(f\"Mean Squared Error with max_depth=5: {mse_depth_5:.4f}\")\n",
        "print(f\"Mean Squared Error with fully grown tree: {mse_full_tree:.4f}\")\n"
      ],
      "metadata": {
        "colab": {
          "base_uri": "https://localhost:8080/"
        },
        "id": "Fe-9DzpWP564",
        "outputId": "81d0cd62-5af9-4cb2-ca6a-d02b00eb9270"
      },
      "execution_count": null,
      "outputs": [
        {
          "output_type": "stream",
          "name": "stdout",
          "text": [
            "Mean Squared Error with max_depth=5: 0.5245\n",
            "Mean Squared Error with fully grown tree: 0.4952\n"
          ]
        }
      ]
    },
    {
      "cell_type": "markdown",
      "source": [
        "\n",
        "27. Write a Python program to train a Decision Tree Classifier, apply Cost Complexity Pruning (CCP), and visualize its effect on accuracy.\n"
      ],
      "metadata": {
        "id": "UD5xwi1wQSDJ"
      }
    },
    {
      "cell_type": "code",
      "source": [
        "import matplotlib.pyplot as plt\n",
        "from sklearn.datasets import load_iris\n",
        "from sklearn.tree import DecisionTreeClassifier\n",
        "from sklearn.model_selection import train_test_split\n",
        "from sklearn.metrics import accuracy_score\n",
        "from sklearn.tree import plot_tree\n",
        "\n",
        "# Load the Iris dataset\n",
        "iris = load_iris()\n",
        "X = iris.data\n",
        "y = iris.target\n",
        "\n",
        "# Split into training and testing sets (80% train, 20% test)\n",
        "X_train, X_test, y_train, y_test = train_test_split(X, y, test_size=0.2, random_state=42)\n",
        "\n",
        "# ---------------------- Model 1: Train a Decision Tree Classifier ----------------------\n",
        "clf = DecisionTreeClassifier(random_state=42)\n",
        "clf.fit(X_train, y_train)\n",
        "\n",
        "# Predict and calculate accuracy before pruning\n",
        "y_pred_before_pruning = clf.predict(X_test)\n",
        "accuracy_before_pruning = accuracy_score(y_test, y_pred_before_pruning)\n",
        "\n",
        "# ---------------------- Apply Cost Complexity Pruning (CCP) ----------------------\n",
        "\n",
        "# Get the effective alphas and corresponding number of nodes after pruning\n",
        "path = clf.cost_complexity_pruning_path(X_train, y_train)\n",
        "ccp_alphas = path.ccp_alphas\n",
        "impurities = path.impurities\n",
        "\n",
        "# List to store accuracy after pruning for different alphas\n",
        "accuracies_after_pruning = []\n",
        "\n",
        "# Loop through all alpha values and prune the tree accordingly\n",
        "for alpha in ccp_alphas:\n",
        "    clf_pruned = DecisionTreeClassifier(random_state=42, ccp_alpha=alpha)\n",
        "    clf_pruned.fit(X_train, y_train)\n",
        "\n",
        "    # Predict and calculate accuracy after pruning\n",
        "    y_pred_after_pruning = clf_pruned.predict(X_test)\n",
        "    accuracies_after_pruning.append(accuracy_score(y_test, y_pred_after_pruning))\n",
        "\n",
        "# ---------------------- Visualize the Effect of CCP ----------------------\n",
        "\n",
        "# Plot the accuracy vs alpha for pruning\n",
        "plt.figure(figsize=(10, 6))\n",
        "plt.plot(ccp_alphas, accuracies_after_pruning, marker='o', label=\"Accuracy after pruning\")\n",
        "plt.axhline(y=accuracy_before_pruning, color='r', linestyle='--', label=\"Accuracy before pruning\")\n",
        "plt.xlabel(\"Alpha (ccp_alpha)\")\n",
        "plt.ylabel(\"Accuracy\")\n",
        "plt.title(\"Effect of Cost Complexity Pruning (CCP) on Accuracy\")\n",
        "plt.legend()\n",
        "plt.show()\n",
        "\n",
        "# ---------------------- Output Results ----------------------\n",
        "\n",
        "# Print the accuracy before and after pruning\n",
        "print(f\"Accuracy before pruning: {accuracy_before_pruning * 100:.2f}%\")\n",
        "best_alpha = ccp_alphas[accuracies_after_pruning.index(max(accuracies_after_pruning))]\n",
        "print(f\"Best alpha (ccp_alpha) for pruning: {best_alpha}\")\n",
        "print(f\"Best accuracy after pruning: {max(accuracies_after_pruning) * 100:.2f}%\")\n"
      ],
      "metadata": {
        "colab": {
          "base_uri": "https://localhost:8080/",
          "height": 616
        },
        "id": "stu0tWETQSuP",
        "outputId": "5ad80b0d-eb09-40c4-e00a-2bd03b64bff6"
      },
      "execution_count": null,
      "outputs": [
        {
          "output_type": "display_data",
          "data": {
            "text/plain": [
              "<Figure size 1000x600 with 1 Axes>"
            ],
            "image/png": "[encoded data removed]"
          },
          "metadata": {}
        },
        {
          "output_type": "stream",
          "name": "stdout",
          "text": [
            "Accuracy before pruning: 100.00%\n",
            "Best alpha (ccp_alpha) for pruning: 0.0\n",
            "Best accuracy after pruning: 100.00%\n"
          ]
        }
      ]
    },
    {
      "cell_type": "markdown",
      "source": [
        "28. Write a Python program to train a Decision Tree Classifier and evaluate its performance using Precision, Recall, and Fl-Score.\n"
      ],
      "metadata": {
        "id": "oILHPw_9QTIY"
      }
    },
    {
      "cell_type": "code",
      "source": [
        "from sklearn.datasets import load_iris\n",
        "from sklearn.tree import DecisionTreeClassifier\n",
        "from sklearn.model_selection import train_test_split\n",
        "from sklearn.metrics import precision_score, recall_score, f1_score\n",
        "\n",
        "# Load the Iris dataset\n",
        "iris = load_iris()\n",
        "X = iris.data\n",
        "y = iris.target\n",
        "\n",
        "# Split into training and testing sets (80% train, 20% test)\n",
        "X_train, X_test, y_train, y_test = train_test_split(X, y, test_size=0.2, random_state=42)\n",
        "\n",
        "# Train the Decision Tree Classifier\n",
        "clf = DecisionTreeClassifier(random_state=42)\n",
        "clf.fit(X_train, y_train)\n",
        "\n",
        "# Predict on the test set\n",
        "y_pred = clf.predict(X_test)\n",
        "\n",
        "# Calculate Precision, Recall, and F1-Score\n",
        "precision = precision_score(y_test, y_pred, average='weighted')  # 'weighted' handles multiclass classification\n",
        "recall = recall_score(y_test, y_pred, average='weighted')\n",
        "f1 = f1_score(y_test, y_pred, average='weighted')\n",
        "\n",
        "# Output the performance metrics\n",
        "print(f\"Precision: {precision:.4f}\")\n",
        "print(f\"Recall: {recall:.4f}\")\n",
        "print(f\"F1-Score: {f1:.4f}\")\n"
      ],
      "metadata": {
        "colab": {
          "base_uri": "https://localhost:8080/"
        },
        "id": "oubYTGr7QTrV",
        "outputId": "7a86604a-6443-4a41-e51c-620f3d2d734d"
      },
      "execution_count": null,
      "outputs": [
        {
          "output_type": "stream",
          "name": "stdout",
          "text": [
            "Precision: 1.0000\n",
            "Recall: 1.0000\n",
            "F1-Score: 1.0000\n"
          ]
        }
      ]
    },
    {
      "cell_type": "markdown",
      "source": [
        "29. Write a Python program to train a Decision Tree Classifier and visualize the confusion matrix using seaborn."
      ],
      "metadata": {
        "id": "n1_066atQUJ2"
      }
    },
    {
      "cell_type": "code",
      "source": [
        "import seaborn as sns\n",
        "import matplotlib.pyplot as plt\n",
        "from sklearn.datasets import load_iris\n",
        "from sklearn.tree import DecisionTreeClassifier\n",
        "from sklearn.model_selection import train_test_split\n",
        "from sklearn.metrics import confusion_matrix\n",
        "\n",
        "# Load the Iris dataset\n",
        "iris = load_iris()\n",
        "X = iris.data\n",
        "y = iris.target\n",
        "\n",
        "# Split into training and testing sets (80% train, 20% test)\n",
        "X_train, X_test, y_train, y_test = train_test_split(X, y, test_size=0.2, random_state=42)\n",
        "\n",
        "# Train the Decision Tree Classifier\n",
        "clf = DecisionTreeClassifier(random_state=42)\n",
        "clf.fit(X_train, y_train)\n",
        "\n",
        "# Predict on the test set\n",
        "y_pred = clf.predict(X_test)\n",
        "\n",
        "# Calculate the confusion matrix\n",
        "cm = confusion_matrix(y_test, y_pred)\n",
        "\n",
        "# Visualize the confusion matrix using seaborn's heatmap\n",
        "plt.figure(figsize=(8, 6))\n",
        "sns.heatmap(cm, annot=True, fmt='g', cmap='Blues', xticklabels=iris.target_names, yticklabels=iris.target_names)\n",
        "plt.title(\"Confusion Matrix for Decision Tree Classifier\")\n",
        "plt.xlabel(\"Predicted Labels\")\n",
        "plt.ylabel(\"True Labels\")\n",
        "plt.show()\n"
      ],
      "metadata": {
        "colab": {
          "base_uri": "https://localhost:8080/",
          "height": 564
        },
        "id": "QgPY6mq6QUmd",
        "outputId": "e9061191-a3fb-467f-a682-d2045decdeb3"
      },
      "execution_count": null,
      "outputs": [
        {
          "output_type": "display_data",
          "data": {
            "text/plain": [
              "<Figure size 800x600 with 2 Axes>"
            ],
            "image/png": "[encoded data removed]"
          },
          "metadata": {}
        }
      ]
    },
    {
      "cell_type": "markdown",
      "source": [
        "30. Write a Python program to train a Decision Tree Classifier and use GridSearchCV to find the optimal values for max depth and min_samples_split."
      ],
      "metadata": {
        "id": "K2TPDs7JQ3Ko"
      }
    },
    {
      "cell_type": "code",
      "source": [
        "from sklearn.datasets import load_iris\n",
        "from sklearn.tree import DecisionTreeClassifier\n",
        "from sklearn.model_selection import train_test_split, GridSearchCV\n",
        "from sklearn.metrics import accuracy_score\n",
        "\n",
        "# Load the Iris dataset\n",
        "iris = load_iris()\n",
        "X = iris.data\n",
        "y = iris.target\n",
        "\n",
        "# Split into training and testing sets (80% train, 20% test)\n",
        "X_train, X_test, y_train, y_test = train_test_split(X, y, test_size=0.2, random_state=42)\n",
        "\n",
        "# Initialize a Decision Tree Classifier\n",
        "clf = DecisionTreeClassifier(random_state=42)\n",
        "\n",
        "# Define the hyperparameters and the values to search for\n",
        "param_grid = {\n",
        "    'max_depth': [3, 5, 10, None],  # maximum depth of the tree\n",
        "    'min_samples_split': [2, 5, 10]  # minimum samples required to split an internal node\n",
        "}\n",
        "\n",
        "# Initialize GridSearchCV\n",
        "grid_search = GridSearchCV(estimator=clf, param_grid=param_grid, cv=5, scoring='accuracy', n_jobs=-1)\n",
        "\n",
        "# Fit GridSearchCV to the training data\n",
        "grid_search.fit(X_train, y_train)\n",
        "\n",
        "# Get the best parameters and the best accuracy\n",
        "best_params = grid_search.best_params_\n",
        "best_accuracy = grid_search.best_score_\n",
        "\n",
        "# Predict on the test set using the best model\n",
        "best_model = grid_search.best_estimator_\n",
        "y_pred = best_model.predict(X_test)\n",
        "\n",
        "# Calculate accuracy on the test set\n",
        "test_accuracy = accuracy_score(y_test, y_pred)\n",
        "\n",
        "# Output the results\n",
        "print(f\"Best parameters from GridSearchCV: {best_params}\")\n",
        "print(f\"Best cross-validation accuracy: {best_accuracy:.4f}\")\n",
        "print(f\"Test accuracy with best model: {test_accuracy:.4f}\")\n"
      ],
      "metadata": {
        "colab": {
          "base_uri": "https://localhost:8080/"
        },
        "id": "jCyp3oL_Q3rO",
        "outputId": "effb6cf1-e633-4db9-9c33-331aae13c7c6"
      },
      "execution_count": null,
      "outputs": [
        {
          "output_type": "stream",
          "name": "stdout",
          "text": [
            "Best parameters from GridSearchCV: {'max_depth': 10, 'min_samples_split': 2}\n",
            "Best cross-validation accuracy: 0.9417\n",
            "Test accuracy with best model: 1.0000\n"
          ]
        }
      ]
    }
  ]
}