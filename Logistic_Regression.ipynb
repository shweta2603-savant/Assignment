{
  "nbformat": 4,
  "nbformat_minor": 0,
  "metadata": {
    "colab": {
      "provenance": []
    },
    "kernelspec": {
      "name": "python3",
      "display_name": "Python 3"
    },
    "language_info": {
      "name": "python"
    }
  },
  "cells": [
    {
      "cell_type": "markdown",
      "source": [
        "1. What is Logistic Regression, and how does it differ from Linear Regression?\n"
      ],
      "metadata": {
        "id": "MXUPGPjVNIup"
      }
    },
    {
      "cell_type": "code",
      "execution_count": null,
      "metadata": {
        "id": "zKYgS1HYNCyi"
      },
      "outputs": [],
      "source": [
        "### What is **Logistic Regression**?\n",
        "\n",
        "**Logistic Regression** is a statistical model used for **binary classification** tasks, where the goal is to predict one of two possible outcomes (e.g., \"yes\" vs. \"no\", \"spam\" vs. \"not spam\", etc.). Despite its name, logistic regression is a **classification** algorithm, not a regression algorithm.\n",
        "\n",
        "Logistic Regression works by applying the **logistic function** (also known as the **sigmoid function**) to the output of a linear model. This function maps any real-valued number to a value between 0 and 1, which represents the probability of a certain class.\n",
        "\n",
        "#### The logistic (sigmoid) function is defined as:\n",
        "\\[\n",
        "\\text{Sigmoid}(z) = \\frac{1}{1 + e^{-z}}\n",
        "\\]\n",
        "Where:\n",
        "- \\( z = \\beta_0 + \\beta_1 x_1 + \\beta_2 x_2 + ... + \\beta_n x_n \\) is the linear combination of the input features (just like in linear regression).\n",
        "\n",
        "The output of the logistic function is interpreted as the **probability** that a given input belongs to a particular class. If the output is greater than 0.5, the class is typically predicted as 1 (positive class); otherwise, it is predicted as 0 (negative class).\n",
        "\n",
        "---\n",
        "\n",
        "### How is **Logistic Regression** Different from **Linear Regression**?\n",
        "\n",
        "#### 1. **Purpose**:\n",
        "   - **Linear Regression**: Used for **predicting continuous values**. For example, predicting house prices, stock prices, etc.\n",
        "   - **Logistic Regression**: Used for **binary classification** (predicting categorical outcomes). For example, predicting whether an email is spam or not, whether a customer will churn, etc.\n",
        "\n",
        "#### 2. **Output**:\n",
        "   - **Linear Regression**: The output is a continuous numeric value, which can be any real number (positive or negative).\n",
        "     \\[\n",
        "     y = \\beta_0 + \\beta_1 x_1 + \\beta_2 x_2 + ... + \\beta_n x_n\n",
        "     \\]\n",
        "   - **Logistic Regression**: The output is a **probability** between 0 and 1 (after applying the sigmoid function). This probability is then used to assign a class label (0 or 1) based on a threshold (usually 0.5).\n",
        "     \\[\n",
        "     p(y=1|X) = \\frac{1}{1 + e^{-z}}\n",
        "     \\]\n",
        "     Where \\( z \\) is the linear combination of the features.\n",
        "\n",
        "#### 3. **Modeling Approach**:\n",
        "   - **Linear Regression**: The goal is to **minimize the mean squared error (MSE)** between the predicted and actual values.\n",
        "   - **Logistic Regression**: The goal is to **maximize the likelihood** of the model parameters (using the **log-likelihood function**). This is typically done using **maximum likelihood estimation (MLE)**.\n",
        "\n",
        "#### 4. **Equation**:\n",
        "   - **Linear Regression**: The prediction is a linear combination of input features.\n",
        "     \\[\n",
        "     y = \\beta_0 + \\beta_1 x_1 + \\beta_2 x_2 + ... + \\beta_n x_n\n",
        "     \\]\n",
        "   - **Logistic Regression**: The prediction is a transformed value from a linear combination of input features, passed through the sigmoid function.\n",
        "     \\[\n",
        "     p(y=1|X) = \\frac{1}{1 + e^{-(\\beta_0 + \\beta_1 x_1 + \\beta_2 x_2 + ... + \\beta_n x_n)}}\n",
        "     \\]\n",
        "\n",
        "#### 5. **Loss Function**:\n",
        "   - **Linear Regression**: Uses **Mean Squared Error (MSE)**.\n",
        "     \\[\n",
        "     \\text{MSE} = \\frac{1}{n} \\sum_{i=1}^{n} (y_i - \\hat{y}_i)^2\n",
        "     \\]\n",
        "   - **Logistic Regression**: Uses **Log Loss (Cross-Entropy Loss)**.\n",
        "     \\[\n",
        "     \\text{Log Loss} = - \\frac{1}{n} \\sum_{i=1}^{n} \\left[y_i \\log(p) + (1 - y_i) \\log(1 - p)\\right]\n",
        "     \\]\n",
        "     Where \\( p \\) is the predicted probability.\n",
        "\n",
        "#### 6. **Assumptions**:\n",
        "   - **Linear Regression**: Assumes that the relationship between the independent and dependent variables is linear.\n",
        "   - **Logistic Regression**: Assumes that the relationship between the independent variables and the log-odds of the dependent variable is linear.\n",
        "\n",
        "---\n",
        "\n",
        "### Summary Table:\n",
        "\n",
        "| **Aspect**                 | **Linear Regression**                                 | **Logistic Regression**                                  |\n",
        "|----------------------------|-------------------------------------------------------|----------------------------------------------------------|\n",
        "| **Task**                   | Predict continuous values (regression)                | Predict categorical values (binary classification)        |\n",
        "| **Output**                 | Continuous numeric value                              | Probability between 0 and 1                              |\n",
        "| **Activation Function**    | None (direct linear combination)                      | Sigmoid function (logistic function)                     |\n",
        "| **Loss Function**          | Mean Squared Error (MSE)                              | Log Loss (Cross-Entropy Loss)                             |\n",
        "| **Equation**               | \\( y = \\beta_0 + \\beta_1 x_1 + \\beta_2 x_2 + \\dots \\) | \\( p(y=1|X) = \\frac{1}{1 + e^{-z}} \\)                    |\n",
        "| **Use Case**               | Predict values like price, age, height, etc.          | Classify into two categories (e.g., spam vs. not spam)    |\n",
        "\n",
        "---\n",
        "\n",
        "### Key Takeaways:\n",
        "- **Linear Regression** is used for predicting **continuous** values, while **Logistic Regression** is used for **binary classification**.\n",
        "- The main difference lies in the output: Linear Regression produces continuous values, while Logistic Regression outputs probabilities, which are then mapped to binary classes (0 or 1).\n",
        "- The **sigmoid function** in logistic regression allows us to model probabilities and is particularly useful in classification problems where we need to classify instances into two categories.\n",
        "\n"
      ]
    },
    {
      "cell_type": "markdown",
      "source": [
        "2. What is the mathematical equation of Logistic Regression?\n"
      ],
      "metadata": {
        "id": "lTDfuk8ZNkab"
      }
    },
    {
      "cell_type": "markdown",
      "source": [
        "The mathematical equation of **Logistic Regression** is based on the **logistic (sigmoid) function**. The goal of logistic regression is to model the probability that a given input belongs to a particular class (usually binary classes: 0 or 1).\n",
        "\n",
        "### **Logistic Regression Equation**:\n",
        "\n",
        "1. **Linear Combination of Features**:\n",
        "   First, logistic regression computes a **linear combination** of the input features (similar to linear regression):\n",
        "   \\[\n",
        "   z = \\beta_0 + \\beta_1 x_1 + \\beta_2 x_2 + \\dots + \\beta_n x_n\n",
        "   \\]\n",
        "   Where:\n",
        "   - \\( \\beta_0 \\) is the intercept (bias).\n",
        "   - \\( \\beta_1, \\beta_2, \\dots, \\beta_n \\) are the coefficients (weights) of the features.\n",
        "   - \\( x_1, x_2, \\dots, x_n \\) are the input features.\n",
        "\n",
        "2. **Apply Sigmoid Function**:\n",
        "   The output \\( z \\) from the linear combination is passed through the **sigmoid function** (also known as the logistic function), which maps the value of \\( z \\) to a probability between 0 and 1:\n",
        "   \\[\n",
        "   \\hat{p}(y = 1 | X) = \\frac{1}{1 + e^{-z}}\n",
        "   \\]\n",
        "   Where:\n",
        "   - \\( \\hat{p}(y = 1 | X) \\) is the predicted probability that the output is class 1 (positive class).\n",
        "   - \\( e \\) is the base of the natural logarithm (approximately 2.718).\n",
        "   - \\( z \\) is the linear combination of the features, as calculated earlier.\n",
        "\n",
        "   This sigmoid function ensures that the output is a value between 0 and 1, which can be interpreted as a probability.\n",
        "\n",
        "3. **Prediction**:\n",
        "   - If \\( \\hat{p}(y = 1 | X) \\geq 0.5 \\), we predict class **1** (positive class).\n",
        "   - If \\( \\hat{p}(y = 1 | X) < 0.5 \\), we predict class **0** (negative class).\n",
        "\n",
        "### Final Equation of Logistic Regression:\n",
        "\n",
        "The logistic regression model can thus be summarized by the following equation:\n",
        "\\[\n",
        "\\hat{p}(y = 1 | X) = \\frac{1}{1 + e^{-(\\beta_0 + \\beta_1 x_1 + \\beta_2 x_2 + \\dots + \\beta_n x_n)}}\n",
        "\\]\n",
        "\n",
        "Where:\n",
        "- \\( \\hat{p}(y = 1 | X) \\) is the predicted probability that the target \\( y \\) is 1 (class 1).\n",
        "- \\( \\beta_0 \\) is the intercept term.\n",
        "- \\( \\beta_1, \\beta_2, \\dots, \\beta_n \\) are the coefficients of the features.\n",
        "- \\( x_1, x_2, \\dots, x_n \\) are the input features.\n",
        "\n",
        "### **Log-Loss Function**:\n",
        "The parameters \\( \\beta_0, \\beta_1, \\dots, \\beta_n \\) of the logistic regression model are typically estimated by **maximum likelihood estimation** (MLE), which maximizes the likelihood of the model given the training data. This is done by minimizing the **log-loss** or **binary cross-entropy** function:\n",
        "\\[\n",
        "\\text{Log Loss} = - \\frac{1}{N} \\sum_{i=1}^{N} \\left[ y_i \\log(\\hat{p}_i) + (1 - y_i) \\log(1 - \\hat{p}_i) \\right]\n",
        "\\]\n",
        "Where:\n",
        "- \\( N \\) is the number of training samples.\n",
        "- \\( y_i \\) is the actual class label (0 or 1) of the \\( i \\)-th sample.\n",
        "- \\( \\hat{p}_i \\) is the predicted probability for the \\( i \\)-th sample.\n",
        "\n",
        "### Key Points:\n",
        "- The **sigmoid function** ensures that the model’s output is a probability.\n",
        "- The **log-likelihood function** is used to find the best-fitting coefficients that minimize the error (or loss) in predicting the probability.\n",
        "\n"
      ],
      "metadata": {
        "id": "BlkXVv5nNkE2"
      }
    },
    {
      "cell_type": "markdown",
      "source": [
        "3. Why do we use the Sigmoid function in Logistic Regression?\n"
      ],
      "metadata": {
        "id": "kVKuK4Z7Nj4q"
      }
    },
    {
      "cell_type": "markdown",
      "source": [
        "The **Sigmoid function** (also known as the **logistic function**) is used in **Logistic Regression** for several important reasons. Here's a detailed explanation of why it's essential:\n",
        "\n",
        "### 1. **Maps Output to a Probability (Between 0 and 1)**\n",
        "\n",
        "The primary reason for using the sigmoid function is that it transforms the raw output of the linear combination of input features (which can be any real number) into a **probability** that lies between 0 and 1.\n",
        "\n",
        "- **Raw Linear Model Output**: A linear regression model produces values ranging from negative to positive infinity, depending on the input. This isn't suitable for classification, as we want a probability.\n",
        "  \n",
        "- **Sigmoid Transformation**: The sigmoid function maps the output of the linear combination to a range between 0 and 1. This transformed output is interpreted as the **probability** that the observation belongs to the positive class (typically \\( y = 1 \\)).\n",
        "\n",
        "   The sigmoid function is defined as:\n",
        "   \\[\n",
        "   \\sigma(z) = \\frac{1}{1 + e^{-z}}\n",
        "   \\]\n",
        "   Where:\n",
        "   - \\( z \\) is the linear combination of input features (\\( z = \\beta_0 + \\beta_1 x_1 + \\beta_2 x_2 + \\dots + \\beta_n x_n \\)).\n",
        "   - The result of \\( \\sigma(z) \\) is always between 0 and 1, which we interpret as a probability.\n",
        "\n",
        "   This output allows the model to give a prediction of the form: \"There is a **p** probability that the target is class 1, and \\( 1 - p \\) probability that the target is class 0.\"\n",
        "\n",
        "---\n",
        "\n",
        "### 2. **Binary Classification Decision Making**\n",
        "\n",
        "In **binary classification**, we want to predict one of two classes (e.g., 0 or 1, true or false).\n",
        "\n",
        "- After applying the sigmoid function, we get a probability score, and then we can convert that probability into a class prediction:\n",
        "  - If the probability is greater than or equal to 0.5, the model predicts **class 1**.\n",
        "  - If the probability is less than 0.5, the model predicts **class 0**.\n",
        "\n",
        "The decision threshold (usually 0.5) is arbitrary but effective in dividing the probability into two classes. The sigmoid function is ideal for this purpose because it naturally maps any real-valued number to a value in the range [0, 1].\n",
        "\n",
        "---\n",
        "\n",
        "### 3. **Smooth Gradient for Optimization**\n",
        "\n",
        "The sigmoid function has a **smooth, continuous, and differentiable curve**, making it **amenable to optimization** using gradient-based algorithms, such as **gradient descent**.\n",
        "\n",
        "- **Differentiability**: The fact that the sigmoid function is differentiable means we can calculate its gradient (slope), which is crucial for optimization. Gradient descent relies on this gradient to minimize the loss function (e.g., **log-loss**).\n",
        "  \n",
        "- **Gradient Behavior**: The derivative of the sigmoid function is given by:\n",
        "  \\[\n",
        "  \\sigma'(z) = \\sigma(z) \\cdot (1 - \\sigma(z))\n",
        "  \\]\n",
        "  This property ensures that the gradient is **always positive** and never zero (except at the extreme values of \\( z \\)). This smooth gradient helps in convergence during training, which ensures that the model finds the best parameters efficiently.\n",
        "\n",
        "---\n",
        "\n",
        "### 4. **Non-linearity and Flexibility**\n",
        "\n",
        "Although **Logistic Regression** is based on a linear model, the use of the **sigmoid function** introduces **non-linearity** into the model. This enables the model to **handle more complex decision boundaries**.\n",
        "\n",
        "- **Linear Model Without Sigmoid**: Without the sigmoid function, logistic regression would behave similarly to linear regression, where the output would be a continuous number. This is not suitable for binary classification tasks.\n",
        "  \n",
        "- **Non-linearity With Sigmoid**: By applying the sigmoid function, we can classify observations into distinct categories (0 or 1). The decision boundary between the classes becomes **non-linear**, which makes it possible to use logistic regression for classification problems.\n",
        "\n",
        "---\n",
        "\n",
        "### 5. **Interpretation as Odds and Log-Odds**\n",
        "\n",
        "In logistic regression, the **sigmoid function** provides a way to model the **log-odds** of an event occurring. This is related to how **odds ratios** are often interpreted in statistical analysis:\n",
        "\n",
        "- The **log-odds** are the natural logarithm of the odds:\n",
        "  \\[\n",
        "  \\text{log-odds} = \\log \\left( \\frac{p}{1 - p} \\right)\n",
        "  \\]\n",
        "  Where \\( p \\) is the probability predicted by the logistic regression model (i.e., \\( \\hat{p}(y = 1 | X) \\)).\n",
        "\n",
        "- The **log-odds** are modeled as a linear combination of the input features:\n",
        "  \\[\n",
        "  \\log \\left( \\frac{p}{1 - p} \\right) = \\beta_0 + \\beta_1 x_1 + \\dots + \\beta_n x_n\n",
        "  \\]\n",
        "\n",
        "- Applying the sigmoid function to the log-odds gives the **probability** of the event occurring:\n",
        "  \\[\n",
        "  p = \\frac{1}{1 + e^{-(\\beta_0 + \\beta_1 x_1 + \\dots + \\beta_n x_n)}}\n",
        "  \\]\n",
        "\n",
        "This log-odds interpretation is useful for understanding the relationship between the predictors and the outcome, and it also forms the basis for interpreting the coefficients in logistic regression.\n",
        "\n",
        "---\n",
        "\n",
        "### Summary: Why Use the Sigmoid Function?\n",
        "\n",
        "- **Probability Output**: The sigmoid function maps the model's raw output to a probability between 0 and 1, which is necessary for binary classification tasks.\n",
        "- **Decision Boundaries**: It enables the model to classify data points into two categories based on a probability threshold (usually 0.5).\n",
        "- **Optimization**: The sigmoid function is smooth and differentiable, making it suitable for gradient-based optimization methods like gradient descent.\n",
        "- **Log-Odds Interpretation**: It provides an intuitive way of modeling odds and log-odds, which is fundamental in statistical analysis.\n",
        "\n",
        "In summary, the **sigmoid function** is crucial in logistic regression because it allows us to convert a linear prediction into a probability, enabling the model to perform classification tasks effectively."
      ],
      "metadata": {
        "id": "Vq_VszJ_NjVm"
      }
    },
    {
      "cell_type": "markdown",
      "source": [
        "4. What is the cost function of Logistic Regression?\n"
      ],
      "metadata": {
        "id": "O5xS5qQkNjSS"
      }
    },
    {
      "cell_type": "markdown",
      "source": [
        "The **cost function** of **Logistic Regression** is designed to measure how well the model's predictions match the actual data. The goal is to minimize this cost function during training, thereby improving the model's accuracy. In the case of logistic regression, the cost function is called **log loss** or **binary cross-entropy loss**.\n",
        "\n",
        "### Cost Function of Logistic Regression (Log Loss)\n",
        "\n",
        "Given a set of **n** training examples, where each training example consists of input features \\( \\mathbf{X} = (x_1, x_2, \\dots, x_n) \\) and the true target values \\( y_i \\in \\{0, 1\\} \\), the cost function in logistic regression is formulated as follows:\n",
        "\n",
        "\\[\n",
        "J(\\theta) = - \\frac{1}{m} \\sum_{i=1}^{m} \\left[ y^{(i)} \\log(\\hat{y}^{(i)}) + (1 - y^{(i)}) \\log(1 - \\hat{y}^{(i)}) \\right]\n",
        "\\]\n",
        "\n",
        "Where:\n",
        "- \\( J(\\theta) \\) is the **cost function** (also called the **log loss** or **binary cross-entropy**).\n",
        "- \\( m \\) is the total number of training examples.\n",
        "- \\( y^{(i)} \\) is the true class label for the \\( i \\)-th training example (either 0 or 1).\n",
        "- \\( \\hat{y}^{(i)} \\) is the predicted probability that \\( y^{(i)} = 1 \\), i.e., the model's predicted probability for the positive class for the \\( i \\)-th example. This is the output of the **sigmoid function**.\n",
        "\n",
        "The sigmoid function output \\( \\hat{y}^{(i)} \\) is given by:\n",
        "\\[\n",
        "\\hat{y}^{(i)} = \\frac{1}{1 + e^{-\\theta^T x^{(i)}}}\n",
        "\\]\n",
        "Where \\( \\theta^T x^{(i)} \\) is the linear combination of the input features for the \\( i \\)-th example, \\( \\theta \\) is the vector of model parameters (coefficients), and \\( x^{(i)} \\) is the vector of input features.\n",
        "\n",
        "---\n",
        "\n",
        "### Explanation of the Terms in the Cost Function\n",
        "\n",
        "1. **First Term** (\\( y^{(i)} \\log(\\hat{y}^{(i)}) \\)):\n",
        "   - This term is used when the true label \\( y^{(i)} \\) is **1**.\n",
        "   - The cost will be high if the predicted probability \\( \\hat{y}^{(i)} \\) is low for class 1 (i.e., the model is confident that the class is 0 when it should be 1).\n",
        "\n",
        "2. **Second Term** (\\( (1 - y^{(i)}) \\log(1 - \\hat{y}^{(i)}) \\)):\n",
        "   - This term is used when the true label \\( y^{(i)} \\) is **0**.\n",
        "   - The cost will be high if the predicted probability \\( \\hat{y}^{(i)} \\) is high for class 1 (i.e., the model is confident that the class is 1 when it should be 0).\n",
        "\n",
        "### Why This Cost Function?\n",
        "\n",
        "The **log loss** function is used in logistic regression because it encourages the model to output probabilities that are close to the true class labels.\n",
        "\n",
        "- If the model predicts a probability of 1 for an example that is actually class 1, the **log loss** will be very small (close to zero), meaning the model has made a correct and confident prediction.\n",
        "- If the model predicts a probability of 0 for an example that is actually class 1, the **log loss** will be very large, meaning the model has made an incorrect prediction with high confidence.\n",
        "- Similarly, for class 0, the model should predict probabilities close to 0 for class 0, and close to 1 for class 1 to minimize the cost.\n",
        "\n",
        "### Optimization (Minimization)\n",
        "\n",
        "The goal during the training of logistic regression is to find the optimal model parameters \\( \\theta \\) that minimize the **log loss**. This is typically done using **gradient descent** or other optimization algorithms.\n",
        "\n",
        "### Intuition Behind the Cost Function\n",
        "\n",
        "The **log loss** is a **penalization** for incorrect predictions:\n",
        "- The cost function heavily penalizes confident but incorrect predictions, particularly when the model is highly confident in a wrong classification.\n",
        "- The cost is lower for correct predictions, especially when the model is very confident (i.e., the predicted probability is near 0 for class 0, and near 1 for class 1).\n",
        "- The cost is minimized when the model's predictions closely match the true class labels.\n",
        "\n",
        "### Cost Function in Multi-Class Logistic Regression (Softmax Regression)\n",
        "\n",
        "For **multi-class classification** (more than two classes), the cost function becomes a generalization of the binary cross-entropy and is known as **categorical cross-entropy loss**, which uses the **softmax function** instead of the sigmoid function. However, for binary classification tasks, the **binary cross-entropy loss** (log loss) is the standard cost function.\n",
        "\n",
        "### Summary\n",
        "\n",
        "- The **cost function** in logistic regression is the **log loss** (or **binary cross-entropy loss**), which measures the difference between the true labels and the predicted probabilities.\n",
        "- The function penalizes incorrect predictions, especially those made with high confidence, and rewards the model for correct predictions with high confidence.\n",
        "- The objective is to **minimize** this cost function during training to optimize the model parameters (\\( \\theta \\)).\n",
        "\n"
      ],
      "metadata": {
        "id": "fTcSZVrvNjNr"
      }
    },
    {
      "cell_type": "markdown",
      "source": [
        "5. What is Regularization in Logistic Regression? Why is it needed?\n"
      ],
      "metadata": {
        "id": "gqIFHiVbNjKm"
      }
    },
    {
      "cell_type": "markdown",
      "source": [
        "### **What is Regularization in Logistic Regression?**\n",
        "\n",
        "**Regularization** in **Logistic Regression** is a technique used to prevent the model from **overfitting** by adding a penalty term to the cost function. The penalty discourages the model from becoming too complex and helps it generalize better to unseen data.\n",
        "\n",
        "In logistic regression, the **regularization term** is added to the original cost function (log loss) to penalize large values of the model coefficients (\\( \\theta \\)).\n",
        "\n",
        "There are two common types of regularization used in logistic regression:\n",
        "\n",
        "1. **L2 Regularization (Ridge Regularization)**\n",
        "2. **L1 Regularization (Lasso Regularization)**\n",
        "\n",
        "---\n",
        "\n",
        "### **Why is Regularization Needed?**\n",
        "\n",
        "Regularization is needed in logistic regression for the following reasons:\n",
        "\n",
        "#### 1. **Preventing Overfitting**\n",
        "   - **Overfitting** occurs when a model learns the details and noise in the training data to such an extent that it negatively impacts the performance of the model on new data.\n",
        "   - Regularization helps to ensure that the model doesn't become too complex by making the model's coefficients small or zero, which forces the model to learn more general patterns instead of memorizing the training data.\n",
        "   - **Without regularization**, the model may have very large weights (coefficients), which means it's too sensitive to the input data, leading to poor generalization on new or unseen data.\n",
        "\n",
        "#### 2. **Improving Model Generalization**\n",
        "   - Regularization helps to **smooth** the model, preventing it from fitting every fluctuation in the training data.\n",
        "   - It encourages the model to find a balance between fitting the data well and keeping the model simple, leading to better performance on test data (i.e., higher generalization).\n",
        "\n",
        "#### 3. **Handling Multicollinearity**\n",
        "   - **Multicollinearity** happens when two or more features in the dataset are highly correlated. In such cases, the model can have unstable estimates of the coefficients (large fluctuations), making it difficult to interpret.\n",
        "   - Regularization helps to **shrink the coefficients** of correlated features, making the model more stable and reducing the impact of multicollinearity.\n",
        "\n",
        "---\n",
        "\n",
        "### **Types of Regularization**\n",
        "\n",
        "#### 1. **L2 Regularization (Ridge Regression)**\n",
        "\n",
        "L2 regularization adds a penalty term that is proportional to the **square of the magnitude of the coefficients** to the cost function. The cost function with L2 regularization is:\n",
        "\n",
        "\\[\n",
        "J(\\theta) = - \\frac{1}{m} \\sum_{i=1}^{m} \\left[ y^{(i)} \\log(\\hat{y}^{(i)}) + (1 - y^{(i)}) \\log(1 - \\hat{y}^{(i)}) \\right] + \\lambda \\sum_{j=1}^{n} \\theta_j^2\n",
        "\\]\n",
        "\n",
        "Where:\n",
        "- \\( \\lambda \\) is the regularization parameter that controls the strength of the regularization.\n",
        "- \\( \\sum_{j=1}^{n} \\theta_j^2 \\) is the sum of the squares of the model coefficients (excluding the intercept).\n",
        "\n",
        "The **L2 regularization term** penalizes large weights, encouraging the model to keep the weights smaller. This can help the model generalize better and prevent overfitting, especially when the number of features is large.\n",
        "\n",
        "#### 2. **L1 Regularization (Lasso Regression)**\n",
        "\n",
        "L1 regularization adds a penalty term that is proportional to the **absolute value of the coefficients** to the cost function. The cost function with L1 regularization is:\n",
        "\n",
        "\\[\n",
        "J(\\theta) = - \\frac{1}{m} \\sum_{i=1}^{m} \\left[ y^{(i)} \\log(\\hat{y}^{(i)}) + (1 - y^{(i)}) \\log(1 - \\hat{y}^{(i)}) \\right] + \\lambda \\sum_{j=1}^{n} |\\theta_j|\n",
        "\\]\n",
        "\n",
        "Where:\n",
        "- \\( \\lambda \\) is the regularization parameter.\n",
        "- \\( \\sum_{j=1}^{n} |\\theta_j| \\) is the sum of the absolute values of the coefficients.\n",
        "\n",
        "The **L1 regularization** term has the effect of **shrinking some coefficients to exactly zero**, effectively **performing feature selection**. This is useful when dealing with high-dimensional data, as it helps to select the most important features and ignore irrelevant ones.\n",
        "\n",
        "#### 3. **Elastic Net Regularization**\n",
        "\n",
        "Elastic Net is a hybrid of **L1** and **L2 regularization**, and it combines the benefits of both. It is particularly useful when there are many correlated features in the dataset. The cost function with Elastic Net regularization is:\n",
        "\n",
        "\\[\n",
        "J(\\theta) = - \\frac{1}{m} \\sum_{i=1}^{m} \\left[ y^{(i)} \\log(\\hat{y}^{(i)}) + (1 - y^{(i)}) \\log(1 - \\hat{y}^{(i)}) \\right] + \\lambda_1 \\sum_{j=1}^{n} |\\theta_j| + \\lambda_2 \\sum_{j=1}^{n} \\theta_j^2\n",
        "\\]\n",
        "\n",
        "Where:\n",
        "- \\( \\lambda_1 \\) and \\( \\lambda_2 \\) are regularization parameters controlling the strength of L1 and L2 penalties, respectively.\n",
        "\n",
        "Elastic Net is useful when the number of predictors exceeds the number of observations and when there is multicollinearity.\n",
        "\n",
        "---\n",
        "\n",
        "### **How Regularization Works:**\n",
        "\n",
        "1. **Training without Regularization**:\n",
        "   - When you train a logistic regression model **without regularization**, the algorithm tries to minimize the cost function without any constraint on the size of the coefficients. This can lead to **overfitting**, especially when the model is too complex or the dataset is noisy.\n",
        "   \n",
        "2. **Training with Regularization**:\n",
        "   - When you train a logistic regression model **with regularization**, the algorithm minimizes the cost function **plus a penalty term** that discourages large coefficients.\n",
        "   - The penalty discourages the model from giving too much importance to any particular feature, thus preventing the model from overfitting to noise or irrelevant patterns in the data.\n",
        "\n",
        "   - The **strength of the penalty** is controlled by the regularization parameter \\( \\lambda \\):\n",
        "     - A **large value of \\( \\lambda \\)** applies a strong penalty, forcing the coefficients to be very small (more regularization).\n",
        "     - A **small value of \\( \\lambda \\)** applies a weak penalty, making the regularization effect less significant (less regularization).\n",
        "     - If \\( \\lambda = 0 \\), there is no regularization (equivalent to standard logistic regression without regularization).\n",
        "\n",
        "---\n",
        "\n",
        "### **Choosing the Regularization Parameter (λ)**\n",
        "\n",
        "- The regularization parameter \\( \\lambda \\) needs to be chosen carefully because it controls the trade-off between **bias** and **variance**:\n",
        "  - **High \\( \\lambda \\)** (strong regularization): Forces the model to have small coefficients, which may lead to high bias (underfitting).\n",
        "  - **Low \\( \\lambda \\)** (weak regularization): Allows the model to fit the training data more closely, but it may cause overfitting and high variance.\n",
        "\n",
        "- To select the optimal value of \\( \\lambda \\), **cross-validation** is often used. A common approach is to try different values of \\( \\lambda \\) and choose the one that minimizes the **cross-validation error**.\n",
        "\n",
        "---\n",
        "\n",
        "### **Summary: Why is Regularization Needed in Logistic Regression?**\n",
        "\n",
        "- **Prevents Overfitting**: Regularization helps prevent the model from overfitting the training data, especially when the number of features is large.\n",
        "- **Improves Generalization**: By adding a penalty to large coefficients, regularization helps the model generalize better to new, unseen data.\n",
        "- **Feature Selection**: L1 regularization (Lasso) can shrink some coefficients to zero, effectively removing irrelevant features and simplifying the model.\n",
        "- **Stabilizes the Model**: Regularization helps reduce the variance of the model, making it more robust and stable, particularly in the presence of multicollinearity.\n",
        "\n",
        "By using regularization, logistic regression can achieve a better balance between fitting the training data and generalizing to new data, leading to improved performance on test data.\n"
      ],
      "metadata": {
        "id": "xMtD0EEDNjEW"
      }
    },
    {
      "cell_type": "markdown",
      "source": [
        "6. Explain the difference between Lasso, Ridge, and Elastic Net regression.\n",
        "\n"
      ],
      "metadata": {
        "id": "tQv423OANi-S"
      }
    },
    {
      "cell_type": "markdown",
      "source": [
        "Lasso, Ridge, and Elastic Net are three different types of **regularized linear regression models** that are used to prevent overfitting and improve the model’s ability to generalize to new data. They differ primarily in how they penalize the model’s coefficients during training, each with unique characteristics that can be more or less useful depending on the data and the problem at hand.\n",
        "\n",
        "### 1. **Ridge Regression (L2 Regularization)**\n",
        "\n",
        "#### **Definition**:\n",
        "- **Ridge regression** adds a penalty proportional to the **square of the magnitude of the coefficients** (L2 norm) to the cost function.\n",
        "  \n",
        "#### **Cost Function** (with Ridge):\n",
        "\\[\n",
        "J(\\theta) = \\text{MSE} + \\lambda \\sum_{j=1}^{n} \\theta_j^2\n",
        "\\]\n",
        "\n",
        "Where:\n",
        "- \\( \\lambda \\) is the regularization parameter (controls the strength of the penalty).\n",
        "- \\( \\theta_j \\) are the model's coefficients.\n",
        "- **MSE (Mean Squared Error)** is the usual cost function used in linear regression.\n",
        "\n",
        "#### **Key Features**:\n",
        "- **Penalizes large coefficients**: Ridge regression penalizes the square of the coefficients. The larger the coefficients, the greater the penalty, which helps in controlling overfitting.\n",
        "- **All coefficients are shrunk towards zero**: Ridge will not shrink coefficients exactly to zero (i.e., it does not perform feature selection).\n",
        "- **Useful when**: The dataset has many features that contribute to the prediction, but you want to avoid overfitting.\n",
        "\n",
        "#### **When to Use Ridge**:\n",
        "- When all features are expected to contribute to the prediction, or if there is no strong reason to exclude any features.\n",
        "- Ridge is good when there is **multicollinearity** (when features are highly correlated), as it helps stabilize the solution.\n",
        "\n",
        "---\n",
        "\n",
        "### 2. **Lasso Regression (L1 Regularization)**\n",
        "\n",
        "#### **Definition**:\n",
        "- **Lasso regression** adds a penalty proportional to the **absolute value of the coefficients** (L1 norm) to the cost function.\n",
        "  \n",
        "#### **Cost Function** (with Lasso):\n",
        "\\[\n",
        "J(\\theta) = \\text{MSE} + \\lambda \\sum_{j=1}^{n} |\\theta_j|\n",
        "\\]\n",
        "\n",
        "Where:\n",
        "- \\( \\lambda \\) is the regularization parameter (controls the strength of the penalty).\n",
        "- \\( \\theta_j \\) are the model's coefficients.\n",
        "- **MSE (Mean Squared Error)** is the usual cost function used in linear regression.\n",
        "\n",
        "#### **Key Features**:\n",
        "- **Encourages sparsity**: Lasso has the property of **shrinking some coefficients to zero**, effectively performing **feature selection**. This means that Lasso can be used to select a subset of the most important features, making the model simpler and easier to interpret.\n",
        "- **Variable selection**: Lasso can completely eliminate some features by setting their corresponding coefficients to zero, making it particularly useful when you suspect that only a subset of features is important.\n",
        "- **Useful when**: There are many irrelevant features in the dataset that should be excluded.\n",
        "\n",
        "#### **When to Use Lasso**:\n",
        "- When you believe that **only a few features are important**, or you want to automatically select a subset of features.\n",
        "- When you have a high-dimensional dataset (many features), Lasso helps in simplifying the model by reducing the number of features.\n",
        "\n",
        "---\n",
        "\n",
        "### 3. **Elastic Net Regression**\n",
        "\n",
        "#### **Definition**:\n",
        "- **Elastic Net** is a **combination of both Lasso (L1) and Ridge (L2) regularization**. It uses both the absolute and squared coefficients to calculate the penalty term.\n",
        "\n",
        "#### **Cost Function** (with Elastic Net):\n",
        "\\[\n",
        "J(\\theta) = \\text{MSE} + \\lambda_1 \\sum_{j=1}^{n} |\\theta_j| + \\lambda_2 \\sum_{j=1}^{n} \\theta_j^2\n",
        "\\]\n",
        "\n",
        "Where:\n",
        "- \\( \\lambda_1 \\) and \\( \\lambda_2 \\) are the regularization parameters for L1 and L2 regularization, respectively.\n",
        "- **MSE (Mean Squared Error)** is the usual cost function used in linear regression.\n",
        "\n",
        "#### **Key Features**:\n",
        "- **Combines Lasso and Ridge**: Elastic Net introduces the flexibility of using both the **L1** (Lasso) and **L2** (Ridge) penalties. It works well when there are multiple correlated features.\n",
        "- **Tuning Parameters**: Elastic Net has two hyperparameters \\( \\lambda_1 \\) (for L1) and \\( \\lambda_2 \\) (for L2). This allows you to control the balance between Lasso and Ridge regularization.\n",
        "- **Useful when**: You have a dataset with **highly correlated features**. In such cases, Lasso may fail to select one feature from a group of highly correlated features, but Elastic Net can perform better by selecting and shrinking them appropriately.\n",
        "\n",
        "#### **When to Use Elastic Net**:\n",
        "- When the dataset has **high multicollinearity** (many highly correlated features).\n",
        "- When you need to combine the benefits of both Lasso and Ridge regularization.\n",
        "- Elastic Net is a good option when you are unsure whether Lasso or Ridge would be more effective, as it allows you to use both.\n",
        "\n",
        "---\n",
        "\n",
        "### **Comparison Table**\n",
        "\n",
        "| Feature                          | **Ridge Regression**                             | **Lasso Regression**                             | **Elastic Net**                               |\n",
        "|-----------------------------------|--------------------------------------------------|--------------------------------------------------|------------------------------------------------|\n",
        "| **Regularization Type**           | L2 Regularization                               | L1 Regularization                               | Combination of L1 and L2 Regularization       |\n",
        "| **Penalizes**                     | Square of coefficients                          | Absolute value of coefficients                  | Combination of square and absolute values     |\n",
        "| **Feature Selection**             | No, all features are kept                       | Yes, features can be set to zero                | Yes, but allows correlated features to stay   |\n",
        "| **Effect on Coefficients**        | Shrinks coefficients towards zero, but not exactly zero | Shrinks some coefficients to exactly zero      | Shrinks coefficients, some may be exactly zero |\n",
        "| **Suitable for**                  | High-dimensional data with many features        | Data with many irrelevant features              | Data with correlated features                 |\n",
        "| **Handling Multicollinearity**    | Works well with correlated features             | May select one of the correlated features and eliminate others | Performs better with correlated features      |\n",
        "| **Hyperparameters**               | One parameter \\( \\lambda \\) controlling the strength of the penalty | One parameter \\( \\lambda \\) controlling the strength of the penalty | Two parameters: \\( \\lambda_1 \\) (L1) and \\( \\lambda_2 \\) (L2) |\n",
        "| **Interpretability**              | Not as interpretable as Lasso                   | More interpretable due to automatic feature selection | Similar to Ridge and Lasso, with flexibility |\n",
        "\n",
        "---\n",
        "\n",
        "### **When to Use Which?**\n",
        "\n",
        "- **Ridge Regression**: Use Ridge when you have a large number of features and you believe all of them contribute to the prediction, and when you need to address multicollinearity.\n",
        "- **Lasso Regression**: Use Lasso when you suspect that only a small subset of features are important, or when you want to automatically perform feature selection.\n",
        "- **Elastic Net**: Use Elastic Net when you have many correlated features and you're unsure whether to use Lasso or Ridge. Elastic Net combines the benefits of both Lasso and Ridge.\n",
        "\n",
        "---\n",
        "\n",
        "### **Summary**\n",
        "\n",
        "- **Ridge**: Penalizes the squared coefficients; good for datasets with many features and multicollinearity.\n",
        "- **Lasso**: Penalizes the absolute coefficients; performs feature selection by shrinking some coefficients to zero.\n",
        "- **Elastic Net**: A combination of both Lasso and Ridge; works well when you have correlated features and need the flexibility of both regularizations.\n",
        "\n"
      ],
      "metadata": {
        "id": "PWAo5yJHNi7T"
      }
    },
    {
      "cell_type": "markdown",
      "source": [
        "7. When should we use Elastic Net instead of Lasso or Ridge?\n"
      ],
      "metadata": {
        "id": "bcL_kPPXNi2a"
      }
    },
    {
      "cell_type": "markdown",
      "source": [
        "### **When to Use Elastic Net Instead of Lasso or Ridge**\n",
        "\n",
        "Elastic Net is a regularization technique that combines the properties of both **Lasso** (L1 regularization) and **Ridge** (L2 regularization), allowing you to leverage the benefits of both. It is particularly useful when the dataset or problem presents certain characteristics that make Lasso or Ridge individually less effective.\n",
        "\n",
        "Here are some key scenarios when you should use **Elastic Net** instead of **Lasso** or **Ridge**:\n",
        "\n",
        "---\n",
        "\n",
        "### 1. **When There Are Highly Correlated Features**\n",
        "   - **Elastic Net** is especially useful when you have **highly correlated features** in your dataset. In such cases, Lasso might arbitrarily select one feature and eliminate others in the correlated group, which can be problematic when multiple features are equally important. Ridge regression, on the other hand, shrinks coefficients without eliminating any features, but still includes all features in the model.\n",
        "   - **Elastic Net** is able to handle correlations by **shrinking correlated features together** and selecting only one representative from a group of correlated features, making it a good option for such datasets.\n",
        "\n",
        "   **Why Elastic Net?**\n",
        "   - Elastic Net balances the benefits of **Lasso** (which can exclude irrelevant features) and **Ridge** (which handles correlated features well). It retains multiple correlated features but may still zero out irrelevant ones.\n",
        "\n",
        "---\n",
        "\n",
        "### 2. **When the Number of Features Is Greater than the Number of Observations**\n",
        "   - If the number of features (variables) is greater than the number of observations (data points), both **Lasso** and **Ridge** might not perform well on their own. Lasso could select too few features, while Ridge might not perform effective feature selection.\n",
        "   - **Elastic Net** works well in this case because it combines Lasso's feature selection ability and Ridge's stabilization of coefficients, allowing it to select the most important features and prevent overfitting.\n",
        "\n",
        "   **Why Elastic Net?**\n",
        "   - In scenarios where there are a lot of features but relatively fewer observations, Elastic Net can balance regularization and feature selection, leading to better generalization and more stable models.\n",
        "\n",
        "---\n",
        "\n",
        "### 3. **When You Are Unsure Whether to Use Lasso or Ridge**\n",
        "   - Sometimes, it is not clear whether **Lasso** or **Ridge** will work better for a given problem. Elastic Net provides a **flexible approach** that combines both Lasso and Ridge regularization.\n",
        "   - By using Elastic Net, you can take advantage of both types of regularization and fine-tune the balance between L1 and L2 penalties to see which works better for your dataset.\n",
        "\n",
        "   **Why Elastic Net?**\n",
        "   - Elastic Net allows you to **experiment with both L1 and L2 penalties** at the same time. It has two hyperparameters \\( \\lambda_1 \\) and \\( \\lambda_2 \\), so it gives you more control over the trade-off between Lasso and Ridge regularization, and you can adjust it based on your dataset's performance.\n",
        "\n",
        "---\n",
        "\n",
        "### 4. **When You Have Multiple Interactions Among Features**\n",
        "   - If your dataset has **interaction terms** or **complex relationships** between features, **Ridge** might perform better because it tends to shrink coefficients while keeping them all in the model. **Lasso**, however, might select only a few features and exclude others that could be important in the interactions.\n",
        "   - **Elastic Net** performs better when there are both main effects and interaction terms. The combined penalties from L1 and L2 regularization allow it to better capture interactions and complex relationships while still performing feature selection.\n",
        "\n",
        "   **Why Elastic Net?**\n",
        "   - Elastic Net helps capture both individual features and interactions between features, especially in datasets with complex relationships.\n",
        "\n",
        "---\n",
        "\n",
        "### 5. **When You Want the Benefits of Both Feature Selection and Shrinking Coefficients**\n",
        "   - **Lasso** can perform **feature selection** by setting some coefficients to exactly zero, making it useful for sparse models where only a few features are relevant. However, Lasso can behave erratically when features are highly correlated.\n",
        "   - **Ridge** shrinks coefficients but does not perform feature selection. It is useful when all features contribute to the prediction.\n",
        "   - **Elastic Net** offers a **hybrid approach**, performing both **feature selection** (like Lasso) and **shrinkage** (like Ridge). This combination is particularly useful when you want to create simpler models while still retaining important features from correlated groups.\n",
        "\n",
        "   **Why Elastic Net?**\n",
        "   - Elastic Net is a **compromise** that gives you the **sparsity of Lasso** while also benefiting from the **stability of Ridge**. This makes it ideal when you want a balance of feature selection and coefficient shrinkage, especially for data with many features.\n",
        "\n",
        "---\n",
        "\n",
        "### **Summary of When to Use Elastic Net**\n",
        "\n",
        "1. **High Correlation Between Features**: Elastic Net handles multicollinearity better than Lasso and performs better than Ridge when dealing with correlated features.\n",
        "2. **More Features Than Observations**: Elastic Net performs well when the number of features exceeds the number of observations, preventing overfitting.\n",
        "3. **Uncertainty Between Lasso and Ridge**: If you’re unsure whether to use Lasso or Ridge, Elastic Net allows you to use both regularizations and find the best combination.\n",
        "4. **Interaction Effects**: Elastic Net is useful when you have both main effects and interaction terms among features.\n",
        "5. **Desire for Feature Selection and Shrinkage**: Elastic Net provides both feature selection (like Lasso) and coefficient shrinkage (like Ridge), offering a more balanced approach.\n",
        "\n",
        "---\n",
        "\n",
        "### **Key Advantages of Elastic Net Over Lasso and Ridge**\n",
        "- **Combines the strengths of Lasso and Ridge**: Elastic Net provides a balance between **feature selection** and **shrinkage**, allowing it to work effectively in a wider range of scenarios.\n",
        "- **More robust for correlated features**: It stabilizes Lasso’s tendency to pick one feature from a group of correlated features by grouping them together.\n",
        "- **Better generalization**: Elastic Net can provide better generalization in cases where Lasso or Ridge alone might fail, especially in high-dimensional, correlated datasets.\n",
        "\n",
        "---\n",
        "\n",
        "In conclusion, **Elastic Net** is a versatile regularization technique that is **particularly useful when dealing with correlated features, high-dimensional data, or when you are unsure whether to use Lasso or Ridge**. It combines the best of both worlds and can improve model performance and stability in such situations."
      ],
      "metadata": {
        "id": "H0v0O-jnPjLM"
      }
    },
    {
      "cell_type": "markdown",
      "source": [
        "8. What is the impact of the regularization parameter (1) in Logistic Regression?"
      ],
      "metadata": {
        "id": "i3jHiPwaRWAl"
      }
    },
    {
      "cell_type": "code",
      "source": [
        "The **regularization parameter** (denoted as \\( \\lambda \\) or \\( C \\), depending on the specific implementation) in **Logistic Regression** plays a crucial role in controlling the **complexity of the model** and helps in **preventing overfitting**. It does this by penalizing the size of the coefficients, which can have a significant impact on the model’s behavior, performance, and interpretability.\n",
        "\n",
        "### **Impact of the Regularization Parameter (λ or C)**\n",
        "\n",
        "In **Logistic Regression**, the regularization term is added to the cost function (or loss function). The regularization parameter controls how much penalty is applied to the model’s coefficients. Let's break it down based on whether you are using **L1 regularization** (Lasso) or **L2 regularization** (Ridge):\n",
        "\n",
        "---\n",
        "\n",
        "### 1. **Regularization in Logistic Regression**:\n",
        "\n",
        "The **cost function** for logistic regression with regularization looks like this:\n",
        "\n",
        "\\[\n",
        "J(\\theta) = -\\frac{1}{m} \\sum_{i=1}^{m} \\left( y^{(i)} \\log(h_\\theta(x^{(i)})) + (1 - y^{(i)}) \\log(1 - h_\\theta(x^{(i)})) \\right) + \\lambda \\cdot \\text{Penalty}\n",
        "\\]\n",
        "\n",
        "Where:\n",
        "- \\( m \\) is the number of training examples.\n",
        "- \\( h_\\theta(x) \\) is the logistic regression hypothesis (predicted probability).\n",
        "- \\( \\lambda \\) is the regularization parameter that controls the strength of the regularization.\n",
        "- The **penalty term** depends on the type of regularization (L1 or L2).\n",
        "\n",
        "#### L1 Regularization (Lasso):\n",
        "For L1 regularization, the penalty term is:\n",
        "\n",
        "\\[\n",
        "\\lambda \\sum_{j=1}^{n} |\\theta_j|\n",
        "\\]\n",
        "\n",
        "#### L2 Regularization (Ridge):\n",
        "For L2 regularization, the penalty term is:\n",
        "\n",
        "\\[\n",
        "\\lambda \\sum_{j=1}^{n} \\theta_j^2\n",
        "\\]\n",
        "\n",
        "---\n",
        "\n",
        "### 2. **Effects of the Regularization Parameter (\\( \\lambda \\) or \\( C \\))**:\n",
        "\n",
        "#### **Increasing \\( \\lambda \\) (Strong Regularization)**:\n",
        "- **Larger penalty on coefficients**: As \\( \\lambda \\) increases, the model is penalized more heavily for large coefficients. This forces the model to produce smaller coefficients (shrinking them toward zero).\n",
        "- **More Regularization**: With larger values of \\( \\lambda \\), the model becomes **simpler** and **less flexible**. It may underfit the data, meaning it might not capture important patterns in the data because it is overly constrained.\n",
        "- **Sparsity (in the case of L1)**: For **L1 regularization**, increasing \\( \\lambda \\) can cause more coefficients to be shrunk to zero, effectively removing some features entirely from the model.\n",
        "- **Smaller \\( R^2 \\) on Training Data**: The model might have a lower \\( R^2 \\) (or a higher error) on the training data because it is overly constrained, but this can result in better generalization on unseen data.\n",
        "\n",
        "#### **Decreasing \\( \\lambda \\) (Weak Regularization)**:\n",
        "- **Smaller penalty on coefficients**: As \\( \\lambda \\) decreases, the penalty on the coefficients becomes weaker, allowing them to take larger values.\n",
        "- **Less Regularization**: With smaller values of \\( \\lambda \\), the model can fit the data more closely, which can lead to **overfitting** if the model is too complex (i.e., it memorizes noise in the data instead of generalizing to new, unseen data).\n",
        "- **More Flexibility**: The model is free to take any values for the coefficients, which could allow it to fit the training data very well. However, this may result in poor performance on the test set because the model has learned noise from the training data.\n",
        "- **Higher \\( R^2 \\) on Training Data**: The model will have a higher \\( R^2 \\) (or a lower error) on the training data because it fits the data more closely, but it will likely perform poorly on new data (test set) due to overfitting.\n",
        "\n",
        "#### **Interpretation of Regularization Parameter \\( C \\)**:\n",
        "- In **scikit-learn**, the regularization parameter is often denoted as **\\( C \\)**, which is the **inverse of \\( \\lambda \\)**. This means:\n",
        "  - **Higher \\( C \\)** = **weaker regularization** (similar to decreasing \\( \\lambda \\)).\n",
        "  - **Lower \\( C \\)** = **stronger regularization** (similar to increasing \\( \\lambda \\)).\n",
        "\n",
        "---\n",
        "\n",
        "### **Effect on Model Behavior**:\n",
        "\n",
        "#### **1. Underfitting vs. Overfitting**:\n",
        "- **High \\( \\lambda \\) or low \\( C \\)**:\n",
        "  - The model will likely **underfit** the data because it is too constrained by the regularization.\n",
        "  - It may not capture complex patterns in the data.\n",
        "  - It generally has **lower variance** but **higher bias**.\n",
        "\n",
        "- **Low \\( \\lambda \\) or high \\( C \\)**:\n",
        "  - The model may **overfit** the data because it is allowed to fit the training data too closely.\n",
        "  - It will have **lower bias** but **higher variance**.\n",
        "\n",
        "The goal is to find an optimal balance by tuning \\( \\lambda \\) (or \\( C \\)) so that the model neither overfits nor underfits the data. This is typically done through **cross-validation**.\n",
        "\n",
        "#### **2. Feature Selection (Lasso Regularization)**:\n",
        "- **L1 Regularization (Lasso)** allows some coefficients to be **shrunk to exactly zero**.\n",
        "  - **High \\( \\lambda \\)** can cause more coefficients to become exactly zero, which helps in **feature selection** by excluding irrelevant or redundant features.\n",
        "  - **Low \\( \\lambda \\)** will not shrink coefficients to zero, and all features will contribute to the model.\n",
        "\n",
        "#### **3. Stability of Coefficients (Ridge Regularization)**:\n",
        "- **L2 Regularization (Ridge)** does not set coefficients to exactly zero, but it **shrinks them** towards zero, which can make the model more stable and less sensitive to small changes in the data.\n",
        "  - **High \\( \\lambda \\)** will shrink all coefficients toward zero, making the model less complex and reducing the chance of overfitting.\n",
        "  - **Low \\( \\lambda \\)** allows coefficients to take large values, increasing the complexity of the model.\n",
        "\n",
        "---\n",
        "\n",
        "### **Conclusion:**\n",
        "\n",
        "The **regularization parameter** \\( \\lambda \\) (or \\( C \\)) in Logistic Regression determines how much regularization is applied to the model. The key impact of this parameter is:\n",
        "- **Higher \\( \\lambda \\)** (or **lower \\( C \\)**) results in **stronger regularization**, which shrinks the coefficients toward zero and reduces overfitting, but may lead to underfitting if set too high.\n",
        "- **Lower \\( \\lambda \\)** (or **higher \\( C \\)**) results in **weaker regularization**, which allows the model to fit the training data more closely but may lead to overfitting if set too low.\n",
        "\n",
        "Finding the optimal value of \\( \\lambda \\) (or \\( C \\)) is crucial for building a well-generalized model that performs well on both training and test data. This is typically achieved through **cross-validation**."
      ],
      "metadata": {
        "id": "btsQhbo1RWiv"
      },
      "execution_count": null,
      "outputs": []
    },
    {
      "cell_type": "markdown",
      "source": [
        "9. What are the key assumptions of Logistic Regression?"
      ],
      "metadata": {
        "id": "6qIULYJWRW6C"
      }
    },
    {
      "cell_type": "code",
      "source": [
        "### Key Assumptions of Logistic Regression\n",
        "\n",
        "**Logistic Regression** is a popular algorithm used for binary classification problems. While it is a flexible and widely-used model, it still comes with certain assumptions that need to be considered for optimal performance. Here are the key assumptions of logistic regression:\n",
        "\n",
        "---\n",
        "\n",
        "### 1. **Linearity of the Logit (Log-Odds)**\n",
        "   - Logistic regression assumes that there is a **linear relationship** between the independent variables (predictors) and the **logit** (log-odds) of the dependent variable.\n",
        "   - The logit is the natural logarithm of the odds ratio, and this relationship can be expressed as:\n",
        "     \\[\n",
        "     \\log\\left(\\frac{P(y=1)}{1 - P(y=1)}\\right) = \\beta_0 + \\beta_1 X_1 + \\beta_2 X_2 + \\dots + \\beta_n X_n\n",
        "     \\]\n",
        "     Where:\n",
        "     - \\( P(y=1) \\) is the probability of the event occurring.\n",
        "     - \\( X_1, X_2, \\dots, X_n \\) are the independent variables.\n",
        "     - \\( \\beta_0, \\beta_1, \\dots, \\beta_n \\) are the model parameters.\n",
        "   - This assumption means that the relationship between the **predictors** and the **log-odds** of the target is linear, but not necessarily the target variable itself. It allows logistic regression to model a binary outcome based on linear combinations of predictors.\n",
        "\n",
        "---\n",
        "\n",
        "### 2. **Independence of Observations**\n",
        "   - The **observations** in the dataset must be **independent** of each other. This means that there should be no correlation between the data points.\n",
        "   - Logistic regression does not work well when there are **correlated observations**. For example, in a time-series problem or hierarchical data (such as repeated measurements from the same individuals), the assumption of independence may be violated.\n",
        "   - If independence is violated, techniques like **Generalized Estimating Equations (GEE)** or **Mixed-effects models** may be more appropriate.\n",
        "\n",
        "---\n",
        "\n",
        "### 3. **No or Little Multicollinearity**\n",
        "   - Logistic regression assumes that the independent variables are **not highly correlated** with each other, i.e., **multicollinearity** should be minimal.\n",
        "   - High multicollinearity means that one predictor can be linearly predicted from the others with high accuracy, leading to **unstable estimates** of the regression coefficients. This can make the model difficult to interpret and may lead to inflated standard errors.\n",
        "   - You can check for multicollinearity using the **Variance Inflation Factor (VIF)** or **Correlation Matrix**.\n",
        "\n",
        "---\n",
        "\n",
        "### 4. **No Perfect Separation**\n",
        "   - Logistic regression assumes that there is **no perfect separation** between the classes.\n",
        "   - **Perfect separation** occurs when the predictor variables completely separate the classes (e.g., all observations of class 1 have a value of \\( X_1 > 10 \\), and all observations of class 0 have \\( X_1 < 10 \\)). In this case, the model will fail to converge or provide misleading results because the maximum likelihood estimates are undefined or infinite.\n",
        "   - This assumption can be tested by checking the model's convergence behavior during fitting.\n",
        "\n",
        "---\n",
        "\n",
        "### 5. **Large Sample Size**\n",
        "   - Logistic regression performs best with a **large sample size** to produce reliable and stable estimates. In cases where the sample size is small, the model may overfit or fail to converge.\n",
        "   - In general, logistic regression is considered to be **reliable** if the number of observations is at least **10 times the number of predictor variables** (this is a rule of thumb). The larger the sample size, the more reliable the estimates of the regression coefficients.\n",
        "\n",
        "---\n",
        "\n",
        "### 6. **No Extreme Outliers**\n",
        "   - Logistic regression assumes that there are **no extreme outliers** in the predictor variables that can heavily influence the model's parameters.\n",
        "   - While logistic regression is not as sensitive to outliers as linear regression, extreme outliers can still distort the relationship between the predictors and the outcome variable, leading to inaccurate predictions.\n",
        "   - Outliers can be detected using **box plots** or **Z-scores** and can be treated by removing or transforming the data.\n",
        "\n",
        "---\n",
        "\n",
        "### 7. **Homoscedasticity of Errors**\n",
        "   - While logistic regression does not have a strict assumption of **homoscedasticity** (constant variance of residuals) like linear regression, the **errors should be independent and identically distributed (i.i.d.)**.\n",
        "   - This means that the model’s errors should not depend on the predictor values and should follow a distribution similar across all observations.\n",
        "   - In practice, this assumption is less critical for logistic regression than for linear regression, but deviations can still affect the model's performance.\n",
        "\n",
        "---\n",
        "\n",
        "### 8. **Binary Outcome**\n",
        "   - Logistic regression is a **binary classification algorithm** and assumes that the dependent variable is **binary** (i.e., it has only two possible outcomes: 0 and 1, True and False, etc.).\n",
        "   - For problems with more than two classes, you would need to use **multinomial logistic regression** or **other methods** designed for multiclass classification.\n",
        "\n",
        "---\n",
        "\n",
        "### **Summary of Key Assumptions**:\n",
        "1. **Linearity of the Logit**: The relationship between predictors and the log-odds is linear.\n",
        "2. **Independence of Observations**: Data points must be independent of each other.\n",
        "3. **No or Little Multicollinearity**: Predictors should not be highly correlated.\n",
        "4. **No Perfect Separation**: There should be no perfect separation of classes based on predictor variables.\n",
        "5. **Large Sample Size**: Logistic regression works best with a sufficiently large sample size.\n",
        "6. **No Extreme Outliers**: Outliers can distort model coefficients.\n",
        "7. **Homoscedasticity of Errors**: Residuals should have constant variance and be independent.\n",
        "8. **Binary Outcome**: The target variable should be binary for standard logistic regression.\n",
        "\n",
        "---\n",
        "\n",
        "These assumptions are important to keep in mind when fitting a logistic regression model. If any of the assumptions are violated, it can lead to biased estimates, poor model performance, or incorrect inferences. In such cases, techniques like **regularization**, **transformations**, or using different models (e.g., **multinomial logistic regression** for multiclass problems) may be needed."
      ],
      "metadata": {
        "id": "CJ_GPs6fRXS3"
      },
      "execution_count": null,
      "outputs": []
    },
    {
      "cell_type": "markdown",
      "source": [
        "10. What are some alternatives to Logistic Regression for classification tasks?\n"
      ],
      "metadata": {
        "id": "eAjR2VVcSBu5"
      }
    },
    {
      "cell_type": "markdown",
      "source": [
        "Great question! While **Logistic Regression** is a strong baseline for binary classification tasks—simple, interpretable, and efficient—it may not always be the best choice, especially when the data is non-linear or high-dimensional. Here are some powerful **alternatives to Logistic Regression** for classification tasks:\n",
        "\n",
        "---\n",
        "\n",
        "### 🔁 **1. Decision Trees**\n",
        "- **Pros**: Easy to interpret, handles both numerical and categorical data, captures non-linear relationships.\n",
        "- **Cons**: Prone to overfitting.\n",
        "- **Best For**: Situations where model interpretability is crucial.\n",
        "\n",
        "---\n",
        "\n",
        "### 🐘 **2. Random Forest**\n",
        "- **Type**: Ensemble of Decision Trees (Bagging).\n",
        "- **Pros**: Reduces overfitting, handles large datasets and high dimensionality well.\n",
        "- **Cons**: Less interpretable than a single tree.\n",
        "- **Best For**: Most general-purpose classification problems.\n",
        "\n",
        "---\n",
        "\n",
        "### 💡 **3. Gradient Boosting Machines (e.g., XGBoost, LightGBM, CatBoost)**\n",
        "- **Type**: Ensemble method using boosting.\n",
        "- **Pros**: Highly accurate, handles missing data, supports categorical features.\n",
        "- **Cons**: Can be slow to train, hyperparameter tuning needed.\n",
        "- **Best For**: Complex datasets where accuracy is more important than interpretability.\n",
        "\n",
        "---\n",
        "\n",
        "### 📈 **4. Support Vector Machines (SVM)**\n",
        "- **Pros**: Effective in high-dimensional spaces, good with non-linear decision boundaries (using kernel trick).\n",
        "- **Cons**: Computationally intensive with large datasets, hard to interpret.\n",
        "- **Best For**: Small to medium datasets, especially when margin separation is crucial.\n",
        "\n",
        "---\n",
        "\n",
        "### 🧠 **5. Neural Networks (Deep Learning)**\n",
        "- **Pros**: Can model highly complex relationships, works well with large datasets.\n",
        "- **Cons**: Requires a lot of data, less interpretable, longer training time.\n",
        "- **Best For**: Image, text, speech, or other unstructured data.\n",
        "\n",
        "---\n",
        "\n",
        "### 🧮 **6. K-Nearest Neighbors (KNN)**\n",
        "- **Pros**: Simple, no training phase, works well when the decision boundary is irregular.\n",
        "- **Cons**: Slow prediction with large datasets, sensitive to irrelevant features and feature scaling.\n",
        "- **Best For**: Simple problems, low-dimensional data.\n",
        "\n",
        "---\n",
        "\n",
        "### 🎲 **7. Naive Bayes**\n",
        "- **Pros**: Very fast, works well with text (e.g., spam detection), handles high-dimensional data.\n",
        "- **Cons**: Assumes feature independence (rarely true), not good with highly correlated features.\n",
        "- **Best For**: Text classification, document categorization.\n",
        "\n",
        "---\n",
        "\n",
        "### 🧮 **8. Linear Discriminant Analysis (LDA)**\n",
        "- **Pros**: Works well when classes are normally distributed and have equal covariance.\n",
        "- **Cons**: Assumptions can be limiting, less flexible than non-linear models.\n",
        "- **Best For**: Situations where data meets LDA assumptions.\n",
        "\n",
        "---\n",
        "\n",
        "### 🧪 Bonus: **Rule-Based Classifiers**\n",
        "- Good for expert systems or decision-making with interpretable rules.\n",
        "\n",
        "---\n",
        "\n",
        "### ✅ **When to Use Logistic Regression**\n",
        "- When you need a **quick baseline**.\n",
        "- When **interpretability** matters.\n",
        "- When the relationship between features and outcome is **approximately linear**.\n",
        "- When you’re working with **binary classification** and **moderate-size data**.\n",
        "\n"
      ],
      "metadata": {
        "id": "MR56IBK8SCQf"
      }
    },
    {
      "cell_type": "markdown",
      "source": [
        "11. What are Classification Evaluation Metrics?\n"
      ],
      "metadata": {
        "id": "MoETiiUVSTPQ"
      }
    },
    {
      "cell_type": "markdown",
      "source": [
        "Great question! When you're working with **classification problems**, evaluating your model's performance correctly is essential. Here’s a breakdown of the most important **Classification Evaluation Metrics** you should know:\n",
        "\n",
        "---\n",
        "\n",
        "## 🔍 **1. Accuracy**\n",
        "- **Definition**: The proportion of correctly classified samples.\n",
        "- **Formula**:\n",
        "  \\[\n",
        "  \\text{Accuracy} = \\frac{\\text{TP} + \\text{TN}}{\\text{TP} + \\text{TN} + \\text{FP} + \\text{FN}}\n",
        "  \\]\n",
        "- **Best When**: Classes are **balanced**.\n",
        "- **Caution**: Can be **misleading** with **imbalanced datasets** (e.g., 95% accuracy when model predicts only the majority class).\n",
        "\n",
        "---\n",
        "\n",
        "## ✅ **2. Precision (Positive Predictive Value)**\n",
        "- **Definition**: Out of all predicted positives, how many were actually positive?\n",
        "- **Formula**:\n",
        "  \\[\n",
        "  \\text{Precision} = \\frac{\\text{TP}}{\\text{TP} + \\text{FP}}\n",
        "  \\]\n",
        "- **Best When**: The **cost of false positives** is high (e.g., spam detection).\n",
        "\n",
        "---\n",
        "\n",
        "## 🎯 **3. Recall (Sensitivity / True Positive Rate)**\n",
        "- **Definition**: Out of all actual positives, how many were correctly identified?\n",
        "- **Formula**:\n",
        "  \\[\n",
        "  \\text{Recall} = \\frac{\\text{TP}}{\\text{TP} + \\text{FN}}\n",
        "  \\]\n",
        "- **Best When**: The **cost of false negatives** is high (e.g., cancer detection).\n",
        "\n",
        "---\n",
        "\n",
        "## ⚖️ **4. F1 Score**\n",
        "- **Definition**: The harmonic mean of precision and recall.\n",
        "- **Formula**:\n",
        "  \\[\n",
        "  \\text{F1 Score} = 2 \\cdot \\frac{\\text{Precision} \\cdot \\text{Recall}}{\\text{Precision} + \\text{Recall}}\n",
        "  \\]\n",
        "- **Best When**: You need a balance between **precision and recall**, especially with **imbalanced data**.\n",
        "\n",
        "---\n",
        "\n",
        "## 📊 **5. Confusion Matrix**\n",
        "- **Definition**: A table showing TP, FP, FN, TN counts.\n",
        "- **Gives insight into**: Types of classification errors.\n",
        "\n",
        "|                | Predicted Positive | Predicted Negative |\n",
        "|----------------|--------------------|--------------------|\n",
        "| **Actual Positive** | TP (True Positive)     | FN (False Negative)    |\n",
        "| **Actual Negative** | FP (False Positive)    | TN (True Negative)     |\n",
        "\n",
        "---\n",
        "\n",
        "## 📈 **6. ROC Curve (Receiver Operating Characteristic Curve)**\n",
        "- **Plot**: True Positive Rate (Recall) vs. False Positive Rate.\n",
        "- **Used For**: Visualizing the **trade-off** between sensitivity and specificity.\n",
        "\n",
        "---\n",
        "\n",
        "## 🌈 **7. AUC (Area Under the ROC Curve)**\n",
        "- **Definition**: Measures overall performance across all classification thresholds.\n",
        "- **Range**: 0.5 (no discrimination) to 1.0 (perfect classifier).\n",
        "- **Higher is better**.\n",
        "\n",
        "---\n",
        "\n",
        "## 📊 **8. Log Loss (Logarithmic Loss)**\n",
        "- **Used When**: Your model outputs **probabilities**.\n",
        "- **Penalizes**: Wrong confident predictions heavily.\n",
        "- **Formula**:\n",
        "  \\[\n",
        "  -\\frac{1}{n} \\sum_{i=1}^{n} [y_i \\log(\\hat{y}_i) + (1 - y_i) \\log(1 - \\hat{y}_i)]\n",
        "  \\]\n",
        "\n",
        "---\n",
        "\n",
        "## 🔄 **9. Matthews Correlation Coefficient (MCC)**\n",
        "- **Definition**: Takes into account TP, TN, FP, FN and is a good measure for imbalanced data.\n",
        "- **Range**: -1 to +1 (1 = perfect, 0 = random, -1 = total disagreement).\n",
        "\n",
        "---\n",
        "\n",
        "## 🧠 Summary Table\n",
        "\n",
        "| Metric     | Best For                            |\n",
        "|------------|-------------------------------------|\n",
        "| Accuracy   | Balanced datasets                   |\n",
        "| Precision  | Minimizing false positives          |\n",
        "| Recall     | Minimizing false negatives          |\n",
        "| F1 Score   | Trade-off between precision/recall  |\n",
        "| ROC-AUC    | Comparing classifiers               |\n",
        "| Log Loss   | Probability-based predictions       |\n",
        "| MCC        | Imbalanced data                     |\n",
        "\n",
        "---\n",
        "\n"
      ],
      "metadata": {
        "id": "DaInm-BSSabP"
      }
    },
    {
      "cell_type": "markdown",
      "source": [
        "12. How does class imbalance affect Logistic Regression?"
      ],
      "metadata": {
        "id": "62JRqFLFSkPY"
      }
    },
    {
      "cell_type": "markdown",
      "source": [
        "Class imbalance can **significantly impact the performance** of logistic regression and other classification models. Here's a breakdown of how and why it matters:\n",
        "\n",
        "---\n",
        "\n",
        "### ⚖️ What Is Class Imbalance?\n",
        "\n",
        "Class imbalance occurs when one class (e.g., \"positive\") appears much less frequently than the other (e.g., \"negative\") in the dataset.\n",
        "\n",
        "For example:  \n",
        "- **90% negative**, 10% positive  \n",
        "- Fraud detection, disease diagnosis, spam filtering — all common imbalanced problems\n",
        "\n",
        "---\n",
        "\n",
        "### 🚨 How It Affects Logistic Regression\n",
        "\n",
        "#### 1. **Bias Toward the Majority Class**\n",
        "- Logistic regression aims to **minimize overall error**, so it learns to favor the **majority class**.\n",
        "- It may **predict the majority class for almost all inputs** to maximize accuracy.\n",
        "- This leads to **high accuracy but poor recall** for the minority class.\n",
        "\n",
        "> Example: If 95% of your samples are class 0, the model could predict class 0 every time and still be 95% accurate — but useless for identifying class 1.\n",
        "\n",
        "---\n",
        "\n",
        "#### 2. **Poor Decision Boundary**\n",
        "- With imbalance, the model’s decision boundary may **shift toward the minority class**, misclassifying it more often.\n",
        "- The probability threshold (usually 0.5) may not be optimal — you might need to **adjust it** to improve performance on the minority class.\n",
        "\n",
        "---\n",
        "\n",
        "#### 3. **Misleading Metrics**\n",
        "- **Accuracy** becomes misleading with imbalanced data.\n",
        "- You need to use metrics like:\n",
        "  - **Precision**\n",
        "  - **Recall**\n",
        "  - **F1-score**\n",
        "  - **ROC AUC**\n",
        "  - **Confusion matrix**\n",
        "\n",
        "---\n",
        "\n",
        "### 🧰 How to Handle Class Imbalance in Logistic Regression\n",
        "\n",
        "#### ✅ **1. Use Better Evaluation Metrics**\n",
        "- Focus on **precision**, **recall**, **F1-score**, and **AUC** rather than just accuracy.\n",
        "\n",
        "#### ⚖️ **2. Resample the Dataset**\n",
        "- **Oversampling** the minority class (e.g., SMOTE)\n",
        "- **Undersampling** the majority class\n",
        "- Combine both (hybrid methods)\n",
        "\n",
        "#### 🔧 **3. Adjust Class Weights**\n",
        "- In `scikit-learn`, use:\n",
        "  ```python\n",
        "  LogisticRegression(class_weight='balanced')\n",
        "  ```\n",
        "  This automatically assigns weights inversely proportional to class frequencies.\n",
        "\n",
        "#### 📉 **4. Threshold Tuning**\n",
        "- Adjust the **probability threshold** (from 0.5) to something that balances precision and recall better for the minority class.\n",
        "\n",
        "#### 🧠 **5. Use Ensemble Methods**\n",
        "- Combine logistic regression with **ensemble techniques** like Bagging or Boosting to help model rare cases more effectively.\n",
        "\n",
        "---\n",
        "\n",
        "### ✅ Quick Example (Scikit-Learn)\n",
        "```python\n",
        "from sklearn.linear_model import LogisticRegression\n",
        "model = LogisticRegression(class_weight='balanced')\n",
        "model.fit(X_train, y_train)\n",
        "```\n",
        "\n",
        "---\n",
        "\n",
        "### 🧠 TL;DR\n",
        "- Class imbalance **hurts logistic regression** by making it biased toward the majority class.\n",
        "- Don't rely on accuracy.\n",
        "- Use **resampling**, **class weights**, and **better metrics** to address the issue.\n",
        "\n"
      ],
      "metadata": {
        "id": "_K775blSSk47"
      }
    },
    {
      "cell_type": "markdown",
      "source": [
        "13. What is Hyperparameter Tuning in Logistic Regression?\n"
      ],
      "metadata": {
        "id": "19rrCHJSSlWh"
      }
    },
    {
      "cell_type": "markdown",
      "source": [
        "Awesome question! Let’s break it down. 🔧\n",
        "\n",
        "---\n",
        "\n",
        "## 🎛️ What is **Hyperparameter Tuning** in Logistic Regression?\n",
        "\n",
        "**Hyperparameter tuning** is the process of finding the **best set of parameters** for a machine learning model that aren’t learned from the data, but instead are **set before training**.\n",
        "\n",
        "In **logistic regression**, there are several such **hyperparameters** (like `C`, `penalty`, etc.) that you can tweak to improve performance.\n",
        "\n",
        "---\n",
        "\n",
        "## 🧠 Why Tune Hyperparameters?\n",
        "\n",
        "Because the default settings may not be optimal for your dataset.\n",
        "\n",
        "Tuning helps:\n",
        "- Boost model accuracy or AUC\n",
        "- Prevent overfitting or underfitting\n",
        "- Improve generalization\n",
        "\n",
        "---\n",
        "\n",
        "## ⚙️ Common Hyperparameters in Logistic Regression (Scikit-Learn)\n",
        "\n",
        "| Hyperparameter | Description | Effect |\n",
        "|----------------|-------------|--------|\n",
        "| `C` | Inverse of regularization strength | Lower values = stronger regularization |\n",
        "| `penalty` | Type of regularization (`'l1'`, `'l2'`, `'elasticnet'`, `'none'`) | Controls how complexity is penalized |\n",
        "| `solver` | Algorithm to use (`'liblinear'`, `'saga'`, `'lbfgs'`, etc.) | Needed for certain penalties |\n",
        "| `max_iter` | Max number of iterations for convergence | May need to increase for large data |\n",
        "| `class_weight` | Weight balance for classes | Helps with class imbalance |\n",
        "\n",
        "---\n",
        "\n",
        "## 🔍 Example: Hyperparameter Tuning Using Grid Search\n",
        "\n",
        "```python\n",
        "from sklearn.linear_model import LogisticRegression\n",
        "from sklearn.model_selection import GridSearchCV\n",
        "\n",
        "# Define parameter grid\n",
        "param_grid = {\n",
        "    'C': [0.01, 0.1, 1, 10],\n",
        "    'penalty': ['l1', 'l2'],\n",
        "    'solver': ['liblinear']  # supports both l1 and l2\n",
        "}\n",
        "\n",
        "# Initialize model\n",
        "logreg = LogisticRegression()\n",
        "\n",
        "# Grid search with 5-fold cross-validation\n",
        "grid = GridSearchCV(logreg, param_grid, cv=5, scoring='accuracy')\n",
        "grid.fit(X_train, y_train)\n",
        "\n",
        "# Best parameters\n",
        "print(\"Best Hyperparameters:\", grid.best_params_)\n",
        "print(\"Best Score:\", grid.best_score_)\n",
        "```\n",
        "\n",
        "\n",
        "\n"
      ],
      "metadata": {
        "id": "Fyvg34wUS6st"
      }
    },
    {
      "cell_type": "markdown",
      "source": [
        "## 🧪 Other Tuning Methods\n",
        "- **RandomizedSearchCV**: Tries random combinations (faster for big grids)\n",
        "- **Bayesian optimization**, **Optuna**, or **Hyperopt**: Smarter search strategies\n",
        "\n",
        "---\n",
        "\n",
        "## 🔑 Summary\n",
        "\n",
        "- **Hyperparameter tuning** in logistic regression helps you control **regularization**, **solver behavior**, and more.\n",
        "- It boosts performance and generalization.\n",
        "- You can use tools like **GridSearchCV** or **RandomizedSearchCV** to find the best settings"
      ],
      "metadata": {
        "id": "bxxX299hTOtK"
      }
    },
    {
      "cell_type": "markdown",
      "source": [
        "14. What are different solvers in Logistic Regression? Which one should be used?\n"
      ],
      "metadata": {
        "id": "GJ-0P51MTHj8"
      }
    },
    {
      "cell_type": "markdown",
      "source": [
        "Great question! The **solver** in logistic regression is the algorithm that optimizes the model's cost function to find the best coefficients. Different solvers have different strengths depending on the size of your data, sparsity, and type of regularization.\n",
        "\n",
        "Let’s break them down:\n",
        "\n",
        "---\n",
        "\n",
        "## 🧠 **Solvers in Logistic Regression (Scikit-learn)**\n",
        "\n",
        "### 1. **liblinear**\n",
        "- **Type**: Coordinate descent algorithm.\n",
        "- **Supports**: `L1` and `L2` penalties.\n",
        "- **Best For**:\n",
        "  - Small to medium datasets\n",
        "  - Sparse data\n",
        "- **Limitations**:\n",
        "  - Doesn’t support multinomial classification (`multi_class='multinomial'`)\n",
        "\n",
        "---\n",
        "\n",
        "### 2. **lbfgs** *(Limited-memory BFGS)*\n",
        "- **Type**: Quasi-Newton method.\n",
        "- **Supports**: Only `L2` penalty.\n",
        "- **Best For**:\n",
        "  - Large datasets\n",
        "  - Multiclass classification (`multi_class='multinomial'`)\n",
        "- **Default solver in scikit-learn** (as of newer versions)\n",
        "\n",
        "---\n",
        "\n",
        "### 3. **saga**\n",
        "- **Type**: Variant of `sag`, supports **sparse data** and **L1**, **L2**, and **elasticnet** regularization.\n",
        "- **Supports**:\n",
        "  - `L1`, `L2`, `elasticnet`\n",
        "  - Both binary and multinomial problems\n",
        "- **Best For**:\n",
        "  - Large datasets\n",
        "  - Sparse data\n",
        "  - Use with `elasticnet` penalty\n",
        "\n",
        "---\n",
        "\n",
        "### 4. **newton-cg**\n",
        "- **Type**: Newton’s method with conjugate gradient.\n",
        "- **Supports**: Only `L2` penalty.\n",
        "- **Best For**:\n",
        "  - Multiclass problems\n",
        "  - Larger datasets\n",
        "- **Slower** than `lbfgs` in many cases.\n",
        "\n",
        "---\n",
        "\n",
        "### 5. **sag** *(Stochastic Average Gradient)*\n",
        "- **Type**: Variant of SGD.\n",
        "- **Supports**: Only `L2` penalty.\n",
        "- **Best For**:\n",
        "  - Very large datasets\n",
        "  - Converges faster for convex problems\n",
        "- **Requires**: Feature scaling for good performance.\n",
        "\n",
        "---\n",
        "\n",
        "## 🧩 Which Solver Should You Use?\n",
        "\n",
        "| Use Case                              | Recommended Solver |\n",
        "|---------------------------------------|--------------------|\n",
        "| Small dataset + binary classification | `liblinear`        |\n",
        "| Large dataset                         | `lbfgs` or `saga`  |\n",
        "| Multiclass classification             | `lbfgs`, `saga`, or `newton-cg` |\n",
        "| L1 regularization                     | `liblinear` or `saga` |\n",
        "| ElasticNet regularization             | `saga`             |\n",
        "| Sparse data                           | `liblinear` or `saga` |\n",
        "\n",
        "---\n",
        "\n",
        "## 🛠️ Example:\n",
        "```python\n",
        "from sklearn.linear_model import LogisticRegression\n",
        "\n",
        "model = LogisticRegression(\n",
        "    solver='saga',        # or 'lbfgs', 'liblinear', etc.\n",
        "    penalty='elasticnet',\n",
        "    l1_ratio=0.5,         # Only used with 'elasticnet'\n",
        "    C=1.0,\n",
        "    max_iter=1000\n",
        ")\n",
        "```\n"
      ],
      "metadata": {
        "id": "UfxcS6fzS6o3"
      }
    },
    {
      "cell_type": "markdown",
      "source": [
        "15. How is Logistic Regression extended for multiciass classification?"
      ],
      "metadata": {
        "id": "tMVTvmkMS6lH"
      }
    },
    {
      "cell_type": "markdown",
      "source": [
        "Great question! While **Logistic Regression** is inherently a **binary classifier**, it can be extended to handle **multiclass classification** problems using a few clever strategies.\n",
        "\n",
        "Let’s break it down 👇\n",
        "\n",
        "---\n",
        "\n",
        "## 🎓 **How Logistic Regression Handles Multiclass Classification**\n",
        "\n",
        "### ✅ 1. **One-vs-Rest (OvR)** – aka **One-vs-All**\n",
        "- **Idea**: Train one classifier per class.\n",
        "  - Each classifier predicts: \"Is this class X **vs** all others?\"\n",
        "- For `k` classes → Train `k` binary classifiers.\n",
        "- **During prediction**:\n",
        "  - Compute the **probability** for each classifier\n",
        "  - Choose the class with the **highest probability**\n",
        "\n",
        "> **Scikit-learn default**: `multi_class='ovr'`\n",
        "\n",
        "### ✅ 2. **Multinomial (Softmax) Logistic Regression**\n",
        "- Uses the **softmax** function to compute probabilities across **all classes** simultaneously.\n",
        "- Trains one model to directly predict **all class probabilities** in one go.\n",
        "- Optimizes a **cross-entropy loss** across all classes.\n",
        "  \n",
        "> Better choice when classes are **not independent**, or when **probability calibration** matters.\n",
        "\n",
        "> Use with `multi_class='multinomial'` and solvers like `'lbfgs'`, `'newton-cg'`, or `'saga'`.\n",
        "\n",
        "---\n",
        "\n",
        "## 🧮 Softmax Function\n",
        "\n",
        "Given \\( k \\) classes, and logits \\( z_1, z_2, \\ldots, z_k \\):\n",
        "\n",
        "\\[\n",
        "P(y = j \\mid x) = \\frac{e^{z_j}}{\\sum_{i=1}^{k} e^{z_i}} \\quad \\text{for } j = 1, 2, \\ldots, k\n",
        "\\]\n",
        "\n",
        "Where \\( z_j = \\theta_j^T x \\)\n",
        "\n",
        "---\n",
        "\n",
        "## ⚙️ Example in Scikit-learn\n",
        "\n",
        "```python\n",
        "from sklearn.linear_model import LogisticRegression\n",
        "\n",
        "# For multinomial (softmax) classification\n",
        "model = LogisticRegression(multi_class='multinomial', solver='lbfgs')\n",
        "model.fit(X_train, y_train)\n",
        "\n",
        "# For OvR (default)\n",
        "model_ovr = LogisticRegression(multi_class='ovr', solver='liblinear')\n",
        "model_ovr.fit(X_train, y_train)\n",
        "```\n",
        "\n",
        "---\n",
        "\n",
        "## 🧠 When to Use Which?\n",
        "\n",
        "| Scenario                         | Strategy         |\n",
        "|----------------------------------|------------------|\n",
        "| Independent classes              | One-vs-Rest (OvR) |\n",
        "| Mutually exclusive classes       | Multinomial      |\n",
        "| Small dataset                    | OvR (simpler)    |\n",
        "| Probabilistic prediction matters | Multinomial      |\n",
        "| Using `liblinear` solver         | OvR only         |\n",
        "\n",
        "---\n",
        "\n",
        "## ✅ TL;DR\n",
        "- Logistic regression can handle multiclass via **One-vs-Rest** or **Multinomial (Softmax)**.\n",
        "- **Multinomial + softmax** is more elegant and often better.\n",
        "- Scikit-learn supports both using the `multi_class` parameter."
      ],
      "metadata": {
        "id": "jYqcpmsrS6ev"
      }
    },
    {
      "cell_type": "markdown",
      "source": [
        "16. What are the advantages and disadvantages of Logistic Regression?"
      ],
      "metadata": {
        "id": "nPraQSKLS6bv"
      }
    },
    {
      "cell_type": "markdown",
      "source": [
        "Great question! Let’s break down the **advantages** and **disadvantages** of **Logistic Regression** so you can decide when to use it and when to go with something else.\n",
        "\n",
        "---\n",
        "\n",
        "## ✅ Advantages of Logistic Regression\n",
        "\n",
        "### 1. **Simple and Interpretable**\n",
        "- Easy to implement, understand, and interpret.\n",
        "- You can clearly see the **influence of each feature** through the coefficients.\n",
        "\n",
        "### 2. **Efficient for Binary Classification**\n",
        "- Performs well when the relationship between features and target is **linear**.\n",
        "- Computationally efficient, especially for **small to medium datasets**.\n",
        "\n",
        "### 3. **Outputs Probabilities**\n",
        "- Predicts **class probabilities**, not just labels.\n",
        "- Useful for **threshold tuning**, **decision-making**, or **ranking**.\n",
        "\n",
        "### 4. **Works Well with Linearly Separable Data**\n",
        "- If the classes are separable with a straight line (or plane), it often performs very well.\n",
        "\n",
        "### 5. **Regularization Support**\n",
        "- Easily integrates **L1 (Lasso)** and **L2 (Ridge)** regularization to avoid overfitting.\n",
        "\n",
        "### 6. **Fast Training**\n",
        "- Much faster to train than more complex models like SVMs or neural networks.\n",
        "\n",
        "---\n",
        "\n",
        "## ❌ Disadvantages of Logistic Regression\n",
        "\n",
        "### 1. **Assumes Linear Relationship**\n",
        "- Assumes a **linear relationship** between independent variables and the **log-odds** of the outcome.\n",
        "- Can perform poorly when the true relationship is **non-linear**.\n",
        "\n",
        "### 2. **Sensitive to Outliers**\n",
        "- Outliers can influence the decision boundary significantly unless handled properly.\n",
        "\n",
        "### 3. **Can Struggle with Complex Patterns**\n",
        "- Can’t capture interactions and non-linear dependencies well without feature engineering or transformations.\n",
        "\n",
        "### 4. **Requires Independent Features**\n",
        "- Assumes little or no **multicollinearity** among the input features.\n",
        "- If features are highly correlated, performance and interpretability can degrade.\n",
        "\n",
        "### 5. **Doesn't Work Well on Small/Unbalanced Datasets Without Tuning**\n",
        "- On imbalanced data, it tends to favor the majority class unless you handle it (e.g., class weights, resampling).\n",
        "\n",
        "---\n",
        "\n",
        "## 🔍 Quick Summary Table\n",
        "\n",
        "| Feature | Logistic Regression |\n",
        "|--------|----------------------|\n",
        "| Type | Linear, Probabilistic |\n",
        "| Use Case | Binary & multiclass classification |\n",
        "| Strengths | Simple, interpretable, fast |\n",
        "| Weaknesses | Linear assumption, outlier sensitive |\n",
        "| Handles Non-linearity? | ❌ (not directly) |\n",
        "| Regularization Support | ✅ L1, L2, ElasticNet |\n",
        "| Probability Output | ✅ Yes |\n",
        "\n",
        "---\n",
        "\n",
        "## 🧠 TL;DR:\n",
        "**Logistic regression** is a solid baseline model:  \n",
        "- Great for **interpretable**, fast models.  \n",
        "- Struggles with **non-linear** or complex data patterns.  \n",
        "- Easy to regularize, tune, and apply."
      ],
      "metadata": {
        "id": "2Vo16wiCS6Y5"
      }
    },
    {
      "cell_type": "markdown",
      "source": [
        "17. What are some use cases of Logistic Regression?"
      ],
      "metadata": {
        "id": "K5_x3JtrS6RQ"
      }
    },
    {
      "cell_type": "markdown",
      "source": [
        "Great question! **Logistic Regression** is one of the most widely used algorithms in classification problems. It’s simple, interpretable, and works well when the relationship between the features and the target is linear in the log-odds.\n",
        "\n",
        "Here are some real-world **use cases** where Logistic Regression shines:\n",
        "\n",
        "---\n",
        "\n",
        "## 🔐 1. **Binary Classification Tasks**\n",
        "### ✅ Examples:\n",
        "- **Spam detection**: Is an email spam or not?\n",
        "- **Credit scoring**: Will a customer **default** on a loan? (yes/no)\n",
        "- **Disease prediction**: Does a patient have **diabetes** or not?\n",
        "- **Customer churn**: Will a customer leave a service?\n",
        "- **Fraud detection**: Is this transaction fraudulent?\n",
        "\n",
        "---\n",
        "\n",
        "## 📊 2. **Marketing & Business Analytics**\n",
        "### ✅ Examples:\n",
        "- **Click-through prediction**: Will a user click on an ad?\n",
        "- **Purchase likelihood**: Will a customer buy a product?\n",
        "- **Lead conversion**: Will a potential customer convert?\n",
        "- **Customer segmentation**: Classify customers based on behavior.\n",
        "\n",
        "---\n",
        "\n",
        "## 🏥 3. **Healthcare & Medical Diagnosis**\n",
        "### ✅ Examples:\n",
        "- **Disease classification**: Heart disease, cancer detection, etc.\n",
        "- **Readmission prediction**: Will a patient be readmitted?\n",
        "- **Mortality risk prediction**: Estimate the probability of survival.\n",
        "\n",
        "---\n",
        "\n",
        "## 🧪 4. **Social Sciences and Surveys**\n",
        "### ✅ Examples:\n",
        "- **Voting prediction**: Will someone vote for candidate A or B?\n",
        "- **Satisfaction prediction**: Will a customer rate a service as “satisfied” or “unsatisfied”?\n",
        "- **Attitude classification**: Is a response positive or negative?\n",
        "\n",
        "---\n",
        "\n",
        "## 🚀 5. **Operations and Risk Management**\n",
        "### ✅ Examples:\n",
        "- **Risk modeling**: Predicting the probability of system failure.\n",
        "- **Loan risk evaluation**: Estimating risk of default or fraud.\n",
        "\n",
        "---\n",
        "\n",
        "## 🧠 6. **Multiclass Classification (Extended)**\n",
        "Using **softmax** logistic regression:\n",
        "- **Handwritten digit recognition** (e.g., MNIST)\n",
        "- **Iris flower classification**\n",
        "- **Document classification** into multiple topics\n",
        "\n",
        "---\n",
        "\n",
        "## 🧩 Why Is Logistic Regression So Popular?\n",
        "- Easy to implement and interpret\n",
        "- Outputs probabilities\n",
        "- Regularization support\n",
        "- Serves as a great **baseline model**\n",
        "\n",
        "---\n",
        "\n",
        "## ⚡ TL;DR:\n",
        "Logistic Regression is used when:\n",
        "- You want a **yes/no** decision\n",
        "- You need **interpretable** coefficients\n",
        "- You care about **probabilities** rather than just labels\n",
        "\n",
        "It’s a go-to model in finance, healthcare, marketing, and many other fields.\n",
        "\n"
      ],
      "metadata": {
        "id": "MHOLlDVwS6Ny"
      }
    },
    {
      "cell_type": "markdown",
      "source": [
        "18. What is the difference between Softmax Regression and Logistic Regression?\n"
      ],
      "metadata": {
        "id": "iR-B4dy-mMdY"
      }
    },
    {
      "cell_type": "markdown",
      "source": [
        "The key difference between **Softmax Regression** and **Logistic Regression** lies in the **number of classes** they are designed to handle:\n",
        "\n",
        "---\n",
        "\n",
        "### 🔹 **Logistic Regression**\n",
        "- **Use case**: **Binary classification** (two classes)\n",
        "- **Output**: A **single probability** (between 0 and 1) that the input belongs to the **positive class**\n",
        "- **Function**: Uses the **sigmoid function** to map predictions to probabilities:\n",
        "  \\[\n",
        "  P(y=1|x) = \\frac{1}{1 + e^{-(w^Tx + b)}}\n",
        "  \\]\n",
        "\n",
        "---\n",
        "\n",
        "### 🔹 **Softmax Regression (Multinomial Logistic Regression)**\n",
        "- **Use case**: **Multiclass classification** (more than two classes)\n",
        "- **Output**: A **probability distribution** across all possible classes\n",
        "- **Function**: Uses the **softmax function**:\n",
        "  \\[\n",
        "  P(y=i|x) = \\frac{e^{w_i^T x}}{\\sum_{j=1}^K e^{w_j^T x}} \\quad \\text{for } i = 1, 2, ..., K\n",
        "  \\]\n",
        "  Where \\(K\\) is the number of classes, and each class has its own set of weights.\n",
        "\n",
        "---\n",
        "\n",
        "### Summary Table:\n",
        "\n",
        "| Feature               | Logistic Regression         | Softmax Regression                  |\n",
        "|----------------------|-----------------------------|-------------------------------------|\n",
        "| Problem type          | Binary classification        | Multiclass classification           |\n",
        "| Output                | Single probability           | Vector of probabilities             |\n",
        "| Activation function   | Sigmoid                      | Softmax                             |\n",
        "| Number of classes     | 2                            | 3 or more                           |\n",
        "\n"
      ],
      "metadata": {
        "id": "bfig1maVmkNb"
      }
    },
    {
      "cell_type": "markdown",
      "source": [
        "19. How do we choose between One-vs-Rest (OvR) and Softmax for multiclass classification?\n"
      ],
      "metadata": {
        "id": "qk6T3RGomzTO"
      }
    },
    {
      "cell_type": "markdown",
      "source": [
        "Great question! Choosing between **One-vs-Rest (OvR)** and **Softmax (Multinomial Logistic Regression)** for multiclass classification depends on your **model requirements**, **data characteristics**, and sometimes **computational efficiency**.\n",
        "\n",
        "---\n",
        "\n",
        "### 🔹 **One-vs-Rest (OvR)**\n",
        "**What is it?**  \n",
        "OvR trains **one binary classifier per class**, treating each class as the positive class and all others as negative.\n",
        "\n",
        "#### ✅ Pros:\n",
        "- **Simple and interpretable**\n",
        "- Can be used with any **binary classifier**, not just logistic regression\n",
        "- Easier to parallelize training (each classifier is independent)\n",
        "\n",
        "#### ❌ Cons:\n",
        "- Doesn’t model **inter-class relationships** directly\n",
        "- Can give **inconsistent probability outputs** (e.g., more than one class predicted as “positive”)\n",
        "\n",
        "---\n",
        "\n",
        "### 🔹 **Softmax (Multinomial Logistic Regression)**\n",
        "**What is it?**  \n",
        "Trains a **single model** that directly outputs a **probability distribution over all classes**, using the softmax function.\n",
        "\n",
        "#### ✅ Pros:\n",
        "- Models **all classes together**, accounting for mutual exclusivity\n",
        "- Produces **coherent probabilities** (sums to 1)\n",
        "- Often more **accurate** in practice for truly multiclass problems\n",
        "\n",
        "#### ❌ Cons:\n",
        "- More complex to implement from scratch\n",
        "- Training can be **slower** for a large number of classes (though not always)\n",
        "\n",
        "---\n",
        "\n",
        "### ⚖️ **When to Choose What**\n",
        "\n",
        "| Situation                             | Recommended Approach        |\n",
        "|--------------------------------------|-----------------------------|\n",
        "| Few classes, fast/simple model needed | **OvR**                     |\n",
        "| Many classes with mutual exclusivity | **Softmax**                 |\n",
        "| Want consistent, probabilistic output | **Softmax**                 |\n",
        "| Using a non-logistic binary classifier (e.g., SVM) | **OvR**        |\n",
        "| Computational constraints, parallelism | **OvR** (can train in parallel) |\n",
        "\n",
        "---\n",
        "\n",
        "### 🧠 TL;DR:\n",
        "- Use **Softmax** if you want a single, clean model with proper probability outputs for **mutually exclusive classes**.\n",
        "- Use **OvR** if you’re working with **binary classifiers**, want more flexibility, or need a quick-and-dirty solution.\n",
        "\n"
      ],
      "metadata": {
        "id": "S78tBfeIm5dA"
      }
    },
    {
      "cell_type": "markdown",
      "source": [
        "20. How do we interpret coefficients in Logistic Regression?\n"
      ],
      "metadata": {
        "id": "VeviMeqmouXl"
      }
    },
    {
      "cell_type": "markdown",
      "source": [
        "Sure! Here's a clear and concise breakdown of how to **interpret coefficients in Logistic Regression**:\n",
        "\n",
        "---\n",
        "\n",
        "### 🔹 Logistic Regression Equation:\n",
        "\\[\n",
        "\\log\\left(\\frac{P(y=1|x)}{1 - P(y=1|x)}\\right) = w_0 + w_1x_1 + w_2x_2 + \\dots + w_nx_n\n",
        "\\]\n",
        "\n",
        "- The left-hand side is the **log-odds** (also called the logit) of the probability of the positive class.\n",
        "- Each \\( w_i \\) is a **coefficient** for the feature \\( x_i \\).\n",
        "\n",
        "---\n",
        "\n",
        "### 🧠 How to Interpret a Coefficient \\( w_i \\):\n",
        "\n",
        "#### 1. **In terms of log-odds**:\n",
        "- \\( w_i \\) tells you how much the **log-odds** of the outcome increases (or decreases) when \\( x_i \\) increases by one unit, **holding all other variables constant**.\n",
        "\n",
        "#### 2. **In terms of odds ratio**:\n",
        "- Use \\( e^{w_i} \\) to convert the coefficient to an **odds ratio**.\n",
        "- This tells you how the **odds** of the positive class **multiply** when \\( x_i \\) increases by one unit.\n",
        "\n",
        "---\n",
        "\n",
        "### ✅ Examples:\n",
        "\n",
        "| Coefficient \\( w_i \\) | \\( e^{w_i} \\) | Interpretation |\n",
        "|------------------------|----------------|----------------|\n",
        "| \\( w_i = 0.7 \\)        | 2.01           | A 1-unit increase in \\( x_i \\) **doubles the odds** of positive class |\n",
        "| \\( w_i = -0.5 \\)       | 0.61           | A 1-unit increase in \\( x_i \\) **reduces the odds** by 39% |\n",
        "| \\( w_i = 0 \\)          | 1              | No effect on the odds |\n",
        "\n",
        "---\n",
        "\n",
        "### ⚠️ Notes:\n",
        "- Logistic regression works with **odds**, not direct probabilities.\n",
        "- Interpretation depends on how your features are scaled (e.g., standardization changes the meaning).\n",
        "- If you're working with **categorical features**, interpret relative to the **reference category**.\n",
        "\n"
      ],
      "metadata": {
        "id": "h1_Z-geNovIP"
      }
    },
    {
      "cell_type": "markdown",
      "source": [
        "                                                      ***Practical Questions***"
      ],
      "metadata": {
        "id": "Wq7sY8kzyfLF"
      }
    },
    {
      "cell_type": "markdown",
      "source": [
        "1. Write a Python program that loads a dataset, splits it into training and testing sets, applies Logistic Regression, and prints the model accuracy.\n"
      ],
      "metadata": {
        "id": "ZeGX_rBuytjM"
      }
    },
    {
      "cell_type": "code",
      "source": [
        "# Import necessary libraries\n",
        "from sklearn.datasets import load_iris\n",
        "from sklearn.model_selection import train_test_split\n",
        "from sklearn.linear_model import LogisticRegression\n",
        "from sklearn.metrics import accuracy_score\n",
        "\n",
        "# Step 1: Load the dataset\n",
        "data = load_iris()\n",
        "X = data.data       # Features\n",
        "y = data.target     # Target labels\n",
        "\n",
        "# Step 2: Split dataset into training and testing (80% train, 20% test)\n",
        "X_train, X_test, y_train, y_test = train_test_split(X, y, test_size=0.2, random_state=42)\n",
        "\n",
        "# Step 3: Create and train the Logistic Regression model\n",
        "model = LogisticRegression(max_iter=200)  # Increase max_iter if needed\n",
        "model.fit(X_train, y_train)\n",
        "\n",
        "# Step 4: Predict on test data\n",
        "y_pred = model.predict(X_test)\n",
        "\n",
        "# Step 5: Calculate and print accuracy\n",
        "accuracy = accuracy_score(y_test, y_pred)\n",
        "print(f\"Model Accuracy: {accuracy:.2f}\")\n",
        "\n"
      ],
      "metadata": {
        "colab": {
          "base_uri": "https://localhost:8080/"
        },
        "id": "JHdjHga3zG_k",
        "outputId": "075cba53-0334-4f88-834a-1de59b70fdf2"
      },
      "execution_count": null,
      "outputs": [
        {
          "output_type": "stream",
          "name": "stdout",
          "text": [
            "Model Accuracy: 1.00\n"
          ]
        }
      ]
    },
    {
      "cell_type": "markdown",
      "source": [
        "2. Write a Python program to apply L1 regularization (Lasso) on a dataset using LogisticRegression (penalty='11') and print the model accuracy.\n"
      ],
      "metadata": {
        "id": "ml98ItXgzQaZ"
      }
    },
    {
      "cell_type": "code",
      "source": [
        "from sklearn.datasets import load_iris\n",
        "from sklearn.linear_model import LogisticRegression\n",
        "from sklearn.model_selection import train_test_split\n",
        "from sklearn.metrics import accuracy_score\n",
        "\n",
        "# Step 1: Load dataset\n",
        "data = load_iris()\n",
        "X = data.data\n",
        "y = data.target\n",
        "\n",
        "# Step 2: Split into training and testing sets\n",
        "X_train, X_test, y_train, y_test = train_test_split(X, y, test_size=0.2, random_state=42)\n",
        "\n",
        "# Step 3: Create Logistic Regression model with L1 regularization\n",
        "model = LogisticRegression(penalty='l1', solver='saga', max_iter=500, multi_class='multinomial')\n",
        "\n",
        "# Step 4: Train the model\n",
        "model.fit(X_train, y_train)\n",
        "\n",
        "# Step 5: Predict and evaluate\n",
        "y_pred = model.predict(X_test)\n",
        "accuracy = accuracy_score(y_test, y_pred)\n",
        "\n",
        "print(f\"L1-Regularized Logistic Regression Accuracy: {accuracy:.2f}\")\n"
      ],
      "metadata": {
        "colab": {
          "base_uri": "https://localhost:8080/"
        },
        "id": "_opD4P35zZin",
        "outputId": "3af9cda9-bb41-4b37-ee12-122f8d07fe8a"
      },
      "execution_count": null,
      "outputs": [
        {
          "output_type": "stream",
          "name": "stdout",
          "text": [
            "L1-Regularized Logistic Regression Accuracy: 1.00\n"
          ]
        },
        {
          "output_type": "stream",
          "name": "stderr",
          "text": [
            "/usr/local/lib/python3.11/dist-packages/sklearn/linear_model/_logistic.py:1247: FutureWarning: 'multi_class' was deprecated in version 1.5 and will be removed in 1.7. From then on, it will always use 'multinomial'. Leave it to its default value to avoid this warning.\n",
            "  warnings.warn(\n",
            "/usr/local/lib/python3.11/dist-packages/sklearn/linear_model/_sag.py:348: ConvergenceWarning: The max_iter was reached which means the coef_ did not converge\n",
            "  warnings.warn(\n"
          ]
        }
      ]
    },
    {
      "cell_type": "markdown",
      "source": [
        "3. Write a Python program to train Logistic Regression with L2 regularization (Ridge) using LogisticRegression (penalty='12'). Print model accuracy and coefficients.\n"
      ],
      "metadata": {
        "id": "IQSf0GceyvZp"
      }
    },
    {
      "cell_type": "code",
      "source": [
        "from sklearn.datasets import load_iris\n",
        "from sklearn.linear_model import LogisticRegression\n",
        "from sklearn.model_selection import train_test_split\n",
        "from sklearn.metrics import accuracy_score\n",
        "import numpy as np\n",
        "\n",
        "# Step 1: Load dataset\n",
        "data = load_iris()\n",
        "X = data.data\n",
        "y = data.target\n",
        "\n",
        "# Step 2: Train-test split\n",
        "X_train, X_test, y_train, y_test = train_test_split(X, y, test_size=0.2, random_state=42)\n",
        "\n",
        "# Step 3: Train Logistic Regression with L2 regularization\n",
        "model = LogisticRegression(penalty='l2', solver='lbfgs', max_iter=200, multi_class='multinomial')\n",
        "model.fit(X_train, y_train)\n",
        "\n",
        "# Step 4: Predictions and accuracy\n",
        "y_pred = model.predict(X_test)\n",
        "accuracy = accuracy_score(y_test, y_pred)\n",
        "\n",
        "# Step 5: Output\n",
        "print(f\"L2-Regularized Logistic Regression Accuracy: {accuracy:.2f}\")\n",
        "print(\"\\nModel Coefficients (per class):\")\n",
        "print(np.round(model.coef_, 3))  # Rounded for readability\n"
      ],
      "metadata": {
        "colab": {
          "base_uri": "https://localhost:8080/"
        },
        "id": "x7IzOgPjzkQ0",
        "outputId": "1ffdcdf7-b0f4-4c15-d425-1b1765c681ae"
      },
      "execution_count": null,
      "outputs": [
        {
          "output_type": "stream",
          "name": "stdout",
          "text": [
            "L2-Regularized Logistic Regression Accuracy: 1.00\n",
            "\n",
            "Model Coefficients (per class):\n",
            "[[-0.393  0.963 -2.375 -0.999]\n",
            " [ 0.508 -0.255 -0.213 -0.776]\n",
            " [-0.115 -0.708  2.588  1.775]]\n"
          ]
        },
        {
          "output_type": "stream",
          "name": "stderr",
          "text": [
            "/usr/local/lib/python3.11/dist-packages/sklearn/linear_model/_logistic.py:1247: FutureWarning: 'multi_class' was deprecated in version 1.5 and will be removed in 1.7. From then on, it will always use 'multinomial'. Leave it to its default value to avoid this warning.\n",
            "  warnings.warn(\n"
          ]
        }
      ]
    },
    {
      "cell_type": "markdown",
      "source": [
        "4. Write a Python program to train Logistic Regression with Elastic Net Regularization (penalty='elasticnet').\n"
      ],
      "metadata": {
        "id": "F3UFRe7GyvO_"
      }
    },
    {
      "cell_type": "code",
      "source": [
        "from sklearn.datasets import load_iris\n",
        "from sklearn.linear_model import LogisticRegression\n",
        "from sklearn.model_selection import train_test_split\n",
        "from sklearn.metrics import accuracy_score\n",
        "import numpy as np\n",
        "\n",
        "# Step 1: Load dataset\n",
        "data = load_iris()\n",
        "X = data.data\n",
        "y = data.target\n",
        "\n",
        "# Step 2: Split the data\n",
        "X_train, X_test, y_train, y_test = train_test_split(X, y, test_size=0.2, random_state=42)\n",
        "\n",
        "# Step 3: Train Logistic Regression with Elastic Net regularization\n",
        "model = LogisticRegression(\n",
        "    penalty='elasticnet',\n",
        "    solver='saga',\n",
        "    l1_ratio=0.5,           # 0.5 = equal L1 and L2\n",
        "    max_iter=500,\n",
        "    multi_class='multinomial'\n",
        ")\n",
        "model.fit(X_train, y_train)\n",
        "\n",
        "# Step 4: Predict and evaluate\n",
        "y_pred = model.predict(X_test)\n",
        "accuracy = accuracy_score(y_test, y_pred)\n",
        "\n",
        "# Step 5: Print results\n",
        "print(f\"Elastic Net Logistic Regression Accuracy: {accuracy:.2f}\")\n",
        "print(\"\\nModel Coefficients (per class):\")\n",
        "print(np.round(model.coef_, 3))\n"
      ],
      "metadata": {
        "colab": {
          "base_uri": "https://localhost:8080/"
        },
        "id": "gQ5siva00Tkq",
        "outputId": "b5c447d5-1289-4da0-beb3-c343e1c5eb10"
      },
      "execution_count": null,
      "outputs": [
        {
          "output_type": "stream",
          "name": "stdout",
          "text": [
            "Elastic Net Logistic Regression Accuracy: 1.00\n",
            "\n",
            "Model Coefficients (per class):\n",
            "[[ 0.256  1.735 -2.431 -0.619]\n",
            " [ 0.     0.     0.    -0.508]\n",
            " [-1.013 -1.212  2.646  2.108]]\n"
          ]
        },
        {
          "output_type": "stream",
          "name": "stderr",
          "text": [
            "/usr/local/lib/python3.11/dist-packages/sklearn/linear_model/_logistic.py:1247: FutureWarning: 'multi_class' was deprecated in version 1.5 and will be removed in 1.7. From then on, it will always use 'multinomial'. Leave it to its default value to avoid this warning.\n",
            "  warnings.warn(\n",
            "/usr/local/lib/python3.11/dist-packages/sklearn/linear_model/_sag.py:348: ConvergenceWarning: The max_iter was reached which means the coef_ did not converge\n",
            "  warnings.warn(\n"
          ]
        }
      ]
    },
    {
      "cell_type": "markdown",
      "source": [
        "5. Write a Python program to train a Logistic Regression model for multiclass classification using multi_class='ovr'.\n"
      ],
      "metadata": {
        "id": "9aCRF6wmz8DX"
      }
    },
    {
      "cell_type": "code",
      "source": [
        "from sklearn.datasets import load_iris\n",
        "from sklearn.linear_model import LogisticRegression\n",
        "from sklearn.model_selection import train_test_split\n",
        "from sklearn.metrics import accuracy_score\n",
        "import numpy as np\n",
        "\n",
        "# Step 1: Load the Iris dataset\n",
        "data = load_iris()\n",
        "X = data.data\n",
        "y = data.target\n",
        "\n",
        "# Step 2: Split into train and test sets\n",
        "X_train, X_test, y_train, y_test = train_test_split(X, y, test_size=0.2, random_state=42)\n",
        "\n",
        "# Step 3: Train Logistic Regression with OvR\n",
        "model = LogisticRegression(multi_class='ovr', solver='lbfgs', max_iter=200)\n",
        "model.fit(X_train, y_train)\n",
        "\n",
        "# Step 4: Predict and evaluate\n",
        "y_pred = model.predict(X_test)\n",
        "accuracy = accuracy_score(y_test, y_pred)\n",
        "\n",
        "# Step 5: Print results\n",
        "print(f\"Logistic Regression (OvR) Accuracy: {accuracy:.2f}\")\n",
        "print(\"\\nModel Coefficients (per class):\")\n",
        "print(np.round(model.coef_, 3))\n"
      ],
      "metadata": {
        "colab": {
          "base_uri": "https://localhost:8080/"
        },
        "id": "f3XeLYTF0nIF",
        "outputId": "0612e028-b28a-4360-a399-d901730ebbf2"
      },
      "execution_count": null,
      "outputs": [
        {
          "output_type": "stream",
          "name": "stdout",
          "text": [
            "Logistic Regression (OvR) Accuracy: 0.97\n",
            "\n",
            "Model Coefficients (per class):\n",
            "[[-0.428  0.888 -2.215 -0.916]\n",
            " [-0.034 -2.044  0.543 -1.018]\n",
            " [-0.389 -0.621  2.776  2.091]]\n"
          ]
        },
        {
          "output_type": "stream",
          "name": "stderr",
          "text": [
            "/usr/local/lib/python3.11/dist-packages/sklearn/linear_model/_logistic.py:1256: FutureWarning: 'multi_class' was deprecated in version 1.5 and will be removed in 1.7. Use OneVsRestClassifier(LogisticRegression(..)) instead. Leave it to its default value to avoid this warning.\n",
            "  warnings.warn(\n"
          ]
        }
      ]
    },
    {
      "cell_type": "markdown",
      "source": [
        "6. Write a Python program to apply GridSearchCV to tune the hyperparameters (C and penalty) of Logistic Regression. Print the best parameters and accuracy.\n",
        "\n"
      ],
      "metadata": {
        "id": "R19rfXebyuVk"
      }
    },
    {
      "cell_type": "code",
      "source": [
        "from sklearn.datasets import load_iris\n",
        "from sklearn.linear_model import LogisticRegression\n",
        "from sklearn.model_selection import train_test_split, GridSearchCV\n",
        "from sklearn.metrics import accuracy_score\n",
        "\n",
        "# Step 1: Load the dataset\n",
        "data = load_iris()\n",
        "X = data.data\n",
        "y = data.target\n",
        "\n",
        "# Step 2: Train-test split\n",
        "X_train, X_test, y_train, y_test = train_test_split(X, y, test_size=0.2, random_state=42)\n",
        "\n",
        "# Step 3: Define the model\n",
        "model = LogisticRegression(solver='saga', max_iter=500, multi_class='multinomial')\n",
        "\n",
        "# Step 4: Define the parameter grid\n",
        "param_grid = {\n",
        "    'C': [0.01, 0.1, 1, 10],\n",
        "    'penalty': ['l1', 'l2']  # 'saga' solver supports both L1 and L2\n",
        "}\n",
        "\n",
        "# Step 5: Perform grid search\n",
        "grid = GridSearchCV(model, param_grid, cv=5, scoring='accuracy')\n",
        "grid.fit(X_train, y_train)\n",
        "\n",
        "# Step 6: Make predictions and calculate accuracy\n",
        "best_model = grid.best_estimator_\n",
        "y_pred = best_model.predict(X_test)\n",
        "accuracy = accuracy_score(y_test, y_pred)\n",
        "\n",
        "# Step 7: Print results\n",
        "print(\"Best Parameters:\", grid.best_params_)\n",
        "print(f\"Test Accuracy: {accuracy:.2f}\")\n"
      ],
      "metadata": {
        "colab": {
          "base_uri": "https://localhost:8080/"
        },
        "id": "3trKd7Yb2XuQ",
        "outputId": "a40d0b88-e63a-4bac-d086-55bf137cbef5"
      },
      "execution_count": null,
      "outputs": [
        {
          "output_type": "stream",
          "name": "stderr",
          "text": [
            "/usr/local/lib/python3.11/dist-packages/sklearn/linear_model/_logistic.py:1247: FutureWarning: 'multi_class' was deprecated in version 1.5 and will be removed in 1.7. From then on, it will always use 'multinomial'. Leave it to its default value to avoid this warning.\n",
            "  warnings.warn(\n",
            "/usr/local/lib/python3.11/dist-packages/sklearn/linear_model/_logistic.py:1247: FutureWarning: 'multi_class' was deprecated in version 1.5 and will be removed in 1.7. From then on, it will always use 'multinomial'. Leave it to its default value to avoid this warning.\n",
            "  warnings.warn(\n",
            "/usr/local/lib/python3.11/dist-packages/sklearn/linear_model/_logistic.py:1247: FutureWarning: 'multi_class' was deprecated in version 1.5 and will be removed in 1.7. From then on, it will always use 'multinomial'. Leave it to its default value to avoid this warning.\n",
            "  warnings.warn(\n",
            "/usr/local/lib/python3.11/dist-packages/sklearn/linear_model/_logistic.py:1247: FutureWarning: 'multi_class' was deprecated in version 1.5 and will be removed in 1.7. From then on, it will always use 'multinomial'. Leave it to its default value to avoid this warning.\n",
            "  warnings.warn(\n",
            "/usr/local/lib/python3.11/dist-packages/sklearn/linear_model/_logistic.py:1247: FutureWarning: 'multi_class' was deprecated in version 1.5 and will be removed in 1.7. From then on, it will always use 'multinomial'. Leave it to its default value to avoid this warning.\n",
            "  warnings.warn(\n",
            "/usr/local/lib/python3.11/dist-packages/sklearn/linear_model/_logistic.py:1247: FutureWarning: 'multi_class' was deprecated in version 1.5 and will be removed in 1.7. From then on, it will always use 'multinomial'. Leave it to its default value to avoid this warning.\n",
            "  warnings.warn(\n",
            "/usr/local/lib/python3.11/dist-packages/sklearn/linear_model/_logistic.py:1247: FutureWarning: 'multi_class' was deprecated in version 1.5 and will be removed in 1.7. From then on, it will always use 'multinomial'. Leave it to its default value to avoid this warning.\n",
            "  warnings.warn(\n",
            "/usr/local/lib/python3.11/dist-packages/sklearn/linear_model/_logistic.py:1247: FutureWarning: 'multi_class' was deprecated in version 1.5 and will be removed in 1.7. From then on, it will always use 'multinomial'. Leave it to its default value to avoid this warning.\n",
            "  warnings.warn(\n",
            "/usr/local/lib/python3.11/dist-packages/sklearn/linear_model/_logistic.py:1247: FutureWarning: 'multi_class' was deprecated in version 1.5 and will be removed in 1.7. From then on, it will always use 'multinomial'. Leave it to its default value to avoid this warning.\n",
            "  warnings.warn(\n",
            "/usr/local/lib/python3.11/dist-packages/sklearn/linear_model/_logistic.py:1247: FutureWarning: 'multi_class' was deprecated in version 1.5 and will be removed in 1.7. From then on, it will always use 'multinomial'. Leave it to its default value to avoid this warning.\n",
            "  warnings.warn(\n",
            "/usr/local/lib/python3.11/dist-packages/sklearn/linear_model/_logistic.py:1247: FutureWarning: 'multi_class' was deprecated in version 1.5 and will be removed in 1.7. From then on, it will always use 'multinomial'. Leave it to its default value to avoid this warning.\n",
            "  warnings.warn(\n",
            "/usr/local/lib/python3.11/dist-packages/sklearn/linear_model/_sag.py:348: ConvergenceWarning: The max_iter was reached which means the coef_ did not converge\n",
            "  warnings.warn(\n",
            "/usr/local/lib/python3.11/dist-packages/sklearn/linear_model/_logistic.py:1247: FutureWarning: 'multi_class' was deprecated in version 1.5 and will be removed in 1.7. From then on, it will always use 'multinomial'. Leave it to its default value to avoid this warning.\n",
            "  warnings.warn(\n",
            "/usr/local/lib/python3.11/dist-packages/sklearn/linear_model/_sag.py:348: ConvergenceWarning: The max_iter was reached which means the coef_ did not converge\n",
            "  warnings.warn(\n",
            "/usr/local/lib/python3.11/dist-packages/sklearn/linear_model/_logistic.py:1247: FutureWarning: 'multi_class' was deprecated in version 1.5 and will be removed in 1.7. From then on, it will always use 'multinomial'. Leave it to its default value to avoid this warning.\n",
            "  warnings.warn(\n",
            "/usr/local/lib/python3.11/dist-packages/sklearn/linear_model/_sag.py:348: ConvergenceWarning: The max_iter was reached which means the coef_ did not converge\n",
            "  warnings.warn(\n",
            "/usr/local/lib/python3.11/dist-packages/sklearn/linear_model/_logistic.py:1247: FutureWarning: 'multi_class' was deprecated in version 1.5 and will be removed in 1.7. From then on, it will always use 'multinomial'. Leave it to its default value to avoid this warning.\n",
            "  warnings.warn(\n",
            "/usr/local/lib/python3.11/dist-packages/sklearn/linear_model/_sag.py:348: ConvergenceWarning: The max_iter was reached which means the coef_ did not converge\n",
            "  warnings.warn(\n",
            "/usr/local/lib/python3.11/dist-packages/sklearn/linear_model/_logistic.py:1247: FutureWarning: 'multi_class' was deprecated in version 1.5 and will be removed in 1.7. From then on, it will always use 'multinomial'. Leave it to its default value to avoid this warning.\n",
            "  warnings.warn(\n",
            "/usr/local/lib/python3.11/dist-packages/sklearn/linear_model/_sag.py:348: ConvergenceWarning: The max_iter was reached which means the coef_ did not converge\n",
            "  warnings.warn(\n",
            "/usr/local/lib/python3.11/dist-packages/sklearn/linear_model/_logistic.py:1247: FutureWarning: 'multi_class' was deprecated in version 1.5 and will be removed in 1.7. From then on, it will always use 'multinomial'. Leave it to its default value to avoid this warning.\n",
            "  warnings.warn(\n",
            "/usr/local/lib/python3.11/dist-packages/sklearn/linear_model/_sag.py:348: ConvergenceWarning: The max_iter was reached which means the coef_ did not converge\n",
            "  warnings.warn(\n",
            "/usr/local/lib/python3.11/dist-packages/sklearn/linear_model/_logistic.py:1247: FutureWarning: 'multi_class' was deprecated in version 1.5 and will be removed in 1.7. From then on, it will always use 'multinomial'. Leave it to its default value to avoid this warning.\n",
            "  warnings.warn(\n",
            "/usr/local/lib/python3.11/dist-packages/sklearn/linear_model/_sag.py:348: ConvergenceWarning: The max_iter was reached which means the coef_ did not converge\n",
            "  warnings.warn(\n",
            "/usr/local/lib/python3.11/dist-packages/sklearn/linear_model/_logistic.py:1247: FutureWarning: 'multi_class' was deprecated in version 1.5 and will be removed in 1.7. From then on, it will always use 'multinomial'. Leave it to its default value to avoid this warning.\n",
            "  warnings.warn(\n",
            "/usr/local/lib/python3.11/dist-packages/sklearn/linear_model/_sag.py:348: ConvergenceWarning: The max_iter was reached which means the coef_ did not converge\n",
            "  warnings.warn(\n",
            "/usr/local/lib/python3.11/dist-packages/sklearn/linear_model/_logistic.py:1247: FutureWarning: 'multi_class' was deprecated in version 1.5 and will be removed in 1.7. From then on, it will always use 'multinomial'. Leave it to its default value to avoid this warning.\n",
            "  warnings.warn(\n",
            "/usr/local/lib/python3.11/dist-packages/sklearn/linear_model/_sag.py:348: ConvergenceWarning: The max_iter was reached which means the coef_ did not converge\n",
            "  warnings.warn(\n",
            "/usr/local/lib/python3.11/dist-packages/sklearn/linear_model/_logistic.py:1247: FutureWarning: 'multi_class' was deprecated in version 1.5 and will be removed in 1.7. From then on, it will always use 'multinomial'. Leave it to its default value to avoid this warning.\n",
            "  warnings.warn(\n",
            "/usr/local/lib/python3.11/dist-packages/sklearn/linear_model/_sag.py:348: ConvergenceWarning: The max_iter was reached which means the coef_ did not converge\n",
            "  warnings.warn(\n",
            "/usr/local/lib/python3.11/dist-packages/sklearn/linear_model/_logistic.py:1247: FutureWarning: 'multi_class' was deprecated in version 1.5 and will be removed in 1.7. From then on, it will always use 'multinomial'. Leave it to its default value to avoid this warning.\n",
            "  warnings.warn(\n",
            "/usr/local/lib/python3.11/dist-packages/sklearn/linear_model/_sag.py:348: ConvergenceWarning: The max_iter was reached which means the coef_ did not converge\n",
            "  warnings.warn(\n",
            "/usr/local/lib/python3.11/dist-packages/sklearn/linear_model/_logistic.py:1247: FutureWarning: 'multi_class' was deprecated in version 1.5 and will be removed in 1.7. From then on, it will always use 'multinomial'. Leave it to its default value to avoid this warning.\n",
            "  warnings.warn(\n",
            "/usr/local/lib/python3.11/dist-packages/sklearn/linear_model/_sag.py:348: ConvergenceWarning: The max_iter was reached which means the coef_ did not converge\n",
            "  warnings.warn(\n",
            "/usr/local/lib/python3.11/dist-packages/sklearn/linear_model/_logistic.py:1247: FutureWarning: 'multi_class' was deprecated in version 1.5 and will be removed in 1.7. From then on, it will always use 'multinomial'. Leave it to its default value to avoid this warning.\n",
            "  warnings.warn(\n",
            "/usr/local/lib/python3.11/dist-packages/sklearn/linear_model/_sag.py:348: ConvergenceWarning: The max_iter was reached which means the coef_ did not converge\n",
            "  warnings.warn(\n",
            "/usr/local/lib/python3.11/dist-packages/sklearn/linear_model/_logistic.py:1247: FutureWarning: 'multi_class' was deprecated in version 1.5 and will be removed in 1.7. From then on, it will always use 'multinomial'. Leave it to its default value to avoid this warning.\n",
            "  warnings.warn(\n",
            "/usr/local/lib/python3.11/dist-packages/sklearn/linear_model/_sag.py:348: ConvergenceWarning: The max_iter was reached which means the coef_ did not converge\n",
            "  warnings.warn(\n",
            "/usr/local/lib/python3.11/dist-packages/sklearn/linear_model/_logistic.py:1247: FutureWarning: 'multi_class' was deprecated in version 1.5 and will be removed in 1.7. From then on, it will always use 'multinomial'. Leave it to its default value to avoid this warning.\n",
            "  warnings.warn(\n",
            "/usr/local/lib/python3.11/dist-packages/sklearn/linear_model/_sag.py:348: ConvergenceWarning: The max_iter was reached which means the coef_ did not converge\n",
            "  warnings.warn(\n",
            "/usr/local/lib/python3.11/dist-packages/sklearn/linear_model/_logistic.py:1247: FutureWarning: 'multi_class' was deprecated in version 1.5 and will be removed in 1.7. From then on, it will always use 'multinomial'. Leave it to its default value to avoid this warning.\n",
            "  warnings.warn(\n",
            "/usr/local/lib/python3.11/dist-packages/sklearn/linear_model/_sag.py:348: ConvergenceWarning: The max_iter was reached which means the coef_ did not converge\n",
            "  warnings.warn(\n",
            "/usr/local/lib/python3.11/dist-packages/sklearn/linear_model/_logistic.py:1247: FutureWarning: 'multi_class' was deprecated in version 1.5 and will be removed in 1.7. From then on, it will always use 'multinomial'. Leave it to its default value to avoid this warning.\n",
            "  warnings.warn(\n",
            "/usr/local/lib/python3.11/dist-packages/sklearn/linear_model/_sag.py:348: ConvergenceWarning: The max_iter was reached which means the coef_ did not converge\n",
            "  warnings.warn(\n",
            "/usr/local/lib/python3.11/dist-packages/sklearn/linear_model/_logistic.py:1247: FutureWarning: 'multi_class' was deprecated in version 1.5 and will be removed in 1.7. From then on, it will always use 'multinomial'. Leave it to its default value to avoid this warning.\n",
            "  warnings.warn(\n",
            "/usr/local/lib/python3.11/dist-packages/sklearn/linear_model/_sag.py:348: ConvergenceWarning: The max_iter was reached which means the coef_ did not converge\n",
            "  warnings.warn(\n",
            "/usr/local/lib/python3.11/dist-packages/sklearn/linear_model/_logistic.py:1247: FutureWarning: 'multi_class' was deprecated in version 1.5 and will be removed in 1.7. From then on, it will always use 'multinomial'. Leave it to its default value to avoid this warning.\n",
            "  warnings.warn(\n",
            "/usr/local/lib/python3.11/dist-packages/sklearn/linear_model/_sag.py:348: ConvergenceWarning: The max_iter was reached which means the coef_ did not converge\n",
            "  warnings.warn(\n",
            "/usr/local/lib/python3.11/dist-packages/sklearn/linear_model/_logistic.py:1247: FutureWarning: 'multi_class' was deprecated in version 1.5 and will be removed in 1.7. From then on, it will always use 'multinomial'. Leave it to its default value to avoid this warning.\n",
            "  warnings.warn(\n",
            "/usr/local/lib/python3.11/dist-packages/sklearn/linear_model/_sag.py:348: ConvergenceWarning: The max_iter was reached which means the coef_ did not converge\n",
            "  warnings.warn(\n",
            "/usr/local/lib/python3.11/dist-packages/sklearn/linear_model/_logistic.py:1247: FutureWarning: 'multi_class' was deprecated in version 1.5 and will be removed in 1.7. From then on, it will always use 'multinomial'. Leave it to its default value to avoid this warning.\n",
            "  warnings.warn(\n",
            "/usr/local/lib/python3.11/dist-packages/sklearn/linear_model/_sag.py:348: ConvergenceWarning: The max_iter was reached which means the coef_ did not converge\n",
            "  warnings.warn(\n",
            "/usr/local/lib/python3.11/dist-packages/sklearn/linear_model/_logistic.py:1247: FutureWarning: 'multi_class' was deprecated in version 1.5 and will be removed in 1.7. From then on, it will always use 'multinomial'. Leave it to its default value to avoid this warning.\n",
            "  warnings.warn(\n",
            "/usr/local/lib/python3.11/dist-packages/sklearn/linear_model/_sag.py:348: ConvergenceWarning: The max_iter was reached which means the coef_ did not converge\n",
            "  warnings.warn(\n",
            "/usr/local/lib/python3.11/dist-packages/sklearn/linear_model/_logistic.py:1247: FutureWarning: 'multi_class' was deprecated in version 1.5 and will be removed in 1.7. From then on, it will always use 'multinomial'. Leave it to its default value to avoid this warning.\n",
            "  warnings.warn(\n"
          ]
        },
        {
          "output_type": "stream",
          "name": "stdout",
          "text": [
            "Best Parameters: {'C': 1, 'penalty': 'l1'}\n",
            "Test Accuracy: 1.00\n"
          ]
        },
        {
          "output_type": "stream",
          "name": "stderr",
          "text": [
            "/usr/local/lib/python3.11/dist-packages/sklearn/linear_model/_sag.py:348: ConvergenceWarning: The max_iter was reached which means the coef_ did not converge\n",
            "  warnings.warn(\n",
            "/usr/local/lib/python3.11/dist-packages/sklearn/linear_model/_logistic.py:1247: FutureWarning: 'multi_class' was deprecated in version 1.5 and will be removed in 1.7. From then on, it will always use 'multinomial'. Leave it to its default value to avoid this warning.\n",
            "  warnings.warn(\n",
            "/usr/local/lib/python3.11/dist-packages/sklearn/linear_model/_sag.py:348: ConvergenceWarning: The max_iter was reached which means the coef_ did not converge\n",
            "  warnings.warn(\n",
            "/usr/local/lib/python3.11/dist-packages/sklearn/linear_model/_logistic.py:1247: FutureWarning: 'multi_class' was deprecated in version 1.5 and will be removed in 1.7. From then on, it will always use 'multinomial'. Leave it to its default value to avoid this warning.\n",
            "  warnings.warn(\n",
            "/usr/local/lib/python3.11/dist-packages/sklearn/linear_model/_sag.py:348: ConvergenceWarning: The max_iter was reached which means the coef_ did not converge\n",
            "  warnings.warn(\n",
            "/usr/local/lib/python3.11/dist-packages/sklearn/linear_model/_logistic.py:1247: FutureWarning: 'multi_class' was deprecated in version 1.5 and will be removed in 1.7. From then on, it will always use 'multinomial'. Leave it to its default value to avoid this warning.\n",
            "  warnings.warn(\n",
            "/usr/local/lib/python3.11/dist-packages/sklearn/linear_model/_sag.py:348: ConvergenceWarning: The max_iter was reached which means the coef_ did not converge\n",
            "  warnings.warn(\n",
            "/usr/local/lib/python3.11/dist-packages/sklearn/linear_model/_logistic.py:1247: FutureWarning: 'multi_class' was deprecated in version 1.5 and will be removed in 1.7. From then on, it will always use 'multinomial'. Leave it to its default value to avoid this warning.\n",
            "  warnings.warn(\n",
            "/usr/local/lib/python3.11/dist-packages/sklearn/linear_model/_logistic.py:1247: FutureWarning: 'multi_class' was deprecated in version 1.5 and will be removed in 1.7. From then on, it will always use 'multinomial'. Leave it to its default value to avoid this warning.\n",
            "  warnings.warn(\n",
            "/usr/local/lib/python3.11/dist-packages/sklearn/linear_model/_sag.py:348: ConvergenceWarning: The max_iter was reached which means the coef_ did not converge\n",
            "  warnings.warn(\n",
            "/usr/local/lib/python3.11/dist-packages/sklearn/linear_model/_logistic.py:1247: FutureWarning: 'multi_class' was deprecated in version 1.5 and will be removed in 1.7. From then on, it will always use 'multinomial'. Leave it to its default value to avoid this warning.\n",
            "  warnings.warn(\n",
            "/usr/local/lib/python3.11/dist-packages/sklearn/linear_model/_sag.py:348: ConvergenceWarning: The max_iter was reached which means the coef_ did not converge\n",
            "  warnings.warn(\n",
            "/usr/local/lib/python3.11/dist-packages/sklearn/linear_model/_logistic.py:1247: FutureWarning: 'multi_class' was deprecated in version 1.5 and will be removed in 1.7. From then on, it will always use 'multinomial'. Leave it to its default value to avoid this warning.\n",
            "  warnings.warn(\n",
            "/usr/local/lib/python3.11/dist-packages/sklearn/linear_model/_sag.py:348: ConvergenceWarning: The max_iter was reached which means the coef_ did not converge\n",
            "  warnings.warn(\n",
            "/usr/local/lib/python3.11/dist-packages/sklearn/linear_model/_logistic.py:1247: FutureWarning: 'multi_class' was deprecated in version 1.5 and will be removed in 1.7. From then on, it will always use 'multinomial'. Leave it to its default value to avoid this warning.\n",
            "  warnings.warn(\n",
            "/usr/local/lib/python3.11/dist-packages/sklearn/linear_model/_sag.py:348: ConvergenceWarning: The max_iter was reached which means the coef_ did not converge\n",
            "  warnings.warn(\n"
          ]
        }
      ]
    },
    {
      "cell_type": "markdown",
      "source": [
        "7. Write a Python program to evaluate Logistic Regression using Stratified K-Fold Cross-Validation. Print the average accuracy."
      ],
      "metadata": {
        "id": "XOR3UPjd3QZL"
      }
    },
    {
      "cell_type": "code",
      "source": [
        "from sklearn.datasets import load_iris\n",
        "from sklearn.linear_model import LogisticRegression\n",
        "from sklearn.model_selection import StratifiedKFold\n",
        "from sklearn.metrics import accuracy_score\n",
        "import numpy as np\n",
        "\n",
        "# Step 1: Load the dataset\n",
        "data = load_iris()\n",
        "X = data.data\n",
        "y = data.target\n",
        "\n",
        "# Step 2: Define Stratified K-Fold\n",
        "skf = StratifiedKFold(n_splits=5, shuffle=True, random_state=42)\n",
        "\n",
        "# Step 3: Define the model\n",
        "model = LogisticRegression(max_iter=200, solver='lbfgs', multi_class='multinomial')\n",
        "\n",
        "# Step 4: Perform cross-validation\n",
        "accuracies = []\n",
        "\n",
        "for fold, (train_index, test_index) in enumerate(skf.split(X, y), 1):\n",
        "    X_train, X_test = X[train_index], X[test_index]\n",
        "    y_train, y_test = y[train_index], y[test_index]\n",
        "\n",
        "    model.fit(X_train, y_train)\n",
        "    y_pred = model.predict(X_test)\n",
        "    acc = accuracy_score(y_test, y_pred)\n",
        "    accuracies.append(acc)\n",
        "    print(f\"Fold {fold} Accuracy: {acc:.2f}\")\n",
        "\n",
        "# Step 5: Print average accuracy\n",
        "print(f\"\\nAverage Accuracy: {np.mean(accuracies):.2f}\")\n"
      ],
      "metadata": {
        "colab": {
          "base_uri": "https://localhost:8080/"
        },
        "id": "ySWTaQ2V2Y7t",
        "outputId": "7bb0a3da-056d-4613-db55-496e0b435922"
      },
      "execution_count": null,
      "outputs": [
        {
          "output_type": "stream",
          "name": "stdout",
          "text": [
            "Fold 1 Accuracy: 1.00\n",
            "Fold 2 Accuracy: 0.97\n",
            "Fold 3 Accuracy: 0.93\n",
            "Fold 4 Accuracy: 1.00\n",
            "Fold 5 Accuracy: 0.93\n",
            "\n",
            "Average Accuracy: 0.97\n"
          ]
        },
        {
          "output_type": "stream",
          "name": "stderr",
          "text": [
            "/usr/local/lib/python3.11/dist-packages/sklearn/linear_model/_logistic.py:1247: FutureWarning: 'multi_class' was deprecated in version 1.5 and will be removed in 1.7. From then on, it will always use 'multinomial'. Leave it to its default value to avoid this warning.\n",
            "  warnings.warn(\n",
            "/usr/local/lib/python3.11/dist-packages/sklearn/linear_model/_logistic.py:1247: FutureWarning: 'multi_class' was deprecated in version 1.5 and will be removed in 1.7. From then on, it will always use 'multinomial'. Leave it to its default value to avoid this warning.\n",
            "  warnings.warn(\n",
            "/usr/local/lib/python3.11/dist-packages/sklearn/linear_model/_logistic.py:1247: FutureWarning: 'multi_class' was deprecated in version 1.5 and will be removed in 1.7. From then on, it will always use 'multinomial'. Leave it to its default value to avoid this warning.\n",
            "  warnings.warn(\n",
            "/usr/local/lib/python3.11/dist-packages/sklearn/linear_model/_logistic.py:1247: FutureWarning: 'multi_class' was deprecated in version 1.5 and will be removed in 1.7. From then on, it will always use 'multinomial'. Leave it to its default value to avoid this warning.\n",
            "  warnings.warn(\n",
            "/usr/local/lib/python3.11/dist-packages/sklearn/linear_model/_logistic.py:1247: FutureWarning: 'multi_class' was deprecated in version 1.5 and will be removed in 1.7. From then on, it will always use 'multinomial'. Leave it to its default value to avoid this warning.\n",
            "  warnings.warn(\n"
          ]
        }
      ]
    },
    {
      "cell_type": "markdown",
      "source": [
        "\n",
        "8. Write a Python program to load a dataset from a CSV file, apply Logistic Regression, and evaluate its accuracy."
      ],
      "metadata": {
        "id": "7xx4QdlO2ZWC"
      }
    },
    {
      "cell_type": "code",
      "source": [
        "import pandas as pd\n",
        "from sklearn.model_selection import train_test_split\n",
        "from sklearn.linear_model import LogisticRegression\n",
        "from sklearn.metrics import accuracy_score\n",
        "\n",
        "# Step 1: Load dataset from CSV file\n",
        "# Make sure to replace 'your_file.csv' with the actual filename\n",
        "data = pd.read_csv('target.csv')\n",
        "\n",
        "# Step 2: Separate features and target\n",
        "# Assume the target column is named 'target'; change it if needed\n",
        "X = data.drop('target', axis=1)\n",
        "y = data['target']\n",
        "\n",
        "# Step 3: Train-test split\n",
        "X_train, X_test, y_train, y_test = train_test_split(X, y, test_size=0.2, random_state=42)\n",
        "\n",
        "# Step 4: Train Logistic Regression model\n",
        "model = LogisticRegression(max_iter=200)\n",
        "model.fit(X_train, y_train)\n",
        "\n",
        "# Step 5: Predict and evaluate\n",
        "y_pred = model.predict(X_test)\n",
        "accuracy = accuracy_score(y_test, y_pred)\n",
        "\n",
        "# Step 6: Print accuracy\n",
        "print(f\"Logistic Regression Accuracy: {accuracy:.2f}\")\n"
      ],
      "metadata": {
        "colab": {
          "base_uri": "https://localhost:8080/",
          "height": 391
        },
        "id": "jaysax1t353F",
        "outputId": "6b6fc645-bd9f-4ce1-f050-398db95eff1f"
      },
      "execution_count": null,
      "outputs": [
        {
          "output_type": "error",
          "ename": "FileNotFoundError",
          "evalue": "[Errno 2] No such file or directory: 'target.csv'",
          "traceback": [
            "\u001b[0;31m---------------------------------------------------------------------------\u001b[0m",
            "\u001b[0;31mFileNotFoundError\u001b[0m                         Traceback (most recent call last)",
            "\u001b[0;32m<ipython-input-11-2f3997afb946>\u001b[0m in \u001b[0;36m<cell line: 0>\u001b[0;34m()\u001b[0m\n\u001b[1;32m      6\u001b[0m \u001b[0;31m# Step 1: Load dataset from CSV file\u001b[0m\u001b[0;34m\u001b[0m\u001b[0;34m\u001b[0m\u001b[0m\n\u001b[1;32m      7\u001b[0m \u001b[0;31m# Make sure to replace 'your_file.csv' with the actual filename\u001b[0m\u001b[0;34m\u001b[0m\u001b[0;34m\u001b[0m\u001b[0m\n\u001b[0;32m----> 8\u001b[0;31m \u001b[0mdata\u001b[0m \u001b[0;34m=\u001b[0m \u001b[0mpd\u001b[0m\u001b[0;34m.\u001b[0m\u001b[0mread_csv\u001b[0m\u001b[0;34m(\u001b[0m\u001b[0;34m'target.csv'\u001b[0m\u001b[0;34m)\u001b[0m\u001b[0;34m\u001b[0m\u001b[0;34m\u001b[0m\u001b[0m\n\u001b[0m\u001b[1;32m      9\u001b[0m \u001b[0;34m\u001b[0m\u001b[0m\n\u001b[1;32m     10\u001b[0m \u001b[0;31m# Step 2: Separate features and target\u001b[0m\u001b[0;34m\u001b[0m\u001b[0;34m\u001b[0m\u001b[0m\n",
            "\u001b[0;32m/usr/local/lib/python3.11/dist-packages/pandas/io/parsers/readers.py\u001b[0m in \u001b[0;36mread_csv\u001b[0;34m(filepath_or_buffer, sep, delimiter, header, names, index_col, usecols, dtype, engine, converters, true_values, false_values, skipinitialspace, skiprows, skipfooter, nrows, na_values, keep_default_na, na_filter, verbose, skip_blank_lines, parse_dates, infer_datetime_format, keep_date_col, date_parser, date_format, dayfirst, cache_dates, iterator, chunksize, compression, thousands, decimal, lineterminator, quotechar, quoting, doublequote, escapechar, comment, encoding, encoding_errors, dialect, on_bad_lines, delim_whitespace, low_memory, memory_map, float_precision, storage_options, dtype_backend)\u001b[0m\n\u001b[1;32m   1024\u001b[0m     \u001b[0mkwds\u001b[0m\u001b[0;34m.\u001b[0m\u001b[0mupdate\u001b[0m\u001b[0;34m(\u001b[0m\u001b[0mkwds_defaults\u001b[0m\u001b[0;34m)\u001b[0m\u001b[0;34m\u001b[0m\u001b[0;34m\u001b[0m\u001b[0m\n\u001b[1;32m   1025\u001b[0m \u001b[0;34m\u001b[0m\u001b[0m\n\u001b[0;32m-> 1026\u001b[0;31m     \u001b[0;32mreturn\u001b[0m \u001b[0m_read\u001b[0m\u001b[0;34m(\u001b[0m\u001b[0mfilepath_or_buffer\u001b[0m\u001b[0;34m,\u001b[0m \u001b[0mkwds\u001b[0m\u001b[0;34m)\u001b[0m\u001b[0;34m\u001b[0m\u001b[0;34m\u001b[0m\u001b[0m\n\u001b[0m\u001b[1;32m   1027\u001b[0m \u001b[0;34m\u001b[0m\u001b[0m\n\u001b[1;32m   1028\u001b[0m \u001b[0;34m\u001b[0m\u001b[0m\n",
            "\u001b[0;32m/usr/local/lib/python3.11/dist-packages/pandas/io/parsers/readers.py\u001b[0m in \u001b[0;36m_read\u001b[0;34m(filepath_or_buffer, kwds)\u001b[0m\n\u001b[1;32m    618\u001b[0m \u001b[0;34m\u001b[0m\u001b[0m\n\u001b[1;32m    619\u001b[0m     \u001b[0;31m# Create the parser.\u001b[0m\u001b[0;34m\u001b[0m\u001b[0;34m\u001b[0m\u001b[0m\n\u001b[0;32m--> 620\u001b[0;31m     \u001b[0mparser\u001b[0m \u001b[0;34m=\u001b[0m \u001b[0mTextFileReader\u001b[0m\u001b[0;34m(\u001b[0m\u001b[0mfilepath_or_buffer\u001b[0m\u001b[0;34m,\u001b[0m \u001b[0;34m**\u001b[0m\u001b[0mkwds\u001b[0m\u001b[0;34m)\u001b[0m\u001b[0;34m\u001b[0m\u001b[0;34m\u001b[0m\u001b[0m\n\u001b[0m\u001b[1;32m    621\u001b[0m \u001b[0;34m\u001b[0m\u001b[0m\n\u001b[1;32m    622\u001b[0m     \u001b[0;32mif\u001b[0m \u001b[0mchunksize\u001b[0m \u001b[0;32mor\u001b[0m \u001b[0miterator\u001b[0m\u001b[0;34m:\u001b[0m\u001b[0;34m\u001b[0m\u001b[0;34m\u001b[0m\u001b[0m\n",
            "\u001b[0;32m/usr/local/lib/python3.11/dist-packages/pandas/io/parsers/readers.py\u001b[0m in \u001b[0;36m__init__\u001b[0;34m(self, f, engine, **kwds)\u001b[0m\n\u001b[1;32m   1618\u001b[0m \u001b[0;34m\u001b[0m\u001b[0m\n\u001b[1;32m   1619\u001b[0m         \u001b[0mself\u001b[0m\u001b[0;34m.\u001b[0m\u001b[0mhandles\u001b[0m\u001b[0;34m:\u001b[0m \u001b[0mIOHandles\u001b[0m \u001b[0;34m|\u001b[0m \u001b[0;32mNone\u001b[0m \u001b[0;34m=\u001b[0m \u001b[0;32mNone\u001b[0m\u001b[0;34m\u001b[0m\u001b[0;34m\u001b[0m\u001b[0m\n\u001b[0;32m-> 1620\u001b[0;31m         \u001b[0mself\u001b[0m\u001b[0;34m.\u001b[0m\u001b[0m_engine\u001b[0m \u001b[0;34m=\u001b[0m \u001b[0mself\u001b[0m\u001b[0;34m.\u001b[0m\u001b[0m_make_engine\u001b[0m\u001b[0;34m(\u001b[0m\u001b[0mf\u001b[0m\u001b[0;34m,\u001b[0m \u001b[0mself\u001b[0m\u001b[0;34m.\u001b[0m\u001b[0mengine\u001b[0m\u001b[0;34m)\u001b[0m\u001b[0;34m\u001b[0m\u001b[0;34m\u001b[0m\u001b[0m\n\u001b[0m\u001b[1;32m   1621\u001b[0m \u001b[0;34m\u001b[0m\u001b[0m\n\u001b[1;32m   1622\u001b[0m     \u001b[0;32mdef\u001b[0m \u001b[0mclose\u001b[0m\u001b[0;34m(\u001b[0m\u001b[0mself\u001b[0m\u001b[0;34m)\u001b[0m \u001b[0;34m->\u001b[0m \u001b[0;32mNone\u001b[0m\u001b[0;34m:\u001b[0m\u001b[0;34m\u001b[0m\u001b[0;34m\u001b[0m\u001b[0m\n",
            "\u001b[0;32m/usr/local/lib/python3.11/dist-packages/pandas/io/parsers/readers.py\u001b[0m in \u001b[0;36m_make_engine\u001b[0;34m(self, f, engine)\u001b[0m\n\u001b[1;32m   1878\u001b[0m                 \u001b[0;32mif\u001b[0m \u001b[0;34m\"b\"\u001b[0m \u001b[0;32mnot\u001b[0m \u001b[0;32min\u001b[0m \u001b[0mmode\u001b[0m\u001b[0;34m:\u001b[0m\u001b[0;34m\u001b[0m\u001b[0;34m\u001b[0m\u001b[0m\n\u001b[1;32m   1879\u001b[0m                     \u001b[0mmode\u001b[0m \u001b[0;34m+=\u001b[0m \u001b[0;34m\"b\"\u001b[0m\u001b[0;34m\u001b[0m\u001b[0;34m\u001b[0m\u001b[0m\n\u001b[0;32m-> 1880\u001b[0;31m             self.handles = get_handle(\n\u001b[0m\u001b[1;32m   1881\u001b[0m                 \u001b[0mf\u001b[0m\u001b[0;34m,\u001b[0m\u001b[0;34m\u001b[0m\u001b[0;34m\u001b[0m\u001b[0m\n\u001b[1;32m   1882\u001b[0m                 \u001b[0mmode\u001b[0m\u001b[0;34m,\u001b[0m\u001b[0;34m\u001b[0m\u001b[0;34m\u001b[0m\u001b[0m\n",
            "\u001b[0;32m/usr/local/lib/python3.11/dist-packages/pandas/io/common.py\u001b[0m in \u001b[0;36mget_handle\u001b[0;34m(path_or_buf, mode, encoding, compression, memory_map, is_text, errors, storage_options)\u001b[0m\n\u001b[1;32m    871\u001b[0m         \u001b[0;32mif\u001b[0m \u001b[0mioargs\u001b[0m\u001b[0;34m.\u001b[0m\u001b[0mencoding\u001b[0m \u001b[0;32mand\u001b[0m \u001b[0;34m\"b\"\u001b[0m \u001b[0;32mnot\u001b[0m \u001b[0;32min\u001b[0m \u001b[0mioargs\u001b[0m\u001b[0;34m.\u001b[0m\u001b[0mmode\u001b[0m\u001b[0;34m:\u001b[0m\u001b[0;34m\u001b[0m\u001b[0;34m\u001b[0m\u001b[0m\n\u001b[1;32m    872\u001b[0m             \u001b[0;31m# Encoding\u001b[0m\u001b[0;34m\u001b[0m\u001b[0;34m\u001b[0m\u001b[0m\n\u001b[0;32m--> 873\u001b[0;31m             handle = open(\n\u001b[0m\u001b[1;32m    874\u001b[0m                 \u001b[0mhandle\u001b[0m\u001b[0;34m,\u001b[0m\u001b[0;34m\u001b[0m\u001b[0;34m\u001b[0m\u001b[0m\n\u001b[1;32m    875\u001b[0m                 \u001b[0mioargs\u001b[0m\u001b[0;34m.\u001b[0m\u001b[0mmode\u001b[0m\u001b[0;34m,\u001b[0m\u001b[0;34m\u001b[0m\u001b[0;34m\u001b[0m\u001b[0m\n",
            "\u001b[0;31mFileNotFoundError\u001b[0m: [Errno 2] No such file or directory: 'target.csv'"
          ]
        }
      ]
    },
    {
      "cell_type": "markdown",
      "source": [
        "9. Write a Python program to apply Randomized SearchCV for tuning hyperparameters (C, penalty, solver) in Logistic Regression. Print the best parameters and accuracy.\n"
      ],
      "metadata": {
        "id": "GIXlxYeFxKlF"
      }
    },
    {
      "cell_type": "code",
      "source": [
        "import numpy as np\n",
        "from sklearn.datasets import load_iris\n",
        "from sklearn.linear_model import LogisticRegression\n",
        "from sklearn.model_selection import RandomizedSearchCV, train_test_split\n",
        "from sklearn.metrics import accuracy_score\n",
        "\n",
        "# Load dataset\n",
        "data = load_iris()\n",
        "X = data.data\n",
        "y = data.target\n",
        "\n",
        "# Train-test split\n",
        "X_train, X_test, y_train, y_test = train_test_split(X, y, test_size=0.2, random_state=42)\n",
        "\n",
        "# Logistic Regression model\n",
        "model = LogisticRegression(max_iter=1000)\n",
        "\n",
        "# Hyperparameter space\n",
        "param_dist = {\n",
        "    'C': np.logspace(-4, 4, 20),\n",
        "    'penalty': ['l1', 'l2', 'elasticnet', 'none'],\n",
        "    'solver': ['lbfgs', 'liblinear', 'saga', 'newton-cg']\n",
        "}\n",
        "\n",
        "# RandomizedSearchCV\n",
        "random_search = RandomizedSearchCV(\n",
        "    model,\n",
        "    param_distributions=param_dist,\n",
        "    n_iter=20,\n",
        "    scoring='accuracy',\n",
        "    cv=5,\n",
        "    verbose=1,\n",
        "    random_state=42,\n",
        "    n_jobs=-1\n",
        ")\n",
        "\n",
        "# Fit the model\n",
        "random_search.fit(X_train, y_train)\n",
        "\n",
        "# Predict and evaluate\n",
        "y_pred = random_search.best_estimator_.predict(X_test)\n",
        "accuracy = accuracy_score(y_test, y_pred)\n",
        "\n",
        "# Print best parameters and accuracy\n",
        "print(\"Best Parameters:\", random_search.best_params_)\n",
        "print(\"Best Cross-Validated Accuracy: {:.2f}\".format(random_search.best_score_))\n",
        "print(\"Test Set Accuracy: {:.2f}\".format(accuracy))\n"
      ],
      "metadata": {
        "colab": {
          "base_uri": "https://localhost:8080/"
        },
        "id": "t6lxPJY3xKE0",
        "outputId": "e5a186bd-5130-4e1d-d6ff-8126a93107e7"
      },
      "execution_count": null,
      "outputs": [
        {
          "output_type": "stream",
          "name": "stdout",
          "text": [
            "Fitting 5 folds for each of 20 candidates, totalling 100 fits\n",
            "Best Parameters: {'solver': 'newton-cg', 'penalty': 'l2', 'C': np.float64(1.623776739188721)}\n",
            "Best Cross-Validated Accuracy: 0.96\n",
            "Test Set Accuracy: 1.00\n"
          ]
        },
        {
          "output_type": "stream",
          "name": "stderr",
          "text": [
            "/usr/local/lib/python3.11/dist-packages/sklearn/model_selection/_validation.py:528: FitFailedWarning: \n",
            "70 fits failed out of a total of 100.\n",
            "The score on these train-test partitions for these parameters will be set to nan.\n",
            "If these failures are not expected, you can try to debug them by setting error_score='raise'.\n",
            "\n",
            "Below are more details about the failures:\n",
            "--------------------------------------------------------------------------------\n",
            "10 fits failed with the following error:\n",
            "Traceback (most recent call last):\n",
            "  File \"/usr/local/lib/python3.11/dist-packages/sklearn/model_selection/_validation.py\", line 866, in _fit_and_score\n",
            "    estimator.fit(X_train, y_train, **fit_params)\n",
            "  File \"/usr/local/lib/python3.11/dist-packages/sklearn/base.py\", line 1389, in wrapper\n",
            "    return fit_method(estimator, *args, **kwargs)\n",
            "           ^^^^^^^^^^^^^^^^^^^^^^^^^^^^^^^^^^^^^^\n",
            "  File \"/usr/local/lib/python3.11/dist-packages/sklearn/linear_model/_logistic.py\", line 1193, in fit\n",
            "    solver = _check_solver(self.solver, self.penalty, self.dual)\n",
            "             ^^^^^^^^^^^^^^^^^^^^^^^^^^^^^^^^^^^^^^^^^^^^^^^^^^^\n",
            "  File \"/usr/local/lib/python3.11/dist-packages/sklearn/linear_model/_logistic.py\", line 71, in _check_solver\n",
            "    raise ValueError(\n",
            "ValueError: Only 'saga' solver supports elasticnet penalty, got solver=liblinear.\n",
            "\n",
            "--------------------------------------------------------------------------------\n",
            "25 fits failed with the following error:\n",
            "Traceback (most recent call last):\n",
            "  File \"/usr/local/lib/python3.11/dist-packages/sklearn/model_selection/_validation.py\", line 866, in _fit_and_score\n",
            "    estimator.fit(X_train, y_train, **fit_params)\n",
            "  File \"/usr/local/lib/python3.11/dist-packages/sklearn/base.py\", line 1382, in wrapper\n",
            "    estimator._validate_params()\n",
            "  File \"/usr/local/lib/python3.11/dist-packages/sklearn/base.py\", line 436, in _validate_params\n",
            "    validate_parameter_constraints(\n",
            "  File \"/usr/local/lib/python3.11/dist-packages/sklearn/utils/_param_validation.py\", line 98, in validate_parameter_constraints\n",
            "    raise InvalidParameterError(\n",
            "sklearn.utils._param_validation.InvalidParameterError: The 'penalty' parameter of LogisticRegression must be a str among {'l1', 'elasticnet', 'l2'} or None. Got 'none' instead.\n",
            "\n",
            "--------------------------------------------------------------------------------\n",
            "5 fits failed with the following error:\n",
            "Traceback (most recent call last):\n",
            "  File \"/usr/local/lib/python3.11/dist-packages/sklearn/model_selection/_validation.py\", line 866, in _fit_and_score\n",
            "    estimator.fit(X_train, y_train, **fit_params)\n",
            "  File \"/usr/local/lib/python3.11/dist-packages/sklearn/base.py\", line 1382, in wrapper\n",
            "    estimator._validate_params()\n",
            "  File \"/usr/local/lib/python3.11/dist-packages/sklearn/base.py\", line 436, in _validate_params\n",
            "    validate_parameter_constraints(\n",
            "  File \"/usr/local/lib/python3.11/dist-packages/sklearn/utils/_param_validation.py\", line 98, in validate_parameter_constraints\n",
            "    raise InvalidParameterError(\n",
            "sklearn.utils._param_validation.InvalidParameterError: The 'penalty' parameter of LogisticRegression must be a str among {'elasticnet', 'l2', 'l1'} or None. Got 'none' instead.\n",
            "\n",
            "--------------------------------------------------------------------------------\n",
            "15 fits failed with the following error:\n",
            "Traceback (most recent call last):\n",
            "  File \"/usr/local/lib/python3.11/dist-packages/sklearn/model_selection/_validation.py\", line 866, in _fit_and_score\n",
            "    estimator.fit(X_train, y_train, **fit_params)\n",
            "  File \"/usr/local/lib/python3.11/dist-packages/sklearn/base.py\", line 1389, in wrapper\n",
            "    return fit_method(estimator, *args, **kwargs)\n",
            "           ^^^^^^^^^^^^^^^^^^^^^^^^^^^^^^^^^^^^^^\n",
            "  File \"/usr/local/lib/python3.11/dist-packages/sklearn/linear_model/_logistic.py\", line 1203, in fit\n",
            "    raise ValueError(\"l1_ratio must be specified when penalty is elasticnet.\")\n",
            "ValueError: l1_ratio must be specified when penalty is elasticnet.\n",
            "\n",
            "--------------------------------------------------------------------------------\n",
            "10 fits failed with the following error:\n",
            "Traceback (most recent call last):\n",
            "  File \"/usr/local/lib/python3.11/dist-packages/sklearn/model_selection/_validation.py\", line 866, in _fit_and_score\n",
            "    estimator.fit(X_train, y_train, **fit_params)\n",
            "  File \"/usr/local/lib/python3.11/dist-packages/sklearn/base.py\", line 1389, in wrapper\n",
            "    return fit_method(estimator, *args, **kwargs)\n",
            "           ^^^^^^^^^^^^^^^^^^^^^^^^^^^^^^^^^^^^^^\n",
            "  File \"/usr/local/lib/python3.11/dist-packages/sklearn/linear_model/_logistic.py\", line 1193, in fit\n",
            "    solver = _check_solver(self.solver, self.penalty, self.dual)\n",
            "             ^^^^^^^^^^^^^^^^^^^^^^^^^^^^^^^^^^^^^^^^^^^^^^^^^^^\n",
            "  File \"/usr/local/lib/python3.11/dist-packages/sklearn/linear_model/_logistic.py\", line 63, in _check_solver\n",
            "    raise ValueError(\n",
            "ValueError: Solver lbfgs supports only 'l2' or None penalties, got l1 penalty.\n",
            "\n",
            "--------------------------------------------------------------------------------\n",
            "5 fits failed with the following error:\n",
            "Traceback (most recent call last):\n",
            "  File \"/usr/local/lib/python3.11/dist-packages/sklearn/model_selection/_validation.py\", line 866, in _fit_and_score\n",
            "    estimator.fit(X_train, y_train, **fit_params)\n",
            "  File \"/usr/local/lib/python3.11/dist-packages/sklearn/base.py\", line 1389, in wrapper\n",
            "    return fit_method(estimator, *args, **kwargs)\n",
            "           ^^^^^^^^^^^^^^^^^^^^^^^^^^^^^^^^^^^^^^\n",
            "  File \"/usr/local/lib/python3.11/dist-packages/sklearn/linear_model/_logistic.py\", line 1193, in fit\n",
            "    solver = _check_solver(self.solver, self.penalty, self.dual)\n",
            "             ^^^^^^^^^^^^^^^^^^^^^^^^^^^^^^^^^^^^^^^^^^^^^^^^^^^\n",
            "  File \"/usr/local/lib/python3.11/dist-packages/sklearn/linear_model/_logistic.py\", line 63, in _check_solver\n",
            "    raise ValueError(\n",
            "ValueError: Solver lbfgs supports only 'l2' or None penalties, got elasticnet penalty.\n",
            "\n",
            "  warnings.warn(some_fits_failed_message, FitFailedWarning)\n",
            "/usr/local/lib/python3.11/dist-packages/sklearn/model_selection/_search.py:1108: UserWarning: One or more of the test scores are non-finite: [0.95833333 0.95833333        nan        nan        nan        nan\n",
            "        nan        nan 0.95              nan        nan        nan\n",
            " 0.33333333        nan        nan 0.93333333        nan        nan\n",
            " 0.85833333        nan]\n",
            "  warnings.warn(\n"
          ]
        }
      ]
    },
    {
      "cell_type": "markdown",
      "source": [
        "10. Write a Python program to implement One-vs-One (OvO) Multiclass Logistic Regression and print accuracy.\n"
      ],
      "metadata": {
        "id": "mrdLyXL0x56x"
      }
    },
    {
      "cell_type": "code",
      "source": [
        "from sklearn.datasets import load_iris\n",
        "from sklearn.linear_model import LogisticRegression\n",
        "from sklearn.multiclass import OneVsOneClassifier\n",
        "from sklearn.model_selection import train_test_split\n",
        "from sklearn.metrics import accuracy_score\n",
        "\n",
        "# Load dataset\n",
        "data = load_iris()\n",
        "X = data.data\n",
        "y = data.target\n",
        "\n",
        "# Train-test split\n",
        "X_train, X_test, y_train, y_test = train_test_split(X, y, test_size=0.2, random_state=42)\n",
        "\n",
        "# Create Logistic Regression model\n",
        "base_model = LogisticRegression(max_iter=1000)\n",
        "\n",
        "# Wrap with One-vs-One strategy\n",
        "ovo_model = OneVsOneClassifier(base_model)\n",
        "\n",
        "# Train model\n",
        "ovo_model.fit(X_train, y_train)\n",
        "\n",
        "# Predict and evaluate\n",
        "y_pred = ovo_model.predict(X_test)\n",
        "accuracy = accuracy_score(y_test, y_pred)\n",
        "\n",
        "# Print accuracy\n",
        "print(\"One-vs-One Logistic Regression Accuracy: {:.2f}\".format(accuracy))\n"
      ],
      "metadata": {
        "colab": {
          "base_uri": "https://localhost:8080/"
        },
        "id": "t4eHgmx2x6ZD",
        "outputId": "8bfa749c-46f0-4011-d9b2-77e357b2cc18"
      },
      "execution_count": null,
      "outputs": [
        {
          "output_type": "stream",
          "name": "stdout",
          "text": [
            "One-vs-One Logistic Regression Accuracy: 1.00\n"
          ]
        }
      ]
    },
    {
      "cell_type": "markdown",
      "source": [
        "11. Write a Python program to train a Logistic Regression model and visualize the confusion matrix for binary classification.\n"
      ],
      "metadata": {
        "id": "NsUeRIeIx65H"
      }
    },
    {
      "cell_type": "code",
      "source": [
        "import numpy as np\n",
        "import pandas as pd\n",
        "import matplotlib.pyplot as plt\n",
        "import seaborn as sns\n",
        "from sklearn.datasets import make_classification\n",
        "from sklearn.linear_model import LogisticRegression\n",
        "from sklearn.model_selection import train_test_split\n",
        "from sklearn.metrics import confusion_matrix, ConfusionMatrixDisplay\n",
        "\n",
        "# Generate a synthetic binary classification dataset\n",
        "X, y = make_classification(n_samples=1000, n_features=10, n_informative=5,\n",
        "                           n_redundant=2, n_classes=2, random_state=42)\n",
        "\n",
        "# Split dataset into training and testing sets\n",
        "X_train, X_test, y_train, y_test = train_test_split(X, y, test_size=0.3, random_state=42)\n",
        "\n",
        "# Create and train the Logistic Regression model\n",
        "model = LogisticRegression(max_iter=1000)\n",
        "model.fit(X_train, y_train)\n",
        "\n",
        "# Predict on test set\n",
        "y_pred = model.predict(X_test)\n",
        "\n",
        "# Compute confusion matrix\n",
        "cm = confusion_matrix(y_test, y_pred)\n",
        "\n",
        "# Visualize confusion matrix\n",
        "plt.figure(figsize=(6, 4))\n",
        "sns.heatmap(cm, annot=True, fmt='d', cmap='Blues',\n",
        "            xticklabels=['Predicted 0', 'Predicted 1'],\n",
        "            yticklabels=['Actual 0', 'Actual 1'])\n",
        "plt.title('Confusion Matrix')\n",
        "plt.xlabel('Prediction')\n",
        "plt.ylabel('Actual')\n",
        "plt.tight_layout()\n",
        "plt.show()\n"
      ],
      "metadata": {
        "id": "9eabQFeMx7iJ",
        "colab": {
          "base_uri": "https://localhost:8080/",
          "height": 407
        },
        "outputId": "a616f640-138d-4510-f63a-5886d69b7c34"
      },
      "execution_count": null,
      "outputs": [
        {
          "output_type": "display_data",
          "data": {
            "text/plain": [
              "<Figure size 600x400 with 2 Axes>"
            ],
            "image/png": "[encoded data removed]"
          },
          "metadata": {}
        }
      ]
    },
    {
      "cell_type": "markdown",
      "source": [
        "12. Write a Python program to train a Logistic Regression model and evaluate its performance using Precision, Recall, and Fl-Score.\n"
      ],
      "metadata": {
        "id": "tk_z-C_sO8hi"
      }
    },
    {
      "cell_type": "code",
      "source": [
        "import numpy as np\n",
        "import pandas as pd\n",
        "from sklearn.datasets import make_classification\n",
        "from sklearn.linear_model import LogisticRegression\n",
        "from sklearn.model_selection import train_test_split\n",
        "from sklearn.metrics import precision_score, recall_score, f1_score\n",
        "\n",
        "# Step 1: Generate synthetic binary classification data\n",
        "X, y = make_classification(n_samples=1000, n_features=10, n_informative=5,\n",
        "                           n_redundant=2, n_classes=2, random_state=42)\n",
        "\n",
        "# Step 2: Split data into training and testing sets\n",
        "X_train, X_test, y_train, y_test = train_test_split(X, y, test_size=0.3, random_state=42)\n",
        "\n",
        "# Step 3: Train Logistic Regression model\n",
        "model = LogisticRegression(max_iter=1000)\n",
        "model.fit(X_train, y_train)\n",
        "\n",
        "# Step 4: Make predictions\n",
        "y_pred = model.predict(X_test)\n",
        "\n",
        "# Step 5: Evaluate performance\n",
        "precision = precision_score(y_test, y_pred)\n",
        "recall = recall_score(y_test, y_pred)\n",
        "f1 = f1_score(y_test, y_pred)\n",
        "\n",
        "# Step 6: Print the evaluation metrics\n",
        "print(\"Precision:\", round(precision, 4))\n",
        "print(\"Recall:\", round(recall, 4))\n",
        "print(\"F1-Score:\", round(f1, 4))\n"
      ],
      "metadata": {
        "colab": {
          "base_uri": "https://localhost:8080/"
        },
        "id": "D6SLU7cdO89Q",
        "outputId": "e79a75c7-f58d-434e-bfb6-c951683473ca"
      },
      "execution_count": null,
      "outputs": [
        {
          "output_type": "stream",
          "name": "stdout",
          "text": [
            "Precision: 0.8296\n",
            "Recall: 0.7887\n",
            "F1-Score: 0.8087\n"
          ]
        }
      ]
    },
    {
      "cell_type": "markdown",
      "source": [
        "13. Write a Python program to train a Logistic Regression model on imbalanced data and apply class weights to improve model performance.\n"
      ],
      "metadata": {
        "id": "N-mUpPkCO9Xp"
      }
    },
    {
      "cell_type": "code",
      "source": [
        "import numpy as np\n",
        "from sklearn.datasets import make_classification\n",
        "from sklearn.linear_model import LogisticRegression\n",
        "from sklearn.model_selection import train_test_split\n",
        "from sklearn.metrics import classification_report, confusion_matrix\n",
        "import seaborn as sns\n",
        "import matplotlib.pyplot as plt\n",
        "\n",
        "# Step 1: Generate imbalanced binary classification data\n",
        "X, y = make_classification(n_samples=1000, n_features=10, n_informative=5,\n",
        "                           n_redundant=2, weights=[0.9, 0.1], flip_y=0, random_state=42)\n",
        "\n",
        "# Step 2: Split data into training and test sets\n",
        "X_train, X_test, y_train, y_test = train_test_split(X, y, test_size=0.3, random_state=42)\n",
        "\n",
        "# Step 3: Train Logistic Regression with class weights\n",
        "model = LogisticRegression(class_weight='balanced', max_iter=1000)\n",
        "model.fit(X_train, y_train)\n",
        "\n",
        "# Step 4: Predict on test set\n",
        "y_pred = model.predict(X_test)\n",
        "\n",
        "# Step 5: Evaluate model\n",
        "print(\"Classification Report:\\n\")\n",
        "print(classification_report(y_test, y_pred))\n",
        "\n",
        "# Step 6: Confusion Matrix\n",
        "cm = confusion_matrix(y_test, y_pred)\n",
        "\n",
        "plt.figure(figsize=(6, 4))\n",
        "sns.heatmap(cm, annot=True, fmt='d', cmap='YlGnBu',\n",
        "            xticklabels=['Predicted 0', 'Predicted 1'],\n",
        "            yticklabels=['Actual 0', 'Actual 1'])\n",
        "plt.title('Confusion Matrix')\n",
        "plt.xlabel('Prediction')\n",
        "plt.ylabel('Actual')\n",
        "plt.tight_layout()\n",
        "plt.show()\n"
      ],
      "metadata": {
        "colab": {
          "base_uri": "https://localhost:8080/",
          "height": 598
        },
        "id": "RkPu_DLZO9vJ",
        "outputId": "05d5d73d-93c9-47f1-e643-52f34423ede3"
      },
      "execution_count": null,
      "outputs": [
        {
          "output_type": "stream",
          "name": "stdout",
          "text": [
            "Classification Report:\n",
            "\n",
            "              precision    recall  f1-score   support\n",
            "\n",
            "           0       0.97      0.80      0.88       274\n",
            "           1       0.26      0.73      0.38        26\n",
            "\n",
            "    accuracy                           0.80       300\n",
            "   macro avg       0.61      0.77      0.63       300\n",
            "weighted avg       0.91      0.80      0.84       300\n",
            "\n"
          ]
        },
        {
          "output_type": "display_data",
          "data": {
            "text/plain": [
              "<Figure size 600x400 with 2 Axes>"
            ],
            "image/png": "[encoded data removed]"
          },
          "metadata": {}
        }
      ]
    },
    {
      "cell_type": "markdown",
      "source": [
        "14. Write a Python program to train Logistic Regression on the Titanic dataset, handle missing values, and evaluate performance.\n"
      ],
      "metadata": {
        "id": "t5kTBHcGPNmQ"
      }
    },
    {
      "cell_type": "code",
      "source": [
        "import seaborn as sns\n",
        "import pandas as pd\n",
        "import numpy as np\n",
        "from sklearn.model_selection import train_test_split\n",
        "from sklearn.linear_model import LogisticRegression\n",
        "from sklearn.metrics import classification_report, confusion_matrix\n",
        "import matplotlib.pyplot as plt\n",
        "import seaborn as sns\n",
        "\n",
        "# Step 1: Load Titanic dataset\n",
        "df = sns.load_dataset('titanic')\n",
        "\n",
        "# Step 2: Preprocess data\n",
        "# Drop rows with missing 'embarked', 'age', or 'fare'\n",
        "df = df.dropna(subset=['embarked', 'age', 'fare'])\n",
        "\n",
        "# Select relevant features and encode categorical variables\n",
        "df['sex'] = df['sex'].map({'male': 0, 'female': 1})\n",
        "df['embarked'] = df['embarked'].map({'S': 0, 'C': 1, 'Q': 2})\n",
        "\n",
        "# Fill any remaining missing values\n",
        "df = df[['survived', 'pclass', 'sex', 'age', 'sibsp', 'parch', 'fare', 'embarked']].dropna()\n",
        "\n",
        "# Step 3: Define features and target\n",
        "X = df.drop('survived', axis=1)\n",
        "y = df['survived']\n",
        "\n",
        "# Step 4: Split into training and testing sets\n",
        "X_train, X_test, y_train, y_test = train_test_split(X, y, test_size=0.3, random_state=42)\n",
        "\n",
        "# Step 5: Train Logistic Regression model\n",
        "model = LogisticRegression(max_iter=1000)\n",
        "model.fit(X_train, y_train)\n",
        "\n",
        "# Step 6: Predict and evaluate\n",
        "y_pred = model.predict(X_test)\n",
        "\n",
        "print(\"Classification Report:\\n\")\n",
        "print(classification_report(y_test, y_pred))\n",
        "\n",
        "# Step 7: Confusion matrix\n",
        "cm = confusion_matrix(y_test, y_pred)\n",
        "plt.figure(figsize=(6, 4))\n",
        "sns.heatmap(cm, annot=True, fmt='d', cmap='coolwarm',\n",
        "            xticklabels=['Predicted 0', 'Predicted 1'],\n",
        "            yticklabels=['Actual 0', 'Actual 1'])\n",
        "plt.title('Confusion Matrix')\n",
        "plt.xlabel('Prediction')\n",
        "plt.ylabel('Actual')\n",
        "plt.tight_layout()\n",
        "plt.show()\n"
      ],
      "metadata": {
        "colab": {
          "base_uri": "https://localhost:8080/",
          "height": 598
        },
        "id": "9bfxvUtvPOAD",
        "outputId": "e1ea947d-b744-4bf9-c90b-c5f82c6488bc"
      },
      "execution_count": null,
      "outputs": [
        {
          "output_type": "stream",
          "name": "stdout",
          "text": [
            "Classification Report:\n",
            "\n",
            "              precision    recall  f1-score   support\n",
            "\n",
            "           0       0.79      0.86      0.82       122\n",
            "           1       0.79      0.70      0.74        92\n",
            "\n",
            "    accuracy                           0.79       214\n",
            "   macro avg       0.79      0.78      0.78       214\n",
            "weighted avg       0.79      0.79      0.79       214\n",
            "\n"
          ]
        },
        {
          "output_type": "display_data",
          "data": {
            "text/plain": [
              "<Figure size 600x400 with 2 Axes>"
            ],
            "image/png": "[encoded data removed]"
          },
          "metadata": {}
        }
      ]
    },
    {
      "cell_type": "markdown",
      "source": [
        "15. Write a Python program to apply feature scaling (Standardization) before training a Logistic Regression model. Evaluate its accuracy and compare results with and without scaling.\n"
      ],
      "metadata": {
        "id": "lq0BcaFLPOYT"
      }
    },
    {
      "cell_type": "code",
      "source": [
        "import seaborn as sns\n",
        "import pandas as pd\n",
        "import numpy as np\n",
        "from sklearn.model_selection import train_test_split\n",
        "from sklearn.linear_model import LogisticRegression\n",
        "from sklearn.preprocessing import StandardScaler\n",
        "from sklearn.metrics import accuracy_score\n",
        "\n",
        "# Load Titanic dataset\n",
        "df = sns.load_dataset('titanic')\n",
        "\n",
        "# Preprocess data\n",
        "df = df.dropna(subset=['age', 'fare', 'embarked'])\n",
        "\n",
        "# Encode categorical features\n",
        "df['sex'] = df['sex'].map({'male': 0, 'female': 1})\n",
        "df['embarked'] = df['embarked'].map({'S': 0, 'C': 1, 'Q': 2})\n",
        "\n",
        "# Use selected features\n",
        "features = ['pclass', 'sex', 'age', 'sibsp', 'parch', 'fare', 'embarked']\n",
        "X = df[features]\n",
        "y = df['survived']\n",
        "\n",
        "# Train/test split\n",
        "X_train, X_test, y_train, y_test = train_test_split(X, y, test_size=0.3, random_state=42)\n",
        "\n",
        "# ----------- Without Scaling -----------\n",
        "model_plain = LogisticRegression(max_iter=1000)\n",
        "model_plain.fit(X_train, y_train)\n",
        "y_pred_plain = model_plain.predict(X_test)\n",
        "acc_plain = accuracy_score(y_test, y_pred_plain)\n",
        "\n",
        "# ----------- With Standardization -----------\n",
        "scaler = StandardScaler()\n",
        "X_train_scaled = scaler.fit_transform(X_train)\n",
        "X_test_scaled = scaler.transform(X_test)\n",
        "\n",
        "model_scaled = LogisticRegression(max_iter=1000)\n",
        "model_scaled.fit(X_train_scaled, y_train)\n",
        "y_pred_scaled = model_scaled.predict(X_test_scaled)\n",
        "acc_scaled = accuracy_score(y_test, y_pred_scaled)\n",
        "\n",
        "# ----------- Compare Results -----------\n",
        "print(\"Accuracy WITHOUT Scaling:\", round(acc_plain, 4))\n",
        "print(\"Accuracy WITH Scaling:   \", round(acc_scaled, 4))\n"
      ],
      "metadata": {
        "colab": {
          "base_uri": "https://localhost:8080/"
        },
        "id": "VNwYgSs6POvE",
        "outputId": "6127edeb-6d7b-4504-8d36-0b61d7eb8b3c"
      },
      "execution_count": null,
      "outputs": [
        {
          "output_type": "stream",
          "name": "stdout",
          "text": [
            "Accuracy WITHOUT Scaling: 0.7897\n",
            "Accuracy WITH Scaling:    0.7897\n"
          ]
        }
      ]
    },
    {
      "cell_type": "markdown",
      "source": [
        "16. Write a Python program to train Logistic Regression and evaluate its performance using ROC-AUC score.\n",
        "\n",
        "\n"
      ],
      "metadata": {
        "id": "XremREPHPlxG"
      }
    },
    {
      "cell_type": "code",
      "source": [
        "import seaborn as sns\n",
        "import pandas as pd\n",
        "from sklearn.model_selection import train_test_split\n",
        "from sklearn.linear_model import LogisticRegression\n",
        "from sklearn.metrics import roc_auc_score, roc_curve, auc\n",
        "import matplotlib.pyplot as plt\n",
        "\n",
        "# Step 1: Load and prepare Titanic dataset\n",
        "df = sns.load_dataset('titanic')\n",
        "df = df.dropna(subset=['age', 'fare', 'embarked'])\n",
        "\n",
        "# Encode categorical features\n",
        "df['sex'] = df['sex'].map({'male': 0, 'female': 1})\n",
        "df['embarked'] = df['embarked'].map({'S': 0, 'C': 1, 'Q': 2})\n",
        "\n",
        "# Select features and target\n",
        "features = ['pclass', 'sex', 'age', 'sibsp', 'parch', 'fare', 'embarked']\n",
        "X = df[features]\n",
        "y = df['survived']\n",
        "\n",
        "# Step 2: Train/Test split\n",
        "X_train, X_test, y_train, y_test = train_test_split(X, y, test_size=0.3, random_state=42)\n",
        "\n",
        "# Step 3: Train Logistic Regression model\n",
        "model = LogisticRegression(max_iter=1000)\n",
        "model.fit(X_train, y_train)\n",
        "\n",
        "# Step 4: Predict probabilities and calculate ROC-AUC\n",
        "y_probs = model.predict_proba(X_test)[:, 1]\n",
        "roc_auc = roc_auc_score(y_test, y_probs)\n",
        "\n",
        "print(\"ROC-AUC Score:\", round(roc_auc, 4))\n",
        "\n",
        "# Step 5: Plot ROC Curve\n",
        "fpr, tpr, _ = roc_curve(y_test, y_probs)\n",
        "plt.figure(figsize=(6, 4))\n",
        "plt.plot(fpr, tpr, label=f'Logistic Regression (AUC = {roc_auc:.2f})')\n",
        "plt.plot([0, 1], [0, 1], 'k--')  # Diagonal line\n",
        "plt.xlabel('False Positive Rate')\n",
        "plt.ylabel('True Positive Rate')\n",
        "plt.title('ROC Curve')\n",
        "plt.legend()\n",
        "plt.tight_layout()\n",
        "plt.show()\n"
      ],
      "metadata": {
        "colab": {
          "base_uri": "https://localhost:8080/",
          "height": 424
        },
        "id": "mAimCX8_PmK2",
        "outputId": "83d963a9-917e-4e7e-92f3-79b59826609e"
      },
      "execution_count": null,
      "outputs": [
        {
          "output_type": "stream",
          "name": "stdout",
          "text": [
            "ROC-AUC Score: 0.8111\n"
          ]
        },
        {
          "output_type": "display_data",
          "data": {
            "text/plain": [
              "<Figure size 600x400 with 1 Axes>"
            ],
            "image/png": "[encoded data removed]"
          },
          "metadata": {}
        }
      ]
    },
    {
      "cell_type": "markdown",
      "source": [
        "\n",
        "17. Write a Python program to train Logistic Regression using a custom learning rate (C=0.5) and evaluate accuracy.\n"
      ],
      "metadata": {
        "id": "oMA0jKnuPmjq"
      }
    },
    {
      "cell_type": "code",
      "source": [
        "import seaborn as sns\n",
        "import pandas as pd\n",
        "from sklearn.linear_model import LogisticRegression\n",
        "from sklearn.model_selection import train_test_split\n",
        "from sklearn.metrics import accuracy_score\n",
        "\n",
        "# Step 1: Load and clean Titanic dataset\n",
        "df = sns.load_dataset('titanic')\n",
        "df = df.dropna(subset=['age', 'fare', 'embarked'])\n",
        "\n",
        "# Encode categorical variables\n",
        "df['sex'] = df['sex'].map({'male': 0, 'female': 1})\n",
        "df['embarked'] = df['embarked'].map({'S': 0, 'C': 1, 'Q': 2})\n",
        "\n",
        "# Step 2: Feature selection\n",
        "features = ['pclass', 'sex', 'age', 'sibsp', 'parch', 'fare', 'embarked']\n",
        "X = df[features]\n",
        "y = df['survived']\n",
        "\n",
        "# Step 3: Train/Test split\n",
        "X_train, X_test, y_train, y_test = train_test_split(X, y, test_size=0.3, random_state=42)\n",
        "\n",
        "# Step 4: Train Logistic Regression with C=0.5\n",
        "model = LogisticRegression(C=0.5, max_iter=1000)\n",
        "model.fit(X_train, y_train)\n",
        "\n",
        "# Step 5: Predict and evaluate\n",
        "y_pred = model.predict(X_test)\n",
        "accuracy = accuracy_score(y_test, y_pred)\n",
        "\n",
        "print(\"Accuracy with C=0.5:\", round(accuracy, 4))\n"
      ],
      "metadata": {
        "colab": {
          "base_uri": "https://localhost:8080/"
        },
        "id": "jzR5q1sVPnB4",
        "outputId": "7a798e4e-9d48-4195-fe33-b8cf7993742c"
      },
      "execution_count": null,
      "outputs": [
        {
          "output_type": "stream",
          "name": "stdout",
          "text": [
            "Accuracy with C=0.5: 0.7944\n"
          ]
        }
      ]
    },
    {
      "cell_type": "markdown",
      "source": [
        "18. Write a Python program to train Logistic Regression and identify important features based on model coefficients.\n"
      ],
      "metadata": {
        "id": "PhZSFLr9PnX3"
      }
    },
    {
      "cell_type": "code",
      "source": [
        "import seaborn as sns\n",
        "import pandas as pd\n",
        "import numpy as np\n",
        "import matplotlib.pyplot as plt\n",
        "from sklearn.linear_model import LogisticRegression\n",
        "from sklearn.model_selection import train_test_split\n",
        "\n",
        "# Step 1: Load and preprocess Titanic dataset\n",
        "df = sns.load_dataset('titanic')\n",
        "df = df.dropna(subset=['age', 'fare', 'embarked'])\n",
        "\n",
        "# Encode categorical features\n",
        "df['sex'] = df['sex'].map({'male': 0, 'female': 1})\n",
        "df['embarked'] = df['embarked'].map({'S': 0, 'C': 1, 'Q': 2})\n",
        "\n",
        "# Step 2: Select features and target\n",
        "features = ['pclass', 'sex', 'age', 'sibsp', 'parch', 'fare', 'embarked']\n",
        "X = df[features]\n",
        "y = df['survived']\n",
        "\n",
        "# Step 3: Split into train and test sets\n",
        "X_train, X_test, y_train, y_test = train_test_split(X, y, test_size=0.3, random_state=42)\n",
        "\n",
        "# Step 4: Train Logistic Regression model\n",
        "model = LogisticRegression(max_iter=1000)\n",
        "model.fit(X_train, y_train)\n",
        "\n",
        "# Step 5: Extract and display feature importances\n",
        "coefficients = model.coef_[0]\n",
        "feature_importance = pd.Series(coefficients, index=features).sort_values()\n",
        "\n",
        "print(\"Feature Importances (from coefficients):\")\n",
        "print(feature_importance)\n",
        "\n",
        "# Step 6: Visualize\n",
        "plt.figure(figsize=(8, 5))\n",
        "feature_importance.plot(kind='barh', color='skyblue')\n",
        "plt.title('Feature Importance (Logistic Regression Coefficients)')\n",
        "plt.xlabel('Coefficient Value')\n",
        "plt.ylabel('Feature')\n",
        "plt.axvline(0, color='gray', linestyle='--')\n",
        "plt.tight_layout()\n",
        "plt.show()\n"
      ],
      "metadata": {
        "colab": {
          "base_uri": "https://localhost:8080/",
          "height": 663
        },
        "id": "3GPtzDcFPnw3",
        "outputId": "3895eb3d-5e38-401f-e208-727685f8be23"
      },
      "execution_count": null,
      "outputs": [
        {
          "output_type": "stream",
          "name": "stdout",
          "text": [
            "Feature Importances (from coefficients):\n",
            "pclass     -1.451062\n",
            "sibsp      -0.280636\n",
            "age        -0.039263\n",
            "fare        0.000036\n",
            "parch       0.032745\n",
            "embarked    0.156335\n",
            "sex         2.618901\n",
            "dtype: float64\n"
          ]
        },
        {
          "output_type": "display_data",
          "data": {
            "text/plain": [
              "<Figure size 800x500 with 1 Axes>"
            ],
            "image/png": "[encoded data removed]"
          },
          "metadata": {}
        }
      ]
    },
    {
      "cell_type": "markdown",
      "source": [
        "19. Write a Python program to train Logistic Regression and evaluate its performance using Cohen's Kappa Score.\n"
      ],
      "metadata": {
        "id": "FunX1Wh1QKxM"
      }
    },
    {
      "cell_type": "code",
      "source": [
        "import seaborn as sns\n",
        "import pandas as pd\n",
        "from sklearn.linear_model import LogisticRegression\n",
        "from sklearn.model_selection import train_test_split\n",
        "from sklearn.metrics import cohen_kappa_score\n",
        "\n",
        "# Step 1: Load and preprocess Titanic dataset\n",
        "df = sns.load_dataset('titanic')\n",
        "df = df.dropna(subset=['age', 'fare', 'embarked'])\n",
        "\n",
        "# Encode categorical variables\n",
        "df['sex'] = df['sex'].map({'male': 0, 'female': 1})\n",
        "df['embarked'] = df['embarked'].map({'S': 0, 'C': 1, 'Q': 2})\n",
        "\n",
        "# Step 2: Select features and target\n",
        "features = ['pclass', 'sex', 'age', 'sibsp', 'parch', 'fare', 'embarked']\n",
        "X = df[features]\n",
        "y = df['survived']\n",
        "\n",
        "# Step 3: Train/Test split\n",
        "X_train, X_test, y_train, y_test = train_test_split(X, y, test_size=0.3, random_state=42)\n",
        "\n",
        "# Step 4: Train Logistic Regression model\n",
        "model = LogisticRegression(max_iter=1000)\n",
        "model.fit(X_train, y_train)\n",
        "\n",
        "# Step 5: Predict and evaluate using Cohen’s Kappa Score\n",
        "y_pred = model.predict(X_test)\n",
        "kappa_score = cohen_kappa_score(y_test, y_pred)\n",
        "\n",
        "print(\"Cohen's Kappa Score:\", round(kappa_score, 4))\n"
      ],
      "metadata": {
        "colab": {
          "base_uri": "https://localhost:8080/"
        },
        "id": "v226Sk01QLQe",
        "outputId": "ba0a61ae-de74-45fc-923d-a92c805e4ba9"
      },
      "execution_count": null,
      "outputs": [
        {
          "output_type": "stream",
          "name": "stdout",
          "text": [
            "Cohen's Kappa Score: 0.5646\n"
          ]
        }
      ]
    },
    {
      "cell_type": "markdown",
      "source": [
        "20. Write a Python program to train Logistic Regression and visualize the Precision-Recall Curve for binary classification\n"
      ],
      "metadata": {
        "id": "UeS1dEEBQLuD"
      }
    },
    {
      "cell_type": "code",
      "source": [
        "import seaborn as sns\n",
        "import pandas as pd\n",
        "from sklearn.linear_model import LogisticRegression\n",
        "from sklearn.model_selection import train_test_split\n",
        "from sklearn.metrics import precision_recall_curve, average_precision_score\n",
        "import matplotlib.pyplot as plt\n",
        "\n",
        "# Step 1: Load and preprocess Titanic dataset\n",
        "df = sns.load_dataset('titanic')\n",
        "df = df.dropna(subset=['age', 'fare', 'embarked'])\n",
        "\n",
        "# Encode categorical variables\n",
        "df['sex'] = df['sex'].map({'male': 0, 'female': 1})\n",
        "df['embarked'] = df['embarked'].map({'S': 0, 'C': 1, 'Q': 2})\n",
        "\n",
        "# Step 2: Feature selection\n",
        "features = ['pclass', 'sex', 'age', 'sibsp', 'parch', 'fare', 'embarked']\n",
        "X = df[features]\n",
        "y = df['survived']\n",
        "\n",
        "# Step 3: Train/Test split\n",
        "X_train, X_test, y_train, y_test = train_test_split(X, y, test_size=0.3, random_state=42)\n",
        "\n",
        "# Step 4: Train Logistic Regression model\n",
        "model = LogisticRegression(max_iter=1000)\n",
        "model.fit(X_train, y_train)\n",
        "\n",
        "# Step 5: Predict probabilities\n",
        "y_probs = model.predict_proba(X_test)[:, 1]\n",
        "\n",
        "# Step 6: Calculate Precision-Recall values\n",
        "precision, recall, thresholds = precision_recall_curve(y_test, y_probs)\n",
        "avg_precision = average_precision_score(y_test, y_probs)\n",
        "\n",
        "# Step 7: Plot Precision-Recall Curve\n",
        "plt.figure(figsize=(7, 5))\n",
        "plt.plot(recall, precision, label=f'Avg Precision = {avg_precision:.2f}', color='blue')\n",
        "plt.xlabel('Recall')\n",
        "plt.ylabel('Precision')\n",
        "plt.title('Precision-Recall Curve')\n",
        "plt.legend()\n",
        "plt.grid(True)\n",
        "plt.tight_layout()\n",
        "plt.show()\n"
      ],
      "metadata": {
        "colab": {
          "base_uri": "https://localhost:8080/",
          "height": 507
        },
        "id": "GCh7D6FeQMQR",
        "outputId": "1519718c-60fd-4e71-b93c-073a0da05dd9"
      },
      "execution_count": null,
      "outputs": [
        {
          "output_type": "display_data",
          "data": {
            "text/plain": [
              "<Figure size 700x500 with 1 Axes>"
            ],
            "image/png": "[encoded data removed]"
          },
          "metadata": {}
        }
      ]
    },
    {
      "cell_type": "markdown",
      "source": [
        "21. Write a Python program to train Logistic Regression with different solvers (liblinear, saga, Ibfgs) and compare their accuracy.\n"
      ],
      "metadata": {
        "id": "v2PFgtcKQMrB"
      }
    },
    {
      "cell_type": "code",
      "source": [
        "import seaborn as sns\n",
        "import pandas as pd\n",
        "from sklearn.linear_model import LogisticRegression\n",
        "from sklearn.model_selection import train_test_split\n",
        "from sklearn.metrics import accuracy_score\n",
        "\n",
        "# Step 1: Load and preprocess Titanic dataset\n",
        "df = sns.load_dataset('titanic')\n",
        "df = df.dropna(subset=['age', 'fare', 'embarked'])\n",
        "\n",
        "# Encode categorical variables\n",
        "df['sex'] = df['sex'].map({'male': 0, 'female': 1})\n",
        "df['embarked'] = df['embarked'].map({'S': 0, 'C': 1, 'Q': 2})\n",
        "\n",
        "# Step 2: Feature selection\n",
        "features = ['pclass', 'sex', 'age', 'sibsp', 'parch', 'fare', 'embarked']\n",
        "X = df[features]\n",
        "y = df['survived']\n",
        "\n",
        "# Step 3: Train/Test split\n",
        "X_train, X_test, y_train, y_test = train_test_split(X, y, test_size=0.3, random_state=42)\n",
        "\n",
        "# Step 4: Define solvers\n",
        "solvers = ['liblinear', 'saga', 'lbfgs']\n",
        "accuracies = {}\n",
        "\n",
        "# Step 5: Train Logistic Regression with each solver and evaluate accuracy\n",
        "for solver in solvers:\n",
        "    model = LogisticRegression(solver=solver, max_iter=1000)\n",
        "    model.fit(X_train, y_train)\n",
        "    y_pred = model.predict(X_test)\n",
        "    accuracy = accuracy_score(y_test, y_pred)\n",
        "    accuracies[solver] = accuracy\n",
        "\n",
        "# Step 6: Display the accuracy comparison\n",
        "for solver, accuracy in accuracies.items():\n",
        "    print(f\"Accuracy with {solver} solver: {round(accuracy, 4)}\")\n"
      ],
      "metadata": {
        "colab": {
          "base_uri": "https://localhost:8080/"
        },
        "id": "b2g2D18PQPHt",
        "outputId": "833482d2-3bc5-4c60-aa05-c4edf56e0ef1"
      },
      "execution_count": null,
      "outputs": [
        {
          "output_type": "stream",
          "name": "stdout",
          "text": [
            "Accuracy with liblinear solver: 0.785\n",
            "Accuracy with saga solver: 0.6636\n",
            "Accuracy with lbfgs solver: 0.7897\n"
          ]
        },
        {
          "output_type": "stream",
          "name": "stderr",
          "text": [
            "/usr/local/lib/python3.11/dist-packages/sklearn/linear_model/_sag.py:348: ConvergenceWarning: The max_iter was reached which means the coef_ did not converge\n",
            "  warnings.warn(\n"
          ]
        }
      ]
    },
    {
      "cell_type": "markdown",
      "source": [
        "22. Write a Python program to train Logistic Regression and evaluate its performance using Matthews Correlation Coefficient (MCC).\n"
      ],
      "metadata": {
        "id": "L_itQXH3QNHV"
      }
    },
    {
      "cell_type": "code",
      "source": [
        "import seaborn as sns\n",
        "import pandas as pd\n",
        "from sklearn.linear_model import LogisticRegression\n",
        "from sklearn.model_selection import train_test_split\n",
        "from sklearn.metrics import matthews_corrcoef\n",
        "\n",
        "# Step 1: Load and preprocess Titanic dataset\n",
        "df = sns.load_dataset('titanic')\n",
        "df = df.dropna(subset=['age', 'fare', 'embarked'])\n",
        "\n",
        "# Encode categorical variables\n",
        "df['sex'] = df['sex'].map({'male': 0, 'female': 1})\n",
        "df['embarked'] = df['embarked'].map({'S': 0, 'C': 1, 'Q': 2})\n",
        "\n",
        "# Step 2: Feature selection\n",
        "features = ['pclass', 'sex', 'age', 'sibsp', 'parch', 'fare', 'embarked']\n",
        "X = df[features]\n",
        "y = df['survived']\n",
        "\n",
        "# Step 3: Train/Test split\n",
        "X_train, X_test, y_train, y_test = train_test_split(X, y, test_size=0.3, random_state=42)\n",
        "\n",
        "# Step 4: Train Logistic Regression model\n",
        "model = LogisticRegression(max_iter=1000)\n",
        "model.fit(X_train, y_train)\n",
        "\n",
        "# Step 5: Predict and evaluate using Matthews Correlation Coefficient (MCC)\n",
        "y_pred = model.predict(X_test)\n",
        "mcc_score = matthews_corrcoef(y_test, y_pred)\n",
        "\n",
        "print(\"Matthews Correlation Coefficient (MCC):\", round(mcc_score, 4))\n"
      ],
      "metadata": {
        "colab": {
          "base_uri": "https://localhost:8080/"
        },
        "id": "Kt2dC9OQQQB7",
        "outputId": "e87c428c-6c72-459b-febb-0c4d223ada18"
      },
      "execution_count": null,
      "outputs": [
        {
          "output_type": "stream",
          "name": "stdout",
          "text": [
            "Matthews Correlation Coefficient (MCC): 0.5678\n"
          ]
        }
      ]
    },
    {
      "cell_type": "markdown",
      "source": [
        "23. Write a Python program to train Logistic Regression on both raw and standardized data. Compare their accuracy to see the impact of feature scaling.\n"
      ],
      "metadata": {
        "id": "kxsobH2QQNzo"
      }
    },
    {
      "cell_type": "code",
      "source": [
        "import seaborn as sns\n",
        "import pandas as pd\n",
        "from sklearn.linear_model import LogisticRegression\n",
        "from sklearn.model_selection import train_test_split\n",
        "from sklearn.preprocessing import StandardScaler\n",
        "from sklearn.metrics import accuracy_score\n",
        "\n",
        "# Step 1: Load and preprocess Titanic dataset\n",
        "df = sns.load_dataset('titanic')\n",
        "df = df.dropna(subset=['age', 'fare', 'embarked'])\n",
        "\n",
        "# Encode categorical variables\n",
        "df['sex'] = df['sex'].map({'male': 0, 'female': 1})\n",
        "df['embarked'] = df['embarked'].map({'S': 0, 'C': 1, 'Q': 2})\n",
        "\n",
        "# Step 2: Select features and target\n",
        "features = ['pclass', 'sex', 'age', 'sibsp', 'parch', 'fare', 'embarked']\n",
        "X = df[features]\n",
        "y = df['survived']\n",
        "\n",
        "# Step 3: Train/Test split\n",
        "X_train, X_test, y_train, y_test = train_test_split(X, y, test_size=0.3, random_state=42)\n",
        "\n",
        "# Step 4: Train Logistic Regression on raw data\n",
        "model_raw = LogisticRegression(max_iter=1000)\n",
        "model_raw.fit(X_train, y_train)\n",
        "y_pred_raw = model_raw.predict(X_test)\n",
        "accuracy_raw = accuracy_score(y_test, y_pred_raw)\n",
        "\n",
        "# Step 5: Standardize the data (mean=0, std=1)\n",
        "scaler = StandardScaler()\n",
        "X_train_scaled = scaler.fit_transform(X_train)\n",
        "X_test_scaled = scaler.transform(X_test)\n",
        "\n",
        "# Step 6: Train Logistic Regression on standardized data\n",
        "model_scaled = LogisticRegression(max_iter=1000)\n",
        "model_scaled.fit(X_train_scaled, y_train)\n",
        "y_pred_scaled = model_scaled.predict(X_test_scaled)\n",
        "accuracy_scaled = accuracy_score(y_test, y_pred_scaled)\n",
        "\n",
        "# Step 7: Compare accuracies\n",
        "print(\"Accuracy with Raw Data:\", round(accuracy_raw, 4))\n",
        "print(\"Accuracy with Standardized Data:\", round(accuracy_scaled, 4))\n"
      ],
      "metadata": {
        "colab": {
          "base_uri": "https://localhost:8080/"
        },
        "id": "STeFY1w-RDce",
        "outputId": "b8892438-fb04-4f56-cc15-14d501629de4"
      },
      "execution_count": null,
      "outputs": [
        {
          "output_type": "stream",
          "name": "stdout",
          "text": [
            "Accuracy with Raw Data: 0.7897\n",
            "Accuracy with Standardized Data: 0.7897\n"
          ]
        }
      ]
    },
    {
      "cell_type": "markdown",
      "source": [
        "24. Write a Python program to train Logistic Regression and find the optimal C (regularization strength) using cross-validation.\n"
      ],
      "metadata": {
        "id": "kg4DL5YtQOJv"
      }
    },
    {
      "cell_type": "code",
      "source": [
        "import seaborn as sns\n",
        "import pandas as pd\n",
        "from sklearn.linear_model import LogisticRegression\n",
        "from sklearn.model_selection import train_test_split, GridSearchCV\n",
        "from sklearn.metrics import accuracy_score\n",
        "\n",
        "# Step 1: Load and preprocess Titanic dataset\n",
        "df = sns.load_dataset('titanic')\n",
        "df = df.dropna(subset=['age', 'fare', 'embarked'])\n",
        "\n",
        "# Encode categorical variables\n",
        "df['sex'] = df['sex'].map({'male': 0, 'female': 1})\n",
        "df['embarked'] = df['embarked'].map({'S': 0, 'C': 1, 'Q': 2})\n",
        "\n",
        "# Step 2: Feature selection\n",
        "features = ['pclass', 'sex', 'age', 'sibsp', 'parch', 'fare', 'embarked']\n",
        "X = df[features]\n",
        "y = df['survived']\n",
        "\n",
        "# Step 3: Train/Test split\n",
        "X_train, X_test, y_train, y_test = train_test_split(X, y, test_size=0.3, random_state=42)\n",
        "\n",
        "# Step 4: Define Logistic Regression model\n",
        "model = LogisticRegression(max_iter=1000)\n",
        "\n",
        "# Step 5: Define the parameter grid for 'C' values\n",
        "param_grid = {'C': [0.01, 0.1, 1, 10, 100]}\n",
        "\n",
        "# Step 6: Use GridSearchCV for cross-validation to find the best 'C'\n",
        "grid_search = GridSearchCV(estimator=model, param_grid=param_grid, cv=5, scoring='accuracy', n_jobs=-1)\n",
        "grid_search.fit(X_train, y_train)\n",
        "\n",
        "# Step 7: Display the best 'C' and the corresponding accuracy\n",
        "print(f\"Best value of C: {grid_search.best_params_['C']}\")\n",
        "print(f\"Best cross-validation accuracy: {grid_search.best_score_:.4f}\")\n",
        "\n",
        "# Step 8: Evaluate the model with the best 'C' on the test set\n",
        "best_model = grid_search.best_estimator_\n",
        "y_pred = best_model.predict(X_test)\n",
        "accuracy = accuracy_score(y_test, y_pred)\n",
        "\n",
        "print(f\"Test set accuracy with optimal C: {accuracy:.4f}\")\n"
      ],
      "metadata": {
        "colab": {
          "base_uri": "https://localhost:8080/"
        },
        "id": "isQ1IPAyRREj",
        "outputId": "676b39d3-45b4-467e-cc5a-a0dea42dcc15"
      },
      "execution_count": null,
      "outputs": [
        {
          "output_type": "stream",
          "name": "stdout",
          "text": [
            "Best value of C: 0.1\n",
            "Best cross-validation accuracy: 0.8032\n",
            "Test set accuracy with optimal C: 0.7850\n"
          ]
        }
      ]
    },
    {
      "cell_type": "markdown",
      "source": [
        "25. Write a Python program to train Logistic Regression, save the trained model using joblib, and load it again to make predictions"
      ],
      "metadata": {
        "id": "sYRjNafWRX7L"
      }
    },
    {
      "cell_type": "code",
      "source": [
        "import seaborn as sns\n",
        "import pandas as pd\n",
        "from sklearn.linear_model import LogisticRegression\n",
        "from sklearn.model_selection import train_test_split\n",
        "from sklearn.metrics import accuracy_score\n",
        "import joblib\n",
        "\n",
        "# Step 1: Load and preprocess Titanic dataset\n",
        "df = sns.load_dataset('titanic')\n",
        "df = df.dropna(subset=['age', 'fare', 'embarked'])\n",
        "\n",
        "# Encode categorical variables\n",
        "df['sex'] = df['sex'].map({'male': 0, 'female': 1})\n",
        "df['embarked'] = df['embarked'].map({'S': 0, 'C': 1, 'Q': 2})\n",
        "\n",
        "# Step 2: Feature selection\n",
        "features = ['pclass', 'sex', 'age', 'sibsp', 'parch', 'fare', 'embarked']\n",
        "X = df[features]\n",
        "y = df['survived']\n",
        "\n",
        "# Step 3: Train/Test split\n",
        "X_train, X_test, y_train, y_test = train_test_split(X, y, test_size=0.3, random_state=42)\n",
        "\n",
        "# Step 4: Train Logistic Regression model\n",
        "model = LogisticRegression(max_iter=1000)\n",
        "model.fit(X_train, y_train)\n",
        "\n",
        "# Step 5: Save the trained model using joblib\n",
        "joblib.dump(model, 'logistic_regression_model.joblib')\n",
        "print(\"Model saved successfully!\")\n",
        "\n",
        "# Step 6: Load the saved model\n",
        "loaded_model = joblib.load('logistic_regression_model.joblib')\n",
        "\n",
        "# Step 7: Make predictions using the loaded model\n",
        "y_pred = loaded_model.predict(X_test)\n",
        "\n",
        "# Step 8: Evaluate the model accuracy\n",
        "accuracy = accuracy_score(y_test, y_pred)\n",
        "print(f\"Test set accuracy with loaded model: {accuracy:.4f}\")\n"
      ],
      "metadata": {
        "colab": {
          "base_uri": "https://localhost:8080/"
        },
        "id": "nyKIhSCWRYYO",
        "outputId": "915d4052-b0cd-4200-8296-4a642c7c6cd9"
      },
      "execution_count": null,
      "outputs": [
        {
          "output_type": "stream",
          "name": "stdout",
          "text": [
            "Model saved successfully!\n",
            "Test set accuracy with loaded model: 0.7897\n"
          ]
        }
      ]
    }
  ]
}