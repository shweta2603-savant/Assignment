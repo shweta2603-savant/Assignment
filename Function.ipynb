{
  "nbformat": 4,
  "nbformat_minor": 0,
  "metadata": {
    "colab": {
      "provenance": []
    },
    "kernelspec": {
      "name": "python3",
      "display_name": "Python 3"
    },
    "language_info": {
      "name": "python"
    }
  },
  "cells": [
    {
      "cell_type": "markdown",
      "source": [
        "Q 9.Write a Python program that uses 'map()'to convert a list of temperatures from Celsius to Farenheit."
      ],
      "metadata": {
        "id": "aFpKoeILbVJy"
      }
    },
    {
      "cell_type": "markdown",
      "source": [
        "Q1.What is the difference between a function and a method in Python?\n",
        "\n",
        "Ans:-\n",
        "\n",
        "In Python,methods and functions have similar purposes but differ in important ways.Functions are independent blocks of code that can be called from anywhere,while methods are tied to objects or classes and need an object or class instance to be invoked.Functions promote code reusabilty,while methods offer behavior specific to objects.Function are called by name,while methods are distinctions is crucial for writing organized,modular code in Python and harnessing the full power of methods and functions in various programming scenarios.\n"
      ],
      "metadata": {
        "id": "ypOrpYyauM-G"
      }
    },
    {
      "cell_type": "markdown",
      "source": [
        "Q2.Explain the concept of function arguments and parameter in Python.\n",
        "\n",
        "Ans:-\n",
        "\n",
        "The terms parameter and argument can be used for the same thing information that are passed into a function.\n",
        "From a function's perspective:\n",
        "A parameter is the variable listed inside the parantheses in the function definition.\n",
        "An argument is the value that is sent to the function when it is called."
      ],
      "metadata": {
        "id": "M6t2dki4yjYP"
      }
    },
    {
      "cell_type": "markdown",
      "source": [
        "Q3.What are different ways to define and call a function in Python?\n",
        "\n",
        "Ans:-\n",
        "\n",
        "In Python programming ,a function is a reusable block of code that executes a ceratin functionality when it is called.\n",
        "\n",
        "Function are integral parts of every programming language beacause they help make code more modular and reusable.\n",
        "\n",
        "In Python,define a function with the def keyword,then write the function indetifier(name) follwed by parantheses and a colon.\n",
        "\n",
        "\n",
        "\n"
      ],
      "metadata": {
        "id": "n_dBOIO20KQ6"
      }
    },
    {
      "cell_type": "code",
      "source": [
        "def functionName():\n",
        "  print(\"Data Structure\")\n"
      ],
      "metadata": {
        "id": "sXmdk6t8hBhD"
      },
      "execution_count": null,
      "outputs": []
    },
    {
      "cell_type": "code",
      "source": [
        "   def myfunction():\n",
        "  print(\"Data Structure\")\n",
        "\n",
        "   myfunction()\n",
        "\n"
      ],
      "metadata": {
        "colab": {
          "base_uri": "https://localhost:8080/"
        },
        "id": "33rDfsRXhlMD",
        "outputId": "b1075699-8dec-4c61-8a0b-58c23f8affef"
      },
      "execution_count": null,
      "outputs": [
        {
          "output_type": "stream",
          "name": "stdout",
          "text": [
            "Data Structure\n"
          ]
        }
      ]
    },
    {
      "cell_type": "markdown",
      "source": [
        "Q4.What is the purpose of the 'return'statement in a Python?\n",
        "\n",
        "Ans:-\n",
        "\n",
        " The Python return statement marks the end of a function and specifies the value or values to pas back from the function.Return statement can return statements can return data of any type,including,integers,floats,strings,lists,dictionaries, and even other functions."
      ],
      "metadata": {
        "id": "z_fnZcFd1M22"
      }
    },
    {
      "cell_type": "markdown",
      "source": [
        "Q5.What are iterators in Python and how do they differ from iterables?\n",
        "\n",
        "Ans:-\n",
        "\n",
        "Iterable is an object, that one can iterate over. It generates an Iterator when passed to iter() method. An iterator is an object, which is used to iterate over an iterable object using the __next__() method. Iterators have the __next__() method, which returns the next item of the object.\n"
      ],
      "metadata": {
        "id": "iRKe5wZy1mjB"
      }
    },
    {
      "cell_type": "markdown",
      "source": [
        "Q6.Explain the concept pf generators in Python and hoe they are defined.\n",
        "\n",
        "Ans:-\n",
        "\n",
        " A Python generator function allows you to declare a function that behaves like an iterator, providing a faster and easier way to create iterators. They can be used on an abstract container of data to turn it into an iterable object like lists, dictionaries and strings.    "
      ],
      "metadata": {
        "id": "nqBz9qSF143e"
      }
    },
    {
      "cell_type": "markdown",
      "source": [
        "Q7.What are the adventages of using generators over regular functions?\n",
        "\n",
        "Ans:-\n",
        "\n",
        "1.To make the code easier to manage,debug and scale,functions are used.\n",
        "\n",
        "2.Every time we need to execute a sequence of statements,all we need to do is to call the function,so that we can reuse the code.\n",
        "\n",
        "3.Function allow us to change functionality easily,and different programmmers can work on different functions."
      ],
      "metadata": {
        "id": "ZTpD4rxZ2MhL"
      }
    },
    {
      "cell_type": "markdown",
      "source": [
        "Q8.What is a lambda function in Python and when is it typically used?\n",
        "\n",
        "Ans:-\n",
        "\n",
        "In Python, a lambda function is a small, anonymous function defined using the lambda keyword.\n",
        "\n",
        "These functions are typically used for short, throwaway operations where a full function definition might be overkill. They are called anonymous because they do not require a name (although they can be assigned to a variable for reuse).\n",
        "\n",
        "Lambda functions excel in scenarios where you need a quick, simple function for a brief period, and a full function definition would be excessive. This makes them ideal for operations that are straightforward and can be written in a single line, such as simple mathematical calculations or basic data transformations.\n",
        "\n",
        "They are particularly used in functional programming contexts with higher-order functions like map, filter, and reduce where they are often passed as arguments. Just remember that for more complex operations, regular functions are preferred for their readability and maintainability.\n",
        "\n",
        "Lambda Function Syntax and Basic Uses\n",
        "\n",
        "\n"
      ],
      "metadata": {
        "id": "SwNav78V2yBr"
      }
    },
    {
      "cell_type": "code",
      "source": [
        "lambda arguments: expression\n",
        "\n",
        "# to give it a name, assign it to a variable:\n",
        "function_name = lambda arguments: expression\n",
        "\n",
        "# this is equivalent to:\n",
        "def function_name(arguments):\n",
        "    return expression\n",
        "\n",
        "\n"
      ],
      "metadata": {
        "id": "DeOwsYy3oiwE"
      },
      "execution_count": null,
      "outputs": []
    },
    {
      "cell_type": "markdown",
      "source": [
        "Unlike regular functions defined with def, lambda functions are limited to a single expression due to their design for simplicity and brevity. They can take single or multiple arguments but cannot contain statements or multiple expressions.\n",
        "\n",
        "Lambda functions are intended for short, straightforward operations that can be written in a single line."
      ],
      "metadata": {
        "id": "R2w6was4ovNE"
      }
    },
    {
      "cell_type": "code",
      "source": [
        "# Regular function to find the average of three numbers\n",
        "def average(x, y, z):\n",
        "    return (x + y + z) / 3\n",
        "\n",
        "# Lambda function to find the average of three numbers\n",
        "average = lambda x, y, z: (x + y + z) / 3"
      ],
      "metadata": {
        "id": "_JWptXxpo38U"
      },
      "execution_count": null,
      "outputs": []
    },
    {
      "cell_type": "markdown",
      "source": [
        "Although lambda functions can only contain one expression, we can still do a lot with them.\n",
        "\n",
        "For example, here's a Lambda function to concatenate 2 strings and convert them to uppercase:"
      ],
      "metadata": {
        "id": "LqcPV7AepExh"
      }
    },
    {
      "cell_type": "markdown",
      "source": [
        "Q.9 Explain the purpose and usage of the 'map()'function in Python.\n",
        "\n",
        "Ans:-\n",
        "\n",
        "Map in Python is a function that works as an iterator to return a result after appyling a function to every items of an iterable(tule,lists,etc.).It is used when to apply a single trasformation function to all the iterable elements.The iterable and function are passed as arguments to map in Python.\n"
      ],
      "metadata": {
        "id": "dWCMYJV28TAz"
      }
    },
    {
      "cell_type": "code",
      "source": [
        "#Defining a function\n",
        "def mul(i):\n",
        "  return i*i\n",
        "#Using the map function\n",
        "x=map(mul,[1,2,3,4,5])\n",
        "print(x)\n",
        "print(list(x))"
      ],
      "metadata": {
        "colab": {
          "base_uri": "https://localhost:8080/"
        },
        "id": "9NSC-2eA8pS_",
        "outputId": "ba302bf4-958e-4973-fba4-ae9c33527a09"
      },
      "execution_count": null,
      "outputs": [
        {
          "output_type": "stream",
          "name": "stdout",
          "text": [
            "<map object at 0x7f1a006b74c0>\n",
            "[1, 4, 9, 16, 25]\n"
          ]
        }
      ]
    },
    {
      "cell_type": "markdown",
      "source": [
        "In above code ,the first print function printed the map object as it is.thus they have to convert the map object to a list,set,or another iterable item to make it readable"
      ],
      "metadata": {
        "id": "i-01WGg03BKP"
      }
    },
    {
      "cell_type": "markdown",
      "source": [
        "Q 10.What is difference between 'map()','reduce()'and 'filter()'functions in Python.\n",
        "\n",
        "Ans:-\n",
        "\n",
        "'Map' apllies a given function to each item of an iterable(like a set or list)and returns a list of the results.'Filter' constructs a list from elements os an iterable for which a function returns true.'Reduce'applies a rolling computation to sequential pairs of values in a list and returns a single result.\n"
      ],
      "metadata": {
        "id": "xX27M55m9hs9"
      }
    },
    {
      "cell_type": "markdown",
      "source": [
        "Q.11 Using Pen & Paper write a internal mechanism for sum operation using reduce function on this given list:[47,11,42,13];\n",
        "\n"
      ],
      "metadata": {
        "id": "oGLqsqWm_QQe"
      }
    },
    {
      "cell_type": "code",
      "source": [
        "import functools\n",
        "\n",
        "numbers = [47,11,42,13]\n",
        "# Using reduce with a lambda function for addition\n",
        "sum_result = functools.reduce(lambda a,b: a+b,numbers)\n",
        "\n",
        "print(sum_result)"
      ],
      "metadata": {
        "colab": {
          "base_uri": "https://localhost:8080/"
        },
        "id": "7ABkRnm-XV0y",
        "outputId": "a2c560b0-60ac-466b-ed5f-a276ac683fc8"
      },
      "execution_count": 5,
      "outputs": [
        {
          "output_type": "stream",
          "name": "stdout",
          "text": [
            "113\n"
          ]
        }
      ]
    },
    {
      "cell_type": "markdown",
      "source": [
        "                                                  **Practical Question**"
      ],
      "metadata": {
        "id": "IOmxOmvUegoI"
      }
    },
    {
      "cell_type": "markdown",
      "source": [
        "Q 1.Write a Python Function that takes a list of numbers as input and returns the sum of all even numbers in the list.\n",
        "\n",
        "Ans:-Here is a Python function that takes a list of numbers as input and returns the sum of all even numbers in the list:\n"
      ],
      "metadata": {
        "id": "j22kq3GpJV_f"
      }
    },
    {
      "cell_type": "code",
      "source": [
        "def sum_even_numbers(numbers):\n",
        "    even_numbers = [num for num in numbers if num % 2 == 0]\n",
        "    return sum(even_numbers)\n",
        "\n",
        "\n"
      ],
      "metadata": {
        "id": "WbxDvDmgLGo9"
      },
      "execution_count": null,
      "outputs": []
    },
    {
      "cell_type": "code",
      "source": [
        "numbers = [47,11,42,13]\n",
        "result = sum_even_numbers(numbers)\n",
        "print(result)"
      ],
      "metadata": {
        "colab": {
          "base_uri": "https://localhost:8080/"
        },
        "id": "rYKK0tl0z2-4",
        "outputId": "bc5bff72-38e5-4e7b-81d4-ed0d641ae84e"
      },
      "execution_count": null,
      "outputs": [
        {
          "output_type": "stream",
          "name": "stdout",
          "text": [
            "42\n"
          ]
        }
      ]
    },
    {
      "cell_type": "markdown",
      "source": [
        "This funtion uses list comprehension to fiter even numbers and then calculate their sum using the sum() function."
      ],
      "metadata": {
        "id": "RAQbt4OR3r9l"
      }
    },
    {
      "cell_type": "markdown",
      "source": [
        "Q2.Create a Python function  that accepts a string and returns the reverse of that string.\n",
        "\n"
      ],
      "metadata": {
        "id": "dXfD8a30yX_1"
      }
    },
    {
      "cell_type": "code",
      "source": [
        "def reverse_string(string):\n",
        "    return string[::-1]"
      ],
      "metadata": {
        "id": "ennnvtb6znnF"
      },
      "execution_count": null,
      "outputs": []
    },
    {
      "cell_type": "code",
      "source": [
        "string = \"Hello, World!\"\n",
        "reversed_string = reverse_string(string)\n",
        "print(reversed_string)"
      ],
      "metadata": {
        "colab": {
          "base_uri": "https://localhost:8080/"
        },
        "id": "IvplvtBuzwD7",
        "outputId": "f80fcc85-19cb-4fb4-884b-fd36f6631b15"
      },
      "execution_count": null,
      "outputs": [
        {
          "output_type": "stream",
          "name": "stdout",
          "text": [
            "!dlroW ,olleH\n"
          ]
        }
      ]
    },
    {
      "cell_type": "markdown",
      "source": [
        "This function uses Python slicing to reverse the string([::-1])"
      ],
      "metadata": {
        "id": "BoXO_jL123uA"
      }
    },
    {
      "cell_type": "markdown",
      "source": [
        "Q3.Implement a Python function that takes a list of integers and returns a new list containing the squares of each number.\n",
        "Ans:- Here is a Python function that takes a list containing the squares of each number."
      ],
      "metadata": {
        "id": "ZXRXlbyt1O6y"
      }
    },
    {
      "cell_type": "code",
      "source": [
        "def square_numbers(numbers):\n",
        "    squared_numbers = [num ** 2 for num in numbers]\n",
        "    return squared_numbers"
      ],
      "metadata": {
        "id": "Tok61ZXY1xjq"
      },
      "execution_count": null,
      "outputs": []
    },
    {
      "cell_type": "code",
      "source": [
        "numbers = [1, 2, 3, 4, 5]\n",
        "squared_numbers = square_numbers(numbers)\n",
        "print(squared_numbers)"
      ],
      "metadata": {
        "colab": {
          "base_uri": "https://localhost:8080/"
        },
        "id": "YLtuek3m1NUK",
        "outputId": "e17e1737-b09c-4c41-b979-7bef1d740aab"
      },
      "execution_count": null,
      "outputs": [
        {
          "output_type": "stream",
          "name": "stdout",
          "text": [
            "[1, 4, 9, 16, 25]\n"
          ]
        }
      ]
    },
    {
      "cell_type": "markdown",
      "source": [
        "This function uses list comprehension to square each number in the input list."
      ],
      "metadata": {
        "id": "so32vUef2CaQ"
      }
    },
    {
      "cell_type": "markdown",
      "source": [
        "Q.4 Write a function that checks if a given number is prime or not from 1 to 200.\n"
      ],
      "metadata": {
        "id": "MiPljIZa4ew7"
      }
    },
    {
      "cell_type": "code",
      "source": [
        "def is_prime(n):\n",
        "#Return Flase for numbers less than 2, as they are not prime\n",
        "  if n < 2:\n",
        "     return False\n",
        "#Check divisibility from 2 to the square root of n\n",
        "  for i in range(2, int(n ** 0.5) + 1):\n",
        "    if n % i == 0:\n",
        "      return False\n",
        "  return True"
      ],
      "metadata": {
        "id": "1w2GdFy_pC_N"
      },
      "execution_count": null,
      "outputs": []
    },
    {
      "cell_type": "code",
      "source": [
        "#Check number from 1 to 200\n",
        "for number in range(1, 201):\n",
        "  if is_prime(number):\n",
        "    print(f\"{number} is a prime number.\")\n",
        "  else:\n",
        "    print(f\"{number} is not a prime number.\")"
      ],
      "metadata": {
        "colab": {
          "base_uri": "https://localhost:8080/"
        },
        "id": "AnLdCs4Epy8_",
        "outputId": "6401a236-0618-4efd-c916-90b58072468c"
      },
      "execution_count": null,
      "outputs": [
        {
          "output_type": "stream",
          "name": "stdout",
          "text": [
            "1 is not a prime number.\n",
            "2 is a prime number.\n",
            "3 is a prime number.\n",
            "4 is not a prime number.\n",
            "5 is a prime number.\n",
            "6 is not a prime number.\n",
            "7 is a prime number.\n",
            "8 is not a prime number.\n",
            "9 is not a prime number.\n",
            "10 is not a prime number.\n",
            "11 is a prime number.\n",
            "12 is not a prime number.\n",
            "13 is a prime number.\n",
            "14 is not a prime number.\n",
            "15 is not a prime number.\n",
            "16 is not a prime number.\n",
            "17 is a prime number.\n",
            "18 is not a prime number.\n",
            "19 is a prime number.\n",
            "20 is not a prime number.\n",
            "21 is not a prime number.\n",
            "22 is not a prime number.\n",
            "23 is a prime number.\n",
            "24 is not a prime number.\n",
            "25 is not a prime number.\n",
            "26 is not a prime number.\n",
            "27 is not a prime number.\n",
            "28 is not a prime number.\n",
            "29 is a prime number.\n",
            "30 is not a prime number.\n",
            "31 is a prime number.\n",
            "32 is not a prime number.\n",
            "33 is not a prime number.\n",
            "34 is not a prime number.\n",
            "35 is not a prime number.\n",
            "36 is not a prime number.\n",
            "37 is a prime number.\n",
            "38 is not a prime number.\n",
            "39 is not a prime number.\n",
            "40 is not a prime number.\n",
            "41 is a prime number.\n",
            "42 is not a prime number.\n",
            "43 is a prime number.\n",
            "44 is not a prime number.\n",
            "45 is not a prime number.\n",
            "46 is not a prime number.\n",
            "47 is a prime number.\n",
            "48 is not a prime number.\n",
            "49 is not a prime number.\n",
            "50 is not a prime number.\n",
            "51 is not a prime number.\n",
            "52 is not a prime number.\n",
            "53 is a prime number.\n",
            "54 is not a prime number.\n",
            "55 is not a prime number.\n",
            "56 is not a prime number.\n",
            "57 is not a prime number.\n",
            "58 is not a prime number.\n",
            "59 is a prime number.\n",
            "60 is not a prime number.\n",
            "61 is a prime number.\n",
            "62 is not a prime number.\n",
            "63 is not a prime number.\n",
            "64 is not a prime number.\n",
            "65 is not a prime number.\n",
            "66 is not a prime number.\n",
            "67 is a prime number.\n",
            "68 is not a prime number.\n",
            "69 is not a prime number.\n",
            "70 is not a prime number.\n",
            "71 is a prime number.\n",
            "72 is not a prime number.\n",
            "73 is a prime number.\n",
            "74 is not a prime number.\n",
            "75 is not a prime number.\n",
            "76 is not a prime number.\n",
            "77 is not a prime number.\n",
            "78 is not a prime number.\n",
            "79 is a prime number.\n",
            "80 is not a prime number.\n",
            "81 is not a prime number.\n",
            "82 is not a prime number.\n",
            "83 is a prime number.\n",
            "84 is not a prime number.\n",
            "85 is not a prime number.\n",
            "86 is not a prime number.\n",
            "87 is not a prime number.\n",
            "88 is not a prime number.\n",
            "89 is a prime number.\n",
            "90 is not a prime number.\n",
            "91 is not a prime number.\n",
            "92 is not a prime number.\n",
            "93 is not a prime number.\n",
            "94 is not a prime number.\n",
            "95 is not a prime number.\n",
            "96 is not a prime number.\n",
            "97 is a prime number.\n",
            "98 is not a prime number.\n",
            "99 is not a prime number.\n",
            "100 is not a prime number.\n",
            "101 is a prime number.\n",
            "102 is not a prime number.\n",
            "103 is a prime number.\n",
            "104 is not a prime number.\n",
            "105 is not a prime number.\n",
            "106 is not a prime number.\n",
            "107 is a prime number.\n",
            "108 is not a prime number.\n",
            "109 is a prime number.\n",
            "110 is not a prime number.\n",
            "111 is not a prime number.\n",
            "112 is not a prime number.\n",
            "113 is a prime number.\n",
            "114 is not a prime number.\n",
            "115 is not a prime number.\n",
            "116 is not a prime number.\n",
            "117 is not a prime number.\n",
            "118 is not a prime number.\n",
            "119 is not a prime number.\n",
            "120 is not a prime number.\n",
            "121 is not a prime number.\n",
            "122 is not a prime number.\n",
            "123 is not a prime number.\n",
            "124 is not a prime number.\n",
            "125 is not a prime number.\n",
            "126 is not a prime number.\n",
            "127 is a prime number.\n",
            "128 is not a prime number.\n",
            "129 is not a prime number.\n",
            "130 is not a prime number.\n",
            "131 is a prime number.\n",
            "132 is not a prime number.\n",
            "133 is not a prime number.\n",
            "134 is not a prime number.\n",
            "135 is not a prime number.\n",
            "136 is not a prime number.\n",
            "137 is a prime number.\n",
            "138 is not a prime number.\n",
            "139 is a prime number.\n",
            "140 is not a prime number.\n",
            "141 is not a prime number.\n",
            "142 is not a prime number.\n",
            "143 is not a prime number.\n",
            "144 is not a prime number.\n",
            "145 is not a prime number.\n",
            "146 is not a prime number.\n",
            "147 is not a prime number.\n",
            "148 is not a prime number.\n",
            "149 is a prime number.\n",
            "150 is not a prime number.\n",
            "151 is a prime number.\n",
            "152 is not a prime number.\n",
            "153 is not a prime number.\n",
            "154 is not a prime number.\n",
            "155 is not a prime number.\n",
            "156 is not a prime number.\n",
            "157 is a prime number.\n",
            "158 is not a prime number.\n",
            "159 is not a prime number.\n",
            "160 is not a prime number.\n",
            "161 is not a prime number.\n",
            "162 is not a prime number.\n",
            "163 is a prime number.\n",
            "164 is not a prime number.\n",
            "165 is not a prime number.\n",
            "166 is not a prime number.\n",
            "167 is a prime number.\n",
            "168 is not a prime number.\n",
            "169 is not a prime number.\n",
            "170 is not a prime number.\n",
            "171 is not a prime number.\n",
            "172 is not a prime number.\n",
            "173 is a prime number.\n",
            "174 is not a prime number.\n",
            "175 is not a prime number.\n",
            "176 is not a prime number.\n",
            "177 is not a prime number.\n",
            "178 is not a prime number.\n",
            "179 is a prime number.\n",
            "180 is not a prime number.\n",
            "181 is a prime number.\n",
            "182 is not a prime number.\n",
            "183 is not a prime number.\n",
            "184 is not a prime number.\n",
            "185 is not a prime number.\n",
            "186 is not a prime number.\n",
            "187 is not a prime number.\n",
            "188 is not a prime number.\n",
            "189 is not a prime number.\n",
            "190 is not a prime number.\n",
            "191 is a prime number.\n",
            "192 is not a prime number.\n",
            "193 is a prime number.\n",
            "194 is not a prime number.\n",
            "195 is not a prime number.\n",
            "196 is not a prime number.\n",
            "197 is a prime number.\n",
            "198 is not a prime number.\n",
            "199 is a prime number.\n",
            "200 is not a prime number.\n"
          ]
        }
      ]
    },
    {
      "cell_type": "markdown",
      "source": [
        "This function first handles edge cases for numbers less than 2(as thay arrn't prime)and then checks for factors up to the square root of the number.If no divisors are found,the number is prime."
      ],
      "metadata": {
        "id": "Ya9TclowqaYf"
      }
    },
    {
      "cell_type": "markdown",
      "source": [
        "Q 5.Create an iterator class in Python that generates the Fibonacci sequence up to a specified number of terms."
      ],
      "metadata": {
        "id": "ABpILTZjrG8d"
      }
    },
    {
      "cell_type": "code",
      "source": [
        "nterms = int(input(\"How many terms? \"))\n",
        "\n",
        "# first two terms\n",
        "n1, n2 = 0, 1\n",
        "count = 0\n",
        "\n",
        "# check if the number of terms is valid\n",
        "if nterms <= 0:\n",
        "   print(\"Please enter a positive integer\")\n",
        "elif nterms == 1:\n",
        "   print(\"Fibonacci sequence upto\",nterms,\":\")\n",
        "   print(n1)\n",
        "else:\n",
        "   print(\"Fibonacci sequence:\")\n",
        "   while count < nterms:\n",
        "       print(n1)\n",
        "       nth = n1 + n2\n",
        "       # update values\n",
        "       n1 = n2\n",
        "       n2 = nth\n",
        "       count += 1"
      ],
      "metadata": {
        "id": "x_ztIWHU6OYh"
      },
      "execution_count": null,
      "outputs": []
    },
    {
      "cell_type": "markdown",
      "source": [
        "Q 6.Write a generator function in Python that yeild the powers of 2 up to a given exponent."
      ],
      "metadata": {
        "id": "isV7HFApxYKd"
      }
    },
    {
      "cell_type": "code",
      "source": [
        "def power_of_two(max_exponent):\n",
        "  for exponent in range(max_exponent + 1):\n",
        "    yield 2 ** exponent\n"
      ],
      "metadata": {
        "id": "Z6nRDKRMyBLO"
      },
      "execution_count": null,
      "outputs": []
    },
    {
      "cell_type": "code",
      "source": [
        "max_exponent = 5\n",
        "for power in power_of_two(max_exponent):\n",
        "  print(power)"
      ],
      "metadata": {
        "colab": {
          "base_uri": "https://localhost:8080/"
        },
        "id": "RNlVp8WA1zjl",
        "outputId": "e2d63f07-bb17-4c5c-8a3f-eaacb0a957fb"
      },
      "execution_count": null,
      "outputs": [
        {
          "output_type": "stream",
          "name": "stdout",
          "text": [
            "1\n",
            "2\n",
            "4\n",
            "8\n",
            "16\n",
            "32\n"
          ]
        }
      ]
    },
    {
      "cell_type": "markdown",
      "source": [
        "Q 7.Implement a genrator function that reads a file line by line and yeilds each line as a string."
      ],
      "metadata": {
        "id": "m885dTVS3_dc"
      }
    },
    {
      "cell_type": "code",
      "source": [
        "def read_line_by_line(file_path):\n",
        "  with open(file_path, 'r') as file:\n",
        "    for line in file:\n",
        "      yield line.rstrip('\\n')"
      ],
      "metadata": {
        "id": "80Y2ag_z390Z"
      },
      "execution_count": null,
      "outputs": []
    },
    {
      "cell_type": "code",
      "source": [
        "for line in read_line_by_line('example.txt'):\n",
        "  print(line)"
      ],
      "metadata": {
        "id": "ToG2cQRS9TqP"
      },
      "execution_count": null,
      "outputs": []
    },
    {
      "cell_type": "markdown",
      "source": [
        "Q 8.Use a lambda function to sort a list of tuples based on the second element of each tuple."
      ],
      "metadata": {
        "id": "hi1bi3Bp5J39"
      }
    },
    {
      "cell_type": "code",
      "source": [
        "tuples = [(1, 5), (3, 2), (2, 8), (4, 1)]\n",
        "sorted_tuples = sorted(tuples, key=lambda x: x[1])\n",
        "print(sorted_tuples)"
      ],
      "metadata": {
        "colab": {
          "base_uri": "https://localhost:8080/"
        },
        "id": "g4Sbqf8l6e-k",
        "outputId": "ca8e7d29-aeca-4aba-f79d-dc990896e679"
      },
      "execution_count": null,
      "outputs": [
        {
          "output_type": "stream",
          "name": "stdout",
          "text": [
            "[(4, 1), (3, 2), (1, 5), (2, 8)]\n"
          ]
        }
      ]
    },
    {
      "cell_type": "markdown",
      "source": [
        "Q 9.Write a Python program that uses 'map()'to convert a list of temperatures from Celsius to Farenheit."
      ],
      "metadata": {
        "id": "VHawG4bn5jlv"
      }
    },
    {
      "cell_type": "code",
      "source": [
        "def celsius_to_fahrenheit(celsius):\n",
        "  return (celsius * 9/5) + 32\n",
        "\n",
        "  celsius_temperatures = [0, 10, 20, 30, 40]\n",
        "  fahrenheit_temperatures = list(map(celsius_to_fahrenheit, celsius_temperatures))\n",
        "  print(fahrenheit_temperatures)\n",
        "\n",
        "\n"
      ],
      "metadata": {
        "id": "r_7P5tMl6mCL"
      },
      "execution_count": 8,
      "outputs": []
    },
    {
      "cell_type": "markdown",
      "source": [
        "Q 10. Create a Python program that uses'filter()'to remove all the vowels from a given string."
      ],
      "metadata": {
        "id": "4SbE-RmH573z"
      }
    },
    {
      "cell_type": "code",
      "source": [
        "def is_not_vowel(char):\n",
        "  return char.lower() not in 'aeiou'\n",
        "input_string = \"Hello, World!\"\n",
        "filtered_string = ''.join(filter(is_not_vowel, input_string))\n",
        "print(filtered_string)"
      ],
      "metadata": {
        "colab": {
          "base_uri": "https://localhost:8080/"
        },
        "id": "WckDLR-B7FTk",
        "outputId": "8c85e2fa-5a41-40ee-cbb8-a11194b70689"
      },
      "execution_count": null,
      "outputs": [
        {
          "output_type": "stream",
          "name": "stdout",
          "text": [
            "Hll, Wrld!\n"
          ]
        }
      ]
    },
    {
      "cell_type": "markdown",
      "source": [
        "Q 11.Imagin an accounting used in a book shop.I works on a list with sublists,which look like this:\n",
        "Write a Python,which returns a list with 2-tuples.Each tuple consists of the order number and the product of the price per item and the quantity.The Product should br increased by 10,-₹ if the value of the order is smaller than 100,00₹.\n",
        "Write a Python program using lambda and map."
      ],
      "metadata": {
        "id": "Npm6uot313jU"
      }
    },
    {
      "cell_type": "code",
      "source": [
        "orders =[\n",
        "         [34587, \"Learning Python, Mark Lutz\",4, 40.95],\n",
        "          [98762, \"Programming Python, Mark Lutz\", 5, 56.80],\n",
        "          [77226, \"Head First Python, Paul Barry\", 3,32.95],\n",
        "          [88112, \"Einfuhrung in Python3, Bernd Klein\", 3, 24.99]\n",
        "          ]\n",
        "result = list(map(lambda x: (x[0], x[2] * x[3]) if x[2] * x[3] >= 100 else (x[0], x[2] * x[3] + 10), orders))\n",
        "print(result)\n",
        "\n",
        "\n",
        "\n",
        "\n"
      ],
      "metadata": {
        "colab": {
          "base_uri": "https://localhost:8080/"
        },
        "id": "IFUnzrU645dS",
        "outputId": "52d36ae7-f173-4972-8a14-ced7a54d97a4"
      },
      "execution_count": null,
      "outputs": [
        {
          "output_type": "stream",
          "name": "stdout",
          "text": [
            "[(34587, 163.8), (98762, 284.0), (77226, 108.85000000000001), (88112, 84.97)]\n"
          ]
        }
      ]
    },
    {
      "cell_type": "markdown",
      "source": [
        "Explaination:-\n",
        "-The list orders contains sublists with the order number,book title,quantity, and price per item.\n",
        "-The map function applies a lambda function to each element in the list.\n",
        "-The lambda function checks if the total price(quantity*price per item)is less than ₹100,and adds ₹10 if it is.\n",
        "-The result is a list of 2-tuples,where each tuple contains the order number and the final price."
      ],
      "metadata": {
        "id": "1592vBWX7IlZ"
      }
    }
  ]
}