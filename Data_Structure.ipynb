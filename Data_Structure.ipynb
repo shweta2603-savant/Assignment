{
  "cells": [
    {
      "cell_type": "markdown",
      "metadata": {
        "id": "si44PyvDUrwD"
      },
      "source": [
        "Q 1.Discuss string slicing and provide examples.\n",
        "\n",
        "Ans:- String slicing in Python is a method to extract a specific portion of a string using the syntax string [start:stop:step].the start index is where the slice begins(inclusive),the stop index is where its ends(exlusive),and step is the interval between characters (optional).this allows efficients string manipulation,such as extracting substrings or reversing a string.\n",
        "String slicing in Python can be performed using two methods:\n",
        "\n",
        "1.Slice()Method\n",
        "2.List Slicing/Array Slicing\n",
        "\n",
        "1.Slice () Method\n",
        "\n",
        "The slice () method returns an object containing the range of string slicing.The parameter includes a set of range of values defined as(start,stop,step).\n",
        "\n",
        "Syntax:-slice(Start_Index,End_Index,steps)\n",
        "Here,Start_Index is startng index of the string.End_Index is last index before which all elements are considerd.Steps are the number of steps are jumped in each iteration.The Start_Index and Steps are optional.The Start_index is 0 by default.The step is 1 by default.\n",
        "\n",
        "Examples:-\n",
        "\n",
        "1.When only one parameter is passed to the slice() method,its taken it as the end index."
      ]
    },
    {
      "cell_type": "code",
      "execution_count": null,
      "metadata": {
        "colab": {
          "base_uri": "https://localhost:8080/"
        },
        "id": "Koy1ETRsdbcu",
        "outputId": "da063a5e-651b-40b7-ee6b-05bffdb10353"
      },
      "outputs": [
        {
          "name": "stdout",
          "output_type": "stream",
          "text": [
            "Data S\n"
          ]
        }
      ],
      "source": [
        "string='Data Structure'\n",
        "print(string[slice(6)])"
      ]
    },
    {
      "cell_type": "markdown",
      "metadata": {
        "id": "_PwLraghepAv"
      },
      "source": [
        "2.String Slicing in Python can be performed with in a given range by skipping the values."
      ]
    },
    {
      "cell_type": "code",
      "execution_count": null,
      "metadata": {
        "colab": {
          "base_uri": "https://localhost:8080/"
        },
        "id": "Yv07B3EWfJR5",
        "outputId": "5eade5d6-d27a-49f3-fd7d-cbd308a4ef80"
      },
      "outputs": [
        {
          "name": "stdout",
          "output_type": "stream",
          "text": [
            "ta Struc\n"
          ]
        }
      ],
      "source": [
        "string='Data Structure'\n",
        "print(string[slice(2,10)])"
      ]
    },
    {
      "cell_type": "markdown",
      "metadata": {
        "id": "3cdGxNYngH9R"
      },
      "source": [
        "3.String Slicing in Python can be performed within a giving range by skipping the values."
      ]
    },
    {
      "cell_type": "code",
      "execution_count": null,
      "metadata": {
        "colab": {
          "background_save": true
        },
        "id": "aM8DPObtfJeq",
        "outputId": "a8c1f5d5-78d2-4fd1-a5fc-875b1f9aa752"
      },
      "outputs": [
        {
          "name": "stdout",
          "output_type": "stream",
          "text": [
            "tSu\n"
          ]
        }
      ],
      "source": [
        "string='Data Structure'\n",
        "print(string[slice(2,10,3)])"
      ]
    },
    {
      "cell_type": "markdown",
      "source": [
        "4.The String Slicing in Python can also be performed on backward indexing."
      ],
      "metadata": {
        "id": "_D9CPazrICiZ"
      }
    },
    {
      "cell_type": "code",
      "source": [
        "string='Data Structure'\n",
        "print(string[slice(-1,-12,-1)])"
      ],
      "metadata": {
        "colab": {
          "base_uri": "https://localhost:8080/"
        },
        "id": "CokPV5g0IUBY",
        "outputId": "d587d08d-ecfa-494c-830d-0370d297aac3"
      },
      "execution_count": null,
      "outputs": [
        {
          "output_type": "stream",
          "name": "stdout",
          "text": [
            "erutcurtS a\n"
          ]
        }
      ]
    },
    {
      "cell_type": "markdown",
      "source": [
        "List Slicing/Array Slicing\n",
        "\n",
        "The List Slicing method is most common way  of string slicing in Python.The parameter includes a set of range of values defined as [start,stop,step].\n",
        "\n",
        "Syntax:-string[Start_Index:End_Index:Steps]\n",
        "\n",
        "Example:-\n",
        "1.Slicing a string within a given range\n"
      ],
      "metadata": {
        "id": "dZwPQvTZF4l0"
      }
    },
    {
      "cell_type": "code",
      "source": [
        "string='Data Structure'\n",
        "print(string[2:10])"
      ],
      "metadata": {
        "colab": {
          "base_uri": "https://localhost:8080/"
        },
        "id": "sQy6279sG2WC",
        "outputId": "e3a57d68-b384-4aa8-c73c-7d9e0c92b9f9"
      },
      "execution_count": null,
      "outputs": [
        {
          "output_type": "stream",
          "name": "stdout",
          "text": [
            "ta Struc\n"
          ]
        }
      ]
    },
    {
      "cell_type": "markdown",
      "source": [
        "2. Slice string within a given range by skipping the letters."
      ],
      "metadata": {
        "id": "uKqZAHlGHDK1"
      }
    },
    {
      "cell_type": "code",
      "source": [
        "string='Data Structure'\n",
        "print(string[2:10:3])"
      ],
      "metadata": {
        "colab": {
          "base_uri": "https://localhost:8080/"
        },
        "id": "vM6PNjIqHM5z",
        "outputId": "3471055a-95ea-4c60-935f-bdf441e57117"
      },
      "execution_count": null,
      "outputs": [
        {
          "output_type": "stream",
          "name": "stdout",
          "text": [
            "tSu\n"
          ]
        }
      ]
    },
    {
      "cell_type": "markdown",
      "source": [
        "3.When starting index is not given,it takes 0 as the starting index."
      ],
      "metadata": {
        "id": "csLW4Lz4HX8C"
      }
    },
    {
      "cell_type": "code",
      "source": [
        "string='Data Structure'\n",
        "print(string[:10])"
      ],
      "metadata": {
        "colab": {
          "base_uri": "https://localhost:8080/"
        },
        "id": "gND7LyYbHiZw",
        "outputId": "4d876e77-9a45-4412-ef34-77911ecc2536"
      },
      "execution_count": null,
      "outputs": [
        {
          "output_type": "stream",
          "name": "stdout",
          "text": [
            "Data Struc\n"
          ]
        }
      ]
    },
    {
      "cell_type": "markdown",
      "source": [
        "4.When the index is not provided,it takes the last index as the end index."
      ],
      "metadata": {
        "id": "__YS2wyOHpEI"
      }
    },
    {
      "cell_type": "code",
      "source": [
        "string='Data Structure'\n",
        "print(string[2:])"
      ],
      "metadata": {
        "colab": {
          "base_uri": "https://localhost:8080/"
        },
        "id": "mdURWf46H0Q6",
        "outputId": "e37e8ff6-6ba7-41b0-d7b7-dde101a31c17"
      },
      "execution_count": null,
      "outputs": [
        {
          "output_type": "stream",
          "name": "stdout",
          "text": [
            "ta Structure\n"
          ]
        }
      ]
    },
    {
      "cell_type": "markdown",
      "source": [
        "Q.2 Explain the key features of lists in Python.\n",
        "\n",
        "Ans:-\n",
        "\n",
        "a)List can contain items of different types at the same time (including string,integer,floating point numbers and boolean values.)\n",
        "b)List are mutable and dyanmic;list items can be added,removed or cahnged after the list is defined.\n",
        "c)List are orderd;newly added items will be palced at the end of the list.\n",
        "d)Lists use zero-based indexing;every list item has associated index and the first item's index is 0.\n",
        "e)Duplicated list items are allowed.\n",
        "f)Lists can be nested wthin other lists indefinitely.\n",
        "\n"
      ],
      "metadata": {
        "id": "9V_Ek3TdIcy8"
      }
    },
    {
      "cell_type": "markdown",
      "source": [
        "Q.3 Desribe how to access,modify and delete elements in a list with examples.\n",
        "\n",
        "Ans:-\n",
        "\n",
        "1) Index Method:-The index method returns the first index at which a value occurs.\n",
        "\n",
        "\n",
        "\n",
        "\n",
        "\n",
        "\n",
        "\n",
        "\n",
        "\n",
        "\n",
        "\n",
        "\n",
        "\n",
        "\n",
        "\n",
        "\n",
        "\n",
        "\n",
        "\n",
        "\n",
        "\n",
        "\n",
        "\n",
        "\n",
        "\n",
        "\n",
        "\n"
      ],
      "metadata": {
        "id": "vv1Kv0VFKeaE"
      }
    },
    {
      "cell_type": "code",
      "source": [
        "z=[4,1,5,4,10,4]\n",
        "print(z.index(4))"
      ],
      "metadata": {
        "colab": {
          "base_uri": "https://localhost:8080/"
        },
        "id": "XNqt31mEPMVc",
        "outputId": "abfcd0ed-c98c-4e6d-dca6-4126530d0caf"
      },
      "execution_count": null,
      "outputs": [
        {
          "output_type": "stream",
          "name": "stdout",
          "text": [
            "0\n"
          ]
        }
      ]
    },
    {
      "cell_type": "code",
      "source": [
        "z=[4,1,5,4,10,4]\n",
        "print(z.index(4,2))"
      ],
      "metadata": {
        "colab": {
          "base_uri": "https://localhost:8080/"
        },
        "id": "a_rsJDWRUD7A",
        "outputId": "d91df497-4b0b-4560-f94d-1c2e41e15fc3"
      },
      "execution_count": null,
      "outputs": [
        {
          "output_type": "stream",
          "name": "stdout",
          "text": [
            "3\n"
          ]
        }
      ]
    },
    {
      "cell_type": "markdown",
      "source": [
        "2)Count Method:-\n",
        "The count method counts the number of times a value occurs in a list"
      ],
      "metadata": {
        "id": "Bphgu3NzUHLP"
      }
    },
    {
      "cell_type": "code",
      "source": [
        "random_list=[4,1,5,4,10,4]\n",
        "print(random_list.count(4))"
      ],
      "metadata": {
        "colab": {
          "base_uri": "https://localhost:8080/"
        },
        "id": "BirUHxzAUrTx",
        "outputId": "d57eca8b-dd54-4959-baa9-8ef12b6ff63a"
      },
      "execution_count": null,
      "outputs": [
        {
          "output_type": "stream",
          "name": "stdout",
          "text": [
            "3\n"
          ]
        }
      ]
    },
    {
      "cell_type": "markdown",
      "source": [
        "3)Sort Method:-\n",
        "\n",
        "The sort method sorts and alters the original list in place."
      ],
      "metadata": {
        "id": "S6qgUt26UwFN"
      }
    },
    {
      "cell_type": "code",
      "source": [
        "z=[4,1,5,4,10,4]\n",
        "z.sort()\n",
        "print(z)"
      ],
      "metadata": {
        "colab": {
          "base_uri": "https://localhost:8080/"
        },
        "id": "fKgUFcv0VB9o",
        "outputId": "aa521925-a7e2-4ea0-ba02-8a058f2970b5"
      },
      "execution_count": null,
      "outputs": [
        {
          "output_type": "stream",
          "name": "stdout",
          "text": [
            "[1, 4, 4, 4, 5, 10]\n"
          ]
        }
      ]
    },
    {
      "cell_type": "code",
      "source": [
        "z.sort(reverse=True)\n",
        "print(z)"
      ],
      "metadata": {
        "colab": {
          "base_uri": "https://localhost:8080/"
        },
        "id": "UZMFyGV4VHoh",
        "outputId": "33341695-74f2-4448-ac74-5ac554b6c36a"
      },
      "execution_count": null,
      "outputs": [
        {
          "output_type": "stream",
          "name": "stdout",
          "text": [
            "[10, 5, 4, 4, 4, 1]\n"
          ]
        }
      ]
    },
    {
      "cell_type": "markdown",
      "source": [
        "4)Append Method\n",
        "\n",
        "The append method adds an element to the end of a list.This happens in place."
      ],
      "metadata": {
        "id": "Ucl1YtNKVNzu"
      }
    },
    {
      "cell_type": "code",
      "source": [
        "z=[4,1,5,4,10,4]\n",
        "z.append(20)\n",
        "print(z)"
      ],
      "metadata": {
        "colab": {
          "base_uri": "https://localhost:8080/"
        },
        "id": "osCTspZeVc9b",
        "outputId": "ccf96380-4894-45c3-ec09-4c37b481c0fe"
      },
      "execution_count": null,
      "outputs": [
        {
          "output_type": "stream",
          "name": "stdout",
          "text": [
            "[4, 1, 5, 4, 10, 4, 20]\n"
          ]
        }
      ]
    },
    {
      "cell_type": "markdown",
      "source": [
        "5)Remove Method\n",
        "\n",
        "The remove method removes the first occurance of a value in a list.\n"
      ],
      "metadata": {
        "id": "ynCLcXAKVjMG"
      }
    },
    {
      "cell_type": "code",
      "source": [
        "z=[4,1,5,4,10,4]\n",
        "z.remove(4)\n",
        "print(z)"
      ],
      "metadata": {
        "colab": {
          "base_uri": "https://localhost:8080/"
        },
        "id": "qEQP0KMpV0lT",
        "outputId": "d685dd0f-1f3b-4fc5-9375-c0c62b796155"
      },
      "execution_count": null,
      "outputs": [
        {
          "output_type": "stream",
          "name": "stdout",
          "text": [
            "[1, 5, 4, 10, 4]\n"
          ]
        }
      ]
    },
    {
      "cell_type": "markdown",
      "source": [
        "6)Pop Method\n",
        "\n",
        "The pop method removes an items at the index provide.This method will also return the item removed from the list.If we don't provide an index,it will default to removing the item at the last index."
      ],
      "metadata": {
        "id": "FpA-XKkzV4aQ"
      }
    },
    {
      "cell_type": "code",
      "source": [
        "print(z.pop())\n",
        "print(z)"
      ],
      "metadata": {
        "colab": {
          "base_uri": "https://localhost:8080/"
        },
        "id": "pQVBd_NuWt6P",
        "outputId": "021797c8-e954-4d79-9ac4-dda72c04f089"
      },
      "execution_count": null,
      "outputs": [
        {
          "output_type": "stream",
          "name": "stdout",
          "text": [
            "4\n",
            "[1, 5, 4, 10]\n"
          ]
        }
      ]
    },
    {
      "cell_type": "markdown",
      "source": [
        "7)Extend Method\n",
        "\n",
        "This Method extends a list by apending items.The benefit of of this can add lists together.Alternetively,the same thing could be accmplished by using the (+) operator."
      ],
      "metadata": {
        "id": "9NeHLsBzWysr"
      }
    },
    {
      "cell_type": "code",
      "source": [
        "print(z.extend([1,2,3]))\n",
        "print(z)"
      ],
      "metadata": {
        "colab": {
          "base_uri": "https://localhost:8080/"
        },
        "id": "tXmpwraeXhFb",
        "outputId": "3d3dc0ca-d601-4685-cbbb-049bc98c53b1"
      },
      "execution_count": null,
      "outputs": [
        {
          "output_type": "stream",
          "name": "stdout",
          "text": [
            "None\n",
            "[1, 5, 4, 10, 1, 2, 3]\n"
          ]
        }
      ]
    },
    {
      "cell_type": "code",
      "source": [
        "print([1,2]+[3,4])"
      ],
      "metadata": {
        "colab": {
          "base_uri": "https://localhost:8080/"
        },
        "id": "yhdKDl5pXpnq",
        "outputId": "167070df-a34b-4bed-e367-02dc659c0126"
      },
      "execution_count": null,
      "outputs": [
        {
          "output_type": "stream",
          "name": "stdout",
          "text": [
            "[1, 2, 3, 4]\n"
          ]
        }
      ]
    },
    {
      "cell_type": "markdown",
      "source": [
        "8)Insert Method\n",
        "\n",
        "The insert method inserts sn item before the index provide."
      ],
      "metadata": {
        "id": "t_GRzxLDX0NO"
      }
    },
    {
      "cell_type": "code",
      "source": [
        "z=[4,1,5,4,10,4]\n",
        "z.insert(2,20)\n",
        "print(z)"
      ],
      "metadata": {
        "colab": {
          "base_uri": "https://localhost:8080/"
        },
        "id": "iSj0RU5-YGCn",
        "outputId": "7d95a4b0-2266-41ef-e942-d962042ffb4a"
      },
      "execution_count": null,
      "outputs": [
        {
          "output_type": "stream",
          "name": "stdout",
          "text": [
            "[4, 1, 20, 5, 4, 10, 4]\n"
          ]
        }
      ]
    },
    {
      "cell_type": "markdown",
      "source": [
        "Q.4 Compare and constract tuples and lists with examples.\n",
        "\n",
        "Ans:-\n",
        "\n",
        "1)\tLists are mutable\t & Tuples are immutable\n",
        "2)\tThe implication of iterations is Time-consuming &\tThe implication of iterations is comparatively Faster\n",
        "3)\tThe list is better for performing operations, such as insertion and deletion &\tA Tuple data type is appropriate for accessing the elements\n",
        "4)\tLists consume more memory\t& Tuple consumes less memory as compared to the list\n",
        "5)\tLists have several built-in methods &\tTuple does not have many built-in methods.\n",
        "6)\tUnexpected changes and errors are more likely to occur\t&Because tuples don’t change they are far less error-prone.\n",
        "\n",
        "Example:-\n",
        "\n",
        "List: [1,2,3]\n",
        "Tuple:(1,2,3)\n",
        "\n",
        "\n",
        "\n",
        "\n",
        "\n",
        "\n"
      ],
      "metadata": {
        "id": "jOuvqi5YYKEZ"
      }
    },
    {
      "cell_type": "markdown",
      "source": [
        "5)Describe the key feature of a set and provide example with their use.\n",
        "\n",
        "1.update()-used to update the set with union of others and itself\n",
        "\n",
        "2.add()-used to add a single item to the set\n",
        "\n",
        "3.copy()-used to return a copy of the set\n",
        "\n",
        "4.clear()-used to remove all items of the set\n",
        "\n",
        "5.discard()-used to remove an items from the set.If the item is not an element,then nothing is done\n",
        "\n",
        "6.union()-used to return a new set as a union of sets\n",
        "\n",
        "7.difference()-used to return a new set as the difference of two or more sets\n",
        "\n",
        "8.difference_update()-used to return a new set as interaction items from this sets\n",
        "\n",
        "9.intersection()-used to return a new set as intersection of two sets\n",
        "\n",
        "10.intersection_update()-used to update a set with the intersection of another set and itself\n",
        "\n",
        "11.pop()-used to return and remove an arbitrary set item,KeyError is raised if the set is empty\n",
        "\n",
        "12.remove()-used to remove an item from the set.KeyError is raised if an items is not a member of the set\n",
        "\n",
        "13.issubset()-if another set is contained in another set,return true\n",
        "\n",
        "14.issuperset()-if this set is contained in another set,return true\n",
        "\n",
        "15.isdisjoint()-if the intersection of two sets is null return true\n",
        "\n",
        "16.symmetric_difference-used to return a new set as the symmetric difference of two sets\n",
        "\n",
        "17.symmetric_difference_update()-used to update a set with the symmetric difference of another set and itself\n",
        "\n",
        "\n"
      ],
      "metadata": {
        "id": "pmDhSqBSe_xQ"
      }
    },
    {
      "cell_type": "code",
      "source": [
        "x={1,2,3}\n",
        "y={4,5,6}\n",
        "x.add(4)\n",
        "print(x)\n",
        "x.update([7,8])\n",
        "print(x)\n",
        "x={1,2,3}\n",
        "y={4,5,6}\n",
        "z=x.copy()\n",
        "print(z)\n",
        "x.clear()\n",
        "print(x)\n",
        "y.discard(4)\n",
        "print(y)\n",
        "z=x.union(y)\n",
        "print(z)\n",
        "z=x.difference(y)\n",
        "print(z)\n",
        "x.difference_update(y)\n",
        "print(x)\n",
        "z=x.intersection(y)\n",
        "print(z)\n",
        "x.intersection_update(y)\n",
        "print(x)\n",
        "\n"
      ],
      "metadata": {
        "colab": {
          "base_uri": "https://localhost:8080/"
        },
        "id": "O3Ijz4QAjiXE",
        "outputId": "ba396260-8fa5-4f1f-af99-ec43c47fab9b"
      },
      "execution_count": null,
      "outputs": [
        {
          "output_type": "stream",
          "name": "stdout",
          "text": [
            "{1, 2, 3, 4}\n",
            "{1, 2, 3, 4, 7, 8}\n",
            "{1, 2, 3}\n",
            "set()\n",
            "{5, 6}\n",
            "{5, 6}\n",
            "set()\n",
            "set()\n",
            "set()\n",
            "set()\n"
          ]
        }
      ]
    },
    {
      "cell_type": "markdown",
      "source": [
        "6) Discuss the used cases of tuples and sets in Python Programming.\n",
        "\n",
        "Ans:-\n",
        "\n",
        "Tuples are immutable collections of variables,so they can't be changed after creation.Set are mutable collection.the better choice is set beacause it allows us to add or remove items while the Set is in use."
      ],
      "metadata": {
        "id": "7MTC0NQ8gppv"
      }
    },
    {
      "cell_type": "markdown",
      "source": [
        "7)Describe how to add,modify and delete items in a dictionary with examples.\n",
        "\n",
        "Ans:-\n",
        "Creating a Dictionary\n",
        "\n",
        "Dictionaries are created using curly braces {}. The key is on the left side of the colon (:) and the value is on the right. A comma separates each key-value pair. Creating a Python dictionary is straightforward. Remember to use curly braces {} and separate each key-value pair with a comma.\n",
        "\n",
        "You will use the built-in dictionary data type to create a Python dictionary. This type stores all kinds of data, from integers to strings to lists. The dictionary data type is similar to a list but uses keys instead of indexes to look up values.\n",
        "\n",
        "You use the dict() function in Python to create a dictionary. This function takes two arguments:\n",
        "\n",
        "The first argument is a list of keys.\n",
        "\n",
        "The second argument is a list of values.\n",
        "\n",
        "Check out the example of how to create a dictionary using the dict() function:\n",
        "\n"
      ],
      "metadata": {
        "id": "cHt2HQrKhBIR"
      }
    },
    {
      "cell_type": "code",
      "source": [
        "# empty dictionary\n",
        "my_dict = {}\n",
        "# dictionary with integer keys\n",
        "my_dict = {1: 'apple', 2: 'ball'}\n",
        "# dictionary with mixed keys\n",
        "my_dict = {'name': 'John', 1: [2, 4, 3]}\n",
        "# using dict()\n",
        "my_dict = dict({1:'apple', 2:'ball'})\n",
        "# from sequence having each item as a pair\n",
        "my_dict = dict([(1,'apple'), (2,'ball')])\n",
        "\n"
      ],
      "metadata": {
        "id": "i4PL1ztqLxBl"
      },
      "execution_count": 4,
      "outputs": []
    },
    {
      "cell_type": "markdown",
      "source": [
        "Changing and Adding Elements to a Dictionary\n",
        "In Python, dictionaries are mutable data structures that allow you to store key-value pairs. Dictionary can be created using the dict() constructor or curly braces' {}'. Once you have created a dictionary, you can add, remove, or update elements using the methods dict.update(), dict.pop(), and dict.popitem().\n",
        "\n",
        "The `dict.update()` method is used to change an element in a dictionary. This method takes a key and a value as arguments and assigns the value to the key. It will be added if the key does not exist in the dictionary.\n",
        "\n",
        "You can use the `dict.pop()` method to remove an element from a dictionary. This method takes a key value as an argument and removes the key-value pair from the dictionary. In case when key does not exist in the dictionary, `dict.pop()` will raise a `KeyError.`\n",
        "\n",
        "The dict.popitem()` method is used to remove an arbitrary element from a dictionary, . This method removes a random key-value pair from the dictionary and returns it as a tuple. If the dictionary is empty, `dict.popitem()` will raise a `KeyError`.\n",
        "\n",
        "\n",
        "Python is a programming language with many tools and features. One such feature is the dictionary. A dictionary in Python is a collection of key-value pairs. The dictionary keys must be unique. The dictionary value may be of any type. In this blog post, we'll explore the dictionary in Python and learn how to use it.\n",
        "\n",
        "What Is a Dictionary?\n",
        "A dictionary is a kind of data structure that stores items in key-value pairs. A key is a unique identifier for an item, and a value is the data associated with that key. Dictionaries often store information such as words and definitions, but they can be used for much more. Dictionaries are mutable in Python, which means they can be changed after they are created. They are also unordered, indicating the items in a dictionary are not stored in any particular order.\n",
        "\n",
        "Creating a Dictionary\n",
        "Dictionaries are created using curly braces {}. The key is on the left side of the colon (:) and the value is on the right. A comma separates each key-value pair. Creating a Python dictionary is straightforward. Remember to use curly braces {} and separate each key-value pair with a comma.\n",
        "\n",
        "You will use the built-in dictionary data type to create a Python dictionary. This type stores all kinds of data, from integers to strings to lists. The dictionary data type is similar to a list but uses keys instead of indexes to look up values.\n",
        "\n",
        "You use the dict() function in Python to create a dictionary. This function takes two arguments:\n",
        "\n",
        "The first argument is a list of keys.\n",
        "\n",
        "The second argument is a list of values.\n",
        "\n",
        "Check out the example of how to create a dictionary using the dict() function:\n",
        "\n",
        "# empty dictionary\n",
        "my_dict = {}\n",
        "# dictionary with integer keys\n",
        "my_dict = {1: 'apple', 2: 'ball'}\n",
        "# dictionary with mixed keys\n",
        "my_dict = {'name': 'John', 1: [2, 4, 3]}\n",
        "# using dict()\n",
        "my_dict = dict({1:'apple', 2:'ball'})\n",
        "# from sequence having each item as a pair\n",
        "my_dict = dict([(1,'apple'), (2,'ball')])\n",
        "Image Reference\n",
        "\n",
        "Become a Online Certifications Professional\n",
        "13 % CAGR\n",
        "Estimated Growth By 2026\n",
        "30 %\n",
        "Increase In Job Demand\n",
        "Python Training\n",
        "Python Training\n",
        "24x7 learner assistance and support\n",
        "View Program\n",
        "Full Stack Java Developer Masters Program\n",
        "Full Stack Java Developer Masters Program\n",
        "Kickstart Full Stack Java Developer career with industry-aligned curriculum by experts\n",
        "Hands-on practice through 20+ projects, assessments, and tests\n",
        "7 months months\n",
        "View Program\n",
        "Here's what learners are saying regarding our programs:\n",
        "Charlotte Martinez\n",
        "Charlotte Martinez\n",
        "This is a good course for beginners as well as experts with all the basic concepts explained clearly. It's a good starter to move to python programming for programmers as well as non- programmers\n",
        "\n",
        "Jonathan Mabiala\n",
        "Jonathan Mabiala\n",
        "Java Software Developer, Desjardins\n",
        "I chose to upskill after moving from the United States to Canada in 2019. My journey in programming began during engineering, but I lost touch after college. Realizing I needed certification to advance, I enrolled in Simplilearn. The live classes boosted my confidence, allowing me to transition to a Java Software Developer role.\n",
        "\n",
        "Not sure what you’re looking for?View all Related Programs\n",
        "Complexities for Creating a Dictionary\n",
        "The time complexity of a dictionary is O(len(dict)); because a dictionary must be created, the hash function must calculate the hash values for each element. O(N) is the space complexity required to create a dictionary.\n",
        "\n",
        "Changing and Adding Elements to a Dictionary\n",
        "\n",
        "In Python, dictionaries are mutable data structures that allow you to store key-value pairs. Dictionary can be created using the dict() constructor or curly braces' {}'. Once you have created a dictionary, you can add, remove, or update elements using the methods dict.update(), dict.pop(), and dict.popitem().\n",
        "\n",
        "The `dict.update()` method is used to change an element in a dictionary. This method takes a key and a value as arguments and assigns the value to the key. It will be added if the key does not exist in the dictionary.\n",
        "\n",
        "You can use the `dict.pop()` method to remove an element from a dictionary. This method takes a key value as an argument and removes the key-value pair from the dictionary. In case when key does not exist in the dictionary, `dict.pop()` will raise a `KeyError.`\n",
        "\n",
        "The dict.popitem()` method is used to remove an arbitrary element from a dictionary, . This method removes a random key-value pair from the dictionary and returns it as a tuple. If the dictionary is empty, `dict.popitem()` will raise a `KeyError`.\n",
        "\n",
        "Accessing Elements of a Dictionary\n",
        "\n",
        "In Python, dictionaries are accessed by key, not by index. This means you can't access a dictionary element by using its position in the dictionary. Instead, you must use the dictionary key.\n",
        "\n",
        "There are two ways to access a dictionary element in Python. The first is by using the get() method. This method takes two arguments: the dictionary key and a default value. If the key is in the dictionary, the get() method will return the value associated with that key. The get() method will return the default value if the key is not in the dictionary.\n",
        "\n",
        "The second way to access a dictionary element is using the [] operator. This operator takes the dictionary key as an argument and returns the value associated with the key value. If the key value is not in the dictionary, the [] operator will raise a KeyError.\n",
        "\n"
      ],
      "metadata": {
        "id": "h5zpuIYXMVwp"
      }
    },
    {
      "cell_type": "markdown",
      "source": [
        "8)Discuss the improtance of dictionary keys being immutable and provide example.\n",
        "\n",
        "Python dictionary keys must always be immutable,which means we can not update the dictionary key runtime.\n"
      ],
      "metadata": {
        "id": "4OeIzCCdhZrT"
      }
    },
    {
      "cell_type": "code",
      "source": [
        "mydict={1:'a',2:'b'}\n",
        "mydict[1]='c'\n",
        "print(mydict)"
      ],
      "metadata": {
        "colab": {
          "base_uri": "https://localhost:8080/"
        },
        "id": "H-Hp0N3Bq-yK",
        "outputId": "b2b3be8c-5cc9-43de-afd2-23055150a83f"
      },
      "execution_count": null,
      "outputs": [
        {
          "output_type": "stream",
          "name": "stdout",
          "text": [
            "{1: 'c', 2: 'b'}\n"
          ]
        }
      ]
    }
  ],
  "metadata": {
    "colab": {
      "provenance": []
    },
    "kernelspec": {
      "display_name": "Python 3",
      "name": "python3"
    },
    "language_info": {
      "name": "python"
    }
  },
  "nbformat": 4,
  "nbformat_minor": 0
}