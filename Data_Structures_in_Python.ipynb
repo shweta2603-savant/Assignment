{
  "nbformat": 4,
  "nbformat_minor": 0,
  "metadata": {
    "colab": {
      "provenance": []
    },
    "kernelspec": {
      "name": "python3",
      "display_name": "Python 3"
    },
    "language_info": {
      "name": "python"
    }
  },
  "cells": [
    {
      "cell_type": "markdown",
      "source": [
        "Q 1.Write a code to reverse a string.\n",
        "\n"
      ],
      "metadata": {
        "id": "zdmLT8yT0eiv"
      }
    },
    {
      "cell_type": "code",
      "source": [
        "def reverse_string(s):\n",
        "    return s[::-1]\n",
        "\n",
        "# Example usage\n",
        "string = \"Hello, World!\"\n",
        "reversed_string = reverse_string(string)\n",
        "print(\"Reversed string:\", reversed_string)\n"
      ],
      "metadata": {
        "id": "wNYmbGpRZ8vl"
      },
      "execution_count": null,
      "outputs": []
    },
    {
      "cell_type": "markdown",
      "source": [
        "Q 2.Write a code to count the number of vowels in a string.\n",
        "\n",
        "\n"
      ],
      "metadata": {
        "id": "_in8rm0D0v2L"
      }
    },
    {
      "cell_type": "code",
      "source": [
        "def reverse_string(s):\n",
        "    return s[::-1]\n",
        "\n",
        "# Example usage\n",
        "string = \"Hello, World!\"\n",
        "reversed_string = reverse_string(string)\n",
        "print(\"Reversed string:\", reversed_string)\n"
      ],
      "metadata": {
        "colab": {
          "base_uri": "https://localhost:8080/"
        },
        "id": "Ah31dmP4aIRP",
        "outputId": "426b7a36-19c6-4fb7-c9b5-8cf65f2000a0"
      },
      "execution_count": null,
      "outputs": [
        {
          "output_type": "stream",
          "name": "stdout",
          "text": [
            "Reversed string: !dlroW ,olleH\n"
          ]
        }
      ]
    },
    {
      "cell_type": "markdown",
      "source": [
        "Q 3.Write a code to check if a given sttring is a palindrome or not.\n"
      ],
      "metadata": {
        "id": "UQ7U_2kC0wDq"
      }
    },
    {
      "cell_type": "code",
      "source": [
        "def is_palindrome(s):\n",
        "    s = s.lower().replace(\" \", \"\")  # Convert to lowercase and remove spaces\n",
        "    return s == s[::-1]\n",
        "\n",
        "# Example usage\n",
        "string = \"Madam\"\n",
        "if is_palindrome(string):\n",
        "    print(f'\"{string}\" is a palindrome.')\n",
        "else:\n",
        "    print(f'\"{string}\" is not a palindrome.')\n"
      ],
      "metadata": {
        "colab": {
          "base_uri": "https://localhost:8080/"
        },
        "id": "VyFz5_rKaT5M",
        "outputId": "c7cc737e-07d4-45c9-ec46-3e76fb64b029"
      },
      "execution_count": null,
      "outputs": [
        {
          "output_type": "stream",
          "name": "stdout",
          "text": [
            "\"Madam\" is a palindrome.\n"
          ]
        }
      ]
    },
    {
      "cell_type": "markdown",
      "source": [
        "Q 4.Write a code to check if two given strings are anagrams of each other."
      ],
      "metadata": {
        "id": "mnmcE6_I0wJq"
      }
    },
    {
      "cell_type": "code",
      "source": [
        "def are_anagrams(str1, str2):\n",
        "    # Remove spaces, convert to lowercase, and sort characters\n",
        "    return sorted(str1.replace(\" \", \"\").lower()) == sorted(str2.replace(\" \", \"\").lower())\n",
        "\n",
        "# Example usage\n",
        "string1 = \"listen\"\n",
        "string2 = \"silent\"\n",
        "\n",
        "if are_anagrams(string1, string2):\n",
        "    print(f'\"{string1}\" and \"{string2}\" are anagrams.')\n",
        "else:\n",
        "    print(f'\"{string1}\" and \"{string2}\" are not anagrams.')\n"
      ],
      "metadata": {
        "colab": {
          "base_uri": "https://localhost:8080/"
        },
        "id": "sI-jYotgaqDN",
        "outputId": "8ac048fb-73f4-4bc3-de5b-1c8e89f45b6b"
      },
      "execution_count": null,
      "outputs": [
        {
          "output_type": "stream",
          "name": "stdout",
          "text": [
            "\"listen\" and \"silent\" are anagrams.\n"
          ]
        }
      ]
    },
    {
      "cell_type": "markdown",
      "source": [
        "Q 5.Write a code to find all occurrences of a given substring within another string."
      ],
      "metadata": {
        "id": "gzTxLK1-0wMw"
      }
    },
    {
      "cell_type": "code",
      "source": [
        "def find_occurrences(s, sub):\n",
        "    start = 0\n",
        "    positions = []\n",
        "    while start < len(s):\n",
        "        start = s.find(sub, start)\n",
        "        if start == -1:\n",
        "            break\n",
        "        positions.append(start)\n",
        "        start += 1  # Move to the next position after the found substring\n",
        "    return positions\n",
        "\n",
        "# Example usage\n",
        "string = \"This is a test string, and this is a test example.\"\n",
        "substring = \"test\"\n",
        "occurrences = find_occurrences(string, substring)\n",
        "print(\"Occurrences at positions:\", occurrences)\n",
        "\n"
      ],
      "metadata": {
        "colab": {
          "base_uri": "https://localhost:8080/"
        },
        "id": "egfuJ1YobApz",
        "outputId": "c5d51fd6-e610-457f-a821-739e69a39e2b"
      },
      "execution_count": null,
      "outputs": [
        {
          "output_type": "stream",
          "name": "stdout",
          "text": [
            "Occurrences at positions: [10, 37]\n"
          ]
        }
      ]
    },
    {
      "cell_type": "markdown",
      "source": [
        "Q 6.Write a code to perform basic string compression using the counts of repeated characters."
      ],
      "metadata": {
        "id": "kSgjAihu0wSB"
      }
    },
    {
      "cell_type": "code",
      "source": [
        "def compress_string(s):\n",
        "    if not s:\n",
        "        return \"\"\n",
        "\n",
        "    compressed = []\n",
        "    count = 1\n",
        "\n",
        "    for i in range(1, len(s)):\n",
        "        if s[i] == s[i - 1]:\n",
        "            count += 1\n",
        "        else:\n",
        "            compressed.append(s[i - 1] + str(count))\n",
        "            count = 1\n",
        "\n",
        "    compressed.append(s[-1] + str(count))  # Append the last character and count\n",
        "    compressed_string = ''.join(compressed)\n",
        "\n",
        "    # Return the original string if compression doesn't make it shorter\n",
        "    return compressed_string if len(compressed_string) < len(s) else s\n",
        "\n",
        "# Example usage\n",
        "string = \"aabcccccaaa\"\n",
        "compressed_string = compress_string(string)\n",
        "print(\"Compressed string:\", compressed_string)\n"
      ],
      "metadata": {
        "colab": {
          "base_uri": "https://localhost:8080/"
        },
        "id": "83bnUQqUkmFz",
        "outputId": "c5677049-928f-4b00-d363-7c0916b8c2d2"
      },
      "execution_count": null,
      "outputs": [
        {
          "output_type": "stream",
          "name": "stdout",
          "text": [
            "Compressed string: a2b1c5a3\n"
          ]
        }
      ]
    },
    {
      "cell_type": "markdown",
      "source": [
        "Q 7.Write a code determine if a string has all unique characters."
      ],
      "metadata": {
        "id": "Ry6tHbXr0yFG"
      }
    },
    {
      "cell_type": "code",
      "source": [
        "def has_unique_characters(s):\n",
        "    # Using a set to track characters we have seen\n",
        "    seen_characters = set()\n",
        "    for char in s:\n",
        "        if char in seen_characters:\n",
        "            return False\n",
        "        seen_characters.add(char)\n",
        "    return True\n",
        "\n",
        "# Example usage\n",
        "string = \"abcdef\"\n",
        "if has_unique_characters(string):\n",
        "    print(f'\"{string}\" has all unique characters.')\n",
        "else:\n",
        "    print(f'\"{string}\" does not have all unique characters.')\n"
      ],
      "metadata": {
        "colab": {
          "base_uri": "https://localhost:8080/"
        },
        "id": "EfRZxAW3knzT",
        "outputId": "dd16d025-8732-4213-b69b-f9e8e8d789a4"
      },
      "execution_count": null,
      "outputs": [
        {
          "output_type": "stream",
          "name": "stdout",
          "text": [
            "\"abcdef\" has all unique characters.\n"
          ]
        }
      ]
    },
    {
      "cell_type": "markdown",
      "source": [
        "Q 8.Write a code to convert a given string to uppercase or lowercase."
      ],
      "metadata": {
        "id": "Y9ObxtAPbhC2"
      }
    },
    {
      "cell_type": "code",
      "source": [
        "def convert_case(s, to_upper=True):\n",
        "    if to_upper:\n",
        "        return s.upper()\n",
        "    else:\n",
        "        return s.lower()\n",
        "\n",
        "# Example usage\n",
        "string = \"Hello, World!\"\n",
        "uppercase_string = convert_case(string, to_upper=True)\n",
        "lowercase_string = convert_case(string, to_upper=False)\n",
        "\n",
        "print(\"Uppercase:\", uppercase_string)\n",
        "print(\"Lowercase:\", lowercase_string)\n"
      ],
      "metadata": {
        "colab": {
          "base_uri": "https://localhost:8080/"
        },
        "id": "cN9eABwMkpW-",
        "outputId": "b6f9b07a-40a4-461d-a3c3-f415510ed258"
      },
      "execution_count": null,
      "outputs": [
        {
          "output_type": "stream",
          "name": "stdout",
          "text": [
            "Uppercase: HELLO, WORLD!\n",
            "Lowercase: hello, world!\n"
          ]
        }
      ]
    },
    {
      "cell_type": "markdown",
      "source": [
        "Q 9.Write a code to count the number of words in a string."
      ],
      "metadata": {
        "id": "ni7JoY9vbg_z"
      }
    },
    {
      "cell_type": "code",
      "source": [
        "def count_words(s):\n",
        "    words = s.split()  # Split the string by whitespace\n",
        "    return len(words)\n",
        "\n",
        "# Example usage\n",
        "string = \"This is a sample sentence with several words.\"\n",
        "word_count = count_words(string)\n",
        "print(\"Number of words:\", word_count)\n"
      ],
      "metadata": {
        "colab": {
          "base_uri": "https://localhost:8080/"
        },
        "id": "iwdUZ8dnksHx",
        "outputId": "70bf2bc2-af3f-4b52-96c6-49e85697c43e"
      },
      "execution_count": null,
      "outputs": [
        {
          "output_type": "stream",
          "name": "stdout",
          "text": [
            "Number of words: 8\n"
          ]
        }
      ]
    },
    {
      "cell_type": "markdown",
      "source": [
        "Q 10.Write a code concatenate two strings without using the + operator."
      ],
      "metadata": {
        "id": "fTIn37wDbg6I"
      }
    },
    {
      "cell_type": "code",
      "source": [
        "def concatenate_strings(str1, str2):\n",
        "    return \"{}{}\".format(str1, str2)\n",
        "\n",
        "# Example usage\n",
        "string1 = \"Hello, \"\n",
        "string2 = \"World!\"\n",
        "concatenated_string = concatenate_strings(string1, string2)\n",
        "print(\"Concatenated string:\", concatenated_string)\n"
      ],
      "metadata": {
        "colab": {
          "base_uri": "https://localhost:8080/"
        },
        "id": "gbC9meSaku5a",
        "outputId": "aec221a7-892b-4a9a-c3e6-e42325445682"
      },
      "execution_count": null,
      "outputs": [
        {
          "output_type": "stream",
          "name": "stdout",
          "text": [
            "Concatenated string: Hello, World!\n"
          ]
        }
      ]
    },
    {
      "cell_type": "markdown",
      "source": [
        "Q 11.Write a code to remove all occurrences of specific element from a list."
      ],
      "metadata": {
        "id": "DpmZ8RMcbg2t"
      }
    },
    {
      "cell_type": "code",
      "source": [
        "def remove_occurrences(lst, element):\n",
        "    return [item for item in lst if item != element]\n",
        "\n",
        "# Example usage\n",
        "original_list = [1, 2, 3, 4, 2, 5, 2]\n",
        "element_to_remove = 2\n",
        "modified_list = remove_occurrences(original_list, element_to_remove)\n",
        "\n",
        "print(\"Original list:\", original_list)\n",
        "print(\"Modified list:\", modified_list)\n"
      ],
      "metadata": {
        "colab": {
          "base_uri": "https://localhost:8080/"
        },
        "id": "OFPgOlAbkwqC",
        "outputId": "1417d5a8-d267-455f-9d4a-79a264c2941f"
      },
      "execution_count": null,
      "outputs": [
        {
          "output_type": "stream",
          "name": "stdout",
          "text": [
            "Original list: [1, 2, 3, 4, 2, 5, 2]\n",
            "Modified list: [1, 3, 4, 5]\n"
          ]
        }
      ]
    },
    {
      "cell_type": "markdown",
      "source": [
        "Q 12.Implement a code to find the second largest number in a given list of integers."
      ],
      "metadata": {
        "id": "WY-wZxhqbgzy"
      }
    },
    {
      "cell_type": "code",
      "source": [
        "def find_second_largest(lst):\n",
        "    if len(lst) < 2:\n",
        "        return None  # Not enough elements for a second largest\n",
        "\n",
        "    first = second = float('-inf')\n",
        "\n",
        "    for number in lst:\n",
        "        if number > first:\n",
        "            second = first\n",
        "            first = number\n",
        "        elif first > number > second:\n",
        "            second = number\n",
        "\n",
        "    return second if second != float('-inf') else None\n",
        "\n",
        "# Example usage\n",
        "numbers = [10, 20, 4, 45, 99]\n",
        "second_largest = find_second_largest(numbers)\n",
        "print(\"Second largest number:\", second_largest)\n"
      ],
      "metadata": {
        "colab": {
          "base_uri": "https://localhost:8080/"
        },
        "id": "aCQDtP42kxqE",
        "outputId": "140deebd-d3fb-4e33-9bb1-d44f0a3620b8"
      },
      "execution_count": null,
      "outputs": [
        {
          "output_type": "stream",
          "name": "stdout",
          "text": [
            "Second largest number: 45\n"
          ]
        }
      ]
    },
    {
      "cell_type": "markdown",
      "source": [
        "Q 13.Create a code to count the occurrences of each element in a list and return a dictionary with elements as keys and their counts as values."
      ],
      "metadata": {
        "id": "DBDFcbKMbgtP"
      }
    },
    {
      "cell_type": "code",
      "source": [
        "def count_occurrences(lst):\n",
        "    counts = {}\n",
        "    for item in lst:\n",
        "        if item in counts:\n",
        "            counts[item] += 1\n",
        "        else:\n",
        "            counts[item] = 1\n",
        "    return counts\n",
        "\n",
        "# Example usage\n",
        "elements = [1, 2, 2, 3, 1, 4, 3, 2]\n",
        "occurrences = count_occurrences(elements)\n",
        "print(\"Occurrences:\", occurrences)\n"
      ],
      "metadata": {
        "colab": {
          "base_uri": "https://localhost:8080/"
        },
        "id": "MOpXmBvSkzeT",
        "outputId": "7ae98fe2-d363-4539-c20c-12b3185869d3"
      },
      "execution_count": null,
      "outputs": [
        {
          "output_type": "stream",
          "name": "stdout",
          "text": [
            "Occurrences: {1: 2, 2: 3, 3: 2, 4: 1}\n"
          ]
        }
      ]
    },
    {
      "cell_type": "markdown",
      "source": [
        "Q 14.Write a code to reverce a list in-place without using any built-in reverce functions."
      ],
      "metadata": {
        "id": "LeMzm2KqbgpF"
      }
    },
    {
      "cell_type": "code",
      "source": [
        "def reverse_list(lst):\n",
        "    left = 0\n",
        "    right = len(lst) - 1\n",
        "\n",
        "    while left < right:\n",
        "        # Swap the elements at left and right indices\n",
        "        lst[left], lst[right] = lst[right], lst[left]\n",
        "        left += 1\n",
        "        right -= 1\n",
        "\n",
        "# Example usage\n",
        "my_list = [1, 2, 3, 4, 5]\n",
        "reverse_list(my_list)\n",
        "print(\"Reversed list:\", my_list)\n"
      ],
      "metadata": {
        "colab": {
          "base_uri": "https://localhost:8080/"
        },
        "id": "fIlFhk17k1YD",
        "outputId": "0f09e252-b4d9-4ef6-aa0d-ccb52f7c1ada"
      },
      "execution_count": null,
      "outputs": [
        {
          "output_type": "stream",
          "name": "stdout",
          "text": [
            "Reversed list: [5, 4, 3, 2, 1]\n"
          ]
        }
      ]
    },
    {
      "cell_type": "markdown",
      "source": [
        "Q 16.Create a code to cheak if a given list is sorted(either in ascending or decending order) or not."
      ],
      "metadata": {
        "id": "93F648eWbgfi"
      }
    },
    {
      "cell_type": "code",
      "source": [
        "def is_sorted(lst):\n",
        "    if len(lst) < 2:\n",
        "        return True  # A list with 0 or 1 elements is considered sorted\n",
        "\n",
        "    ascending = all(lst[i] <= lst[i + 1] for i in range(len(lst) - 1))\n",
        "    descending = all(lst[i] >= lst[i + 1] for i in range(len(lst) - 1))\n",
        "\n",
        "    return ascending or descending\n",
        "\n",
        "# Example usage\n",
        "my_list1 = [1, 2, 3, 4, 5]      # Ascending\n",
        "my_list2 = [5, 4, 3, 2, 1]      # Descending\n",
        "my_list3 = [1, 3, 2, 4, 5]      # Unsorted\n",
        "\n",
        "print(f\"My list 1 is sorted: {is_sorted(my_list1)}\")\n",
        "print(f\"My list 2 is sorted: {is_sorted(my_list2)}\")\n",
        "print(f\"My list 3 is sorted: {is_sorted(my_list3)}\")\n"
      ],
      "metadata": {
        "colab": {
          "base_uri": "https://localhost:8080/"
        },
        "id": "LXnfIb8jk5vW",
        "outputId": "71a1383a-637e-435a-de16-f6a6b9ceed97"
      },
      "execution_count": null,
      "outputs": [
        {
          "output_type": "stream",
          "name": "stdout",
          "text": [
            "My list 1 is sorted: True\n",
            "My list 2 is sorted: True\n",
            "My list 3 is sorted: False\n"
          ]
        }
      ]
    },
    {
      "cell_type": "markdown",
      "source": [
        "Q 17.Write a code to merge two sorted lists into a single sorted list."
      ],
      "metadata": {
        "id": "KfpZGCVcbga3"
      }
    },
    {
      "cell_type": "code",
      "source": [
        "def merge_sorted_lists(list1, list2):\n",
        "    merged_list = []\n",
        "    i, j = 0, 0\n",
        "\n",
        "    # Traverse both lists and merge them in sorted order\n",
        "    while i < len(list1) and j < len(list2):\n",
        "        if list1[i] < list2[j]:\n",
        "            merged_list.append(list1[i])\n",
        "            i += 1\n",
        "        else:\n",
        "            merged_list.append(list2[j])\n",
        "            j += 1\n",
        "\n",
        "    # If there are remaining elements in list1, add them\n",
        "    while i < len(list1):\n",
        "        merged_list.append(list1[i])\n",
        "        i += 1\n",
        "\n",
        "    # If there are remaining elements in list2, add them\n",
        "    while j < len(list2):\n",
        "        merged_list.append(list2[j])\n",
        "        j += 1\n",
        "\n",
        "    return merged_list\n",
        "\n",
        "# Example usage\n",
        "sorted_list1 = [1, 3, 5, 7]\n",
        "sorted_list2 = [2, 4, 6, 8]\n",
        "merged = merge_sorted_lists(sorted_list1, sorted_list2)\n",
        "print(\"Merged sorted list:\", merged)\n"
      ],
      "metadata": {
        "colab": {
          "base_uri": "https://localhost:8080/"
        },
        "id": "AWvj9WFvk7LE",
        "outputId": "cbcd9179-318c-4366-deef-1f700ff5e21f"
      },
      "execution_count": null,
      "outputs": [
        {
          "output_type": "stream",
          "name": "stdout",
          "text": [
            "Merged sorted list: [1, 2, 3, 4, 5, 6, 7, 8]\n"
          ]
        }
      ]
    },
    {
      "cell_type": "markdown",
      "source": [
        "Q 18.Implement a code to find the intersection of two given lists."
      ],
      "metadata": {
        "id": "QPHoAq5gbgWI"
      }
    },
    {
      "cell_type": "code",
      "source": [
        "def intersection(list1, list2):\n",
        "    # Use a set to store unique elements from list1\n",
        "    set1 = set(list1)\n",
        "\n",
        "    # Find common elements by checking if they exist in set1\n",
        "    intersected = [item for item in list2 if item in set1]\n",
        "\n",
        "    return intersected\n",
        "\n",
        "# Example usage\n",
        "list1 = [1, 2, 3, 4, 5]\n",
        "list2 = [4, 5, 6, 7, 8]\n",
        "result = intersection(list1, list2)\n",
        "print(\"Intersection:\", result)\n"
      ],
      "metadata": {
        "colab": {
          "base_uri": "https://localhost:8080/"
        },
        "id": "kz8gTJB0k7wa",
        "outputId": "962cb294-6fc6-45fb-c6ae-26d52db8a31c"
      },
      "execution_count": null,
      "outputs": [
        {
          "output_type": "stream",
          "name": "stdout",
          "text": [
            "Intersection: [4, 5]\n"
          ]
        }
      ]
    },
    {
      "cell_type": "markdown",
      "source": [
        "Q 19.Create a code to find the union of two lists without duplicates."
      ],
      "metadata": {
        "id": "8jrf2SBwbgQB"
      }
    },
    {
      "cell_type": "code",
      "source": [
        "def union(list1, list2):\n",
        "    # Use a set to automatically handle duplicates\n",
        "    return list(set(list1) | set(list2))\n",
        "\n",
        "# Example usage\n",
        "list1 = [1, 2, 3, 4, 5]\n",
        "list2 = [4, 5, 6, 7, 8]\n",
        "result = union(list1, list2)\n",
        "print(\"Union:\", result)\n"
      ],
      "metadata": {
        "colab": {
          "base_uri": "https://localhost:8080/"
        },
        "id": "Sm-Pyu5_k82Y",
        "outputId": "6dc58141-cf97-4881-fbcb-109951ff8290"
      },
      "execution_count": null,
      "outputs": [
        {
          "output_type": "stream",
          "name": "stdout",
          "text": [
            "Union: [1, 2, 3, 4, 5, 6, 7, 8]\n"
          ]
        }
      ]
    },
    {
      "cell_type": "markdown",
      "source": [
        "Q 20.Write a code to shuffle a given list randmoly without using any built-in shuffle functions."
      ],
      "metadata": {
        "id": "cLIEWX_kbgEu"
      }
    },
    {
      "cell_type": "code",
      "source": [
        "import random\n",
        "\n",
        "def shuffle_list(lst):\n",
        "    # Create a copy of the original list to avoid modifying it\n",
        "    shuffled = lst[:]\n",
        "\n",
        "    # Perform the Fisher-Yates shuffle algorithm\n",
        "    for i in range(len(shuffled) - 1, 0, -1):\n",
        "        # Generate a random index from 0 to i\n",
        "        j = random.randint(0, i)\n",
        "        # Swap elements at indices i and j\n",
        "        shuffled[i], shuffled[j] = shuffled[j], shuffled[i]\n",
        "\n",
        "    return shuffled\n",
        "\n",
        "# Example usage\n",
        "my_list = [1, 2, 3, 4, 5]\n",
        "shuffled_list = shuffle_list(my_list)\n",
        "print(\"Original list:\", my_list)\n",
        "print(\"Shuffled list:\", shuffled_list)\n"
      ],
      "metadata": {
        "colab": {
          "base_uri": "https://localhost:8080/"
        },
        "id": "sJT6InRwk9n8",
        "outputId": "9080dc94-608a-4492-9674-add3389bcb12"
      },
      "execution_count": null,
      "outputs": [
        {
          "output_type": "stream",
          "name": "stdout",
          "text": [
            "Original list: [1, 2, 3, 4, 5]\n",
            "Shuffled list: [1, 5, 4, 3, 2]\n"
          ]
        }
      ]
    },
    {
      "cell_type": "markdown",
      "source": [
        "Q 21.Write a code that takes two tuples as input and returns a new tuple as input and returns a new tuple containing elements that are common to both input tuples."
      ],
      "metadata": {
        "id": "gXFVhOUEbf1G"
      }
    },
    {
      "cell_type": "code",
      "source": [
        "def common_elements(tuple1, tuple2):\n",
        "    # Convert both tuples to sets and find the intersection\n",
        "    common_set = set(tuple1) & set(tuple2)\n",
        "    # Return the common elements as a new tuple\n",
        "    return tuple(common_set)\n",
        "\n",
        "# Example usage\n",
        "tuple1 = (1, 2, 3, 4, 5)\n",
        "tuple2 = (4, 5, 6, 7, 8)\n",
        "result = common_elements(tuple1, tuple2)\n",
        "print(\"Common elements:\", result)\n"
      ],
      "metadata": {
        "colab": {
          "base_uri": "https://localhost:8080/"
        },
        "id": "WlUNd2ZAlAov",
        "outputId": "a3422926-62bb-47c8-ace5-6c237896db70"
      },
      "execution_count": null,
      "outputs": [
        {
          "output_type": "stream",
          "name": "stdout",
          "text": [
            "Common elements: (4, 5)\n"
          ]
        }
      ]
    },
    {
      "cell_type": "markdown",
      "source": [
        "Q 22.Create a code that prompts the user to enter teo sets of integers seperated by commas.Then,print the intersection of these two sets."
      ],
      "metadata": {
        "id": "HUaKHo9AbfR3"
      }
    },
    {
      "cell_type": "code",
      "source": [
        "# Prompt the user to enter two sets of integers\n",
        "set1 = set(map(int, input(\"Enter the first set of integers separated by commas: \").split(',')))\n",
        "set2 = set(map(int, input(\"Enter the second set of integers separated by commas: \").split(',')))\n",
        "\n",
        "# Find the intersection of the two sets\n",
        "intersection = set1.intersection(set2)\n",
        "\n",
        "# Print the intersection\n",
        "print(\"The intersection of the two sets is:\", intersection)\n"
      ],
      "metadata": {
        "colab": {
          "base_uri": "https://localhost:8080/"
        },
        "id": "gQeJmHpJcvKq",
        "outputId": "b0bb5a8a-d073-4bfd-8bd7-247057e4e8e6"
      },
      "execution_count": null,
      "outputs": [
        {
          "output_type": "stream",
          "name": "stdout",
          "text": [
            "Enter the first set of integers separated by commas: 1,2\n",
            "Enter the second set of integers separated by commas: 3,4\n",
            "The intersection of the two sets is: set()\n"
          ]
        }
      ]
    },
    {
      "cell_type": "markdown",
      "source": [
        "Q 23.Write a code to concatenate two tuples.The function should take two tuples as input and return a new tuple containing elements from both input tuple."
      ],
      "metadata": {
        "id": "golmQsNx0yWn"
      }
    },
    {
      "cell_type": "code",
      "source": [
        "def concatenate_tuples(tuple1, tuple2):\n",
        "    # Concatenate the two tuples\n",
        "    return tuple1 + tuple2\n",
        "\n",
        "# Example usage\n",
        "tuple1 = (1, 2, 3)\n",
        "tuple2 = (4, 5, 6)\n",
        "result = concatenate_tuples(tuple1, tuple2)\n",
        "print(\"Concatenated tuple:\", result)\n"
      ],
      "metadata": {
        "colab": {
          "base_uri": "https://localhost:8080/"
        },
        "id": "XPPq56KKlEYy",
        "outputId": "56e16353-fbf4-4c15-b5ac-d93d1aa8d21d"
      },
      "execution_count": null,
      "outputs": [
        {
          "output_type": "stream",
          "name": "stdout",
          "text": [
            "Concatenated tuple: (1, 2, 3, 4, 5, 6)\n"
          ]
        }
      ]
    },
    {
      "cell_type": "markdown",
      "source": [
        "Q 24.Develop a code that prompts the user to input two sets of strings.Then,print the elements that are present in the first set but not in the second set."
      ],
      "metadata": {
        "id": "b8T57am-0yj9"
      }
    },
    {
      "cell_type": "code",
      "source": [
        "# Prompt the user to enter two sets of strings\n",
        "set1 = set(input(\"Enter the first set of strings separated by commas: \").split(','))\n",
        "set2 = set(input(\"Enter the second set of strings separated by commas: \").split(','))\n",
        "\n",
        "# Strip whitespace around each string in both sets\n",
        "set1 = {s.strip() for s in set1}\n",
        "set2 = {s.strip() for s in set2}\n",
        "\n",
        "# Find the elements that are in the first set but not in the second set\n",
        "difference = set1.difference(set2)\n",
        "\n",
        "# Print the result\n",
        "print(\"The elements present in the first set but not in the second set are:\", difference)\n"
      ],
      "metadata": {
        "colab": {
          "base_uri": "https://localhost:8080/"
        },
        "id": "3e_w3pTuduA1",
        "outputId": "48986c7f-36b5-4110-8db4-3e595c4ea93f"
      },
      "execution_count": null,
      "outputs": [
        {
          "output_type": "stream",
          "name": "stdout",
          "text": [
            "Enter the first set of strings separated by commas: 'Data','structure'\n",
            "The elements present in the first set but not in the second set are: set()\n"
          ]
        }
      ]
    },
    {
      "cell_type": "markdown",
      "source": [
        "Q 25.Create a code that takes a tuple and two intergers as input.The function should return a new tuple contaning elements from the original tuple within the specifed range of indices."
      ],
      "metadata": {
        "id": "xgP6VOqq0yz9"
      }
    },
    {
      "cell_type": "code",
      "source": [
        "def extract_range_from_tuple(original_tuple, start_index, end_index):\n",
        "    # Validate indices\n",
        "    if start_index < 0 or end_index > len(original_tuple) or start_index > end_index:\n",
        "        return \"Invalid indices.\"\n",
        "\n",
        "    # Return a new tuple with elements within the specified range\n",
        "    return original_tuple[start_index:end_index]\n",
        "\n",
        "# Example usage\n",
        "my_tuple = (10, 20, 30, 40, 50, 60)\n",
        "start = 2\n",
        "end = 5\n",
        "result = extract_range_from_tuple(my_tuple, start, end)\n",
        "print(\"Extracted tuple:\", result)\n"
      ],
      "metadata": {
        "colab": {
          "base_uri": "https://localhost:8080/"
        },
        "id": "kzQKZwpQlICm",
        "outputId": "b3d8d30e-911b-48f7-c498-73172c371a50"
      },
      "execution_count": null,
      "outputs": [
        {
          "output_type": "stream",
          "name": "stdout",
          "text": [
            "Extracted tuple: (30, 40, 50)\n"
          ]
        }
      ]
    },
    {
      "cell_type": "markdown",
      "source": [
        "Q 26.Write a code that prompts the user to input two sets of characters.Then,print the union of these two sets."
      ],
      "metadata": {
        "id": "WRR7F4R40zAJ"
      }
    },
    {
      "cell_type": "code",
      "source": [
        "# Prompt the user to enter two sets of characters\n",
        "set1 = set(input(\"Enter the first set of characters separated by commas: \").split(','))\n",
        "set2 = set(input(\"Enter the second set of characters separated by commas: \").split(','))\n",
        "\n",
        "# Strip whitespace around each character in both sets\n",
        "set1 = {ch.strip() for ch in set1}\n",
        "set2 = {ch.strip() for ch in set2}\n",
        "\n",
        "# Find the union of the two sets\n",
        "union_set = set1.union(set2)\n",
        "\n",
        "# Print the result\n",
        "print(\"The union of the two sets is:\", union_set)\n"
      ],
      "metadata": {
        "colab": {
          "base_uri": "https://localhost:8080/"
        },
        "id": "3ux9Nk_beicg",
        "outputId": "9356df5d-de92-49bb-8de0-b9f2fb510481"
      },
      "execution_count": null,
      "outputs": [
        {
          "output_type": "stream",
          "name": "stdout",
          "text": [
            "Enter the first set of characters separated by commas: a,b,c\n",
            "Enter the second set of characters separated by commas: e,f,g\n",
            "The union of the two sets is: {'f', 'a', 'g', 'b', 'c', 'e'}\n"
          ]
        }
      ]
    },
    {
      "cell_type": "markdown",
      "source": [
        "Q 27.Develop a code that takes a tuple of integers as input.The function should return the maximum and minimum values from the tuple using tuple unpacking."
      ],
      "metadata": {
        "id": "o37_At140zJx"
      }
    },
    {
      "cell_type": "code",
      "source": [
        "def find_max_min(numbers):\n",
        "    # Find the maximum and minimum values\n",
        "    max_val, min_val = max(numbers), min(numbers)\n",
        "    # Return as a tuple using tuple unpacking\n",
        "    return max_val, min_val\n",
        "\n",
        "# Input: tuple of integers from the user\n",
        "numbers = tuple(map(int, input(\"Enter the integers separated by commas: \").split(',')))\n",
        "\n",
        "# Get the max and min values using tuple unpacking\n",
        "max_value, min_value = find_max_min(numbers)\n",
        "\n",
        "# Print the result\n",
        "print(f\"The maximum value is: {max_value}\")\n",
        "print(f\"The minimum value is: {min_value}\")\n"
      ],
      "metadata": {
        "id": "KlY4iwmgokkn"
      },
      "execution_count": null,
      "outputs": []
    },
    {
      "cell_type": "markdown",
      "source": [
        "Q 28.Create a code that defines two sets of integers.Then,print the union,intersection,and difference of these two sets."
      ],
      "metadata": {
        "id": "KN-zIoyp0zXY"
      }
    },
    {
      "cell_type": "code",
      "source": [
        "# Define two sets of integers\n",
        "set1 = {1, 2, 3, 4, 5}\n",
        "set2 = {4, 5, 6, 7, 8}\n",
        "\n",
        "# Union of two sets\n",
        "union_set = set1 | set2\n",
        "print(\"Union:\", union_set)\n",
        "\n",
        "# Intersection of two sets\n",
        "intersection_set = set1 & set2\n",
        "print(\"Intersection:\", intersection_set)\n",
        "\n",
        "# Difference of two sets (set1 - set2)\n",
        "difference_set = set1 - set2\n",
        "print(\"Difference (set1 - set2):\", difference_set)\n",
        "\n",
        "# Difference of two sets (set2 - set1)\n",
        "difference_set2 = set2 - set1\n",
        "print(\"Difference (set2 - set1):\", difference_set2)\n"
      ],
      "metadata": {
        "id": "cRbI-xI0fJnx"
      },
      "execution_count": null,
      "outputs": []
    },
    {
      "cell_type": "markdown",
      "source": [
        "Q 29.Write a code tht takes a tuple and an element as input.The function should return the count of occurrence of the given element in the tuple."
      ],
      "metadata": {
        "id": "Qcig2F6A0zhg"
      }
    },
    {
      "cell_type": "code",
      "source": [
        "def count_occurrences(original_tuple, element):\n",
        "    # Count the occurrences of the element in the tuple\n",
        "    return original_tuple.count(element)\n",
        "\n",
        "# Example usage\n",
        "my_tuple = (1, 2, 3, 2, 4, 2, 5)\n",
        "element_to_count = 2\n",
        "result = count_occurrences(my_tuple, element_to_count)\n",
        "print(f\"The element {element_to_count} occurs {result} time(s) in the tuple.\")\n"
      ],
      "metadata": {
        "colab": {
          "base_uri": "https://localhost:8080/"
        },
        "id": "6gTGibGilPNn",
        "outputId": "da7e5c18-a011-4090-dc9c-7bca0d2548ed"
      },
      "execution_count": null,
      "outputs": [
        {
          "output_type": "stream",
          "name": "stdout",
          "text": [
            "The element 2 occurs 3 time(s) in the tuple.\n"
          ]
        }
      ]
    },
    {
      "cell_type": "markdown",
      "source": [
        "Q 30.Develop a code that prompts the user to input two swets of strings.Then,print the symmetric difference of these two sets."
      ],
      "metadata": {
        "id": "jc-dzvpE0zuF"
      }
    },
    {
      "cell_type": "code",
      "source": [
        "# Prompt user to input two sets of strings\n",
        "set1 = set(input(\"Enter the elements of the first set, separated by spaces: \").split())\n",
        "set2 = set(input(\"Enter the elements of the second set, separated by spaces: \").split())\n",
        "\n",
        "# Symmetric difference of two sets\n",
        "symmetric_difference = set1 ^ set2\n",
        "print(\"Symmetric Difference:\", symmetric_difference)\n"
      ],
      "metadata": {
        "id": "3R74xNL1qFv_"
      },
      "execution_count": null,
      "outputs": []
    },
    {
      "cell_type": "markdown",
      "source": [
        "Q 31.Write a code that takes a list of words as input and returns a dictionary where the keys are unique words and the values are the frequencies of those words in the input list."
      ],
      "metadata": {
        "id": "lm9_AWG90z4V"
      }
    },
    {
      "cell_type": "code",
      "source": [
        "def word_frequency(words):\n",
        "    frequency_dict = {}\n",
        "\n",
        "    for word in words:\n",
        "        # Increment the count for each word\n",
        "        if word in frequency_dict:\n",
        "            frequency_dict[word] += 1\n",
        "        else:\n",
        "            frequency_dict[word] = 1\n",
        "\n",
        "    return frequency_dict\n",
        "\n",
        "# Example usage\n",
        "input_list = [\"apple\", \"banana\", \"apple\", \"orange\", \"banana\", \"apple\"]\n",
        "result = word_frequency(input_list)\n",
        "print(\"Word Frequencies:\", result)\n"
      ],
      "metadata": {
        "colab": {
          "base_uri": "https://localhost:8080/"
        },
        "id": "zBTXbziYlYSM",
        "outputId": "69b79691-4262-4cef-f62d-ad7806bb813e"
      },
      "execution_count": null,
      "outputs": [
        {
          "output_type": "stream",
          "name": "stdout",
          "text": [
            "Word Frequencies: {'apple': 3, 'banana': 2, 'orange': 1}\n"
          ]
        }
      ]
    },
    {
      "cell_type": "markdown",
      "source": [
        "Q 32.Write a code that takes two dictionaries as input and merges them into a single dictionary,If there are common keys,the vallues should be added together."
      ],
      "metadata": {
        "id": "12Ag5Iq100F3"
      }
    },
    {
      "cell_type": "code",
      "source": [
        "def merge_dictionaries(dict1, dict2):\n",
        "    merged_dict = dict1.copy()  # Start with the first dictionary\n",
        "\n",
        "    for key, value in dict2.items():\n",
        "        if key in merged_dict:\n",
        "            # If the key exists in both dictionaries, add the values\n",
        "            merged_dict[key] += value\n",
        "        else:\n",
        "            # Otherwise, just add the key-value pair from the second dictionary\n",
        "            merged_dict[key] = value\n",
        "\n",
        "    return merged_dict\n",
        "\n",
        "# Example usage\n",
        "dict1 = {'a': 1, 'b': 2, 'c': 3}\n",
        "dict2 = {'b': 3, 'c': 4, 'd': 5}\n",
        "\n",
        "result = merge_dictionaries(dict1, dict2)\n",
        "print(\"Merged Dictionary:\", result)\n"
      ],
      "metadata": {
        "colab": {
          "base_uri": "https://localhost:8080/"
        },
        "id": "viTerqX-lZK9",
        "outputId": "55462223-1345-40ab-d1a6-23d7accd6b16"
      },
      "execution_count": null,
      "outputs": [
        {
          "output_type": "stream",
          "name": "stdout",
          "text": [
            "Merged Dictionary: {'a': 1, 'b': 5, 'c': 7, 'd': 5}\n"
          ]
        }
      ]
    },
    {
      "cell_type": "markdown",
      "source": [
        "\n",
        "Here’s a Python code that takes two dictionaries as input and merges them into a single dictionary. If there are common keys, the values will be added together:\n",
        "\n",
        "python\n",
        "Copy code\n",
        "def merge_dictionaries(dict1, dict2):\n",
        "    merged_dict = dict1.copy()  # Start with the first dictionary\n",
        "\n",
        "    for key, value in dict2.items():\n",
        "        if key in merged_dict:\n",
        "            # If the key exists in both dictionaries, add the values\n",
        "            merged_dict[key] += value\n",
        "        else:\n",
        "            # Otherwise, just add the key-value pair from the second dictionary\n",
        "            merged_dict[key] = value\n",
        "\n",
        "    return merged_dict\n",
        "\n",
        "# Example usage\n",
        "dict1 = {'a': 1, 'b': 2, 'c': 3}\n",
        "dict2 = {'b': 3, 'c': 4, 'd': 5}\n",
        "\n",
        "result = merge_dictionaries(dict1, dict2)\n",
        "print(\"Merged Dictionary:\", result)\n",
        "Explanation:\n",
        "\n",
        "1.Function Definition: The merge_dictionaries function takes two dictionaries as input.\n",
        "\n",
        "2.Copy First Dictionary: It creates a copy of the first dictionary to avoid modifying it directly.\n",
        "\n",
        "3.Loop Through Second Dictionary:\n",
        "\n",
        "For each key-value pair in the second dictionary, it checks if the key already exists in the merged dictionary.\n",
        "\n",
        "If the key exists, it adds the value from the second dictionary to the existing value.\n",
        "\n",
        "If the key does not exist, it adds the key-value pair from the second dictionary to the merged dictionary.\n",
        "Return the Merged Dictionary: Finally, the function returns the merged dictionary.\n",
        "\n"
      ],
      "metadata": {
        "id": "RT81Ez3wsRPJ"
      }
    },
    {
      "cell_type": "markdown",
      "source": [
        "Q 33.Write a code to access a value in a nested dictionary.The function should take the keys do not exist in the dictionary,the function should return None."
      ],
      "metadata": {
        "id": "8uOi8VuJ00QW"
      }
    },
    {
      "cell_type": "code",
      "source": [
        "def get_nested_value(dictionary, keys):\n",
        "    current_value = dictionary\n",
        "    for key in keys:\n",
        "        # Check if current_value is a dictionary and key exists in it\n",
        "        if isinstance(current_value, dict) and key in current_value:\n",
        "            current_value = current_value[key]\n",
        "        else:\n",
        "            return None  # Return None if the key does not exist\n",
        "    return current_value\n",
        "\n",
        "# Example usage\n",
        "nested_dict = {\n",
        "    'a': {\n",
        "        'b': {\n",
        "            'c': 42\n",
        "        }\n",
        "    }\n",
        "}\n",
        "\n",
        "# Test cases\n",
        "print(get_nested_value(nested_dict, ['a', 'b', 'c']))  # Output: 42\n",
        "print(get_nested_value(nested_dict, ['a', 'b', 'x']))  # Output: None\n",
        "print(get_nested_value(nested_dict, ['a', 'd']))       # Output: None\n"
      ],
      "metadata": {
        "id": "EUeKVSRAoC6P"
      },
      "execution_count": null,
      "outputs": []
    },
    {
      "cell_type": "markdown",
      "source": [
        "Q 34.Write a code that takes a dictionary as input and returns a sorted version of it based on the values.You can choose whether to sort in ascending or descending order."
      ],
      "metadata": {
        "id": "Z7SJOnKV00cM"
      }
    },
    {
      "cell_type": "code",
      "source": [
        "def sort_dictionary_by_value(input_dict, ascending=True):\n",
        "    # Sort the dictionary by value\n",
        "    sorted_dict = dict(sorted(input_dict.items(), key=lambda item: item[1], reverse=not ascending))\n",
        "    return sorted_dict\n",
        "\n",
        "# Example usage\n",
        "input_dict = {'apple': 5, 'banana': 3, 'orange': 8, 'grape': 2}\n",
        "\n",
        "# Sort in ascending order\n",
        "sorted_ascending = sort_dictionary_by_value(input_dict, ascending=True)\n",
        "print(\"Sorted Dictionary (Ascending):\", sorted_ascending)\n",
        "\n",
        "# Sort in descending order\n",
        "sorted_descending = sort_dictionary_by_value(input_dict, ascending=False)\n",
        "print(\"Sorted Dictionary (Descending):\", sorted_descending)\n"
      ],
      "metadata": {
        "colab": {
          "base_uri": "https://localhost:8080/"
        },
        "id": "aaZJcW_DkVoP",
        "outputId": "e4ec870a-4872-4844-b388-410f1e0865fb"
      },
      "execution_count": null,
      "outputs": [
        {
          "output_type": "stream",
          "name": "stdout",
          "text": [
            "Sorted Dictionary (Ascending): {'grape': 2, 'banana': 3, 'apple': 5, 'orange': 8}\n",
            "Sorted Dictionary (Descending): {'orange': 8, 'apple': 5, 'banana': 3, 'grape': 2}\n"
          ]
        }
      ]
    },
    {
      "cell_type": "markdown",
      "source": [
        "\n",
        "Here’s a Python code that takes a dictionary as input and returns a sorted version of it based on the values. You can choose whether to sort in ascending or descending order:\n",
        "\n",
        "python\n",
        "Copy code\n",
        "def sort_dictionary_by_value(input_dict, ascending=True):\n",
        "    # Sort the dictionary by value\n",
        "    sorted_dict = dict(sorted(input_dict.items(), key=lambda item: item[1], reverse=not ascending))\n",
        "    return sorted_dict\n",
        "\n",
        "# Example usage\n",
        "input_dict = {'apple': 5, 'banana': 3, 'orange': 8, 'grape': 2}\n",
        "\n",
        "# Sort in ascending order\n",
        "sorted_ascending = sort_dictionary_by_value(input_dict, ascending=True)\n",
        "print(\"Sorted Dictionary (Ascending):\", sorted_ascending)\n",
        "\n",
        "# Sort in descending order\n",
        "sorted_descending = sort_dictionary_by_value(input_dict, ascending=False)\n",
        "print(\"Sorted Dictionary (Descending):\", sorted_descending)\n",
        "Explanation:\n",
        "1.Function Definition: The sort_dictionary_by_value function takes two parameters: the input dictionary and a boolean ascending which determines the sort order.\n",
        "\n",
        "2.Sorting:\n",
        "The function uses the sorted function to sort the dictionary items based on their values.\n",
        "\n",
        "The key=lambda item: item[1] specifies that the sorting should be based on the second item of the tuple (which is the value).\n",
        "\n",
        "The reverse=not ascending parameter determines whether the sorting is in ascending or descending order.\n",
        "\n",
        "Return Sorted Dictionary: The sorted items are converted back to a dictionary and returned."
      ],
      "metadata": {
        "id": "wZpNlwbBtRJ1"
      }
    },
    {
      "cell_type": "markdown",
      "source": [
        "Q 35.Write a code that inverts a dictionary,swapping keys and values.Ensure that the inverted dictionary correctly handles cases where multiple keys have the same value by storing the keys as a list in the inverted dictionary."
      ],
      "metadata": {
        "id": "p3Bl5qDg00p4"
      }
    },
    {
      "cell_type": "code",
      "source": [
        "def invert_dictionary(original_dict):\n",
        "    inverted_dict = {}\n",
        "\n",
        "    for key, value in original_dict.items():\n",
        "        # If the value is already a key in the inverted dictionary\n",
        "        if value in inverted_dict:\n",
        "            # If it is not already a list, convert it to a list\n",
        "            if not isinstance(inverted_dict[value], list):\n",
        "                inverted_dict[value] = [inverted_dict[value]]\n",
        "            # Append the current key to the list\n",
        "            inverted_dict[value].append(key)\n",
        "        else:\n",
        "            # If the value is not yet in the inverted dictionary, add it\n",
        "            inverted_dict[value] = key\n",
        "\n",
        "    return inverted_dict\n",
        "\n",
        "# Example usage\n",
        "original_dict = {\n",
        "    'a': 1,\n",
        "    'b': 2,\n",
        "    'c': 1,\n",
        "    'd': 3\n",
        "}\n",
        "\n",
        "inverted = invert_dictionary(original_dict)\n",
        "print(\"Inverted dictionary:\", inverted)\n"
      ],
      "metadata": {
        "id": "EVmxx1IMkU-u"
      },
      "execution_count": null,
      "outputs": []
    },
    {
      "cell_type": "markdown",
      "source": [
        "Explanation:\n",
        "\n",
        "Function Definition: The invert_dictionary function takes a dictionary as input.\n",
        "\n",
        "Loop Through Original Dictionary: It iterates through each key-value pair in the original dictionary.\n",
        "\n",
        "Check for Existing Value:\n",
        "\n",
        "If the value already exists as a key in the inverted dictionary, it checks if the corresponding value is already a list.\n",
        "\n",
        "If not, it converts it into a list and appends the current key.\n",
        "\n",
        "If the value does not exist in the inverted dictionary, it adds it as a new entry with the key.\n",
        "\n",
        "Return the Inverted Dictionary: Finally, the function returns the inverted dictionary.\n",
        "\n",
        "Example:\n",
        "\n",
        "For the input dictionary {'a': 1, 'b': 2, 'c': 1, 'd': 3}, the output will be"
      ],
      "metadata": {
        "id": "Ufve8hQorRs1"
      }
    },
    {
      "cell_type": "code",
      "source": [
        "Inverted dictionary: {1: ['a', 'c'], 2: 'b', 3: 'd'}\n"
      ],
      "metadata": {
        "id": "9BXcKzuBrgL2"
      },
      "execution_count": null,
      "outputs": []
    },
    {
      "cell_type": "markdown",
      "source": [
        "This output shows that both keys 'a' and 'c' map to the value 1, stored as a list in the inverted dictionary."
      ],
      "metadata": {
        "id": "QptZPvfSrnca"
      }
    }
  ]
}