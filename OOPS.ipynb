{
  "nbformat": 4,
  "nbformat_minor": 0,
  "metadata": {
    "colab": {
      "provenance": []
    },
    "kernelspec": {
      "name": "python3",
      "display_name": "Python 3"
    },
    "language_info": {
      "name": "python"
    }
  },
  "cells": [
    {
      "cell_type": "markdown",
      "source": [
        "Q 1.What are the five keys concepts of Object-Oriented Programming (OOP)?\n",
        "\n",
        "Ans:-\n",
        "\n",
        "The five key concepts of Object-Oriented Programming (OOP) are:\n",
        "\n",
        "1.Encapsulation: This principle involves bundling the data (attributes) and methods (functions) that operate on the data into a single unit, or object. It also restricts direct access to some of the object's components, which helps protect the integrity of the data.\n",
        "\n",
        "2.Abstraction: Abstraction focuses on hiding the complex implementation details and exposing only the necessary features of an object. It allows programmers to interact with objects at a higher level without needing to understand the complexities beneath.\n",
        "\n",
        "3.Inheritance: Inheritance allows one class (the child or subclass) to inherit properties and methods from another class (the parent or superclass). This promotes code reusability and establishes a hierarchical relationship between classes.\n",
        "\n",
        "4.Polymorphism: Polymorphism enables objects of different classes to be treated as objects of a common superclass. It allows methods to be defined in different ways based on the object calling them, facilitating flexibility and the ability to redefine methods in derived classes.\n",
        "\n",
        "5.Composition: While not always listed as one of the core four principles, composition refers to constructing complex objects by combining simpler ones. It allows for building complex types by using objects of other classes, promoting modularity and flexibility."
      ],
      "metadata": {
        "id": "PbdbruacuwZ4"
      }
    },
    {
      "cell_type": "markdown",
      "source": [
        "Q 2.Write a Python class for a 'car' with attributes for'make','model'and 'year'.Include a method to display the car's information.\n",
        "\n",
        "Ans:-\n",
        "\n",
        "Here's a simple Python class for a Car that includes attributes for make, model, and year, along with a method to display the car's information:"
      ],
      "metadata": {
        "id": "v2QNlArru_cM"
      }
    },
    {
      "cell_type": "code",
      "source": [
        "class Car:\n",
        "    def __init__(self, make, model, year):\n",
        "        self.make = make\n",
        "        self.model = model\n",
        "        self.year = year\n",
        "\n",
        "    def display_info(self):\n",
        "        print(f\"Car Information: {self.year} {self.make} {self.model}\")\n",
        "\n",
        "# Example usage:\n",
        "my_car = Car(\"Toyota\", \"Camry\", 2020)\n",
        "my_car.display_info()\n"
      ],
      "metadata": {
        "colab": {
          "base_uri": "https://localhost:8080/"
        },
        "id": "Wviu-gxh56Et",
        "outputId": "d6e4b42c-ea99-41e7-e580-513c3b5482b3"
      },
      "execution_count": 1,
      "outputs": [
        {
          "output_type": "stream",
          "name": "stdout",
          "text": [
            "Car Information: 2020 Toyota Camry\n"
          ]
        }
      ]
    },
    {
      "cell_type": "markdown",
      "source": [
        "In this class:\n",
        "\n",
        "The __init__ method initializes the car's attributes.\n",
        "\n",
        "The display_info method prints the car's details in a formatted string."
      ],
      "metadata": {
        "id": "TaGs3gAa6FUu"
      }
    },
    {
      "cell_type": "markdown",
      "source": [
        "Q 3.Explain the difference between instance methods and class methods.Provide an example of each.\n",
        "\n",
        "Ans:-\n",
        "\n",
        "In Python, the main difference between instance methods and class methods lies in how they are defined and what they operate on.\n",
        "\n",
        "Instance Methods\n",
        "Definition: Instance methods operate on an instance of the\n",
        "class (an object). They take self as their first parameter, which refers to the instance that calls the method.\n",
        "\n",
        "Use Case: They can access and modify the object's attributes and perform operations specific to that instance."
      ],
      "metadata": {
        "id": "mwZ9OQ_8vgoJ"
      }
    },
    {
      "cell_type": "code",
      "source": [
        "class Dog:\n",
        "    def __init__(self, name):\n",
        "        self.name = name\n",
        "\n",
        "    def bark(self):\n",
        "        return f\"{self.name} says Woof!\"\n",
        "\n",
        "# Example usage\n",
        "my_dog = Dog(\"Buddy\")\n",
        "print(my_dog.bark())\n"
      ],
      "metadata": {
        "colab": {
          "base_uri": "https://localhost:8080/"
        },
        "id": "h-d0TZ5S68ri",
        "outputId": "0e8df98d-882b-4270-a8e9-c93c71876edd"
      },
      "execution_count": 2,
      "outputs": [
        {
          "output_type": "stream",
          "name": "stdout",
          "text": [
            "Buddy says Woof!\n"
          ]
        }
      ]
    },
    {
      "cell_type": "markdown",
      "source": [
        "Class Methods\n",
        "\n",
        "Definition: Class methods operate on the class itself rather than on instances of the class. They take cls as their first parameter, which refers to the class.\n",
        "\n",
        "Use Case: They are used for operations that pertain to the class as a whole, such as factory methods or modifying class-level attributes.\n",
        "\n",
        "Example of a Class Method:"
      ],
      "metadata": {
        "id": "KKlxcMXY7CKI"
      }
    },
    {
      "cell_type": "code",
      "source": [
        "class Dog:\n",
        "    species = \"Canis lupus familiaris\"  # Class attribute\n",
        "\n",
        "    def __init__(self, name):\n",
        "        self.name = name\n",
        "\n",
        "    @classmethod\n",
        "    def get_species(cls):\n",
        "        return cls.species\n",
        "\n",
        "# Example usage\n",
        "print(Dog.get_species())  # Output: Canis lupus familiaris\n"
      ],
      "metadata": {
        "colab": {
          "base_uri": "https://localhost:8080/"
        },
        "id": "zDQp3kLQ7Jvb",
        "outputId": "4fb63698-6543-4a2e-cc2d-d5a98d27fd09"
      },
      "execution_count": 3,
      "outputs": [
        {
          "output_type": "stream",
          "name": "stdout",
          "text": [
            "Canis lupus familiaris\n"
          ]
        }
      ]
    },
    {
      "cell_type": "markdown",
      "source": [
        "Q 4.How does Python implement method overloading? give an example.\n",
        "\n",
        "Ans:-\n",
        "\n",
        "Python does not support traditional method overloading like some other programming languages (e.g., Java or C++). In Python, if you define multiple methods with the same name, the last definition will overwrite any previous ones. However, you can achieve similar behavior using default arguments or variable-length arguments.\n",
        "\n",
        "Example of Method Overloading Using Default Arguments\n",
        "You can define a method that can accept different numbers of arguments by providing default values.\n"
      ],
      "metadata": {
        "id": "DePNMDTLvzvE"
      }
    },
    {
      "cell_type": "code",
      "source": [
        "class Calculator:\n",
        "    def add(self, a, b=0, c=0):\n",
        "        return a + b + c\n",
        "\n",
        "# Example usage\n",
        "calc = Calculator()\n",
        "\n",
        "print(calc.add(5))\n",
        "print(calc.add(5, 10))\n",
        "print(calc.add(5, 10, 15))\n"
      ],
      "metadata": {
        "colab": {
          "base_uri": "https://localhost:8080/"
        },
        "id": "O4Knsz8B7rB6",
        "outputId": "5950521d-45f3-4902-b805-3c0fa07f7d45"
      },
      "execution_count": 4,
      "outputs": [
        {
          "output_type": "stream",
          "name": "stdout",
          "text": [
            "5\n",
            "15\n",
            "30\n"
          ]
        }
      ]
    },
    {
      "cell_type": "markdown",
      "source": [
        "Example of Method Overloading Using Variable-Length Arguments\n",
        "You can use *args to allow a method to accept any number of arguments."
      ],
      "metadata": {
        "id": "yLfGT8FV72Qp"
      }
    },
    {
      "cell_type": "code",
      "source": [
        "class Calculator:\n",
        "    def add(self, *args):\n",
        "        return sum(args)\n",
        "\n",
        "# Example usage\n",
        "calc = Calculator()\n",
        "\n",
        "print(calc.add(5))\n",
        "print(calc.add(5, 10))\n",
        "print(calc.add(5, 10, 15, 20))\n"
      ],
      "metadata": {
        "colab": {
          "base_uri": "https://localhost:8080/"
        },
        "id": "tuiVirhP73nR",
        "outputId": "32fdb49e-03af-483e-c332-60f9f40eb2d6"
      },
      "execution_count": 5,
      "outputs": [
        {
          "output_type": "stream",
          "name": "stdout",
          "text": [
            "5\n",
            "15\n",
            "50\n"
          ]
        }
      ]
    },
    {
      "cell_type": "markdown",
      "source": [
        "Q 5.What are the three types of access modifiers in Python? How are they denoted?\n",
        "Ans:-\n",
        "In Python, there are three types of access modifiers that control the visibility of class attributes and methods:\n",
        "\n",
        "1.Public:\n",
        "\n",
        "Denotation: No special characters.\n",
        "Description: Attributes and methods are accessible from outside the class. By default, all class members are public."
      ],
      "metadata": {
        "id": "4mIDgkeFwAmo"
      }
    },
    {
      "cell_type": "code",
      "source": [
        "class MyClass:\n",
        "    def __init__(self):\n",
        "        self.public_attribute = \"I am public\"\n",
        "\n",
        "obj = MyClass()\n",
        "print(obj.public_attribute)\n"
      ],
      "metadata": {
        "colab": {
          "base_uri": "https://localhost:8080/"
        },
        "id": "GQurU0cP8dKs",
        "outputId": "4d8afb9d-efdf-4759-9fb7-baff4fd4ea58"
      },
      "execution_count": 6,
      "outputs": [
        {
          "output_type": "stream",
          "name": "stdout",
          "text": [
            "I am public\n"
          ]
        }
      ]
    },
    {
      "cell_type": "markdown",
      "source": [
        "2.Protected:\n",
        "\n",
        "Denotation: A single underscore prefix (_).\n",
        "\n",
        "Description: Attributes and methods are intended for internal use within the class and its subclasses. They are not meant to be accessed directly from outside the class, but they can be accessed in subclasses.\n",
        "\n",
        "Example:-"
      ],
      "metadata": {
        "id": "EmnGCFWa8g-e"
      }
    },
    {
      "cell_type": "code",
      "source": [
        "class MyClass:\n",
        "    def __init__(self):\n",
        "        self._protected_attribute = \"I am protected\"\n",
        "\n",
        "obj = MyClass()\n",
        "print(obj._protected_attribute)\n"
      ],
      "metadata": {
        "colab": {
          "base_uri": "https://localhost:8080/"
        },
        "id": "NUtAx_Zj81mr",
        "outputId": "0351914d-eadf-4e12-a273-abd2cf01b228"
      },
      "execution_count": 7,
      "outputs": [
        {
          "output_type": "stream",
          "name": "stdout",
          "text": [
            "I am protected\n"
          ]
        }
      ]
    },
    {
      "cell_type": "markdown",
      "source": [
        "Private:\n",
        "\n",
        "Denotation: A double underscore prefix (__).\n",
        "Description: Attributes and methods are intended to be private to the class and are not accessible from outside the class or its subclasses. Python achieves this by name mangling, where the attribute name is modified to include the class name.\n",
        "\n",
        "Example:\n"
      ],
      "metadata": {
        "id": "vMKhytic86c3"
      }
    },
    {
      "cell_type": "code",
      "source": [
        "class MyClass:\n",
        "    def __init__(self):\n",
        "        self.__private_attribute = \"I am private\"\n",
        "\n",
        "    def get_private_attribute(self):\n",
        "        return self.__private_attribute\n",
        "\n",
        "obj = MyClass()\n",
        "# print(obj.__private_attribute)  # Raises AttributeError\n",
        "print(obj.get_private_attribute())\n"
      ],
      "metadata": {
        "colab": {
          "base_uri": "https://localhost:8080/"
        },
        "id": "83WzKMmT9Al9",
        "outputId": "80822c72-686a-45da-d935-0e4ba2d9cf5e"
      },
      "execution_count": 8,
      "outputs": [
        {
          "output_type": "stream",
          "name": "stdout",
          "text": [
            "I am private\n"
          ]
        }
      ]
    },
    {
      "cell_type": "markdown",
      "source": [
        "Q 6.Describe the five types of inheritance in Python.Provide a simple example of multiple inheritance.\n",
        "\n",
        "Ans:-\n",
        "In Python, there are five common types of inheritance:\n",
        "\n",
        "1.Single Inheritance:\n",
        "\n",
        "A subclass inherits from a single superclass.\n",
        "Example:\n",
        "\n",
        "\n",
        "\n"
      ],
      "metadata": {
        "id": "bm6ucIxrwVTd"
      }
    },
    {
      "cell_type": "code",
      "source": [
        "class Animal:\n",
        "    def speak(self):\n",
        "        return \"Animal speaks\"\n",
        "\n",
        "class Dog(Animal):\n",
        "    def bark(self):\n",
        "        return \"Woof!\"\n",
        "\n",
        "my_dog = Dog()\n",
        "print(my_dog.speak())\n",
        "print(my_dog.bark())\n"
      ],
      "metadata": {
        "colab": {
          "base_uri": "https://localhost:8080/"
        },
        "id": "FLzp5Ynn9cjl",
        "outputId": "4fa88ce7-05b1-4058-caef-30a635ab3468"
      },
      "execution_count": 26,
      "outputs": [
        {
          "output_type": "stream",
          "name": "stdout",
          "text": [
            "Animal speaks\n",
            "Woof!\n"
          ]
        }
      ]
    },
    {
      "cell_type": "markdown",
      "source": [
        "2.Multiple Inheritance:\n",
        "\n",
        "A subclass inherits from multiple superclasses."
      ],
      "metadata": {
        "id": "exRbay439hAF"
      }
    },
    {
      "cell_type": "code",
      "source": [
        "class Flyer:\n",
        "    def fly(self):\n",
        "        return \"Flying high\"\n",
        "\n",
        "class Swimmer:\n",
        "    def swim(self):\n",
        "        return \"Swimming fast\"\n",
        "\n",
        "class Duck(Flyer, Swimmer):\n",
        "    def quack(self):\n",
        "        return \"Quack!\"\n",
        "\n",
        "my_duck = Duck()\n",
        "print(my_duck.fly())  # Output: Flying high\n",
        "print(my_duck.swim())  # Output: Swimming fast\n",
        "print(my_duck.quack())  # Output: Quack!\n"
      ],
      "metadata": {
        "colab": {
          "base_uri": "https://localhost:8080/"
        },
        "id": "MoIYozs_9lZ9",
        "outputId": "30e1a9e9-39d7-4218-df31-62401936d3d4"
      },
      "execution_count": 10,
      "outputs": [
        {
          "output_type": "stream",
          "name": "stdout",
          "text": [
            "Flying high\n",
            "Swimming fast\n",
            "Quack!\n"
          ]
        }
      ]
    },
    {
      "cell_type": "markdown",
      "source": [
        "3.Multilevel Inheritance:\n",
        "\n",
        "A subclass inherits from a superclass, which itself is a subclass of another superclass.\n"
      ],
      "metadata": {
        "id": "eZ9xBsd89raM"
      }
    },
    {
      "cell_type": "code",
      "source": [
        "class Animal:\n",
        "    def speak(self):\n",
        "        return \"Animal speaks\"\n",
        "\n",
        "class Dog(Animal):\n",
        "    def bark(self):\n",
        "        return \"Woof!\"\n",
        "\n",
        "class Puppy(Dog):\n",
        "    def whine(self):\n",
        "        return \"Whine!\"\n",
        "\n",
        "my_puppy = Puppy()\n",
        "print(my_puppy.speak())\n",
        "print(my_puppy.bark())\n",
        "print(my_puppy.whine())\n"
      ],
      "metadata": {
        "colab": {
          "base_uri": "https://localhost:8080/"
        },
        "id": "iVuS_ISv9wNq",
        "outputId": "ca9ea562-1fa7-407c-a741-cc486d5d819a"
      },
      "execution_count": 28,
      "outputs": [
        {
          "output_type": "stream",
          "name": "stdout",
          "text": [
            "Animal speaks\n",
            "Woof!\n",
            "Whine!\n"
          ]
        }
      ]
    },
    {
      "cell_type": "markdown",
      "source": [
        "4.Hierarchical Inheritance:\n",
        "\n",
        "Multiple subclasses inherit from a single superclass."
      ],
      "metadata": {
        "id": "zne7QqSN93eW"
      }
    },
    {
      "cell_type": "code",
      "source": [
        "class Animal:\n",
        "    def speak(self):\n",
        "        return \"Animal speaks\"\n",
        "\n",
        "class Dog(Animal):\n",
        "    def bark(self):\n",
        "        return \"Woof!\"\n",
        "\n",
        "class Cat(Animal):\n",
        "    def meow(self):\n",
        "        return \"Meow!\"\n",
        "\n",
        "my_cat = Cat()\n",
        "print(my_cat.speak())  # Output: Animal speaks\n",
        "print(my_cat.meow())   # Output: Meow!\n"
      ],
      "metadata": {
        "colab": {
          "base_uri": "https://localhost:8080/"
        },
        "id": "OdprFZ-B-A2n",
        "outputId": "c0c2c595-f462-4401-998e-68bb25966446"
      },
      "execution_count": 12,
      "outputs": [
        {
          "output_type": "stream",
          "name": "stdout",
          "text": [
            "Animal speaks\n",
            "Meow!\n"
          ]
        }
      ]
    },
    {
      "cell_type": "markdown",
      "source": [
        "5.Hybrid Inheritance:\n",
        "\n",
        "A combination of two or more types of inheritance.\n"
      ],
      "metadata": {
        "id": "KcSfq0hb-Eor"
      }
    },
    {
      "cell_type": "code",
      "source": [
        "class Animal:\n",
        "    def speak(self):\n",
        "        return \"Animal speaks\"\n",
        "\n",
        "class Flyer:\n",
        "    def fly(self):\n",
        "        return \"Flying high\"\n",
        "\n",
        "class Bat(Flyer, Animal):\n",
        "    def screech(self):\n",
        "        return \"Screech!\"\n",
        "\n",
        "my_bat = Bat()\n",
        "print(my_bat.fly())     # Output: Flying high\n",
        "print(my_bat.speak())   # Output: Animal speaks\n",
        "print(my_bat.screech()) # Output: Screech!\n"
      ],
      "metadata": {
        "colab": {
          "base_uri": "https://localhost:8080/"
        },
        "id": "4zQKK3SO-Jh-",
        "outputId": "76eebce6-d736-47d0-a5f0-1d00263abe6a"
      },
      "execution_count": 13,
      "outputs": [
        {
          "output_type": "stream",
          "name": "stdout",
          "text": [
            "Flying high\n",
            "Animal speaks\n",
            "Screech!\n"
          ]
        }
      ]
    },
    {
      "cell_type": "markdown",
      "source": [
        "Q 7.What is the Method Resolution Order(MRO) in Python? How can retrieve it Programmatically?\n",
        "\n",
        "Ans:-\n",
        "\n",
        "Method Resolution Order (MRO) in Python refers to the order in which base classes are looked up when searching for a method or attribute in a class hierarchy. It is particularly important in the context of multiple inheritance, as it determines the order in which classes are traversed to resolve method calls.\n",
        "\n",
        "Python uses the C3 linearization algorithm (also known as C3 superclass linearization) to compute the MRO, ensuring a consistent and predictable order of class resolution.\n",
        "\n",
        "How to Retrieve MRO Programmatically\n",
        "You can retrieve the MRO of a class using the mro() method or the __mro__ attribute. Here’s how you can do both:\n",
        "\n",
        "1.Using mro() method:"
      ],
      "metadata": {
        "id": "e_Q0idPXwn7x"
      }
    },
    {
      "cell_type": "code",
      "source": [
        "class A:\n",
        "    pass\n",
        "\n",
        "class B(A):\n",
        "    pass\n",
        "\n",
        "class C(A):\n",
        "    pass\n",
        "\n",
        "class D(B, C):\n",
        "    pass\n",
        "\n",
        "print(D.mro())\n"
      ],
      "metadata": {
        "colab": {
          "base_uri": "https://localhost:8080/"
        },
        "id": "NO3Ws5si_Gj3",
        "outputId": "f447f157-2315-4580-ad1b-7d6995cd38e2"
      },
      "execution_count": 14,
      "outputs": [
        {
          "output_type": "stream",
          "name": "stdout",
          "text": [
            "[<class '__main__.D'>, <class '__main__.B'>, <class '__main__.C'>, <class '__main__.A'>, <class 'object'>]\n"
          ]
        }
      ]
    },
    {
      "cell_type": "markdown",
      "source": [
        "2.Using __mro__ attribute:"
      ],
      "metadata": {
        "id": "P4to9FoM_zGe"
      }
    },
    {
      "cell_type": "code",
      "source": [
        "print(D.__mro__)\n"
      ],
      "metadata": {
        "id": "zoZi30AW_7zD"
      },
      "execution_count": null,
      "outputs": []
    },
    {
      "cell_type": "markdown",
      "source": [
        "Example Explanation\n",
        "In the example above:\n",
        "\n",
        "Class D inherits from classes B and C, which both inherit from class A.\n",
        "\n",
        "The MRO for class D is printed, showing the order in which Python will look for methods. The order is: D, B, C, A, and finally object, which is the base class for all classes in Python.\n",
        "\n",
        "This MRO ensures that if a method is called on an instance of D, Python will first check D, then B, followed by C, then A, and finally object."
      ],
      "metadata": {
        "id": "eMC4k2x8AL5I"
      }
    },
    {
      "cell_type": "markdown",
      "source": [
        "Q 8.Demonstrate Polymorphism by creating a function that can work with different shape objects to calculate and print their areas.\n",
        "\n",
        "Ans:-\n",
        "\n",
        "Certainly! Polymorphism allows different classes to be treated as instances of the same class through a common interface. In this example, we'll create a function that calculates and prints the area of different shape objects (like Circle and Rectangle) using polymorphism.\n",
        "Example Implementation\n"
      ],
      "metadata": {
        "id": "NG5QoapsxLUF"
      }
    },
    {
      "cell_type": "code",
      "source": [
        "import math\n",
        "\n",
        "# Base class for shapes\n",
        "class Shape:\n",
        "    def area(self):\n",
        "        raise NotImplementedError(\"Subclasses must implement this method.\")\n",
        "\n",
        "# Circle class inheriting from Shape\n",
        "class Circle(Shape):\n",
        "    def __init__(self, radius):\n",
        "        self.radius = radius\n",
        "\n",
        "    def area(self):\n",
        "        return math.pi * (self.radius ** 2)\n",
        "\n",
        "# Rectangle class inheriting from Shape\n",
        "class Rectangle(Shape):\n",
        "    def __init__(self, width, height):\n",
        "        self.width = width\n",
        "        self.height = height\n",
        "\n",
        "    def area(self):\n",
        "        return self.width * self.height\n",
        "\n",
        "# Function to calculate and print the area of any shape\n",
        "def print_area(shape):\n",
        "    print(f\"The area is: {shape.area()}\")\n",
        "\n",
        "# Example usage\n",
        "circle = Circle(5)\n",
        "rectangle = Rectangle(4, 6)\n",
        "\n",
        "print_area(circle)\n",
        "print_area(rectangle)\n"
      ],
      "metadata": {
        "colab": {
          "base_uri": "https://localhost:8080/"
        },
        "id": "Ya88mDB6A1QS",
        "outputId": "2d2aeb6b-2b4e-44cc-8aab-d19b26671102"
      },
      "execution_count": 15,
      "outputs": [
        {
          "output_type": "stream",
          "name": "stdout",
          "text": [
            "The area is: 78.53981633974483\n",
            "The area is: 24\n"
          ]
        }
      ]
    },
    {
      "cell_type": "markdown",
      "source": [
        "Explanation\n",
        "Base Class (Shape): This is an abstract class with a method area(), which is intended to be overridden by subclasses.\n",
        "\n",
        "Circle Class: Inherits from Shape and implements the area() method to calculate the area of a circle.\n",
        "\n",
        "Rectangle Class: Also inherits from Shape and implements the area() method to calculate the area of a rectangle.\n",
        "\n",
        "Function print_area(): This function takes an object of type Shape and calls its area() method. Thanks to polymorphism, it can accept any subclass of Shape (like Circle or Rectangle) and work correctly.\n",
        "\n",
        "Output\n",
        "When you run the code, you'll get the areas of the circle and rectangle printed, demonstrating how polymorphism allows the same function to work with different types of shape objects.\n",
        "\n",
        "\n",
        "\n"
      ],
      "metadata": {
        "id": "lqvUGsBBA6Uc"
      }
    },
    {
      "cell_type": "markdown",
      "source": [
        "Q 9.Demonstrate polymorphism by crreating a function that can work with different shape objects to calculate and print their areas.\n",
        "\n",
        "Ans:-\n",
        "\n",
        "Sure! Let's create a demonstration of polymorphism in Python where we define different shape classes (Circle and Rectangle) and a function that can calculate and print the areas of these shapes using a common interface.\n",
        "\n",
        "Implementation\n",
        "Here's how we can set it up:\n"
      ],
      "metadata": {
        "id": "2Ff39zA4xh4L"
      }
    },
    {
      "cell_type": "code",
      "source": [
        "import math\n",
        "\n",
        "# Base class for shapes\n",
        "class Shape:\n",
        "    def area(self):\n",
        "        raise NotImplementedError(\"Subclasses must implement this method.\")\n",
        "\n",
        "# Circle class inheriting from Shape\n",
        "class Circle(Shape):\n",
        "    def __init__(self, radius):\n",
        "        self.radius = radius\n",
        "\n",
        "    def area(self):\n",
        "        return math.pi * (self.radius ** 2)\n",
        "\n",
        "# Rectangle class inheriting from Shape\n",
        "class Rectangle(Shape):\n",
        "    def __init__(self, width, height):\n",
        "        self.width = width\n",
        "        self.height = height\n",
        "\n",
        "    def area(self):\n",
        "        return self.width * self.height\n",
        "\n",
        "# Function to calculate and print the area of any shape\n",
        "def print_area(shape):\n",
        "    print(f\"The area is: {shape.area()}\")\n",
        "\n",
        "# Example usage\n",
        "circle = Circle(5)\n",
        "rectangle = Rectangle(4, 6)\n",
        "\n",
        "print_area(circle)\n",
        "print_area(rectangle)\n"
      ],
      "metadata": {
        "colab": {
          "base_uri": "https://localhost:8080/"
        },
        "id": "FiyIYFISBuaV",
        "outputId": "3279cdbc-62af-466c-bee8-81e4e69e8470"
      },
      "execution_count": 16,
      "outputs": [
        {
          "output_type": "stream",
          "name": "stdout",
          "text": [
            "The area is: 78.53981633974483\n",
            "The area is: 24\n"
          ]
        }
      ]
    },
    {
      "cell_type": "markdown",
      "source": [],
      "metadata": {
        "id": "sl2KLADsByl1"
      }
    },
    {
      "cell_type": "markdown",
      "source": [
        "Explanation\n",
        "\n",
        "1.Base Class (Shape): This is an abstract class that defines a method area(). This method raises a NotImplementedError to ensure that subclasses provide their own implementations.\n",
        "\n",
        "2.Circle Class:\n",
        "\n",
        "Inherits from Shape.\n",
        "Has an __init__ method to initialize the radius.\n",
        "Implements the area() method to calculate the area of the circle using the formula 𝜋×𝑟2π×r2.\n",
        "\n",
        "3.Rectangle Class:\n",
        "\n",
        "Inherits from Shape.\n",
        "Has an __init__ method to initialize width and height.\n",
        "Implements the area() method to calculate the area using the formula  width×height.\n",
        "\n",
        "4.Function print_area():\n",
        "\n",
        "This function accepts an object of type Shape and calls its area() method.\n",
        "Thanks to polymorphism, it works with any subclass of Shape, whether it's a Circle or a Rectangle.\n",
        "Output\n",
        "When you run the code, the areas of the Circle and Rectangle will be printed, demonstrating how the same function can handle different types of shape objects seamlessly."
      ],
      "metadata": {
        "id": "V-3zdcKHBypo"
      }
    },
    {
      "cell_type": "markdown",
      "source": [
        "Q 10.Implement encapulation in a 'BankAccount'class with private attributes for 'balance inquiry.\n",
        "\n",
        "Ans:-\n",
        "\n",
        "Here's an example of implementing encapsulation in a BankAccount class, where we use private attributes for balance inquiry. Encapsulation restricts direct access to the balance attribute, allowing access through methods only."
      ],
      "metadata": {
        "id": "ZJeq0yPVx5AP"
      }
    },
    {
      "cell_type": "code",
      "source": [
        "class BankAccount:\n",
        "    def __init__(self, initial_balance=0):\n",
        "        # Private attribute for storing the balance\n",
        "        self.__balance = initial_balance\n",
        "\n",
        "    # Public method to deposit money\n",
        "    def deposit(self, amount):\n",
        "        if amount > 0:\n",
        "            self.__balance += amount\n",
        "            print(f\"Deposited: {amount}\")\n",
        "        else:\n",
        "            print(\"Invalid deposit amount\")\n",
        "\n",
        "    # Public method to withdraw money\n",
        "    def withdraw(self, amount):\n",
        "        if 0 < amount <= self.__balance:\n",
        "            self.__balance -= amount\n",
        "            print(f\"Withdrew: {amount}\")\n",
        "        else:\n",
        "            print(\"Insufficient balance or invalid withdrawal amount\")\n",
        "\n",
        "    # Public method to get the balance (balance inquiry)\n",
        "    def get_balance(self):\n",
        "        return self.__balance\n",
        "\n",
        "# Example usage:\n",
        "account = BankAccount(100)  # Starting balance of 100\n",
        "account.deposit(50)          # Deposits 50\n",
        "print(\"Current Balance:\", account.get_balance())  # Retrieves balance\n",
        "account.withdraw(30)         # Withdraws 30\n",
        "print(\"Current Balance:\", account.get_balance())  # Retrieves balance\n"
      ],
      "metadata": {
        "colab": {
          "base_uri": "https://localhost:8080/"
        },
        "id": "URHgLlOND4gv",
        "outputId": "befa0c5f-f899-40d1-b261-b6251b1b194a"
      },
      "execution_count": 17,
      "outputs": [
        {
          "output_type": "stream",
          "name": "stdout",
          "text": [
            "Deposited: 50\n",
            "Current Balance: 150\n",
            "Withdrew: 30\n",
            "Current Balance: 120\n"
          ]
        }
      ]
    },
    {
      "cell_type": "markdown",
      "source": [
        "Explanation:\n",
        "\n",
        "The __balance attribute is private, which prevents direct access from outside the class.\n",
        "\n",
        "The methods deposit, withdraw, and get_balance control access to the __balance attribute, allowing only valid operations to modify or retrieve the balance."
      ],
      "metadata": {
        "id": "6RlOu7lBD9Mx"
      }
    },
    {
      "cell_type": "markdown",
      "source": [
        "Q 11.Write a class that overrides the'__str'and'__'magic methods.What will these methods allow you to do?\n",
        "\n",
        "Ans:-\n",
        "\n",
        "To override the __str__ and __repr__ magic methods, let's start with a class implementation. These methods allow us to define how an object is represented as a string, both when printed (__str__) and when examined more formally in the console (__repr__).\n",
        "\n",
        "Here's an example:"
      ],
      "metadata": {
        "id": "LzTAr9A0xiNE"
      }
    },
    {
      "cell_type": "code",
      "source": [
        "class Book:\n",
        "    def __init__(self, title, author, year):\n",
        "        self.title = title\n",
        "        self.author = author\n",
        "        self.year = year\n",
        "\n",
        "    # __str__ is used for informal string representation (e.g., when using print())\n",
        "    def __str__(self):\n",
        "        return f\"'{self.title}' by {self.author} ({self.year})\"\n",
        "\n",
        "    # __repr__ is used for the official string representation (e.g., for debugging)\n",
        "    def __repr__(self):\n",
        "        return f\"Book(title='{self.title}', author='{self.author}', year={self.year})\"\n",
        "\n",
        "# Example usage:\n",
        "book = Book(\"1984\", \"George Orwell\", 1949)\n",
        "print(book)            # Calls __str__ method\n",
        "print(repr(book))      # Calls __repr__ method\n"
      ],
      "metadata": {
        "colab": {
          "base_uri": "https://localhost:8080/"
        },
        "id": "DPW3-tHhEcy9",
        "outputId": "41875a3c-c349-4131-86f0-910d5b04b2e0"
      },
      "execution_count": 18,
      "outputs": [
        {
          "output_type": "stream",
          "name": "stdout",
          "text": [
            "'1984' by George Orwell (1949)\n",
            "Book(title='1984', author='George Orwell', year=1949)\n"
          ]
        }
      ]
    },
    {
      "cell_type": "markdown",
      "source": [
        "Explanation of the Magic Methods:\n",
        "\n",
        "1.__str__:\n",
        "\n",
        "The __str__ method returns an informal, user-friendly string representation of the object. This is typically used in situations where a simple printout is needed, such as print(book).\n",
        "In the example, __str__ returns the format \"'1984' by George Orwell (1949)\".\n",
        "\n",
        "2.__repr__:\n",
        "\n",
        "The __repr__ method returns an official string representation of the object, which should ideally be unambiguous and, if possible, evaluable by Python to recreate the object.\n",
        "When you use repr(book), it returns \"Book(title='1984', author='George Orwell', year=1949)\", which could be useful for debugging or logging.\n"
      ],
      "metadata": {
        "id": "PYUl9al9Ei73"
      }
    },
    {
      "cell_type": "markdown",
      "source": [
        "Q 12.Create a decorator yhat measure and prints the execution time of a function.\n",
        "\n",
        "Ans:-\n",
        "\n",
        "create a decorator that measures and prints the execution time of a function by using Python's time module. Here’s a simple example:\n"
      ],
      "metadata": {
        "id": "HIACRkPNyiRw"
      }
    },
    {
      "cell_type": "code",
      "source": [
        "import time\n",
        "\n",
        "def measure_execution_time(func):\n",
        "    def wrapper(*args, **kwargs):\n",
        "        start_time = time.time()  # Record the start time\n",
        "        result = func(*args, **kwargs)  # Execute the function\n",
        "        end_time = time.time()  # Record the end time\n",
        "        execution_time = end_time - start_time  # Calculate the duration\n",
        "        print(f\"Execution time of '{func.__name__}': {execution_time:.6f} seconds\")\n",
        "        return result  # Return the function's result\n",
        "    return wrapper\n",
        "\n",
        "# Example usage of the decorator\n",
        "@measure_execution_time\n",
        "def example_function():\n",
        "    time.sleep(2)  # Simulate a function that takes time (e.g., 2 seconds)\n",
        "    print(\"Function completed.\")\n",
        "\n",
        "# Run the example function\n",
        "example_function()\n"
      ],
      "metadata": {
        "colab": {
          "base_uri": "https://localhost:8080/"
        },
        "id": "0eoR8Q_EFBTk",
        "outputId": "a1ac8094-e916-4fea-eef0-45329b5ec9c6"
      },
      "execution_count": 19,
      "outputs": [
        {
          "output_type": "stream",
          "name": "stdout",
          "text": [
            "Function completed.\n",
            "Execution time of 'example_function': 2.001785 seconds\n"
          ]
        }
      ]
    },
    {
      "cell_type": "markdown",
      "source": [
        "Explanation:\n",
        "\n",
        "The measure_execution_time decorator wraps a function.\n",
        "\n",
        "Inside wrapper, it records the start time and end time, then calculates the execution time by subtracting the start time from the end time.\n",
        "\n",
        "After the function execution, it prints the execution time in seconds.\n",
        "\n",
        "In this example, running example_function() will output the time it took to complete. You can apply this decorator to any function you want to measure."
      ],
      "metadata": {
        "id": "GU7g8TeBFJlL"
      }
    },
    {
      "cell_type": "markdown",
      "source": [
        "Q 13.Explain the concept of the Diamond Problem in multiple inheritance.How does Python resolve it?\n",
        "\n",
        "Ans:-\n",
        "\n",
        "The Diamond Problem is a common issue in object-oriented programming, particularly in languages that support multiple inheritance. It arises when a class inherits from two or more classes that have a common ancestor, leading to ambiguity in the inheritance hierarchy.\n",
        "\n",
        "The Diamond Problem Explained\n",
        "Consider this example of a diamond-shaped inheritance structure:\n",
        "1.Class A (the root class).\n",
        "2.Classes B and C both inherit from A.\n",
        "3.Class D inherits from both B and C.\n",
        "\n",
        "The inheritance hierarchy looks like this:"
      ],
      "metadata": {
        "id": "cVXRq3txy0pT"
      }
    },
    {
      "cell_type": "code",
      "source": [
        "       A\n",
        "      / \\\n",
        "     B   C\n",
        "      \\ /\n",
        "       D\n"
      ],
      "metadata": {
        "id": "xpSPJZ-PGES_"
      },
      "execution_count": null,
      "outputs": []
    },
    {
      "cell_type": "markdown",
      "source": [
        "If Class A defines a method (say, method()), and Class D calls method(), it's ambiguous whether it should use the method() from Class B or Class C. This issue is called the \"Diamond Problem\" because of the diamond shape formed in the inheritance diagram.\n",
        "\n",
        "How Python Resolves the Diamond Problem: Method Resolution Order (MRO)\n",
        "Python resolves the Diamond Problem by using the Method Resolution Order (MRO), which is based on the C3 linearization algorithm. The MRO determines the order in which classes are searched for a method or attribute. Python's MRO follows these rules:\n",
        "\n",
        "Depth-First, Left-to-Right: Starting with the current class, Python moves depth-first and left-to-right through the inheritance hierarchy.\n",
        "Avoids Redundant Visits: Each class is visited only once, even if it appears multiple times in the hierarchy.\n",
        "You can see the MRO of a class by using the .__mro__ attribute or the mro() method.\n",
        "\n",
        "Here’s an example to illustrate:"
      ],
      "metadata": {
        "id": "4ZxDpgxMGFiC"
      }
    },
    {
      "cell_type": "code",
      "source": [
        "class A:\n",
        "    def method(self):\n",
        "        print(\"Method in A\")\n",
        "\n",
        "class B(A):\n",
        "    def method(self):\n",
        "        print(\"Method in B\")\n",
        "\n",
        "class C(A):\n",
        "    def method(self):\n",
        "        print(\"Method in C\")\n",
        "\n",
        "class D(B, C):\n",
        "    pass\n",
        "\n",
        "# Check the Method Resolution Order\n",
        "print(D.__mro__)\n",
        "# Output the method call\n",
        "d = D()\n",
        "d.method()\n"
      ],
      "metadata": {
        "colab": {
          "base_uri": "https://localhost:8080/"
        },
        "id": "-kxRGFWMGQoD",
        "outputId": "b76b996e-3983-4641-c663-9d30e34dfed8"
      },
      "execution_count": 23,
      "outputs": [
        {
          "output_type": "stream",
          "name": "stdout",
          "text": [
            "(<class '__main__.D'>, <class '__main__.B'>, <class '__main__.C'>, <class '__main__.A'>, <class 'object'>)\n",
            "Method in B\n"
          ]
        }
      ]
    },
    {
      "cell_type": "markdown",
      "source": [
        "Explanation:\n",
        "\n",
        "D.__mro__ will output the Method Resolution Order, which will be: D -> B -> C -> A -> object.\n",
        "When d.method() is called, Python first checks if D has method. If not, it follows the MRO order: it finds method in B and executes it, avoiding method in C."
      ],
      "metadata": {
        "id": "1PQpozz_GZYH"
      }
    },
    {
      "cell_type": "markdown",
      "source": [
        "\n",
        "Q 14.Write a class method that keeps track of the number of instances created from a class.\n",
        "Ans:-\n",
        "To keep track of the number of instances created from a class, you can use a class variable that increments each time a new instance is initialized. Here's an example implementation:"
      ],
      "metadata": {
        "id": "VxWiYOLBykLE"
      }
    },
    {
      "cell_type": "code",
      "source": [
        "class MyClass:\n",
        "    # Class variable to count instances\n",
        "    instance_count = 0\n",
        "\n",
        "    def __init__(self):\n",
        "        # Increment the count each time a new instance is created\n",
        "        MyClass.instance_count += 1\n",
        "\n",
        "    @classmethod\n",
        "    def get_instance_count(cls):\n",
        "        # Class method to retrieve the count of instances\n",
        "        return cls.instance_count\n",
        "\n",
        "# Example usage:\n",
        "obj1 = MyClass()\n",
        "obj2 = MyClass()\n",
        "obj3 = MyClass()\n",
        "\n",
        "print(\"Number of instances created:\", MyClass.get_instance_count())\n"
      ],
      "metadata": {
        "colab": {
          "base_uri": "https://localhost:8080/"
        },
        "id": "3tfPTManGwIo",
        "outputId": "651e35f2-b380-4379-efad-3929b25f287f"
      },
      "execution_count": 24,
      "outputs": [
        {
          "output_type": "stream",
          "name": "stdout",
          "text": [
            "Number of instances created: 3\n"
          ]
        }
      ]
    },
    {
      "cell_type": "markdown",
      "source": [
        "Explanation:\n",
        "instance_count: A class variable that tracks the total number of instances.\n",
        "__init__: Each time an instance is created, instance_count is incremented by 1.\n",
        "get_instance_count: A class method that returns the current count of instances. Using a class method here allows access to the class-level instance_count without needing an instance.\n"
      ],
      "metadata": {
        "id": "6Ba-pKjnG5QX"
      }
    },
    {
      "cell_type": "markdown",
      "source": [
        "Q 15.Implement a static method in a class that checks if a given year is a leap year.\n",
        "Ans:-\n",
        "Here's an example of a class with a static method that checks if a given year is a leap year:\n",
        "\n"
      ],
      "metadata": {
        "id": "Yv3H0Yepyj6q"
      }
    },
    {
      "cell_type": "code",
      "source": [
        "class DateUtilities:\n",
        "    @staticmethod\n",
        "    def is_leap_year(year):\n",
        "        # A leap year is divisible by 4, but not by 100, unless it is also divisible by 400\n",
        "        if (year % 4 == 0 and year % 100 != 0) or (year % 400 == 0):\n",
        "            return True\n",
        "        return False\n",
        "\n",
        "# Example usage:\n",
        "print(DateUtilities.is_leap_year(2020))\n",
        "print(DateUtilities.is_leap_year(2021))\n",
        "print(DateUtilities.is_leap_year(2000))\n",
        "print(DateUtilities.is_leap_year(1900))\n"
      ],
      "metadata": {
        "colab": {
          "base_uri": "https://localhost:8080/"
        },
        "id": "qbGIBi1lHmXe",
        "outputId": "28699f76-4deb-4624-822c-4bf7d7dc23f4"
      },
      "execution_count": 27,
      "outputs": [
        {
          "output_type": "stream",
          "name": "stdout",
          "text": [
            "True\n",
            "False\n",
            "True\n",
            "False\n"
          ]
        }
      ]
    }
  ]
}