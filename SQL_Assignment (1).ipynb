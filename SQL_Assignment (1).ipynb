{
  "nbformat": 4,
  "nbformat_minor": 0,
  "metadata": {
    "colab": {
      "provenance": []
    },
    "kernelspec": {
      "name": "python3",
      "display_name": "Python 3"
    },
    "language_info": {
      "name": "python"
    }
  },
  "cells": [
    {
      "cell_type": "markdown",
      "source": [
        "1. Create a table called employees with the following structure?\n",
        "\n",
        "\n",
        ": emp_id (integer, should not be NULL and should be a primary key) Q\n",
        "\n",
        ": emp_name (text, should not be NULL) Q\n",
        "\n",
        ": age (integer, should have a check constraint to ensure the age is at least 18) Q\n",
        "\n",
        ": email (text, should be unique for each employee) Q\n",
        "\n",
        ": salary (decimal, with a default value of 30,000).\n",
        "\n",
        "Write the SQL query to create the above table with all constraints.\n",
        "\n",
        "create table employees\n",
        "\n",
        "(emp_id int not null,\n",
        "\n",
        "emp_name text not null,\n",
        "\n",
        "age int check(age >=18),\n",
        "\n",
        "email int unique ,\n",
        "\n",
        "salary dec default(30000));"
      ],
      "metadata": {
        "id": "puySLFd0knbE"
      }
    },
    {
      "cell_type": "markdown",
      "source": [
        "2. Explain the purpose of constraints and how they help maintain data integrity in a database.\n",
        "Provide examples of common types of constraints."
      ],
      "metadata": {
        "id": "W_BEp2wtkneF"
      }
    },
    {
      "cell_type": "markdown",
      "source": [
        "Constraintsin a database are rules enforced on the data in tablesto maintain accuracy,\n",
        "\n",
        "consistency, and integrity. They ensure that only valid and meaningful data is stored,\n",
        "\n",
        "reducing the risk of data corruption or errors.\n",
        "\n",
        "Purpose of Constraints\n",
        "\n",
        "1. Data Integrity: Constraints ensure the accuracy and reliability of data.\n",
        "o Example: A constraint can ensure a person's age is always a non-negative\n",
        "number.\n",
        "\n",
        "2. Consistency: They enforce uniformity in data entry and relationships between tables.\n",
        "\n",
        "Example: Ensuring that a product ID entered in a sales table exists in the products table.\n",
        "\n",
        "3. Error Prevention: They prevent invalid data from being entered into the database.\n",
        "\n",
        "Example: Rejecting entries where a required field is missing.\n",
        "\n",
        "4. Business Rules Enforcement: Constraints can enforce specific rulesrelevant to an organization.\n",
        "\n",
        " Example: A salary must be greater than a minimum wage.\n",
        "\n",
        "Common Types of Constraints\n",
        "\n",
        "1. Primary Key Constraint\n",
        "\n",
        " Purpose: Ensures each row in a table has a unique identifier.\n",
        "\n",
        " Example: A StudentID column in a Students table must have unique values and\n",
        "cannot be NULL.\n",
        "\n",
        "SQL Syntax:\n",
        "\n",
        "CREATE TABLE Students(\n",
        "StudentID INT PRIMARY KEY,\n",
        "Name VARCHAR(50)\n",
        ");\n",
        "\n",
        "2. Foreign Key Constraint\n",
        "\n",
        "Purpose: Maintainsreferential integrity by ensuring that a value in one table\n",
        "corresponds to a value in another.\n",
        "\n",
        "Example: A StudentID in a Enrollments table must exist in the Students table.\n",
        "SQL Syntax:\n",
        "\n",
        "CREATE TABLE Enrollments (\n",
        "\n",
        "EnrollmentID INT PRIMARY KEY,\n",
        "\n",
        "StudentID INT,\n",
        "\n",
        "FOREIGN KEY (StudentID) REFERENCES Students(StudentID)\n",
        "\n",
        ");\n",
        "\n",
        "3. Unique Constraint\n",
        "\n",
        "Purpose: Ensures that a column cannot have NULL values.\n",
        "\n",
        "Example: A Name column in a Employees table must always have a value.\n",
        "\n",
        "SQL Syntax:\n",
        "\n",
        "CREATE TABLE Employees(\n",
        "\n",
        "  EmployeeID INT PRIMARY KEY,\n",
        "\n",
        "Name VARCHAR(50) NOT NULL\n",
        "\n",
        ");\n",
        "\n",
        "5. Check Constraint\n",
        "\n",
        " Purpose: Ensures that all values in a column satisfy a specific condition.\n",
        "\n",
        " Example: A Salary column in a Jobs table must be greater than 0.\n",
        "\n",
        " SQL Syntax:\n",
        "\n",
        "CREATE TABLE Jobs(\n",
        "\n",
        "JobID INT PRIMARY KEY,\n",
        "\n",
        "Salary DECIMAL(10, 2),\n",
        "\n",
        "CHECK (Salary > 0)\n",
        "\n",
        ");\n",
        "\n",
        "6. Default Constraint\n",
        "\n",
        "Purpose: Assigns a default value to a column when no value is provided.\n",
        "\n",
        "Example: A Status column in an Orders table defaults to 'Pending'.\n",
        "\n",
        "SQL Syntax:\n",
        "\n",
        "CREATE TABLE Orders(\n",
        "\n",
        "OrderID INT PRIMARY KEY,\n",
        "\n",
        "Status VARCHAR(20) DEFAULT 'Pending');\n",
        "\n"
      ],
      "metadata": {
        "id": "1KWfWxOKkniK"
      }
    },
    {
      "cell_type": "markdown",
      "source": [
        "3.Why would you apply the NOT NULL constraint to a column? Can a primary key contain NULL values? Justify your answer.\n",
        "Why Apply the NOT NULL Constraint to a Column?\n",
        "\n",
        "The NOT NULL constraint is applied to ensure that a column always contains a value and cannot be left empty. This is crucial when the presence of data in that column is essential for the database to function correctly or to maintain data integrity.\n",
        "\n",
        "Reasons to Use NOT NULL:\n",
        "\n",
        "1. Data Completeness: Ensures critical information is alwaysrecorded.\n",
        "\n",
        "Example: A Name field in a Users table must not be NULL to identify users.\n",
        "\n",
        "2. Avoid Errorsin Queries: Prevents issues when performing operations or calculations that assume a value is present.\n",
        "\n",
        "Example: Calculating total = quantity * price would fail if price is NULL.\n",
        "\n",
        "3. Consistency in Data Relationships: Supportsreferential integrity, particularly in foreign key relationships.\n",
        "\n",
        "Example: A foreign key referencing a parent table cannot be NULL unless\n",
        "explicitly designed for optional relationships.\n",
        "\n",
        "Can a Primary Key Contain NULL Values?\n",
        "\n",
        "No, a primary key cannot contain NULL values Justification:\n",
        "\n",
        "1. Uniqueness Requirement: The primary key uniquely identifies each row in a table. A NULL value represents \"unknown\" or \"missing\" data, which cannot serve as a unique identifier.\n",
        "\n",
        "If NULL were allowed, multiple rows could have NULL values, violating the\n",
        "uniqueness rule.\n",
        "\n",
        "2. Logical Integrity: The primary key is often used to reference rows in other tables via foreign keys. If a primary key contained NULL, the referenced rows would become ambiguous or invalid.\n",
        "\n",
        "3. SQL Standard: According to SQL standards, the primary key constraint implicitly enforces both NOT NULL and UNIQUE constraints.\n",
        "\n",
        "Example:\n",
        "\n",
        "The following would result in an error:\n",
        "\n",
        "CREATE TABLE Students (\n",
        "\n",
        "StudentID INT PRIMARY KEY,\n",
        "\n",
        "Name VARCHAR(50)\n",
        "\n",
        ");\n",
        "\n",
        "-- Attempt to insert a NULL value into the primary key column INSERT INTO Students(StudentID, Name) VALUES (NULL, 'John Doe'); -- Error: Primary key cannot be NULL\n",
        "\n",
        "In conclusion:\n",
        "\n",
        "• Apply the NOT NULL constraint to ensure essential data is always provided.\n",
        "\n",
        "• A primary key cannot contain NULL values because it must uniquely and unambiguously identify each record in the table.\n",
        "\n"
      ],
      "metadata": {
        "id": "ma3rcMF3knmW"
      }
    },
    {
      "cell_type": "markdown",
      "source": [
        "4. Explain the steps and SQL commands used to add or remove constraints on an existing table. Provide an example for both adding and removing a constraint.\n",
        "\n",
        "Steps and SQL Commands for Adding or Removing Constraints on an Existing Table\n",
        "Adding Constraints\n",
        "\n",
        "1. Identify the Table and Column: Determine the table and column(s) where you want to add the constraint.\n",
        "\n",
        "2. Use the ALTER TABLE Command: Use the ALTER TABLE statement with the appropriate syntax to add the constraint.\n",
        "\n",
        "3. Specify the Constraint Type: Define the type of constraint (NOT NULL, UNIQUE, CHECK, etc.) and the rules it enforces.\n",
        "\n",
        "Example: Adding a Constraint Suppose we have a table Employees without any constraints on the Email column.\n",
        "\n",
        "CREATE TABLE Employees (\n",
        "\n",
        "EmployeeID INT PRIMARY KEY,\n",
        "\n",
        "Name VARCHAR(50),\n",
        "\n",
        "Email VARCHAR(100));\n",
        "\n",
        "To add a UNIQUE constraint on the Email column:\n",
        "\n",
        "ALTER TABLE Employees\n",
        "\n",
        "ADD CONSTRAINT UniqueEmail UNIQUE (Email);\n",
        "\n",
        "To add a CHECK constraint to ensure EmployeeID is greater than 0:\n",
        "\n",
        "ALTER TABLE Employees\n",
        "\n",
        "ADD CONSTRAINT CheckEmployeeID CHECK (EmployeeID > 0);\n",
        "\n",
        "Removing Constraints\n",
        "\n",
        "1. Identify the Constraint Name: Determine the name of the constraint you want to remove. You can find constraint names by querying the database metadata (e.g.,INFORMATION_SCHEMA in SQL Server).\n",
        "\n",
        "2. Use the ALTER TABLE Command: Use the ALTER TABLE statement with the DROP\n",
        "CONSTRAINT clause.\n",
        "\n",
        "Example: Removing a Constraint To remove the UNIQUE constraint on the Email column:\n",
        "\n",
        "ALTER TABLE Employees\n",
        "\n",
        "DROP CONSTRAINT UniqueEmail;\n",
        "\n",
        "To remove the CHECK constraint on EmployeeID:\n",
        "\n",
        "ALTER TABLE Employees\n",
        "\n",
        "DROP CONSTRAINT CheckEmployeeID;"
      ],
      "metadata": {
        "id": "Jj7N1duXknpL"
      }
    },
    {
      "cell_type": "markdown",
      "source": [
        "5. Explain the consequences of attempting to insert, update, or delete data in a way that violates constraints. Provide an example of an error message that might occur when violating a constraint.\n",
        "\n",
        "Consequences of Violating Constraints\n",
        "\n",
        "When you attempt to insert, update, or delete data in a way that violates constraints in a database, the database management system (DBMS) enforces the rules defined by the constraints and prevents the operation. This ensures data integrity but results in an error.\n",
        "\n",
        "Common Scenarios and Their Consequences\n",
        "\n",
        "1. Violation of a NOT NULL Constraint\n",
        "\n",
        "Attempt: Inserting or updating a row with a NULL value in a column defined as\n",
        "NOT NULL.\n",
        "\n",
        "Consequence: The operation fails because the column requires a value.\n",
        "\n",
        "Example: If the Name column in an Employeestable has a NOT NULL constraint:\n",
        "\n",
        "INSERT INTO Employees(EmployeeID, Name) VALUES (1, NULL);\n",
        "\n",
        "Error Message (MySQL):\n",
        "\n",
        "ERROR 1048 (23000): Column 'Name' cannot be null\n",
        "\n",
        "2. Violation of a UNIQUE Constraint\n",
        "\n",
        "Attempt: Inserting or updating a row with a duplicate value in a column defined\n",
        "as UNIQUE.\n",
        "\n",
        "Consequence: The operation fails because duplicate values are not allowed.\n",
        "\n",
        "Example: If the Email column in an Users table has a UNIQUE constraint:\n",
        "\n",
        "INSERT INTO Users (UserID, Email) VALUES (1, 'example@example.com');\n",
        "\n",
        "INSERT INTO Users (UserID, Email) VALUES (2, 'example@example.com');\n",
        "\n",
        "Error Message (PostgreSQL):\n",
        "\n",
        "ERROR: duplicate key value violates unique constraint \"users_email_key\"\n",
        "\n",
        "DETAIL: Key (email)=(example@example.com) already exists.\n",
        "\n",
        "3. Violation of a PRIMARY KEY Constraint\n",
        "\n",
        " Attempt: Inserting or updating a row with a duplicate or NULL value in a primary key column.\n",
        "\n",
        " Consequence: The operation fails because a primary key must be unique and\n",
        "cannot be NULL.\n",
        "\n",
        "Example:\n",
        "\n",
        "INSERT INTO Employees(EmployeeID, Name) VALUES (1, 'Alice');\n",
        "\n",
        "INSERT INTO Employees (EmployeeID, Name) VALUES (1, 'Bob');\n",
        "\n",
        "Error Message (SQL Server):\n",
        "\n",
        "Msg 2627, Level 14, State 1, Line 1\n",
        "\n",
        "Violation of PRIMARY KEY constraint 'PK_Employees'. Cannot insert duplicate key in object 'dbo.Employees'.\n",
        "\n",
        "4. Violation of a FOREIGN KEY Constraint\n",
        "\n",
        "Attempt: Inserting or updating a row with a value in a foreign key column that\n",
        "does not exist in the referenced table, or deleting a referenced row in the parent table.\n",
        "\n",
        "Consequence: The operation failsto preserve referential integrity.\n",
        "\n",
        "Example:\n",
        "\n",
        "INSERT INTO Orders(OrderID, CustomerID) VALUES (1, 999); -- Assuming 999 does notexist in the Customers table\n",
        "Error Message (MySQL):\n",
        "\n",
        "ERROR 1452 (23000): Cannot add or update a child row: a foreign key constraint fails\n",
        "\n",
        "(`Orders`, CONSTRAINT `fk_customer` FOREIGN KEY (`CustomerID`) REFERENCES\n",
        "`Customers` (`CustomerID`))\n",
        "\n",
        "5. Violation of a CHECK Constraint\n",
        "\n",
        "Attempt: Inserting or updating a row with a value that does not satisfy the\n",
        "condition defined in a CHECK constraint.\n",
        "\n",
        "Consequence: The operation fails because the value does not meet the defined\n",
        "rule.\n",
        "\n",
        "Example: If a Salary column has a CHECK constraint ensuring it must be greater\n",
        "than 0:\n",
        "\n",
        "INSERT INTO Jobs(JobID, Salary) VALUES (1, -500);\n",
        "\n",
        "Error Message (Oracle):\n",
        "\n",
        "ORA-02290: check constraint (SCHEMA.CHECK_SALARY) violated\n"
      ],
      "metadata": {
        "id": "GC7MjKqcoQCd"
      }
    },
    {
      "cell_type": "markdown",
      "source": [
        "6. You created a product stable without constraints asfollows:\n",
        "\n",
        "CREATE TABLE products (\n",
        "\n",
        "product_id INT,\n",
        "\n",
        "product_name VARCHAR(50),\n",
        "\n",
        "price DECIMAL(10, 2));\n",
        "\n",
        "Now, you realise that?\n",
        "\n",
        ": The product_id should be a primary key Q\n",
        "\n",
        ": The price should have a default value of 50.00\n",
        "\n",
        "ALTER TABLE products\n",
        "\n",
        "ADD CONSTRAINT pk_product_id PRIMARY KEY (product_id);\n",
        "\n",
        "ALTER TABLE products\n",
        "\n",
        "ALTER COLUMN price SET DEFAULT 50.00;\n",
        "\n"
      ],
      "metadata": {
        "id": "3R-k6mRdoP-k"
      }
    },
    {
      "cell_type": "markdown",
      "source": [
        "7. You have two tables:\n",
        "\n",
        "SELECT\n",
        "\n",
        "students.student_name,\n",
        "\n",
        "classes.class_name\n",
        "\n",
        "FROM\n",
        "\n",
        "students\n",
        "\n",
        "INNER JOIN\n",
        "\n",
        "classes\n",
        "\n",
        "ON\n",
        "\n",
        "students.class_id = classes.class_id;"
      ],
      "metadata": {
        "id": "9ZW1eedBoP7z"
      }
    },
    {
      "cell_type": "markdown",
      "source": [
        "8. Consider the following three tables:\n",
        "\n",
        "SELECT\n",
        "\n",
        "products.order_id,\n",
        "\n",
        "customers.customer_name,\n",
        "\n",
        "products.product_name\n",
        "\n",
        "FROM\n",
        "\n",
        "orders\n",
        "\n",
        "LEFT JOIN\n",
        "\n",
        "products\n",
        "\n",
        "ON\n",
        "\n",
        "orders.order_id = products.order_id\n",
        "\n",
        "INNER JOIN\n",
        "\n",
        "customers\n",
        "\n",
        "ON\n",
        "\n",
        "orders.customer_id = customers.customer_id;\n"
      ],
      "metadata": {
        "id": "GdS_8dVSoP5L"
      }
    },
    {
      "cell_type": "markdown",
      "source": [
        "10. You are given three tables:\n",
        "\n",
        "SELECT\n",
        "\n",
        "orders.customer_id,\n",
        "\n",
        "customers.customer_name,\n",
        "\n",
        "SUM(order_details.quantity)\n",
        "\n",
        "FROM\n",
        "\n",
        "orders\n",
        "\n",
        "INNER JOIN\n",
        "\n",
        "order_details ON orders.order_id = order_details.order_id\n",
        "\n",
        "INNER JOIN\n",
        "\n",
        "customers ON customers.customer_id = orders.customer_id\n",
        "\n",
        "GROUP BY orders.customer_id , customers.customer_name;\n"
      ],
      "metadata": {
        "id": "XsRju_-5oP06"
      }
    },
    {
      "cell_type": "markdown",
      "source": [
        "                                                                 **SQL COMMANDS**"
      ],
      "metadata": {
        "id": "dsqOaFjwcAf2"
      }
    },
    {
      "cell_type": "markdown",
      "source": [
        "1-Identify the primary keys and foreign keys in maven movies db. Discuss the differences\n"
      ],
      "metadata": {
        "id": "aevf8hnhcJQX"
      }
    },
    {
      "cell_type": "markdown",
      "source": [
        "The **Maven Movies** database is a popular sample relational database used for SQL practice. It simulates a movie rental company similar to Blockbuster and includes tables such as `customer`, `rental`, `inventory`, `film`, `payment`, etc.\n",
        "\n",
        "---\n",
        "\n",
        "## 🔑 Primary Keys and Foreign Keys\n",
        "\n",
        "### ✅ Primary Keys\n",
        "\n",
        "Primary keys uniquely identify each row in a table. Below are the primary keys of key tables in the **Maven Movies** database:\n",
        "\n",
        "| Table              | Primary Key(s)                       |\n",
        "| ------------------ | ------------------------------------ |\n",
        "| **actor**          | `actor_id`                           |\n",
        "| **address**        | `address_id`                         |\n",
        "| **category**       | `category_id`                        |\n",
        "| **city**           | `city_id`                            |\n",
        "| **country**        | `country_id`                         |\n",
        "| **customer**       | `customer_id`                        |\n",
        "| **film**           | `film_id`                            |\n",
        "| **inventory**      | `inventory_id`                       |\n",
        "| **language**       | `language_id`                        |\n",
        "| **payment**        | `payment_id`                         |\n",
        "| **rental**         | `rental_id`                          |\n",
        "| **staff**          | `staff_id`                           |\n",
        "| **store**          | `store_id`                           |\n",
        "| **film\\_actor**    | composite (`actor_id`, `film_id`)    |\n",
        "| **film\\_category** | composite (`film_id`, `category_id`) |\n",
        "\n",
        "---\n",
        "\n",
        "### 🔗 Foreign Keys\n",
        "\n",
        "Foreign keys create relationships between tables by referencing primary keys in other tables:\n",
        "\n",
        "| Table              | Foreign Key(s)                                   | References                                                      |\n",
        "| ------------------ | ------------------------------------------------ | --------------------------------------------------------------- |\n",
        "| **address**        | `city_id`                                        | `city(city_id)`                                                 |\n",
        "| **city**           | `country_id`                                     | `country(country_id)`                                           |\n",
        "| **customer**       | `address_id`, `store_id`                         | `address(address_id)`, `store(store_id)`                        |\n",
        "| **film**           | `language_id`, `original_language_id` (nullable) | `language(language_id)`                                         |\n",
        "| **film\\_actor**    | `actor_id`, `film_id`                            | `actor(actor_id)`, `film(film_id)`                              |\n",
        "| **film\\_category** | `film_id`, `category_id`                         | `film(film_id)`, `category(category_id)`                        |\n",
        "| **inventory**      | `film_id`, `store_id`                            | `film(film_id)`, `store(store_id)`                              |\n",
        "| **payment**        | `customer_id`, `staff_id`, `rental_id`           | `customer(customer_id)`, `staff(staff_id)`, `rental(rental_id)` |\n",
        "| **rental**         | `inventory_id`, `customer_id`, `staff_id`        | `inventory(inventory_id)`, etc.                                 |\n",
        "| **staff**          | `address_id`, `store_id`                         | `address(address_id)`, `store(store_id)`                        |\n",
        "| **store**          | `address_id`, `staff_id` (manager)               | `address(address_id)`, `staff(staff_id)`                        |\n",
        "\n",
        "---\n",
        "\n",
        "## 🆚 Differences Between Primary Key and Foreign Key\n",
        "\n",
        "| Feature         | Primary Key                                 | Foreign Key                                    |\n",
        "| --------------- | ------------------------------------------- | ---------------------------------------------- |\n",
        "| **Definition**  | Uniquely identifies a row in the same table | References a primary key in another table      |\n",
        "| **Uniqueness**  | Must be unique                              | Can have duplicates                            |\n",
        "| **Nullability** | Cannot be null                              | Can be null (in most cases)                    |\n",
        "| **Purpose**     | Enforces entity integrity                   | Enforces referential integrity                 |\n",
        "| **Used In**     | The table where the row is defined          | The table that needs to refer to another table |\n",
        "\n",
        "---\n",
        "\n"
      ],
      "metadata": {
        "id": "r6QD1lsvcCzh"
      }
    },
    {
      "cell_type": "markdown",
      "source": [
        "2-List all details of actors\n"
      ],
      "metadata": {
        "id": "9UsCwX66cCuu"
      }
    },
    {
      "cell_type": "markdown",
      "source": [
        "To **list all details of actors** in the **Maven Movies** database, you would query the `actor` table.\n",
        "\n",
        "Here’s the SQL statement to do that:\n",
        "\n",
        "```sql\n",
        "SELECT * FROM actor;\n",
        "```\n",
        "\n",
        "---\n",
        "\n",
        "### ✅ This query returns:\n",
        "\n",
        "| Column Name   | Description                           |\n",
        "| ------------- | ------------------------------------- |\n",
        "| `actor_id`    | Unique ID for the actor (Primary Key) |\n",
        "| `first_name`  | First name of the actor               |\n",
        "| `last_name`   | Last name of the actor                |\n",
        "| `last_update` | Timestamp of last update              |\n",
        "\n",
        "---\n",
        "\n",
        "### 📝 Sample Output:\n",
        "\n",
        "| actor\\_id | first\\_name | last\\_name | last\\_update        |\n",
        "| --------- | ----------- | ---------- | ------------------- |\n",
        "| 1         | PENELOPE    | GUINESS    | 2006-02-15 04:34:33 |\n",
        "| 2         | NICK        | WAHLBERG   | 2006-02-15 04:34:33 |\n",
        "| 3         | ED          | CHASE      | 2006-02-15 04:34:33 |\n",
        "| ...       | ...         | ...        | ...                 |\n",
        "\n"
      ],
      "metadata": {
        "id": "zKgeIEAvcCq8"
      }
    },
    {
      "cell_type": "markdown",
      "source": [
        "3-List all customer information from DB."
      ],
      "metadata": {
        "id": "9DJHw3zxcCoF"
      }
    },
    {
      "cell_type": "markdown",
      "source": [
        "To **list all customer information** from the **Maven Movies** database, you'll query the `customer` table.\n",
        "\n",
        "---\n",
        "\n",
        "### ✅ SQL Query:\n",
        "\n",
        "```sql\n",
        "SELECT * FROM customer;\n",
        "```\n",
        "\n",
        "---\n",
        "\n",
        "### 📋 Columns in `customer` Table:\n",
        "\n",
        "| Column Name   | Description                                                    |\n",
        "| ------------- | -------------------------------------------------------------- |\n",
        "| `customer_id` | Unique ID for each customer (Primary Key)                      |\n",
        "| `store_id`    | Store the customer is associated with (Foreign Key to `store`) |\n",
        "| `first_name`  | Customer's first name                                          |\n",
        "| `last_name`   | Customer's last name                                           |\n",
        "| `email`       | Customer's email address                                       |\n",
        "| `address_id`  | Customer's address ID (Foreign Key to `address`)               |\n",
        "| `active`      | Indicates if the customer is currently active (1 = active)     |\n",
        "| `create_date` | Date when the customer was created                             |\n",
        "| `last_update` | Timestamp of last update                                       |\n",
        "\n",
        "---\n",
        "\n",
        "### 📝 Example Output:\n",
        "\n",
        "| customer\\_id | store\\_id | first\\_name | last\\_name | email                                                                             | address\\_id | active | create\\_date | last\\_update        |\n",
        "| ------------ | --------- | ----------- | ---------- | --------------------------------------------------------------------------------- | ----------- | ------ | ------------ | ------------------- |\n",
        "| 1            | 1         | MARY        | SMITH      | [MARY.SMITH@sakilacustomer.org](mailto:MARY.SMITH@sakilacustomer.org)             | 5           | 1      | 2006-02-14   | 2021-06-15 04:34:33 |\n",
        "| 2            | 1         | PATRICIA    | JOHNSON    | [PATRICIA.JOHNSON@sakilacustomer.org](mailto:PATRICIA.JOHNSON@sakilacustomer.org) | 6           | 1      | 2006-02-14   | 2021-06-15 04:34:33 |\n",
        "| ...          | ...       | ...         | ...        | ...                                                                               | ...         | ...    | ...          | ...                 |\n",
        "\n",
        "---\n",
        "\n"
      ],
      "metadata": {
        "id": "oM-sNPOhcCj2"
      }
    },
    {
      "cell_type": "markdown",
      "source": [
        "4-List different countries.\n"
      ],
      "metadata": {
        "id": "KqLRU53vcCfd"
      }
    },
    {
      "cell_type": "markdown",
      "source": [
        "To **list different countries** in the Maven Movies database, you need to query the `country` table.\n",
        "\n",
        "---\n",
        "\n",
        "### ✅ SQL Query:\n",
        "\n",
        "```sql\n",
        "SELECT * FROM country;\n",
        "```\n",
        "\n",
        "Or if you only want the list of country names:\n",
        "\n",
        "```sql\n",
        "SELECT country FROM country;\n",
        "```\n",
        "\n",
        "Or to eliminate any duplicates (if they exist, though unlikely in this table):\n",
        "\n",
        "```sql\n",
        "SELECT DISTINCT country FROM country;\n",
        "```\n",
        "\n",
        "---\n",
        "\n",
        "### 📋 Columns in the `country` Table:\n",
        "\n",
        "| Column Name   | Description                              |\n",
        "| ------------- | ---------------------------------------- |\n",
        "| `country_id`  | Unique ID for each country (Primary Key) |\n",
        "| `country`     | Name of the country                      |\n",
        "| `last_update` | Timestamp of last update                 |\n",
        "\n",
        "---\n",
        "\n",
        "### 📝 Example Output:\n",
        "\n",
        "| country\\_id | country     | last\\_update        |\n",
        "| ----------- | ----------- | ------------------- |\n",
        "| 1           | Afghanistan | 2006-02-15 04:34:33 |\n",
        "| 2           | Algeria     | 2006-02-15 04:34:33 |\n",
        "| 3           | Argentina   | 2006-02-15 04:34:33 |\n",
        "| ...         | ...         | ...                 |\n",
        "\n",
        "There are **109** countries in the standard Maven Movies (`Sakila`) database.\n",
        "\n"
      ],
      "metadata": {
        "id": "Ky1phZwQcCch"
      }
    },
    {
      "cell_type": "markdown",
      "source": [
        "5-Display all active customers.\n"
      ],
      "metadata": {
        "id": "6GvUNXGEe3uc"
      }
    },
    {
      "cell_type": "markdown",
      "source": [
        "To **display all active customers** in the Maven Movies database, you need to query the `customer` table where the `active` column is set to `1`.\n",
        "\n",
        "---\n",
        "\n",
        "### ✅ SQL Query:\n",
        "\n",
        "```sql\n",
        "SELECT * FROM customer\n",
        "WHERE active = 1;\n",
        "```\n",
        "\n",
        "---\n",
        "\n",
        "### 🔍 What This Query Does:\n",
        "\n",
        "* Retrieves **only customers** who are marked as **active**\n",
        "* The `active` column typically stores `1` for active and `0` for inactive customers\n",
        "\n",
        "---\n",
        "\n",
        "### 📝 Sample Output:\n",
        "\n",
        "| customer\\_id | store\\_id | first\\_name | last\\_name | email                                                                             | address\\_id | active | create\\_date | last\\_update        |\n",
        "| ------------ | --------- | ----------- | ---------- | --------------------------------------------------------------------------------- | ----------- | ------ | ------------ | ------------------- |\n",
        "| 1            | 1         | MARY        | SMITH      | [MARY.SMITH@sakilacustomer.org](mailto:MARY.SMITH@sakilacustomer.org)             | 5           | 1      | 2006-02-14   | 2021-06-15 04:34:33 |\n",
        "| 2            | 1         | PATRICIA    | JOHNSON    | [PATRICIA.JOHNSON@sakilacustomer.org](mailto:PATRICIA.JOHNSON@sakilacustomer.org) | 6           | 1      | 2006-02-14   | 2021-06-15 04:34:33 |\n",
        "| ...          | ...       | ...         | ...        | ...                                                                               | ...         | 1      | ...          | ...                 |\n",
        "\n",
        "---\n",
        "\n"
      ],
      "metadata": {
        "id": "D_aw_jD1cCYt"
      }
    },
    {
      "cell_type": "markdown",
      "source": [
        "6-List of all rental IDs for customer with ID 1.\n",
        "\n"
      ],
      "metadata": {
        "id": "qvkoeATScCSF"
      }
    },
    {
      "cell_type": "markdown",
      "source": [
        "To list all **rental IDs** for the **customer with ID = 1** in the Maven Movies database, you’ll query the `rental` table using a `WHERE` clause.\n",
        "\n",
        "---\n",
        "\n",
        "### ✅ SQL Query:\n",
        "\n",
        "```sql\n",
        "SELECT rental_id\n",
        "FROM rental\n",
        "WHERE customer_id = 1;\n",
        "```\n",
        "\n",
        "---\n",
        "\n",
        "### 📝 What This Query Does:\n",
        "\n",
        "* Filters the `rental` table for rows where `customer_id` is 1\n",
        "* Returns only the `rental_id` column (you can add more columns if needed)\n",
        "\n",
        "---\n",
        "\n",
        "### 📝 Sample Output:\n",
        "\n",
        "| rental\\_id |\n",
        "| ---------- |\n",
        "| 1          |\n",
        "| 24         |\n",
        "| 75         |\n",
        "| ...        |\n",
        "\n"
      ],
      "metadata": {
        "id": "3V5eu9rtcCOt"
      }
    },
    {
      "cell_type": "markdown",
      "source": [
        "7-Display all the films whose rental duration is greater than 5.\n"
      ],
      "metadata": {
        "id": "goXRm0utcCLu"
      }
    },
    {
      "cell_type": "markdown",
      "source": [
        "To **display all films whose rental duration is greater than 5 days** in the Maven Movies database, you need to query the `film` table and filter using the `rental_duration` column.\n",
        "\n",
        "---\n",
        "\n",
        "### ✅ SQL Query:\n",
        "\n",
        "```sql\n",
        "SELECT *\n",
        "FROM film\n",
        "WHERE rental_duration > 5;\n",
        "```\n",
        "\n",
        "---\n",
        "\n",
        "### 📋 Relevant Columns in the `film` Table:\n",
        "\n",
        "| Column Name       | Description                           |\n",
        "| ----------------- | ------------------------------------- |\n",
        "| `film_id`         | Unique ID for the film (Primary Key)  |\n",
        "| `title`           | Title of the film                     |\n",
        "| `description`     | Description of the film               |\n",
        "| `rental_duration` | Number of days the film can be rented |\n",
        "| `rental_rate`     | Cost to rent the film                 |\n",
        "| ...               | Other metadata like length, rating    |\n",
        "\n",
        "---\n",
        "\n",
        "### 📝 Sample Output:\n",
        "\n",
        "| film\\_id | title            | rental\\_duration | ... |\n",
        "| -------- | ---------------- | ---------------- | --- |\n",
        "| 17       | ACADEMY DINOSAUR | 6                | ... |\n",
        "| 42       | ADAPTATION HOLES | 7                | ... |\n",
        "| ...      | ...              | ...              | ... |\n",
        "\n",
        "---\n",
        "\n"
      ],
      "metadata": {
        "id": "VK832DOJcCF7"
      }
    },
    {
      "cell_type": "markdown",
      "source": [
        "8-List the total number of films whose replacement cost is greater than $15 and less than $20."
      ],
      "metadata": {
        "id": "AObpKy3EcCB7"
      }
    },
    {
      "cell_type": "markdown",
      "source": [
        "To **count the total number of films** in the Maven Movies database where the **replacement cost is greater than \\$15 and less than \\$20**, you will query the `film` table using a `WHERE` clause and use the `COUNT(*)` aggregate function.\n",
        "\n",
        "---\n",
        "\n",
        "### ✅ SQL Query:\n",
        "\n",
        "```sql\n",
        "SELECT COUNT(*) AS total_films\n",
        "FROM film\n",
        "WHERE replacement_cost > 15 AND replacement_cost < 20;\n",
        "```\n",
        "\n",
        "---\n",
        "\n",
        "### 📝 Explanation:\n",
        "\n",
        "* `replacement_cost`: The cost to replace the film if it is lost or damaged.\n",
        "* `COUNT(*)`: Counts all rows that meet the condition.\n",
        "* `AS total_films`: Renames the result column for clarity.\n",
        "\n",
        "---\n",
        "\n",
        "### 🧾 Sample Output:\n",
        "\n",
        "| total\\_films |\n",
        "| ------------ |\n",
        "| 320          |\n",
        "\n",
        "(Note: The number is illustrative; the actual count may vary depending on the dataset version.)\n"
      ],
      "metadata": {
        "id": "Hb1Eu_06cB5n"
      }
    },
    {
      "cell_type": "markdown",
      "source": [
        "9-Display the count of unique first names of actors.\n"
      ],
      "metadata": {
        "id": "0KljbgIxcByW"
      }
    },
    {
      "cell_type": "markdown",
      "source": [
        "To **display the count of unique first names** of actors in the Maven Movies database, you will query the `actor` table and use the `COUNT(DISTINCT ...)` function.\n",
        "\n",
        "---\n",
        "\n",
        "### ✅ SQL Query:\n",
        "\n",
        "```sql\n",
        "SELECT COUNT(DISTINCT first_name) AS unique_first_names\n",
        "FROM actor;\n",
        "```\n",
        "\n",
        "---\n",
        "\n",
        "### 📝 Explanation:\n",
        "\n",
        "* `DISTINCT first_name`: Ensures each first name is counted only once.\n",
        "* `COUNT(...)`: Counts the number of unique values.\n",
        "* `AS unique_first_names`: Aliases the result column for readability.\n",
        "\n",
        "---\n",
        "\n",
        "### 🧾 Sample Output:\n",
        "\n",
        "| unique\\_first\\_names |\n",
        "| -------------------- |\n",
        "| 128                  |\n",
        "\n",
        "(*Note: The exact number may vary slightly depending on the dataset version.*)\n",
        "\n"
      ],
      "metadata": {
        "id": "YHu8mvljcBq9"
      }
    },
    {
      "cell_type": "markdown",
      "source": [
        "10-Display the first 10 records from the customer table.\n"
      ],
      "metadata": {
        "id": "VQkY1XQPgDdk"
      }
    },
    {
      "cell_type": "markdown",
      "source": [
        "To **display the first 10 records** from the `customer` table in the Maven Movies database, you can use the `LIMIT` clause in SQL.\n",
        "\n",
        "---\n",
        "\n",
        "### ✅ SQL Query (MySQL/PostgreSQL/SQLite):\n",
        "\n",
        "```sql\n",
        "SELECT *\n",
        "FROM customer\n",
        "LIMIT 10;\n",
        "```\n",
        "\n",
        "---\n",
        "\n",
        "### 📝 Explanation:\n",
        "\n",
        "* `SELECT *`: Selects all columns.\n",
        "* `LIMIT 10`: Restricts the result to the first 10 rows in the table.\n",
        "\n",
        "---\n",
        "\n",
        "### 🧾 Sample Output:\n",
        "\n",
        "| customer\\_id | store\\_id | first\\_name | last\\_name | email                                                                             | address\\_id | active | create\\_date | last\\_update        |\n",
        "| ------------ | --------- | ----------- | ---------- | --------------------------------------------------------------------------------- | ----------- | ------ | ------------ | ------------------- |\n",
        "| 1            | 1         | MARY        | SMITH      | [MARY.SMITH@sakilacustomer.org](mailto:MARY.SMITH@sakilacustomer.org)             | 5           | 1      | 2006-02-14   | 2021-06-15 04:34:33 |\n",
        "| 2            | 1         | PATRICIA    | JOHNSON    | [PATRICIA.JOHNSON@sakilacustomer.org](mailto:PATRICIA.JOHNSON@sakilacustomer.org) | 6           | 1      | 2006-02-14   | 2021-06-15 04:34:33 |\n",
        "| ...          | ...       | ...         | ...        | ...                                                                               | ...         | ...    | ...          | ...                 |\n",
        "\n"
      ],
      "metadata": {
        "id": "0f-fbZOigFvU"
      }
    },
    {
      "cell_type": "markdown",
      "source": [
        "11- Display the first 3 records from the customer table whose first name starts with 'b'.\n"
      ],
      "metadata": {
        "id": "jC0gIXyugFry"
      }
    },
    {
      "cell_type": "markdown",
      "source": [
        "To **display the first 3 records from the `customer` table where the first name starts with 'b'** (case-insensitive), you can use the `LIKE` operator with a wildcard and `LIMIT`.\n",
        "\n",
        "---\n",
        "\n",
        "### ✅ SQL Query:\n",
        "\n",
        "```sql\n",
        "SELECT *\n",
        "FROM customer\n",
        "WHERE first_name LIKE 'b%'\n",
        "LIMIT 3;\n",
        "```\n",
        "\n",
        "---\n",
        "\n",
        "### Explanation:\n",
        "\n",
        "* `first_name LIKE 'b%'`: Matches first names starting with 'b'.\n",
        "* `LIMIT 3`: Restricts the output to the first 3 records.\n",
        "* Note: Depending on your DBMS, this is case-sensitive. For **case-insensitive** search in some systems, you might use:\n",
        "\n",
        "  * **PostgreSQL:** `ILIKE 'b%'`\n",
        "  * **MySQL (default collation):** `LIKE` is usually case-insensitive\n",
        "\n",
        "---\n",
        "\n",
        "### 📝 Sample Output:\n",
        "\n",
        "| customer\\_id | store\\_id | first\\_name | last\\_name | email                                                                         | address\\_id | active | create\\_date | last\\_update        |\n",
        "| ------------ | --------- | ----------- | ---------- | ----------------------------------------------------------------------------- | ----------- | ------ | ------------ | ------------------- |\n",
        "| 25           | 1         | BRIAN       | SMITH      | [BRIAN.SMITH@sakilacustomer.org](mailto:BRIAN.SMITH@sakilacustomer.org)       | 10          | 1      | 2006-02-14   | 2021-06-15 04:34:33 |\n",
        "| 47           | 2         | BRITTANY    | JONES      | [BRITTANY.JONES@sakilacustomer.org](mailto:BRITTANY.JONES@sakilacustomer.org) | 15          | 1      | 2006-02-14   | 2021-06-15 04:34:33 |\n",
        "| 58           | 1         | BARRY       | WILLIAMS   | [BARRY.WILLIAMS@sakilacustomer.org](mailto:BARRY.WILLIAMS@sakilacustomer.org) | 18          | 1      | 2006-02-14   | 2021-06-15 04:34:33 |\n",
        "\n"
      ],
      "metadata": {
        "id": "nMCdWHRHgFmk"
      }
    },
    {
      "cell_type": "markdown",
      "source": [
        "12-Display the names of the first 5 movies which are rated as 'G'.\n"
      ],
      "metadata": {
        "id": "lTXzdXrqgFhA"
      }
    },
    {
      "cell_type": "markdown",
      "source": [
        "To **display the names (titles) of the first 5 movies rated 'G'**, query the `film` table with a filter on the `rating` column and limit the results.\n",
        "\n",
        "---\n",
        "\n",
        "### ✅ SQL Query:\n",
        "\n",
        "```sql\n",
        "SELECT title\n",
        "FROM film\n",
        "WHERE rating = 'G'\n",
        "LIMIT 5;\n",
        "```\n",
        "\n",
        "---\n",
        "\n",
        "### Explanation:\n",
        "\n",
        "* `rating = 'G'`: Filters films rated 'G' (General Audience).\n",
        "* `LIMIT 5`: Returns only the first 5 matching records.\n",
        "* By default, the order might be arbitrary; you can add `ORDER BY` if you want a specific order (e.g., alphabetical).\n",
        "\n",
        "---\n",
        "\n",
        "### Optional: Alphabetically ordered results\n",
        "\n",
        "```sql\n",
        "SELECT title\n",
        "FROM film\n",
        "WHERE rating = 'G'\n",
        "ORDER BY title\n",
        "LIMIT 5;\n",
        "```\n",
        "\n",
        "---\n",
        "\n",
        "### 📝 Sample Output:\n",
        "\n",
        "| title            |\n",
        "| ---------------- |\n",
        "| ACADEMY DINOSAUR |\n",
        "| ACE GOLDFINGER   |\n",
        "| ADAPTATION HOLES |\n",
        "| AFFAIR PREJUDICE |\n",
        "| AFRICAN EGG      |\n",
        "\n",
        "---\n",
        "\n"
      ],
      "metadata": {
        "id": "jiVj1VGwgFdo"
      }
    },
    {
      "cell_type": "markdown",
      "source": [
        "13-Find all customers whose first name starts with \"a\".\n"
      ],
      "metadata": {
        "id": "isruFUrYhO9w"
      }
    },
    {
      "cell_type": "markdown",
      "source": [
        "To find all customers whose first name starts with **\"a\"**, you can use the `LIKE` operator with a wildcard `%` in the `customer` table.\n",
        "\n",
        "---\n",
        "\n",
        "### ✅ SQL Query:\n",
        "\n",
        "```sql\n",
        "SELECT *\n",
        "FROM customer\n",
        "WHERE first_name LIKE 'a%';\n",
        "```\n",
        "\n",
        "---\n",
        "\n",
        "### Notes:\n",
        "\n",
        "* This query returns customers with first names starting with lowercase **'a'**.\n",
        "* Depending on your database's case sensitivity, if you want a **case-insensitive** search:\n",
        "\n",
        "  * In **MySQL** (default collation): `LIKE` is case-insensitive.\n",
        "  * In **PostgreSQL**, use `ILIKE` instead:\n",
        "\n",
        "    ```sql\n",
        "    WHERE first_name ILIKE 'a%'\n",
        "    ```\n",
        "\n",
        "---\n",
        "\n",
        "### 📝 Sample Output:\n",
        "\n",
        "| customer\\_id | store\\_id | first\\_name | last\\_name | email                                                                       | address\\_id | active | create\\_date | last\\_update        |\n",
        "| ------------ | --------- | ----------- | ---------- | --------------------------------------------------------------------------- | ----------- | ------ | ------------ | ------------------- |\n",
        "| 3            | 1         | AMY         | ALLEN      | [AMY.ALLEN@sakilacustomer.org](mailto:AMY.ALLEN@sakilacustomer.org)         | 7           | 1      | 2006-02-14   | 2021-06-15 04:34:33 |\n",
        "| 8            | 2         | ALAN        | ANDERSON   | [ALAN.ANDERSON@sakilacustomer.org](mailto:ALAN.ANDERSON@sakilacustomer.org) | 11          | 1      | 2006-02-14   | 2021-06-15 04:34:33 |\n",
        "| ...          | ...       | ...         | ...        | ...                                                                         | ...         | ...    | ...          | ...                 |\n",
        "\n"
      ],
      "metadata": {
        "id": "J8wJyuxhgFZa"
      }
    },
    {
      "cell_type": "markdown",
      "source": [
        "14- Find all customers whose first name ends with \"a\".\n"
      ],
      "metadata": {
        "id": "Pl234v0DgFVD"
      }
    },
    {
      "cell_type": "markdown",
      "source": [
        "To find all customers whose **first name ends with \"a\"**, you can use the `LIKE` operator with the `%` wildcard before the letter `a`.\n",
        "\n",
        "---\n",
        "\n",
        "### ✅ SQL Query:\n",
        "\n",
        "```sql\n",
        "SELECT *\n",
        "FROM customer\n",
        "WHERE first_name LIKE '%a';\n",
        "```\n",
        "\n",
        "---\n",
        "\n",
        "### Notes:\n",
        "\n",
        "* `%a` means any sequence of characters ending with `a`.\n",
        "* Case sensitivity depends on the database:\n",
        "\n",
        "  * In **MySQL** (default), `LIKE` is case-insensitive.\n",
        "  * In **PostgreSQL**, for case-insensitive, use `ILIKE`:\n",
        "\n",
        "    ```sql\n",
        "    WHERE first_name ILIKE '%a'\n",
        "    ```\n",
        "\n",
        "---\n",
        "\n",
        "### 📝 Sample Output:\n",
        "\n",
        "| customer\\_id | store\\_id | first\\_name | last\\_name | email                                                                         | address\\_id | active | create\\_date | last\\_update        |\n",
        "| ------------ | --------- | ----------- | ---------- | ----------------------------------------------------------------------------- | ----------- | ------ | ------------ | ------------------- |\n",
        "| 15           | 1         | MARIA       | GARCIA     | [MARIA.GARCIA@sakilacustomer.org](mailto:MARIA.GARCIA@sakilacustomer.org)     | 12          | 1      | 2006-02-14   | 2021-06-15 04:34:33 |\n",
        "| 28           | 2         | SONIA       | MARTINEZ   | [SONIA.MARTINEZ@sakilacustomer.org](mailto:SONIA.MARTINEZ@sakilacustomer.org) | 19          | 1      | 2006-02-14   | 2021-06-15 04:34:33 |\n",
        "| ...          | ...       | ...         | ...        | ...                                                                           | ...         | ...    | ...          | ...                 |\n",
        "\n"
      ],
      "metadata": {
        "id": "apefCt6mgFQx"
      }
    },
    {
      "cell_type": "markdown",
      "source": [
        "15- Display the list of first 4 cities which start and end with 'a'.\n"
      ],
      "metadata": {
        "id": "yWngA7FegFNb"
      }
    },
    {
      "cell_type": "markdown",
      "source": [
        "To display the **first 4 cities** whose names **start and end with 'a'**, you can query the `city` table using the `LIKE` operator with wildcards and limit the results.\n",
        "\n",
        "---\n",
        "\n",
        "### ✅ SQL Query:\n",
        "\n",
        "```sql\n",
        "SELECT city\n",
        "FROM city\n",
        "WHERE city LIKE 'a%' AND city LIKE '%a'\n",
        "LIMIT 4;\n",
        "```\n",
        "\n",
        "---\n",
        "\n",
        "### Explanation:\n",
        "\n",
        "* `city LIKE 'a%'`: City name starts with 'a'.\n",
        "* `city LIKE '%a'`: City name ends with 'a'.\n",
        "* `LIMIT 4`: Return only the first 4 matching records.\n",
        "\n",
        "---\n",
        "\n",
        "### Optional: Case-insensitive search\n",
        "\n",
        "If your database is case-sensitive and you want to ensure case-insensitive matching, use:\n",
        "\n",
        "* **PostgreSQL:**\n",
        "\n",
        "```sql\n",
        "SELECT city\n",
        "FROM city\n",
        "WHERE city ILIKE 'a%' AND city ILIKE '%a'\n",
        "LIMIT 4;\n",
        "```\n",
        "\n",
        "---\n",
        "\n",
        "### 📝 Sample Output:\n",
        "\n",
        "| city     |\n",
        "| -------- |\n",
        "| Atlanta  |\n",
        "| Asmara   |\n",
        "| Ankara   |\n",
        "| Adelaide |\n",
        "\n"
      ],
      "metadata": {
        "id": "BubezFtygFFg"
      }
    },
    {
      "cell_type": "markdown",
      "source": [
        "16- Find all customers whose first name have \"NI\" in any position.\n"
      ],
      "metadata": {
        "id": "snfcFwH_gFA_"
      }
    },
    {
      "cell_type": "markdown",
      "source": [
        "To find all customers whose first name contains **\"NI\"** anywhere (case-sensitive), you can use the `LIKE` operator with `%NI%`.\n",
        "\n",
        "---\n",
        "\n",
        "### ✅ SQL Query:\n",
        "\n",
        "```sql\n",
        "SELECT *\n",
        "FROM customer\n",
        "WHERE first_name LIKE '%NI%';\n",
        "```\n",
        "\n",
        "---\n",
        "\n",
        "### Notes:\n",
        "\n",
        "* `%NI%` matches any first name containing the substring `\"NI\"` anywhere.\n",
        "* Case sensitivity depends on your database:\n",
        "\n",
        "  * In **MySQL** (default collation), this is usually **case-insensitive**, so it will match \"Nina\", \"Anita\", \"Bernie\", etc.\n",
        "  * In **PostgreSQL**, use `ILIKE` for case-insensitive search:\n",
        "\n",
        "```sql\n",
        "WHERE first_name ILIKE '%ni%'\n",
        "```\n",
        "\n",
        "---\n",
        "\n",
        "### 📝 Sample Output:\n",
        "\n",
        "| customer\\_id | store\\_id | first\\_name | last\\_name | email                                                                       | address\\_id | active | create\\_date | last\\_update        |\n",
        "| ------------ | --------- | ----------- | ---------- | --------------------------------------------------------------------------- | ----------- | ------ | ------------ | ------------------- |\n",
        "| 52           | 1         | NINA        | WILLIAMS   | [NINA.WILLIAMS@sakilacustomer.org](mailto:NINA.WILLIAMS@sakilacustomer.org) | 22          | 1      | 2006-02-14   | 2021-06-15 04:34:33 |\n",
        "| 103          | 2         | ANITA       | BROWN      | [ANITA.BROWN@sakilacustomer.org](mailto:ANITA.BROWN@sakilacustomer.org)     | 31          | 1      | 2006-02-14   | 2021-06-15 04:34:33 |\n",
        "| ...          | ...       | ...         | ...        | ...                                                                         | ...         | ...    | ...          | ...                 |\n",
        "\n"
      ],
      "metadata": {
        "id": "epDsva-JgE8-"
      }
    },
    {
      "cell_type": "markdown",
      "source": [
        "17-Find all customers whose first name have \"r\" in the second position.\n"
      ],
      "metadata": {
        "id": "BElFA7FxgEtV"
      }
    },
    {
      "cell_type": "markdown",
      "source": [
        "To find all customers whose **first name has \"r\" as the second character**, you can use the `LIKE` operator with an underscore `_` wildcard for a single character, followed by `'r'`, then `%` for the rest.\n",
        "\n",
        "---\n",
        "\n",
        "### ✅ SQL Query:\n",
        "\n",
        "```sql\n",
        "SELECT *\n",
        "FROM customer\n",
        "WHERE first_name LIKE '_r%';\n",
        "```\n",
        "\n",
        "---\n",
        "\n",
        "### Explanation:\n",
        "\n",
        "* `_` matches exactly one character (the first character).\n",
        "* `r` is the second character.\n",
        "* `%` matches any sequence of characters after that.\n",
        "\n",
        "---\n",
        "\n",
        "### Notes on Case Sensitivity:\n",
        "\n",
        "* In **MySQL**, `LIKE` is case-insensitive by default, so this will match `Brian`, `Craig`, `Brenda`, etc.\n",
        "* In **PostgreSQL**, use `ILIKE` for case-insensitive matching:\n",
        "\n",
        "```sql\n",
        "WHERE first_name ILIKE '_r%'\n",
        "```\n",
        "\n",
        "---\n",
        "\n",
        "### 📝 Sample Output:\n",
        "\n",
        "| customer\\_id | store\\_id | first\\_name | last\\_name | email                                                                       | address\\_id | active | create\\_date | last\\_update        |\n",
        "| ------------ | --------- | ----------- | ---------- | --------------------------------------------------------------------------- | ----------- | ------ | ------------ | ------------------- |\n",
        "| 45           | 1         | BRYAN       | SMITH      | [BRYAN.SMITH@sakilacustomer.org](mailto:BRYAN.SMITH@sakilacustomer.org)     | 21          | 1      | 2006-02-14   | 2021-06-15 04:34:33 |\n",
        "| 68           | 2         | CRYSTAL     | JONES      | [CRYSTAL.JONES@sakilacustomer.org](mailto:CRYSTAL.JONES@sakilacustomer.org) | 27          | 1      | 2006-02-14   | 2021-06-15 04:34:33 |\n",
        "\n",
        "---\n",
        "\n"
      ],
      "metadata": {
        "id": "6A7aICHsgEpc"
      }
    },
    {
      "cell_type": "markdown",
      "source": [
        "18- Find all customers whose first name starts with \"a\" and are at least 5 characters in length.\n"
      ],
      "metadata": {
        "id": "Dm0QPydMgEmJ"
      }
    },
    {
      "cell_type": "markdown",
      "source": [
        "19- Find all customers whose first name starts with \"a\" and ends with \"o\".\n"
      ],
      "metadata": {
        "id": "qFDkdF24jAB0"
      }
    },
    {
      "cell_type": "markdown",
      "source": [
        "To find all customers whose first name starts with **\"a\"** and ends with **\"o\"**, you typically use a SQL query with the `LIKE` operator.\n",
        "\n",
        "Here is the general SQL query assuming you have a table named `customers` and a column for the first name called `first_name`:\n",
        "\n",
        "```sql\n",
        "SELECT *\n",
        "FROM customers\n",
        "WHERE first_name LIKE 'a%o';\n",
        "```\n",
        "\n",
        "### Explanation:\n",
        "\n",
        "* `'a%o'` means:\n",
        "\n",
        "  * `a` at the start,\n",
        "  * `%` any sequence of characters (including none),\n",
        "  * `o` at the end.\n",
        "\n",
        "---\n",
        "\n",
        "\n"
      ],
      "metadata": {
        "id": "IRQlSxGPiXWd"
      }
    },
    {
      "cell_type": "markdown",
      "source": [
        "20-Get the films with pg and pg-13 rating using IN operator.\n"
      ],
      "metadata": {
        "id": "60e-HBp1iXSd"
      }
    },
    {
      "cell_type": "markdown",
      "source": [
        "To get films with ratings **PG** and **PG-13** using the `IN` operator, here’s the SQL query assuming your table is called `films` and the rating column is `rating`:\n",
        "\n",
        "```sql\n",
        "SELECT *\n",
        "FROM films\n",
        "WHERE rating IN ('PG', 'PG-13');\n",
        "```\n",
        "\n",
        "This query will select all films where the rating is either \"PG\" or \"PG-13\". Simple and efficient!\n"
      ],
      "metadata": {
        "id": "wpPKzPNHiXLo"
      }
    },
    {
      "cell_type": "markdown",
      "source": [
        "21-Get the films with length between 50 to 100 using between operator.\n"
      ],
      "metadata": {
        "id": "hOLrSHqYiXHG"
      }
    },
    {
      "cell_type": "markdown",
      "source": [
        "Here’s the SQL query to get films with length between 50 and 100 using the `BETWEEN` operator:\n",
        "\n",
        "```sql\n",
        "SELECT *\n",
        "FROM films\n",
        "WHERE length BETWEEN 50 AND 100;\n",
        "```\n",
        "\n",
        "This retrieves all films where the `length` is **from 50 up to 100**, inclusive.\n"
      ],
      "metadata": {
        "id": "bdHqaVG9iXDT"
      }
    },
    {
      "cell_type": "markdown",
      "source": [
        "22-Get the top 50 actors using limit operator.\n"
      ],
      "metadata": {
        "id": "wkh7HgZ3iW-b"
      }
    },
    {
      "cell_type": "markdown",
      "source": [
        "To get the top 50 actors using the `LIMIT` operator, assuming your table is called `actors`, here’s a simple SQL query:\n",
        "\n",
        "```sql\n",
        "SELECT *\n",
        "FROM actors\n",
        "LIMIT 50;\n",
        "```\n",
        "\n",
        "This will return the first 50 rows from the `actors` table.\n",
        "\n",
        "---\n",
        "\n",
        "If you want the \"top\" 50 by some criteria (like alphabetical order by last name or highest rating), you should add an `ORDER BY` clause. For example, to get the first 50 actors ordered by last name:\n",
        "\n",
        "```sql\n",
        "SELECT *\n",
        "FROM actors\n",
        "ORDER BY last_name\n",
        "LIMIT 50;\n",
        "```\n"
      ],
      "metadata": {
        "id": "cMEfHBkgiWfh"
      }
    },
    {
      "cell_type": "markdown",
      "source": [
        "23-Get the distinct film ids from inventory table"
      ],
      "metadata": {
        "id": "f40w1_XlkWGW"
      }
    },
    {
      "cell_type": "markdown",
      "source": [
        "To get the distinct film IDs from the `inventory` table, you can use the `DISTINCT` keyword like this:\n",
        "\n",
        "```sql\n",
        "SELECT DISTINCT film_id\n",
        "FROM inventory;\n",
        "```\n",
        "\n",
        "This query returns all unique `film_id` values from the `inventory` table.\n"
      ],
      "metadata": {
        "id": "dINqhbnTkV0i"
      }
    },
    {
      "cell_type": "markdown",
      "source": [
        "                                                                   *** Function ***"
      ],
      "metadata": {
        "id": "x-Lsw9Vlk5ga"
      }
    },
    {
      "cell_type": "markdown",
      "source": [
        "Basic Aggregate Functions:\n",
        "\n",
        "Question 1:\n",
        "\n",
        "Retrieve the total number of rentals made in the Sakila database.\n",
        "\n",
        "Hint: Use the COUNT() function."
      ],
      "metadata": {
        "id": "auKBIFw3k-k0"
      }
    },
    {
      "cell_type": "markdown",
      "source": [
        "ANSWER:-\n",
        "\n",
        "To retrieve the total number of rentals made in the Sakila database, you can use the `COUNT()` function on the `rental` table, which stores rental records.\n",
        "\n",
        "Here’s the SQL query:\n",
        "\n",
        "```sql\n",
        "SELECT COUNT(*) AS total_rentals\n",
        "FROM rental;\n",
        "```\n",
        "\n",
        "This will return the total count of rows (rentals) in the `rental` table.\n"
      ],
      "metadata": {
        "id": "LPac7x7gk-ev"
      }
    },
    {
      "cell_type": "markdown",
      "source": [
        "Question 2:\n",
        "\n",
        "Find the average rental duration (in days) of movies rented from the Sakila database.\n",
        "\n",
        "Hint: Utilize the AVG() function.\n",
        "\n",
        "String Functions:\n",
        "\n"
      ],
      "metadata": {
        "id": "eBKo2Ingk-Ye"
      }
    },
    {
      "cell_type": "markdown",
      "source": [
        "ANSWER :-\n",
        "\n",
        "To find the average rental duration (in days) of movies rented in the Sakila database, you can use the `AVG()` function on the `rental_duration` column from the `film` table. (Rental duration is typically stored in the `film` table.)\n",
        "\n",
        "Here’s the SQL query:\n",
        "\n",
        "```sql\n",
        "SELECT AVG(rental_duration) AS average_rental_duration\n",
        "FROM film;\n",
        "```\n",
        "\n",
        "This will give you the average rental duration in days.\n",
        "\n",
        "---\n",
        "\n",
        "If you want to calculate the average actual rental time based on `rental_date` and `return_date` from the `rental` table, you would do:\n",
        "\n",
        "```sql\n",
        "SELECT AVG(DATEDIFF(return_date, rental_date)) AS average_rental_time\n",
        "FROM rental\n",
        "WHERE return_date IS NOT NULL;\n",
        "```\n",
        "\n",
        "This calculates the average number of days between rental and return for all completed rentals.\n"
      ],
      "metadata": {
        "id": "78LOJbnMk-Ty"
      }
    },
    {
      "cell_type": "markdown",
      "source": [
        "Question 3:\n",
        "\n",
        "Display the first name and last name of customers in uppercase.\n",
        "\n",
        "Hint: Use the UPPER () function.\n"
      ],
      "metadata": {
        "id": "2kpK9Yi_k-PS"
      }
    },
    {
      "cell_type": "markdown",
      "source": [
        "ANSWER :-\n",
        "\n",
        "To display the first name and last name of customers in uppercase, you can use the `UPPER()` function on both columns.\n",
        "\n",
        "Here’s the SQL query assuming the table is `customer` and the columns are `first_name` and `last_name`:\n",
        "\n",
        "```sql\n",
        "SELECT UPPER(first_name) AS first_name_upper,\n",
        "       UPPER(last_name) AS last_name_upper\n",
        "FROM customer;\n",
        "```\n"
      ],
      "metadata": {
        "id": "BLtZTbHwk-KW"
      }
    },
    {
      "cell_type": "markdown",
      "source": [
        "Question 4:\n",
        "\n",
        "Extract the month from the rental date and display it alongside the rental ID.\n",
        "\n",
        "Hint: Employ the MONTH() function."
      ],
      "metadata": {
        "id": "Y36w-efVk9Zd"
      }
    },
    {
      "cell_type": "markdown",
      "source": [
        "ANSWER :-\n",
        "\n",
        "Here’s the SQL query to extract the month from the rental date and display it alongside the rental ID, assuming the table is `rental` and the columns are `rental_id` and `rental_date`:\n",
        "\n",
        "```sql\n",
        "SELECT rental_id,\n",
        "       MONTH(rental_date) AS rental_month\n",
        "FROM rental;\n",
        "```\n"
      ],
      "metadata": {
        "id": "ih3kZh4sk80D"
      }
    },
    {
      "cell_type": "markdown",
      "source": [
        "GROUP BY:\n",
        "\n",
        "Question 5:\n",
        "\n",
        "Retrieve the count of rentals for each customer (display customer ID and the count of rent\n",
        "\n",
        "Hint: Use COUNT () in conjunction with GROUP BY."
      ],
      "metadata": {
        "id": "FpljOAgEk8r2"
      }
    },
    {
      "cell_type": "markdown",
      "source": [
        "ANSWER :-\n",
        "\n",
        "To retrieve the count of rentals for each customer, showing the customer ID and the number of rentals, use this query:\n",
        "\n",
        "```sql\n",
        "SELECT customer_id,\n",
        "       COUNT(*) AS rental_count\n",
        "FROM rental\n",
        "GROUP BY customer_id;\n",
        "```\n",
        "\n",
        "This groups the rentals by each `customer_id` and counts how many rentals each customer has made.\n"
      ],
      "metadata": {
        "id": "uLvL6CXDk8n7"
      }
    },
    {
      "cell_type": "markdown",
      "source": [
        "Question 6:\n",
        "\n",
        "Find the total revenue generated by each store.\n",
        "\n",
        "Hint: Combine SUM() and GROUP BY.\n"
      ],
      "metadata": {
        "id": "8ROzK3ftk8kK"
      }
    },
    {
      "cell_type": "markdown",
      "source": [
        "ANSWER :-      \n",
        "\n",
        "To find the total revenue generated by each store, you can use the `SUM()` function on the `amount` column (usually in the `payment` table) and group the results by `store_id`.\n",
        "\n",
        "Here’s the SQL query:\n",
        "\n",
        "```sql\n",
        "SELECT store_id,\n",
        "       SUM(amount) AS total_revenue\n",
        "FROM payment\n",
        "GROUP BY store_id;\n",
        "```\n",
        "\n",
        "This will give you the total revenue collected by each store.\n"
      ],
      "metadata": {
        "id": "AlmCrQrLk8dN"
      }
    },
    {
      "cell_type": "markdown",
      "source": [
        "Question 7:\n",
        "\n",
        "Determine the total number of rentals for each category of movies.\n",
        "\n",
        "Hint: JOIN film_category, film, and rental tables, then use COUNT () and GROUP BY.\n"
      ],
      "metadata": {
        "id": "BhIw6HAkk8YK"
      }
    },
    {
      "cell_type": "markdown",
      "source": [
        "ANSWER :-      \n",
        "\n",
        "To determine the total number of rentals for each movie category, you need to join these tables:\n",
        "\n",
        "* `film_category` (links films to categories),\n",
        "* `film` (to connect films),\n",
        "* `inventory` (to link films to inventory items),\n",
        "* `rental` (to get rental info),\n",
        "* `category` (to get category names).\n",
        "\n",
        "Here’s a complete SQL query to get the total rentals per category:\n",
        "\n",
        "```sql\n",
        "SELECT c.name AS category_name,\n",
        "       COUNT(r.rental_id) AS total_rentals\n",
        "FROM category c\n",
        "JOIN film_category fc ON c.category_id = fc.category_id\n",
        "JOIN film f ON fc.film_id = f.film_id\n",
        "JOIN inventory i ON f.film_id = i.film_id\n",
        "JOIN rental r ON i.inventory_id = r.inventory_id\n",
        "GROUP BY c.name\n",
        "ORDER BY total_rentals DESC;\n",
        "```\n",
        "\n",
        "**Explanation:**\n",
        "\n",
        "* Join `category` to `film_category` to get categories of each film.\n",
        "* Join to `film` to connect films.\n",
        "* Join to `inventory` to link films to inventory copies.\n",
        "* Join to `rental` to count rentals per inventory item.\n",
        "* Group by category name and count rentals.\n",
        "\n",
        "Let me know if you want it tailored for a different schema!\n"
      ],
      "metadata": {
        "id": "kMvHA9JTk8T_"
      }
    },
    {
      "cell_type": "markdown",
      "source": [
        "Question 8:\n",
        "\n",
        "Find the average rental rate of movies in each language.\n",
        "\n",
        "Hint: JOIN film and language tables, then use AVG () and GROUP BY."
      ],
      "metadata": {
        "id": "teflXbjjk8PR"
      }
    },
    {
      "cell_type": "markdown",
      "source": [
        "ANSWER :-      \n",
        "\n",
        "To find the average rental rate of movies for each language, you need to join the `film` and `language` tables on `language_id` and then group by the language name.\n",
        "\n",
        "Here’s the SQL query:\n",
        "\n",
        "```sql\n",
        "SELECT l.name AS language,\n",
        "       AVG(f.rental_rate) AS average_rental_rate\n",
        "FROM film f\n",
        "JOIN language l ON f.language_id = l.language_id\n",
        "GROUP BY l.name\n",
        "ORDER BY average_rental_rate DESC;\n",
        "```\n",
        "\n",
        "This will show each language with the average rental rate of its movies.\n"
      ],
      "metadata": {
        "id": "k1Oao_rsn0Wx"
      }
    },
    {
      "cell_type": "markdown",
      "source": [
        "Joins\n",
        "\n",
        "Questions 9-\n",
        "\n",
        "Display the title of the movie, customer s first name, and last name who rented it.\n",
        "\n",
        "Hint: Use JOIN between the film, inventory, rental, and customer tables.\n"
      ],
      "metadata": {
        "id": "pUvBW3sun9NX"
      }
    },
    {
      "cell_type": "markdown",
      "source": [
        "To display the **movie title** along with the **customer's first name and last name** who rented it, you need to join these tables:\n",
        "\n",
        "* `film` (for the movie title),\n",
        "* `inventory` (to link films to inventory items),\n",
        "* `rental` (to get rental details),\n",
        "* `customer` (to get customer names).\n",
        "\n",
        "Here’s the SQL query:\n",
        "\n",
        "```sql\n",
        "SELECT f.title,\n",
        "       c.first_name,\n",
        "       c.last_name\n",
        "FROM film f\n",
        "JOIN inventory i ON f.film_id = i.film_id\n",
        "JOIN rental r ON i.inventory_id = r.inventory_id\n",
        "JOIN customer c ON r.customer_id = c.customer_id;\n",
        "```\n",
        "\n",
        "This will give you the title of each movie along with the first and last name of the customer who rented it.\n"
      ],
      "metadata": {
        "id": "r__uPGTYoTCM"
      }
    },
    {
      "cell_type": "markdown",
      "source": [
        "Question 10:\n",
        "\n",
        "Retrieve the names of all actors who have appeared in the film \"Gone with the Wind.\"\n",
        "\n",
        "Hint: Use JOIN between the film actor, film, and actor tables.\n"
      ],
      "metadata": {
        "id": "Y0PEHbsooS4E"
      }
    },
    {
      "cell_type": "markdown",
      "source": [
        "To retrieve the names of all actors who have appeared in the film **\"Gone with the Wind\"**, you need to join these tables:\n",
        "\n",
        "* `film` (to filter by film title),\n",
        "* `film_actor` (to link films and actors),\n",
        "* `actor` (to get actor names).\n",
        "\n",
        "Here’s the SQL query:\n",
        "\n",
        "```sql\n",
        "SELECT a.first_name, a.last_name\n",
        "FROM actor a\n",
        "JOIN film_actor fa ON a.actor_id = fa.actor_id\n",
        "JOIN film f ON fa.film_id = f.film_id\n",
        "WHERE f.title = 'Gone with the Wind';\n",
        "```\n",
        "\n",
        "This will return the first and last names of all actors who acted in *Gone with the Wind*.\n"
      ],
      "metadata": {
        "id": "uHU_0kj9oSzW"
      }
    },
    {
      "cell_type": "markdown",
      "source": [
        "Question 11:\n",
        "\n",
        "Retrieve the customer names along with the total amount they've spent on rentals.\n",
        "\n",
        "Hint: JOIN customer, payment, and rental tables, then use SUM() and GROUP BY.\n"
      ],
      "metadata": {
        "id": "JNFIuvoHoSua"
      }
    },
    {
      "cell_type": "markdown",
      "source": [
        "To retrieve customer names along with the total amount they've spent on rentals, you can join the `customer`, `payment`, and `rental` tables and then use `SUM()` on the payment amount grouped by customer.\n",
        "\n",
        "Here’s the SQL query:\n",
        "\n",
        "```sql\n",
        "SELECT c.first_name,\n",
        "       c.last_name,\n",
        "       SUM(p.amount) AS total_spent\n",
        "FROM customer c\n",
        "JOIN payment p ON c.customer_id = p.customer_id\n",
        "JOIN rental r ON p.rental_id = r.rental_id\n",
        "GROUP BY c.customer_id, c.first_name, c.last_name\n",
        "ORDER BY total_spent DESC;\n",
        "```\n",
        "\n",
        "This will give you each customer's name and the total amount they have paid for rentals, ordered from highest spender to lowest.\n"
      ],
      "metadata": {
        "id": "23k2ohfXoSjc"
      }
    },
    {
      "cell_type": "markdown",
      "source": [
        "Question 12:\n",
        "\n",
        "List the titles of movies rented by each customer in a particular city (e.g., \"London').\n",
        "\n",
        "Hint: JOIN customer, address, city, rental, inventory, and film tables, then use GROUP BY.\n",
        "\n",
        "Advanced Joins and GROUP BY:\n",
        "\n"
      ],
      "metadata": {
        "id": "-og1U7BloSem"
      }
    },
    {
      "cell_type": "markdown",
      "source": [
        "To list the titles of movies rented by each customer in a particular city (e.g., **London**), you need to join these tables:\n",
        "\n",
        "* `customer` (for customer info),\n",
        "* `address` (to get city info),\n",
        "* `city` (to filter by city name),\n",
        "* `rental` (to get rental records),\n",
        "* `inventory` (to link rentals to films),\n",
        "* `film` (to get film titles).\n",
        "\n",
        "Here’s the SQL query:\n",
        "\n",
        "```sql\n",
        "SELECT c.customer_id,\n",
        "       c.first_name,\n",
        "       c.last_name,\n",
        "       GROUP_CONCAT(f.title SEPARATOR ', ') AS rented_movies\n",
        "FROM customer c\n",
        "JOIN address a ON c.address_id = a.address_id\n",
        "JOIN city ci ON a.city_id = ci.city_id\n",
        "JOIN rental r ON c.customer_id = r.customer_id\n",
        "JOIN inventory i ON r.inventory_id = i.inventory_id\n",
        "JOIN film f ON i.film_id = f.film_id\n",
        "WHERE ci.city = 'London'\n",
        "GROUP BY c.customer_id, c.first_name, c.last_name\n",
        "ORDER BY c.customer_id;\n",
        "```\n",
        "\n",
        "### Explanation:\n",
        "\n",
        "* Joins connect customers to their addresses and cities.\n",
        "* Filter for customers living in **London**.\n",
        "* Join rental and inventory to get the films rented.\n",
        "* `GROUP_CONCAT()` aggregates all rented movie titles per customer as a comma-separated list.\n",
        "* Group by customer to list rented movies per customer.\n",
        "\n"
      ],
      "metadata": {
        "id": "ILn_2sbhoSZu"
      }
    },
    {
      "cell_type": "markdown",
      "source": [
        "                                                   ***Advanced Joins and Group By ***"
      ],
      "metadata": {
        "id": "di47OjnhphPU"
      }
    },
    {
      "cell_type": "markdown",
      "source": [
        "Question 13:\n",
        "\n",
        "Display the top 5 rented movies along with the number of times they've been rented.\n",
        "\n",
        "Hint: JOIN film, inventory, and rental tables, then use COUNT () and GROUP BY, and limit the results."
      ],
      "metadata": {
        "id": "6XP_g0p6oSPT"
      }
    },
    {
      "cell_type": "markdown",
      "source": [
        "To display the top 5 rented movies along with the number of times they've been rented, you can join `film`, `inventory`, and `rental`, then count rentals per movie, group by movie title, and limit the results to 5.\n",
        "\n",
        "Here’s the SQL query:\n",
        "\n",
        "```sql\n",
        "SELECT f.title,\n",
        "       COUNT(r.rental_id) AS rental_count\n",
        "FROM film f\n",
        "JOIN inventory i ON f.film_id = i.film_id\n",
        "JOIN rental r ON i.inventory_id = r.inventory_id\n",
        "GROUP BY f.title\n",
        "ORDER BY rental_count DESC\n",
        "LIMIT 5;\n",
        "```\n",
        "\n",
        "This will show the 5 most rented movies and how many times each was rented.\n"
      ],
      "metadata": {
        "id": "ZujshjFboSKw"
      }
    },
    {
      "cell_type": "markdown",
      "source": [
        "Question 14:\n",
        "\n",
        "Determine the customers who have rented movies from both stores (store ID 1 and store ID 2).\n",
        "\n",
        "Hint: Use JOINS with rental, inventory, and customer tables and consider COUNT() and GROUP BY."
      ],
      "metadata": {
        "id": "xfMjhR46oSF1"
      }
    },
    {
      "cell_type": "markdown",
      "source": [
        "To find customers who have rented movies from **both stores** (store ID 1 and 2), you need to:\n",
        "\n",
        "1. Join the `rental`, `inventory`, and `customer` tables.\n",
        "2. Determine from which store each rental came.\n",
        "3. Group rentals by customer.\n",
        "4. Use a `HAVING` clause to filter customers who rented from **both** stores.\n",
        "\n",
        "### ✅ SQL Query:\n",
        "\n",
        "```sql\n",
        "SELECT r.customer_id,\n",
        "       c.first_name,\n",
        "       c.last_name,\n",
        "       COUNT(DISTINCT i.store_id) AS store_count\n",
        "FROM rental r\n",
        "JOIN inventory i ON r.inventory_id = i.inventory_id\n",
        "JOIN customer c ON r.customer_id = c.customer_id\n",
        "GROUP BY r.customer_id, c.first_name, c.last_name\n",
        "HAVING COUNT(DISTINCT i.store_id) = 2;\n",
        "```\n",
        "\n",
        "### ✅ Explanation:\n",
        "\n",
        "* `COUNT(DISTINCT i.store_id)` counts how many different stores each customer rented from.\n",
        "* The `HAVING` clause ensures only those who rented from **both store 1 and store 2** (i.e., 2 unique store IDs) are returned.\n",
        "\n"
      ],
      "metadata": {
        "id": "pAkA1nMroR9S"
      }
    },
    {
      "cell_type": "markdown",
      "source": [
        "                                                             *** Windows Function ***"
      ],
      "metadata": {
        "id": "MEH81jtGoR3s"
      }
    },
    {
      "cell_type": "markdown",
      "source": [
        "1. Rank the customers based on the total amount they've spent on rentals."
      ],
      "metadata": {
        "id": "gZe8wFjOqhF6"
      }
    },
    {
      "cell_type": "markdown",
      "source": [
        "To **rank customers based on the total amount** they've spent on rentals, you can use the `RANK()` window function along with `SUM()` and a `GROUP BY`.\n",
        "\n",
        "### ✅ SQL Query (for MySQL 8.0+, PostgreSQL, SQL Server):\n",
        "\n",
        "```sql\n",
        "SELECT\n",
        "    c.customer_id,\n",
        "    c.first_name,\n",
        "    c.last_name,\n",
        "    SUM(p.amount) AS total_spent,\n",
        "    RANK() OVER (ORDER BY SUM(p.amount) DESC) AS customer_rank\n",
        "FROM customer c\n",
        "JOIN payment p ON c.customer_id = p.customer_id\n",
        "GROUP BY c.customer_id, c.first_name, c.last_name\n",
        "ORDER BY customer_rank;\n",
        "```\n",
        "\n",
        "### ✅ Explanation:\n",
        "\n",
        "* `SUM(p.amount)` calculates the total amount spent per customer.\n",
        "* `RANK() OVER (ORDER BY SUM(p.amount) DESC)` ranks customers from highest to lowest spender.\n",
        "* `GROUP BY` is used to aggregate payments per customer.\n",
        "\n",
        "Let me know if you're using an older version of MySQL (pre-8.0) that doesn't support window functions — I can give you an alternative!\n"
      ],
      "metadata": {
        "id": "cVmkimyIoRs8"
      }
    },
    {
      "cell_type": "markdown",
      "source": [
        "2. Calculate the cumulative revenue generated by each film over time."
      ],
      "metadata": {
        "id": "A8WH0VGqoRij"
      }
    },
    {
      "cell_type": "markdown",
      "source": [
        "To **calculate the cumulative revenue generated by each film over time**, you'll need to:\n",
        "\n",
        "1. Join the relevant tables: `film`, `inventory`, `rental`, and `payment`.\n",
        "2. Use a **window function** (`SUM() OVER (...)`) to compute cumulative revenue.\n",
        "3. Partition by `film_id` and order by `payment_date` to track revenue growth over time.\n",
        "\n",
        "---\n",
        "\n",
        "### ✅ SQL Query (MySQL 8.0+ / PostgreSQL / SQL Server):\n",
        "\n",
        "```sql\n",
        "SELECT\n",
        "    f.film_id,\n",
        "    f.title,\n",
        "    p.payment_date,\n",
        "    p.amount,\n",
        "    SUM(p.amount) OVER (\n",
        "        PARTITION BY f.film_id\n",
        "        ORDER BY p.payment_date\n",
        "        ROWS BETWEEN UNBOUNDED PRECEDING AND CURRENT ROW\n",
        "    ) AS cumulative_revenue\n",
        "FROM film f\n",
        "JOIN inventory i ON f.film_id = i.film_id\n",
        "JOIN rental r ON i.inventory_id = r.inventory_id\n",
        "JOIN payment p ON r.rental_id = p.rental_id\n",
        "ORDER BY f.film_id, p.payment_date;\n",
        "```\n",
        "\n",
        "---\n",
        "\n",
        "### ✅ Explanation:\n",
        "\n",
        "* `PARTITION BY f.film_id`: groups the data by each film.\n",
        "* `ORDER BY p.payment_date`: orders the revenue accumulation over time.\n",
        "* `SUM(...) OVER (...)`: calculates the running total (cumulative revenue).\n",
        "* You get a row for each payment showing how much total revenue the film had earned up to that point.\n",
        "\n",
        "Let me know if you want this grouped by month or need a version for an older SQL engine without window functions.\n"
      ],
      "metadata": {
        "id": "3Zem2qsvoRd0"
      }
    },
    {
      "cell_type": "markdown",
      "source": [
        "3. Determine the average rental duration for each film, considering films with similar lengths.\n"
      ],
      "metadata": {
        "id": "C6TtuGowoRWr"
      }
    },
    {
      "cell_type": "markdown",
      "source": [
        "To **determine the average rental duration for each film**, considering **films with similar lengths**, you can:\n",
        "\n",
        "1. Group films based on their `length` (e.g., into bins or ranges),\n",
        "2. Calculate the average rental duration (from `rental_date` to `return_date`),\n",
        "3. Group results by film and possibly by length range.\n",
        "\n",
        "---\n",
        "\n",
        "### ✅ Step-by-step SQL Query:\n",
        "\n",
        "This version:\n",
        "\n",
        "* Calculates **rental duration** in days per rental,\n",
        "* Groups by `film` and its `length`,\n",
        "* Shows average rental duration per film.\n",
        "\n",
        "```sql\n",
        "SELECT\n",
        "    f.film_id,\n",
        "    f.title,\n",
        "    f.length,\n",
        "    AVG(DATEDIFF(r.return_date, r.rental_date)) AS avg_rental_duration\n",
        "FROM film f\n",
        "JOIN inventory i ON f.film_id = i.film_id\n",
        "JOIN rental r ON i.inventory_id = r.inventory_id\n",
        "WHERE r.return_date IS NOT NULL\n",
        "GROUP BY f.film_id, f.title, f.length\n",
        "ORDER BY f.length, avg_rental_duration DESC;\n",
        "```\n",
        "\n",
        "---\n",
        "\n",
        "### ✅ Optional: Bucket Films by Length Range\n",
        "\n",
        "If you want to **group similar-length films** (e.g., 0–60, 61–90, etc.) and compare average durations:\n",
        "\n",
        "```sql\n",
        "SELECT\n",
        "    CASE\n",
        "        WHEN f.length <= 60 THEN '0-60 mins'\n",
        "        WHEN f.length <= 90 THEN '61-90 mins'\n",
        "        WHEN f.length <= 120 THEN '91-120 mins'\n",
        "        ELSE '121+ mins'\n",
        "    END AS length_range,\n",
        "    AVG(DATEDIFF(r.return_date, r.rental_date)) AS avg_rental_duration\n",
        "FROM film f\n",
        "JOIN inventory i ON f.film_id = i.film_id\n",
        "JOIN rental r ON i.inventory_id = r.inventory_id\n",
        "WHERE r.return_date IS NOT NULL\n",
        "GROUP BY length_range\n",
        "ORDER BY length_range;\n",
        "```\n",
        "\n",
        "Let me know which version fits your goal better—or if you'd like both film-level and range-level views combined!\n"
      ],
      "metadata": {
        "id": "nuIyvVsroRMU"
      }
    },
    {
      "cell_type": "markdown",
      "source": [
        "4. Identify the top 3 films in each category based on their rental counts.\n"
      ],
      "metadata": {
        "id": "urYnKY_0oRHb"
      }
    },
    {
      "cell_type": "markdown",
      "source": [
        "To **identify the top 3 films in each category** based on **rental counts**, you can:\n",
        "\n",
        "1. Join the following tables:\n",
        "\n",
        "   * `category` (for category name),\n",
        "   * `film_category` (to link films to categories),\n",
        "   * `film`,\n",
        "   * `inventory`,\n",
        "   * `rental`.\n",
        "2. Count the number of rentals per film.\n",
        "3. Use the `RANK()` or `DENSE_RANK()` window function to rank films within each category.\n",
        "4. Filter the result to get only the top 3 films per category.\n",
        "\n",
        "---\n",
        "\n",
        "### ✅ SQL Query (MySQL 8.0+ / PostgreSQL / SQL Server):\n",
        "\n",
        "```sql\n",
        "SELECT\n",
        "    c.name AS category,\n",
        "    f.title,\n",
        "    COUNT(r.rental_id) AS rental_count,\n",
        "    RANK() OVER (\n",
        "        PARTITION BY c.name\n",
        "        ORDER BY COUNT(r.rental_id) DESC\n",
        "    ) AS rank_in_category\n",
        "FROM category c\n",
        "JOIN film_category fc ON c.category_id = fc.category_id\n",
        "JOIN film f ON fc.film_id = f.film_id\n",
        "JOIN inventory i ON f.film_id = i.film_id\n",
        "JOIN rental r ON i.inventory_id = r.inventory_id\n",
        "GROUP BY c.name, f.title\n",
        "HAVING rank_in_category <= 3\n",
        "ORDER BY c.name, rank_in_category;\n",
        "```\n",
        "\n",
        "---\n",
        "\n",
        "### ✅ Explanation:\n",
        "\n",
        "* `RANK() OVER (PARTITION BY c.name ORDER BY COUNT(...) DESC)` ranks each film within its category based on rental count.\n",
        "* `HAVING rank_in_category <= 3` ensures you only get the top 3 per category.\n",
        "* `GROUP BY c.name, f.title` is needed to count rentals per film per category.\n",
        "\n",
        "Let me know if you'd like to use `DENSE_RANK()` instead (to allow ties without skipping ranks) or if you're using an older version of SQL that lacks window functions—I can provide an alternative!\n"
      ],
      "metadata": {
        "id": "dsw-z9CcoRCs"
      }
    },
    {
      "cell_type": "markdown",
      "source": [
        "5. Calculate the difference in rental counts between each customer's total rentals and the average rentals across all customers.\n"
      ],
      "metadata": {
        "id": "q4DTvsbYoQ4q"
      }
    },
    {
      "cell_type": "markdown",
      "source": [
        "To **calculate the difference in rental counts** between each customer's total rentals and the **average number of rentals across all customers**, you'll:\n",
        "\n",
        "1. Count total rentals per customer.\n",
        "2. Calculate the average rental count across all customers.\n",
        "3. Subtract the average from each customer's total.\n",
        "\n",
        "---\n",
        "\n",
        "### ✅ SQL Query (MySQL 8.0+ / PostgreSQL / SQL Server):\n",
        "\n",
        "```sql\n",
        "WITH customer_rentals AS (\n",
        "    SELECT\n",
        "        customer_id,\n",
        "        COUNT(*) AS total_rentals\n",
        "    FROM rental\n",
        "    GROUP BY customer_id\n",
        "),\n",
        "avg_rentals AS (\n",
        "    SELECT AVG(total_rentals) AS avg_rental_count\n",
        "    FROM customer_rentals\n",
        ")\n",
        "SELECT\n",
        "    cr.customer_id,\n",
        "    cr.total_rentals,\n",
        "    ar.avg_rental_count,\n",
        "    cr.total_rentals - ar.avg_rental_count AS difference_from_avg\n",
        "FROM customer_rentals cr\n",
        "CROSS JOIN avg_rentals ar\n",
        "ORDER BY difference_from_avg DESC;\n",
        "```\n",
        "\n",
        "---\n",
        "\n",
        "### ✅ Explanation:\n",
        "\n",
        "* `customer_rentals`: gets total rentals per customer.\n",
        "* `avg_rentals`: computes the average across all customers.\n",
        "* Final SELECT calculates the difference between each customer's rental count and the average.\n",
        "* `CROSS JOIN` is used to apply the average value to all rows.\n",
        "\n"
      ],
      "metadata": {
        "id": "GM0qaWQVoQz-"
      }
    },
    {
      "cell_type": "markdown",
      "source": [
        "6. Find the monthly revenue trend for the entire rental store over time.\n"
      ],
      "metadata": {
        "id": "_VlapkuSoQon"
      }
    },
    {
      "cell_type": "markdown",
      "source": [
        "To find the **monthly revenue trend** for the entire rental store over time, you can:\n",
        "\n",
        "1. Use the `payment` table (contains revenue per rental).\n",
        "2. Extract **year** and **month** from the `payment_date`.\n",
        "3. Use `SUM(amount)` to calculate monthly revenue.\n",
        "4. Group by year and month for a proper time series.\n",
        "\n",
        "---\n",
        "\n",
        "### ✅ SQL Query (works for MySQL, PostgreSQL, SQL Server):\n",
        "\n",
        "```sql\n",
        "SELECT\n",
        "    YEAR(payment_date) AS year,\n",
        "    MONTH(payment_date) AS month,\n",
        "    SUM(amount) AS monthly_revenue\n",
        "FROM payment\n",
        "GROUP BY YEAR(payment_date), MONTH(payment_date)\n",
        "ORDER BY year, month;\n",
        "```\n",
        "\n",
        "---\n",
        "\n",
        "### ✅ Output Example:\n",
        "\n",
        "| year | month | monthly\\_revenue |\n",
        "| ---- | ----- | ---------------- |\n",
        "| 2005 | 5     | 729.85           |\n",
        "| 2005 | 6     | 1834.90          |\n",
        "| ...  | ...   | ...              |\n",
        "\n",
        "---\n",
        "\n",
        "### 🔁 Optional: Format as \"YYYY-MM\" (if supported):\n",
        "\n",
        "```sql\n",
        "SELECT\n",
        "    DATE_FORMAT(payment_date, '%Y-%m') AS month,\n",
        "    SUM(amount) AS monthly_revenue\n",
        "FROM payment\n",
        "GROUP BY month\n",
        "ORDER BY month;\n",
        "```\n",
        "\n"
      ],
      "metadata": {
        "id": "g5fh9tM4oQcO"
      }
    },
    {
      "cell_type": "markdown",
      "source": [
        "7. Identify the customers whose total spending on rentals falls within the top 20% of all customers."
      ],
      "metadata": {
        "id": "eghNtmYuoQXC"
      }
    },
    {
      "cell_type": "markdown",
      "source": [
        "To **identify customers whose total spending falls within the top 20%**, you need to:\n",
        "\n",
        "1. Calculate total spending per customer.\n",
        "2. Rank or percentile each customer based on total spending.\n",
        "3. Filter those in the **top 20%**.\n",
        "\n",
        "---\n",
        "\n",
        "### ✅ SQL Query (using `PERCENT_RANK()` – MySQL 8.0+, PostgreSQL, SQL Server):\n",
        "\n",
        "```sql\n",
        "WITH customer_spending AS (\n",
        "    SELECT\n",
        "        c.customer_id,\n",
        "        c.first_name,\n",
        "        c.last_name,\n",
        "        SUM(p.amount) AS total_spent\n",
        "    FROM customer c\n",
        "    JOIN payment p ON c.customer_id = p.customer_id\n",
        "    GROUP BY c.customer_id, c.first_name, c.last_name\n",
        "),\n",
        "ranked_customers AS (\n",
        "    SELECT *,\n",
        "           PERCENT_RANK() OVER (ORDER BY total_spent DESC) AS percentile\n",
        "    FROM customer_spending\n",
        ")\n",
        "SELECT customer_id, first_name, last_name, total_spent\n",
        "FROM ranked_customers\n",
        "WHERE percentile <= 0.20\n",
        "ORDER BY total_spent DESC;\n",
        "```\n",
        "\n",
        "---\n",
        "\n",
        "### ✅ Explanation:\n",
        "\n",
        "* `customer_spending`: gets total spending per customer.\n",
        "* `PERCENT_RANK()` ranks customers by spending from highest to lowest.\n",
        "* `percentile <= 0.20`: selects only the **top 20% of spenders** (since highest spenders have lowest percentile values when ordered descending).\n"
      ],
      "metadata": {
        "id": "bD1SEnh8oQQy"
      }
    },
    {
      "cell_type": "markdown",
      "source": [
        "8. Calculate the running total of rentals per category, ordered by rental count.\n"
      ],
      "metadata": {
        "id": "E_87imFGn9Ek"
      }
    },
    {
      "cell_type": "markdown",
      "source": [
        "To **calculate the running total of rentals per category**, ordered by each category's **rental count**, follow these steps:\n",
        "\n",
        "1. Join the necessary tables:\n",
        "\n",
        "   * `category`\n",
        "   * `film_category`\n",
        "   * `film`\n",
        "   * `inventory`\n",
        "   * `rental`\n",
        "2. Count the number of rentals per category.\n",
        "3. Use `SUM(...) OVER (...)` to compute the **running total**.\n",
        "\n",
        "---\n",
        "\n",
        "### ✅ SQL Query (MySQL 8.0+, PostgreSQL, SQL Server):\n",
        "\n",
        "```sql\n",
        "WITH category_rentals AS (\n",
        "    SELECT\n",
        "        c.name AS category_name,\n",
        "        COUNT(r.rental_id) AS rental_count\n",
        "    FROM category c\n",
        "    JOIN film_category fc ON c.category_id = fc.category_id\n",
        "    JOIN film f ON fc.film_id = f.film_id\n",
        "    JOIN inventory i ON f.film_id = i.film_id\n",
        "    JOIN rental r ON i.inventory_id = r.inventory_id\n",
        "    GROUP BY c.name\n",
        ")\n",
        "SELECT\n",
        "    category_name,\n",
        "    rental_count,\n",
        "    SUM(rental_count) OVER (ORDER BY rental_count DESC) AS running_total\n",
        "FROM category_rentals\n",
        "ORDER BY rental_count DESC;\n",
        "```\n",
        "\n",
        "---\n",
        "\n",
        "### ✅ Output Example:\n",
        "\n",
        "| category\\_name | rental\\_count | running\\_total |\n",
        "| -------------- | ------------- | -------------- |\n",
        "| Action         | 1200          | 1200           |\n",
        "| Comedy         | 1100          | 2300           |\n",
        "| Drama          | 950           | 3250           |\n",
        "| ...            | ...           | ...            |\n",
        "\n",
        "---\n",
        "\n",
        "This gives you a cumulative total of rentals per category in descending order of popularity.\n",
        "\n"
      ],
      "metadata": {
        "id": "vtIIyZw3n880"
      }
    },
    {
      "cell_type": "markdown",
      "source": [
        "9. Find the films that have been rented less than the average rental count for their respective categories.\n"
      ],
      "metadata": {
        "id": "bChLsF5gslxC"
      }
    },
    {
      "cell_type": "markdown",
      "source": [
        "To find **films that have been rented less than the average rental count** for their **respective categories**, you'll:\n",
        "\n",
        "1. Count rentals per film.\n",
        "2. Calculate average rental count per category.\n",
        "3. Compare each film's rental count to its category's average.\n",
        "\n",
        "---\n",
        "\n",
        "### ✅ SQL Query (MySQL 8.0+, PostgreSQL, SQL Server):\n",
        "\n",
        "```sql\n",
        "WITH film_rentals AS (\n",
        "    SELECT\n",
        "        f.film_id,\n",
        "        f.title,\n",
        "        c.name AS category_name,\n",
        "        COUNT(r.rental_id) AS rental_count\n",
        "    FROM film f\n",
        "    JOIN film_category fc ON f.film_id = fc.film_id\n",
        "    JOIN category c ON fc.category_id = c.category_id\n",
        "    JOIN inventory i ON f.film_id = i.film_id\n",
        "    JOIN rental r ON i.inventory_id = r.inventory_id\n",
        "    GROUP BY f.film_id, f.title, c.name\n",
        "),\n",
        "category_avg AS (\n",
        "    SELECT\n",
        "        category_name,\n",
        "        AVG(rental_count) AS avg_rental_count\n",
        "    FROM film_rentals\n",
        "    GROUP BY category_name\n",
        ")\n",
        "SELECT\n",
        "    fr.film_id,\n",
        "    fr.title,\n",
        "    fr.category_name,\n",
        "    fr.rental_count,\n",
        "    ca.avg_rental_count\n",
        "FROM film_rentals fr\n",
        "JOIN category_avg ca\n",
        "  ON fr.category_name = ca.category_name\n",
        "WHERE fr.rental_count < ca.avg_rental_count\n",
        "ORDER BY fr.category_name, fr.rental_count;\n",
        "```\n",
        "\n",
        "---\n",
        "\n",
        "### ✅ Explanation:\n",
        "\n",
        "* `film_rentals`: gets rental count for each film.\n",
        "* `category_avg`: computes average rental count per category.\n",
        "* Final `SELECT` joins the two and filters for films **below the average**.\n",
        "\n"
      ],
      "metadata": {
        "id": "tLIGHFHpn8za"
      }
    },
    {
      "cell_type": "markdown",
      "source": [
        "10. Identify the top 5 months with the highest revenue and display the revenue generated in each month"
      ],
      "metadata": {
        "id": "nT9UeaHGn8s-"
      }
    },
    {
      "cell_type": "markdown",
      "source": [
        "To identify the **top 5 months with the highest revenue** and display the revenue generated in each, you can:\n",
        "\n",
        "1. Aggregate payments by month and year.\n",
        "2. Order by revenue descending.\n",
        "3. Limit the results to the top 5.\n",
        "\n",
        "---\n",
        "\n",
        "### ✅ SQL Query (MySQL, PostgreSQL, SQL Server):\n",
        "\n",
        "```sql\n",
        "SELECT\n",
        "    DATE_FORMAT(payment_date, '%Y-%m') AS month,\n",
        "    SUM(amount) AS total_revenue\n",
        "FROM payment\n",
        "GROUP BY month\n",
        "ORDER BY total_revenue DESC\n",
        "LIMIT 5;\n",
        "```\n",
        "\n",
        "---\n",
        "\n",
        "### Explanation:\n",
        "\n",
        "* `DATE_FORMAT(payment_date, '%Y-%m')` groups payments by month (format like \"2025-05\").\n",
        "* `SUM(amount)` sums the revenue for each month.\n",
        "* Results are ordered to show the months with the highest revenue first.\n",
        "* `LIMIT 5` restricts output to the top 5 months.\n",
        "\n",
        "---\n",
        "\n",
        "If your SQL dialect doesn’t support `DATE_FORMAT()`, you can use:\n",
        "\n",
        "* **PostgreSQL:** `TO_CHAR(payment_date, 'YYYY-MM')`\n",
        "* **SQL Server:** `FORMAT(payment_date, 'yyyy-MM')`\n",
        "\n",
        "\n"
      ],
      "metadata": {
        "id": "tBsUVnSDn8nz"
      }
    },
    {
      "cell_type": "markdown",
      "source": [
        "                                                       *** Noralization & CTE ***\n",
        "                                                       "
      ],
      "metadata": {
        "id": "u3gG6eRqoPE4"
      }
    },
    {
      "cell_type": "markdown",
      "source": [
        "\n",
        "1. First Normal Form (INF):\n",
        "\n",
        "a. Identify a table in the Sakila database that violates INF. Explain how you would normalize it to achieve INF.\n"
      ],
      "metadata": {
        "id": "ArmnGxjXoPBr"
      }
    },
    {
      "cell_type": "markdown",
      "source": [
        "### 1. First Normal Form (1NF) Violation in Sakila (Mavenmovies) Database\n",
        "\n",
        "**Definition Recap:**\n",
        "First Normal Form (1NF) requires that:\n",
        "\n",
        "* Each column contains only atomic (indivisible) values.\n",
        "* Each record is unique.\n",
        "* There are no repeating groups or arrays.\n",
        "\n",
        "---\n",
        "\n",
        "### 🔍 Identified Table That Violates 1NF:\n",
        "\n",
        "**`actor_award` table**\n",
        "\n",
        "**Definition:**\n",
        "\n",
        "```sql\n",
        "CREATE TABLE actor_award (\n",
        "  actor_award_id SMALLINT UNSIGNED NOT NULL AUTO_INCREMENT,\n",
        "  actor_id SMALLINT,\n",
        "  first_name VARCHAR(45) NOT NULL,\n",
        "  last_name VARCHAR(45) NOT NULL,\n",
        "  awards VARCHAR(45) NOT NULL,\n",
        "  last_update TIMESTAMP NOT NULL DEFAULT CURRENT_TIMESTAMP ON UPDATE CURRENT_TIMESTAMP,\n",
        "  PRIMARY KEY  (actor_award_id),\n",
        "  KEY idx_actor_last_name (last_name)\n",
        ");\n",
        "```\n",
        "\n",
        "**Example Data:**\n",
        "\n",
        "```sql\n",
        "(1,12,'KARL','BERRY','Emmy, Oscar, Tony ','2006-02-15 04:34:33')\n",
        "```\n",
        "\n",
        "---\n",
        "\n",
        "### 🚫 Why It Violates 1NF:\n",
        "\n",
        "* The **`awards`** column contains **multiple values in a single field**, such as `'Emmy, Oscar, Tony'`.\n",
        "* This breaks the rule of atomicity — each attribute must contain only **one value**.\n",
        "\n",
        "---\n",
        "\n",
        "### ✅ How to Normalize to 1NF:\n",
        "\n",
        "Split the multi-valued `awards` field into a separate table that allows storing one award per row.\n",
        "\n",
        "---\n",
        "\n",
        "### 🔁 Normalized Schema:\n",
        "\n",
        "#### a. `actor_award` (simplified to reference only actor info)\n",
        "\n",
        "```sql\n",
        "CREATE TABLE actor_award (\n",
        "  actor_award_id SMALLINT UNSIGNED NOT NULL AUTO_INCREMENT,\n",
        "  actor_id SMALLINT,\n",
        "  first_name VARCHAR(45) NOT NULL,\n",
        "  last_name VARCHAR(45) NOT NULL,\n",
        "  last_update TIMESTAMP NOT NULL DEFAULT CURRENT_TIMESTAMP ON UPDATE CURRENT_TIMESTAMP,\n",
        "  PRIMARY KEY (actor_award_id)\n",
        ");\n",
        "```\n",
        "\n",
        "#### b. `award` (new table for atomic award data)\n",
        "\n",
        "```sql\n",
        "CREATE TABLE award (\n",
        "  award_id SMALLINT UNSIGNED NOT NULL AUTO_INCREMENT,\n",
        "  actor_award_id SMALLINT UNSIGNED NOT NULL,\n",
        "  award_name VARCHAR(45) NOT NULL,\n",
        "  PRIMARY KEY (award_id),\n",
        "  FOREIGN KEY (actor_award_id) REFERENCES actor_award(actor_award_id)\n",
        ");\n",
        "```\n",
        "\n",
        "---\n",
        "\n",
        "### ✅ Benefits of Normalization:\n",
        "\n",
        "* Adheres to **1NF** by ensuring atomic values.\n",
        "* Allows querying individual awards easily.\n",
        "* Reduces data redundancy and improves scalability.\n",
        "\n",
        "Would you like help writing the data migration queries for this normalization?\n"
      ],
      "metadata": {
        "id": "6dKOp7xOjh1r"
      }
    },
    {
      "cell_type": "markdown",
      "source": [
        "2. Second Normal Form (2NF):\n",
        "\n",
        "a. Choose a table in Sakila and describe how you would determine whether it is in 2NF. If it violates 2NF, explain the steps to normalize it"
      ],
      "metadata": {
        "id": "5XyO-NRmoO7O"
      }
    },
    {
      "cell_type": "markdown",
      "source": [
        "### 🔍 Understanding Second Normal Form (2NF)\n",
        "\n",
        "**Definition Recap:**\n",
        "A table is in **Second Normal Form (2NF)** if:\n",
        "\n",
        "1. It is already in **First Normal Form (1NF)**.\n",
        "2. **Every non-prime attribute is fully functionally dependent** on the **entire primary key**, not just part of it.\n",
        "\n",
        "This means **no partial dependency** is allowed if the table has a **composite primary key**.\n",
        "\n",
        "---\n",
        "\n",
        "### ✅ Example Table to Examine: `film_actor`\n",
        "\n",
        "**Definition:**\n",
        "\n",
        "```sql\n",
        "CREATE TABLE film_actor (\n",
        "  actor_id SMALLINT UNSIGNED NOT NULL,\n",
        "  film_id SMALLINT UNSIGNED NOT NULL,\n",
        "  last_update TIMESTAMP NOT NULL DEFAULT CURRENT_TIMESTAMP ON UPDATE CURRENT_TIMESTAMP,\n",
        "  PRIMARY KEY (actor_id, film_id)\n",
        ");\n",
        "```\n",
        "\n",
        "* **Primary Key:** `(actor_id, film_id)`\n",
        "* **Non-prime attribute:** `last_update`\n",
        "\n",
        "---\n",
        "\n",
        "### 🧠 Is It in 2NF?\n",
        "\n",
        "Let's evaluate `last_update`:\n",
        "\n",
        "* Does `last_update` depend **only on actor\\_id** or **film\\_id**?\n",
        "  ❌ No — it depends on the **whole combination** of `(actor_id, film_id)`.\n",
        "* Is there **any partial dependency**?\n",
        "  ✅ No — all non-key attributes depend on the full key.\n",
        "\n",
        "✅ Therefore, **`film_actor` is already in 2NF**.\n",
        "\n",
        "---\n",
        "\n",
        "### 🚫 Let's Find a Table That Violates 2NF: `actor_award`\n",
        "\n",
        "**Definition (again):**\n",
        "\n",
        "```sql\n",
        "CREATE TABLE actor_award (\n",
        "  actor_award_id SMALLINT UNSIGNED NOT NULL AUTO_INCREMENT,\n",
        "  actor_id SMALLINT,\n",
        "  first_name VARCHAR(45) NOT NULL,\n",
        "  last_name VARCHAR(45) NOT NULL,\n",
        "  awards VARCHAR(45) NOT NULL,\n",
        "  last_update TIMESTAMP NOT NULL DEFAULT CURRENT_TIMESTAMP ON UPDATE CURRENT_TIMESTAMP,\n",
        "  PRIMARY KEY (actor_award_id)\n",
        ");\n",
        "```\n",
        "\n",
        "Although it has a single-column primary key (`actor_award_id`), there's redundancy:\n",
        "\n",
        "* `first_name` and `last_name` are **repeated** despite already being present in the `actor` table.\n",
        "* These values are **dependent on `actor_id`**, not on the whole primary key (`actor_award_id`).\n",
        "\n",
        "### 🔍 Why This Is a 2NF Violation:\n",
        "\n",
        "* `first_name` and `last_name` are **partially dependent** on `actor_id`, not on the full key (`actor_award_id`).\n",
        "* This is **data duplication** and violates **2NF**.\n",
        "\n",
        "---\n",
        "\n",
        "### ✅ Steps to Normalize to 2NF:\n",
        "\n",
        "#### a. **Keep `actor_award` minimal:**\n",
        "\n",
        "```sql\n",
        "CREATE TABLE actor_award (\n",
        "  actor_award_id SMALLINT UNSIGNED NOT NULL AUTO_INCREMENT,\n",
        "  actor_id SMALLINT UNSIGNED NOT NULL,\n",
        "  last_update TIMESTAMP NOT NULL DEFAULT CURRENT_TIMESTAMP ON UPDATE CURRENT_TIMESTAMP,\n",
        "  PRIMARY KEY (actor_award_id),\n",
        "  FOREIGN KEY (actor_id) REFERENCES actor(actor_id)\n",
        ");\n",
        "```\n",
        "\n",
        "#### b. **Move actor name info to `actor` table** (already exists):\n",
        "\n",
        "```sql\n",
        "-- Already defined:\n",
        "CREATE TABLE actor (\n",
        "  actor_id SMALLINT UNSIGNED NOT NULL AUTO_INCREMENT,\n",
        "  first_name VARCHAR(45) NOT NULL,\n",
        "  last_name VARCHAR(45) NOT NULL,\n",
        "  ...\n",
        ");\n",
        "```\n",
        "\n",
        "#### c. **(Optional) Normalize `awards` to a new table (as per 1NF):**\n",
        "\n",
        "```sql\n",
        "CREATE TABLE award (\n",
        "  award_id SMALLINT UNSIGNED NOT NULL AUTO_INCREMENT,\n",
        "  actor_award_id SMALLINT UNSIGNED NOT NULL,\n",
        "  award_name VARCHAR(45) NOT NULL,\n",
        "  PRIMARY KEY (award_id),\n",
        "  FOREIGN KEY (actor_award_id) REFERENCES actor_award(actor_award_id)\n",
        ");\n",
        "```\n",
        "\n",
        "---\n",
        "\n",
        "### ✅ Benefits of 2NF Normalization:\n",
        "\n",
        "* Eliminates **partial dependencies**.\n",
        "* Avoids **redundancy** (e.g., repeating names).\n",
        "* Enhances **data consistency and integrity**.\n",
        "\n"
      ],
      "metadata": {
        "id": "UptKk6dkoO3L"
      }
    },
    {
      "cell_type": "markdown",
      "source": [
        "3. Third Normal Form (3NF):\n",
        "\n",
        "a. Identify a table in Sakila that violates 3NF. Describe the transitive dependencies present and outline the steps to normalize the table to 3NF.\n"
      ],
      "metadata": {
        "id": "jCVyCohpoOzR"
      }
    },
    {
      "cell_type": "markdown",
      "source": [
        "### 🔍 Understanding Third Normal Form (3NF)\n",
        "\n",
        "**Definition Recap:**\n",
        "A table is in **Third Normal Form (3NF)** if:\n",
        "\n",
        "1. It is in **Second Normal Form (2NF)**.\n",
        "2. **No transitive dependencies** exist — i.e., **non-prime attributes do not depend on other non-prime attributes**.\n",
        "\n",
        "---\n",
        "\n",
        "### ✅ Candidate Table: `customer_list` (a **view**, but can help us illustrate a 3NF violation if implemented as a table)\n",
        "\n",
        "Let’s look at the `customer_list` view:\n",
        "\n",
        "```sql\n",
        "CREATE VIEW customer_list AS\n",
        "SELECT\n",
        "    cu.customer_id AS ID,\n",
        "    CONCAT(cu.first_name, ' ', cu.last_name) AS name,\n",
        "    a.address AS address,\n",
        "    a.postal_code AS `zip code`,\n",
        "    a.phone AS phone,\n",
        "    city.city AS city,\n",
        "    country.country AS country,\n",
        "    IF(cu.active, 'active', '') AS notes,\n",
        "    cu.store_id AS SID\n",
        "FROM customer cu\n",
        "JOIN address a ON cu.address_id = a.address_id\n",
        "JOIN city ON a.city_id = city.city_id\n",
        "JOIN country ON city.country_id = country.country_id;\n",
        "```\n",
        "\n",
        "Let’s assume this view is turned into a table for reporting purposes.\n",
        "\n",
        "---\n",
        "\n",
        "### 🚫 Why This Violates 3NF\n",
        "\n",
        "If implemented as a single table with columns like:\n",
        "\n",
        "| customer\\_id | name | address | city | country | ... |\n",
        "| ------------ | ---- | ------- | ---- | ------- | --- |\n",
        "\n",
        "We can observe **transitive dependencies**:\n",
        "\n",
        "* `country` depends on `city`\n",
        "* `city` depends on `address_id` (via address)\n",
        "* Thus, `country` depends on `address_id` **through** `city` ⇒ **transitive dependency**\n",
        "\n",
        "This breaks 3NF because:\n",
        "\n",
        "* `country` is **not directly dependent** on the primary key (`customer_id`)\n",
        "* Instead, it depends on another non-key attribute (`city`)\n",
        "\n",
        "---\n",
        "\n",
        "### ✅ How to Normalize to 3NF\n",
        "\n",
        "Break the table into smaller, logically distinct tables:\n",
        "\n",
        "#### 1. `customer` (already exists)\n",
        "\n",
        "```sql\n",
        "CREATE TABLE customer (\n",
        "  customer_id SMALLINT UNSIGNED PRIMARY KEY,\n",
        "  store_id TINYINT UNSIGNED NOT NULL,\n",
        "  first_name VARCHAR(45),\n",
        "  last_name VARCHAR(45),\n",
        "  email VARCHAR(50),\n",
        "  address_id SMALLINT UNSIGNED NOT NULL,\n",
        "  ...\n",
        ");\n",
        "```\n",
        "\n",
        "#### 2. `address` (already exists)\n",
        "\n",
        "```sql\n",
        "CREATE TABLE address (\n",
        "  address_id SMALLINT UNSIGNED PRIMARY KEY,\n",
        "  address VARCHAR(50),\n",
        "  city_id SMALLINT UNSIGNED NOT NULL,\n",
        "  ...\n",
        ");\n",
        "```\n",
        "\n",
        "#### 3. `city` (already exists)\n",
        "\n",
        "```sql\n",
        "CREATE TABLE city (\n",
        "  city_id SMALLINT UNSIGNED PRIMARY KEY,\n",
        "  city VARCHAR(50),\n",
        "  country_id SMALLINT UNSIGNED NOT NULL,\n",
        "  ...\n",
        ");\n",
        "```\n",
        "\n",
        "#### 4. `country` (already exists)\n",
        "\n",
        "```sql\n",
        "CREATE TABLE country (\n",
        "  country_id SMALLINT UNSIGNED PRIMARY KEY,\n",
        "  country VARCHAR(50)\n",
        ");\n",
        "```\n",
        "\n",
        "---\n",
        "\n",
        "### 🧠 Key Dependencies (in Normalized Form):\n",
        "\n",
        "* `customer_id` → `address_id`\n",
        "* `address_id` → `city_id`\n",
        "* `city_id` → `country_id`\n",
        "  → All dependencies are now **direct** and well-defined in separate tables.\n",
        "\n",
        "---\n",
        "\n",
        "### ✅ Benefits of 3NF Normalization:\n",
        "\n",
        "* Removes **transitive dependencies**\n",
        "* Prevents **anomalies** during insert/update/delete\n",
        "* Encourages **modularity and clarity** in database design\n",
        "\n"
      ],
      "metadata": {
        "id": "CONkzrfFknri"
      }
    },
    {
      "cell_type": "markdown",
      "source": [
        "4. Normalization Process:\n",
        "\n",
        "a. Take a specific table in Sakila and guide through the process of normalizing it from the initial unnormalized form up to at least 2NF.\n"
      ],
      "metadata": {
        "id": "NLTJrAvkk8yI"
      }
    },
    {
      "cell_type": "markdown",
      "source": [
        "### 🔍 4. Normalization Process in Sakila — From Unnormalized to 2NF\n",
        "\n",
        "Let’s walk through the normalization process using a **custom unnormalized version of the `customer` table** (a simplified, hypothetical version to show all key steps).\n",
        "\n",
        "---\n",
        "\n",
        "### 🔧 **Step 1: Unnormalized Form (UNF)**\n",
        "\n",
        "Suppose we have a table like this:\n",
        "\n",
        "#### ❌ Unnormalized Table: `raw_customer_data`\n",
        "\n",
        "| customer\\_id | full\\_name | address               | city     | country | phone    |\n",
        "| ------------ | ---------- | --------------------- | -------- | ------- | -------- |\n",
        "| 1            | John Smith | 123 Main St, Apt 4B   | New York | USA     | 555-1234 |\n",
        "| 2            | Jane Doe   | 987 Elm St, Suite 101 | Toronto  | Canada  | 555-5678 |\n",
        "| 3            | Mary Brown | 123 Main St, Apt 4B   | New York | USA     | 555-1234 |\n",
        "\n",
        "#### 🚫 Issues:\n",
        "\n",
        "* `full_name` combines first and last name — **not atomic**\n",
        "* `address` is a single string combining street, unit, etc.\n",
        "* City and country are repeated — **data redundancy**\n",
        "* No clear primary or foreign keys — violates normalization principles\n",
        "\n",
        "---\n",
        "\n",
        "### ✅ Step 2: First Normal Form (1NF)\n",
        "\n",
        "**Goal:** Make all fields atomic and eliminate repeating groups.\n",
        "\n",
        "#### ✅ 1NF Table: `customer_1nf`\n",
        "\n",
        "| customer\\_id | first\\_name | last\\_name | street\\_address       | city     | country | phone    |\n",
        "| ------------ | ----------- | ---------- | --------------------- | -------- | ------- | -------- |\n",
        "| 1            | John        | Smith      | 123 Main St, Apt 4B   | New York | USA     | 555-1234 |\n",
        "| 2            | Jane        | Doe        | 987 Elm St, Suite 101 | Toronto  | Canada  | 555-5678 |\n",
        "| 3            | Mary        | Brown      | 123 Main St, Apt 4B   | New York | USA     | 555-1234 |\n",
        "\n",
        "✅ Now:\n",
        "\n",
        "* Each field is **atomic**\n",
        "* Repeating groups removed\n",
        "* But we still have **data redundancy** in `city` and `country`\n",
        "\n",
        "---\n",
        "\n",
        "### ✅ Step 3: Second Normal Form (2NF)\n",
        "\n",
        "**Goal:** Eliminate **partial dependencies** (where non-key attributes depend only on part of a composite key).\n",
        "\n",
        "While this table doesn’t have a composite key, we can still improve by removing **redundant hierarchical data** like city and country.\n",
        "\n",
        "---\n",
        "\n",
        "### ➤ Create related tables:\n",
        "\n",
        "#### a. `country`\n",
        "\n",
        "```sql\n",
        "| country_id | country   |\n",
        "|------------|-----------|\n",
        "| 1          | USA       |\n",
        "| 2          | Canada    |\n",
        "```\n",
        "\n",
        "#### b. `city`\n",
        "\n",
        "```sql\n",
        "| city_id | city      | country_id |\n",
        "|---------|-----------|------------|\n",
        "| 1       | New York  | 1          |\n",
        "| 2       | Toronto   | 2          |\n",
        "```\n",
        "\n",
        "#### c. `address`\n",
        "\n",
        "```sql\n",
        "| address_id | street_address         | city_id | phone     |\n",
        "|------------|------------------------|---------|-----------|\n",
        "| 1          | 123 Main St, Apt 4B    | 1       | 555-1234  |\n",
        "| 2          | 987 Elm St, Suite 101  | 2       | 555-5678  |\n",
        "```\n",
        "\n",
        "#### d. `customer`\n",
        "\n",
        "```sql\n",
        "| customer_id | first_name | last_name | address_id |\n",
        "|-------------|------------|-----------|------------|\n",
        "| 1           | John       | Smith     | 1          |\n",
        "| 2           | Jane       | Doe       | 2          |\n",
        "| 3           | Mary       | Brown     | 1          |\n",
        "```\n",
        "\n",
        "---\n",
        "\n",
        "### ✅ Final Notes:\n",
        "\n",
        "* All tables now meet **2NF**:\n",
        "\n",
        "  * No partial dependencies\n",
        "  * Each non-key attribute depends **entirely** on the primary key of its table\n",
        "* Redundancy (e.g., New York/USA) is **removed**\n",
        "* Easier maintenance: update city/country **in one place**\n",
        "\n"
      ],
      "metadata": {
        "id": "wlkb99AGk8rg"
      }
    },
    {
      "cell_type": "markdown",
      "source": [
        "\n",
        "5. CTE Basics:\n",
        "\n",
        "a. Write a query using a CTE to retrieve the distinct list of actor names and the number of films they have acted in from the actor and film actor tables.\n"
      ],
      "metadata": {
        "id": "e9UOPCptk8nK"
      }
    },
    {
      "cell_type": "markdown",
      "source": [
        "Certainly! Here's a query using a **Common Table Expression (CTE)** to retrieve a **distinct list of actor names** and the **number of films** they have acted in, using the `actor` and `film_actor` tables from the Sakila database:\n",
        "\n",
        "---\n",
        "\n",
        "### ✅ CTE Query:\n",
        "\n",
        "```sql\n",
        "WITH actor_film_count AS (\n",
        "    SELECT\n",
        "        a.actor_id,\n",
        "        CONCAT(a.first_name, ' ', a.last_name) AS actor_name,\n",
        "        COUNT(fa.film_id) AS film_count\n",
        "    FROM actor a\n",
        "    JOIN film_actor fa ON a.actor_id = fa.actor_id\n",
        "    GROUP BY a.actor_id, a.first_name, a.last_name\n",
        ")\n",
        "SELECT *\n",
        "FROM actor_film_count\n",
        "ORDER BY film_count DESC;\n",
        "```\n",
        "\n",
        "---\n",
        "\n",
        "### 🔍 Explanation:\n",
        "\n",
        "* **CTE Name:** `actor_film_count`\n",
        "* **Joins:** `actor` with `film_actor` on `actor_id`\n",
        "* **Aggregation:** `COUNT(fa.film_id)` gives the number of films per actor\n",
        "* **Final Select:** returns the full list ordered by the number of films (descending)\n",
        "\n"
      ],
      "metadata": {
        "id": "JJgepcfCk8hR"
      }
    },
    {
      "cell_type": "markdown",
      "source": [
        "6. CTE with Joins:\n",
        "\n",
        "a. Create a CTE that combines information from the film and language tables to display the film title, language name, and rental rate.\n"
      ],
      "metadata": {
        "id": "4srrUWPzk8bp"
      }
    },
    {
      "cell_type": "markdown",
      "source": [
        "Certainly! Here's a SQL query using a **CTE with a JOIN** between the `film` and `language` tables to retrieve the **film title**, **language name**, and **rental rate**.\n",
        "\n",
        "---\n",
        "\n",
        "### ✅ CTE with JOIN Query:\n",
        "\n",
        "```sql\n",
        "WITH film_language_cte AS (\n",
        "    SELECT\n",
        "        f.film_id,\n",
        "        f.title AS film_title,\n",
        "        l.name AS language_name,\n",
        "        f.rental_rate\n",
        "    FROM film f\n",
        "    JOIN language l ON f.language_id = l.language_id\n",
        ")\n",
        "SELECT *\n",
        "FROM film_language_cte\n",
        "ORDER BY film_title;\n",
        "```\n",
        "\n",
        "---\n",
        "\n",
        "### 🔍 Explanation:\n",
        "\n",
        "* **CTE Name:** `film_language_cte`\n",
        "* **Tables Involved:**\n",
        "\n",
        "  * `film` provides `title` and `rental_rate`\n",
        "  * `language` provides the `language name`\n",
        "* **Join Condition:** `film.language_id = language.language_id`\n",
        "* **Final Output:** Sorted by film title\n",
        "\n"
      ],
      "metadata": {
        "id": "iNMiBXW4k71_"
      }
    },
    {
      "cell_type": "markdown",
      "source": [
        "7. CTE for Aggregation:\n",
        "\n",
        "a. Write a query using a CTE to find the total revenue generated by each customer (sum of payments) from the customer and payment tables.\n"
      ],
      "metadata": {
        "id": "CLxrq3F_knuo"
      }
    },
    {
      "cell_type": "markdown",
      "source": [
        "Certainly! Here's a SQL query using a **CTE (Common Table Expression)** to calculate the **total revenue generated by each customer** based on data from the `customer` and `payment` tables:\n",
        "\n",
        "---\n",
        "\n",
        "### ✅ CTE for Aggregation Query:\n",
        "\n",
        "```sql\n",
        "WITH customer_revenue AS (\n",
        "    SELECT\n",
        "        c.customer_id,\n",
        "        CONCAT(c.first_name, ' ', c.last_name) AS customer_name,\n",
        "        SUM(p.amount) AS total_revenue\n",
        "    FROM customer c\n",
        "    JOIN payment p ON c.customer_id = p.customer_id\n",
        "    GROUP BY c.customer_id, c.first_name, c.last_name\n",
        ")\n",
        "SELECT *\n",
        "FROM customer_revenue\n",
        "ORDER BY total_revenue DESC;\n",
        "```\n",
        "\n",
        "---\n",
        "\n",
        "### 🔍 Explanation:\n",
        "\n",
        "* **CTE Name:** `customer_revenue`\n",
        "* **Join:** `customer` joined with `payment` on `customer_id`\n",
        "* **Aggregation:** `SUM(p.amount)` computes total revenue per customer\n",
        "* **Grouping:** by customer ID and name\n",
        "* **Final Output:** shows each customer’s total revenue, ordered highest to lowest\n",
        "\n"
      ],
      "metadata": {
        "id": "sMKIYAACl2iU"
      }
    },
    {
      "cell_type": "markdown",
      "source": [
        "8. CTE with Window Functions:\n",
        "\n",
        "a. Utilize a CTE with a window function to rank films based on their rental duration from the film table"
      ],
      "metadata": {
        "id": "LsHgynn6l2d5"
      }
    },
    {
      "cell_type": "markdown",
      "source": [
        "Certainly! Below is a SQL query using a **CTE with a window function** to **rank films by their rental duration**, using the `film` table from the Sakila database.\n",
        "\n",
        "---\n",
        "\n",
        "### ✅ CTE with Window Function Query:\n",
        "\n",
        "```sql\n",
        "WITH ranked_films AS (\n",
        "    SELECT\n",
        "        film_id,\n",
        "        title,\n",
        "        rental_duration,\n",
        "        RANK() OVER (ORDER BY rental_duration DESC) AS rental_duration_rank\n",
        "    FROM film\n",
        ")\n",
        "SELECT *\n",
        "FROM ranked_films\n",
        "ORDER BY rental_duration_rank, title;\n",
        "```\n",
        "\n",
        "---\n",
        "\n",
        "### 🔍 Explanation:\n",
        "\n",
        "* **CTE Name:** `ranked_films`\n",
        "* **Window Function Used:** `RANK() OVER (ORDER BY rental_duration DESC)`\n",
        "\n",
        "  * Assigns the same rank to films with equal rental duration.\n",
        "* **Columns Output:** film ID, title, rental duration, and rank\n",
        "* **Ordering:** by rank (highest duration first), then alphabetically by title\n",
        "\n"
      ],
      "metadata": {
        "id": "E76FKpeil2U9"
      }
    },
    {
      "cell_type": "markdown",
      "source": [
        "9. CTE and Filtering:\n",
        "\n",
        "a. Create a CTE to list customers who have made more than two rentals, and then join this CTE with the customer table to retrieve additional customer details."
      ],
      "metadata": {
        "id": "QH1324Ykl2QC"
      }
    },
    {
      "cell_type": "markdown",
      "source": [
        "Certainly! Here's a SQL query that uses a **CTE** to:\n",
        "\n",
        "1. Identify customers who have made **more than two rentals**,\n",
        "2. Then **join** that CTE with the `customer` table to retrieve additional details like their names and email.\n",
        "\n",
        "---\n",
        "\n",
        "### ✅ CTE with Filtering and Join:\n",
        "\n",
        "```sql\n",
        "WITH frequent_renters AS (\n",
        "    SELECT\n",
        "        customer_id,\n",
        "        COUNT(*) AS rental_count\n",
        "    FROM rental\n",
        "    GROUP BY customer_id\n",
        "    HAVING COUNT(*) > 2\n",
        ")\n",
        "\n",
        "SELECT\n",
        "    c.customer_id,\n",
        "    CONCAT(c.first_name, ' ', c.last_name) AS customer_name,\n",
        "    c.email,\n",
        "    fr.rental_count\n",
        "FROM frequent_renters fr\n",
        "JOIN customer c ON fr.customer_id = c.customer_id\n",
        "ORDER BY fr.rental_count DESC;\n",
        "```\n",
        "\n",
        "---\n",
        "\n",
        "### 🔍 Explanation:\n",
        "\n",
        "* **CTE (`frequent_renters`)**:\n",
        "\n",
        "  * Groups rentals by `customer_id` and filters to those with more than 2.\n",
        "* **Main query**:\n",
        "\n",
        "  * Joins the CTE with the `customer` table to get names and emails.\n",
        "  * Displays customers sorted by how often they rent.\n",
        "\n"
      ],
      "metadata": {
        "id": "FlTqqXuNl2JN"
      }
    },
    {
      "cell_type": "markdown",
      "source": [
        "10. CTE for Date Calculations:\n",
        "\n",
        "a. Write a query using a CTE to find the total number of rentals made each month, considering the rental date from the rental table"
      ],
      "metadata": {
        "id": "tVTHhU3yl2Dz"
      }
    },
    {
      "cell_type": "markdown",
      "source": [
        "Certainly! Here's a SQL query using a **CTE (Common Table Expression)** to calculate the **total number of rentals made each month** from the `rental` table, using the `rental_date` column.\n",
        "\n",
        "---\n",
        "\n",
        "### ✅ CTE for Monthly Rental Count:\n",
        "\n",
        "```sql\n",
        "WITH monthly_rentals AS (\n",
        "    SELECT\n",
        "        DATE_FORMAT(rental_date, '%Y-%m') AS rental_month,\n",
        "        COUNT(*) AS total_rentals\n",
        "    FROM rental\n",
        "    GROUP BY DATE_FORMAT(rental_date, '%Y-%m')\n",
        ")\n",
        "\n",
        "SELECT *\n",
        "FROM monthly_rentals\n",
        "ORDER BY rental_month;\n",
        "```\n",
        "\n",
        "---\n",
        "\n",
        "### 🔍 Explanation:\n",
        "\n",
        "* **CTE Name:** `monthly_rentals`\n",
        "* **`DATE_FORMAT(rental_date, '%Y-%m')`** extracts the year and month (e.g., `'2024-05'`)\n",
        "* **`COUNT(*)`** counts all rentals in each month\n",
        "* **Ordering** ensures months are shown in chronological order\n",
        "\n"
      ],
      "metadata": {
        "id": "p3GssGzIl1_s"
      }
    },
    {
      "cell_type": "markdown",
      "source": [
        "11. CTE and Self-Join:\n",
        "\n",
        "a. Create a CTE to generate a report showing pairs of actors who have appeared in the same film together, using the film_actor table.\n"
      ],
      "metadata": {
        "id": "dnUqJdOGl14o"
      }
    },
    {
      "cell_type": "markdown",
      "source": [
        "Certainly! Here's a SQL query using a **CTE and a self-join** on the `film_actor` table to find **pairs of actors who have appeared in the same film together**.\n",
        "\n",
        "---\n",
        "\n",
        "### ✅ CTE with Self-Join to Find Actor Pairs:\n",
        "\n",
        "```sql\n",
        "WITH actor_pairs AS (\n",
        "    SELECT\n",
        "        fa1.film_id,\n",
        "        fa1.actor_id AS actor1_id,\n",
        "        fa2.actor_id AS actor2_id\n",
        "    FROM film_actor fa1\n",
        "    JOIN film_actor fa2\n",
        "        ON fa1.film_id = fa2.film_id\n",
        "       AND fa1.actor_id < fa2.actor_id  -- avoid duplicates and self-pairs\n",
        ")\n",
        "\n",
        "SELECT\n",
        "    ap.film_id,\n",
        "    CONCAT(a1.first_name, ' ', a1.last_name) AS actor_1,\n",
        "    CONCAT(a2.first_name, ' ', a2.last_name) AS actor_2\n",
        "FROM actor_pairs ap\n",
        "JOIN actor a1 ON ap.actor1_id = a1.actor_id\n",
        "JOIN actor a2 ON ap.actor2_id = a2.actor_id\n",
        "ORDER BY ap.film_id, actor_1, actor_2;\n",
        "```\n",
        "\n",
        "---\n",
        "\n",
        "### 🔍 Explanation:\n",
        "\n",
        "* **CTE Name:** `actor_pairs`\n",
        "\n",
        "  * Self-joins `film_actor` to pair up actors in the same `film_id`\n",
        "  * `fa1.actor_id < fa2.actor_id` avoids duplicate pairs (e.g., both `(A,B)` and `(B,A)`)\n",
        "* **Final SELECT:**\n",
        "\n",
        "  * Joins with `actor` table to get full actor names\n",
        "  * Lists each actor pair along with the film they co-starred in\n",
        "\n"
      ],
      "metadata": {
        "id": "mniR3Y0El1z3"
      }
    },
    {
      "cell_type": "markdown",
      "source": [
        "12. CTE for Recursive Search:\n",
        "\n",
        "a. Implement a recursive CTE to find all employees in the staff table who report to a specific manager, considering the reports_to column.\n"
      ],
      "metadata": {
        "id": "k_INrdzWl1vZ"
      }
    },
    {
      "cell_type": "markdown",
      "source": [
        "To find all employees in the `staff` table who report (directly or indirectly) to a specific manager using a recursive Common Table Expression (CTE), we need to assume there is a `reports_to` column in the `staff` table. However, based on your provided schema, **the `staff` table does not contain a `reports_to` column**.\n",
        "\n",
        "But, since the `store` table has a `manager_staff_id` which refers to the `staff_id`, we can simulate a reporting hierarchy if such a structure is assumed to exist.\n",
        "\n",
        "For the purpose of this task, **let’s assume** the `staff` table has the following additional column (even though it's not defined in your schema):\n",
        "\n",
        "```sql\n",
        "ALTER TABLE staff ADD COLUMN reports_to TINYINT UNSIGNED;\n",
        "```\n",
        "\n",
        "Now, here's how you can implement a recursive CTE to find all subordinates under a specific manager:\n",
        "\n",
        "### ✅ Recursive CTE Query:\n",
        "\n",
        "```sql\n",
        "WITH RECURSIVE staff_hierarchy AS (\n",
        "    -- Anchor member: start with the specified manager\n",
        "    SELECT staff_id, first_name, last_name, reports_to\n",
        "    FROM staff\n",
        "    WHERE staff_id = @manager_id\n",
        "\n",
        "    UNION ALL\n",
        "\n",
        "    -- Recursive member: find staff reporting to those already found\n",
        "    SELECT s.staff_id, s.first_name, s.last_name, s.reports_to\n",
        "    FROM staff s\n",
        "    INNER JOIN staff_hierarchy sh ON s.reports_to = sh.staff_id\n",
        ")\n",
        "SELECT * FROM staff_hierarchy\n",
        "WHERE staff_id != @manager_id;  -- exclude the root manager if desired\n",
        "```\n",
        "\n",
        "### ℹ️ How to Use:\n",
        "\n",
        "Set your desired manager ID before running the query:\n",
        "\n",
        "```sql\n",
        "SET @manager_id = 1;  -- Replace with the actual manager's staff_id\n",
        "```"
      ],
      "metadata": {
        "id": "1fFqPhPKl1nG"
      }
    }
  ]
}