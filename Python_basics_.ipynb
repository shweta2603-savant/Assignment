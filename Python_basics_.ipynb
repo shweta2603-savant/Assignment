{
  "nbformat": 4,
  "nbformat_minor": 0,
  "metadata": {
    "colab": {
      "provenance": []
    },
    "kernelspec": {
      "name": "python3",
      "display_name": "Python 3"
    },
    "language_info": {
      "name": "python"
    }
  },
  "cells": [
    {
      "cell_type": "markdown",
      "source": [
        "1.Explain the key features of python that make it a popular choice for\n",
        "  programming.\n",
        "\n",
        "\n",
        "Python is high level,interpreted,interactive and object oriented programming language.\n",
        "\n",
        "Python is popular programming language beacause of it provides more realibility of code ,support object oriented programming,large standard library,easy to read and learn ,support GUI mode,interactuve,versatile and interpreted,interfaces to all major commercial databases.\n",
        "\n"
      ],
      "metadata": {
        "id": "jNX0ucnuvcNO"
      }
    },
    {
      "cell_type": "markdown",
      "source": [
        "2.Describe the role of predefined keywords in python and provide examples of how they are used in a program.\n",
        "\n",
        "Keywords are used to define the sytax of the coding.The keyword cannot used as an identifier,function or variable name.All the keywords in python are written in lowercase expect True and False.\n",
        "\n",
        "\n",
        "\n"
      ],
      "metadata": {
        "id": "HhgnbxUeyuuX"
      }
    },
    {
      "cell_type": "markdown",
      "source": [
        "Example:-\n"
      ],
      "metadata": {
        "id": "bu-QJM9xypk8"
      }
    },
    {
      "cell_type": "code",
      "source": [
        "import keyword\n",
        "print(keyword.kwlist)"
      ],
      "metadata": {
        "colab": {
          "base_uri": "https://localhost:8080/"
        },
        "id": "t84LwL5v2qNl",
        "outputId": "0a2d25b3-68e0-452a-f9cf-c0b6a828c5f7"
      },
      "execution_count": 1,
      "outputs": [
        {
          "output_type": "stream",
          "name": "stdout",
          "text": [
            "['False', 'None', 'True', 'and', 'as', 'assert', 'async', 'await', 'break', 'class', 'continue', 'def', 'del', 'elif', 'else', 'except', 'finally', 'for', 'from', 'global', 'if', 'import', 'in', 'is', 'lambda', 'nonlocal', 'not', 'or', 'pass', 'raise', 'return', 'try', 'while', 'with', 'yield']\n"
          ]
        }
      ]
    },
    {
      "cell_type": "markdown",
      "source": [],
      "metadata": {
        "id": "SCy8JSBdylqh"
      }
    },
    {
      "cell_type": "markdown",
      "source": [
        "3.Compare the contrast mutable and immutable objects in Python with examples.\n",
        "\n",
        "A mutable object is one whose values can be changed.\n",
        "\n",
        "ex:-List,Dictionaries and Sets.\n",
        "\n",
        "A immutable object is one which the values cannot be changed or altered.\n",
        "\n",
        "ex:-String and Tuples.\n"
      ],
      "metadata": {
        "id": "4CoMgeuc339o"
      }
    },
    {
      "cell_type": "markdown",
      "source": [
        "4.Discuss the different types of operators in Python and provide examples of how they are used.\n",
        "\n",
        "a)Arithematic Operator:-\n",
        "Python arthematic opertions are used to perform basic mathematical opertions like addition,subtraction,multiplication,division,modulus,floor division and exponential operators\n",
        "\n",
        "Operators are the special symbols.\n",
        "Example: +,-,*,/,**,%,//\n",
        "\n",
        "\n"
      ],
      "metadata": {
        "id": "taBbnEYX7oQe"
      }
    },
    {
      "cell_type": "code",
      "source": [
        "print(2+5)\n",
        "print(2-5)\n",
        "print(2*5)\n",
        "print(2/5)\n",
        "print(2**5)\n",
        "print(2%5)\n",
        "print(2//5)"
      ],
      "metadata": {
        "colab": {
          "base_uri": "https://localhost:8080/"
        },
        "id": "5MjRWdb7E4yd",
        "outputId": "76a60d94-5625-4cde-835d-8037c513a87c"
      },
      "execution_count": 10,
      "outputs": [
        {
          "output_type": "stream",
          "name": "stdout",
          "text": [
            "7\n",
            "-3\n",
            "10\n",
            "0.4\n",
            "32\n",
            "2\n",
            "0\n"
          ]
        }
      ]
    },
    {
      "cell_type": "markdown",
      "source": [
        "b)Comparison Operators:-Comparison operator in Python programming are binary operators and used to compare boolean value either True or False.\n",
        "\n",
        "== Equal operator: If the value of two operands are equal ,then the condition are true.\n",
        "\n",
        "!= Not equality operator:- If values are two operands are not equal,then condition becomes true.\n",
        "\n",
        ">  Greater than operator:- If the value of left operands is greater than the value of right operand,then conditon become a true.\n",
        "\n",
        "<  Less than operator:-If the value of left operand is less than the value of right operand ,then condition become a true.\n",
        "\n",
        ">= Greater than equal to operator:-If  the value of left operand is greater than or equal to the right operand, then condition become a true.\n",
        "\n",
        "<= Less than equal to operator:- If the value of left operand is less than or equal to the right operand,then condition becomes true.\n",
        "\n"
      ],
      "metadata": {
        "id": "LN13zH5uFvBg"
      }
    },
    {
      "cell_type": "code",
      "source": [
        "x=2\n",
        "y=5\n",
        "print(x==y)\n",
        "print(x!=y)\n",
        "print(x>y)\n",
        "print(x<y)\n",
        "print(x>=y)\n",
        "print(x<=y)"
      ],
      "metadata": {
        "colab": {
          "base_uri": "https://localhost:8080/"
        },
        "id": "WtxFRxluPIHe",
        "outputId": "342e0f2b-8688-42ce-d2ce-545ec434eb88"
      },
      "execution_count": 4,
      "outputs": [
        {
          "output_type": "stream",
          "name": "stdout",
          "text": [
            "False\n",
            "True\n",
            "False\n",
            "True\n",
            "False\n",
            "True\n"
          ]
        }
      ]
    },
    {
      "cell_type": "markdown",
      "source": [
        "c)Logical Operators:-Lofical operators perform logical AND ,logical OR and logical NOT operations.These operations are used to check two or more conditions.The resultant of this operator is always a Boolean value(True or False).\n",
        "\n",
        "AND :- If both the operands are true then condition becomes true.\n",
        "\n",
        "OR  :- If any of the two operands are non zero then condition becomes true.\n",
        "\n",
        "NOT :- Used to reverse the logical state of its operand.\n"
      ],
      "metadata": {
        "id": "C8kLKrElPzBz"
      }
    },
    {
      "cell_type": "code",
      "source": [
        "a=True\n",
        "b=False\n",
        "print(a and b)\n",
        "print(a or b)\n",
        "print(not b)"
      ],
      "metadata": {
        "colab": {
          "base_uri": "https://localhost:8080/"
        },
        "id": "QGIP3cLLSjkF",
        "outputId": "f11c9e75-4228-43ae-e352-666ce1f3e782"
      },
      "execution_count": 5,
      "outputs": [
        {
          "output_type": "stream",
          "name": "stdout",
          "text": [
            "False\n",
            "True\n",
            "True\n"
          ]
        }
      ]
    },
    {
      "cell_type": "markdown",
      "source": [
        "d)Bitwise Operator :-Bitwise operators acts on bits and performs bit by bit operation.Python programming provides the bit manipulation operators to directly operates on the bits or binary numbers directly.\n",
        "\n",
        "& :- This operation performs AND operation between operands.Operator copies a bit, to result,if it exists in both operands.\n",
        "\n",
        "| :- This operation performs OR operation between operands.It copies a bit,if it exists in either operand.\n",
        "\n",
        "^ :- This operation performs XOR operations between operands.It copies a bit,if it is set in one operand but not both.\n",
        "\n",
        "~ :- This is unary operator and has the effect of opposite the bits of operand.\n",
        "\n",
        "<< :- The left operands value is moved left by the number of bits specified by the right operand.\n",
        "\n",
        ">> :- The left operands value is moved right by the number of bits specified by the left operand.\n"
      ],
      "metadata": {
        "id": "aelYyVXoS8tS"
      }
    },
    {
      "cell_type": "code",
      "source": [
        "a=2\n",
        "b=3\n",
        "print(a&b)\n",
        "print(a|b)\n",
        "print(a^b)\n",
        "print(~b)\n",
        "print(a<<b)\n",
        "print(a>>b)"
      ],
      "metadata": {
        "colab": {
          "base_uri": "https://localhost:8080/"
        },
        "id": "37Q9MpDGWLSt",
        "outputId": "bae38b47-613b-4fd4-bdad-86a43d7a6612"
      },
      "execution_count": 6,
      "outputs": [
        {
          "output_type": "stream",
          "name": "stdout",
          "text": [
            "2\n",
            "3\n",
            "1\n",
            "-4\n",
            "16\n",
            "0\n"
          ]
        }
      ]
    },
    {
      "cell_type": "markdown",
      "source": [
        "e)Identify Operator :-Identity operators are used to check whether both operands are equal or not.\n",
        "\n",
        "is:-Return true\n",
        "\n",
        "is not:-Return false"
      ],
      "metadata": {
        "id": "TJOfJLgNWcY_"
      }
    },
    {
      "cell_type": "code",
      "source": [
        "a=5\n",
        "b=5\n",
        "print(a is b)\n",
        "print(a is not b)"
      ],
      "metadata": {
        "colab": {
          "base_uri": "https://localhost:8080/"
        },
        "id": "-5jsk5HVXd0Y",
        "outputId": "b78b407c-2693-4b07-87d1-61acd22d2f24"
      },
      "execution_count": 8,
      "outputs": [
        {
          "output_type": "stream",
          "name": "stdout",
          "text": [
            "True\n",
            "False\n"
          ]
        }
      ]
    },
    {
      "cell_type": "markdown",
      "source": [
        "f)Membership Operators:-Membership opertors are used to check an element that is part of string,a list or a tuple.\n",
        "\n",
        "in :- If values inside a sequence then it's a true.\n",
        "\n",
        "not in :- If values is not inside a sequence then it's a false.\n"
      ],
      "metadata": {
        "id": "3REa2wEOX5YN"
      }
    },
    {
      "cell_type": "code",
      "source": [
        "a=[1,2,3,4,5]\n",
        "print(2 in a)\n",
        "print(2 not in a)"
      ],
      "metadata": {
        "colab": {
          "base_uri": "https://localhost:8080/"
        },
        "id": "xg8BHt8IY5fv",
        "outputId": "6516d5fc-e56f-4c50-91cf-6a8d00bbced8"
      },
      "execution_count": 9,
      "outputs": [
        {
          "output_type": "stream",
          "name": "stdout",
          "text": [
            "True\n",
            "False\n"
          ]
        }
      ]
    },
    {
      "cell_type": "markdown",
      "source": [
        "5)Explain the concept of type casting in Python with examples.\n",
        "\n",
        "a.Implicit :-Its converts the datatype into another datatype automatically.\n"
      ],
      "metadata": {
        "id": "WVASZahVZL3H"
      }
    },
    {
      "cell_type": "code",
      "source": [
        "a=2.0\n",
        "b=5\n",
        "c=a+b\n",
        "print(c)\n",
        "print(type(c))"
      ],
      "metadata": {
        "colab": {
          "base_uri": "https://localhost:8080/"
        },
        "id": "PGaHxWBKbnOK",
        "outputId": "1ee34903-7d9b-448c-f1e8-b98cdc676db7"
      },
      "execution_count": 13,
      "outputs": [
        {
          "output_type": "stream",
          "name": "stdout",
          "text": [
            "7.0\n",
            "<class 'float'>\n"
          ]
        }
      ]
    },
    {
      "cell_type": "markdown",
      "source": [
        "b.Explicit:-In explicit type conversion users convert the data type of an object to required data type."
      ],
      "metadata": {
        "id": "VHMdicNlcGWz"
      }
    },
    {
      "cell_type": "code",
      "source": [
        "a=2\n",
        "b=str(a)\n",
        "print(type(b))"
      ],
      "metadata": {
        "colab": {
          "base_uri": "https://localhost:8080/"
        },
        "id": "Xm5hnfJDc9H0",
        "outputId": "6257e65c-fb45-424a-a5c7-6d60e2b66440"
      },
      "execution_count": 14,
      "outputs": [
        {
          "output_type": "stream",
          "name": "stdout",
          "text": [
            "<class 'str'>\n"
          ]
        }
      ]
    },
    {
      "cell_type": "markdown",
      "source": [
        "6) How do conditonal statements work in Python?Illustrate with examples.\n",
        "\n",
        "  In Python ,conditional statements used to determine if a specific condition is met by testing whether a condition is true or false.\n",
        "\n",
        "  If else statement :- Executes the code under the if condition if it's true and the code under the else condition if it's false.\n",
        "\n"
      ],
      "metadata": {
        "id": "N4lhPW5AdGv8"
      }
    },
    {
      "cell_type": "code",
      "source": [
        "i=10\n",
        "if(i>15):\n",
        "  print(\"i is less than 15\")\n",
        "else:\n",
        "  print(\"i is greater than 15\")"
      ],
      "metadata": {
        "colab": {
          "base_uri": "https://localhost:8080/"
        },
        "id": "pny8t83Ee13G",
        "outputId": "2ec42f25-9da1-4f17-d91c-083ce3401c2e"
      },
      "execution_count": 18,
      "outputs": [
        {
          "output_type": "stream",
          "name": "stdout",
          "text": [
            "i is greater than 15\n"
          ]
        }
      ]
    },
    {
      "cell_type": "markdown",
      "source": [
        "if elif else statement :- The elif is short for else if.It allows us to check for multiple conditions,the if statement are executed from the top down."
      ],
      "metadata": {
        "id": "SRiMgcGig8xs"
      }
    },
    {
      "cell_type": "code",
      "source": [
        "i=20\n",
        "if(i==10):\n",
        "  print(\"i is 10\")\n",
        "elif(i==15):\n",
        "  print(\"i is 15\")\n",
        "else:\n",
        "  print(\"i is not present\")\n",
        "\n"
      ],
      "metadata": {
        "colab": {
          "base_uri": "https://localhost:8080/"
        },
        "id": "-bbeAFrEiHc3",
        "outputId": "c7f0c1a6-f5f0-47ed-ca70-71987ca6ae15"
      },
      "execution_count": 21,
      "outputs": [
        {
          "output_type": "stream",
          "name": "stdout",
          "text": [
            "i is not present\n"
          ]
        }
      ]
    },
    {
      "cell_type": "markdown",
      "source": [
        "7)Describe the different types of loops in Python and their use cases with examples.\n",
        "\n",
        "While loops:-The while loop is used to execute a set of statements as long as a condition is true.\n"
      ],
      "metadata": {
        "id": "eLGI0i3fihS6"
      }
    },
    {
      "cell_type": "code",
      "source": [
        "x=2\n",
        "while(x<5):\n",
        "  print(x)\n",
        "  x=x+1"
      ],
      "metadata": {
        "colab": {
          "base_uri": "https://localhost:8080/"
        },
        "id": "rH7tG44djqV8",
        "outputId": "e3fd3066-dd75-4b23-e3e2-fe71a66677a5"
      },
      "execution_count": 22,
      "outputs": [
        {
          "output_type": "stream",
          "name": "stdout",
          "text": [
            "2\n",
            "3\n",
            "4\n"
          ]
        }
      ]
    },
    {
      "cell_type": "markdown",
      "source": [
        "For loops:-A for loop in python is used to iterate over a sequence like list,tuple,set,dictionary and string.\n"
      ],
      "metadata": {
        "id": "hgxoNwGkj6ag"
      }
    },
    {
      "cell_type": "code",
      "source": [
        "list=[1,2,3,4,5]\n",
        "for i in list:\n",
        "  print(i)"
      ],
      "metadata": {
        "colab": {
          "base_uri": "https://localhost:8080/"
        },
        "id": "bfIPoXzUkjym",
        "outputId": "a14941b4-d4d1-41b4-d538-325778d8685a"
      },
      "execution_count": 23,
      "outputs": [
        {
          "output_type": "stream",
          "name": "stdout",
          "text": [
            "1\n",
            "2\n",
            "3\n",
            "4\n",
            "5\n"
          ]
        }
      ]
    },
    {
      "cell_type": "markdown",
      "source": [
        "Nested loop :-:If a loop exits inside the body of another loop,it is called a nested loop."
      ],
      "metadata": {
        "id": "JCj8wlknkzyo"
      }
    },
    {
      "cell_type": "code",
      "source": [
        "x = [\"java,python\"]\n",
        "num = [1,2]\n",
        "for i in x:\n",
        " for j in num:\n",
        "    print(i,j)\n",
        ""
      ],
      "metadata": {
        "colab": {
          "base_uri": "https://localhost:8080/"
        },
        "id": "IGQMKDqQlGFB",
        "outputId": "3d514f20-3f45-46a4-deb1-2dcead38333e"
      },
      "execution_count": 28,
      "outputs": [
        {
          "output_type": "stream",
          "name": "stdout",
          "text": [
            "java,python 1\n",
            "java,python 2\n"
          ]
        }
      ]
    }
  ]
}